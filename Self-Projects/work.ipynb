{
 "cells": [
  {
   "cell_type": "code",
   "execution_count": null,
   "metadata": {},
   "outputs": [],
   "source": [
    "import pandas as pd\n",
    "\n",
    "# Sample DataFrame\n",
    "data = {\n",
    "    'desk': ['A', 'A', 'B', 'B', 'C', 'C'],\n",
    "    'order_type': ['X', 'X', 'X', 'X', 'X', 'X'],\n",
    "    'client': ['Client1', 'Client1', 'Client1', 'Client1', 'Client1', 'Client2'],\n",
    "    'target': [0, 1, 0, 1, 1, 0]\n",
    "}\n",
    "\n",
    "df = pd.DataFrame(data)\n",
    "\n",
    "# Step 1: Group by 'order_type' and 'client' to identify differences in delay outcomes across desks\n",
    "grouped = df.groupby(['order_type', 'client']).filter(lambda x: x['target'].nunique() > 1)\n",
    "\n",
    "# Step 2: Filter those records where there's at least one delay (1) and one no-delay (0) for the same 'order_type' and 'client'\n",
    "mixed_outcome = grouped.groupby(['order_type', 'client', 'desk']).filter(lambda x: x['target'].nunique() > 0)\n",
    "\n",
    "# Step 3: Identify which desks are responsible for delays\n",
    "delay_desks = mixed_outcome[mixed_outcome['target'] == 1]\n",
    "\n",
    "# Output the results\n",
    "print(\"Desks responsible for delays on the same order type and client:\")\n",
    "print(delay_desks[['order_type', 'client', 'desk']].drop_duplicates())\n"
   ]
  }
 ],
 "metadata": {
  "language_info": {
   "name": "python"
  }
 },
 "nbformat": 4,
 "nbformat_minor": 2
}
