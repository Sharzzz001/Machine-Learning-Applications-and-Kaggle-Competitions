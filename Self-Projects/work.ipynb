{
 "cells": [
  {
   "cell_type": "code",
   "execution_count": null,
   "metadata": {},
   "outputs": [],
   "source": [
    "grouped_by_product = df.groupby('Product Type')\n",
    "df['Delay'] = (df['Target'] == 0).astype(int)\n",
    "trader_delay_rates = df.groupby(['Product Type', 'Trader Name'])['Delay'].mean().reset_index()\n",
    "mo_owner_delay_rates = df.groupby(['Product Type', 'Mo Owner Name'])['Delay'].mean().reset_index()\n"
   ]
  },
  {
   "cell_type": "code",
   "execution_count": null,
   "metadata": {},
   "outputs": [],
   "source": [
    "for product, group in grouped_by_product:\n",
    "    print(f\"Product Type: {product}\")\n",
    "    print(group.groupby('Trader Name')['Delay'].mean().sort_values(ascending=False))\n"
   ]
  },
  {
   "cell_type": "code",
   "execution_count": null,
   "metadata": {},
   "outputs": [],
   "source": [
    "for product, group in grouped_by_product:\n",
    "    print(f\"Product Type: {product}\")\n",
    "    print(group.groupby('Mo Owner Name')['Delay'].mean().sort_values(ascending=False))\n"
   ]
  },
  {
   "cell_type": "code",
   "execution_count": null,
   "metadata": {},
   "outputs": [],
   "source": [
    "book_delay_rates = df.groupby(['Product Type', 'Trading Book'])['Delay'].mean().reset_index()\n"
   ]
  },
  {
   "cell_type": "code",
   "execution_count": null,
   "metadata": {},
   "outputs": [],
   "source": [
    "import seaborn as sns\n",
    "import matplotlib.pyplot as plt\n",
    "\n",
    "sns.barplot(data=trader_delay_rates, x='Trader Name', y='Delay', hue='Product Type')\n",
    "plt.title('Trader Delay Rates by Product Type')\n",
    "plt.show()\n",
    "\n",
    "sns.barplot(data=mo_owner_delay_rates, x='Mo Owner Name', y='Delay', hue='Product Type')\n",
    "plt.title('Mo Owner Delay Rates by Product Type')\n",
    "plt.show()\n"
   ]
  },
  {
   "cell_type": "code",
   "execution_count": null,
   "metadata": {},
   "outputs": [],
   "source": [
    "from scipy.stats import f_oneway\n",
    "\n",
    "# Example for ANOVA across traders within a product type\n",
    "for product, group in grouped_by_product:\n",
    "    trader_groups = [group['Delay'][group['Trader Name'] == trader] for trader in group['Trader Name'].unique()]\n",
    "    f_stat, p_val = f_oneway(*trader_groups)\n",
    "    print(f\"Product Type: {product} - ANOVA F-statistic: {f_stat}, p-value: {p_val}\")\n"
   ]
  },
  {
   "cell_type": "code",
   "execution_count": null,
   "metadata": {},
   "outputs": [],
   "source": [
    "for product, group in grouped_by_product:\n",
    "    print(f\"Product Type: {product}\")\n",
    "\n",
    "    # Get the mean delay per Mo Owner Name\n",
    "    mean_delays = group.groupby('Mo Owner Name')['Delay'].mean().sort_values(ascending=False)\n",
    "\n",
    "    # Inverse transform the encoded Mo Owner Names\n",
    "    original_mo_owner_names = label_encoders['Mo Owner Name'].inverse_transform(mean_delays.index)\n",
    "\n",
    "    # Create a new DataFrame for better visualization\n",
    "    result_df = pd.DataFrame({\n",
    "        'Mo Owner Name': original_mo_owner_names,\n",
    "        'Mean Delay': mean_delays.values\n",
    "    })\n",
    "\n",
    "    print(result_df)\n"
   ]
  },
  {
   "cell_type": "code",
   "execution_count": null,
   "metadata": {},
   "outputs": [],
   "source": [
    "import pandas as pd\n",
    "\n",
    "# Create an empty list to collect all the result DataFrames\n",
    "all_results = []\n",
    "\n",
    "for product, group in grouped_by_product:\n",
    "    # Get the mean delay per Mo Owner Name\n",
    "    mean_delays = group.groupby('Mo Owner Name')['Delay'].mean().sort_values(ascending=False)\n",
    "\n",
    "    # Inverse transform the encoded Mo Owner Names\n",
    "    original_mo_owner_names = label_encoders['Mo Owner Name'].inverse_transform(mean_delays.index)\n",
    "\n",
    "    # Create a new DataFrame for better visualization\n",
    "    result_df = pd.DataFrame({\n",
    "        'Product Type': product,\n",
    "        'Mo Owner Name': original_mo_owner_names,\n",
    "        'Trader': group['Trader Name'].unique(), # Assuming each group has a single trader\n",
    "        'Mean Delay': mean_delays.values\n",
    "    })\n",
    "\n",
    "    # Append this result_df to the list\n",
    "    all_results.append(result_df)\n",
    "\n",
    "# Concatenate all the results into a single DataFrame\n",
    "final_result_df = pd.concat(all_results, ignore_index=True)\n",
    "\n",
    "# Save the final DataFrame to an Excel file\n",
    "final_result_df.to_excel('trader_behavior_analysis.xlsx', index=False)\n",
    "\n",
    "print(\"All results have been saved to 'trader_behavior_analysis.xlsx'\")\n"
   ]
  },
  {
   "cell_type": "code",
   "execution_count": null,
   "metadata": {},
   "outputs": [],
   "source": [
    "import pandas as pd\n",
    "\n",
    "# Assuming your DataFrame is named df and has columns: 'Mo Owner Name', 'Trading Book', 'Delay'\n",
    "\n",
    "# Calculate Total Number of Books per Mo Owner\n",
    "total_books = df.groupby('Mo Owner Name')['Trading Book'].nunique().reset_index(name='Total Number of Books')\n",
    "\n",
    "# Calculate Delay Count per Mo Owner\n",
    "delay_count = df[df['Delay'] == 0].groupby('Mo Owner Name').size().reset_index(name='Delay Count')\n",
    "\n",
    "# Calculate Total Count of orders per Mo Owner\n",
    "total_count = df.groupby('Mo Owner Name').size().reset_index(name='Total Count')\n",
    "\n",
    "# Merge all the results together\n",
    "result_df = pd.merge(total_books, delay_count, on='Mo Owner Name', how='left')\n",
    "result_df = pd.merge(result_df, total_count, on='Mo Owner Name', how='left')\n",
    "\n",
    "# Fill NaN values in 'Delay Count' with 0 (in case some Mo Owners have no delays)\n",
    "result_df['Delay Count'] = result_df['Delay Count'].fillna(0)\n",
    "\n",
    "# Calculate Delay %\n",
    "result_df['Delay %'] = (result_df['Delay Count'] / result_df['Total Count']) * 100\n",
    "\n",
    "# Display the result DataFrame\n",
    "print(result_df)\n"
   ]
  },
  {
   "cell_type": "markdown",
   "metadata": {},
   "source": [
    "F-Statistic:\n",
    "What it measures: The F-statistic is a ratio that compares the variance between the groups (in this case, the variance in delays among different traders) to the variance within the groups (the variance in delays within each trader's delays).\n",
    "Interpretation:\n",
    "A higher F-statistic indicates that the variance between the traders' delays is much larger than the variance within each trader's delays, suggesting that at least one trader is significantly different from the others in terms of delays.\n",
    "A lower F-statistic suggests that the differences between traders are not substantial compared to the variance within traders, meaning their performance may be similar.\n",
    "p-Value:\n",
    "What it measures: The p-value tells you the probability that the observed differences between traders' delays happened by chance."
   ]
  }
 ],
 "metadata": {
  "language_info": {
   "name": "python"
  }
 },
 "nbformat": 4,
 "nbformat_minor": 2
}
