{
 "cells": [
  {
   "cell_type": "code",
   "execution_count": null,
   "metadata": {},
   "outputs": [],
   "source": [
    "import pandas as pd\n",
    "\n",
    "# Sample DataFrame\n",
    "data = {\n",
    "    'desk': ['A', 'A', 'B', 'B', 'C', 'C'],\n",
    "    'order_type': ['X', 'X', 'X', 'X', 'X', 'X'],\n",
    "    'client': ['Client1', 'Client1', 'Client1', 'Client1', 'Client1', 'Client2'],\n",
    "    'target': [0, 1, 0, 1, 1, 0]\n",
    "}\n",
    "\n",
    "df = pd.DataFrame(data)\n",
    "\n",
    "# Step 1: Group by 'order_type' and 'client' to identify differences in delay outcomes across desks\n",
    "grouped = df.groupby(['order_type', 'client']).filter(lambda x: x['target'].nunique() > 1)\n",
    "\n",
    "# Step 2: Filter those records where there's at least one delay (1) and one no-delay (0) for the same 'order_type' and 'client'\n",
    "mixed_outcome = grouped.groupby(['order_type', 'client', 'desk']).filter(lambda x: x['target'].nunique() > 0)\n",
    "\n",
    "# Step 3: Identify which desks are responsible for delays\n",
    "delay_desks = mixed_outcome[mixed_outcome['target'] == 1]\n",
    "\n",
    "# Output the results\n",
    "print(\"Desks responsible for delays on the same order type and client:\")\n",
    "print(delay_desks[['order_type', 'client', 'desk']].drop_duplicates())\n"
   ]
  },
  {
   "cell_type": "code",
   "execution_count": null,
   "metadata": {},
   "outputs": [],
   "source": [
    "import pandas as pd\n",
    "\n",
    "# Sample DataFrame\n",
    "data = {\n",
    "    'desk': ['A', 'A', 'B', 'B', 'C', 'C'],\n",
    "    'order_type': ['X', 'X', 'X', 'X', 'X', 'X'],\n",
    "    'client': ['Client1', 'Client1', 'Client1', 'Client1', 'Client1', 'Client2'],\n",
    "    'target': [0, 1, 0, 1, 1, 0]\n",
    "}\n",
    "\n",
    "df = pd.DataFrame(data)\n",
    "\n",
    "# Step 1: Group by 'order_type' and 'client' to identify differences in delay outcomes across desks\n",
    "grouped = df.groupby(['order_type', 'client']).filter(lambda x: x['target'].nunique() > 1)\n",
    "\n",
    "# Step 2: Separate records with delay (target == 1) and no-delay (target == 0)\n",
    "delay_desks = grouped[grouped['target'] == 1].copy()\n",
    "no_delay_desks = grouped[grouped['target'] == 0].copy()\n",
    "\n",
    "# Step 3: Merge delayed desks with no-delay desks on 'order_type' and 'client'\n",
    "comparison = pd.merge(delay_desks, no_delay_desks, on=['order_type', 'client'], suffixes=('_delayed', '_not_delayed'))\n",
    "\n",
    "# Step 4: Output the comparison\n",
    "print(\"Comparison of desks with and without delays for the same order type and client:\")\n",
    "print(comparison[['order_type', 'client', 'desk_delayed', 'desk_not_delayed']])\n"
   ]
  }
 ],
 "metadata": {
  "language_info": {
   "name": "python"
  }
 },
 "nbformat": 4,
 "nbformat_minor": 2
}
