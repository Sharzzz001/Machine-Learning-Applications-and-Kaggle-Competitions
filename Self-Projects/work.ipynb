{
 "cells": [
  {
   "cell_type": "code",
   "execution_count": null,
   "metadata": {},
   "outputs": [],
   "source": [
    "grouped_by_product = df.groupby('Product Type')\n",
    "df['Delay'] = (df['Target'] == 0).astype(int)\n",
    "trader_delay_rates = df.groupby(['Product Type', 'Trader Name'])['Delay'].mean().reset_index()\n",
    "mo_owner_delay_rates = df.groupby(['Product Type', 'Mo Owner Name'])['Delay'].mean().reset_index()\n"
   ]
  },
  {
   "cell_type": "code",
   "execution_count": null,
   "metadata": {},
   "outputs": [],
   "source": [
    "for product, group in grouped_by_product:\n",
    "    print(f\"Product Type: {product}\")\n",
    "    print(group.groupby('Trader Name')['Delay'].mean().sort_values(ascending=False))\n"
   ]
  },
  {
   "cell_type": "code",
   "execution_count": null,
   "metadata": {},
   "outputs": [],
   "source": [
    "for product, group in grouped_by_product:\n",
    "    print(f\"Product Type: {product}\")\n",
    "    print(group.groupby('Mo Owner Name')['Delay'].mean().sort_values(ascending=False))\n"
   ]
  },
  {
   "cell_type": "code",
   "execution_count": null,
   "metadata": {},
   "outputs": [],
   "source": [
    "book_delay_rates = df.groupby(['Product Type', 'Trading Book'])['Delay'].mean().reset_index()\n"
   ]
  },
  {
   "cell_type": "code",
   "execution_count": null,
   "metadata": {},
   "outputs": [],
   "source": [
    "import seaborn as sns\n",
    "import matplotlib.pyplot as plt\n",
    "\n",
    "sns.barplot(data=trader_delay_rates, x='Trader Name', y='Delay', hue='Product Type')\n",
    "plt.title('Trader Delay Rates by Product Type')\n",
    "plt.show()\n",
    "\n",
    "sns.barplot(data=mo_owner_delay_rates, x='Mo Owner Name', y='Delay', hue='Product Type')\n",
    "plt.title('Mo Owner Delay Rates by Product Type')\n",
    "plt.show()\n"
   ]
  },
  {
   "cell_type": "code",
   "execution_count": null,
   "metadata": {},
   "outputs": [],
   "source": [
    "from scipy.stats import f_oneway\n",
    "\n",
    "# Example for ANOVA across traders within a product type\n",
    "for product, group in grouped_by_product:\n",
    "    trader_groups = [group['Delay'][group['Trader Name'] == trader] for trader in group['Trader Name'].unique()]\n",
    "    f_stat, p_val = f_oneway(*trader_groups)\n",
    "    print(f\"Product Type: {product} - ANOVA F-statistic: {f_stat}, p-value: {p_val}\")\n"
   ]
  },
  {
   "cell_type": "code",
   "execution_count": null,
   "metadata": {},
   "outputs": [],
   "source": [
    "for product, group in grouped_by_product:\n",
    "    print(f\"Product Type: {product}\")\n",
    "\n",
    "    # Get the mean delay per Mo Owner Name\n",
    "    mean_delays = group.groupby('Mo Owner Name')['Delay'].mean().sort_values(ascending=False)\n",
    "\n",
    "    # Inverse transform the encoded Mo Owner Names\n",
    "    original_mo_owner_names = label_encoders['Mo Owner Name'].inverse_transform(mean_delays.index)\n",
    "\n",
    "    # Create a new DataFrame for better visualization\n",
    "    result_df = pd.DataFrame({\n",
    "        'Mo Owner Name': original_mo_owner_names,\n",
    "        'Mean Delay': mean_delays.values\n",
    "    })\n",
    "\n",
    "    print(result_df)\n"
   ]
  }
 ],
 "metadata": {
  "language_info": {
   "name": "python"
  }
 },
 "nbformat": 4,
 "nbformat_minor": 2
}
