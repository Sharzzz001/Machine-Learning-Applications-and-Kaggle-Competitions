{
 "cells": [
  {
   "cell_type": "code",
   "execution_count": 1,
   "metadata": {},
   "outputs": [],
   "source": [
    "import json\n",
    "import pandas as pd\n"
   ]
  },
  {
   "cell_type": "code",
   "execution_count": 2,
   "metadata": {},
   "outputs": [],
   "source": [
    "# Load the JSON file\n",
    "with open('./Spotify Account Data/StreamingHistory_music_0.json', 'r',encoding='utf-8') as file:\n",
    "    data = json.load(file)"
   ]
  },
  {
   "cell_type": "code",
   "execution_count": 3,
   "metadata": {},
   "outputs": [
    {
     "data": {
      "text/html": [
       "<div>\n",
       "<style scoped>\n",
       "    .dataframe tbody tr th:only-of-type {\n",
       "        vertical-align: middle;\n",
       "    }\n",
       "\n",
       "    .dataframe tbody tr th {\n",
       "        vertical-align: top;\n",
       "    }\n",
       "\n",
       "    .dataframe thead th {\n",
       "        text-align: right;\n",
       "    }\n",
       "</style>\n",
       "<table border=\"1\" class=\"dataframe\">\n",
       "  <thead>\n",
       "    <tr style=\"text-align: right;\">\n",
       "      <th></th>\n",
       "      <th>endTime</th>\n",
       "      <th>artistName</th>\n",
       "      <th>trackName</th>\n",
       "      <th>msPlayed</th>\n",
       "    </tr>\n",
       "  </thead>\n",
       "  <tbody>\n",
       "    <tr>\n",
       "      <th>0</th>\n",
       "      <td>2023-08-12 12:42</td>\n",
       "      <td>Javed Ali</td>\n",
       "      <td>Ek Din Teri Raahon</td>\n",
       "      <td>231549</td>\n",
       "    </tr>\n",
       "    <tr>\n",
       "      <th>1</th>\n",
       "      <td>2023-08-17 15:54</td>\n",
       "      <td>Shoffy</td>\n",
       "      <td>I Can't Help</td>\n",
       "      <td>6490</td>\n",
       "    </tr>\n",
       "    <tr>\n",
       "      <th>2</th>\n",
       "      <td>2023-08-17 15:54</td>\n",
       "      <td>Sandesh Shandilya</td>\n",
       "      <td>Deewana Hai Dekho</td>\n",
       "      <td>20700</td>\n",
       "    </tr>\n",
       "    <tr>\n",
       "      <th>3</th>\n",
       "      <td>2023-08-17 15:54</td>\n",
       "      <td>Alka Yagnik</td>\n",
       "      <td>Tere Naam</td>\n",
       "      <td>2900</td>\n",
       "    </tr>\n",
       "    <tr>\n",
       "      <th>4</th>\n",
       "      <td>2023-08-17 15:57</td>\n",
       "      <td>Baby Keem</td>\n",
       "      <td>16</td>\n",
       "      <td>156040</td>\n",
       "    </tr>\n",
       "  </tbody>\n",
       "</table>\n",
       "</div>"
      ],
      "text/plain": [
       "            endTime         artistName           trackName  msPlayed\n",
       "0  2023-08-12 12:42          Javed Ali  Ek Din Teri Raahon    231549\n",
       "1  2023-08-17 15:54             Shoffy        I Can't Help      6490\n",
       "2  2023-08-17 15:54  Sandesh Shandilya   Deewana Hai Dekho     20700\n",
       "3  2023-08-17 15:54        Alka Yagnik           Tere Naam      2900\n",
       "4  2023-08-17 15:57          Baby Keem                  16    156040"
      ]
     },
     "execution_count": 3,
     "metadata": {},
     "output_type": "execute_result"
    }
   ],
   "source": [
    "df = pd.DataFrame(data)\n",
    "df.head()"
   ]
  },
  {
   "cell_type": "code",
   "execution_count": 5,
   "metadata": {},
   "outputs": [
    {
     "data": {
      "text/html": [
       "<div>\n",
       "<style scoped>\n",
       "    .dataframe tbody tr th:only-of-type {\n",
       "        vertical-align: middle;\n",
       "    }\n",
       "\n",
       "    .dataframe tbody tr th {\n",
       "        vertical-align: top;\n",
       "    }\n",
       "\n",
       "    .dataframe thead th {\n",
       "        text-align: right;\n",
       "    }\n",
       "</style>\n",
       "<table border=\"1\" class=\"dataframe\">\n",
       "  <thead>\n",
       "    <tr style=\"text-align: right;\">\n",
       "      <th></th>\n",
       "      <th>endTime</th>\n",
       "      <th>artistName</th>\n",
       "      <th>trackName</th>\n",
       "      <th>msPlayed</th>\n",
       "      <th>minutesPlayed</th>\n",
       "    </tr>\n",
       "  </thead>\n",
       "  <tbody>\n",
       "    <tr>\n",
       "      <th>0</th>\n",
       "      <td>2023-08-12 12:42</td>\n",
       "      <td>Javed Ali</td>\n",
       "      <td>Ek Din Teri Raahon</td>\n",
       "      <td>231549</td>\n",
       "      <td>3.859150</td>\n",
       "    </tr>\n",
       "    <tr>\n",
       "      <th>1</th>\n",
       "      <td>2023-08-17 15:54</td>\n",
       "      <td>Shoffy</td>\n",
       "      <td>I Can't Help</td>\n",
       "      <td>6490</td>\n",
       "      <td>0.108167</td>\n",
       "    </tr>\n",
       "    <tr>\n",
       "      <th>2</th>\n",
       "      <td>2023-08-17 15:54</td>\n",
       "      <td>Sandesh Shandilya</td>\n",
       "      <td>Deewana Hai Dekho</td>\n",
       "      <td>20700</td>\n",
       "      <td>0.345000</td>\n",
       "    </tr>\n",
       "    <tr>\n",
       "      <th>3</th>\n",
       "      <td>2023-08-17 15:54</td>\n",
       "      <td>Alka Yagnik</td>\n",
       "      <td>Tere Naam</td>\n",
       "      <td>2900</td>\n",
       "      <td>0.048333</td>\n",
       "    </tr>\n",
       "    <tr>\n",
       "      <th>4</th>\n",
       "      <td>2023-08-17 15:57</td>\n",
       "      <td>Baby Keem</td>\n",
       "      <td>16</td>\n",
       "      <td>156040</td>\n",
       "      <td>2.600667</td>\n",
       "    </tr>\n",
       "  </tbody>\n",
       "</table>\n",
       "</div>"
      ],
      "text/plain": [
       "            endTime         artistName           trackName  msPlayed  \\\n",
       "0  2023-08-12 12:42          Javed Ali  Ek Din Teri Raahon    231549   \n",
       "1  2023-08-17 15:54             Shoffy        I Can't Help      6490   \n",
       "2  2023-08-17 15:54  Sandesh Shandilya   Deewana Hai Dekho     20700   \n",
       "3  2023-08-17 15:54        Alka Yagnik           Tere Naam      2900   \n",
       "4  2023-08-17 15:57          Baby Keem                  16    156040   \n",
       "\n",
       "   minutesPlayed  \n",
       "0       3.859150  \n",
       "1       0.108167  \n",
       "2       0.345000  \n",
       "3       0.048333  \n",
       "4       2.600667  "
      ]
     },
     "execution_count": 5,
     "metadata": {},
     "output_type": "execute_result"
    }
   ],
   "source": [
    "df['minutesPlayed'] = df['msPlayed']/1000/60\n",
    "df.head()"
   ]
  },
  {
   "cell_type": "code",
   "execution_count": 15,
   "metadata": {},
   "outputs": [],
   "source": [
    "df['endTime'] = pd.to_datetime(df['endTime'],format='%Y-%m-%d %H:%M')"
   ]
  },
  {
   "cell_type": "code",
   "execution_count": 16,
   "metadata": {},
   "outputs": [
    {
     "data": {
      "text/html": [
       "<div>\n",
       "<style scoped>\n",
       "    .dataframe tbody tr th:only-of-type {\n",
       "        vertical-align: middle;\n",
       "    }\n",
       "\n",
       "    .dataframe tbody tr th {\n",
       "        vertical-align: top;\n",
       "    }\n",
       "\n",
       "    .dataframe thead th {\n",
       "        text-align: right;\n",
       "    }\n",
       "</style>\n",
       "<table border=\"1\" class=\"dataframe\">\n",
       "  <thead>\n",
       "    <tr style=\"text-align: right;\">\n",
       "      <th></th>\n",
       "      <th>endTime</th>\n",
       "      <th>msPlayed</th>\n",
       "      <th>minutesPlayed</th>\n",
       "    </tr>\n",
       "  </thead>\n",
       "  <tbody>\n",
       "    <tr>\n",
       "      <th>count</th>\n",
       "      <td>8370</td>\n",
       "      <td>8.370000e+03</td>\n",
       "      <td>8370.000000</td>\n",
       "    </tr>\n",
       "    <tr>\n",
       "      <th>mean</th>\n",
       "      <td>2024-02-28 05:16:50.473118464</td>\n",
       "      <td>1.657387e+05</td>\n",
       "      <td>2.762312</td>\n",
       "    </tr>\n",
       "    <tr>\n",
       "      <th>min</th>\n",
       "      <td>2023-08-12 12:42:00</td>\n",
       "      <td>0.000000e+00</td>\n",
       "      <td>0.000000</td>\n",
       "    </tr>\n",
       "    <tr>\n",
       "      <th>25%</th>\n",
       "      <td>2023-12-16 06:46:00</td>\n",
       "      <td>4.351000e+04</td>\n",
       "      <td>0.725167</td>\n",
       "    </tr>\n",
       "    <tr>\n",
       "      <th>50%</th>\n",
       "      <td>2024-03-02 11:03:30</td>\n",
       "      <td>1.881075e+05</td>\n",
       "      <td>3.135125</td>\n",
       "    </tr>\n",
       "    <tr>\n",
       "      <th>75%</th>\n",
       "      <td>2024-05-29 12:40:15</td>\n",
       "      <td>2.529870e+05</td>\n",
       "      <td>4.216450</td>\n",
       "    </tr>\n",
       "    <tr>\n",
       "      <th>max</th>\n",
       "      <td>2024-08-13 12:51:00</td>\n",
       "      <td>1.744536e+06</td>\n",
       "      <td>29.075600</td>\n",
       "    </tr>\n",
       "    <tr>\n",
       "      <th>std</th>\n",
       "      <td>NaN</td>\n",
       "      <td>1.137720e+05</td>\n",
       "      <td>1.896200</td>\n",
       "    </tr>\n",
       "  </tbody>\n",
       "</table>\n",
       "</div>"
      ],
      "text/plain": [
       "                             endTime      msPlayed  minutesPlayed\n",
       "count                           8370  8.370000e+03    8370.000000\n",
       "mean   2024-02-28 05:16:50.473118464  1.657387e+05       2.762312\n",
       "min              2023-08-12 12:42:00  0.000000e+00       0.000000\n",
       "25%              2023-12-16 06:46:00  4.351000e+04       0.725167\n",
       "50%              2024-03-02 11:03:30  1.881075e+05       3.135125\n",
       "75%              2024-05-29 12:40:15  2.529870e+05       4.216450\n",
       "max              2024-08-13 12:51:00  1.744536e+06      29.075600\n",
       "std                              NaN  1.137720e+05       1.896200"
      ]
     },
     "execution_count": 16,
     "metadata": {},
     "output_type": "execute_result"
    }
   ],
   "source": [
    "df.describe()"
   ]
  },
  {
   "cell_type": "code",
   "execution_count": 28,
   "metadata": {},
   "outputs": [
    {
     "data": {
      "text/plain": [
       "14254.068533333333"
      ]
     },
     "execution_count": 28,
     "metadata": {},
     "output_type": "execute_result"
    }
   ],
   "source": [
    "df[df['endTime']>='2024-01-01']['minutesPlayed'].sum()"
   ]
  },
  {
   "cell_type": "code",
   "execution_count": 29,
   "metadata": {},
   "outputs": [
    {
     "data": {
      "text/html": [
       "<div>\n",
       "<style scoped>\n",
       "    .dataframe tbody tr th:only-of-type {\n",
       "        vertical-align: middle;\n",
       "    }\n",
       "\n",
       "    .dataframe tbody tr th {\n",
       "        vertical-align: top;\n",
       "    }\n",
       "\n",
       "    .dataframe thead th {\n",
       "        text-align: right;\n",
       "    }\n",
       "</style>\n",
       "<table border=\"1\" class=\"dataframe\">\n",
       "  <thead>\n",
       "    <tr style=\"text-align: right;\">\n",
       "      <th></th>\n",
       "      <th>endTime</th>\n",
       "      <th>artistName</th>\n",
       "      <th>trackName</th>\n",
       "      <th>msPlayed</th>\n",
       "      <th>minutesPlayed</th>\n",
       "      <th>year-month</th>\n",
       "    </tr>\n",
       "  </thead>\n",
       "  <tbody>\n",
       "    <tr>\n",
       "      <th>0</th>\n",
       "      <td>2023-08-12 12:42:00</td>\n",
       "      <td>Javed Ali</td>\n",
       "      <td>Ek Din Teri Raahon</td>\n",
       "      <td>231549</td>\n",
       "      <td>3.859150</td>\n",
       "      <td>2023-08</td>\n",
       "    </tr>\n",
       "    <tr>\n",
       "      <th>1</th>\n",
       "      <td>2023-08-17 15:54:00</td>\n",
       "      <td>Shoffy</td>\n",
       "      <td>I Can't Help</td>\n",
       "      <td>6490</td>\n",
       "      <td>0.108167</td>\n",
       "      <td>2023-08</td>\n",
       "    </tr>\n",
       "    <tr>\n",
       "      <th>2</th>\n",
       "      <td>2023-08-17 15:54:00</td>\n",
       "      <td>Sandesh Shandilya</td>\n",
       "      <td>Deewana Hai Dekho</td>\n",
       "      <td>20700</td>\n",
       "      <td>0.345000</td>\n",
       "      <td>2023-08</td>\n",
       "    </tr>\n",
       "    <tr>\n",
       "      <th>3</th>\n",
       "      <td>2023-08-17 15:54:00</td>\n",
       "      <td>Alka Yagnik</td>\n",
       "      <td>Tere Naam</td>\n",
       "      <td>2900</td>\n",
       "      <td>0.048333</td>\n",
       "      <td>2023-08</td>\n",
       "    </tr>\n",
       "    <tr>\n",
       "      <th>4</th>\n",
       "      <td>2023-08-17 15:57:00</td>\n",
       "      <td>Baby Keem</td>\n",
       "      <td>16</td>\n",
       "      <td>156040</td>\n",
       "      <td>2.600667</td>\n",
       "      <td>2023-08</td>\n",
       "    </tr>\n",
       "  </tbody>\n",
       "</table>\n",
       "</div>"
      ],
      "text/plain": [
       "              endTime         artistName           trackName  msPlayed  \\\n",
       "0 2023-08-12 12:42:00          Javed Ali  Ek Din Teri Raahon    231549   \n",
       "1 2023-08-17 15:54:00             Shoffy        I Can't Help      6490   \n",
       "2 2023-08-17 15:54:00  Sandesh Shandilya   Deewana Hai Dekho     20700   \n",
       "3 2023-08-17 15:54:00        Alka Yagnik           Tere Naam      2900   \n",
       "4 2023-08-17 15:57:00          Baby Keem                  16    156040   \n",
       "\n",
       "   minutesPlayed year-month  \n",
       "0       3.859150    2023-08  \n",
       "1       0.108167    2023-08  \n",
       "2       0.345000    2023-08  \n",
       "3       0.048333    2023-08  \n",
       "4       2.600667    2023-08  "
      ]
     },
     "execution_count": 29,
     "metadata": {},
     "output_type": "execute_result"
    }
   ],
   "source": [
    "df['year-month'] = df['endTime'].dt.to_period('M')\n",
    "df.head()"
   ]
  },
  {
   "cell_type": "code",
   "execution_count": 31,
   "metadata": {},
   "outputs": [
    {
     "data": {
      "text/html": [
       "<div>\n",
       "<style scoped>\n",
       "    .dataframe tbody tr th:only-of-type {\n",
       "        vertical-align: middle;\n",
       "    }\n",
       "\n",
       "    .dataframe tbody tr th {\n",
       "        vertical-align: top;\n",
       "    }\n",
       "\n",
       "    .dataframe thead th {\n",
       "        text-align: right;\n",
       "    }\n",
       "</style>\n",
       "<table border=\"1\" class=\"dataframe\">\n",
       "  <thead>\n",
       "    <tr style=\"text-align: right;\">\n",
       "      <th></th>\n",
       "      <th>year-month</th>\n",
       "      <th>minutesPlayed</th>\n",
       "    </tr>\n",
       "  </thead>\n",
       "  <tbody>\n",
       "    <tr>\n",
       "      <th>0</th>\n",
       "      <td>2023-08</td>\n",
       "      <td>586.904733</td>\n",
       "    </tr>\n",
       "    <tr>\n",
       "      <th>1</th>\n",
       "      <td>2023-09</td>\n",
       "      <td>369.773067</td>\n",
       "    </tr>\n",
       "    <tr>\n",
       "      <th>2</th>\n",
       "      <td>2023-10</td>\n",
       "      <td>1624.239750</td>\n",
       "    </tr>\n",
       "    <tr>\n",
       "      <th>3</th>\n",
       "      <td>2023-11</td>\n",
       "      <td>1889.132467</td>\n",
       "    </tr>\n",
       "    <tr>\n",
       "      <th>4</th>\n",
       "      <td>2023-12</td>\n",
       "      <td>4396.430150</td>\n",
       "    </tr>\n",
       "    <tr>\n",
       "      <th>5</th>\n",
       "      <td>2024-01</td>\n",
       "      <td>1321.780583</td>\n",
       "    </tr>\n",
       "    <tr>\n",
       "      <th>6</th>\n",
       "      <td>2024-02</td>\n",
       "      <td>999.316667</td>\n",
       "    </tr>\n",
       "    <tr>\n",
       "      <th>7</th>\n",
       "      <td>2024-03</td>\n",
       "      <td>1726.361500</td>\n",
       "    </tr>\n",
       "    <tr>\n",
       "      <th>8</th>\n",
       "      <td>2024-04</td>\n",
       "      <td>2411.234050</td>\n",
       "    </tr>\n",
       "    <tr>\n",
       "      <th>9</th>\n",
       "      <td>2024-05</td>\n",
       "      <td>2023.017517</td>\n",
       "    </tr>\n",
       "    <tr>\n",
       "      <th>10</th>\n",
       "      <td>2024-06</td>\n",
       "      <td>2797.383800</td>\n",
       "    </tr>\n",
       "    <tr>\n",
       "      <th>11</th>\n",
       "      <td>2024-07</td>\n",
       "      <td>2144.016500</td>\n",
       "    </tr>\n",
       "    <tr>\n",
       "      <th>12</th>\n",
       "      <td>2024-08</td>\n",
       "      <td>830.957917</td>\n",
       "    </tr>\n",
       "  </tbody>\n",
       "</table>\n",
       "</div>"
      ],
      "text/plain": [
       "   year-month  minutesPlayed\n",
       "0     2023-08     586.904733\n",
       "1     2023-09     369.773067\n",
       "2     2023-10    1624.239750\n",
       "3     2023-11    1889.132467\n",
       "4     2023-12    4396.430150\n",
       "5     2024-01    1321.780583\n",
       "6     2024-02     999.316667\n",
       "7     2024-03    1726.361500\n",
       "8     2024-04    2411.234050\n",
       "9     2024-05    2023.017517\n",
       "10    2024-06    2797.383800\n",
       "11    2024-07    2144.016500\n",
       "12    2024-08     830.957917"
      ]
     },
     "execution_count": 31,
     "metadata": {},
     "output_type": "execute_result"
    }
   ],
   "source": [
    "# # Convert 'msPlayed' from milliseconds to minutes\n",
    "# df['minutesPlayed'] = df['msPlayed'] / 1000 / 60\n",
    "\n",
    "# Group by 'year_month' and calculate the total minutes played per month\n",
    "monthly_minutes = df.groupby('year-month')['minutesPlayed'].sum().reset_index()\n",
    "monthly_minutes"
   ]
  },
  {
   "cell_type": "code",
   "execution_count": 34,
   "metadata": {},
   "outputs": [
    {
     "name": "stdout",
     "output_type": "stream",
     "text": [
      "Average minutes listened per month: 1778.50 minutes or 29.64 hours\n"
     ]
    }
   ],
   "source": [
    "# Calculate the average listening time per month\n",
    "average_minutes_per_month = monthly_minutes['minutesPlayed'].mean()\n",
    "\n",
    "print(f\"Average minutes listened per month: {average_minutes_per_month:.2f} minutes or {average_minutes_per_month/60:.2f} hours\")"
   ]
  },
  {
   "cell_type": "code",
   "execution_count": 42,
   "metadata": {},
   "outputs": [],
   "source": [
    "# Group by year_month and artistName to sum up the minutes played for each artist each month\n",
    "monthly_artist_minutes = df.groupby(['year-month', 'artistName'])['minutesPlayed'].sum().reset_index()"
   ]
  },
  {
   "cell_type": "code",
   "execution_count": 41,
   "metadata": {},
   "outputs": [
    {
     "name": "stdout",
     "output_type": "stream",
     "text": [
      "Top artists for each month:\n",
      "   year-month      artistName  minutesPlayed\n",
      "0     2023-08      AP Dhillon      84.545617\n",
      "1     2023-09  Vishal-Shekhar      25.493233\n",
      "2     2023-10          Pritam     150.241983\n",
      "3     2023-11          Pritam     300.500717\n",
      "4     2023-12          Pritam     363.047417\n",
      "5     2024-01    Arijit Singh      54.819500\n",
      "6     2024-02          Pritam     105.389100\n",
      "7     2024-03          Pritam     179.009133\n",
      "8     2024-04          Pritam     225.650683\n",
      "9     2024-05          Pritam     390.897117\n",
      "10    2024-06          Pritam     433.436983\n",
      "11    2024-07          Pritam     375.210667\n",
      "12    2024-08          Pritam     125.624300\n"
     ]
    }
   ],
   "source": [
    "# Sort by year-month and minutesPlayed in descending order\n",
    "monthly_artist_minutes = monthly_artist_minutes.sort_values(['year-month', 'minutesPlayed'], ascending=[True, False])\n",
    "\n",
    "# Drop duplicates, keeping the first (which is the top artist for that month)\n",
    "top_artists_each_month = monthly_artist_minutes.drop_duplicates(subset=['year-month'], keep='first').reset_index(drop=True)\n",
    "\n",
    "print(\"Top artists for each month:\")\n",
    "print(top_artists_each_month)"
   ]
  },
  {
   "cell_type": "code",
   "execution_count": 49,
   "metadata": {},
   "outputs": [
    {
     "name": "stdout",
     "output_type": "stream",
     "text": [
      "Top tracks for each month with their play count:\n"
     ]
    },
    {
     "data": {
      "text/html": [
       "<div>\n",
       "<style scoped>\n",
       "    .dataframe tbody tr th:only-of-type {\n",
       "        vertical-align: middle;\n",
       "    }\n",
       "\n",
       "    .dataframe tbody tr th {\n",
       "        vertical-align: top;\n",
       "    }\n",
       "\n",
       "    .dataframe thead th {\n",
       "        text-align: right;\n",
       "    }\n",
       "</style>\n",
       "<table border=\"1\" class=\"dataframe\">\n",
       "  <thead>\n",
       "    <tr style=\"text-align: right;\">\n",
       "      <th></th>\n",
       "      <th>year-month</th>\n",
       "      <th>trackName</th>\n",
       "      <th>total_minutes_played</th>\n",
       "      <th>play_count</th>\n",
       "    </tr>\n",
       "  </thead>\n",
       "  <tbody>\n",
       "    <tr>\n",
       "      <th>0</th>\n",
       "      <td>2023-08</td>\n",
       "      <td>Dil Nu</td>\n",
       "      <td>43.979883</td>\n",
       "      <td>13</td>\n",
       "    </tr>\n",
       "    <tr>\n",
       "      <th>1</th>\n",
       "      <td>2023-09</td>\n",
       "      <td>Day Dreaming</td>\n",
       "      <td>7.040867</td>\n",
       "      <td>2</td>\n",
       "    </tr>\n",
       "    <tr>\n",
       "      <th>2</th>\n",
       "      <td>2023-10</td>\n",
       "      <td>Oh Ho Ho Ho (Remix)</td>\n",
       "      <td>24.441600</td>\n",
       "      <td>6</td>\n",
       "    </tr>\n",
       "    <tr>\n",
       "      <th>3</th>\n",
       "      <td>2023-11</td>\n",
       "      <td>Saadi Galli Aaja</td>\n",
       "      <td>46.968883</td>\n",
       "      <td>15</td>\n",
       "    </tr>\n",
       "    <tr>\n",
       "      <th>4</th>\n",
       "      <td>2023-12</td>\n",
       "      <td>Borderline</td>\n",
       "      <td>38.551267</td>\n",
       "      <td>11</td>\n",
       "    </tr>\n",
       "    <tr>\n",
       "      <th>5</th>\n",
       "      <td>2024-01</td>\n",
       "      <td>Sooraj Ki Baahon Mein</td>\n",
       "      <td>21.448517</td>\n",
       "      <td>7</td>\n",
       "    </tr>\n",
       "    <tr>\n",
       "      <th>6</th>\n",
       "      <td>2024-02</td>\n",
       "      <td>Subhanallah</td>\n",
       "      <td>20.808917</td>\n",
       "      <td>5</td>\n",
       "    </tr>\n",
       "    <tr>\n",
       "      <th>7</th>\n",
       "      <td>2024-03</td>\n",
       "      <td>Chand Sifarish</td>\n",
       "      <td>22.710433</td>\n",
       "      <td>5</td>\n",
       "    </tr>\n",
       "    <tr>\n",
       "      <th>8</th>\n",
       "      <td>2024-04</td>\n",
       "      <td>Aahista Aahista</td>\n",
       "      <td>25.914517</td>\n",
       "      <td>7</td>\n",
       "    </tr>\n",
       "    <tr>\n",
       "      <th>9</th>\n",
       "      <td>2024-05</td>\n",
       "      <td>Main Kya Hoon</td>\n",
       "      <td>22.406767</td>\n",
       "      <td>5</td>\n",
       "    </tr>\n",
       "    <tr>\n",
       "      <th>10</th>\n",
       "      <td>2024-06</td>\n",
       "      <td>Pehli Nazar Mein</td>\n",
       "      <td>29.189633</td>\n",
       "      <td>7</td>\n",
       "    </tr>\n",
       "    <tr>\n",
       "      <th>11</th>\n",
       "      <td>2024-07</td>\n",
       "      <td>Woh Lamhe Woh Baatein - From \"Zeher\"</td>\n",
       "      <td>27.727550</td>\n",
       "      <td>7</td>\n",
       "    </tr>\n",
       "    <tr>\n",
       "      <th>12</th>\n",
       "      <td>2024-08</td>\n",
       "      <td>Tujh Mein Rab Dikhta Hai</td>\n",
       "      <td>14.078650</td>\n",
       "      <td>3</td>\n",
       "    </tr>\n",
       "  </tbody>\n",
       "</table>\n",
       "</div>"
      ],
      "text/plain": [
       "   year-month                             trackName  total_minutes_played  \\\n",
       "0     2023-08                                Dil Nu             43.979883   \n",
       "1     2023-09                          Day Dreaming              7.040867   \n",
       "2     2023-10                   Oh Ho Ho Ho (Remix)             24.441600   \n",
       "3     2023-11                      Saadi Galli Aaja             46.968883   \n",
       "4     2023-12                            Borderline             38.551267   \n",
       "5     2024-01                 Sooraj Ki Baahon Mein             21.448517   \n",
       "6     2024-02                           Subhanallah             20.808917   \n",
       "7     2024-03                        Chand Sifarish             22.710433   \n",
       "8     2024-04                       Aahista Aahista             25.914517   \n",
       "9     2024-05                         Main Kya Hoon             22.406767   \n",
       "10    2024-06                      Pehli Nazar Mein             29.189633   \n",
       "11    2024-07  Woh Lamhe Woh Baatein - From \"Zeher\"             27.727550   \n",
       "12    2024-08              Tujh Mein Rab Dikhta Hai             14.078650   \n",
       "\n",
       "    play_count  \n",
       "0           13  \n",
       "1            2  \n",
       "2            6  \n",
       "3           15  \n",
       "4           11  \n",
       "5            7  \n",
       "6            5  \n",
       "7            5  \n",
       "8            7  \n",
       "9            5  \n",
       "10           7  \n",
       "11           7  \n",
       "12           3  "
      ]
     },
     "execution_count": 49,
     "metadata": {},
     "output_type": "execute_result"
    }
   ],
   "source": [
    "# Group by year-month and trackName to calculate the total minutes played and the count of plays for each track each month\n",
    "monthly_track_stats = df.groupby(['year-month', 'trackName']).agg(\n",
    "    total_minutes_played=('minutesPlayed', 'sum'),\n",
    "    play_count=('trackName', 'size')\n",
    ").reset_index()\n",
    "\n",
    "# Sort by year-month and total_minutes_played in descending order\n",
    "monthly_track_stats = monthly_track_stats.sort_values(['year-month', 'total_minutes_played'], ascending=[True, False])\n",
    "\n",
    "# Drop duplicates, keeping the first (which is the top track for that month)\n",
    "top_tracks_each_month = monthly_track_stats.drop_duplicates(subset=['year-month'], keep='first').reset_index(drop=True)\n",
    "\n",
    "print(\"Top tracks for each month with their play count:\")\n",
    "top_tracks_each_month.head(15)"
   ]
  },
  {
   "cell_type": "markdown",
   "metadata": {},
   "source": [
    "Forecasting"
   ]
  },
  {
   "cell_type": "code",
   "execution_count": 69,
   "metadata": {},
   "outputs": [],
   "source": [
    "# Step 3: Group by Date and calculate TotalMinutesPlayed and TotalTracksPlayed\n",
    "df['Date'] = pd.to_datetime(df['endTime']).dt.date\n",
    "daily_stats = df.groupby('Date').agg(\n",
    "    TotalMinutesPlayed=('minutesPlayed', 'sum'),\n",
    "    TotalTracksPlayed=('trackName', 'count')\n",
    ").reset_index()\n",
    "daily_stats.sort_values(by=['Date','TotalMinutesPlayed'],ascending=[True,False],inplace=True)\n",
    "# daily_stats"
   ]
  },
  {
   "cell_type": "code",
   "execution_count": 70,
   "metadata": {},
   "outputs": [],
   "source": [
    "from sklearn.model_selection import train_test_split\n",
    "\n",
    "\n",
    "daily_stats.set_index('Date', inplace=True)\n",
    "\n",
    "# Split the data into training and testing sets\n",
    "train_size = int(len(daily_stats) * 0.9)\n",
    "train_df = daily_stats.iloc[:train_size]\n",
    "test_df = daily_stats.iloc[train_size:]"
   ]
  },
  {
   "cell_type": "code",
   "execution_count": 71,
   "metadata": {},
   "outputs": [
    {
     "name": "stderr",
     "output_type": "stream",
     "text": [
      "c:\\Users\\shara\\AppData\\Local\\Programs\\Python\\Python310\\lib\\site-packages\\statsmodels\\tsa\\base\\tsa_model.py:471: ValueWarning:\n",
      "\n",
      "A date index has been provided, but it has no associated frequency information and so will be ignored when e.g. forecasting.\n",
      "\n",
      "c:\\Users\\shara\\AppData\\Local\\Programs\\Python\\Python310\\lib\\site-packages\\statsmodels\\tsa\\base\\tsa_model.py:471: ValueWarning:\n",
      "\n",
      "A date index has been provided, but it has no associated frequency information and so will be ignored when e.g. forecasting.\n",
      "\n",
      "c:\\Users\\shara\\AppData\\Local\\Programs\\Python\\Python310\\lib\\site-packages\\statsmodels\\tsa\\base\\tsa_model.py:471: ValueWarning:\n",
      "\n",
      "A date index has been provided, but it has no associated frequency information and so will be ignored when e.g. forecasting.\n",
      "\n",
      "c:\\Users\\shara\\AppData\\Local\\Programs\\Python\\Python310\\lib\\site-packages\\statsmodels\\tsa\\base\\tsa_model.py:834: ValueWarning:\n",
      "\n",
      "No supported index is available. Prediction results will be given with an integer index beginning at `start`.\n",
      "\n"
     ]
    },
    {
     "data": {
      "image/png": "[encoded data removed]",
      "text/plain": [
       "<Figure size 1200x600 with 1 Axes>"
      ]
     },
     "metadata": {},
     "output_type": "display_data"
    }
   ],
   "source": [
    "from statsmodels.tsa.arima.model import ARIMA\n",
    "import matplotlib.pyplot as plt\n",
    "\n",
    "# Train ARIMA model on training data\n",
    "model_arima = ARIMA(train_df['TotalMinutesPlayed'], order=(5, 1, 0))\n",
    "model_arima_fit = model_arima.fit()\n",
    "\n",
    "# Forecast the testing period\n",
    "forecast_arima = model_arima_fit.forecast(steps=len(test_df))\n",
    "\n",
    "# Plot actual vs predicted\n",
    "plt.figure(figsize=(12, 6))\n",
    "plt.plot(train_df.index, train_df['TotalMinutesPlayed'], label='Train')\n",
    "plt.plot(test_df.index, test_df['TotalMinutesPlayed'], label='Test')\n",
    "plt.plot(test_df.index, forecast_arima, label='ARIMA Forecast', linestyle='--')\n",
    "plt.title('Actual vs ARIMA Forecast for TotalMinutesPlayed')\n",
    "plt.xlabel('Date')\n",
    "plt.ylabel('Total Minutes Played')\n",
    "plt.legend()\n",
    "plt.show()"
   ]
  },
  {
   "cell_type": "code",
   "execution_count": 72,
   "metadata": {},
   "outputs": [
    {
     "name": "stderr",
     "output_type": "stream",
     "text": [
      "c:\\Users\\shara\\AppData\\Local\\Programs\\Python\\Python310\\lib\\site-packages\\statsmodels\\tsa\\base\\tsa_model.py:471: ValueWarning:\n",
      "\n",
      "A date index has been provided, but it has no associated frequency information and so will be ignored when e.g. forecasting.\n",
      "\n",
      "c:\\Users\\shara\\AppData\\Local\\Programs\\Python\\Python310\\lib\\site-packages\\statsmodels\\tsa\\base\\tsa_model.py:471: ValueWarning:\n",
      "\n",
      "A date index has been provided, but it has no associated frequency information and so will be ignored when e.g. forecasting.\n",
      "\n",
      "c:\\Users\\shara\\AppData\\Local\\Programs\\Python\\Python310\\lib\\site-packages\\statsmodels\\tsa\\base\\tsa_model.py:471: ValueWarning:\n",
      "\n",
      "A date index has been provided, but it has no associated frequency information and so will be ignored when e.g. forecasting.\n",
      "\n",
      "c:\\Users\\shara\\AppData\\Local\\Programs\\Python\\Python310\\lib\\site-packages\\statsmodels\\tsa\\base\\tsa_model.py:834: ValueWarning:\n",
      "\n",
      "No supported index is available. Prediction results will be given with an integer index beginning at `start`.\n",
      "\n"
     ]
    },
    {
     "data": {
      "image/png": "[encoded data removed]",
      "text/plain": [
       "<Figure size 1200x600 with 1 Axes>"
      ]
     },
     "metadata": {},
     "output_type": "display_data"
    }
   ],
   "source": [
    "# Fit ARIMA on the full dataset\n",
    "model_arima_full = ARIMA(daily_stats['TotalMinutesPlayed'], order=(5, 1, 0))\n",
    "model_arima_full_fit = model_arima_full.fit()\n",
    "\n",
    "# Forecast the next 90 days\n",
    "forecast_next_90_days = model_arima_full_fit.forecast(steps=90)\n",
    "\n",
    "# Plot the forecast\n",
    "plt.figure(figsize=(12, 6))\n",
    "plt.plot(daily_stats.index, daily_stats['TotalMinutesPlayed'], label='Actual')\n",
    "plt.plot(pd.date_range(daily_stats.index[-1], periods=90, freq='D'), forecast_next_90_days, label='Next 90 Days Forecast', linestyle='--')\n",
    "plt.title('Total Minutes Played - Forecast for Next 90 Days')\n",
    "plt.xlabel('Date')\n",
    "plt.ylabel('Total Minutes Played')\n",
    "plt.legend()\n",
    "plt.show()\n"
   ]
  },
  {
   "cell_type": "code",
   "execution_count": 73,
   "metadata": {},
   "outputs": [
    {
     "data": {
      "application/vnd.plotly.v1+json": {
       "config": {
        "linkText": "Export to plot.ly",
        "plotlyServerURL": "https://plot.ly",
        "showLink": false
       },
       "data": [
        {
         "mode": "lines",
         "name": "Actual",
         "type": "scatter",
         "x": [
          "2024-07-05",
          "2024-07-07",
          "2024-07-10",
          "2024-07-12",
          "2024-07-13",
          "2024-07-14",
          "2024-07-16",
          "2024-07-17",
          "2024-07-18",
          "2024-07-20",
          "2024-07-24",
          "2024-07-25",
          "2024-07-27",
          "2024-07-30",
          "2024-07-31",
          "2024-08-01",
          "2024-08-02",
          "2024-08-03",
          "2024-08-04",
          "2024-08-06",
          "2024-08-07",
          "2024-08-08",
          "2024-08-09",
          "2024-08-10",
          "2024-08-11",
          "2024-08-12",
          "2024-08-13"
         ],
         "y": [
          399.39415,
          90.66245,
          1.3548,
          119.89240000000001,
          241.05895,
          23.7313,
          87.98381666666667,
          45.29626666666667,
          83.1276,
          453.89965,
          2.056016666666667,
          20.899283333333333,
          171.8562,
          143.94228333333334,
          46.34908333333333,
          2.5562,
          39.21103333333333,
          93.5044,
          14.678983333333333,
          143.11916666666667,
          149.87371666666667,
          81.79215,
          23.285533333333333,
          1.4835166666666666,
          25.274033333333332,
          36.5398,
          219.63938333333334
         ]
        },
        {
         "line": {
          "dash": "dash"
         },
         "mode": "lines",
         "name": "ARIMA Predicted",
         "type": "scatter",
         "x": [
          "2024-07-05",
          "2024-07-07",
          "2024-07-10",
          "2024-07-12",
          "2024-07-13",
          "2024-07-14",
          "2024-07-16",
          "2024-07-17",
          "2024-07-18",
          "2024-07-20",
          "2024-07-24",
          "2024-07-25",
          "2024-07-27",
          "2024-07-30",
          "2024-07-31",
          "2024-08-01",
          "2024-08-02",
          "2024-08-03",
          "2024-08-04",
          "2024-08-06",
          "2024-08-07",
          "2024-08-08",
          "2024-08-09",
          "2024-08-10",
          "2024-08-11",
          "2024-08-12",
          "2024-08-13"
         ],
         "y": [
          94.18256292874815,
          102.07783561155627,
          124.50631369305174,
          102.21782898723997,
          88.87343016840909,
          98.89030628306722,
          100.13807521175063,
          101.72270796503722,
          103.55987100294637,
          100.9480089100687,
          99.14136735447885,
          100.1213897304877,
          100.58474867643207,
          100.8870522507829,
          101.02201493008329,
          100.68375186641306,
          100.43643554020049,
          100.53511266814373,
          100.6281211439755,
          100.68205604052051,
          100.68954556177643,
          100.64225001658188,
          100.60768659595158,
          100.6180746295695,
          100.63407205207712,
          100.64322073673348,
          100.64320377065047
         ]
        }
       ],
       "layout": {
        "hovermode": "closest",
        "template": {
         "data": {
          "bar": [
           {
            "error_x": {
             "color": "#2a3f5f"
            },
            "error_y": {
             "color": "#2a3f5f"
            },
            "marker": {
             "line": {
              "color": "#E5ECF6",
              "width": 0.5
             },
             "pattern": {
              "fillmode": "overlay",
              "size": 10,
              "solidity": 0.2
             }
            },
            "type": "bar"
           }
          ],
          "barpolar": [
           {
            "marker": {
             "line": {
              "color": "#E5ECF6",
              "width": 0.5
             },
             "pattern": {
              "fillmode": "overlay",
              "size": 10,
              "solidity": 0.2
             }
            },
            "type": "barpolar"
           }
          ],
          "carpet": [
           {
            "aaxis": {
             "endlinecolor": "#2a3f5f",
             "gridcolor": "white",
             "linecolor": "white",
             "minorgridcolor": "white",
             "startlinecolor": "#2a3f5f"
            },
            "baxis": {
             "endlinecolor": "#2a3f5f",
             "gridcolor": "white",
             "linecolor": "white",
             "minorgridcolor": "white",
             "startlinecolor": "#2a3f5f"
            },
            "type": "carpet"
           }
          ],
          "choropleth": [
           {
            "colorbar": {
             "outlinewidth": 0,
             "ticks": ""
            },
            "type": "choropleth"
           }
          ],
          "contour": [
           {
            "colorbar": {
             "outlinewidth": 0,
             "ticks": ""
            },
            "colorscale": [
             [
              0,
              "#0d0887"
             ],
             [
              0.1111111111111111,
              "#46039f"
             ],
             [
              0.2222222222222222,
              "#7201a8"
             ],
             [
              0.3333333333333333,
              "#9c179e"
             ],
             [
              0.4444444444444444,
              "#bd3786"
             ],
             [
              0.5555555555555556,
              "#d8576b"
             ],
             [
              0.6666666666666666,
              "#ed7953"
             ],
             [
              0.7777777777777778,
              "#fb9f3a"
             ],
             [
              0.8888888888888888,
              "#fdca26"
             ],
             [
              1,
              "#f0f921"
             ]
            ],
            "type": "contour"
           }
          ],
          "contourcarpet": [
           {
            "colorbar": {
             "outlinewidth": 0,
             "ticks": ""
            },
            "type": "contourcarpet"
           }
          ],
          "heatmap": [
           {
            "colorbar": {
             "outlinewidth": 0,
             "ticks": ""
            },
            "colorscale": [
             [
              0,
              "#0d0887"
             ],
             [
              0.1111111111111111,
              "#46039f"
             ],
             [
              0.2222222222222222,
              "#7201a8"
             ],
             [
              0.3333333333333333,
              "#9c179e"
             ],
             [
              0.4444444444444444,
              "#bd3786"
             ],
             [
              0.5555555555555556,
              "#d8576b"
             ],
             [
              0.6666666666666666,
              "#ed7953"
             ],
             [
              0.7777777777777778,
              "#fb9f3a"
             ],
             [
              0.8888888888888888,
              "#fdca26"
             ],
             [
              1,
              "#f0f921"
             ]
            ],
            "type": "heatmap"
           }
          ],
          "heatmapgl": [
           {
            "colorbar": {
             "outlinewidth": 0,
             "ticks": ""
            },
            "colorscale": [
             [
              0,
              "#0d0887"
             ],
             [
              0.1111111111111111,
              "#46039f"
             ],
             [
              0.2222222222222222,
              "#7201a8"
             ],
             [
              0.3333333333333333,
              "#9c179e"
             ],
             [
              0.4444444444444444,
              "#bd3786"
             ],
             [
              0.5555555555555556,
              "#d8576b"
             ],
             [
              0.6666666666666666,
              "#ed7953"
             ],
             [
              0.7777777777777778,
              "#fb9f3a"
             ],
             [
              0.8888888888888888,
              "#fdca26"
             ],
             [
              1,
              "#f0f921"
             ]
            ],
            "type": "heatmapgl"
           }
          ],
          "histogram": [
           {
            "marker": {
             "pattern": {
              "fillmode": "overlay",
              "size": 10,
              "solidity": 0.2
             }
            },
            "type": "histogram"
           }
          ],
          "histogram2d": [
           {
            "colorbar": {
             "outlinewidth": 0,
             "ticks": ""
            },
            "colorscale": [
             [
              0,
              "#0d0887"
             ],
             [
              0.1111111111111111,
              "#46039f"
             ],
             [
              0.2222222222222222,
              "#7201a8"
             ],
             [
              0.3333333333333333,
              "#9c179e"
             ],
             [
              0.4444444444444444,
              "#bd3786"
             ],
             [
              0.5555555555555556,
              "#d8576b"
             ],
             [
              0.6666666666666666,
              "#ed7953"
             ],
             [
              0.7777777777777778,
              "#fb9f3a"
             ],
             [
              0.8888888888888888,
              "#fdca26"
             ],
             [
              1,
              "#f0f921"
             ]
            ],
            "type": "histogram2d"
           }
          ],
          "histogram2dcontour": [
           {
            "colorbar": {
             "outlinewidth": 0,
             "ticks": ""
            },
            "colorscale": [
             [
              0,
              "#0d0887"
             ],
             [
              0.1111111111111111,
              "#46039f"
             ],
             [
              0.2222222222222222,
              "#7201a8"
             ],
             [
              0.3333333333333333,
              "#9c179e"
             ],
             [
              0.4444444444444444,
              "#bd3786"
             ],
             [
              0.5555555555555556,
              "#d8576b"
             ],
             [
              0.6666666666666666,
              "#ed7953"
             ],
             [
              0.7777777777777778,
              "#fb9f3a"
             ],
             [
              0.8888888888888888,
              "#fdca26"
             ],
             [
              1,
              "#f0f921"
             ]
            ],
            "type": "histogram2dcontour"
           }
          ],
          "mesh3d": [
           {
            "colorbar": {
             "outlinewidth": 0,
             "ticks": ""
            },
            "type": "mesh3d"
           }
          ],
          "parcoords": [
           {
            "line": {
             "colorbar": {
              "outlinewidth": 0,
              "ticks": ""
             }
            },
            "type": "parcoords"
           }
          ],
          "pie": [
           {
            "automargin": true,
            "type": "pie"
           }
          ],
          "scatter": [
           {
            "fillpattern": {
             "fillmode": "overlay",
             "size": 10,
             "solidity": 0.2
            },
            "type": "scatter"
           }
          ],
          "scatter3d": [
           {
            "line": {
             "colorbar": {
              "outlinewidth": 0,
              "ticks": ""
             }
            },
            "marker": {
             "colorbar": {
              "outlinewidth": 0,
              "ticks": ""
             }
            },
            "type": "scatter3d"
           }
          ],
          "scattercarpet": [
           {
            "marker": {
             "colorbar": {
              "outlinewidth": 0,
              "ticks": ""
             }
            },
            "type": "scattercarpet"
           }
          ],
          "scattergeo": [
           {
            "marker": {
             "colorbar": {
              "outlinewidth": 0,
              "ticks": ""
             }
            },
            "type": "scattergeo"
           }
          ],
          "scattergl": [
           {
            "marker": {
             "colorbar": {
              "outlinewidth": 0,
              "ticks": ""
             }
            },
            "type": "scattergl"
           }
          ],
          "scattermapbox": [
           {
            "marker": {
             "colorbar": {
              "outlinewidth": 0,
              "ticks": ""
             }
            },
            "type": "scattermapbox"
           }
          ],
          "scatterpolar": [
           {
            "marker": {
             "colorbar": {
              "outlinewidth": 0,
              "ticks": ""
             }
            },
            "type": "scatterpolar"
           }
          ],
          "scatterpolargl": [
           {
            "marker": {
             "colorbar": {
              "outlinewidth": 0,
              "ticks": ""
             }
            },
            "type": "scatterpolargl"
           }
          ],
          "scatterternary": [
           {
            "marker": {
             "colorbar": {
              "outlinewidth": 0,
              "ticks": ""
             }
            },
            "type": "scatterternary"
           }
          ],
          "surface": [
           {
            "colorbar": {
             "outlinewidth": 0,
             "ticks": ""
            },
            "colorscale": [
             [
              0,
              "#0d0887"
             ],
             [
              0.1111111111111111,
              "#46039f"
             ],
             [
              0.2222222222222222,
              "#7201a8"
             ],
             [
              0.3333333333333333,
              "#9c179e"
             ],
             [
              0.4444444444444444,
              "#bd3786"
             ],
             [
              0.5555555555555556,
              "#d8576b"
             ],
             [
              0.6666666666666666,
              "#ed7953"
             ],
             [
              0.7777777777777778,
              "#fb9f3a"
             ],
             [
              0.8888888888888888,
              "#fdca26"
             ],
             [
              1,
              "#f0f921"
             ]
            ],
            "type": "surface"
           }
          ],
          "table": [
           {
            "cells": {
             "fill": {
              "color": "#EBF0F8"
             },
             "line": {
              "color": "white"
             }
            },
            "header": {
             "fill": {
              "color": "#C8D4E3"
             },
             "line": {
              "color": "white"
             }
            },
            "type": "table"
           }
          ]
         },
         "layout": {
          "annotationdefaults": {
           "arrowcolor": "#2a3f5f",
           "arrowhead": 0,
           "arrowwidth": 1
          },
          "autotypenumbers": "strict",
          "coloraxis": {
           "colorbar": {
            "outlinewidth": 0,
            "ticks": ""
           }
          },
          "colorscale": {
           "diverging": [
            [
             0,
             "#8e0152"
            ],
            [
             0.1,
             "#c51b7d"
            ],
            [
             0.2,
             "#de77ae"
            ],
            [
             0.3,
             "#f1b6da"
            ],
            [
             0.4,
             "#fde0ef"
            ],
            [
             0.5,
             "#f7f7f7"
            ],
            [
             0.6,
             "#e6f5d0"
            ],
            [
             0.7,
             "#b8e186"
            ],
            [
             0.8,
             "#7fbc41"
            ],
            [
             0.9,
             "#4d9221"
            ],
            [
             1,
             "#276419"
            ]
           ],
           "sequential": [
            [
             0,
             "#0d0887"
            ],
            [
             0.1111111111111111,
             "#46039f"
            ],
            [
             0.2222222222222222,
             "#7201a8"
            ],
            [
             0.3333333333333333,
             "#9c179e"
            ],
            [
             0.4444444444444444,
             "#bd3786"
            ],
            [
             0.5555555555555556,
             "#d8576b"
            ],
            [
             0.6666666666666666,
             "#ed7953"
            ],
            [
             0.7777777777777778,
             "#fb9f3a"
            ],
            [
             0.8888888888888888,
             "#fdca26"
            ],
            [
             1,
             "#f0f921"
            ]
           ],
           "sequentialminus": [
            [
             0,
             "#0d0887"
            ],
            [
             0.1111111111111111,
             "#46039f"
            ],
            [
             0.2222222222222222,
             "#7201a8"
            ],
            [
             0.3333333333333333,
             "#9c179e"
            ],
            [
             0.4444444444444444,
             "#bd3786"
            ],
            [
             0.5555555555555556,
             "#d8576b"
            ],
            [
             0.6666666666666666,
             "#ed7953"
            ],
            [
             0.7777777777777778,
             "#fb9f3a"
            ],
            [
             0.8888888888888888,
             "#fdca26"
            ],
            [
             1,
             "#f0f921"
            ]
           ]
          },
          "colorway": [
           "#636efa",
           "#EF553B",
           "#00cc96",
           "#ab63fa",
           "#FFA15A",
           "#19d3f3",
           "#FF6692",
           "#B6E880",
           "#FF97FF",
           "#FECB52"
          ],
          "font": {
           "color": "#2a3f5f"
          },
          "geo": {
           "bgcolor": "white",
           "lakecolor": "white",
           "landcolor": "#E5ECF6",
           "showlakes": true,
           "showland": true,
           "subunitcolor": "white"
          },
          "hoverlabel": {
           "align": "left"
          },
          "hovermode": "closest",
          "mapbox": {
           "style": "light"
          },
          "paper_bgcolor": "white",
          "plot_bgcolor": "#E5ECF6",
          "polar": {
           "angularaxis": {
            "gridcolor": "white",
            "linecolor": "white",
            "ticks": ""
           },
           "bgcolor": "#E5ECF6",
           "radialaxis": {
            "gridcolor": "white",
            "linecolor": "white",
            "ticks": ""
           }
          },
          "scene": {
           "xaxis": {
            "backgroundcolor": "#E5ECF6",
            "gridcolor": "white",
            "gridwidth": 2,
            "linecolor": "white",
            "showbackground": true,
            "ticks": "",
            "zerolinecolor": "white"
           },
           "yaxis": {
            "backgroundcolor": "#E5ECF6",
            "gridcolor": "white",
            "gridwidth": 2,
            "linecolor": "white",
            "showbackground": true,
            "ticks": "",
            "zerolinecolor": "white"
           },
           "zaxis": {
            "backgroundcolor": "#E5ECF6",
            "gridcolor": "white",
            "gridwidth": 2,
            "linecolor": "white",
            "showbackground": true,
            "ticks": "",
            "zerolinecolor": "white"
           }
          },
          "shapedefaults": {
           "line": {
            "color": "#2a3f5f"
           }
          },
          "ternary": {
           "aaxis": {
            "gridcolor": "white",
            "linecolor": "white",
            "ticks": ""
           },
           "baxis": {
            "gridcolor": "white",
            "linecolor": "white",
            "ticks": ""
           },
           "bgcolor": "#E5ECF6",
           "caxis": {
            "gridcolor": "white",
            "linecolor": "white",
            "ticks": ""
           }
          },
          "title": {
           "x": 0.05
          },
          "xaxis": {
           "automargin": true,
           "gridcolor": "white",
           "linecolor": "white",
           "ticks": "",
           "title": {
            "standoff": 15
           },
           "zerolinecolor": "white",
           "zerolinewidth": 2
          },
          "yaxis": {
           "automargin": true,
           "gridcolor": "white",
           "linecolor": "white",
           "ticks": "",
           "title": {
            "standoff": 15
           },
           "zerolinecolor": "white",
           "zerolinewidth": 2
          }
         }
        },
        "title": {
         "text": "Actual vs Predicted Total Minutes Played"
        },
        "xaxis": {
         "title": {
          "text": "Date"
         }
        },
        "yaxis": {
         "title": {
          "text": "Total Minutes Played"
         }
        }
       }
      }
     },
     "metadata": {},
     "output_type": "display_data"
    }
   ],
   "source": [
    "import plotly.graph_objs as go\n",
    "import plotly.offline as py\n",
    "\n",
    "# Actual vs Predicted Plot\n",
    "actual_trace = go.Scatter(\n",
    "    x=test_df.index,\n",
    "    y=test_df['TotalMinutesPlayed'],\n",
    "    mode='lines',\n",
    "    name='Actual'\n",
    ")\n",
    "\n",
    "predicted_trace = go.Scatter(\n",
    "    x=test_df.index,\n",
    "    y=forecast_arima,\n",
    "    mode='lines',\n",
    "    name='ARIMA Predicted',\n",
    "    line=dict(dash='dash')\n",
    ")\n",
    "\n",
    "# Combine all traces\n",
    "data = [actual_trace, predicted_trace]\n",
    "\n",
    "# Layout\n",
    "layout = go.Layout(\n",
    "    title='Actual vs Predicted Total Minutes Played',\n",
    "    xaxis={'title': 'Date'},\n",
    "    yaxis={'title': 'Total Minutes Played'},\n",
    "    hovermode='closest'\n",
    ")\n",
    "\n",
    "# Create the figure\n",
    "fig = go.Figure(data=data, layout=layout)\n",
    "\n",
    "# Plot the figure\n",
    "py.iplot(fig)\n"
   ]
  },
  {
   "cell_type": "markdown",
   "metadata": {},
   "source": [
    "Autogluon"
   ]
  },
  {
   "cell_type": "code",
   "execution_count": 153,
   "metadata": {},
   "outputs": [
    {
     "name": "stdout",
     "output_type": "stream",
     "text": [
      "              DateTime  TotalMinutesPlayed        Date  Hour  DateID\n",
      "12 2023-08-13 00:00:00                 0.0  2023-08-13     0      13\n",
      "13 2023-08-13 01:00:00                 0.0  2023-08-13     1      14\n",
      "14 2023-08-13 02:00:00                 0.0  2023-08-13     2      15\n",
      "15 2023-08-13 03:00:00                 0.0  2023-08-13     3      16\n",
      "16 2023-08-13 04:00:00                 0.0  2023-08-13     4      17\n",
      "17 2023-08-13 05:00:00                 0.0  2023-08-13     5      18\n",
      "18 2023-08-13 06:00:00                 0.0  2023-08-13     6      19\n",
      "19 2023-08-13 07:00:00                 0.0  2023-08-13     7      20\n",
      "20 2023-08-13 08:00:00                 0.0  2023-08-13     8      21\n",
      "21 2023-08-13 09:00:00                 0.0  2023-08-13     9      22\n",
      "22 2023-08-13 10:00:00                 0.0  2023-08-13    10      23\n",
      "23 2023-08-13 11:00:00                 0.0  2023-08-13    11      24\n",
      "24 2023-08-13 12:00:00                 0.0  2023-08-13    12      25\n",
      "25 2023-08-13 13:00:00                 0.0  2023-08-13    13      26\n",
      "26 2023-08-13 14:00:00                 0.0  2023-08-13    14      27\n",
      "27 2023-08-13 15:00:00                 0.0  2023-08-13    15      28\n",
      "28 2023-08-13 16:00:00                 0.0  2023-08-13    16      29\n",
      "29 2023-08-13 17:00:00                 0.0  2023-08-13    17      30\n",
      "30 2023-08-13 18:00:00                 0.0  2023-08-13    18      31\n",
      "31 2023-08-13 19:00:00                 0.0  2023-08-13    19      32\n",
      "32 2023-08-13 20:00:00                 0.0  2023-08-13    20      33\n",
      "33 2023-08-13 21:00:00                 0.0  2023-08-13    21      34\n",
      "34 2023-08-13 22:00:00                 0.0  2023-08-13    22      35\n",
      "35 2023-08-13 23:00:00                 0.0  2023-08-13    23      36\n"
     ]
    }
   ],
   "source": [
    "import json\n",
    "import pandas as pd\n",
    "from autogluon.timeseries import TimeSeriesDataFrame, TimeSeriesPredictor\n",
    "\n",
    "# Load JSON data\n",
    "with open('./Spotify Account Data/StreamingHistory_music_0.json', 'r', encoding='utf-8') as file:\n",
    "    data = json.load(file)\n",
    "\n",
    "# Create DataFrame\n",
    "df = pd.DataFrame(data)\n",
    "\n",
    "# Convert 'endTime' to datetime\n",
    "df['endTime'] = pd.to_datetime(df['endTime'])\n",
    "\n",
    "# Extract date and time parts\n",
    "df['DateTime'] = df['endTime']\n",
    "df['Date'] = df['DateTime'].dt.date\n",
    "df['Hour'] = df['DateTime'].dt.hour\n",
    "\n",
    "# Set 'DateTime' as the index\n",
    "df.set_index('DateTime', inplace=True)\n",
    "\n",
    "# Resample to hourly frequency\n",
    "hourly_df = df.resample('H').agg({\n",
    "    'msPlayed': 'sum'  # Sum minutes played for each hour\n",
    "}).reset_index()\n",
    "\n",
    "# hourly_df['DateTime'].unique().tolist()\n",
    "hourly_df['TotalMinutesPlayed'] = hourly_df['msPlayed']/1000/60\n",
    "hourly_df.drop('msPlayed',axis=1,inplace=True)\n",
    "# Fill missing hours with 0\n",
    "hourly_df['TotalMinutesPlayed'].fillna(0, inplace=True)\n",
    "# Add additional columns if needed (like Date and Hour) for clarity\n",
    "hourly_df['Date'] = hourly_df['DateTime'].dt.date\n",
    "hourly_df['Hour'] = hourly_df['DateTime'].dt.hour\n",
    "\n",
    "# Create a unique ID for each date\n",
    "hourly_df['DateID'] = hourly_df['DateTime'].astype('category').cat.codes + 1\n",
    "# Print the resulting DataFrame\n",
    "print(hourly_df[12:].head(24))  # Print the first 24 hours to check"
   ]
  },
  {
   "cell_type": "code",
   "execution_count": 154,
   "metadata": {},
   "outputs": [
    {
     "data": {
      "text/html": [
       "<div>\n",
       "<style scoped>\n",
       "    .dataframe tbody tr th:only-of-type {\n",
       "        vertical-align: middle;\n",
       "    }\n",
       "\n",
       "    .dataframe tbody tr th {\n",
       "        vertical-align: top;\n",
       "    }\n",
       "\n",
       "    .dataframe thead th {\n",
       "        text-align: right;\n",
       "    }\n",
       "</style>\n",
       "<table border=\"1\" class=\"dataframe\">\n",
       "  <thead>\n",
       "    <tr style=\"text-align: right;\">\n",
       "      <th></th>\n",
       "      <th></th>\n",
       "      <th>TotalMinutesPlayed</th>\n",
       "    </tr>\n",
       "    <tr>\n",
       "      <th>item_id</th>\n",
       "      <th>timestamp</th>\n",
       "      <th></th>\n",
       "    </tr>\n",
       "  </thead>\n",
       "  <tbody>\n",
       "    <tr>\n",
       "      <th>13</th>\n",
       "      <th>2023-08-13 00:00:00</th>\n",
       "      <td>0.000000</td>\n",
       "    </tr>\n",
       "    <tr>\n",
       "      <th>14</th>\n",
       "      <th>2023-08-13 01:00:00</th>\n",
       "      <td>0.000000</td>\n",
       "    </tr>\n",
       "    <tr>\n",
       "      <th>15</th>\n",
       "      <th>2023-08-13 02:00:00</th>\n",
       "      <td>0.000000</td>\n",
       "    </tr>\n",
       "    <tr>\n",
       "      <th>16</th>\n",
       "      <th>2023-08-13 03:00:00</th>\n",
       "      <td>0.000000</td>\n",
       "    </tr>\n",
       "    <tr>\n",
       "      <th>17</th>\n",
       "      <th>2023-08-13 04:00:00</th>\n",
       "      <td>0.000000</td>\n",
       "    </tr>\n",
       "    <tr>\n",
       "      <th>...</th>\n",
       "      <th>...</th>\n",
       "      <td>...</td>\n",
       "    </tr>\n",
       "    <tr>\n",
       "      <th>8805</th>\n",
       "      <th>2024-08-13 08:00:00</th>\n",
       "      <td>0.000000</td>\n",
       "    </tr>\n",
       "    <tr>\n",
       "      <th>8806</th>\n",
       "      <th>2024-08-13 09:00:00</th>\n",
       "      <td>41.106167</td>\n",
       "    </tr>\n",
       "    <tr>\n",
       "      <th>8807</th>\n",
       "      <th>2024-08-13 10:00:00</th>\n",
       "      <td>15.652033</td>\n",
       "    </tr>\n",
       "    <tr>\n",
       "      <th>8808</th>\n",
       "      <th>2024-08-13 11:00:00</th>\n",
       "      <td>14.101967</td>\n",
       "    </tr>\n",
       "    <tr>\n",
       "      <th>8809</th>\n",
       "      <th>2024-08-13 12:00:00</th>\n",
       "      <td>52.640900</td>\n",
       "    </tr>\n",
       "  </tbody>\n",
       "</table>\n",
       "<p>8797 rows × 1 columns</p>\n",
       "</div>"
      ],
      "text/plain": [
       "                             TotalMinutesPlayed\n",
       "item_id timestamp                              \n",
       "13      2023-08-13 00:00:00            0.000000\n",
       "14      2023-08-13 01:00:00            0.000000\n",
       "15      2023-08-13 02:00:00            0.000000\n",
       "16      2023-08-13 03:00:00            0.000000\n",
       "17      2023-08-13 04:00:00            0.000000\n",
       "...                                         ...\n",
       "8805    2024-08-13 08:00:00            0.000000\n",
       "8806    2024-08-13 09:00:00           41.106167\n",
       "8807    2024-08-13 10:00:00           15.652033\n",
       "8808    2024-08-13 11:00:00           14.101967\n",
       "8809    2024-08-13 12:00:00           52.640900\n",
       "\n",
       "[8797 rows x 1 columns]"
      ]
     },
     "execution_count": 154,
     "metadata": {},
     "output_type": "execute_result"
    }
   ],
   "source": [
    "# Prepare training data\n",
    "train_data = TimeSeriesDataFrame.from_data_frame(\n",
    "    hourly_df[12:].drop(['Date','Hour'], axis=1),\n",
    "    id_column=\"DateID\",\n",
    "    timestamp_column=\"DateTime\"\n",
    ")\n",
    "\n",
    "train_data\n"
   ]
  },
  {
   "cell_type": "code",
   "execution_count": null,
   "metadata": {},
   "outputs": [],
   "source": [
    "# Initialize and fit the predictor\n",
    "predictor = TimeSeriesPredictor(\n",
    "    path=\"autogluon-m4-hourly\",\n",
    "    target=\"TotalMinutesPlayed\",\n",
    "    eval_metric=\"MASE\",\n",
    "    freq='h'\n",
    ")\n",
    "\n",
    "predictor.fit(\n",
    "    train_data,\n",
    "    presets=\"medium_quality\",\n",
    "    time_limit=600\n",
    ")"
   ]
  }
 ],
 "metadata": {
  "kernelspec": {
   "display_name": "Python 3",
   "language": "python",
   "name": "python3"
  },
  "language_info": {
   "codemirror_mode": {
    "name": "ipython",
    "version": 3
   },
   "file_extension": ".py",
   "mimetype": "text/x-python",
   "name": "python",
   "nbconvert_exporter": "python",
   "pygments_lexer": "ipython3",
   "version": "3.10.8"
  }
 },
 "nbformat": 4,
 "nbformat_minor": 2
}
