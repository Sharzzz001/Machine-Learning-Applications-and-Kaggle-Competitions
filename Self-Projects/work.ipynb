{
 "cells": [
  {
   "cell_type": "code",
   "execution_count": null,
   "metadata": {},
   "outputs": [],
   "source": [
    "import pandas as pd\n",
    "import pdfplumber\n",
    "\n",
    "# 1. Read and group by ISIN in Excel\n",
    "excel_file = 'your_isin_file.xlsx'\n",
    "df_excel = pd.read_excel(excel_file)\n",
    "\n",
    "# Group by ISIN and sum the amount\n",
    "df_grouped = df_excel.groupby('ISIN')['Amount'].sum().reset_index()\n",
    "\n",
    "# 2. Extract amount from PDF (assuming a table structure)\n",
    "pdf_file = 'your_client_pdf.pdf'\n",
    "with pdfplumber.open(pdf_file) as pdf:\n",
    "    for page in pdf.pages:\n",
    "        table = page.extract_table()\n",
    "        # Assuming ISIN and amount are in the first and second columns respectively\n",
    "        pdf_data = pd.DataFrame(table[1:], columns=table[0])  # convert to DataFrame for easier manipulation\n",
    "        # Find the row where ISIN matches\n",
    "        pdf_isin_row = pdf_data[pdf_data['Fund ISIN'] == 'Your ISIN']\n",
    "\n",
    "# Get the relevant amount from PDF row\n",
    "pdf_isin_amount = pdf_isin_row['Amount'].astype(float).sum()\n",
    "\n",
    "# 3. Create comparison DataFrame\n",
    "comparison_df = pd.DataFrame({\n",
    "    'ISIN': df_grouped['ISIN'],\n",
    "    'Excel Amount': df_grouped['Amount'],\n",
    "    'PDF Amount': pdf_isin_amount\n",
    "})\n",
    "\n",
    "# Calculate the difference and percentage difference\n",
    "comparison_df['Difference'] = comparison_df['Excel Amount'] - comparison_df['PDF Amount']\n",
    "comparison_df['% Difference'] = (comparison_df['Difference'] / comparison_df['Excel Amount']) * 100\n",
    "\n",
    "print(comparison_df)\n"
   ]
  }
 ],
 "metadata": {
  "language_info": {
   "name": "python"
  }
 },
 "nbformat": 4,
 "nbformat_minor": 2
}
