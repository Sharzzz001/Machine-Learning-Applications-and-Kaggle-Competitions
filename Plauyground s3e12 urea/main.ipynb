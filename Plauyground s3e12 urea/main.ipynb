{
 "cells": [
  {
   "cell_type": "code",
   "execution_count": 240,
   "metadata": {},
   "outputs": [],
   "source": [
    "import pandas as pd\n",
    "import matplotlib.pyplot as plt\n",
    "import seaborn as sns\n",
    "import matplotlib.pyplot as plt\n",
    "import seaborn as sns\n",
    "import numpy as np\n",
    "import jinja2\n",
    "from dataprep.eda import create_report, plot, plot_correlation, plot_missing , plot_diff\n",
    "from sklearn.metrics import confusion_matrix, precision_score, recall_score, roc_auc_score, f1_score\n",
    "import plotly.express as px\n",
    "\n",
    "from lightgbm import LGBMClassifier, log_evaluation\n",
    "from sklearn.preprocessing import MinMaxScaler, RobustScaler, StandardScaler\n",
    "from sklearn.ensemble import RandomForestClassifier\n",
    "from sklearn.linear_model import LogisticRegression\n",
    "from sklearn import model_selection\n",
    "from imblearn.over_sampling import SMOTE\n",
    "from xgboost import XGBClassifier\n",
    "from catboost import CatBoostClassifier"
   ]
  },
  {
   "cell_type": "code",
   "execution_count": 241,
   "metadata": {},
   "outputs": [
    {
     "data": {
      "text/plain": [
       "((414, 8), (79, 7))"
      ]
     },
     "execution_count": 241,
     "metadata": {},
     "output_type": "execute_result"
    }
   ],
   "source": [
    "df = pd.read_csv('train.csv')\n",
    "og = pd.read_csv('original.csv')\n",
    "df.shape, og.shape"
   ]
  },
  {
   "cell_type": "code",
   "execution_count": 242,
   "metadata": {},
   "outputs": [
    {
     "data": {
      "text/html": [
       "<div>\n",
       "<style scoped>\n",
       "    .dataframe tbody tr th:only-of-type {\n",
       "        vertical-align: middle;\n",
       "    }\n",
       "\n",
       "    .dataframe tbody tr th {\n",
       "        vertical-align: top;\n",
       "    }\n",
       "\n",
       "    .dataframe thead th {\n",
       "        text-align: right;\n",
       "    }\n",
       "</style>\n",
       "<table border=\"1\" class=\"dataframe\">\n",
       "  <thead>\n",
       "    <tr style=\"text-align: right;\">\n",
       "      <th></th>\n",
       "      <th>id</th>\n",
       "      <th>gravity</th>\n",
       "      <th>ph</th>\n",
       "      <th>osmo</th>\n",
       "      <th>cond</th>\n",
       "      <th>urea</th>\n",
       "      <th>calc</th>\n",
       "      <th>target</th>\n",
       "    </tr>\n",
       "  </thead>\n",
       "  <tbody>\n",
       "    <tr>\n",
       "      <th>0</th>\n",
       "      <td>0</td>\n",
       "      <td>1.013</td>\n",
       "      <td>6.19</td>\n",
       "      <td>443</td>\n",
       "      <td>14.8</td>\n",
       "      <td>124</td>\n",
       "      <td>1.45</td>\n",
       "      <td>0</td>\n",
       "    </tr>\n",
       "    <tr>\n",
       "      <th>1</th>\n",
       "      <td>1</td>\n",
       "      <td>1.025</td>\n",
       "      <td>5.40</td>\n",
       "      <td>703</td>\n",
       "      <td>23.6</td>\n",
       "      <td>394</td>\n",
       "      <td>4.18</td>\n",
       "      <td>0</td>\n",
       "    </tr>\n",
       "    <tr>\n",
       "      <th>2</th>\n",
       "      <td>2</td>\n",
       "      <td>1.009</td>\n",
       "      <td>6.13</td>\n",
       "      <td>371</td>\n",
       "      <td>24.5</td>\n",
       "      <td>159</td>\n",
       "      <td>9.04</td>\n",
       "      <td>0</td>\n",
       "    </tr>\n",
       "    <tr>\n",
       "      <th>3</th>\n",
       "      <td>3</td>\n",
       "      <td>1.021</td>\n",
       "      <td>4.91</td>\n",
       "      <td>442</td>\n",
       "      <td>20.8</td>\n",
       "      <td>398</td>\n",
       "      <td>6.63</td>\n",
       "      <td>1</td>\n",
       "    </tr>\n",
       "    <tr>\n",
       "      <th>4</th>\n",
       "      <td>4</td>\n",
       "      <td>1.021</td>\n",
       "      <td>5.53</td>\n",
       "      <td>874</td>\n",
       "      <td>17.8</td>\n",
       "      <td>385</td>\n",
       "      <td>2.21</td>\n",
       "      <td>1</td>\n",
       "    </tr>\n",
       "  </tbody>\n",
       "</table>\n",
       "</div>"
      ],
      "text/plain": [
       "   id  gravity    ph  osmo  cond  urea  calc  target\n",
       "0   0    1.013  6.19   443  14.8   124  1.45       0\n",
       "1   1    1.025  5.40   703  23.6   394  4.18       0\n",
       "2   2    1.009  6.13   371  24.5   159  9.04       0\n",
       "3   3    1.021  4.91   442  20.8   398  6.63       1\n",
       "4   4    1.021  5.53   874  17.8   385  2.21       1"
      ]
     },
     "execution_count": 242,
     "metadata": {},
     "output_type": "execute_result"
    }
   ],
   "source": [
    "df.head()"
   ]
  },
  {
   "cell_type": "code",
   "execution_count": 243,
   "metadata": {},
   "outputs": [
    {
     "data": {
      "text/plain": [
       "False"
      ]
     },
     "execution_count": 243,
     "metadata": {},
     "output_type": "execute_result"
    }
   ],
   "source": [
    "df.isnull().values.any()"
   ]
  },
  {
   "cell_type": "code",
   "execution_count": 244,
   "metadata": {},
   "outputs": [],
   "source": [
    "df.drop('id',axis=1, inplace=True)"
   ]
  },
  {
   "cell_type": "code",
   "execution_count": 245,
   "metadata": {},
   "outputs": [],
   "source": [
    "# df = pd.concat([df,og],axis=0)\n",
    "# df.shape"
   ]
  },
  {
   "cell_type": "code",
   "execution_count": 246,
   "metadata": {},
   "outputs": [
    {
     "data": {
      "text/html": [
       "<div>\n",
       "<style scoped>\n",
       "    .dataframe tbody tr th:only-of-type {\n",
       "        vertical-align: middle;\n",
       "    }\n",
       "\n",
       "    .dataframe tbody tr th {\n",
       "        vertical-align: top;\n",
       "    }\n",
       "\n",
       "    .dataframe thead th {\n",
       "        text-align: right;\n",
       "    }\n",
       "</style>\n",
       "<table border=\"1\" class=\"dataframe\">\n",
       "  <thead>\n",
       "    <tr style=\"text-align: right;\">\n",
       "      <th></th>\n",
       "      <th>count</th>\n",
       "      <th>mean</th>\n",
       "      <th>std</th>\n",
       "      <th>min</th>\n",
       "      <th>25%</th>\n",
       "      <th>50%</th>\n",
       "      <th>75%</th>\n",
       "      <th>max</th>\n",
       "    </tr>\n",
       "  </thead>\n",
       "  <tbody>\n",
       "    <tr>\n",
       "      <th>gravity</th>\n",
       "      <td>414.0</td>\n",
       "      <td>1.017894</td>\n",
       "      <td>0.006675</td>\n",
       "      <td>1.005</td>\n",
       "      <td>1.012</td>\n",
       "      <td>1.018</td>\n",
       "      <td>1.022</td>\n",
       "      <td>1.04</td>\n",
       "    </tr>\n",
       "    <tr>\n",
       "      <th>ph</th>\n",
       "      <td>414.0</td>\n",
       "      <td>5.955459</td>\n",
       "      <td>0.642260</td>\n",
       "      <td>4.760</td>\n",
       "      <td>5.530</td>\n",
       "      <td>5.740</td>\n",
       "      <td>6.280</td>\n",
       "      <td>7.94</td>\n",
       "    </tr>\n",
       "    <tr>\n",
       "      <th>osmo</th>\n",
       "      <td>414.0</td>\n",
       "      <td>651.545894</td>\n",
       "      <td>234.676567</td>\n",
       "      <td>187.000</td>\n",
       "      <td>455.250</td>\n",
       "      <td>679.500</td>\n",
       "      <td>840.000</td>\n",
       "      <td>1236.00</td>\n",
       "    </tr>\n",
       "    <tr>\n",
       "      <th>cond</th>\n",
       "      <td>414.0</td>\n",
       "      <td>21.437923</td>\n",
       "      <td>7.514750</td>\n",
       "      <td>5.100</td>\n",
       "      <td>15.500</td>\n",
       "      <td>22.200</td>\n",
       "      <td>27.600</td>\n",
       "      <td>38.00</td>\n",
       "    </tr>\n",
       "    <tr>\n",
       "      <th>urea</th>\n",
       "      <td>414.0</td>\n",
       "      <td>278.657005</td>\n",
       "      <td>136.442249</td>\n",
       "      <td>10.000</td>\n",
       "      <td>170.000</td>\n",
       "      <td>277.000</td>\n",
       "      <td>385.000</td>\n",
       "      <td>620.00</td>\n",
       "    </tr>\n",
       "    <tr>\n",
       "      <th>calc</th>\n",
       "      <td>414.0</td>\n",
       "      <td>4.114638</td>\n",
       "      <td>3.217641</td>\n",
       "      <td>0.170</td>\n",
       "      <td>1.450</td>\n",
       "      <td>3.130</td>\n",
       "      <td>6.630</td>\n",
       "      <td>14.34</td>\n",
       "    </tr>\n",
       "    <tr>\n",
       "      <th>target</th>\n",
       "      <td>414.0</td>\n",
       "      <td>0.444444</td>\n",
       "      <td>0.497505</td>\n",
       "      <td>0.000</td>\n",
       "      <td>0.000</td>\n",
       "      <td>0.000</td>\n",
       "      <td>1.000</td>\n",
       "      <td>1.00</td>\n",
       "    </tr>\n",
       "  </tbody>\n",
       "</table>\n",
       "</div>"
      ],
      "text/plain": [
       "         count        mean         std      min      25%      50%      75%  \\\n",
       "gravity  414.0    1.017894    0.006675    1.005    1.012    1.018    1.022   \n",
       "ph       414.0    5.955459    0.642260    4.760    5.530    5.740    6.280   \n",
       "osmo     414.0  651.545894  234.676567  187.000  455.250  679.500  840.000   \n",
       "cond     414.0   21.437923    7.514750    5.100   15.500   22.200   27.600   \n",
       "urea     414.0  278.657005  136.442249   10.000  170.000  277.000  385.000   \n",
       "calc     414.0    4.114638    3.217641    0.170    1.450    3.130    6.630   \n",
       "target   414.0    0.444444    0.497505    0.000    0.000    0.000    1.000   \n",
       "\n",
       "             max  \n",
       "gravity     1.04  \n",
       "ph          7.94  \n",
       "osmo     1236.00  \n",
       "cond       38.00  \n",
       "urea      620.00  \n",
       "calc       14.34  \n",
       "target      1.00  "
      ]
     },
     "execution_count": 246,
     "metadata": {},
     "output_type": "execute_result"
    }
   ],
   "source": [
    "df.describe().T"
   ]
  },
  {
   "cell_type": "code",
   "execution_count": 247,
   "metadata": {},
   "outputs": [
    {
     "data": {
      "text/plain": [
       "((414, 7), (414, 9))"
      ]
     },
     "execution_count": 247,
     "metadata": {},
     "output_type": "execute_result"
    }
   ],
   "source": [
    "# new feats\n",
    "def new_feats(feat):\n",
    "    feat_copy = feat.copy()\n",
    "    feat_copy['Urine_Dilution'] = feat_copy['gravity'] / feat_copy['ph']\n",
    "    # feat_copy['AcidBase'] = feat_copy['ph'].apply(lambda x: 1 if x < 5 else 0)\n",
    "    feat_copy['UreaAdjusted'] = feat_copy['urea'] / feat_copy['gravity']\n",
    "    # feat_copy[\"ion_product\"] = feat_copy[\"calc\"] * feat_copy[\"urea\"]\n",
    "    # feat_copy[\"calcium_to_urea_ratio\"] = feat_copy[\"calc\"] / feat_copy[\"urea\"]\n",
    "    # feat_copy[\"electrolyte_balance\"] = feat_copy[\"cond\"] / (10 ** (-feat_copy[\"ph\"]))\n",
    "    # feat_copy[\"osmolality_to_sg_ratio\"] = feat_copy[\"osmo\"] / feat_copy[\"gravity\"]\n",
    "    # feat_copy['osmo_density'] = feat_copy['osmo'] * feat_copy['gravity']\n",
    "    \n",
    "    # # ******************************************************************\n",
    "    \n",
    "    # # Calculate ammonium concentration (assuming ammonium is not directly measured)\n",
    "    # feat_copy['ammonium_concentration'] = (feat_copy['gravity'] - 1.010) * (140 - (2 * feat_copy[\"ph\"])) * 1.2\n",
    "    # # Calculate phosphate concentration (assuming phosphate is not directly measured)\n",
    "    # feat_copy['phosphate_concentration'] = (feat_copy['gravity'] - 1.010) * (32 - (0.06 * feat_copy[\"ph\"]))\n",
    "\n",
    "    # # *****************************************************************\n",
    "    \n",
    "    # feat_copy[\"gravity/ph\"] = feat_copy[\"gravity\"] / feat_copy[\"ph\"]\n",
    "    # feat_copy[\"osmo/cond\"] = feat_copy[\"osmo\"] / feat_copy[\"cond\"]\n",
    "    # feat_copy[\"gravity*ph\"] = feat_copy[\"gravity\"] * feat_copy[\"ph\"]\n",
    "    # feat_copy[\"osmo*urea\"] = feat_copy[\"osmo\"] * feat_copy[\"urea\"]\n",
    "    # feat_copy[\"cond_urea_ph\"] = feat_copy[\"cond\"] * feat_copy[\"urea\"] / feat_copy[\"ph\"]\n",
    "    # feat_copy[\"ph*osmo\"] = feat_copy[\"ph\"] * feat_copy[\"osmo\"]\n",
    "    # feat_copy[\"cond*calc\"] = feat_copy[\"cond\"] * feat_copy[\"calc\"]\n",
    "    # feat_copy[\"gravity/calc\"] = feat_copy[\"gravity\"] / feat_copy[\"calc\"]\n",
    "    return feat_copy\n",
    "\n",
    "df_feats = new_feats(df)\n",
    "df.shape, df_feats.shape"
   ]
  },
  {
   "cell_type": "code",
   "execution_count": 248,
   "metadata": {},
   "outputs": [
    {
     "data": {
      "text/plain": [
       "['gravity',\n",
       " 'ph',\n",
       " 'osmo',\n",
       " 'cond',\n",
       " 'urea',\n",
       " 'calc',\n",
       " 'Urine_Dilution',\n",
       " 'UreaAdjusted']"
      ]
     },
     "execution_count": 248,
     "metadata": {},
     "output_type": "execute_result"
    }
   ],
   "source": [
    "features = [f for f in df_feats.columns if f!= 'target']\n",
    "features"
   ]
  },
  {
   "cell_type": "code",
   "execution_count": 249,
   "metadata": {},
   "outputs": [
    {
     "data": {
      "image/png": "[encoded data removed]",
      "text/plain": [
       "<Figure size 1500x1000 with 8 Axes>"
      ]
     },
     "metadata": {},
     "output_type": "display_data"
    }
   ],
   "source": [
    "# Set the figure size\n",
    "plt.figure(figsize=(15, 10))\n",
    "sns.set_theme(style=\"whitegrid\")\n",
    "# Create categorical features subplots\n",
    "for i, feature in enumerate(features):\n",
    "    ax = plt.subplot(5, 5, i+1)\n",
    "    sns.boxplot(x=\"target\", y=feature , data=df_feats, ax=ax)\n",
    "    \n",
    "plt.subplots_adjust(top=0.9, bottom=0.1, left=0.1, right=0.9, hspace=.5, wspace=0.5)"
   ]
  },
  {
   "cell_type": "code",
   "execution_count": 250,
   "metadata": {},
   "outputs": [
    {
     "data": {
      "image/png": "[encoded data removed]",
      "text/plain": [
       "<Figure size 1800x900 with 2 Axes>"
      ]
     },
     "metadata": {},
     "output_type": "display_data"
    }
   ],
   "source": [
    "corr = df_feats.iloc[:,1:].corr()\n",
    "\n",
    "# create mask for upper triangle\n",
    "mask = np.triu(np.ones_like(corr, dtype=bool))\n",
    "\n",
    "# Create heatmap\n",
    "plt.figure(figsize=(18, 9))\n",
    "# set theme to change overall style\n",
    "sns.set_theme(style=\"white\", font_scale=0.7)\n",
    "sns.heatmap(corr, cmap=\"cool\", linewidths=2, mask=mask, vmin=-1, vmax=1, annot=True, fmt=\".2f\")\n",
    "plt.title(\"Correlation Matrix\", fontsize=12, weight = 'bold', pad=20)\n",
    "plt.show()"
   ]
  },
  {
   "attachments": {},
   "cell_type": "markdown",
   "metadata": {},
   "source": [
    "ph is not outlier!!"
   ]
  },
  {
   "attachments": {},
   "cell_type": "markdown",
   "metadata": {},
   "source": [
    "Modelling"
   ]
  },
  {
   "cell_type": "code",
   "execution_count": 251,
   "metadata": {},
   "outputs": [
    {
     "data": {
      "text/plain": [
       "((414, 8), (414,))"
      ]
     },
     "execution_count": 251,
     "metadata": {},
     "output_type": "execute_result"
    }
   ],
   "source": [
    "X = df_feats.drop('target',axis=1)\n",
    "y = df_feats.target\n",
    "\n",
    "X.shape, y.shape"
   ]
  },
  {
   "cell_type": "code",
   "execution_count": 252,
   "metadata": {},
   "outputs": [
    {
     "data": {
      "text/html": [
       "<div>\n",
       "<style scoped>\n",
       "    .dataframe tbody tr th:only-of-type {\n",
       "        vertical-align: middle;\n",
       "    }\n",
       "\n",
       "    .dataframe tbody tr th {\n",
       "        vertical-align: top;\n",
       "    }\n",
       "\n",
       "    .dataframe thead th {\n",
       "        text-align: right;\n",
       "    }\n",
       "</style>\n",
       "<table border=\"1\" class=\"dataframe\">\n",
       "  <thead>\n",
       "    <tr style=\"text-align: right;\">\n",
       "      <th></th>\n",
       "      <th>count</th>\n",
       "      <th>mean</th>\n",
       "      <th>std</th>\n",
       "      <th>min</th>\n",
       "      <th>25%</th>\n",
       "      <th>50%</th>\n",
       "      <th>75%</th>\n",
       "      <th>max</th>\n",
       "    </tr>\n",
       "  </thead>\n",
       "  <tbody>\n",
       "    <tr>\n",
       "      <th>gravity</th>\n",
       "      <td>414.0</td>\n",
       "      <td>3.259658e-14</td>\n",
       "      <td>1.00121</td>\n",
       "      <td>-1.933988</td>\n",
       "      <td>-0.884026</td>\n",
       "      <td>0.015941</td>\n",
       "      <td>0.615920</td>\n",
       "      <td>3.315823</td>\n",
       "    </tr>\n",
       "    <tr>\n",
       "      <th>ph</th>\n",
       "      <td>414.0</td>\n",
       "      <td>-1.244308e-16</td>\n",
       "      <td>1.00121</td>\n",
       "      <td>-1.863584</td>\n",
       "      <td>-0.663242</td>\n",
       "      <td>-0.335876</td>\n",
       "      <td>0.505922</td>\n",
       "      <td>3.093672</td>\n",
       "    </tr>\n",
       "    <tr>\n",
       "      <th>osmo</th>\n",
       "      <td>414.0</td>\n",
       "      <td>2.102451e-16</td>\n",
       "      <td>1.00121</td>\n",
       "      <td>-1.981911</td>\n",
       "      <td>-0.837465</td>\n",
       "      <td>0.119262</td>\n",
       "      <td>0.804009</td>\n",
       "      <td>2.493480</td>\n",
       "    </tr>\n",
       "    <tr>\n",
       "      <th>cond</th>\n",
       "      <td>414.0</td>\n",
       "      <td>1.566112e-16</td>\n",
       "      <td>1.00121</td>\n",
       "      <td>-2.176745</td>\n",
       "      <td>-0.791125</td>\n",
       "      <td>0.101534</td>\n",
       "      <td>0.820990</td>\n",
       "      <td>2.206609</td>\n",
       "    </tr>\n",
       "    <tr>\n",
       "      <th>urea</th>\n",
       "      <td>414.0</td>\n",
       "      <td>1.287215e-16</td>\n",
       "      <td>1.00121</td>\n",
       "      <td>-1.971399</td>\n",
       "      <td>-0.797322</td>\n",
       "      <td>-0.012159</td>\n",
       "      <td>0.780342</td>\n",
       "      <td>2.504767</td>\n",
       "    </tr>\n",
       "    <tr>\n",
       "      <th>calc</th>\n",
       "      <td>414.0</td>\n",
       "      <td>-6.865147e-17</td>\n",
       "      <td>1.00121</td>\n",
       "      <td>-1.227424</td>\n",
       "      <td>-0.829136</td>\n",
       "      <td>-0.306383</td>\n",
       "      <td>0.782687</td>\n",
       "      <td>3.181752</td>\n",
       "    </tr>\n",
       "    <tr>\n",
       "      <th>Urine_Dilution</th>\n",
       "      <td>414.0</td>\n",
       "      <td>-1.201401e-16</td>\n",
       "      <td>1.00121</td>\n",
       "      <td>-2.540957</td>\n",
       "      <td>-0.593875</td>\n",
       "      <td>0.264887</td>\n",
       "      <td>0.670762</td>\n",
       "      <td>2.351968</td>\n",
       "    </tr>\n",
       "    <tr>\n",
       "      <th>UreaAdjusted</th>\n",
       "      <td>414.0</td>\n",
       "      <td>-1.544658e-16</td>\n",
       "      <td>1.00121</td>\n",
       "      <td>-1.985561</td>\n",
       "      <td>-0.801613</td>\n",
       "      <td>-0.015529</td>\n",
       "      <td>0.774589</td>\n",
       "      <td>2.554023</td>\n",
       "    </tr>\n",
       "  </tbody>\n",
       "</table>\n",
       "</div>"
      ],
      "text/plain": [
       "                count          mean      std       min       25%       50%  \\\n",
       "gravity         414.0  3.259658e-14  1.00121 -1.933988 -0.884026  0.015941   \n",
       "ph              414.0 -1.244308e-16  1.00121 -1.863584 -0.663242 -0.335876   \n",
       "osmo            414.0  2.102451e-16  1.00121 -1.981911 -0.837465  0.119262   \n",
       "cond            414.0  1.566112e-16  1.00121 -2.176745 -0.791125  0.101534   \n",
       "urea            414.0  1.287215e-16  1.00121 -1.971399 -0.797322 -0.012159   \n",
       "calc            414.0 -6.865147e-17  1.00121 -1.227424 -0.829136 -0.306383   \n",
       "Urine_Dilution  414.0 -1.201401e-16  1.00121 -2.540957 -0.593875  0.264887   \n",
       "UreaAdjusted    414.0 -1.544658e-16  1.00121 -1.985561 -0.801613 -0.015529   \n",
       "\n",
       "                     75%       max  \n",
       "gravity         0.615920  3.315823  \n",
       "ph              0.505922  3.093672  \n",
       "osmo            0.804009  2.493480  \n",
       "cond            0.820990  2.206609  \n",
       "urea            0.780342  2.504767  \n",
       "calc            0.782687  3.181752  \n",
       "Urine_Dilution  0.670762  2.351968  \n",
       "UreaAdjusted    0.774589  2.554023  "
      ]
     },
     "execution_count": 252,
     "metadata": {},
     "output_type": "execute_result"
    }
   ],
   "source": [
    "scaler = StandardScaler()\n",
    "cols = X.columns\n",
    "X = scaler.fit_transform(X)\n",
    "X = pd.DataFrame(X,columns=cols)\n",
    "X.describe().T"
   ]
  },
  {
   "cell_type": "code",
   "execution_count": 253,
   "metadata": {},
   "outputs": [
    {
     "data": {
      "text/plain": [
       "((331, 8), (83, 8))"
      ]
     },
     "execution_count": 253,
     "metadata": {},
     "output_type": "execute_result"
    }
   ],
   "source": [
    "X_train, X_test, y_train, y_test = model_selection.train_test_split(X,y, stratify=y, random_state=123,test_size=0.2)\n",
    "X_train.shape, X_test.shape"
   ]
  },
  {
   "cell_type": "code",
   "execution_count": 254,
   "metadata": {},
   "outputs": [],
   "source": [
    "smote = SMOTE()\n",
    "X_train_smote , y_train_smote = smote.fit_resample(X_train,y_train)"
   ]
  },
  {
   "cell_type": "code",
   "execution_count": 255,
   "metadata": {},
   "outputs": [
    {
     "name": "stdout",
     "output_type": "stream",
     "text": [
      "clf score: 0.7710843373493976, AUC: 0.8507638072855463\n"
     ]
    }
   ],
   "source": [
    "clf = RandomForestClassifier(random_state=12,class_weight='balanced')\n",
    "clf.fit(X_train,y_train)\n",
    "\n",
    "y_pred = clf.predict_proba(X_test)[:,1]\n",
    "auc = roc_auc_score(y_test, y_pred)\n",
    "print(f'clf score: {clf.score(X_test,y_test)}, AUC: {auc}')"
   ]
  },
  {
   "cell_type": "code",
   "execution_count": 256,
   "metadata": {},
   "outputs": [
    {
     "data": {
      "application/vnd.plotly.v1+json": {
       "config": {
        "plotlyServerURL": "https://plot.ly"
       },
       "data": [
        {
         "alignmentgroup": "True",
         "hovertemplate": "feature=%{x}<br>importance=%{marker.color}<extra></extra>",
         "legendgroup": "",
         "marker": {
          "color": [
           0.25991878283071757,
           0.12404836804574758,
           0.11305554254739,
           0.1100596711442872,
           0.10579189463798508,
           0.09979797074411799,
           0.09610318739590604,
           0.0912245826538485
          ],
          "coloraxis": "coloraxis",
          "pattern": {
           "shape": ""
          }
         },
         "name": "",
         "offsetgroup": "",
         "orientation": "v",
         "showlegend": false,
         "textposition": "auto",
         "type": "bar",
         "x": [
          "calc",
          "UreaAdjusted",
          "Urine_Dilution",
          "cond",
          "urea",
          "gravity",
          "osmo",
          "ph"
         ],
         "xaxis": "x",
         "y": [
          0.25991878283071757,
          0.12404836804574758,
          0.11305554254739,
          0.1100596711442872,
          0.10579189463798508,
          0.09979797074411799,
          0.09610318739590604,
          0.0912245826538485
         ],
         "yaxis": "y"
        }
       ],
       "layout": {
        "barmode": "relative",
        "coloraxis": {
         "colorbar": {
          "title": {
           "text": "importance"
          }
         },
         "colorscale": [
          [
           0,
           "rgb(247,251,255)"
          ],
          [
           0.125,
           "rgb(222,235,247)"
          ],
          [
           0.25,
           "rgb(198,219,239)"
          ],
          [
           0.375,
           "rgb(158,202,225)"
          ],
          [
           0.5,
           "rgb(107,174,214)"
          ],
          [
           0.625,
           "rgb(66,146,198)"
          ],
          [
           0.75,
           "rgb(33,113,181)"
          ],
          [
           0.875,
           "rgb(8,81,156)"
          ],
          [
           1,
           "rgb(8,48,107)"
          ]
         ]
        },
        "legend": {
         "tracegroupgap": 0
        },
        "margin": {
         "t": 60
        },
        "template": {
         "data": {
          "bar": [
           {
            "error_x": {
             "color": "#2a3f5f"
            },
            "error_y": {
             "color": "#2a3f5f"
            },
            "marker": {
             "line": {
              "color": "#E5ECF6",
              "width": 0.5
             },
             "pattern": {
              "fillmode": "overlay",
              "size": 10,
              "solidity": 0.2
             }
            },
            "type": "bar"
           }
          ],
          "barpolar": [
           {
            "marker": {
             "line": {
              "color": "#E5ECF6",
              "width": 0.5
             },
             "pattern": {
              "fillmode": "overlay",
              "size": 10,
              "solidity": 0.2
             }
            },
            "type": "barpolar"
           }
          ],
          "carpet": [
           {
            "aaxis": {
             "endlinecolor": "#2a3f5f",
             "gridcolor": "white",
             "linecolor": "white",
             "minorgridcolor": "white",
             "startlinecolor": "#2a3f5f"
            },
            "baxis": {
             "endlinecolor": "#2a3f5f",
             "gridcolor": "white",
             "linecolor": "white",
             "minorgridcolor": "white",
             "startlinecolor": "#2a3f5f"
            },
            "type": "carpet"
           }
          ],
          "choropleth": [
           {
            "colorbar": {
             "outlinewidth": 0,
             "ticks": ""
            },
            "type": "choropleth"
           }
          ],
          "contour": [
           {
            "colorbar": {
             "outlinewidth": 0,
             "ticks": ""
            },
            "colorscale": [
             [
              0,
              "#0d0887"
             ],
             [
              0.1111111111111111,
              "#46039f"
             ],
             [
              0.2222222222222222,
              "#7201a8"
             ],
             [
              0.3333333333333333,
              "#9c179e"
             ],
             [
              0.4444444444444444,
              "#bd3786"
             ],
             [
              0.5555555555555556,
              "#d8576b"
             ],
             [
              0.6666666666666666,
              "#ed7953"
             ],
             [
              0.7777777777777778,
              "#fb9f3a"
             ],
             [
              0.8888888888888888,
              "#fdca26"
             ],
             [
              1,
              "#f0f921"
             ]
            ],
            "type": "contour"
           }
          ],
          "contourcarpet": [
           {
            "colorbar": {
             "outlinewidth": 0,
             "ticks": ""
            },
            "type": "contourcarpet"
           }
          ],
          "heatmap": [
           {
            "colorbar": {
             "outlinewidth": 0,
             "ticks": ""
            },
            "colorscale": [
             [
              0,
              "#0d0887"
             ],
             [
              0.1111111111111111,
              "#46039f"
             ],
             [
              0.2222222222222222,
              "#7201a8"
             ],
             [
              0.3333333333333333,
              "#9c179e"
             ],
             [
              0.4444444444444444,
              "#bd3786"
             ],
             [
              0.5555555555555556,
              "#d8576b"
             ],
             [
              0.6666666666666666,
              "#ed7953"
             ],
             [
              0.7777777777777778,
              "#fb9f3a"
             ],
             [
              0.8888888888888888,
              "#fdca26"
             ],
             [
              1,
              "#f0f921"
             ]
            ],
            "type": "heatmap"
           }
          ],
          "heatmapgl": [
           {
            "colorbar": {
             "outlinewidth": 0,
             "ticks": ""
            },
            "colorscale": [
             [
              0,
              "#0d0887"
             ],
             [
              0.1111111111111111,
              "#46039f"
             ],
             [
              0.2222222222222222,
              "#7201a8"
             ],
             [
              0.3333333333333333,
              "#9c179e"
             ],
             [
              0.4444444444444444,
              "#bd3786"
             ],
             [
              0.5555555555555556,
              "#d8576b"
             ],
             [
              0.6666666666666666,
              "#ed7953"
             ],
             [
              0.7777777777777778,
              "#fb9f3a"
             ],
             [
              0.8888888888888888,
              "#fdca26"
             ],
             [
              1,
              "#f0f921"
             ]
            ],
            "type": "heatmapgl"
           }
          ],
          "histogram": [
           {
            "marker": {
             "pattern": {
              "fillmode": "overlay",
              "size": 10,
              "solidity": 0.2
             }
            },
            "type": "histogram"
           }
          ],
          "histogram2d": [
           {
            "colorbar": {
             "outlinewidth": 0,
             "ticks": ""
            },
            "colorscale": [
             [
              0,
              "#0d0887"
             ],
             [
              0.1111111111111111,
              "#46039f"
             ],
             [
              0.2222222222222222,
              "#7201a8"
             ],
             [
              0.3333333333333333,
              "#9c179e"
             ],
             [
              0.4444444444444444,
              "#bd3786"
             ],
             [
              0.5555555555555556,
              "#d8576b"
             ],
             [
              0.6666666666666666,
              "#ed7953"
             ],
             [
              0.7777777777777778,
              "#fb9f3a"
             ],
             [
              0.8888888888888888,
              "#fdca26"
             ],
             [
              1,
              "#f0f921"
             ]
            ],
            "type": "histogram2d"
           }
          ],
          "histogram2dcontour": [
           {
            "colorbar": {
             "outlinewidth": 0,
             "ticks": ""
            },
            "colorscale": [
             [
              0,
              "#0d0887"
             ],
             [
              0.1111111111111111,
              "#46039f"
             ],
             [
              0.2222222222222222,
              "#7201a8"
             ],
             [
              0.3333333333333333,
              "#9c179e"
             ],
             [
              0.4444444444444444,
              "#bd3786"
             ],
             [
              0.5555555555555556,
              "#d8576b"
             ],
             [
              0.6666666666666666,
              "#ed7953"
             ],
             [
              0.7777777777777778,
              "#fb9f3a"
             ],
             [
              0.8888888888888888,
              "#fdca26"
             ],
             [
              1,
              "#f0f921"
             ]
            ],
            "type": "histogram2dcontour"
           }
          ],
          "mesh3d": [
           {
            "colorbar": {
             "outlinewidth": 0,
             "ticks": ""
            },
            "type": "mesh3d"
           }
          ],
          "parcoords": [
           {
            "line": {
             "colorbar": {
              "outlinewidth": 0,
              "ticks": ""
             }
            },
            "type": "parcoords"
           }
          ],
          "pie": [
           {
            "automargin": true,
            "type": "pie"
           }
          ],
          "scatter": [
           {
            "fillpattern": {
             "fillmode": "overlay",
             "size": 10,
             "solidity": 0.2
            },
            "type": "scatter"
           }
          ],
          "scatter3d": [
           {
            "line": {
             "colorbar": {
              "outlinewidth": 0,
              "ticks": ""
             }
            },
            "marker": {
             "colorbar": {
              "outlinewidth": 0,
              "ticks": ""
             }
            },
            "type": "scatter3d"
           }
          ],
          "scattercarpet": [
           {
            "marker": {
             "colorbar": {
              "outlinewidth": 0,
              "ticks": ""
             }
            },
            "type": "scattercarpet"
           }
          ],
          "scattergeo": [
           {
            "marker": {
             "colorbar": {
              "outlinewidth": 0,
              "ticks": ""
             }
            },
            "type": "scattergeo"
           }
          ],
          "scattergl": [
           {
            "marker": {
             "colorbar": {
              "outlinewidth": 0,
              "ticks": ""
             }
            },
            "type": "scattergl"
           }
          ],
          "scattermapbox": [
           {
            "marker": {
             "colorbar": {
              "outlinewidth": 0,
              "ticks": ""
             }
            },
            "type": "scattermapbox"
           }
          ],
          "scatterpolar": [
           {
            "marker": {
             "colorbar": {
              "outlinewidth": 0,
              "ticks": ""
             }
            },
            "type": "scatterpolar"
           }
          ],
          "scatterpolargl": [
           {
            "marker": {
             "colorbar": {
              "outlinewidth": 0,
              "ticks": ""
             }
            },
            "type": "scatterpolargl"
           }
          ],
          "scatterternary": [
           {
            "marker": {
             "colorbar": {
              "outlinewidth": 0,
              "ticks": ""
             }
            },
            "type": "scatterternary"
           }
          ],
          "surface": [
           {
            "colorbar": {
             "outlinewidth": 0,
             "ticks": ""
            },
            "colorscale": [
             [
              0,
              "#0d0887"
             ],
             [
              0.1111111111111111,
              "#46039f"
             ],
             [
              0.2222222222222222,
              "#7201a8"
             ],
             [
              0.3333333333333333,
              "#9c179e"
             ],
             [
              0.4444444444444444,
              "#bd3786"
             ],
             [
              0.5555555555555556,
              "#d8576b"
             ],
             [
              0.6666666666666666,
              "#ed7953"
             ],
             [
              0.7777777777777778,
              "#fb9f3a"
             ],
             [
              0.8888888888888888,
              "#fdca26"
             ],
             [
              1,
              "#f0f921"
             ]
            ],
            "type": "surface"
           }
          ],
          "table": [
           {
            "cells": {
             "fill": {
              "color": "#EBF0F8"
             },
             "line": {
              "color": "white"
             }
            },
            "header": {
             "fill": {
              "color": "#C8D4E3"
             },
             "line": {
              "color": "white"
             }
            },
            "type": "table"
           }
          ]
         },
         "layout": {
          "annotationdefaults": {
           "arrowcolor": "#2a3f5f",
           "arrowhead": 0,
           "arrowwidth": 1
          },
          "autotypenumbers": "strict",
          "coloraxis": {
           "colorbar": {
            "outlinewidth": 0,
            "ticks": ""
           }
          },
          "colorscale": {
           "diverging": [
            [
             0,
             "#8e0152"
            ],
            [
             0.1,
             "#c51b7d"
            ],
            [
             0.2,
             "#de77ae"
            ],
            [
             0.3,
             "#f1b6da"
            ],
            [
             0.4,
             "#fde0ef"
            ],
            [
             0.5,
             "#f7f7f7"
            ],
            [
             0.6,
             "#e6f5d0"
            ],
            [
             0.7,
             "#b8e186"
            ],
            [
             0.8,
             "#7fbc41"
            ],
            [
             0.9,
             "#4d9221"
            ],
            [
             1,
             "#276419"
            ]
           ],
           "sequential": [
            [
             0,
             "#0d0887"
            ],
            [
             0.1111111111111111,
             "#46039f"
            ],
            [
             0.2222222222222222,
             "#7201a8"
            ],
            [
             0.3333333333333333,
             "#9c179e"
            ],
            [
             0.4444444444444444,
             "#bd3786"
            ],
            [
             0.5555555555555556,
             "#d8576b"
            ],
            [
             0.6666666666666666,
             "#ed7953"
            ],
            [
             0.7777777777777778,
             "#fb9f3a"
            ],
            [
             0.8888888888888888,
             "#fdca26"
            ],
            [
             1,
             "#f0f921"
            ]
           ],
           "sequentialminus": [
            [
             0,
             "#0d0887"
            ],
            [
             0.1111111111111111,
             "#46039f"
            ],
            [
             0.2222222222222222,
             "#7201a8"
            ],
            [
             0.3333333333333333,
             "#9c179e"
            ],
            [
             0.4444444444444444,
             "#bd3786"
            ],
            [
             0.5555555555555556,
             "#d8576b"
            ],
            [
             0.6666666666666666,
             "#ed7953"
            ],
            [
             0.7777777777777778,
             "#fb9f3a"
            ],
            [
             0.8888888888888888,
             "#fdca26"
            ],
            [
             1,
             "#f0f921"
            ]
           ]
          },
          "colorway": [
           "#636efa",
           "#EF553B",
           "#00cc96",
           "#ab63fa",
           "#FFA15A",
           "#19d3f3",
           "#FF6692",
           "#B6E880",
           "#FF97FF",
           "#FECB52"
          ],
          "font": {
           "color": "#2a3f5f"
          },
          "geo": {
           "bgcolor": "white",
           "lakecolor": "white",
           "landcolor": "#E5ECF6",
           "showlakes": true,
           "showland": true,
           "subunitcolor": "white"
          },
          "hoverlabel": {
           "align": "left"
          },
          "hovermode": "closest",
          "mapbox": {
           "style": "light"
          },
          "paper_bgcolor": "white",
          "plot_bgcolor": "#E5ECF6",
          "polar": {
           "angularaxis": {
            "gridcolor": "white",
            "linecolor": "white",
            "ticks": ""
           },
           "bgcolor": "#E5ECF6",
           "radialaxis": {
            "gridcolor": "white",
            "linecolor": "white",
            "ticks": ""
           }
          },
          "scene": {
           "xaxis": {
            "backgroundcolor": "#E5ECF6",
            "gridcolor": "white",
            "gridwidth": 2,
            "linecolor": "white",
            "showbackground": true,
            "ticks": "",
            "zerolinecolor": "white"
           },
           "yaxis": {
            "backgroundcolor": "#E5ECF6",
            "gridcolor": "white",
            "gridwidth": 2,
            "linecolor": "white",
            "showbackground": true,
            "ticks": "",
            "zerolinecolor": "white"
           },
           "zaxis": {
            "backgroundcolor": "#E5ECF6",
            "gridcolor": "white",
            "gridwidth": 2,
            "linecolor": "white",
            "showbackground": true,
            "ticks": "",
            "zerolinecolor": "white"
           }
          },
          "shapedefaults": {
           "line": {
            "color": "#2a3f5f"
           }
          },
          "ternary": {
           "aaxis": {
            "gridcolor": "white",
            "linecolor": "white",
            "ticks": ""
           },
           "baxis": {
            "gridcolor": "white",
            "linecolor": "white",
            "ticks": ""
           },
           "bgcolor": "#E5ECF6",
           "caxis": {
            "gridcolor": "white",
            "linecolor": "white",
            "ticks": ""
           }
          },
          "title": {
           "x": 0.05
          },
          "xaxis": {
           "automargin": true,
           "gridcolor": "white",
           "linecolor": "white",
           "ticks": "",
           "title": {
            "standoff": 15
           },
           "zerolinecolor": "white",
           "zerolinewidth": 2
          },
          "yaxis": {
           "automargin": true,
           "gridcolor": "white",
           "linecolor": "white",
           "ticks": "",
           "title": {
            "standoff": 15
           },
           "zerolinecolor": "white",
           "zerolinewidth": 2
          }
         }
        },
        "xaxis": {
         "anchor": "y",
         "domain": [
          0,
          1
         ],
         "title": {
          "text": "feature"
         }
        },
        "yaxis": {
         "anchor": "x",
         "domain": [
          0,
          1
         ],
         "title": {
          "text": "importance"
         }
        }
       }
      }
     },
     "metadata": {},
     "output_type": "display_data"
    }
   ],
   "source": [
    "# get feature importances\n",
    "importances = clf.feature_importances_\n",
    "\n",
    "# create feature importance dataframe\n",
    "feat_imp = pd.DataFrame({'feature': X.columns, 'importance': importances})\n",
    "\n",
    "# sort by importance descending\n",
    "feat_imp = feat_imp.sort_values('importance', ascending=False)\n",
    "\n",
    "# create bar chart with color gradient\n",
    "fig = px.bar(feat_imp, x='feature', y='importance', color='importance', color_continuous_scale='Blues')\n",
    "\n",
    "fig.show()"
   ]
  },
  {
   "cell_type": "code",
   "execution_count": 257,
   "metadata": {},
   "outputs": [
    {
     "name": "stdout",
     "output_type": "stream",
     "text": [
      "log score: 0.8192771084337349, AUC: 0.8231492361927145\n"
     ]
    }
   ],
   "source": [
    "log = LogisticRegression(random_state=12)\n",
    "log.fit(X_train_smote,y_train_smote)\n",
    "\n",
    "y_pred = log.predict_proba(X_test)[:,1]\n",
    "auc = roc_auc_score(y_test, y_pred)\n",
    "print(f'log score: {log.score(X_test,y_test)}, AUC: {auc}')"
   ]
  },
  {
   "cell_type": "code",
   "execution_count": 258,
   "metadata": {},
   "outputs": [
    {
     "name": "stdout",
     "output_type": "stream",
     "text": [
      "[100]\tvalid_0's binary_logloss: 0.531061\n",
      "lgb score: 0.8072289156626506, AUC: 0.8507638072855465\n"
     ]
    }
   ],
   "source": [
    "lgb = LGBMClassifier(random_state=12, class_weight='balanced',objective='binary')\n",
    "lgb.fit(X_train,y_train, eval_set=(X_test,y_test),callbacks=[log_evaluation(100)])\n",
    "y_pred = lgb.predict_proba(X_test)[:,1]\n",
    "auc = roc_auc_score(y_test, y_pred)\n",
    "print(f'lgb score: {lgb.score(X_test,y_test)}, AUC: {auc}')"
   ]
  },
  {
   "cell_type": "code",
   "execution_count": 261,
   "metadata": {},
   "outputs": [
    {
     "name": "stdout",
     "output_type": "stream",
     "text": [
      "xgb score: 0.7590361445783133, AUC: 0.8513513513513513\n"
     ]
    }
   ],
   "source": [
    "xgb = XGBClassifier(random_state=12, eval_metric='auc')\n",
    "xgb.fit(X_train,y_train)\n",
    "y_pred = xgb.predict_proba(X_test)[:,1]\n",
    "auc = roc_auc_score(y_test, y_pred)\n",
    "print(f'xgb score: {xgb.score(X_test,y_test)}, AUC: {auc}')"
   ]
  },
  {
   "cell_type": "code",
   "execution_count": 262,
   "metadata": {},
   "outputs": [
    {
     "name": "stdout",
     "output_type": "stream",
     "text": [
      "cat score: 0.7831325301204819, AUC: 0.8513513513513513\n"
     ]
    }
   ],
   "source": [
    "cat = CatBoostClassifier(random_state=12, eval_metric='AUC',early_stopping_rounds=100,verbose=False, use_best_model=True)\n",
    "cat.fit(X_train_smote,y_train_smote, eval_set=(X_test,y_test))\n",
    "y_pred = cat.predict_proba(X_test)[:,1]\n",
    "auc = roc_auc_score(y_test, y_pred)\n",
    "print(f'cat score: {cat.score(X_test,y_test)}, AUC: {auc}')"
   ]
  }
 ],
 "metadata": {
  "kernelspec": {
   "display_name": "Python 3",
   "language": "python",
   "name": "python3"
  },
  "language_info": {
   "codemirror_mode": {
    "name": "ipython",
    "version": 3
   },
   "file_extension": ".py",
   "mimetype": "text/x-python",
   "name": "python",
   "nbconvert_exporter": "python",
   "pygments_lexer": "ipython3",
   "version": "3.10.8"
  },
  "orig_nbformat": 4
 },
 "nbformat": 4,
 "nbformat_minor": 2
}
