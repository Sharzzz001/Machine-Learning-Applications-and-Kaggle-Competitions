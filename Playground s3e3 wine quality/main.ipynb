{
 "cells": [
  {
   "cell_type": "code",
   "execution_count": 2,
   "metadata": {},
   "outputs": [],
   "source": [
    "import pandas as pd\n",
    "import matplotlib.pyplot as plt\n",
    "import seaborn as sns\n",
    "import matplotlib.pyplot as plt\n",
    "import seaborn as sns\n",
    "import numpy as np\n",
    "import jinja2\n",
    "from sklearn.metrics import confusion_matrix, precision_score, recall_score"
   ]
  },
  {
   "cell_type": "code",
   "execution_count": 8,
   "metadata": {},
   "outputs": [
    {
     "name": "stdout",
     "output_type": "stream",
     "text": [
      "<class 'pandas.core.frame.DataFrame'>\n",
      "RangeIndex: 2056 entries, 0 to 2055\n",
      "Data columns (total 13 columns):\n",
      " #   Column                Non-Null Count  Dtype  \n",
      "---  ------                --------------  -----  \n",
      " 0   Id                    2056 non-null   int64  \n",
      " 1   fixed acidity         2056 non-null   float64\n",
      " 2   volatile acidity      2056 non-null   float64\n",
      " 3   citric acid           2056 non-null   float64\n",
      " 4   residual sugar        2056 non-null   float64\n",
      " 5   chlorides             2056 non-null   float64\n",
      " 6   free sulfur dioxide   2056 non-null   float64\n",
      " 7   total sulfur dioxide  2056 non-null   float64\n",
      " 8   density               2056 non-null   float64\n",
      " 9   pH                    2056 non-null   float64\n",
      " 10  sulphates             2056 non-null   float64\n",
      " 11  alcohol               2056 non-null   float64\n",
      " 12  quality               2056 non-null   int64  \n",
      "dtypes: float64(11), int64(2)\n",
      "memory usage: 208.9 KB\n"
     ]
    }
   ],
   "source": [
    "df = pd.read_csv('train.csv')\n",
    "df.info()"
   ]
  },
  {
   "cell_type": "code",
   "execution_count": 9,
   "metadata": {},
   "outputs": [
    {
     "data": {
      "text/html": [
       "<div>\n",
       "<style scoped>\n",
       "    .dataframe tbody tr th:only-of-type {\n",
       "        vertical-align: middle;\n",
       "    }\n",
       "\n",
       "    .dataframe tbody tr th {\n",
       "        vertical-align: top;\n",
       "    }\n",
       "\n",
       "    .dataframe thead th {\n",
       "        text-align: right;\n",
       "    }\n",
       "</style>\n",
       "<table border=\"1\" class=\"dataframe\">\n",
       "  <thead>\n",
       "    <tr style=\"text-align: right;\">\n",
       "      <th></th>\n",
       "      <th>Id</th>\n",
       "      <th>fixed acidity</th>\n",
       "      <th>volatile acidity</th>\n",
       "      <th>citric acid</th>\n",
       "      <th>residual sugar</th>\n",
       "      <th>chlorides</th>\n",
       "      <th>free sulfur dioxide</th>\n",
       "      <th>total sulfur dioxide</th>\n",
       "      <th>density</th>\n",
       "      <th>pH</th>\n",
       "      <th>sulphates</th>\n",
       "      <th>alcohol</th>\n",
       "      <th>quality</th>\n",
       "    </tr>\n",
       "  </thead>\n",
       "  <tbody>\n",
       "    <tr>\n",
       "      <th>0</th>\n",
       "      <td>0</td>\n",
       "      <td>8.0</td>\n",
       "      <td>0.50</td>\n",
       "      <td>0.39</td>\n",
       "      <td>2.2</td>\n",
       "      <td>0.073</td>\n",
       "      <td>30.0</td>\n",
       "      <td>39.0</td>\n",
       "      <td>0.99572</td>\n",
       "      <td>3.33</td>\n",
       "      <td>0.77</td>\n",
       "      <td>12.1</td>\n",
       "      <td>6</td>\n",
       "    </tr>\n",
       "    <tr>\n",
       "      <th>1</th>\n",
       "      <td>1</td>\n",
       "      <td>9.3</td>\n",
       "      <td>0.30</td>\n",
       "      <td>0.73</td>\n",
       "      <td>2.3</td>\n",
       "      <td>0.092</td>\n",
       "      <td>30.0</td>\n",
       "      <td>67.0</td>\n",
       "      <td>0.99854</td>\n",
       "      <td>3.32</td>\n",
       "      <td>0.67</td>\n",
       "      <td>12.8</td>\n",
       "      <td>6</td>\n",
       "    </tr>\n",
       "    <tr>\n",
       "      <th>2</th>\n",
       "      <td>2</td>\n",
       "      <td>7.1</td>\n",
       "      <td>0.51</td>\n",
       "      <td>0.03</td>\n",
       "      <td>2.1</td>\n",
       "      <td>0.059</td>\n",
       "      <td>3.0</td>\n",
       "      <td>12.0</td>\n",
       "      <td>0.99660</td>\n",
       "      <td>3.52</td>\n",
       "      <td>0.73</td>\n",
       "      <td>11.3</td>\n",
       "      <td>7</td>\n",
       "    </tr>\n",
       "    <tr>\n",
       "      <th>3</th>\n",
       "      <td>3</td>\n",
       "      <td>8.1</td>\n",
       "      <td>0.87</td>\n",
       "      <td>0.22</td>\n",
       "      <td>2.6</td>\n",
       "      <td>0.084</td>\n",
       "      <td>11.0</td>\n",
       "      <td>65.0</td>\n",
       "      <td>0.99730</td>\n",
       "      <td>3.20</td>\n",
       "      <td>0.53</td>\n",
       "      <td>9.8</td>\n",
       "      <td>5</td>\n",
       "    </tr>\n",
       "    <tr>\n",
       "      <th>4</th>\n",
       "      <td>4</td>\n",
       "      <td>8.5</td>\n",
       "      <td>0.36</td>\n",
       "      <td>0.30</td>\n",
       "      <td>2.3</td>\n",
       "      <td>0.079</td>\n",
       "      <td>10.0</td>\n",
       "      <td>45.0</td>\n",
       "      <td>0.99444</td>\n",
       "      <td>3.20</td>\n",
       "      <td>1.36</td>\n",
       "      <td>9.5</td>\n",
       "      <td>6</td>\n",
       "    </tr>\n",
       "  </tbody>\n",
       "</table>\n",
       "</div>"
      ],
      "text/plain": [
       "   Id  fixed acidity  volatile acidity  citric acid  residual sugar  \\\n",
       "0   0            8.0              0.50         0.39             2.2   \n",
       "1   1            9.3              0.30         0.73             2.3   \n",
       "2   2            7.1              0.51         0.03             2.1   \n",
       "3   3            8.1              0.87         0.22             2.6   \n",
       "4   4            8.5              0.36         0.30             2.3   \n",
       "\n",
       "   chlorides  free sulfur dioxide  total sulfur dioxide  density    pH  \\\n",
       "0      0.073                 30.0                  39.0  0.99572  3.33   \n",
       "1      0.092                 30.0                  67.0  0.99854  3.32   \n",
       "2      0.059                  3.0                  12.0  0.99660  3.52   \n",
       "3      0.084                 11.0                  65.0  0.99730  3.20   \n",
       "4      0.079                 10.0                  45.0  0.99444  3.20   \n",
       "\n",
       "   sulphates  alcohol  quality  \n",
       "0       0.77     12.1        6  \n",
       "1       0.67     12.8        6  \n",
       "2       0.73     11.3        7  \n",
       "3       0.53      9.8        5  \n",
       "4       1.36      9.5        6  "
      ]
     },
     "execution_count": 9,
     "metadata": {},
     "output_type": "execute_result"
    }
   ],
   "source": [
    "df.head()"
   ]
  },
  {
   "cell_type": "code",
   "execution_count": 10,
   "metadata": {},
   "outputs": [
    {
     "data": {
      "text/plain": [
       "(2056, 12)"
      ]
     },
     "execution_count": 10,
     "metadata": {},
     "output_type": "execute_result"
    }
   ],
   "source": [
    "df1 = df.drop(['Id'],axis=1)\n",
    "df1.shape"
   ]
  },
  {
   "cell_type": "code",
   "execution_count": 13,
   "metadata": {},
   "outputs": [
    {
     "data": {
      "text/html": [
       "<div>\n",
       "<style scoped>\n",
       "    .dataframe tbody tr th:only-of-type {\n",
       "        vertical-align: middle;\n",
       "    }\n",
       "\n",
       "    .dataframe tbody tr th {\n",
       "        vertical-align: top;\n",
       "    }\n",
       "\n",
       "    .dataframe thead th {\n",
       "        text-align: right;\n",
       "    }\n",
       "</style>\n",
       "<table border=\"1\" class=\"dataframe\">\n",
       "  <thead>\n",
       "    <tr style=\"text-align: right;\">\n",
       "      <th></th>\n",
       "      <th>fixed acidity</th>\n",
       "      <th>volatile acidity</th>\n",
       "      <th>citric acid</th>\n",
       "      <th>residual sugar</th>\n",
       "      <th>chlorides</th>\n",
       "      <th>free sulfur dioxide</th>\n",
       "      <th>total sulfur dioxide</th>\n",
       "      <th>density</th>\n",
       "      <th>pH</th>\n",
       "      <th>sulphates</th>\n",
       "      <th>alcohol</th>\n",
       "      <th>quality</th>\n",
       "    </tr>\n",
       "  </thead>\n",
       "  <tbody>\n",
       "    <tr>\n",
       "      <th>0</th>\n",
       "      <td>8.0</td>\n",
       "      <td>0.50</td>\n",
       "      <td>0.39</td>\n",
       "      <td>2.2</td>\n",
       "      <td>0.073</td>\n",
       "      <td>30.0</td>\n",
       "      <td>39.0</td>\n",
       "      <td>0.99572</td>\n",
       "      <td>3.33</td>\n",
       "      <td>0.77</td>\n",
       "      <td>12.1</td>\n",
       "      <td>6</td>\n",
       "    </tr>\n",
       "    <tr>\n",
       "      <th>1</th>\n",
       "      <td>9.3</td>\n",
       "      <td>0.30</td>\n",
       "      <td>0.73</td>\n",
       "      <td>2.3</td>\n",
       "      <td>0.092</td>\n",
       "      <td>30.0</td>\n",
       "      <td>67.0</td>\n",
       "      <td>0.99854</td>\n",
       "      <td>3.32</td>\n",
       "      <td>0.67</td>\n",
       "      <td>12.8</td>\n",
       "      <td>6</td>\n",
       "    </tr>\n",
       "    <tr>\n",
       "      <th>2</th>\n",
       "      <td>7.1</td>\n",
       "      <td>0.51</td>\n",
       "      <td>0.03</td>\n",
       "      <td>2.1</td>\n",
       "      <td>0.059</td>\n",
       "      <td>3.0</td>\n",
       "      <td>12.0</td>\n",
       "      <td>0.99660</td>\n",
       "      <td>3.52</td>\n",
       "      <td>0.73</td>\n",
       "      <td>11.3</td>\n",
       "      <td>7</td>\n",
       "    </tr>\n",
       "    <tr>\n",
       "      <th>3</th>\n",
       "      <td>8.1</td>\n",
       "      <td>0.87</td>\n",
       "      <td>0.22</td>\n",
       "      <td>2.6</td>\n",
       "      <td>0.084</td>\n",
       "      <td>11.0</td>\n",
       "      <td>65.0</td>\n",
       "      <td>0.99730</td>\n",
       "      <td>3.20</td>\n",
       "      <td>0.53</td>\n",
       "      <td>9.8</td>\n",
       "      <td>5</td>\n",
       "    </tr>\n",
       "    <tr>\n",
       "      <th>4</th>\n",
       "      <td>8.5</td>\n",
       "      <td>0.36</td>\n",
       "      <td>0.30</td>\n",
       "      <td>2.3</td>\n",
       "      <td>0.079</td>\n",
       "      <td>10.0</td>\n",
       "      <td>45.0</td>\n",
       "      <td>0.99444</td>\n",
       "      <td>3.20</td>\n",
       "      <td>1.36</td>\n",
       "      <td>9.5</td>\n",
       "      <td>6</td>\n",
       "    </tr>\n",
       "  </tbody>\n",
       "</table>\n",
       "</div>"
      ],
      "text/plain": [
       "   fixed acidity  volatile acidity  citric acid  residual sugar  chlorides  \\\n",
       "0            8.0              0.50         0.39             2.2      0.073   \n",
       "1            9.3              0.30         0.73             2.3      0.092   \n",
       "2            7.1              0.51         0.03             2.1      0.059   \n",
       "3            8.1              0.87         0.22             2.6      0.084   \n",
       "4            8.5              0.36         0.30             2.3      0.079   \n",
       "\n",
       "   free sulfur dioxide  total sulfur dioxide  density    pH  sulphates  \\\n",
       "0                 30.0                  39.0  0.99572  3.33       0.77   \n",
       "1                 30.0                  67.0  0.99854  3.32       0.67   \n",
       "2                  3.0                  12.0  0.99660  3.52       0.73   \n",
       "3                 11.0                  65.0  0.99730  3.20       0.53   \n",
       "4                 10.0                  45.0  0.99444  3.20       1.36   \n",
       "\n",
       "   alcohol  quality  \n",
       "0     12.1        6  \n",
       "1     12.8        6  \n",
       "2     11.3        7  \n",
       "3      9.8        5  \n",
       "4      9.5        6  "
      ]
     },
     "execution_count": 13,
     "metadata": {},
     "output_type": "execute_result"
    }
   ],
   "source": [
    "df1.head()"
   ]
  },
  {
   "cell_type": "code",
   "execution_count": 14,
   "metadata": {},
   "outputs": [
    {
     "data": {
      "text/html": [
       "<div>\n",
       "<style scoped>\n",
       "    .dataframe tbody tr th:only-of-type {\n",
       "        vertical-align: middle;\n",
       "    }\n",
       "\n",
       "    .dataframe tbody tr th {\n",
       "        vertical-align: top;\n",
       "    }\n",
       "\n",
       "    .dataframe thead th {\n",
       "        text-align: right;\n",
       "    }\n",
       "</style>\n",
       "<table border=\"1\" class=\"dataframe\">\n",
       "  <thead>\n",
       "    <tr style=\"text-align: right;\">\n",
       "      <th></th>\n",
       "      <th>fixed acidity</th>\n",
       "      <th>volatile acidity</th>\n",
       "      <th>citric acid</th>\n",
       "      <th>residual sugar</th>\n",
       "      <th>chlorides</th>\n",
       "      <th>free sulfur dioxide</th>\n",
       "      <th>total sulfur dioxide</th>\n",
       "      <th>density</th>\n",
       "      <th>pH</th>\n",
       "      <th>sulphates</th>\n",
       "      <th>alcohol</th>\n",
       "      <th>quality</th>\n",
       "    </tr>\n",
       "  </thead>\n",
       "  <tbody>\n",
       "    <tr>\n",
       "      <th>count</th>\n",
       "      <td>2056.000000</td>\n",
       "      <td>2056.000000</td>\n",
       "      <td>2056.000000</td>\n",
       "      <td>2056.000000</td>\n",
       "      <td>2056.000000</td>\n",
       "      <td>2056.000000</td>\n",
       "      <td>2056.000000</td>\n",
       "      <td>2056.000000</td>\n",
       "      <td>2056.000000</td>\n",
       "      <td>2056.000000</td>\n",
       "      <td>2056.000000</td>\n",
       "      <td>2056.000000</td>\n",
       "    </tr>\n",
       "    <tr>\n",
       "      <th>mean</th>\n",
       "      <td>8.365175</td>\n",
       "      <td>0.527601</td>\n",
       "      <td>0.265058</td>\n",
       "      <td>2.398881</td>\n",
       "      <td>0.081856</td>\n",
       "      <td>16.955982</td>\n",
       "      <td>49.236868</td>\n",
       "      <td>0.996748</td>\n",
       "      <td>3.310569</td>\n",
       "      <td>0.641308</td>\n",
       "      <td>10.414972</td>\n",
       "      <td>5.720817</td>\n",
       "    </tr>\n",
       "    <tr>\n",
       "      <th>std</th>\n",
       "      <td>1.705390</td>\n",
       "      <td>0.173164</td>\n",
       "      <td>0.188267</td>\n",
       "      <td>0.858824</td>\n",
       "      <td>0.023729</td>\n",
       "      <td>10.009710</td>\n",
       "      <td>32.961141</td>\n",
       "      <td>0.001827</td>\n",
       "      <td>0.142321</td>\n",
       "      <td>0.137942</td>\n",
       "      <td>1.028825</td>\n",
       "      <td>0.853146</td>\n",
       "    </tr>\n",
       "    <tr>\n",
       "      <th>min</th>\n",
       "      <td>5.000000</td>\n",
       "      <td>0.180000</td>\n",
       "      <td>0.000000</td>\n",
       "      <td>1.200000</td>\n",
       "      <td>0.012000</td>\n",
       "      <td>1.000000</td>\n",
       "      <td>7.000000</td>\n",
       "      <td>0.990070</td>\n",
       "      <td>2.740000</td>\n",
       "      <td>0.390000</td>\n",
       "      <td>8.700000</td>\n",
       "      <td>3.000000</td>\n",
       "    </tr>\n",
       "    <tr>\n",
       "      <th>25%</th>\n",
       "      <td>7.200000</td>\n",
       "      <td>0.390000</td>\n",
       "      <td>0.090000</td>\n",
       "      <td>1.900000</td>\n",
       "      <td>0.071000</td>\n",
       "      <td>8.000000</td>\n",
       "      <td>22.000000</td>\n",
       "      <td>0.995600</td>\n",
       "      <td>3.200000</td>\n",
       "      <td>0.550000</td>\n",
       "      <td>9.500000</td>\n",
       "      <td>5.000000</td>\n",
       "    </tr>\n",
       "    <tr>\n",
       "      <th>50%</th>\n",
       "      <td>7.950000</td>\n",
       "      <td>0.520000</td>\n",
       "      <td>0.250000</td>\n",
       "      <td>2.200000</td>\n",
       "      <td>0.079000</td>\n",
       "      <td>16.000000</td>\n",
       "      <td>44.000000</td>\n",
       "      <td>0.996700</td>\n",
       "      <td>3.310000</td>\n",
       "      <td>0.610000</td>\n",
       "      <td>10.100000</td>\n",
       "      <td>6.000000</td>\n",
       "    </tr>\n",
       "    <tr>\n",
       "      <th>75%</th>\n",
       "      <td>9.200000</td>\n",
       "      <td>0.640000</td>\n",
       "      <td>0.420000</td>\n",
       "      <td>2.600000</td>\n",
       "      <td>0.090000</td>\n",
       "      <td>24.000000</td>\n",
       "      <td>65.000000</td>\n",
       "      <td>0.997800</td>\n",
       "      <td>3.390000</td>\n",
       "      <td>0.720000</td>\n",
       "      <td>11.000000</td>\n",
       "      <td>6.000000</td>\n",
       "    </tr>\n",
       "    <tr>\n",
       "      <th>max</th>\n",
       "      <td>15.900000</td>\n",
       "      <td>1.580000</td>\n",
       "      <td>0.760000</td>\n",
       "      <td>14.000000</td>\n",
       "      <td>0.414000</td>\n",
       "      <td>68.000000</td>\n",
       "      <td>289.000000</td>\n",
       "      <td>1.003690</td>\n",
       "      <td>3.780000</td>\n",
       "      <td>1.950000</td>\n",
       "      <td>14.000000</td>\n",
       "      <td>8.000000</td>\n",
       "    </tr>\n",
       "  </tbody>\n",
       "</table>\n",
       "</div>"
      ],
      "text/plain": [
       "       fixed acidity  volatile acidity  citric acid  residual sugar  \\\n",
       "count    2056.000000       2056.000000  2056.000000     2056.000000   \n",
       "mean        8.365175          0.527601     0.265058        2.398881   \n",
       "std         1.705390          0.173164     0.188267        0.858824   \n",
       "min         5.000000          0.180000     0.000000        1.200000   \n",
       "25%         7.200000          0.390000     0.090000        1.900000   \n",
       "50%         7.950000          0.520000     0.250000        2.200000   \n",
       "75%         9.200000          0.640000     0.420000        2.600000   \n",
       "max        15.900000          1.580000     0.760000       14.000000   \n",
       "\n",
       "         chlorides  free sulfur dioxide  total sulfur dioxide      density  \\\n",
       "count  2056.000000          2056.000000           2056.000000  2056.000000   \n",
       "mean      0.081856            16.955982             49.236868     0.996748   \n",
       "std       0.023729            10.009710             32.961141     0.001827   \n",
       "min       0.012000             1.000000              7.000000     0.990070   \n",
       "25%       0.071000             8.000000             22.000000     0.995600   \n",
       "50%       0.079000            16.000000             44.000000     0.996700   \n",
       "75%       0.090000            24.000000             65.000000     0.997800   \n",
       "max       0.414000            68.000000            289.000000     1.003690   \n",
       "\n",
       "                pH    sulphates      alcohol      quality  \n",
       "count  2056.000000  2056.000000  2056.000000  2056.000000  \n",
       "mean      3.310569     0.641308    10.414972     5.720817  \n",
       "std       0.142321     0.137942     1.028825     0.853146  \n",
       "min       2.740000     0.390000     8.700000     3.000000  \n",
       "25%       3.200000     0.550000     9.500000     5.000000  \n",
       "50%       3.310000     0.610000    10.100000     6.000000  \n",
       "75%       3.390000     0.720000    11.000000     6.000000  \n",
       "max       3.780000     1.950000    14.000000     8.000000  "
      ]
     },
     "execution_count": 14,
     "metadata": {},
     "output_type": "execute_result"
    }
   ],
   "source": [
    "df1.describe()"
   ]
  },
  {
   "cell_type": "code",
   "execution_count": 15,
   "metadata": {},
   "outputs": [
    {
     "name": "stdout",
     "output_type": "stream",
     "text": [
      "There are 12 numerical variables\n",
      "\n",
      "The numerical variables : ['fixed acidity', 'volatile acidity', 'citric acid', 'residual sugar', 'chlorides', 'free sulfur dioxide', 'total sulfur dioxide', 'density', 'pH', 'sulphates', 'alcohol', 'quality']\n"
     ]
    }
   ],
   "source": [
    "numerical = [var for var in df1.columns if df1[var].dtype!='O']\n",
    "print('There are {} numerical variables\\n'.format(len(numerical)))\n",
    "if len(numerical)>1:\n",
    "    print('The numerical variables :', numerical)"
   ]
  },
  {
   "cell_type": "code",
   "execution_count": 16,
   "metadata": {},
   "outputs": [
    {
     "data": {
      "text/plain": [
       "array([[<AxesSubplot: title={'center': 'fixed acidity'}>,\n",
       "        <AxesSubplot: title={'center': 'volatile acidity'}>,\n",
       "        <AxesSubplot: title={'center': 'citric acid'}>],\n",
       "       [<AxesSubplot: title={'center': 'residual sugar'}>,\n",
       "        <AxesSubplot: title={'center': 'chlorides'}>,\n",
       "        <AxesSubplot: title={'center': 'free sulfur dioxide'}>],\n",
       "       [<AxesSubplot: title={'center': 'total sulfur dioxide'}>,\n",
       "        <AxesSubplot: title={'center': 'density'}>,\n",
       "        <AxesSubplot: title={'center': 'pH'}>],\n",
       "       [<AxesSubplot: title={'center': 'sulphates'}>,\n",
       "        <AxesSubplot: title={'center': 'alcohol'}>,\n",
       "        <AxesSubplot: title={'center': 'quality'}>]], dtype=object)"
      ]
     },
     "execution_count": 16,
     "metadata": {},
     "output_type": "execute_result"
    },
    {
     "data": {
      "image/png": "[encoded data removed]",
      "text/plain": [
       "<Figure size 3000x1500 with 12 Axes>"
      ]
     },
     "metadata": {},
     "output_type": "display_data"
    }
   ],
   "source": [
    "df1[numerical].hist(figsize=(30,15))"
   ]
  },
  {
   "cell_type": "code",
   "execution_count": 17,
   "metadata": {},
   "outputs": [
    {
     "data": {
      "text/plain": [
       "5    839\n",
       "6    778\n",
       "7    333\n",
       "4     55\n",
       "8     39\n",
       "3     12\n",
       "Name: quality, dtype: int64"
      ]
     },
     "execution_count": 17,
     "metadata": {},
     "output_type": "execute_result"
    }
   ],
   "source": [
    "df1.quality.value_counts()"
   ]
  },
  {
   "cell_type": "markdown",
   "metadata": {},
   "source": [
    "Class imbalance exists"
   ]
  },
  {
   "cell_type": "code",
   "execution_count": 19,
   "metadata": {},
   "outputs": [
    {
     "data": {
      "image/png": "[encoded data removed]",
      "text/plain": [
       "<Figure size 1500x2000 with 12 Axes>"
      ]
     },
     "metadata": {},
     "output_type": "display_data"
    }
   ],
   "source": [
    "df1[numerical].plot(kind = \"box\",subplots = True,layout = (4,3),figsize=(15,20)) #Boxplot to check the outliers\n",
    "plt.show()"
   ]
  },
  {
   "cell_type": "code",
   "execution_count": 21,
   "metadata": {},
   "outputs": [
    {
     "data": {
      "text/plain": [
       "False"
      ]
     },
     "execution_count": 21,
     "metadata": {},
     "output_type": "execute_result"
    }
   ],
   "source": [
    "df1.isnull().values.any()"
   ]
  },
  {
   "cell_type": "code",
   "execution_count": 23,
   "metadata": {},
   "outputs": [
    {
     "data": {
      "text/plain": [
       "((2056, 11), (2056,))"
      ]
     },
     "execution_count": 23,
     "metadata": {},
     "output_type": "execute_result"
    }
   ],
   "source": [
    "X = df1.drop(['quality'],axis=1)\n",
    "y = df1.quality\n",
    "\n",
    "X.shape, y.shape"
   ]
  },
  {
   "cell_type": "markdown",
   "metadata": {},
   "source": [
    "smote because there is huge imbalance"
   ]
  },
  {
   "cell_type": "code",
   "execution_count": 24,
   "metadata": {},
   "outputs": [],
   "source": [
    "from imblearn.over_sampling import SMOTE"
   ]
  },
  {
   "cell_type": "code",
   "execution_count": 25,
   "metadata": {},
   "outputs": [],
   "source": [
    "oversample = SMOTE()\n",
    "X, y = oversample.fit_resample(X, y)"
   ]
  },
  {
   "cell_type": "code",
   "execution_count": 26,
   "metadata": {},
   "outputs": [
    {
     "data": {
      "text/plain": [
       "6    839\n",
       "7    839\n",
       "5    839\n",
       "4    839\n",
       "8    839\n",
       "3    839\n",
       "Name: quality, dtype: int64"
      ]
     },
     "execution_count": 26,
     "metadata": {},
     "output_type": "execute_result"
    }
   ],
   "source": [
    "y.value_counts()"
   ]
  },
  {
   "cell_type": "code",
   "execution_count": 27,
   "metadata": {},
   "outputs": [
    {
     "data": {
      "text/plain": [
       "((4027, 11), (1007, 11), (4027,), (1007,))"
      ]
     },
     "execution_count": 27,
     "metadata": {},
     "output_type": "execute_result"
    }
   ],
   "source": [
    "# create X and Y datasets for training\n",
    "from sklearn import model_selection\n",
    "X_train, X_test, y_train, y_test = model_selection.train_test_split(X, y,stratify=y, random_state=42, test_size = 0.2)\n",
    "\n",
    "X_train.shape, X_test.shape, y_train.shape, y_test.shape"
   ]
  },
  {
   "cell_type": "code",
   "execution_count": 28,
   "metadata": {},
   "outputs": [],
   "source": [
    "from sklearn.preprocessing import MinMaxScaler\n",
    "\n",
    "cols = X_train.columns\n",
    "scaler = MinMaxScaler()\n",
    "X_train_RF = scaler.fit_transform(X_train)\n",
    "X_test_RF = scaler.transform(X_test)\n",
    "\n",
    "X_train_RF = pd.DataFrame(X_train_RF,columns=cols)\n",
    "X_test_RF = pd.DataFrame(X_test_RF,columns=cols)"
   ]
  },
  {
   "cell_type": "markdown",
   "metadata": {},
   "source": [
    "KNN"
   ]
  },
  {
   "cell_type": "code",
   "execution_count": 29,
   "metadata": {},
   "outputs": [
    {
     "name": "stdout",
     "output_type": "stream",
     "text": [
      "3.3166247903554\n"
     ]
    }
   ],
   "source": [
    "from math import sqrt\n",
    "print(sqrt(X_train.shape[1]))"
   ]
  },
  {
   "cell_type": "code",
   "execution_count": 30,
   "metadata": {},
   "outputs": [
    {
     "name": "stdout",
     "output_type": "stream",
     "text": [
      "Fitting 6 folds for each of 9 candidates, totalling 54 fits\n",
      "[CV 1/6; 1/9] START n_neighbors=1...............................................\n",
      "[CV 1/6; 1/9] END ................n_neighbors=1;, score=0.713 total time=   0.0s\n",
      "[CV 2/6; 1/9] START n_neighbors=1...............................................\n",
      "[CV 2/6; 1/9] END ................n_neighbors=1;, score=0.714 total time=   0.0s\n",
      "[CV 3/6; 1/9] START n_neighbors=1...............................................\n",
      "[CV 3/6; 1/9] END ................n_neighbors=1;, score=0.751 total time=   0.0s\n",
      "[CV 4/6; 1/9] START n_neighbors=1...............................................\n",
      "[CV 4/6; 1/9] END ................n_neighbors=1;, score=0.706 total time=   0.0s\n",
      "[CV 5/6; 1/9] START n_neighbors=1...............................................\n",
      "[CV 5/6; 1/9] END ................n_neighbors=1;, score=0.699 total time=   0.0s\n",
      "[CV 6/6; 1/9] START n_neighbors=1...............................................\n",
      "[CV 6/6; 1/9] END ................n_neighbors=1;, score=0.769 total time=   0.0s\n",
      "[CV 1/6; 2/9] START n_neighbors=2...............................................\n",
      "[CV 1/6; 2/9] END ................n_neighbors=2;, score=0.667 total time=   0.0s\n",
      "[CV 2/6; 2/9] START n_neighbors=2...............................................\n",
      "[CV 2/6; 2/9] END ................n_neighbors=2;, score=0.678 total time=   0.0s\n",
      "[CV 3/6; 2/9] START n_neighbors=2...............................................\n",
      "[CV 3/6; 2/9] END ................n_neighbors=2;, score=0.708 total time=   0.0s\n",
      "[CV 4/6; 2/9] START n_neighbors=2...............................................\n",
      "[CV 4/6; 2/9] END ................n_neighbors=2;, score=0.663 total time=   0.0s\n",
      "[CV 5/6; 2/9] START n_neighbors=2...............................................\n",
      "[CV 5/6; 2/9] END ................n_neighbors=2;, score=0.663 total time=   0.0s\n",
      "[CV 6/6; 2/9] START n_neighbors=2...............................................\n",
      "[CV 6/6; 2/9] END ................n_neighbors=2;, score=0.692 total time=   0.0s\n",
      "[CV 1/6; 3/9] START n_neighbors=3...............................................\n",
      "[CV 1/6; 3/9] END ................n_neighbors=3;, score=0.659 total time=   0.0s\n",
      "[CV 2/6; 3/9] START n_neighbors=3...............................................\n",
      "[CV 2/6; 3/9] END ................n_neighbors=3;, score=0.669 total time=   0.0s\n",
      "[CV 3/6; 3/9] START n_neighbors=3...............................................\n",
      "[CV 3/6; 3/9] END ................n_neighbors=3;, score=0.705 total time=   0.0s\n",
      "[CV 4/6; 3/9] START n_neighbors=3...............................................\n",
      "[CV 4/6; 3/9] END ................n_neighbors=3;, score=0.651 total time=   0.0s\n",
      "[CV 5/6; 3/9] START n_neighbors=3...............................................\n",
      "[CV 5/6; 3/9] END ................n_neighbors=3;, score=0.669 total time=   0.0s\n",
      "[CV 6/6; 3/9] START n_neighbors=3...............................................\n",
      "[CV 6/6; 3/9] END ................n_neighbors=3;, score=0.684 total time=   0.0s\n",
      "[CV 1/6; 4/9] START n_neighbors=4...............................................\n",
      "[CV 1/6; 4/9] END ................n_neighbors=4;, score=0.653 total time=   0.0s\n",
      "[CV 2/6; 4/9] START n_neighbors=4...............................................\n",
      "[CV 2/6; 4/9] END ................n_neighbors=4;, score=0.666 total time=   0.0s\n",
      "[CV 3/6; 4/9] START n_neighbors=4...............................................\n",
      "[CV 3/6; 4/9] END ................n_neighbors=4;, score=0.671 total time=   0.0s\n",
      "[CV 4/6; 4/9] START n_neighbors=4...............................................\n",
      "[CV 4/6; 4/9] END ................n_neighbors=4;, score=0.648 total time=   0.0s\n",
      "[CV 5/6; 4/9] START n_neighbors=4...............................................\n",
      "[CV 5/6; 4/9] END ................n_neighbors=4;, score=0.662 total time=   0.0s\n",
      "[CV 6/6; 4/9] START n_neighbors=4...............................................\n",
      "[CV 6/6; 4/9] END ................n_neighbors=4;, score=0.665 total time=   0.0s\n",
      "[CV 1/6; 5/9] START n_neighbors=5...............................................\n",
      "[CV 1/6; 5/9] END ................n_neighbors=5;, score=0.638 total time=   0.0s\n",
      "[CV 2/6; 5/9] START n_neighbors=5...............................................\n",
      "[CV 2/6; 5/9] END ................n_neighbors=5;, score=0.650 total time=   0.0s\n",
      "[CV 3/6; 5/9] START n_neighbors=5...............................................\n",
      "[CV 3/6; 5/9] END ................n_neighbors=5;, score=0.666 total time=   0.0s\n",
      "[CV 4/6; 5/9] START n_neighbors=5...............................................\n",
      "[CV 4/6; 5/9] END ................n_neighbors=5;, score=0.638 total time=   0.0s\n",
      "[CV 5/6; 5/9] START n_neighbors=5...............................................\n",
      "[CV 5/6; 5/9] END ................n_neighbors=5;, score=0.656 total time=   0.0s\n",
      "[CV 6/6; 5/9] START n_neighbors=5...............................................\n",
      "[CV 6/6; 5/9] END ................n_neighbors=5;, score=0.663 total time=   0.0s\n",
      "[CV 1/6; 6/9] START n_neighbors=6...............................................\n",
      "[CV 1/6; 6/9] END ................n_neighbors=6;, score=0.621 total time=   0.0s\n",
      "[CV 2/6; 6/9] START n_neighbors=6...............................................\n",
      "[CV 2/6; 6/9] END ................n_neighbors=6;, score=0.642 total time=   0.0s\n",
      "[CV 3/6; 6/9] START n_neighbors=6...............................................\n",
      "[CV 3/6; 6/9] END ................n_neighbors=6;, score=0.651 total time=   0.0s\n",
      "[CV 4/6; 6/9] START n_neighbors=6...............................................\n",
      "[CV 4/6; 6/9] END ................n_neighbors=6;, score=0.638 total time=   0.0s\n",
      "[CV 5/6; 6/9] START n_neighbors=6...............................................\n",
      "[CV 5/6; 6/9] END ................n_neighbors=6;, score=0.635 total time=   0.0s\n",
      "[CV 6/6; 6/9] START n_neighbors=6...............................................\n",
      "[CV 6/6; 6/9] END ................n_neighbors=6;, score=0.642 total time=   0.0s\n",
      "[CV 1/6; 7/9] START n_neighbors=7...............................................\n",
      "[CV 1/6; 7/9] END ................n_neighbors=7;, score=0.626 total time=   0.0s\n",
      "[CV 2/6; 7/9] START n_neighbors=7...............................................\n",
      "[CV 2/6; 7/9] END ................n_neighbors=7;, score=0.618 total time=   0.0s\n",
      "[CV 3/6; 7/9] START n_neighbors=7...............................................\n",
      "[CV 3/6; 7/9] END ................n_neighbors=7;, score=0.635 total time=   0.0s\n",
      "[CV 4/6; 7/9] START n_neighbors=7...............................................\n",
      "[CV 4/6; 7/9] END ................n_neighbors=7;, score=0.620 total time=   0.0s\n",
      "[CV 5/6; 7/9] START n_neighbors=7...............................................\n",
      "[CV 5/6; 7/9] END ................n_neighbors=7;, score=0.617 total time=   0.0s\n",
      "[CV 6/6; 7/9] START n_neighbors=7...............................................\n",
      "[CV 6/6; 7/9] END ................n_neighbors=7;, score=0.632 total time=   0.0s\n",
      "[CV 1/6; 8/9] START n_neighbors=8...............................................\n",
      "[CV 1/6; 8/9] END ................n_neighbors=8;, score=0.622 total time=   0.0s\n",
      "[CV 2/6; 8/9] START n_neighbors=8...............................................\n",
      "[CV 2/6; 8/9] END ................n_neighbors=8;, score=0.617 total time=   0.0s\n",
      "[CV 3/6; 8/9] START n_neighbors=8...............................................\n",
      "[CV 3/6; 8/9] END ................n_neighbors=8;, score=0.635 total time=   0.0s\n",
      "[CV 4/6; 8/9] START n_neighbors=8...............................................\n",
      "[CV 4/6; 8/9] END ................n_neighbors=8;, score=0.613 total time=   0.0s\n",
      "[CV 5/6; 8/9] START n_neighbors=8...............................................\n",
      "[CV 5/6; 8/9] END ................n_neighbors=8;, score=0.617 total time=   0.0s\n",
      "[CV 6/6; 8/9] START n_neighbors=8...............................................\n",
      "[CV 6/6; 8/9] END ................n_neighbors=8;, score=0.615 total time=   0.0s\n",
      "[CV 1/6; 9/9] START n_neighbors=9...............................................\n",
      "[CV 1/6; 9/9] END ................n_neighbors=9;, score=0.618 total time=   0.0s\n",
      "[CV 2/6; 9/9] START n_neighbors=9...............................................\n",
      "[CV 2/6; 9/9] END ................n_neighbors=9;, score=0.590 total time=   0.0s\n",
      "[CV 3/6; 9/9] START n_neighbors=9...............................................\n",
      "[CV 3/6; 9/9] END ................n_neighbors=9;, score=0.627 total time=   0.0s\n",
      "[CV 4/6; 9/9] START n_neighbors=9...............................................\n",
      "[CV 4/6; 9/9] END ................n_neighbors=9;, score=0.608 total time=   0.0s\n",
      "[CV 5/6; 9/9] START n_neighbors=9...............................................\n",
      "[CV 5/6; 9/9] END ................n_neighbors=9;, score=0.620 total time=   0.0s\n",
      "[CV 6/6; 9/9] START n_neighbors=9...............................................\n",
      "[CV 6/6; 9/9] END ................n_neighbors=9;, score=0.611 total time=   0.0s\n",
      "Best Score:0.7253569802237835\n",
      "Best Parameters: {'n_neighbors': 1}\n"
     ]
    }
   ],
   "source": [
    "from sklearn.model_selection import GridSearchCV\n",
    "\n",
    "from sklearn.neighbors import KNeighborsClassifier\n",
    "#In case of classifier like knn the parameter to be tuned is n_neighbors\n",
    "param_grid = {'n_neighbors':np.arange(1,10)}\n",
    "knn = KNeighborsClassifier()\n",
    "knn_cv= GridSearchCV(knn,param_grid,verbose=10,cv=6)\n",
    "knn_cv.fit(X_train,y_train)\n",
    "\n",
    "print(\"Best Score:\" + str(knn_cv.best_score_))\n",
    "print(\"Best Parameters: \" + str(knn_cv.best_params_))"
   ]
  },
  {
   "cell_type": "code",
   "execution_count": 31,
   "metadata": {},
   "outputs": [
    {
     "name": "stdout",
     "output_type": "stream",
     "text": [
      "Training set score: 1.0000\n",
      "Test set score: 0.7319\n"
     ]
    }
   ],
   "source": [
    "print('Training set score: {:.4f}'.format(knn_cv.best_estimator_.score(X_train, y_train)))\n",
    "\n",
    "print('Test set score: {:.4f}'.format(knn_cv.best_estimator_.score(X_test, y_test)))"
   ]
  },
  {
   "cell_type": "code",
   "execution_count": 32,
   "metadata": {},
   "outputs": [],
   "source": [
    "y_pred = knn_cv.predict(X_test)"
   ]
  },
  {
   "cell_type": "code",
   "execution_count": 33,
   "metadata": {},
   "outputs": [
    {
     "data": {
      "text/plain": [
       "0.7318768619662364"
      ]
     },
     "execution_count": 33,
     "metadata": {},
     "output_type": "execute_result"
    }
   ],
   "source": [
    "knn_accuracy = knn_cv.score(X_test, y_test)\n",
    "knn_accuracy"
   ]
  },
  {
   "cell_type": "code",
   "execution_count": 35,
   "metadata": {},
   "outputs": [
    {
     "data": {
      "text/plain": [
       "0.7079493769827254"
      ]
     },
     "execution_count": 35,
     "metadata": {},
     "output_type": "execute_result"
    }
   ],
   "source": [
    "# precision\n",
    "knn_pre = precision_score(y_test, y_pred,average='weighted')\n",
    "knn_pre"
   ]
  },
  {
   "cell_type": "code",
   "execution_count": 36,
   "metadata": {},
   "outputs": [
    {
     "data": {
      "text/plain": [
       "0.7318768619662364"
      ]
     },
     "execution_count": 36,
     "metadata": {},
     "output_type": "execute_result"
    }
   ],
   "source": [
    "# recall\n",
    "knn_rec = recall_score(y_test, y_pred,average='weighted')\n",
    "knn_rec"
   ]
  },
  {
   "cell_type": "code",
   "execution_count": 38,
   "metadata": {},
   "outputs": [
    {
     "name": "stdout",
     "output_type": "stream",
     "text": [
      "0.8603835486929463\n"
     ]
    }
   ],
   "source": [
    "from sklearn.metrics import cohen_kappa_score\n",
    "\n",
    "knn_qwk = cohen_kappa_score(y_test,y_pred,weights='quadratic')\n",
    "print(knn_qwk)"
   ]
  },
  {
   "cell_type": "markdown",
   "metadata": {},
   "source": [
    "Random Forests"
   ]
  },
  {
   "cell_type": "code",
   "execution_count": 39,
   "metadata": {},
   "outputs": [
    {
     "name": "stdout",
     "output_type": "stream",
     "text": [
      "Model accuracy score with 10 decision-trees : 0.7766\n"
     ]
    }
   ],
   "source": [
    "# import Random Forest classifier\n",
    "from sklearn.ensemble import RandomForestClassifier\n",
    "\n",
    "# instantiate the classifier \n",
    "rfc = RandomForestClassifier(random_state=12,n_estimators=10)\n",
    "\n",
    "# fit the model\n",
    "rfc.fit(X_train_RF, y_train)\n",
    "\n",
    "# Predict the Test set results\n",
    "y_pred = rfc.predict(X_test_RF)\n",
    "\n",
    "# Check accuracy score \n",
    "from sklearn.metrics import accuracy_score\n",
    "\n",
    "print('Model accuracy score with 10 decision-trees : {0:0.4f}'. format(accuracy_score(y_test, y_pred)))"
   ]
  },
  {
   "cell_type": "code",
   "execution_count": 40,
   "metadata": {},
   "outputs": [
    {
     "name": "stdout",
     "output_type": "stream",
     "text": [
      "Training set score: 0.9911\n",
      "Test set score: 0.7766\n"
     ]
    }
   ],
   "source": [
    "print('Training set score: {:.4f}'.format(rfc.score(X_train_RF, y_train)))\n",
    "\n",
    "print('Test set score: {:.4f}'.format(rfc.score(X_test_RF, y_test)))"
   ]
  },
  {
   "cell_type": "code",
   "execution_count": 41,
   "metadata": {},
   "outputs": [
    {
     "name": "stdout",
     "output_type": "stream",
     "text": [
      "Model accuracy score with 100 decision-trees : 0.8213\n"
     ]
    }
   ],
   "source": [
    "# import Random Forest classifier\n",
    "from sklearn.ensemble import RandomForestClassifier\n",
    "\n",
    "# instantiate the classifier \n",
    "rfc_100 = RandomForestClassifier(random_state=12,n_estimators=100)\n",
    "\n",
    "# fit the model\n",
    "rfc_100.fit(X_train_RF, y_train)\n",
    "\n",
    "# Predict the Test set results\n",
    "y_pred = rfc_100.predict(X_test_RF)\n",
    "\n",
    "# Check accuracy score \n",
    "from sklearn.metrics import accuracy_score\n",
    "\n",
    "print('Model accuracy score with 100 decision-trees : {0:0.4f}'. format(accuracy_score(y_test, y_pred)))"
   ]
  },
  {
   "cell_type": "code",
   "execution_count": 65,
   "metadata": {},
   "outputs": [
    {
     "name": "stdout",
     "output_type": "stream",
     "text": [
      "Training set score: 1.0000\n",
      "Test set score: 0.8213\n"
     ]
    }
   ],
   "source": [
    "print('Training set score: {:.4f}'.format(rfc_100.score(X_train_RF, y_train)))\n",
    "\n",
    "print('Test set score: {:.4f}'.format(rfc_100.score(X_test_RF, y_test)))"
   ]
  },
  {
   "cell_type": "code",
   "execution_count": 66,
   "metadata": {},
   "outputs": [
    {
     "data": {
      "text/plain": [
       "0.8212512413108243"
      ]
     },
     "execution_count": 66,
     "metadata": {},
     "output_type": "execute_result"
    }
   ],
   "source": [
    "rf100_accuracy = rfc_100.score(X_test_RF, y_test)\n",
    "rf100_accuracy"
   ]
  },
  {
   "cell_type": "code",
   "execution_count": 67,
   "metadata": {},
   "outputs": [
    {
     "data": {
      "text/plain": [
       "0.8115319613230432"
      ]
     },
     "execution_count": 67,
     "metadata": {},
     "output_type": "execute_result"
    }
   ],
   "source": [
    "# precision\n",
    "rf100_pre = precision_score(y_test, y_pred, average='weighted')\n",
    "rf100_pre"
   ]
  },
  {
   "cell_type": "code",
   "execution_count": 68,
   "metadata": {},
   "outputs": [
    {
     "data": {
      "text/plain": [
       "0.8212512413108243"
      ]
     },
     "execution_count": 68,
     "metadata": {},
     "output_type": "execute_result"
    }
   ],
   "source": [
    "# recall\n",
    "rf100_rec = recall_score(y_test, y_pred, average='weighted')\n",
    "rf100_rec"
   ]
  },
  {
   "cell_type": "code",
   "execution_count": 71,
   "metadata": {},
   "outputs": [
    {
     "name": "stdout",
     "output_type": "stream",
     "text": [
      "0.943829512401456\n"
     ]
    }
   ],
   "source": [
    "y_pred = rfc_100.predict(X_test_RF)\n",
    "rf100_qwk = cohen_kappa_score(y_test,y_pred,weights='quadratic')\n",
    "print(rf100_qwk)"
   ]
  },
  {
   "cell_type": "markdown",
   "metadata": {},
   "source": [
    "Gridsearch RF"
   ]
  },
  {
   "cell_type": "code",
   "execution_count": 53,
   "metadata": {},
   "outputs": [
    {
     "name": "stdout",
     "output_type": "stream",
     "text": [
      "Fitting 3 folds for each of 243 candidates, totalling 729 fits\n",
      "Best params:  {'bootstrap': True, 'max_depth': 20, 'min_samples_leaf': 1, 'min_samples_split': 2, 'n_estimators': 200}\n"
     ]
    }
   ],
   "source": [
    "from sklearn.ensemble import RandomForestClassifier\n",
    "from sklearn.model_selection import GridSearchCV\n",
    "import numpy as np\n",
    "parameters = {\n",
    "    'n_estimators': [50,75,100, 150, 200, 250, 300,500,1000],\n",
    "    'max_depth': [10, 20, None],\n",
    "    'bootstrap':[True],\n",
    "    'min_samples_leaf': [1,2,4],\n",
    "    'min_samples_split': [2,5,10]\n",
    "}\n",
    "regr = RandomForestClassifier(random_state=12)\n",
    "\n",
    "clf = GridSearchCV(regr, parameters,verbose=10,n_jobs=6,cv=3)\n",
    "clf.fit(X_train_RF, y_train)\n",
    "print(\"Best params: \", clf.best_params_)"
   ]
  },
  {
   "cell_type": "code",
   "execution_count": 54,
   "metadata": {},
   "outputs": [],
   "source": [
    "y_pred = clf.predict(X_test_RF)"
   ]
  },
  {
   "cell_type": "code",
   "execution_count": 55,
   "metadata": {},
   "outputs": [
    {
     "name": "stdout",
     "output_type": "stream",
     "text": [
      "Training set score: 1.0000\n",
      "Test set score: 0.8173\n"
     ]
    }
   ],
   "source": [
    "print('Training set score: {:.4f}'.format(clf.score(X_train_RF, y_train)))\n",
    "\n",
    "print('Test set score: {:.4f}'.format(clf.score(X_test_RF, y_test)))"
   ]
  },
  {
   "cell_type": "code",
   "execution_count": 58,
   "metadata": {},
   "outputs": [],
   "source": [
    "def plot_feature_importance(importance,names,model_type):\n",
    "\n",
    "    #Create arrays from feature importance and feature names\n",
    "    feature_importance = np.array(importance)\n",
    "    feature_names = np.array(names)\n",
    "\n",
    "    #Create a DataFrame using a Dictionary\n",
    "    data={'feature_names':feature_names,'feature_importance':feature_importance}\n",
    "    fi_df = pd.DataFrame(data)\n",
    "\n",
    "    #Sort the DataFrame in order decreasing feature importance\n",
    "    fi_df.sort_values(by=['feature_importance'], ascending=False,inplace=True)\n",
    "\n",
    "    #Define size of bar plot\n",
    "    plt.figure(figsize=(15,10))\n",
    "    #Plot Searborn bar chart\n",
    "    sns.barplot(x=fi_df['feature_importance'], y=fi_df['feature_names'])\n",
    "    #Add chart labels\n",
    "    plt.title(model_type + 'FEATURE IMPORTANCE')\n",
    "    plt.xlabel('FEATURE IMPORTANCE')\n",
    "    plt.ylabel('FEATURE NAMES')"
   ]
  },
  {
   "cell_type": "code",
   "execution_count": 59,
   "metadata": {},
   "outputs": [
    {
     "data": {
      "image/png": "[encoded data removed]",
      "text/plain": [
       "<Figure size 1500x1000 with 1 Axes>"
      ]
     },
     "metadata": {},
     "output_type": "display_data"
    }
   ],
   "source": [
    "plot_feature_importance(clf.best_estimator_.feature_importances_,X_train_RF.columns,'RANDOM FOREST GRIDSEARCH ')"
   ]
  },
  {
   "cell_type": "code",
   "execution_count": 60,
   "metadata": {},
   "outputs": [
    {
     "data": {
      "text/plain": [
       "0.817279046673287"
      ]
     },
     "execution_count": 60,
     "metadata": {},
     "output_type": "execute_result"
    }
   ],
   "source": [
    "rfcv_accuracy = clf.score(X_test_RF, y_test)\n",
    "rfcv_accuracy"
   ]
  },
  {
   "cell_type": "code",
   "execution_count": 62,
   "metadata": {},
   "outputs": [
    {
     "data": {
      "text/plain": [
       "0.8088004331451477"
      ]
     },
     "execution_count": 62,
     "metadata": {},
     "output_type": "execute_result"
    }
   ],
   "source": [
    "# precision\n",
    "rfcv_pre = precision_score(y_test, y_pred, average='weighted')\n",
    "rfcv_pre"
   ]
  },
  {
   "cell_type": "code",
   "execution_count": 63,
   "metadata": {},
   "outputs": [
    {
     "data": {
      "text/plain": [
       "0.817279046673287"
      ]
     },
     "execution_count": 63,
     "metadata": {},
     "output_type": "execute_result"
    }
   ],
   "source": [
    "# recall\n",
    "rfcv_rec = recall_score(y_test, y_pred, average='weighted')\n",
    "rfcv_rec"
   ]
  },
  {
   "cell_type": "code",
   "execution_count": 72,
   "metadata": {},
   "outputs": [
    {
     "name": "stdout",
     "output_type": "stream",
     "text": [
      "0.9409859030300193\n"
     ]
    }
   ],
   "source": [
    "y_pred = clf.best_estimator_.predict(X_test_RF)\n",
    "rfcv_qwk = cohen_kappa_score(y_test,y_pred,weights='quadratic')\n",
    "print(rfcv_qwk)"
   ]
  },
  {
   "cell_type": "code",
   "execution_count": 73,
   "metadata": {},
   "outputs": [],
   "source": [
    "# creating performance dictionary\n",
    "performance = {'Accuracy_Score':[ knn_accuracy, rf100_accuracy, rfcv_accuracy],\n",
    "              'Precision':[ knn_pre, rf100_pre, rfcv_pre],\n",
    "              'Recall': [ knn_rec, rf100_rec, rfcv_rec],\n",
    "              'Quadratic weighted kappa': [knn_qwk,rf100_qwk, rfcv_qwk]}"
   ]
  },
  {
   "cell_type": "code",
   "execution_count": 74,
   "metadata": {},
   "outputs": [],
   "source": [
    "performance_df = pd.DataFrame(data = performance, index= ['KNeighbors', \n",
    "                                                             'RandomForest', 'RandomForest-GridsearchCV'])"
   ]
  },
  {
   "cell_type": "code",
   "execution_count": 75,
   "metadata": {},
   "outputs": [
    {
     "data": {
      "text/html": [
       "<div>\n",
       "<style scoped>\n",
       "    .dataframe tbody tr th:only-of-type {\n",
       "        vertical-align: middle;\n",
       "    }\n",
       "\n",
       "    .dataframe tbody tr th {\n",
       "        vertical-align: top;\n",
       "    }\n",
       "\n",
       "    .dataframe thead th {\n",
       "        text-align: right;\n",
       "    }\n",
       "</style>\n",
       "<table border=\"1\" class=\"dataframe\">\n",
       "  <thead>\n",
       "    <tr style=\"text-align: right;\">\n",
       "      <th></th>\n",
       "      <th>Accuracy_Score</th>\n",
       "      <th>Precision</th>\n",
       "      <th>Recall</th>\n",
       "      <th>Quadratic weighted kappa</th>\n",
       "    </tr>\n",
       "  </thead>\n",
       "  <tbody>\n",
       "    <tr>\n",
       "      <th>KNeighbors</th>\n",
       "      <td>0.731877</td>\n",
       "      <td>0.707949</td>\n",
       "      <td>0.731877</td>\n",
       "      <td>0.860384</td>\n",
       "    </tr>\n",
       "    <tr>\n",
       "      <th>RandomForest</th>\n",
       "      <td>0.821251</td>\n",
       "      <td>0.811532</td>\n",
       "      <td>0.821251</td>\n",
       "      <td>0.943830</td>\n",
       "    </tr>\n",
       "    <tr>\n",
       "      <th>RandomForest-GridsearchCV</th>\n",
       "      <td>0.817279</td>\n",
       "      <td>0.808800</td>\n",
       "      <td>0.817279</td>\n",
       "      <td>0.940986</td>\n",
       "    </tr>\n",
       "  </tbody>\n",
       "</table>\n",
       "</div>"
      ],
      "text/plain": [
       "                           Accuracy_Score  Precision    Recall  \\\n",
       "KNeighbors                       0.731877   0.707949  0.731877   \n",
       "RandomForest                     0.821251   0.811532  0.821251   \n",
       "RandomForest-GridsearchCV        0.817279   0.808800  0.817279   \n",
       "\n",
       "                           Quadratic weighted kappa  \n",
       "KNeighbors                                 0.860384  \n",
       "RandomForest                               0.943830  \n",
       "RandomForest-GridsearchCV                  0.940986  "
      ]
     },
     "execution_count": 75,
     "metadata": {},
     "output_type": "execute_result"
    }
   ],
   "source": [
    "performance_df"
   ]
  },
  {
   "attachments": {},
   "cell_type": "markdown",
   "metadata": {},
   "source": [
    "On test data"
   ]
  },
  {
   "cell_type": "code",
   "execution_count": 76,
   "metadata": {},
   "outputs": [
    {
     "data": {
      "text/plain": [
       "(1372, 12)"
      ]
     },
     "execution_count": 76,
     "metadata": {},
     "output_type": "execute_result"
    }
   ],
   "source": [
    "test_df = pd.read_csv('test.csv')\n",
    "test_df.shape"
   ]
  },
  {
   "cell_type": "code",
   "execution_count": 78,
   "metadata": {},
   "outputs": [
    {
     "data": {
      "text/html": [
       "<div>\n",
       "<style scoped>\n",
       "    .dataframe tbody tr th:only-of-type {\n",
       "        vertical-align: middle;\n",
       "    }\n",
       "\n",
       "    .dataframe tbody tr th {\n",
       "        vertical-align: top;\n",
       "    }\n",
       "\n",
       "    .dataframe thead th {\n",
       "        text-align: right;\n",
       "    }\n",
       "</style>\n",
       "<table border=\"1\" class=\"dataframe\">\n",
       "  <thead>\n",
       "    <tr style=\"text-align: right;\">\n",
       "      <th></th>\n",
       "      <th>fixed acidity</th>\n",
       "      <th>volatile acidity</th>\n",
       "      <th>citric acid</th>\n",
       "      <th>residual sugar</th>\n",
       "      <th>chlorides</th>\n",
       "      <th>free sulfur dioxide</th>\n",
       "      <th>total sulfur dioxide</th>\n",
       "      <th>density</th>\n",
       "      <th>pH</th>\n",
       "      <th>sulphates</th>\n",
       "      <th>alcohol</th>\n",
       "    </tr>\n",
       "  </thead>\n",
       "  <tbody>\n",
       "    <tr>\n",
       "      <th>0</th>\n",
       "      <td>7.2</td>\n",
       "      <td>0.510</td>\n",
       "      <td>0.01</td>\n",
       "      <td>2.0</td>\n",
       "      <td>0.077</td>\n",
       "      <td>31.0</td>\n",
       "      <td>54.0</td>\n",
       "      <td>0.99748</td>\n",
       "      <td>3.39</td>\n",
       "      <td>0.59</td>\n",
       "      <td>9.8</td>\n",
       "    </tr>\n",
       "    <tr>\n",
       "      <th>1</th>\n",
       "      <td>7.2</td>\n",
       "      <td>0.755</td>\n",
       "      <td>0.15</td>\n",
       "      <td>2.0</td>\n",
       "      <td>0.102</td>\n",
       "      <td>14.0</td>\n",
       "      <td>35.0</td>\n",
       "      <td>0.99586</td>\n",
       "      <td>3.33</td>\n",
       "      <td>0.68</td>\n",
       "      <td>10.0</td>\n",
       "    </tr>\n",
       "    <tr>\n",
       "      <th>2</th>\n",
       "      <td>8.4</td>\n",
       "      <td>0.460</td>\n",
       "      <td>0.40</td>\n",
       "      <td>2.0</td>\n",
       "      <td>0.065</td>\n",
       "      <td>21.0</td>\n",
       "      <td>50.0</td>\n",
       "      <td>0.99774</td>\n",
       "      <td>3.08</td>\n",
       "      <td>0.65</td>\n",
       "      <td>9.5</td>\n",
       "    </tr>\n",
       "    <tr>\n",
       "      <th>3</th>\n",
       "      <td>8.0</td>\n",
       "      <td>0.470</td>\n",
       "      <td>0.40</td>\n",
       "      <td>1.8</td>\n",
       "      <td>0.056</td>\n",
       "      <td>14.0</td>\n",
       "      <td>25.0</td>\n",
       "      <td>0.99480</td>\n",
       "      <td>3.30</td>\n",
       "      <td>0.65</td>\n",
       "      <td>11.7</td>\n",
       "    </tr>\n",
       "    <tr>\n",
       "      <th>4</th>\n",
       "      <td>6.5</td>\n",
       "      <td>0.340</td>\n",
       "      <td>0.32</td>\n",
       "      <td>2.1</td>\n",
       "      <td>0.044</td>\n",
       "      <td>8.0</td>\n",
       "      <td>94.0</td>\n",
       "      <td>0.99356</td>\n",
       "      <td>3.23</td>\n",
       "      <td>0.48</td>\n",
       "      <td>12.8</td>\n",
       "    </tr>\n",
       "  </tbody>\n",
       "</table>\n",
       "</div>"
      ],
      "text/plain": [
       "   fixed acidity  volatile acidity  citric acid  residual sugar  chlorides  \\\n",
       "0            7.2             0.510         0.01             2.0      0.077   \n",
       "1            7.2             0.755         0.15             2.0      0.102   \n",
       "2            8.4             0.460         0.40             2.0      0.065   \n",
       "3            8.0             0.470         0.40             1.8      0.056   \n",
       "4            6.5             0.340         0.32             2.1      0.044   \n",
       "\n",
       "   free sulfur dioxide  total sulfur dioxide  density    pH  sulphates  \\\n",
       "0                 31.0                  54.0  0.99748  3.39       0.59   \n",
       "1                 14.0                  35.0  0.99586  3.33       0.68   \n",
       "2                 21.0                  50.0  0.99774  3.08       0.65   \n",
       "3                 14.0                  25.0  0.99480  3.30       0.65   \n",
       "4                  8.0                  94.0  0.99356  3.23       0.48   \n",
       "\n",
       "   alcohol  \n",
       "0      9.8  \n",
       "1     10.0  \n",
       "2      9.5  \n",
       "3     11.7  \n",
       "4     12.8  "
      ]
     },
     "execution_count": 78,
     "metadata": {},
     "output_type": "execute_result"
    }
   ],
   "source": [
    "test_df1 = test_df.drop(['Id'],axis=1)\n",
    "test_df1.head()"
   ]
  },
  {
   "cell_type": "code",
   "execution_count": 83,
   "metadata": {},
   "outputs": [
    {
     "data": {
      "text/html": [
       "<div>\n",
       "<style scoped>\n",
       "    .dataframe tbody tr th:only-of-type {\n",
       "        vertical-align: middle;\n",
       "    }\n",
       "\n",
       "    .dataframe tbody tr th {\n",
       "        vertical-align: top;\n",
       "    }\n",
       "\n",
       "    .dataframe thead th {\n",
       "        text-align: right;\n",
       "    }\n",
       "</style>\n",
       "<table border=\"1\" class=\"dataframe\">\n",
       "  <thead>\n",
       "    <tr style=\"text-align: right;\">\n",
       "      <th></th>\n",
       "      <th>Id</th>\n",
       "      <th>quality</th>\n",
       "    </tr>\n",
       "  </thead>\n",
       "  <tbody>\n",
       "    <tr>\n",
       "      <th>0</th>\n",
       "      <td>2056</td>\n",
       "      <td>5</td>\n",
       "    </tr>\n",
       "    <tr>\n",
       "      <th>1</th>\n",
       "      <td>2057</td>\n",
       "      <td>5</td>\n",
       "    </tr>\n",
       "    <tr>\n",
       "      <th>2</th>\n",
       "      <td>2058</td>\n",
       "      <td>5</td>\n",
       "    </tr>\n",
       "    <tr>\n",
       "      <th>3</th>\n",
       "      <td>2059</td>\n",
       "      <td>5</td>\n",
       "    </tr>\n",
       "    <tr>\n",
       "      <th>4</th>\n",
       "      <td>2060</td>\n",
       "      <td>5</td>\n",
       "    </tr>\n",
       "  </tbody>\n",
       "</table>\n",
       "</div>"
      ],
      "text/plain": [
       "     Id  quality\n",
       "0  2056        5\n",
       "1  2057        5\n",
       "2  2058        5\n",
       "3  2059        5\n",
       "4  2060        5"
      ]
     },
     "execution_count": 83,
     "metadata": {},
     "output_type": "execute_result"
    }
   ],
   "source": [
    "sample = pd.read_csv('sample_submission.csv')\n",
    "sample.head(5)"
   ]
  },
  {
   "cell_type": "code",
   "execution_count": 98,
   "metadata": {},
   "outputs": [],
   "source": [
    "y_pred_test = knn_cv.predict(test_df1)"
   ]
  },
  {
   "cell_type": "code",
   "execution_count": 99,
   "metadata": {},
   "outputs": [
    {
     "data": {
      "text/plain": [
       "array([6, 7, 4, ..., 4, 5, 5], dtype=int64)"
      ]
     },
     "execution_count": 99,
     "metadata": {},
     "output_type": "execute_result"
    }
   ],
   "source": [
    "y_pred_test"
   ]
  },
  {
   "cell_type": "code",
   "execution_count": 100,
   "metadata": {},
   "outputs": [
    {
     "data": {
      "text/html": [
       "<div>\n",
       "<style scoped>\n",
       "    .dataframe tbody tr th:only-of-type {\n",
       "        vertical-align: middle;\n",
       "    }\n",
       "\n",
       "    .dataframe tbody tr th {\n",
       "        vertical-align: top;\n",
       "    }\n",
       "\n",
       "    .dataframe thead th {\n",
       "        text-align: right;\n",
       "    }\n",
       "</style>\n",
       "<table border=\"1\" class=\"dataframe\">\n",
       "  <thead>\n",
       "    <tr style=\"text-align: right;\">\n",
       "      <th></th>\n",
       "      <th>Id</th>\n",
       "      <th>quality</th>\n",
       "    </tr>\n",
       "  </thead>\n",
       "  <tbody>\n",
       "    <tr>\n",
       "      <th>0</th>\n",
       "      <td>2056</td>\n",
       "      <td>6</td>\n",
       "    </tr>\n",
       "    <tr>\n",
       "      <th>1</th>\n",
       "      <td>2057</td>\n",
       "      <td>7</td>\n",
       "    </tr>\n",
       "    <tr>\n",
       "      <th>2</th>\n",
       "      <td>2058</td>\n",
       "      <td>4</td>\n",
       "    </tr>\n",
       "    <tr>\n",
       "      <th>3</th>\n",
       "      <td>2059</td>\n",
       "      <td>8</td>\n",
       "    </tr>\n",
       "    <tr>\n",
       "      <th>4</th>\n",
       "      <td>2060</td>\n",
       "      <td>7</td>\n",
       "    </tr>\n",
       "  </tbody>\n",
       "</table>\n",
       "</div>"
      ],
      "text/plain": [
       "     Id  quality\n",
       "0  2056        6\n",
       "1  2057        7\n",
       "2  2058        4\n",
       "3  2059        8\n",
       "4  2060        7"
      ]
     },
     "execution_count": 100,
     "metadata": {},
     "output_type": "execute_result"
    }
   ],
   "source": [
    "submissions = pd.DataFrame(data={'Id':sample.Id, 'quality':y_pred_test})\n",
    "submissions.head()"
   ]
  },
  {
   "cell_type": "code",
   "execution_count": 101,
   "metadata": {},
   "outputs": [],
   "source": [
    "submissions.to_csv('knncv_preds.csv',index=False)"
   ]
  },
  {
   "cell_type": "code",
   "execution_count": 102,
   "metadata": {},
   "outputs": [],
   "source": [
    "test_df1_RF = scaler.fit_transform(test_df1)\n",
    "\n",
    "test_df1_RF = pd.DataFrame(test_df1_RF,columns=cols)"
   ]
  },
  {
   "cell_type": "code",
   "execution_count": 103,
   "metadata": {},
   "outputs": [],
   "source": [
    "y_pred_test = clf.best_estimator_.predict(test_df1_RF)"
   ]
  },
  {
   "cell_type": "code",
   "execution_count": 104,
   "metadata": {},
   "outputs": [
    {
     "data": {
      "text/html": [
       "<div>\n",
       "<style scoped>\n",
       "    .dataframe tbody tr th:only-of-type {\n",
       "        vertical-align: middle;\n",
       "    }\n",
       "\n",
       "    .dataframe tbody tr th {\n",
       "        vertical-align: top;\n",
       "    }\n",
       "\n",
       "    .dataframe thead th {\n",
       "        text-align: right;\n",
       "    }\n",
       "</style>\n",
       "<table border=\"1\" class=\"dataframe\">\n",
       "  <thead>\n",
       "    <tr style=\"text-align: right;\">\n",
       "      <th></th>\n",
       "      <th>Id</th>\n",
       "      <th>quality</th>\n",
       "    </tr>\n",
       "  </thead>\n",
       "  <tbody>\n",
       "    <tr>\n",
       "      <th>0</th>\n",
       "      <td>2056</td>\n",
       "      <td>5</td>\n",
       "    </tr>\n",
       "    <tr>\n",
       "      <th>1</th>\n",
       "      <td>2057</td>\n",
       "      <td>7</td>\n",
       "    </tr>\n",
       "    <tr>\n",
       "      <th>2</th>\n",
       "      <td>2058</td>\n",
       "      <td>4</td>\n",
       "    </tr>\n",
       "    <tr>\n",
       "      <th>3</th>\n",
       "      <td>2059</td>\n",
       "      <td>8</td>\n",
       "    </tr>\n",
       "    <tr>\n",
       "      <th>4</th>\n",
       "      <td>2060</td>\n",
       "      <td>5</td>\n",
       "    </tr>\n",
       "  </tbody>\n",
       "</table>\n",
       "</div>"
      ],
      "text/plain": [
       "     Id  quality\n",
       "0  2056        5\n",
       "1  2057        7\n",
       "2  2058        4\n",
       "3  2059        8\n",
       "4  2060        5"
      ]
     },
     "execution_count": 104,
     "metadata": {},
     "output_type": "execute_result"
    }
   ],
   "source": [
    "submissions = pd.DataFrame(data={'Id':sample.Id, 'quality':y_pred_test})\n",
    "submissions.head()"
   ]
  },
  {
   "cell_type": "code",
   "execution_count": 105,
   "metadata": {},
   "outputs": [],
   "source": [
    "submissions.to_csv('RFCV_preds.csv',index=False)"
   ]
  },
  {
   "cell_type": "code",
   "execution_count": 106,
   "metadata": {},
   "outputs": [],
   "source": [
    "y_pred_test = rfc_100.predict(test_df1_RF)"
   ]
  },
  {
   "cell_type": "code",
   "execution_count": 107,
   "metadata": {},
   "outputs": [
    {
     "data": {
      "text/plain": [
       "array([5, 7, 5, ..., 5, 5, 5], dtype=int64)"
      ]
     },
     "execution_count": 107,
     "metadata": {},
     "output_type": "execute_result"
    }
   ],
   "source": [
    "y_pred_test"
   ]
  },
  {
   "cell_type": "code",
   "execution_count": 108,
   "metadata": {},
   "outputs": [
    {
     "data": {
      "text/html": [
       "<div>\n",
       "<style scoped>\n",
       "    .dataframe tbody tr th:only-of-type {\n",
       "        vertical-align: middle;\n",
       "    }\n",
       "\n",
       "    .dataframe tbody tr th {\n",
       "        vertical-align: top;\n",
       "    }\n",
       "\n",
       "    .dataframe thead th {\n",
       "        text-align: right;\n",
       "    }\n",
       "</style>\n",
       "<table border=\"1\" class=\"dataframe\">\n",
       "  <thead>\n",
       "    <tr style=\"text-align: right;\">\n",
       "      <th></th>\n",
       "      <th>Id</th>\n",
       "      <th>quality</th>\n",
       "    </tr>\n",
       "  </thead>\n",
       "  <tbody>\n",
       "    <tr>\n",
       "      <th>0</th>\n",
       "      <td>2056</td>\n",
       "      <td>5</td>\n",
       "    </tr>\n",
       "    <tr>\n",
       "      <th>1</th>\n",
       "      <td>2057</td>\n",
       "      <td>7</td>\n",
       "    </tr>\n",
       "    <tr>\n",
       "      <th>2</th>\n",
       "      <td>2058</td>\n",
       "      <td>5</td>\n",
       "    </tr>\n",
       "    <tr>\n",
       "      <th>3</th>\n",
       "      <td>2059</td>\n",
       "      <td>6</td>\n",
       "    </tr>\n",
       "    <tr>\n",
       "      <th>4</th>\n",
       "      <td>2060</td>\n",
       "      <td>5</td>\n",
       "    </tr>\n",
       "  </tbody>\n",
       "</table>\n",
       "</div>"
      ],
      "text/plain": [
       "     Id  quality\n",
       "0  2056        5\n",
       "1  2057        7\n",
       "2  2058        5\n",
       "3  2059        6\n",
       "4  2060        5"
      ]
     },
     "execution_count": 108,
     "metadata": {},
     "output_type": "execute_result"
    }
   ],
   "source": [
    "submissions = pd.DataFrame(data={'Id':sample.Id, 'quality':y_pred_test})\n",
    "submissions.head()"
   ]
  },
  {
   "cell_type": "code",
   "execution_count": 109,
   "metadata": {},
   "outputs": [],
   "source": [
    "submissions.to_csv('RF100_preds.csv',index=False)"
   ]
  }
 ],
 "metadata": {
  "kernelspec": {
   "display_name": "Python 3",
   "language": "python",
   "name": "python3"
  },
  "language_info": {
   "codemirror_mode": {
    "name": "ipython",
    "version": 3
   },
   "file_extension": ".py",
   "mimetype": "text/x-python",
   "name": "python",
   "nbconvert_exporter": "python",
   "pygments_lexer": "ipython3",
   "version": "3.10.8"
  },
  "orig_nbformat": 4,
  "vscode": {
   "interpreter": {
    "hash": "4d536800d27c51602b26d7e23a7b347bd37d1d65ee7fdd104b4efc2c92c4d087"
   }
  }
 },
 "nbformat": 4,
 "nbformat_minor": 2
}
