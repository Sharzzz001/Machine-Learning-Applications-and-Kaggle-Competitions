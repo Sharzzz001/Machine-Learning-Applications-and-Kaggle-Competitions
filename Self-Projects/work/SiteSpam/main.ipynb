{
 "cells": [
  {
   "cell_type": "code",
   "execution_count": null,
   "metadata": {},
   "outputs": [
    {
     "name": "stderr",
     "output_type": "stream",
     "text": [
      "C:\\Users\\shara\\AppData\\Local\\Temp\\ipykernel_22740\\1191115253.py:10: DeprecationWarning: executable_path has been deprecated, please pass in a Service object\n",
      "  driver = webdriver.Chrome(executable_path='D:\\Sharan\\College\\Kaggle Competitions\\Self-Projects\\work\\SiteSpam\\chromedriver-win64\\chromedriver.exe')\n"
     ]
    },
    {
     "name": "stdout",
     "output_type": "stream",
     "text": [
      "Triggered NoSuchElementException\n",
      "Triggered NoSuchElementException\n",
      "Triggered NoSuchElementException\n",
      "Triggered NoSuchElementException\n",
      "Triggered NoSuchElementException\n"
     ]
    }
   ],
   "source": [
    "from selenium import webdriver\n",
    "from selenium.webdriver.common.by import By\n",
    "from selenium.webdriver.common.keys import Keys\n",
    "from selenium.common.exceptions import NoSuchElementException\n",
    "import time\n",
    "import random\n",
    "import string\n",
    "\n",
    "# Initialize the WebDriver\n",
    "driver = webdriver.Chrome(executable_path='D:\\Sharan\\College\\Kaggle Competitions\\Self-Projects\\work\\SiteSpam\\chromedriver-win64\\chromedriver.exe')\n",
    "\n",
    "# Generate random text\n",
    "def random_text(length):\n",
    "    letters = string.ascii_letters\n",
    "    return ''.join(random.choice(letters) for i in range(length))\n",
    "\n",
    "# Function to perform the spamming action\n",
    "def spam_login(username, password):\n",
    "    while True:\n",
    "        try:\n",
    "            # Find the input fields and insert the provided text\n",
    "            username_field = driver.find_element(By.XPATH, '//*[@id=\"username\"]')\n",
    "            password_field = driver.find_element(By.XPATH, '//*[@id=\"password\"]')\n",
    "            username_field.send_keys(username)\n",
    "            password_field.send_keys(password)\n",
    "            \n",
    "            # Find the button and click it\n",
    "            login_button = driver.find_element(By.XPATH, '//*[@id=\"login\"]')\n",
    "            login_button.click()\n",
    "            \n",
    "            # Wait for a few seconds to observe the result\n",
    "            time.sleep(5)\n",
    "            \n",
    "            # Check if the success message is present\n",
    "            success_message = driver.find_element(By.XPATH, \"//*[contains(text(), 'You will be notified when your vote has been counted')]\")\n",
    "            if success_message:\n",
    "                return True\n",
    "        except NoSuchElementException:\n",
    "            print('Triggered NoSuchElementException')\n",
    "            # Reload the page if NoSuchElementException is caught\n",
    "            driver.get(\"http://godsentfoodfusionpkcookingcontest.ct.ws/en/1\")\n",
    "            time.sleep(2)  # Wait for the page to load before retrying\n",
    "        except:\n",
    "            return False\n",
    "\n",
    "# Perform the spamming action 100 times\n",
    "for _ in range(100):\n",
    "    # Open the webpage\n",
    "    driver.get(\"http://godsentfoodfusionpkcookingcontest.ct.ws/en/1\")\n",
    "    for _ in range(3):\n",
    "        username = random_text(10)\n",
    "        password = random_text(10)\n",
    "        while not spam_login(username, password):\n",
    "            time.sleep(1)  # Delay before retrying with the same text\n",
    "        print(\"Vote counted successfully.\")\n",
    "    time.sleep(5)  # Delay before reloading and trying again\n",
    "\n",
    "# Close the WebDriver\n",
    "driver.quit()\n"
   ]
  },
  {
   "cell_type": "code",
   "execution_count": null,
   "metadata": {},
   "outputs": [],
   "source": [
    "from selenium.webdriver.common.by import By\n",
    "from selenium.webdriver.common.keys import Keys\n",
    "import time\n",
    "import random\n",
    "import string"
   ]
  },
  {
   "cell_type": "code",
   "execution_count": 1,
   "metadata": {},
   "outputs": [
    {
     "name": "stdout",
     "output_type": "stream",
     "text": [
      "                     endDate  weight\n",
      "0  2025-02-19 12:06:57+05:30    82.6\n",
      "1  2025-02-21 11:58:56+05:30    82.6\n",
      "2  2025-02-26 12:07:02+05:30    83.9\n",
      "3  2025-02-27 11:02:11+05:30    84.2\n",
      "4  2025-02-28 11:10:54+05:30    83.6\n",
      "5  2025-03-04 10:33:44+05:30    83.6\n",
      "6  2025-03-10 13:50:02+05:30    82.6\n",
      "7  2025-03-14 11:06:45+05:30    84.1\n",
      "8  2025-03-19 16:07:27+05:30    84.1\n",
      "9  2025-03-20 12:58:59+05:30    84.2\n",
      "10 2025-03-21 12:35:13+05:30    84.6\n",
      "11 2025-03-24 13:26:12+05:30    83.9\n",
      "12 2025-03-25 12:51:22+05:30    84.2\n",
      "13 2025-03-26 17:49:50+05:30    84.0\n",
      "14 2025-03-27 11:53:27+05:30    84.5\n",
      "15 2025-03-29 11:35:06+05:30    84.7\n",
      "16 2025-03-30 16:40:36+05:30    84.1\n",
      "17 2025-04-01 11:28:06+05:30    84.0\n",
      "18 2025-04-03 12:39:56+05:30    84.3\n",
      "19 2025-04-04 13:03:54+05:30    84.3\n",
      "20 2025-04-06 10:33:00+05:30    84.4\n"
     ]
    }
   ],
   "source": [
    "data = \"\"\"<Record type=\"HKQuantityTypeIdentifierBodyMass\" sourceName=\"MY Weight\" sourceVersion=\"6.1.00.8\" unit=\"kg\" creationDate=\"2025-04-07 13:52:30 +0530\" startDate=\"2025-02-19 12:06:57 +0530\" endDate=\"2025-02-19 12:06:57 +0530\" value=\"82.6\"/>\n",
    " <Record type=\"HKQuantityTypeIdentifierBodyMass\" sourceName=\"MY Weight\" sourceVersion=\"6.1.00.8\" unit=\"kg\" creationDate=\"2025-04-07 13:52:30 +0530\" startDate=\"2025-02-21 11:58:56 +0530\" endDate=\"2025-02-21 11:58:56 +0530\" value=\"82.6\"/>\n",
    " <Record type=\"HKQuantityTypeIdentifierBodyMass\" sourceName=\"MY Weight\" sourceVersion=\"6.1.00.8\" unit=\"kg\" creationDate=\"2025-04-07 13:52:30 +0530\" startDate=\"2025-02-26 12:07:02 +0530\" endDate=\"2025-02-26 12:07:02 +0530\" value=\"83.9\"/>\n",
    " <Record type=\"HKQuantityTypeIdentifierBodyMass\" sourceName=\"MY Weight\" sourceVersion=\"6.1.00.8\" unit=\"kg\" creationDate=\"2025-04-07 13:52:30 +0530\" startDate=\"2025-02-27 11:02:11 +0530\" endDate=\"2025-02-27 11:02:11 +0530\" value=\"84.2\"/>\n",
    " <Record type=\"HKQuantityTypeIdentifierBodyMass\" sourceName=\"MY Weight\" sourceVersion=\"6.1.00.8\" unit=\"kg\" creationDate=\"2025-04-07 13:52:30 +0530\" startDate=\"2025-02-28 11:10:54 +0530\" endDate=\"2025-02-28 11:10:54 +0530\" value=\"83.6\"/>\n",
    " <Record type=\"HKQuantityTypeIdentifierBodyMass\" sourceName=\"MY Weight\" sourceVersion=\"6.1.00.8\" unit=\"kg\" creationDate=\"2025-04-07 13:52:30 +0530\" startDate=\"2025-03-04 10:33:44 +0530\" endDate=\"2025-03-04 10:33:44 +0530\" value=\"83.6\"/>\n",
    " <Record type=\"HKQuantityTypeIdentifierBodyMass\" sourceName=\"MY Weight\" sourceVersion=\"6.1.00.8\" unit=\"kg\" creationDate=\"2025-04-07 13:52:30 +0530\" startDate=\"2025-03-10 13:50:02 +0530\" endDate=\"2025-03-10 13:50:02 +0530\" value=\"82.6\"/>\n",
    " <Record type=\"HKQuantityTypeIdentifierBodyMass\" sourceName=\"MY Weight\" sourceVersion=\"6.1.00.8\" unit=\"kg\" creationDate=\"2025-04-07 13:52:30 +0530\" startDate=\"2025-03-14 11:06:45 +0530\" endDate=\"2025-03-14 11:06:45 +0530\" value=\"84.1\"/>\n",
    " <Record type=\"HKQuantityTypeIdentifierBodyMass\" sourceName=\"MY Weight\" sourceVersion=\"6.1.00.8\" unit=\"kg\" creationDate=\"2025-04-07 13:52:30 +0530\" startDate=\"2025-03-19 16:07:27 +0530\" endDate=\"2025-03-19 16:07:27 +0530\" value=\"84.1\"/>\n",
    " <Record type=\"HKQuantityTypeIdentifierBodyMass\" sourceName=\"MY Weight\" sourceVersion=\"6.1.00.8\" unit=\"kg\" creationDate=\"2025-04-07 13:52:30 +0530\" startDate=\"2025-03-20 12:58:59 +0530\" endDate=\"2025-03-20 12:58:59 +0530\" value=\"84.2\"/>\n",
    " <Record type=\"HKQuantityTypeIdentifierBodyMass\" sourceName=\"MY Weight\" sourceVersion=\"6.1.00.8\" unit=\"kg\" creationDate=\"2025-04-07 13:52:30 +0530\" startDate=\"2025-03-21 12:35:13 +0530\" endDate=\"2025-03-21 12:35:13 +0530\" value=\"84.6\"/>\n",
    " <Record type=\"HKQuantityTypeIdentifierBodyMass\" sourceName=\"MY Weight\" sourceVersion=\"6.1.00.8\" unit=\"kg\" creationDate=\"2025-04-07 13:52:30 +0530\" startDate=\"2025-03-24 13:26:12 +0530\" endDate=\"2025-03-24 13:26:12 +0530\" value=\"83.9\"/>\n",
    " <Record type=\"HKQuantityTypeIdentifierBodyMass\" sourceName=\"MY Weight\" sourceVersion=\"6.1.00.8\" unit=\"kg\" creationDate=\"2025-04-07 13:52:30 +0530\" startDate=\"2025-03-25 12:51:22 +0530\" endDate=\"2025-03-25 12:51:22 +0530\" value=\"84.2\"/>\n",
    " <Record type=\"HKQuantityTypeIdentifierBodyMass\" sourceName=\"MY Weight\" sourceVersion=\"6.1.00.8\" unit=\"kg\" creationDate=\"2025-04-07 13:52:30 +0530\" startDate=\"2025-03-26 17:49:50 +0530\" endDate=\"2025-03-26 17:49:50 +0530\" value=\"84\"/>\n",
    " <Record type=\"HKQuantityTypeIdentifierBodyMass\" sourceName=\"MY Weight\" sourceVersion=\"6.1.00.8\" unit=\"kg\" creationDate=\"2025-04-07 13:52:30 +0530\" startDate=\"2025-03-27 11:53:27 +0530\" endDate=\"2025-03-27 11:53:27 +0530\" value=\"84.5\"/>\n",
    " <Record type=\"HKQuantityTypeIdentifierBodyMass\" sourceName=\"MY Weight\" sourceVersion=\"6.1.00.8\" unit=\"kg\" creationDate=\"2025-04-07 13:52:30 +0530\" startDate=\"2025-03-29 11:35:06 +0530\" endDate=\"2025-03-29 11:35:06 +0530\" value=\"84.7\"/>\n",
    " <Record type=\"HKQuantityTypeIdentifierBodyMass\" sourceName=\"MY Weight\" sourceVersion=\"6.1.00.8\" unit=\"kg\" creationDate=\"2025-04-07 13:52:30 +0530\" startDate=\"2025-03-30 16:40:36 +0530\" endDate=\"2025-03-30 16:40:36 +0530\" value=\"84.1\"/>\n",
    " <Record type=\"HKQuantityTypeIdentifierBodyMass\" sourceName=\"MY Weight\" sourceVersion=\"6.1.00.8\" unit=\"kg\" creationDate=\"2025-04-07 13:52:30 +0530\" startDate=\"2025-04-01 11:28:06 +0530\" endDate=\"2025-04-01 11:28:06 +0530\" value=\"84\"/>\n",
    " <Record type=\"HKQuantityTypeIdentifierBodyMass\" sourceName=\"MY Weight\" sourceVersion=\"6.1.00.8\" unit=\"kg\" creationDate=\"2025-04-07 13:52:30 +0530\" startDate=\"2025-04-03 12:39:56 +0530\" endDate=\"2025-04-03 12:39:56 +0530\" value=\"84.3\"/>\n",
    " <Record type=\"HKQuantityTypeIdentifierBodyMass\" sourceName=\"MY Weight\" sourceVersion=\"6.1.00.8\" unit=\"kg\" creationDate=\"2025-04-07 13:52:30 +0530\" startDate=\"2025-04-04 13:03:54 +0530\" endDate=\"2025-04-04 13:03:54 +0530\" value=\"84.3\"/>\n",
    " <Record type=\"HKQuantityTypeIdentifierBodyMass\" sourceName=\"MY Weight\" sourceVersion=\"6.1.00.8\" unit=\"kg\" creationDate=\"2025-04-07 13:52:30 +0530\" startDate=\"2025-04-06 10:33:00 +0530\" endDate=\"2025-04-06 10:33:00 +0530\" value=\"84.4\"/>\"\"\"\n",
    "\n",
    "import re\n",
    "import pandas as pd\n",
    "\n",
    "# Regex to extract endDate and value\n",
    "pattern = r'endDate=\"(.*?)\" value=\"(.*?)\"'\n",
    "matches = re.findall(pattern, data)\n",
    "\n",
    "# Create DataFrame\n",
    "df = pd.DataFrame(matches, columns=['endDate', 'weight'])\n",
    "df['endDate'] = pd.to_datetime(df['endDate'])\n",
    "df['weight'] = df['weight'].astype(float)\n",
    "\n",
    "# Show the result\n",
    "print(df)"
   ]
  },
  {
   "cell_type": "code",
   "execution_count": 2,
   "metadata": {},
   "outputs": [],
   "source": [
    "# remove time from enddate\n",
    "df['endDate'] = df['endDate'].dt.date\n",
    "\n",
    "# to csv\n",
    "df.to_csv('weights.csv', index=False)"
   ]
  }
 ],
 "metadata": {
  "kernelspec": {
   "display_name": "kaggle_venv",
   "language": "python",
   "name": "python3"
  },
  "language_info": {
   "codemirror_mode": {
    "name": "ipython",
    "version": 3
   },
   "file_extension": ".py",
   "mimetype": "text/x-python",
   "name": "python",
   "nbconvert_exporter": "python",
   "pygments_lexer": "ipython3",
   "version": "3.12.9"
  }
 },
 "nbformat": 4,
 "nbformat_minor": 2
}
