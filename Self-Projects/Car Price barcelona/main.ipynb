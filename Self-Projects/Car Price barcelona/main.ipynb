{
 "cells": [
  {
   "cell_type": "code",
   "execution_count": 1,
   "metadata": {},
   "outputs": [],
   "source": [
    "import pandas as pd\n",
    "import matplotlib.pyplot as plt\n",
    "import seaborn as sns\n",
    "import matplotlib.pyplot as plt\n",
    "import seaborn as sns\n",
    "import numpy as np\n",
    "import jinja2"
   ]
  },
  {
   "cell_type": "code",
   "execution_count": 2,
   "metadata": {},
   "outputs": [
    {
     "data": {
      "text/html": [
       "<div>\n",
       "<style scoped>\n",
       "    .dataframe tbody tr th:only-of-type {\n",
       "        vertical-align: middle;\n",
       "    }\n",
       "\n",
       "    .dataframe tbody tr th {\n",
       "        vertical-align: top;\n",
       "    }\n",
       "\n",
       "    .dataframe thead th {\n",
       "        text-align: right;\n",
       "    }\n",
       "</style>\n",
       "<table border=\"1\" class=\"dataframe\">\n",
       "  <thead>\n",
       "    <tr style=\"text-align: right;\">\n",
       "      <th></th>\n",
       "      <th>Unnamed: 0</th>\n",
       "      <th>brand</th>\n",
       "      <th>model</th>\n",
       "      <th>price (eur)</th>\n",
       "      <th>engine</th>\n",
       "      <th>year</th>\n",
       "      <th>mileage (kms)</th>\n",
       "      <th>fuel</th>\n",
       "      <th>gearbox</th>\n",
       "      <th>location</th>\n",
       "    </tr>\n",
       "  </thead>\n",
       "  <tbody>\n",
       "    <tr>\n",
       "      <th>0</th>\n",
       "      <td>0</td>\n",
       "      <td>SEAT</td>\n",
       "      <td>Ibiza</td>\n",
       "      <td>8990</td>\n",
       "      <td>SC 1.2 TSI 90cv Style</td>\n",
       "      <td>2016</td>\n",
       "      <td>67000</td>\n",
       "      <td>Gasolina</td>\n",
       "      <td>Manual</td>\n",
       "      <td>Granollers</td>\n",
       "    </tr>\n",
       "    <tr>\n",
       "      <th>1</th>\n",
       "      <td>1</td>\n",
       "      <td>Hyundai</td>\n",
       "      <td>i30</td>\n",
       "      <td>9990</td>\n",
       "      <td>1.6 CRDi 110cv Tecno</td>\n",
       "      <td>2014</td>\n",
       "      <td>104868</td>\n",
       "      <td>Diésel</td>\n",
       "      <td>Manual</td>\n",
       "      <td>Viladecans</td>\n",
       "    </tr>\n",
       "    <tr>\n",
       "      <th>2</th>\n",
       "      <td>2</td>\n",
       "      <td>BMW</td>\n",
       "      <td>Serie 5</td>\n",
       "      <td>13490</td>\n",
       "      <td>530d Touring</td>\n",
       "      <td>2011</td>\n",
       "      <td>137566</td>\n",
       "      <td>Diésel</td>\n",
       "      <td>Automatica</td>\n",
       "      <td>Viladecans</td>\n",
       "    </tr>\n",
       "    <tr>\n",
       "      <th>3</th>\n",
       "      <td>3</td>\n",
       "      <td>Volkswagen</td>\n",
       "      <td>Golf</td>\n",
       "      <td>24990</td>\n",
       "      <td>GTI 2.0 TSI 169kW (230CV)</td>\n",
       "      <td>2018</td>\n",
       "      <td>44495</td>\n",
       "      <td>Gasolina</td>\n",
       "      <td>Manual</td>\n",
       "      <td>Viladecans</td>\n",
       "    </tr>\n",
       "    <tr>\n",
       "      <th>4</th>\n",
       "      <td>4</td>\n",
       "      <td>Opel</td>\n",
       "      <td>Corsa</td>\n",
       "      <td>10460</td>\n",
       "      <td>1.4 Expression 90 CV</td>\n",
       "      <td>2016</td>\n",
       "      <td>69800</td>\n",
       "      <td>Gasolina</td>\n",
       "      <td>Manual</td>\n",
       "      <td>Sabadell 1</td>\n",
       "    </tr>\n",
       "  </tbody>\n",
       "</table>\n",
       "</div>"
      ],
      "text/plain": [
       "   Unnamed: 0       brand    model  price (eur)                     engine  \\\n",
       "0           0        SEAT    Ibiza         8990      SC 1.2 TSI 90cv Style   \n",
       "1           1     Hyundai      i30         9990       1.6 CRDi 110cv Tecno   \n",
       "2           2         BMW  Serie 5        13490               530d Touring   \n",
       "3           3  Volkswagen     Golf        24990  GTI 2.0 TSI 169kW (230CV)   \n",
       "4           4        Opel    Corsa        10460       1.4 Expression 90 CV   \n",
       "\n",
       "   year  mileage (kms)      fuel     gearbox    location  \n",
       "0  2016          67000  Gasolina      Manual  Granollers  \n",
       "1  2014         104868    Diésel      Manual  Viladecans  \n",
       "2  2011         137566    Diésel  Automatica  Viladecans  \n",
       "3  2018          44495  Gasolina      Manual  Viladecans  \n",
       "4  2016          69800  Gasolina      Manual  Sabadell 1  "
      ]
     },
     "execution_count": 2,
     "metadata": {},
     "output_type": "execute_result"
    }
   ],
   "source": [
    "df = pd.read_csv('used_cars_data.csv')\n",
    "df.head()"
   ]
  },
  {
   "cell_type": "code",
   "execution_count": 3,
   "metadata": {},
   "outputs": [
    {
     "data": {
      "text/html": [
       "<div>\n",
       "<style scoped>\n",
       "    .dataframe tbody tr th:only-of-type {\n",
       "        vertical-align: middle;\n",
       "    }\n",
       "\n",
       "    .dataframe tbody tr th {\n",
       "        vertical-align: top;\n",
       "    }\n",
       "\n",
       "    .dataframe thead th {\n",
       "        text-align: right;\n",
       "    }\n",
       "</style>\n",
       "<table border=\"1\" class=\"dataframe\">\n",
       "  <thead>\n",
       "    <tr style=\"text-align: right;\">\n",
       "      <th></th>\n",
       "      <th>brand</th>\n",
       "      <th>model</th>\n",
       "      <th>price (eur)</th>\n",
       "      <th>engine</th>\n",
       "      <th>year</th>\n",
       "      <th>mileage (kms)</th>\n",
       "      <th>fuel</th>\n",
       "      <th>gearbox</th>\n",
       "      <th>location</th>\n",
       "    </tr>\n",
       "  </thead>\n",
       "  <tbody>\n",
       "    <tr>\n",
       "      <th>0</th>\n",
       "      <td>SEAT</td>\n",
       "      <td>Ibiza</td>\n",
       "      <td>8990</td>\n",
       "      <td>SC 1.2 TSI 90cv Style</td>\n",
       "      <td>2016</td>\n",
       "      <td>67000</td>\n",
       "      <td>Gasolina</td>\n",
       "      <td>Manual</td>\n",
       "      <td>Granollers</td>\n",
       "    </tr>\n",
       "    <tr>\n",
       "      <th>1</th>\n",
       "      <td>Hyundai</td>\n",
       "      <td>i30</td>\n",
       "      <td>9990</td>\n",
       "      <td>1.6 CRDi 110cv Tecno</td>\n",
       "      <td>2014</td>\n",
       "      <td>104868</td>\n",
       "      <td>Diésel</td>\n",
       "      <td>Manual</td>\n",
       "      <td>Viladecans</td>\n",
       "    </tr>\n",
       "    <tr>\n",
       "      <th>2</th>\n",
       "      <td>BMW</td>\n",
       "      <td>Serie 5</td>\n",
       "      <td>13490</td>\n",
       "      <td>530d Touring</td>\n",
       "      <td>2011</td>\n",
       "      <td>137566</td>\n",
       "      <td>Diésel</td>\n",
       "      <td>Automatica</td>\n",
       "      <td>Viladecans</td>\n",
       "    </tr>\n",
       "    <tr>\n",
       "      <th>3</th>\n",
       "      <td>Volkswagen</td>\n",
       "      <td>Golf</td>\n",
       "      <td>24990</td>\n",
       "      <td>GTI 2.0 TSI 169kW (230CV)</td>\n",
       "      <td>2018</td>\n",
       "      <td>44495</td>\n",
       "      <td>Gasolina</td>\n",
       "      <td>Manual</td>\n",
       "      <td>Viladecans</td>\n",
       "    </tr>\n",
       "    <tr>\n",
       "      <th>4</th>\n",
       "      <td>Opel</td>\n",
       "      <td>Corsa</td>\n",
       "      <td>10460</td>\n",
       "      <td>1.4 Expression 90 CV</td>\n",
       "      <td>2016</td>\n",
       "      <td>69800</td>\n",
       "      <td>Gasolina</td>\n",
       "      <td>Manual</td>\n",
       "      <td>Sabadell 1</td>\n",
       "    </tr>\n",
       "  </tbody>\n",
       "</table>\n",
       "</div>"
      ],
      "text/plain": [
       "        brand    model  price (eur)                     engine  year  \\\n",
       "0        SEAT    Ibiza         8990      SC 1.2 TSI 90cv Style  2016   \n",
       "1     Hyundai      i30         9990       1.6 CRDi 110cv Tecno  2014   \n",
       "2         BMW  Serie 5        13490               530d Touring  2011   \n",
       "3  Volkswagen     Golf        24990  GTI 2.0 TSI 169kW (230CV)  2018   \n",
       "4        Opel    Corsa        10460       1.4 Expression 90 CV  2016   \n",
       "\n",
       "   mileage (kms)      fuel     gearbox    location  \n",
       "0          67000  Gasolina      Manual  Granollers  \n",
       "1         104868    Diésel      Manual  Viladecans  \n",
       "2         137566    Diésel  Automatica  Viladecans  \n",
       "3          44495  Gasolina      Manual  Viladecans  \n",
       "4          69800  Gasolina      Manual  Sabadell 1  "
      ]
     },
     "execution_count": 3,
     "metadata": {},
     "output_type": "execute_result"
    }
   ],
   "source": [
    "df = df.loc[:, ~df.columns.str.contains('^Unnamed')]\n",
    "df.head()"
   ]
  },
  {
   "cell_type": "code",
   "execution_count": null,
   "metadata": {},
   "outputs": [],
   "source": []
  },
  {
   "cell_type": "code",
   "execution_count": 4,
   "metadata": {},
   "outputs": [
    {
     "data": {
      "text/plain": [
       "(792, 9)"
      ]
     },
     "execution_count": 4,
     "metadata": {},
     "output_type": "execute_result"
    }
   ],
   "source": [
    "df.shape"
   ]
  },
  {
   "cell_type": "code",
   "execution_count": 5,
   "metadata": {},
   "outputs": [
    {
     "name": "stdout",
     "output_type": "stream",
     "text": [
      "<class 'pandas.core.frame.DataFrame'>\n",
      "RangeIndex: 792 entries, 0 to 791\n",
      "Data columns (total 9 columns):\n",
      " #   Column         Non-Null Count  Dtype \n",
      "---  ------         --------------  ----- \n",
      " 0   brand          792 non-null    object\n",
      " 1   model          792 non-null    object\n",
      " 2   price (eur)    792 non-null    int64 \n",
      " 3   engine         792 non-null    object\n",
      " 4   year           792 non-null    int64 \n",
      " 5   mileage (kms)  792 non-null    int64 \n",
      " 6   fuel           792 non-null    object\n",
      " 7   gearbox        792 non-null    object\n",
      " 8   location       792 non-null    object\n",
      "dtypes: int64(3), object(6)\n",
      "memory usage: 55.8+ KB\n"
     ]
    }
   ],
   "source": [
    "df.info()"
   ]
  },
  {
   "cell_type": "code",
   "execution_count": 6,
   "metadata": {},
   "outputs": [
    {
     "data": {
      "text/plain": [
       "(792, 9)"
      ]
     },
     "execution_count": 6,
     "metadata": {},
     "output_type": "execute_result"
    }
   ],
   "source": [
    "df1 = df.copy(deep=True)\n",
    "df1.shape"
   ]
  },
  {
   "cell_type": "code",
   "execution_count": 7,
   "metadata": {},
   "outputs": [
    {
     "data": {
      "text/plain": [
       "False"
      ]
     },
     "execution_count": 7,
     "metadata": {},
     "output_type": "execute_result"
    }
   ],
   "source": [
    "df1.isnull().values.any()"
   ]
  },
  {
   "cell_type": "code",
   "execution_count": 8,
   "metadata": {},
   "outputs": [],
   "source": [
    "df1['brand_average'] = df1.groupby(['brand'])['price (eur)'].transform('mean').round(2)"
   ]
  },
  {
   "cell_type": "code",
   "execution_count": 9,
   "metadata": {},
   "outputs": [
    {
     "data": {
      "text/html": [
       "<div>\n",
       "<style scoped>\n",
       "    .dataframe tbody tr th:only-of-type {\n",
       "        vertical-align: middle;\n",
       "    }\n",
       "\n",
       "    .dataframe tbody tr th {\n",
       "        vertical-align: top;\n",
       "    }\n",
       "\n",
       "    .dataframe thead th {\n",
       "        text-align: right;\n",
       "    }\n",
       "</style>\n",
       "<table border=\"1\" class=\"dataframe\">\n",
       "  <thead>\n",
       "    <tr style=\"text-align: right;\">\n",
       "      <th></th>\n",
       "      <th>brand</th>\n",
       "      <th>model</th>\n",
       "      <th>price (eur)</th>\n",
       "      <th>engine</th>\n",
       "      <th>year</th>\n",
       "      <th>mileage (kms)</th>\n",
       "      <th>fuel</th>\n",
       "      <th>gearbox</th>\n",
       "      <th>location</th>\n",
       "      <th>brand_average</th>\n",
       "    </tr>\n",
       "  </thead>\n",
       "  <tbody>\n",
       "    <tr>\n",
       "      <th>0</th>\n",
       "      <td>SEAT</td>\n",
       "      <td>Ibiza</td>\n",
       "      <td>8990</td>\n",
       "      <td>SC 1.2 TSI 90cv Style</td>\n",
       "      <td>2016</td>\n",
       "      <td>67000</td>\n",
       "      <td>Gasolina</td>\n",
       "      <td>Manual</td>\n",
       "      <td>Granollers</td>\n",
       "      <td>14828.45</td>\n",
       "    </tr>\n",
       "    <tr>\n",
       "      <th>1</th>\n",
       "      <td>Hyundai</td>\n",
       "      <td>i30</td>\n",
       "      <td>9990</td>\n",
       "      <td>1.6 CRDi 110cv Tecno</td>\n",
       "      <td>2014</td>\n",
       "      <td>104868</td>\n",
       "      <td>Diésel</td>\n",
       "      <td>Manual</td>\n",
       "      <td>Viladecans</td>\n",
       "      <td>15429.13</td>\n",
       "    </tr>\n",
       "    <tr>\n",
       "      <th>2</th>\n",
       "      <td>BMW</td>\n",
       "      <td>Serie 5</td>\n",
       "      <td>13490</td>\n",
       "      <td>530d Touring</td>\n",
       "      <td>2011</td>\n",
       "      <td>137566</td>\n",
       "      <td>Diésel</td>\n",
       "      <td>Automatica</td>\n",
       "      <td>Viladecans</td>\n",
       "      <td>21667.37</td>\n",
       "    </tr>\n",
       "    <tr>\n",
       "      <th>3</th>\n",
       "      <td>Volkswagen</td>\n",
       "      <td>Golf</td>\n",
       "      <td>24990</td>\n",
       "      <td>GTI 2.0 TSI 169kW (230CV)</td>\n",
       "      <td>2018</td>\n",
       "      <td>44495</td>\n",
       "      <td>Gasolina</td>\n",
       "      <td>Manual</td>\n",
       "      <td>Viladecans</td>\n",
       "      <td>16747.84</td>\n",
       "    </tr>\n",
       "    <tr>\n",
       "      <th>4</th>\n",
       "      <td>Opel</td>\n",
       "      <td>Corsa</td>\n",
       "      <td>10460</td>\n",
       "      <td>1.4 Expression 90 CV</td>\n",
       "      <td>2016</td>\n",
       "      <td>69800</td>\n",
       "      <td>Gasolina</td>\n",
       "      <td>Manual</td>\n",
       "      <td>Sabadell 1</td>\n",
       "      <td>12419.03</td>\n",
       "    </tr>\n",
       "  </tbody>\n",
       "</table>\n",
       "</div>"
      ],
      "text/plain": [
       "        brand    model  price (eur)                     engine  year  \\\n",
       "0        SEAT    Ibiza         8990      SC 1.2 TSI 90cv Style  2016   \n",
       "1     Hyundai      i30         9990       1.6 CRDi 110cv Tecno  2014   \n",
       "2         BMW  Serie 5        13490               530d Touring  2011   \n",
       "3  Volkswagen     Golf        24990  GTI 2.0 TSI 169kW (230CV)  2018   \n",
       "4        Opel    Corsa        10460       1.4 Expression 90 CV  2016   \n",
       "\n",
       "   mileage (kms)      fuel     gearbox    location  brand_average  \n",
       "0          67000  Gasolina      Manual  Granollers       14828.45  \n",
       "1         104868    Diésel      Manual  Viladecans       15429.13  \n",
       "2         137566    Diésel  Automatica  Viladecans       21667.37  \n",
       "3          44495  Gasolina      Manual  Viladecans       16747.84  \n",
       "4          69800  Gasolina      Manual  Sabadell 1       12419.03  "
      ]
     },
     "execution_count": 9,
     "metadata": {},
     "output_type": "execute_result"
    }
   ],
   "source": [
    "df1.head()"
   ]
  },
  {
   "cell_type": "code",
   "execution_count": 10,
   "metadata": {},
   "outputs": [
    {
     "data": {
      "text/plain": [
       "count      792.000000\n",
       "mean     15973.383624\n",
       "std       3818.946538\n",
       "min       6490.000000\n",
       "25%      13805.075000\n",
       "50%      14828.450000\n",
       "75%      16747.840000\n",
       "max      29990.000000\n",
       "Name: brand_average, dtype: float64"
      ]
     },
     "execution_count": 10,
     "metadata": {},
     "output_type": "execute_result"
    }
   ],
   "source": [
    "df1['brand_average'].describe()"
   ]
  },
  {
   "cell_type": "code",
   "execution_count": 13,
   "metadata": {},
   "outputs": [],
   "source": [
    "def group_brand(value):\n",
    "    if value > 20000:\n",
    "        return 'high'\n",
    "    elif value > 15000 and value < 20000:\n",
    "        return 'mid'\n",
    "    elif value > 10000 and value < 15000:\n",
    "        return 'low'\n",
    "    else:\n",
    "        return 'very low'"
   ]
  },
  {
   "cell_type": "code",
   "execution_count": 14,
   "metadata": {},
   "outputs": [],
   "source": [
    "df1['brand_group'] = df1.apply(lambda x: group_brand(x['brand_average']),axis=1)"
   ]
  },
  {
   "cell_type": "code",
   "execution_count": 15,
   "metadata": {},
   "outputs": [],
   "source": [
    "df1 = df1.drop('brand', axis = 1)\n",
    "df1 = df1.drop('brand_average', axis = 1)"
   ]
  },
  {
   "cell_type": "code",
   "execution_count": 17,
   "metadata": {},
   "outputs": [
    {
     "data": {
      "text/plain": [
       "low         395\n",
       "mid         255\n",
       "high        134\n",
       "very low      8\n",
       "Name: brand_group, dtype: int64"
      ]
     },
     "execution_count": 17,
     "metadata": {},
     "output_type": "execute_result"
    }
   ],
   "source": [
    "df1.brand_group.value_counts()"
   ]
  },
  {
   "cell_type": "code",
   "execution_count": 18,
   "metadata": {},
   "outputs": [
    {
     "data": {
      "text/html": [
       "<div>\n",
       "<style scoped>\n",
       "    .dataframe tbody tr th:only-of-type {\n",
       "        vertical-align: middle;\n",
       "    }\n",
       "\n",
       "    .dataframe tbody tr th {\n",
       "        vertical-align: top;\n",
       "    }\n",
       "\n",
       "    .dataframe thead th {\n",
       "        text-align: right;\n",
       "    }\n",
       "</style>\n",
       "<table border=\"1\" class=\"dataframe\">\n",
       "  <thead>\n",
       "    <tr style=\"text-align: right;\">\n",
       "      <th></th>\n",
       "      <th>model</th>\n",
       "      <th>price (eur)</th>\n",
       "      <th>engine</th>\n",
       "      <th>year</th>\n",
       "      <th>mileage (kms)</th>\n",
       "      <th>fuel</th>\n",
       "      <th>gearbox</th>\n",
       "      <th>location</th>\n",
       "      <th>brand_group</th>\n",
       "    </tr>\n",
       "  </thead>\n",
       "  <tbody>\n",
       "    <tr>\n",
       "      <th>0</th>\n",
       "      <td>Ibiza</td>\n",
       "      <td>8990</td>\n",
       "      <td>SC 1.2 TSI 90cv Style</td>\n",
       "      <td>2016</td>\n",
       "      <td>67000</td>\n",
       "      <td>Gasolina</td>\n",
       "      <td>Manual</td>\n",
       "      <td>Granollers</td>\n",
       "      <td>low</td>\n",
       "    </tr>\n",
       "    <tr>\n",
       "      <th>1</th>\n",
       "      <td>i30</td>\n",
       "      <td>9990</td>\n",
       "      <td>1.6 CRDi 110cv Tecno</td>\n",
       "      <td>2014</td>\n",
       "      <td>104868</td>\n",
       "      <td>Diésel</td>\n",
       "      <td>Manual</td>\n",
       "      <td>Viladecans</td>\n",
       "      <td>mid</td>\n",
       "    </tr>\n",
       "    <tr>\n",
       "      <th>2</th>\n",
       "      <td>Serie 5</td>\n",
       "      <td>13490</td>\n",
       "      <td>530d Touring</td>\n",
       "      <td>2011</td>\n",
       "      <td>137566</td>\n",
       "      <td>Diésel</td>\n",
       "      <td>Automatica</td>\n",
       "      <td>Viladecans</td>\n",
       "      <td>high</td>\n",
       "    </tr>\n",
       "    <tr>\n",
       "      <th>3</th>\n",
       "      <td>Golf</td>\n",
       "      <td>24990</td>\n",
       "      <td>GTI 2.0 TSI 169kW (230CV)</td>\n",
       "      <td>2018</td>\n",
       "      <td>44495</td>\n",
       "      <td>Gasolina</td>\n",
       "      <td>Manual</td>\n",
       "      <td>Viladecans</td>\n",
       "      <td>mid</td>\n",
       "    </tr>\n",
       "    <tr>\n",
       "      <th>4</th>\n",
       "      <td>Corsa</td>\n",
       "      <td>10460</td>\n",
       "      <td>1.4 Expression 90 CV</td>\n",
       "      <td>2016</td>\n",
       "      <td>69800</td>\n",
       "      <td>Gasolina</td>\n",
       "      <td>Manual</td>\n",
       "      <td>Sabadell 1</td>\n",
       "      <td>low</td>\n",
       "    </tr>\n",
       "  </tbody>\n",
       "</table>\n",
       "</div>"
      ],
      "text/plain": [
       "     model  price (eur)                     engine  year  mileage (kms)  \\\n",
       "0    Ibiza         8990      SC 1.2 TSI 90cv Style  2016          67000   \n",
       "1      i30         9990       1.6 CRDi 110cv Tecno  2014         104868   \n",
       "2  Serie 5        13490               530d Touring  2011         137566   \n",
       "3     Golf        24990  GTI 2.0 TSI 169kW (230CV)  2018          44495   \n",
       "4    Corsa        10460       1.4 Expression 90 CV  2016          69800   \n",
       "\n",
       "       fuel     gearbox    location brand_group  \n",
       "0  Gasolina      Manual  Granollers         low  \n",
       "1    Diésel      Manual  Viladecans         mid  \n",
       "2    Diésel  Automatica  Viladecans        high  \n",
       "3  Gasolina      Manual  Viladecans         mid  \n",
       "4  Gasolina      Manual  Sabadell 1         low  "
      ]
     },
     "execution_count": 18,
     "metadata": {},
     "output_type": "execute_result"
    }
   ],
   "source": [
    "df1.head()"
   ]
  },
  {
   "attachments": {},
   "cell_type": "markdown",
   "metadata": {},
   "source": [
    "Engine avg"
   ]
  },
  {
   "cell_type": "code",
   "execution_count": 19,
   "metadata": {},
   "outputs": [],
   "source": [
    "df1['engine_average'] = df1.groupby(['engine'])['price (eur)'].transform('mean').round(2)"
   ]
  },
  {
   "cell_type": "code",
   "execution_count": 20,
   "metadata": {},
   "outputs": [
    {
     "data": {
      "text/plain": [
       "count      792.000000\n",
       "mean     15973.383864\n",
       "std       6702.406814\n",
       "min       4990.000000\n",
       "25%      11490.000000\n",
       "50%      14990.000000\n",
       "75%      18490.000000\n",
       "max      58990.000000\n",
       "Name: engine_average, dtype: float64"
      ]
     },
     "execution_count": 20,
     "metadata": {},
     "output_type": "execute_result"
    }
   ],
   "source": [
    "df1.engine_average.describe()"
   ]
  },
  {
   "cell_type": "code",
   "execution_count": 21,
   "metadata": {},
   "outputs": [],
   "source": [
    "df1['engine_group'] = df1.apply(lambda x: group_brand(x['engine_average']),axis=1)"
   ]
  },
  {
   "cell_type": "code",
   "execution_count": 23,
   "metadata": {},
   "outputs": [
    {
     "data": {
      "text/plain": [
       "low         306\n",
       "mid         217\n",
       "high        140\n",
       "very low    129\n",
       "Name: engine_group, dtype: int64"
      ]
     },
     "execution_count": 23,
     "metadata": {},
     "output_type": "execute_result"
    }
   ],
   "source": [
    "df1.engine_group.value_counts()"
   ]
  },
  {
   "cell_type": "code",
   "execution_count": 24,
   "metadata": {},
   "outputs": [],
   "source": [
    "df1 = df1.drop('engine', axis = 1)\n",
    "df1 = df1.drop('engine_average', axis = 1)"
   ]
  },
  {
   "cell_type": "code",
   "execution_count": 25,
   "metadata": {},
   "outputs": [
    {
     "data": {
      "text/html": [
       "<div>\n",
       "<style scoped>\n",
       "    .dataframe tbody tr th:only-of-type {\n",
       "        vertical-align: middle;\n",
       "    }\n",
       "\n",
       "    .dataframe tbody tr th {\n",
       "        vertical-align: top;\n",
       "    }\n",
       "\n",
       "    .dataframe thead th {\n",
       "        text-align: right;\n",
       "    }\n",
       "</style>\n",
       "<table border=\"1\" class=\"dataframe\">\n",
       "  <thead>\n",
       "    <tr style=\"text-align: right;\">\n",
       "      <th></th>\n",
       "      <th>model</th>\n",
       "      <th>price (eur)</th>\n",
       "      <th>year</th>\n",
       "      <th>mileage (kms)</th>\n",
       "      <th>fuel</th>\n",
       "      <th>gearbox</th>\n",
       "      <th>location</th>\n",
       "      <th>brand_group</th>\n",
       "      <th>engine_group</th>\n",
       "    </tr>\n",
       "  </thead>\n",
       "  <tbody>\n",
       "    <tr>\n",
       "      <th>0</th>\n",
       "      <td>Ibiza</td>\n",
       "      <td>8990</td>\n",
       "      <td>2016</td>\n",
       "      <td>67000</td>\n",
       "      <td>Gasolina</td>\n",
       "      <td>Manual</td>\n",
       "      <td>Granollers</td>\n",
       "      <td>low</td>\n",
       "      <td>very low</td>\n",
       "    </tr>\n",
       "    <tr>\n",
       "      <th>1</th>\n",
       "      <td>i30</td>\n",
       "      <td>9990</td>\n",
       "      <td>2014</td>\n",
       "      <td>104868</td>\n",
       "      <td>Diésel</td>\n",
       "      <td>Manual</td>\n",
       "      <td>Viladecans</td>\n",
       "      <td>mid</td>\n",
       "      <td>very low</td>\n",
       "    </tr>\n",
       "    <tr>\n",
       "      <th>2</th>\n",
       "      <td>Serie 5</td>\n",
       "      <td>13490</td>\n",
       "      <td>2011</td>\n",
       "      <td>137566</td>\n",
       "      <td>Diésel</td>\n",
       "      <td>Automatica</td>\n",
       "      <td>Viladecans</td>\n",
       "      <td>high</td>\n",
       "      <td>low</td>\n",
       "    </tr>\n",
       "    <tr>\n",
       "      <th>3</th>\n",
       "      <td>Golf</td>\n",
       "      <td>24990</td>\n",
       "      <td>2018</td>\n",
       "      <td>44495</td>\n",
       "      <td>Gasolina</td>\n",
       "      <td>Manual</td>\n",
       "      <td>Viladecans</td>\n",
       "      <td>mid</td>\n",
       "      <td>high</td>\n",
       "    </tr>\n",
       "    <tr>\n",
       "      <th>4</th>\n",
       "      <td>Corsa</td>\n",
       "      <td>10460</td>\n",
       "      <td>2016</td>\n",
       "      <td>69800</td>\n",
       "      <td>Gasolina</td>\n",
       "      <td>Manual</td>\n",
       "      <td>Sabadell 1</td>\n",
       "      <td>low</td>\n",
       "      <td>low</td>\n",
       "    </tr>\n",
       "  </tbody>\n",
       "</table>\n",
       "</div>"
      ],
      "text/plain": [
       "     model  price (eur)  year  mileage (kms)      fuel     gearbox  \\\n",
       "0    Ibiza         8990  2016          67000  Gasolina      Manual   \n",
       "1      i30         9990  2014         104868    Diésel      Manual   \n",
       "2  Serie 5        13490  2011         137566    Diésel  Automatica   \n",
       "3     Golf        24990  2018          44495  Gasolina      Manual   \n",
       "4    Corsa        10460  2016          69800  Gasolina      Manual   \n",
       "\n",
       "     location brand_group engine_group  \n",
       "0  Granollers         low     very low  \n",
       "1  Viladecans         mid     very low  \n",
       "2  Viladecans        high          low  \n",
       "3  Viladecans         mid         high  \n",
       "4  Sabadell 1         low          low  "
      ]
     },
     "execution_count": 25,
     "metadata": {},
     "output_type": "execute_result"
    }
   ],
   "source": [
    "df1.head()"
   ]
  },
  {
   "cell_type": "code",
   "execution_count": 26,
   "metadata": {},
   "outputs": [
    {
     "data": {
      "text/plain": [
       "model            206\n",
       "price (eur)      170\n",
       "year              16\n",
       "mileage (kms)    686\n",
       "fuel               5\n",
       "gearbox            2\n",
       "location          10\n",
       "brand_group        4\n",
       "engine_group       4\n",
       "dtype: int64"
      ]
     },
     "execution_count": 26,
     "metadata": {},
     "output_type": "execute_result"
    }
   ],
   "source": [
    "df1.nunique()"
   ]
  },
  {
   "cell_type": "code",
   "execution_count": 30,
   "metadata": {},
   "outputs": [],
   "source": [
    "df1['location_average'] = df1.groupby(['location'])['price (eur)'].transform('mean').round(2)"
   ]
  },
  {
   "cell_type": "code",
   "execution_count": 34,
   "metadata": {},
   "outputs": [
    {
     "data": {
      "text/plain": [
       "<AxesSubplot: xlabel='location', ylabel='location_average'>"
      ]
     },
     "execution_count": 34,
     "metadata": {},
     "output_type": "execute_result"
    },
    {
     "data": {
      "image/png": "[encoded data removed]",
      "text/plain": [
       "<Figure size 640x480 with 1 Axes>"
      ]
     },
     "metadata": {},
     "output_type": "display_data"
    }
   ],
   "source": [
    "sns.barplot(x=\"location\", y=\"location_average\", data=df1)"
   ]
  },
  {
   "attachments": {},
   "cell_type": "markdown",
   "metadata": {},
   "source": [
    "No need to classify since same"
   ]
  },
  {
   "attachments": {},
   "cell_type": "markdown",
   "metadata": {},
   "source": [
    "year"
   ]
  },
  {
   "cell_type": "code",
   "execution_count": 35,
   "metadata": {},
   "outputs": [],
   "source": [
    "df1['year_average'] = df1.groupby(['year'])['price (eur)'].transform('mean').round(2)"
   ]
  },
  {
   "cell_type": "code",
   "execution_count": 38,
   "metadata": {},
   "outputs": [
    {
     "data": {
      "text/plain": [
       "<AxesSubplot: xlabel='year', ylabel='price (eur)'>"
      ]
     },
     "execution_count": 38,
     "metadata": {},
     "output_type": "execute_result"
    },
    {
     "data": {
      "image/png": "[encoded data removed]",
      "text/plain": [
       "<Figure size 640x480 with 1 Axes>"
      ]
     },
     "metadata": {},
     "output_type": "display_data"
    }
   ],
   "source": [
    "sns.boxplot(x=\"year\", y=\"price (eur)\", data=df1)"
   ]
  },
  {
   "attachments": {},
   "cell_type": "markdown",
   "metadata": {},
   "source": [
    "make condition based on trends"
   ]
  },
  {
   "cell_type": "code",
   "execution_count": 39,
   "metadata": {},
   "outputs": [],
   "source": [
    "def group_year(value):\n",
    "    if value > 2018:\n",
    "        return '2018+'\n",
    "    elif value > 2012 and value < 2018:\n",
    "        return '2012+'\n",
    "    elif value > 2008 and value < 2012:\n",
    "        return '2008+'\n",
    "    else:\n",
    "        return '2008-'"
   ]
  },
  {
   "cell_type": "code",
   "execution_count": 40,
   "metadata": {},
   "outputs": [],
   "source": [
    "df1['year_group'] = df1.apply(lambda x: group_year(x['year']),axis=1)"
   ]
  },
  {
   "cell_type": "code",
   "execution_count": 41,
   "metadata": {},
   "outputs": [
    {
     "data": {
      "text/plain": [
       "2012+    437\n",
       "2008-    179\n",
       "2018+    145\n",
       "2008+     31\n",
       "Name: year_group, dtype: int64"
      ]
     },
     "execution_count": 41,
     "metadata": {},
     "output_type": "execute_result"
    }
   ],
   "source": [
    "df1.year_group.value_counts()"
   ]
  },
  {
   "cell_type": "code",
   "execution_count": 42,
   "metadata": {},
   "outputs": [],
   "source": [
    "df1 = df1.drop('year', axis = 1)\n",
    "df1 = df1.drop('year_average', axis = 1)"
   ]
  },
  {
   "cell_type": "code",
   "execution_count": 44,
   "metadata": {},
   "outputs": [],
   "source": [
    "df1 = df1.drop('location_average', axis = 1)"
   ]
  },
  {
   "cell_type": "code",
   "execution_count": 45,
   "metadata": {},
   "outputs": [
    {
     "data": {
      "text/html": [
       "<div>\n",
       "<style scoped>\n",
       "    .dataframe tbody tr th:only-of-type {\n",
       "        vertical-align: middle;\n",
       "    }\n",
       "\n",
       "    .dataframe tbody tr th {\n",
       "        vertical-align: top;\n",
       "    }\n",
       "\n",
       "    .dataframe thead th {\n",
       "        text-align: right;\n",
       "    }\n",
       "</style>\n",
       "<table border=\"1\" class=\"dataframe\">\n",
       "  <thead>\n",
       "    <tr style=\"text-align: right;\">\n",
       "      <th></th>\n",
       "      <th>model</th>\n",
       "      <th>price (eur)</th>\n",
       "      <th>mileage (kms)</th>\n",
       "      <th>fuel</th>\n",
       "      <th>gearbox</th>\n",
       "      <th>location</th>\n",
       "      <th>brand_group</th>\n",
       "      <th>engine_group</th>\n",
       "      <th>year_group</th>\n",
       "    </tr>\n",
       "  </thead>\n",
       "  <tbody>\n",
       "    <tr>\n",
       "      <th>0</th>\n",
       "      <td>Ibiza</td>\n",
       "      <td>8990</td>\n",
       "      <td>67000</td>\n",
       "      <td>Gasolina</td>\n",
       "      <td>Manual</td>\n",
       "      <td>Granollers</td>\n",
       "      <td>low</td>\n",
       "      <td>very low</td>\n",
       "      <td>2012+</td>\n",
       "    </tr>\n",
       "    <tr>\n",
       "      <th>1</th>\n",
       "      <td>i30</td>\n",
       "      <td>9990</td>\n",
       "      <td>104868</td>\n",
       "      <td>Diésel</td>\n",
       "      <td>Manual</td>\n",
       "      <td>Viladecans</td>\n",
       "      <td>mid</td>\n",
       "      <td>very low</td>\n",
       "      <td>2012+</td>\n",
       "    </tr>\n",
       "    <tr>\n",
       "      <th>2</th>\n",
       "      <td>Serie 5</td>\n",
       "      <td>13490</td>\n",
       "      <td>137566</td>\n",
       "      <td>Diésel</td>\n",
       "      <td>Automatica</td>\n",
       "      <td>Viladecans</td>\n",
       "      <td>high</td>\n",
       "      <td>low</td>\n",
       "      <td>2008+</td>\n",
       "    </tr>\n",
       "    <tr>\n",
       "      <th>3</th>\n",
       "      <td>Golf</td>\n",
       "      <td>24990</td>\n",
       "      <td>44495</td>\n",
       "      <td>Gasolina</td>\n",
       "      <td>Manual</td>\n",
       "      <td>Viladecans</td>\n",
       "      <td>mid</td>\n",
       "      <td>high</td>\n",
       "      <td>2008-</td>\n",
       "    </tr>\n",
       "    <tr>\n",
       "      <th>4</th>\n",
       "      <td>Corsa</td>\n",
       "      <td>10460</td>\n",
       "      <td>69800</td>\n",
       "      <td>Gasolina</td>\n",
       "      <td>Manual</td>\n",
       "      <td>Sabadell 1</td>\n",
       "      <td>low</td>\n",
       "      <td>low</td>\n",
       "      <td>2012+</td>\n",
       "    </tr>\n",
       "  </tbody>\n",
       "</table>\n",
       "</div>"
      ],
      "text/plain": [
       "     model  price (eur)  mileage (kms)      fuel     gearbox    location  \\\n",
       "0    Ibiza         8990          67000  Gasolina      Manual  Granollers   \n",
       "1      i30         9990         104868    Diésel      Manual  Viladecans   \n",
       "2  Serie 5        13490         137566    Diésel  Automatica  Viladecans   \n",
       "3     Golf        24990          44495  Gasolina      Manual  Viladecans   \n",
       "4    Corsa        10460          69800  Gasolina      Manual  Sabadell 1   \n",
       "\n",
       "  brand_group engine_group year_group  \n",
       "0         low     very low      2012+  \n",
       "1         mid     very low      2012+  \n",
       "2        high          low      2008+  \n",
       "3         mid         high      2008-  \n",
       "4         low          low      2012+  "
      ]
     },
     "execution_count": 45,
     "metadata": {},
     "output_type": "execute_result"
    }
   ],
   "source": [
    "df1.head()"
   ]
  },
  {
   "attachments": {},
   "cell_type": "markdown",
   "metadata": {},
   "source": [
    "Model"
   ]
  },
  {
   "cell_type": "code",
   "execution_count": 46,
   "metadata": {},
   "outputs": [],
   "source": [
    "df1['model_average'] = df1.groupby(['model'])['price (eur)'].transform('mean').round(2)"
   ]
  },
  {
   "cell_type": "code",
   "execution_count": 47,
   "metadata": {},
   "outputs": [
    {
     "data": {
      "text/plain": [
       "count      792.000000\n",
       "mean     15973.384318\n",
       "std       5630.107092\n",
       "min       4990.000000\n",
       "25%      11990.000000\n",
       "50%      15171.820000\n",
       "75%      17283.330000\n",
       "max      58990.000000\n",
       "Name: model_average, dtype: float64"
      ]
     },
     "execution_count": 47,
     "metadata": {},
     "output_type": "execute_result"
    }
   ],
   "source": [
    "df1.model_average.describe()"
   ]
  },
  {
   "cell_type": "code",
   "execution_count": 48,
   "metadata": {},
   "outputs": [],
   "source": [
    "df1['model_group'] = df1.apply(lambda x: group_brand(x['model_average']),axis=1)"
   ]
  },
  {
   "cell_type": "code",
   "execution_count": 50,
   "metadata": {},
   "outputs": [
    {
     "data": {
      "text/plain": [
       "low         325\n",
       "mid         301\n",
       "high        112\n",
       "very low     54\n",
       "Name: model_group, dtype: int64"
      ]
     },
     "execution_count": 50,
     "metadata": {},
     "output_type": "execute_result"
    }
   ],
   "source": [
    "df1.model_group.value_counts()"
   ]
  },
  {
   "cell_type": "code",
   "execution_count": 51,
   "metadata": {},
   "outputs": [],
   "source": [
    "df1 = df1.drop('model', axis = 1)\n",
    "df1 = df1.drop('model_average', axis = 1)"
   ]
  },
  {
   "cell_type": "code",
   "execution_count": 52,
   "metadata": {},
   "outputs": [
    {
     "data": {
      "text/html": [
       "<div>\n",
       "<style scoped>\n",
       "    .dataframe tbody tr th:only-of-type {\n",
       "        vertical-align: middle;\n",
       "    }\n",
       "\n",
       "    .dataframe tbody tr th {\n",
       "        vertical-align: top;\n",
       "    }\n",
       "\n",
       "    .dataframe thead th {\n",
       "        text-align: right;\n",
       "    }\n",
       "</style>\n",
       "<table border=\"1\" class=\"dataframe\">\n",
       "  <thead>\n",
       "    <tr style=\"text-align: right;\">\n",
       "      <th></th>\n",
       "      <th>price (eur)</th>\n",
       "      <th>mileage (kms)</th>\n",
       "      <th>fuel</th>\n",
       "      <th>gearbox</th>\n",
       "      <th>location</th>\n",
       "      <th>brand_group</th>\n",
       "      <th>engine_group</th>\n",
       "      <th>year_group</th>\n",
       "      <th>model_group</th>\n",
       "    </tr>\n",
       "  </thead>\n",
       "  <tbody>\n",
       "    <tr>\n",
       "      <th>0</th>\n",
       "      <td>8990</td>\n",
       "      <td>67000</td>\n",
       "      <td>Gasolina</td>\n",
       "      <td>Manual</td>\n",
       "      <td>Granollers</td>\n",
       "      <td>low</td>\n",
       "      <td>very low</td>\n",
       "      <td>2012+</td>\n",
       "      <td>low</td>\n",
       "    </tr>\n",
       "    <tr>\n",
       "      <th>1</th>\n",
       "      <td>9990</td>\n",
       "      <td>104868</td>\n",
       "      <td>Diésel</td>\n",
       "      <td>Manual</td>\n",
       "      <td>Viladecans</td>\n",
       "      <td>mid</td>\n",
       "      <td>very low</td>\n",
       "      <td>2012+</td>\n",
       "      <td>low</td>\n",
       "    </tr>\n",
       "    <tr>\n",
       "      <th>2</th>\n",
       "      <td>13490</td>\n",
       "      <td>137566</td>\n",
       "      <td>Diésel</td>\n",
       "      <td>Automatica</td>\n",
       "      <td>Viladecans</td>\n",
       "      <td>high</td>\n",
       "      <td>low</td>\n",
       "      <td>2008+</td>\n",
       "      <td>mid</td>\n",
       "    </tr>\n",
       "    <tr>\n",
       "      <th>3</th>\n",
       "      <td>24990</td>\n",
       "      <td>44495</td>\n",
       "      <td>Gasolina</td>\n",
       "      <td>Manual</td>\n",
       "      <td>Viladecans</td>\n",
       "      <td>mid</td>\n",
       "      <td>high</td>\n",
       "      <td>2008-</td>\n",
       "      <td>mid</td>\n",
       "    </tr>\n",
       "    <tr>\n",
       "      <th>4</th>\n",
       "      <td>10460</td>\n",
       "      <td>69800</td>\n",
       "      <td>Gasolina</td>\n",
       "      <td>Manual</td>\n",
       "      <td>Sabadell 1</td>\n",
       "      <td>low</td>\n",
       "      <td>low</td>\n",
       "      <td>2012+</td>\n",
       "      <td>low</td>\n",
       "    </tr>\n",
       "  </tbody>\n",
       "</table>\n",
       "</div>"
      ],
      "text/plain": [
       "   price (eur)  mileage (kms)      fuel     gearbox    location brand_group  \\\n",
       "0         8990          67000  Gasolina      Manual  Granollers         low   \n",
       "1         9990         104868    Diésel      Manual  Viladecans         mid   \n",
       "2        13490         137566    Diésel  Automatica  Viladecans        high   \n",
       "3        24990          44495  Gasolina      Manual  Viladecans         mid   \n",
       "4        10460          69800  Gasolina      Manual  Sabadell 1         low   \n",
       "\n",
       "  engine_group year_group model_group  \n",
       "0     very low      2012+         low  \n",
       "1     very low      2012+         low  \n",
       "2          low      2008+         mid  \n",
       "3         high      2008-         mid  \n",
       "4          low      2012+         low  "
      ]
     },
     "execution_count": 52,
     "metadata": {},
     "output_type": "execute_result"
    }
   ],
   "source": [
    "df1.head()"
   ]
  },
  {
   "cell_type": "code",
   "execution_count": 53,
   "metadata": {},
   "outputs": [
    {
     "name": "stdout",
     "output_type": "stream",
     "text": [
      "There are 7 categorical variables\n",
      "\n",
      "The categorical variables : ['fuel', 'gearbox', 'location', 'brand_group', 'engine_group', 'year_group', 'model_group']\n"
     ]
    }
   ],
   "source": [
    "categorical = [var for var in df1.columns if df1[var].dtype=='O']\n",
    "print('There are {} categorical variables\\n'.format(len(categorical)))\n",
    "if len(categorical)>=1:\n",
    "    print('The categorical variables :', categorical)"
   ]
  },
  {
   "cell_type": "code",
   "execution_count": 54,
   "metadata": {},
   "outputs": [
    {
     "name": "stdout",
     "output_type": "stream",
     "text": [
      "There are 2 numerical variables\n",
      "\n",
      "The numerical variables : ['price (eur)', 'mileage (kms)']\n"
     ]
    }
   ],
   "source": [
    "numerical = [var for var in df1.columns if df1[var].dtype!='O']\n",
    "print('There are {} numerical variables\\n'.format(len(numerical)))\n",
    "if len(numerical)>1:\n",
    "    print('The numerical variables :', numerical)"
   ]
  },
  {
   "cell_type": "code",
   "execution_count": 55,
   "metadata": {},
   "outputs": [
    {
     "data": {
      "text/plain": [
       "fuel             5\n",
       "gearbox          2\n",
       "location        10\n",
       "brand_group      4\n",
       "engine_group     4\n",
       "year_group       4\n",
       "model_group      4\n",
       "dtype: int64"
      ]
     },
     "execution_count": 55,
     "metadata": {},
     "output_type": "execute_result"
    }
   ],
   "source": [
    "df1[categorical].nunique()"
   ]
  },
  {
   "cell_type": "code",
   "execution_count": 56,
   "metadata": {},
   "outputs": [
    {
     "data": {
      "text/html": [
       "<div>\n",
       "<style scoped>\n",
       "    .dataframe tbody tr th:only-of-type {\n",
       "        vertical-align: middle;\n",
       "    }\n",
       "\n",
       "    .dataframe tbody tr th {\n",
       "        vertical-align: top;\n",
       "    }\n",
       "\n",
       "    .dataframe thead th {\n",
       "        text-align: right;\n",
       "    }\n",
       "</style>\n",
       "<table border=\"1\" class=\"dataframe\">\n",
       "  <thead>\n",
       "    <tr style=\"text-align: right;\">\n",
       "      <th></th>\n",
       "      <th>price (eur)</th>\n",
       "      <th>mileage (kms)</th>\n",
       "      <th>fuel</th>\n",
       "      <th>gearbox</th>\n",
       "      <th>location</th>\n",
       "      <th>brand_group</th>\n",
       "      <th>engine_group</th>\n",
       "      <th>year_group</th>\n",
       "      <th>model_group</th>\n",
       "    </tr>\n",
       "  </thead>\n",
       "  <tbody>\n",
       "    <tr>\n",
       "      <th>0</th>\n",
       "      <td>8990</td>\n",
       "      <td>67000</td>\n",
       "      <td>Gasolina</td>\n",
       "      <td>Manual</td>\n",
       "      <td>Granollers</td>\n",
       "      <td>low</td>\n",
       "      <td>very low</td>\n",
       "      <td>2012+</td>\n",
       "      <td>low</td>\n",
       "    </tr>\n",
       "    <tr>\n",
       "      <th>1</th>\n",
       "      <td>9990</td>\n",
       "      <td>104868</td>\n",
       "      <td>Diésel</td>\n",
       "      <td>Manual</td>\n",
       "      <td>Viladecans</td>\n",
       "      <td>mid</td>\n",
       "      <td>very low</td>\n",
       "      <td>2012+</td>\n",
       "      <td>low</td>\n",
       "    </tr>\n",
       "    <tr>\n",
       "      <th>2</th>\n",
       "      <td>13490</td>\n",
       "      <td>137566</td>\n",
       "      <td>Diésel</td>\n",
       "      <td>Automatica</td>\n",
       "      <td>Viladecans</td>\n",
       "      <td>high</td>\n",
       "      <td>low</td>\n",
       "      <td>2008+</td>\n",
       "      <td>mid</td>\n",
       "    </tr>\n",
       "    <tr>\n",
       "      <th>3</th>\n",
       "      <td>24990</td>\n",
       "      <td>44495</td>\n",
       "      <td>Gasolina</td>\n",
       "      <td>Manual</td>\n",
       "      <td>Viladecans</td>\n",
       "      <td>mid</td>\n",
       "      <td>high</td>\n",
       "      <td>2008-</td>\n",
       "      <td>mid</td>\n",
       "    </tr>\n",
       "    <tr>\n",
       "      <th>4</th>\n",
       "      <td>10460</td>\n",
       "      <td>69800</td>\n",
       "      <td>Gasolina</td>\n",
       "      <td>Manual</td>\n",
       "      <td>Sabadell 1</td>\n",
       "      <td>low</td>\n",
       "      <td>low</td>\n",
       "      <td>2012+</td>\n",
       "      <td>low</td>\n",
       "    </tr>\n",
       "  </tbody>\n",
       "</table>\n",
       "</div>"
      ],
      "text/plain": [
       "   price (eur)  mileage (kms)      fuel     gearbox    location brand_group  \\\n",
       "0         8990          67000  Gasolina      Manual  Granollers         low   \n",
       "1         9990         104868    Diésel      Manual  Viladecans         mid   \n",
       "2        13490         137566    Diésel  Automatica  Viladecans        high   \n",
       "3        24990          44495  Gasolina      Manual  Viladecans         mid   \n",
       "4        10460          69800  Gasolina      Manual  Sabadell 1         low   \n",
       "\n",
       "  engine_group year_group model_group  \n",
       "0     very low      2012+         low  \n",
       "1     very low      2012+         low  \n",
       "2          low      2008+         mid  \n",
       "3         high      2008-         mid  \n",
       "4          low      2012+         low  "
      ]
     },
     "execution_count": 56,
     "metadata": {},
     "output_type": "execute_result"
    }
   ],
   "source": [
    "df1.head()"
   ]
  },
  {
   "cell_type": "code",
   "execution_count": 57,
   "metadata": {},
   "outputs": [
    {
     "data": {
      "text/plain": [
       "(792, 9)"
      ]
     },
     "execution_count": 57,
     "metadata": {},
     "output_type": "execute_result"
    }
   ],
   "source": [
    "df1.shape"
   ]
  },
  {
   "cell_type": "code",
   "execution_count": 58,
   "metadata": {},
   "outputs": [
    {
     "data": {
      "text/plain": [
       "(792, 28)"
      ]
     },
     "execution_count": 58,
     "metadata": {},
     "output_type": "execute_result"
    }
   ],
   "source": [
    "df2 = pd.get_dummies(data=df1, columns=categorical, drop_first=True)\n",
    "df2.shape"
   ]
  },
  {
   "attachments": {},
   "cell_type": "markdown",
   "metadata": {},
   "source": [
    "Feature engineering"
   ]
  },
  {
   "cell_type": "code",
   "execution_count": 59,
   "metadata": {},
   "outputs": [
    {
     "data": {
      "text/plain": [
       "((792, 27), (792,))"
      ]
     },
     "execution_count": 59,
     "metadata": {},
     "output_type": "execute_result"
    }
   ],
   "source": [
    "X = df2.drop(['price (eur)'],axis=1)\n",
    "y = df2['price (eur)']\n",
    "\n",
    "X.shape, y.shape"
   ]
  },
  {
   "cell_type": "code",
   "execution_count": 60,
   "metadata": {},
   "outputs": [
    {
     "data": {
      "text/plain": [
       "((633, 27), (159, 27), (633,), (159,))"
      ]
     },
     "execution_count": 60,
     "metadata": {},
     "output_type": "execute_result"
    }
   ],
   "source": [
    "# create X and Y datasets for training\n",
    "from sklearn import model_selection\n",
    "X_train, X_test, y_train, y_test = model_selection.train_test_split(X, y, random_state=42, test_size = 0.2)\n",
    "\n",
    "X_train.shape, X_test.shape, y_train.shape, y_test.shape"
   ]
  },
  {
   "attachments": {},
   "cell_type": "markdown",
   "metadata": {},
   "source": [
    "Models!"
   ]
  },
  {
   "cell_type": "code",
   "execution_count": 62,
   "metadata": {},
   "outputs": [
    {
     "data": {
      "text/html": [
       "<style>#sk-container-id-1 {color: black;background-color: white;}#sk-container-id-1 pre{padding: 0;}#sk-container-id-1 div.sk-toggleable {background-color: white;}#sk-container-id-1 label.sk-toggleable__label {cursor: pointer;display: block;width: 100%;margin-bottom: 0;padding: 0.3em;box-sizing: border-box;text-align: center;}#sk-container-id-1 label.sk-toggleable__label-arrow:before {content: \"▸\";float: left;margin-right: 0.25em;color: #696969;}#sk-container-id-1 label.sk-toggleable__label-arrow:hover:before {color: black;}#sk-container-id-1 div.sk-estimator:hover label.sk-toggleable__label-arrow:before {color: black;}#sk-container-id-1 div.sk-toggleable__content {max-height: 0;max-width: 0;overflow: hidden;text-align: left;background-color: #f0f8ff;}#sk-container-id-1 div.sk-toggleable__content pre {margin: 0.2em;color: black;border-radius: 0.25em;background-color: #f0f8ff;}#sk-container-id-1 input.sk-toggleable__control:checked~div.sk-toggleable__content {max-height: 200px;max-width: 100%;overflow: auto;}#sk-container-id-1 input.sk-toggleable__control:checked~label.sk-toggleable__label-arrow:before {content: \"▾\";}#sk-container-id-1 div.sk-estimator input.sk-toggleable__control:checked~label.sk-toggleable__label {background-color: #d4ebff;}#sk-container-id-1 div.sk-label input.sk-toggleable__control:checked~label.sk-toggleable__label {background-color: #d4ebff;}#sk-container-id-1 input.sk-hidden--visually {border: 0;clip: rect(1px 1px 1px 1px);clip: rect(1px, 1px, 1px, 1px);height: 1px;margin: -1px;overflow: hidden;padding: 0;position: absolute;width: 1px;}#sk-container-id-1 div.sk-estimator {font-family: monospace;background-color: #f0f8ff;border: 1px dotted black;border-radius: 0.25em;box-sizing: border-box;margin-bottom: 0.5em;}#sk-container-id-1 div.sk-estimator:hover {background-color: #d4ebff;}#sk-container-id-1 div.sk-parallel-item::after {content: \"\";width: 100%;border-bottom: 1px solid gray;flex-grow: 1;}#sk-container-id-1 div.sk-label:hover label.sk-toggleable__label {background-color: #d4ebff;}#sk-container-id-1 div.sk-serial::before {content: \"\";position: absolute;border-left: 1px solid gray;box-sizing: border-box;top: 0;bottom: 0;left: 50%;z-index: 0;}#sk-container-id-1 div.sk-serial {display: flex;flex-direction: column;align-items: center;background-color: white;padding-right: 0.2em;padding-left: 0.2em;position: relative;}#sk-container-id-1 div.sk-item {position: relative;z-index: 1;}#sk-container-id-1 div.sk-parallel {display: flex;align-items: stretch;justify-content: center;background-color: white;position: relative;}#sk-container-id-1 div.sk-item::before, #sk-container-id-1 div.sk-parallel-item::before {content: \"\";position: absolute;border-left: 1px solid gray;box-sizing: border-box;top: 0;bottom: 0;left: 50%;z-index: -1;}#sk-container-id-1 div.sk-parallel-item {display: flex;flex-direction: column;z-index: 1;position: relative;background-color: white;}#sk-container-id-1 div.sk-parallel-item:first-child::after {align-self: flex-end;width: 50%;}#sk-container-id-1 div.sk-parallel-item:last-child::after {align-self: flex-start;width: 50%;}#sk-container-id-1 div.sk-parallel-item:only-child::after {width: 0;}#sk-container-id-1 div.sk-dashed-wrapped {border: 1px dashed gray;margin: 0 0.4em 0.5em 0.4em;box-sizing: border-box;padding-bottom: 0.4em;background-color: white;}#sk-container-id-1 div.sk-label label {font-family: monospace;font-weight: bold;display: inline-block;line-height: 1.2em;}#sk-container-id-1 div.sk-label-container {text-align: center;}#sk-container-id-1 div.sk-container {/* jupyter's `normalize.less` sets `[hidden] { display: none; }` but bootstrap.min.css set `[hidden] { display: none !important; }` so we also need the `!important` here to be able to override the default hidden behavior on the sphinx rendered scikit-learn.org. See: https://github.com/scikit-learn/scikit-learn/issues/21755 */display: inline-block !important;position: relative;}#sk-container-id-1 div.sk-text-repr-fallback {display: none;}</style><div id=\"sk-container-id-1\" class=\"sk-top-container\"><div class=\"sk-text-repr-fallback\"><pre>LinearRegression()</pre><b>In a Jupyter environment, please rerun this cell to show the HTML representation or trust the notebook. <br />On GitHub, the HTML representation is unable to render, please try loading this page with nbviewer.org.</b></div><div class=\"sk-container\" hidden><div class=\"sk-item\"><div class=\"sk-estimator sk-toggleable\"><input class=\"sk-toggleable__control sk-hidden--visually\" id=\"sk-estimator-id-1\" type=\"checkbox\" checked><label for=\"sk-estimator-id-1\" class=\"sk-toggleable__label sk-toggleable__label-arrow\">LinearRegression</label><div class=\"sk-toggleable__content\"><pre>LinearRegression()</pre></div></div></div></div></div>"
      ],
      "text/plain": [
       "LinearRegression()"
      ]
     },
     "execution_count": 62,
     "metadata": {},
     "output_type": "execute_result"
    }
   ],
   "source": [
    "from sklearn.linear_model import LinearRegression\n",
    "\n",
    "# initialize the linear regression model\n",
    "reg = LinearRegression()\n",
    "\n",
    "# Train the model with our training data\n",
    "reg.fit(X_train, y_train)"
   ]
  },
  {
   "cell_type": "code",
   "execution_count": 63,
   "metadata": {},
   "outputs": [
    {
     "data": {
      "text/plain": [
       "{'copy_X': True,\n",
       " 'fit_intercept': True,\n",
       " 'n_jobs': None,\n",
       " 'normalize': 'deprecated',\n",
       " 'positive': False}"
      ]
     },
     "execution_count": 63,
     "metadata": {},
     "output_type": "execute_result"
    }
   ],
   "source": [
    "reg.get_params()"
   ]
  },
  {
   "cell_type": "code",
   "execution_count": 64,
   "metadata": {},
   "outputs": [],
   "source": [
    "y_pred_lin = reg.predict(X_test)"
   ]
  },
  {
   "cell_type": "code",
   "execution_count": 65,
   "metadata": {},
   "outputs": [
    {
     "name": "stdout",
     "output_type": "stream",
     "text": [
      "Mean Absolute Error: 1828.85\n",
      "Root Mean Square Error: 2777.497\n",
      "R2 Score: 0.816\n"
     ]
    }
   ],
   "source": [
    "from sklearn.metrics import mean_squared_error, mean_absolute_error,r2_score\n",
    "from math import sqrt\n",
    "\n",
    "mae_ln = mean_absolute_error(y_test,y_pred_lin)\n",
    "rmse_ln = sqrt(mean_squared_error(y_test,y_pred_lin))\n",
    "r_sq_ln = r2_score(y_test,y_pred_lin)\n",
    "\n",
    "print(\"Mean Absolute Error: {0}\\nRoot Mean Square Error: {1}\\nR2 Score: {2}\".format(round(mae_ln,3),round(rmse_ln,3),round(r_sq_ln,3)))"
   ]
  },
  {
   "attachments": {},
   "cell_type": "markdown",
   "metadata": {},
   "source": [
    "Linear Model very bad!"
   ]
  },
  {
   "attachments": {},
   "cell_type": "markdown",
   "metadata": {},
   "source": [
    "Random Forest"
   ]
  },
  {
   "attachments": {},
   "cell_type": "markdown",
   "metadata": {},
   "source": [
    "We need to scale for RF"
   ]
  },
  {
   "cell_type": "code",
   "execution_count": 66,
   "metadata": {},
   "outputs": [],
   "source": [
    "from sklearn.preprocessing import MinMaxScaler\n",
    "\n",
    "cols = X_train.columns\n",
    "scaler = MinMaxScaler()\n",
    "X_train_RF = scaler.fit_transform(X_train)\n",
    "X_test_RF = scaler.transform(X_test)\n",
    "\n",
    "X_train_RF = pd.DataFrame(X_train_RF,columns=cols)\n",
    "X_test_RF = pd.DataFrame(X_test_RF,columns=cols)"
   ]
  },
  {
   "cell_type": "code",
   "execution_count": 67,
   "metadata": {},
   "outputs": [
    {
     "data": {
      "text/plain": [
       "((633, 27), (159, 27))"
      ]
     },
     "execution_count": 67,
     "metadata": {},
     "output_type": "execute_result"
    }
   ],
   "source": [
    "X_train_RF.shape, X_test_RF.shape"
   ]
  },
  {
   "cell_type": "code",
   "execution_count": 68,
   "metadata": {},
   "outputs": [
    {
     "data": {
      "text/html": [
       "<style>#sk-container-id-2 {color: black;background-color: white;}#sk-container-id-2 pre{padding: 0;}#sk-container-id-2 div.sk-toggleable {background-color: white;}#sk-container-id-2 label.sk-toggleable__label {cursor: pointer;display: block;width: 100%;margin-bottom: 0;padding: 0.3em;box-sizing: border-box;text-align: center;}#sk-container-id-2 label.sk-toggleable__label-arrow:before {content: \"▸\";float: left;margin-right: 0.25em;color: #696969;}#sk-container-id-2 label.sk-toggleable__label-arrow:hover:before {color: black;}#sk-container-id-2 div.sk-estimator:hover label.sk-toggleable__label-arrow:before {color: black;}#sk-container-id-2 div.sk-toggleable__content {max-height: 0;max-width: 0;overflow: hidden;text-align: left;background-color: #f0f8ff;}#sk-container-id-2 div.sk-toggleable__content pre {margin: 0.2em;color: black;border-radius: 0.25em;background-color: #f0f8ff;}#sk-container-id-2 input.sk-toggleable__control:checked~div.sk-toggleable__content {max-height: 200px;max-width: 100%;overflow: auto;}#sk-container-id-2 input.sk-toggleable__control:checked~label.sk-toggleable__label-arrow:before {content: \"▾\";}#sk-container-id-2 div.sk-estimator input.sk-toggleable__control:checked~label.sk-toggleable__label {background-color: #d4ebff;}#sk-container-id-2 div.sk-label input.sk-toggleable__control:checked~label.sk-toggleable__label {background-color: #d4ebff;}#sk-container-id-2 input.sk-hidden--visually {border: 0;clip: rect(1px 1px 1px 1px);clip: rect(1px, 1px, 1px, 1px);height: 1px;margin: -1px;overflow: hidden;padding: 0;position: absolute;width: 1px;}#sk-container-id-2 div.sk-estimator {font-family: monospace;background-color: #f0f8ff;border: 1px dotted black;border-radius: 0.25em;box-sizing: border-box;margin-bottom: 0.5em;}#sk-container-id-2 div.sk-estimator:hover {background-color: #d4ebff;}#sk-container-id-2 div.sk-parallel-item::after {content: \"\";width: 100%;border-bottom: 1px solid gray;flex-grow: 1;}#sk-container-id-2 div.sk-label:hover label.sk-toggleable__label {background-color: #d4ebff;}#sk-container-id-2 div.sk-serial::before {content: \"\";position: absolute;border-left: 1px solid gray;box-sizing: border-box;top: 0;bottom: 0;left: 50%;z-index: 0;}#sk-container-id-2 div.sk-serial {display: flex;flex-direction: column;align-items: center;background-color: white;padding-right: 0.2em;padding-left: 0.2em;position: relative;}#sk-container-id-2 div.sk-item {position: relative;z-index: 1;}#sk-container-id-2 div.sk-parallel {display: flex;align-items: stretch;justify-content: center;background-color: white;position: relative;}#sk-container-id-2 div.sk-item::before, #sk-container-id-2 div.sk-parallel-item::before {content: \"\";position: absolute;border-left: 1px solid gray;box-sizing: border-box;top: 0;bottom: 0;left: 50%;z-index: -1;}#sk-container-id-2 div.sk-parallel-item {display: flex;flex-direction: column;z-index: 1;position: relative;background-color: white;}#sk-container-id-2 div.sk-parallel-item:first-child::after {align-self: flex-end;width: 50%;}#sk-container-id-2 div.sk-parallel-item:last-child::after {align-self: flex-start;width: 50%;}#sk-container-id-2 div.sk-parallel-item:only-child::after {width: 0;}#sk-container-id-2 div.sk-dashed-wrapped {border: 1px dashed gray;margin: 0 0.4em 0.5em 0.4em;box-sizing: border-box;padding-bottom: 0.4em;background-color: white;}#sk-container-id-2 div.sk-label label {font-family: monospace;font-weight: bold;display: inline-block;line-height: 1.2em;}#sk-container-id-2 div.sk-label-container {text-align: center;}#sk-container-id-2 div.sk-container {/* jupyter's `normalize.less` sets `[hidden] { display: none; }` but bootstrap.min.css set `[hidden] { display: none !important; }` so we also need the `!important` here to be able to override the default hidden behavior on the sphinx rendered scikit-learn.org. See: https://github.com/scikit-learn/scikit-learn/issues/21755 */display: inline-block !important;position: relative;}#sk-container-id-2 div.sk-text-repr-fallback {display: none;}</style><div id=\"sk-container-id-2\" class=\"sk-top-container\"><div class=\"sk-text-repr-fallback\"><pre>RandomForestRegressor(n_estimators=10)</pre><b>In a Jupyter environment, please rerun this cell to show the HTML representation or trust the notebook. <br />On GitHub, the HTML representation is unable to render, please try loading this page with nbviewer.org.</b></div><div class=\"sk-container\" hidden><div class=\"sk-item\"><div class=\"sk-estimator sk-toggleable\"><input class=\"sk-toggleable__control sk-hidden--visually\" id=\"sk-estimator-id-2\" type=\"checkbox\" checked><label for=\"sk-estimator-id-2\" class=\"sk-toggleable__label sk-toggleable__label-arrow\">RandomForestRegressor</label><div class=\"sk-toggleable__content\"><pre>RandomForestRegressor(n_estimators=10)</pre></div></div></div></div></div>"
      ],
      "text/plain": [
       "RandomForestRegressor(n_estimators=10)"
      ]
     },
     "execution_count": 68,
     "metadata": {},
     "output_type": "execute_result"
    }
   ],
   "source": [
    "from sklearn.ensemble import RandomForestRegressor\n",
    "\n",
    "rf = RandomForestRegressor(n_estimators=10)\n",
    "rf.fit(X_train_RF,y_train)"
   ]
  },
  {
   "cell_type": "code",
   "execution_count": 69,
   "metadata": {},
   "outputs": [],
   "source": [
    "y_pred_RF = rf.predict(X_test_RF)"
   ]
  },
  {
   "cell_type": "code",
   "execution_count": 70,
   "metadata": {},
   "outputs": [
    {
     "name": "stdout",
     "output_type": "stream",
     "text": [
      "Mean Absolute Error: 1921.981\n",
      "Root Mean Square Error: 3015.002\n",
      "R2 Score: 0.783\n"
     ]
    }
   ],
   "source": [
    "from sklearn.metrics import mean_squared_error, mean_absolute_error,r2_score\n",
    "from math import sqrt\n",
    "\n",
    "mae_rf = mean_absolute_error(y_test,y_pred_RF)\n",
    "rmse_rf = sqrt(mean_squared_error(y_test,y_pred_RF))\n",
    "r_sq_rf = r2_score(y_test,y_pred_RF)\n",
    "\n",
    "print(\"Mean Absolute Error: {0}\\nRoot Mean Square Error: {1}\\nR2 Score: {2}\".format(round(mae_rf,3),round(rmse_rf,3),round(r_sq_rf,3)))"
   ]
  },
  {
   "attachments": {},
   "cell_type": "markdown",
   "metadata": {},
   "source": [
    "With 100 trees"
   ]
  },
  {
   "cell_type": "code",
   "execution_count": 71,
   "metadata": {},
   "outputs": [
    {
     "data": {
      "text/plain": [
       "{'bootstrap': True,\n",
       " 'ccp_alpha': 0.0,\n",
       " 'criterion': 'squared_error',\n",
       " 'max_depth': None,\n",
       " 'max_features': 1.0,\n",
       " 'max_leaf_nodes': None,\n",
       " 'max_samples': None,\n",
       " 'min_impurity_decrease': 0.0,\n",
       " 'min_samples_leaf': 1,\n",
       " 'min_samples_split': 2,\n",
       " 'min_weight_fraction_leaf': 0.0,\n",
       " 'n_estimators': 100,\n",
       " 'n_jobs': None,\n",
       " 'oob_score': False,\n",
       " 'random_state': None,\n",
       " 'verbose': 0,\n",
       " 'warm_start': False}"
      ]
     },
     "execution_count": 71,
     "metadata": {},
     "output_type": "execute_result"
    }
   ],
   "source": [
    "from sklearn.ensemble import RandomForestRegressor\n",
    "\n",
    "rf = RandomForestRegressor(n_estimators=100)\n",
    "rf.fit(X_train_RF,y_train)\n",
    "rf.get_params()"
   ]
  },
  {
   "cell_type": "code",
   "execution_count": 72,
   "metadata": {},
   "outputs": [],
   "source": [
    "y_pred_RF_100 = rf.predict(X_test_RF)\n",
    "# print(y_pred_RF_100)"
   ]
  },
  {
   "cell_type": "code",
   "execution_count": 73,
   "metadata": {},
   "outputs": [
    {
     "name": "stdout",
     "output_type": "stream",
     "text": [
      "Mean Absolute Error: 1863.07\n",
      "Root Mean Square Error: 3045.103\n",
      "R2 Score: 0.779\n"
     ]
    }
   ],
   "source": [
    "from sklearn.metrics import mean_squared_error, mean_absolute_error,r2_score\n",
    "from math import sqrt\n",
    "\n",
    "mae_rf100 = mean_absolute_error(y_test,y_pred_RF_100)\n",
    "rmse_rf100 = sqrt(mean_squared_error(y_test,y_pred_RF_100))\n",
    "r_sq_rf100 = r2_score(y_test,y_pred_RF_100)\n",
    "\n",
    "print(\"Mean Absolute Error: {0}\\nRoot Mean Square Error: {1}\\nR2 Score: {2}\".format(round(mae_rf100,3),round(rmse_rf100,3),round(r_sq_rf100,3)))"
   ]
  },
  {
   "attachments": {},
   "cell_type": "markdown",
   "metadata": {},
   "source": [
    "Gridsearch"
   ]
  },
  {
   "cell_type": "code",
   "execution_count": 74,
   "metadata": {},
   "outputs": [
    {
     "name": "stdout",
     "output_type": "stream",
     "text": [
      "Fitting 3 folds for each of 189 candidates, totalling 567 fits\n",
      "Best params:  {'bootstrap': True, 'max_depth': 10, 'min_samples_leaf': 2, 'min_samples_split': 10, 'n_estimators': 1000}\n"
     ]
    }
   ],
   "source": [
    "from sklearn.model_selection import GridSearchCV\n",
    "import numpy as np\n",
    "parameters = {\n",
    "    'n_estimators': [100, 150, 200, 250, 300,500,1000],\n",
    "    'max_depth': [10, 20, None],\n",
    "    'bootstrap':[True],\n",
    "    'min_samples_leaf': [1,2,4],\n",
    "    'min_samples_split': [2,5,10]\n",
    "}\n",
    "\n",
    "rf_cv = RandomForestRegressor(random_state=42)\n",
    "\n",
    "clf = GridSearchCV(rf_cv, parameters,verbose=10,n_jobs=6,cv=3)\n",
    "clf.fit(X_train_RF, y_train)\n",
    "print(\"Best params: \", clf.best_params_)"
   ]
  },
  {
   "cell_type": "code",
   "execution_count": 75,
   "metadata": {},
   "outputs": [],
   "source": [
    "y_pred_RF_cv = clf.best_estimator_.predict(X_test_RF)\n",
    "# print(y_pred_RF_100)"
   ]
  },
  {
   "cell_type": "code",
   "execution_count": 76,
   "metadata": {},
   "outputs": [
    {
     "name": "stdout",
     "output_type": "stream",
     "text": [
      "Mean Absolute Error: 1802.839\n",
      "Root Mean Square Error: 2981.345\n",
      "R2 Score: 0.788\n"
     ]
    }
   ],
   "source": [
    "from sklearn.metrics import mean_squared_error, mean_absolute_error,r2_score\n",
    "from math import sqrt\n",
    "\n",
    "mae_rfcv = mean_absolute_error(y_test,y_pred_RF_cv)\n",
    "rmse_rfcv = sqrt(mean_squared_error(y_test,y_pred_RF_cv))\n",
    "r_sq_rfcv = r2_score(y_test,y_pred_RF_cv)\n",
    "\n",
    "print(\"Mean Absolute Error: {0}\\nRoot Mean Square Error: {1}\\nR2 Score: {2}\".format(round(mae_rfcv,3),round(rmse_rfcv,3),round(r_sq_rfcv,3)))"
   ]
  },
  {
   "cell_type": "code",
   "execution_count": 77,
   "metadata": {},
   "outputs": [],
   "source": [
    "def plot_feature_importance(importance,names,model_type):\n",
    "\n",
    "    #Create arrays from feature importance and feature names\n",
    "    feature_importance = np.array(importance)\n",
    "    feature_names = np.array(names)\n",
    "\n",
    "    #Create a DataFrame using a Dictionary\n",
    "    data={'feature_names':feature_names,'feature_importance':feature_importance}\n",
    "    fi_df = pd.DataFrame(data)\n",
    "\n",
    "    #Sort the DataFrame in order decreasing feature importance\n",
    "    fi_df.sort_values(by=['feature_importance'], ascending=False,inplace=True)\n",
    "\n",
    "    #Define size of bar plot\n",
    "    plt.figure(figsize=(10,8))\n",
    "    #Plot Searborn bar chart\n",
    "    sns.barplot(x=fi_df['feature_importance'], y=fi_df['feature_names'])\n",
    "    #Add chart labels\n",
    "    plt.title(model_type + 'FEATURE IMPORTANCE')\n",
    "    plt.xlabel('FEATURE IMPORTANCE')\n",
    "    plt.ylabel('FEATURE NAMES')"
   ]
  },
  {
   "cell_type": "code",
   "execution_count": 78,
   "metadata": {},
   "outputs": [
    {
     "data": {
      "image/png": "[encoded data removed]",
      "text/plain": [
       "<Figure size 1000x800 with 1 Axes>"
      ]
     },
     "metadata": {},
     "output_type": "display_data"
    }
   ],
   "source": [
    "plot_feature_importance(clf.best_estimator_.feature_importances_,X_train_RF.columns,'RANDOM FOREST')"
   ]
  },
  {
   "attachments": {},
   "cell_type": "markdown",
   "metadata": {},
   "source": [
    "ANN"
   ]
  },
  {
   "cell_type": "code",
   "execution_count": 79,
   "metadata": {},
   "outputs": [],
   "source": [
    "from sklearn.preprocessing import LabelEncoder, StandardScaler, MinMaxScaler\n",
    "from sklearn.pipeline import Pipeline\n",
    "# Importing libraries for building the neural network\n",
    "from keras.models import Sequential\n",
    "from keras.layers import Dense, Dropout, Flatten\n",
    "from keras.wrappers.scikit_learn import KerasClassifier\n",
    "from sklearn.model_selection import StratifiedKFold, cross_val_score, KFold, train_test_split\n",
    "from keras.callbacks import EarlyStopping, ModelCheckpoint, ReduceLROnPlateau, TensorBoard\n",
    "from keras.optimizers import SGD, Adam, Adadelta, RMSprop\n",
    "from keras.callbacks import EarlyStopping\n",
    "from sklearn.model_selection import train_test_split\n",
    "from sklearn.metrics import classification_report\n",
    "import tensorflow as tf"
   ]
  },
  {
   "cell_type": "code",
   "execution_count": 101,
   "metadata": {},
   "outputs": [
    {
     "name": "stdout",
     "output_type": "stream",
     "text": [
      "Model: \"sequential_1\"\n",
      "_________________________________________________________________\n",
      " Layer (type)                Output Shape              Param #   \n",
      "=================================================================\n",
      " dense_9 (Dense)             (None, 256)               7168      \n",
      "                                                                 \n",
      " dense_10 (Dense)            (None, 512)               131584    \n",
      "                                                                 \n",
      " dense_11 (Dense)            (None, 1024)              525312    \n",
      "                                                                 \n",
      " dropout_3 (Dropout)         (None, 1024)              0         \n",
      "                                                                 \n",
      " dense_12 (Dense)            (None, 1024)              1049600   \n",
      "                                                                 \n",
      " dense_13 (Dense)            (None, 512)               524800    \n",
      "                                                                 \n",
      " dense_14 (Dense)            (None, 256)               131328    \n",
      "                                                                 \n",
      " flatten_1 (Flatten)         (None, 256)               0         \n",
      "                                                                 \n",
      " dense_15 (Dense)            (None, 512)               131584    \n",
      "                                                                 \n",
      " dropout_4 (Dropout)         (None, 512)               0         \n",
      "                                                                 \n",
      " dense_16 (Dense)            (None, 512)               262656    \n",
      "                                                                 \n",
      " dropout_5 (Dropout)         (None, 512)               0         \n",
      "                                                                 \n",
      " dense_17 (Dense)            (None, 1)                 513       \n",
      "                                                                 \n",
      "=================================================================\n",
      "Total params: 2,764,545\n",
      "Trainable params: 2,764,545\n",
      "Non-trainable params: 0\n",
      "_________________________________________________________________\n"
     ]
    }
   ],
   "source": [
    "car_model = Sequential()\n",
    "car_model.add(Dense(256, input_shape = (X_train_RF.shape[1],), activation = \"relu\"))\n",
    "car_model.add(Dense(512, activation = \"relu\"))\n",
    "car_model.add(Dense(1024, activation = \"relu\"))\n",
    "car_model.add(Dropout(0.2))\n",
    "car_model.add(Dense(1024, activation = \"relu\"))\n",
    "car_model.add(Dense(512, activation = \"relu\"))\n",
    "car_model.add(Dense(256, activation = \"relu\"))\n",
    "car_model.add(Flatten())\n",
    "car_model.add(Dense(512, activation = \"relu\"))\n",
    "car_model.add(Dropout(0.5))\n",
    "car_model.add(Dense(512, activation = \"relu\"))\n",
    "car_model.add(Dropout(0.5))\n",
    "car_model.add(Dense(1, activation = \"linear\",kernel_regularizer = tf.keras.regularizers.l1(l=0.001)))\n",
    "car_model.summary()"
   ]
  },
  {
   "cell_type": "code",
   "execution_count": 102,
   "metadata": {},
   "outputs": [],
   "source": [
    "optimizer=Adam(learning_rate=0.001, beta_1=0.9, beta_2=0.999)\n",
    "\n",
    "# Compile the network :\n",
    "car_model.compile(optimizer=optimizer, loss=tf.keras.losses.MAE, metrics=[tf.keras.metrics.MAE])"
   ]
  },
  {
   "cell_type": "code",
   "execution_count": 103,
   "metadata": {},
   "outputs": [],
   "source": [
    "m_loss = EarlyStopping(\n",
    "    monitor=\"val_loss\",\n",
    "    min_delta=0,\n",
    "    patience=10,\n",
    "    verbose=1,\n",
    "    mode=\"auto\",\n",
    "    baseline=None,\n",
    "    restore_best_weights=True,\n",
    ")"
   ]
  },
  {
   "cell_type": "code",
   "execution_count": 104,
   "metadata": {},
   "outputs": [],
   "source": [
    "save_checkpoint = tf.keras.callbacks.ModelCheckpoint(filepath='car_model.h5', monitor='val_loss', save_best_only=True, verbose=1)"
   ]
  },
  {
   "cell_type": "code",
   "execution_count": 105,
   "metadata": {},
   "outputs": [
    {
     "name": "stdout",
     "output_type": "stream",
     "text": [
      "Epoch 1/100\n"
     ]
    },
    {
     "name": "stderr",
     "output_type": "stream",
     "text": [
      "c:\\Users\\shara\\AppData\\Local\\Programs\\Python\\Python310\\lib\\site-packages\\keras\\engine\\data_adapter.py:1508: FutureWarning: The behavior of `series[i:j]` with an integer-dtype index is deprecated. In a future version, this will be treated as *label-based* indexing, consistent with e.g. `series[i]` lookups. To retain the old behavior, use `series.iloc[i:j]`. To get the future behavior, use `series.loc[i:j]`.\n",
      "  return t[start:end]\n"
     ]
    },
    {
     "name": "stdout",
     "output_type": "stream",
     "text": [
      "6/8 [=====================>........] - ETA: 0s - loss: 15891.7744 - mean_absolute_error: 15891.7490\n",
      "Epoch 1: val_loss improved from inf to 16188.60742, saving model to car_model.h5\n",
      "8/8 [==============================] - 1s 46ms/step - loss: 15888.3008 - mean_absolute_error: 15888.2734 - val_loss: 16188.6074 - val_mean_absolute_error: 16188.5811\n",
      "Epoch 2/100\n",
      "6/8 [=====================>........] - ETA: 0s - loss: 12634.0586 - mean_absolute_error: 12634.0322\n",
      "Epoch 2: val_loss improved from 16188.60742 to 6709.21729, saving model to car_model.h5\n",
      "8/8 [==============================] - 0s 28ms/step - loss: 11314.3438 - mean_absolute_error: 11314.3184 - val_loss: 6709.2173 - val_mean_absolute_error: 6709.1909\n",
      "Epoch 3/100\n",
      "6/8 [=====================>........] - ETA: 0s - loss: 6007.8120 - mean_absolute_error: 6007.7852\n",
      "Epoch 3: val_loss improved from 6709.21729 to 5931.63965, saving model to car_model.h5\n",
      "8/8 [==============================] - 0s 28ms/step - loss: 5901.8320 - mean_absolute_error: 5901.8052 - val_loss: 5931.6396 - val_mean_absolute_error: 5931.6133\n",
      "Epoch 4/100\n",
      "6/8 [=====================>........] - ETA: 0s - loss: 5184.4468 - mean_absolute_error: 5184.4204\n",
      "Epoch 4: val_loss improved from 5931.63965 to 4943.51758, saving model to car_model.h5\n",
      "8/8 [==============================] - 0s 32ms/step - loss: 5075.3901 - mean_absolute_error: 5075.3647 - val_loss: 4943.5176 - val_mean_absolute_error: 4943.4922\n",
      "Epoch 5/100\n",
      "6/8 [=====================>........] - ETA: 0s - loss: 4801.6968 - mean_absolute_error: 4801.6704\n",
      "Epoch 5: val_loss improved from 4943.51758 to 4159.27539, saving model to car_model.h5\n",
      "8/8 [==============================] - 0s 29ms/step - loss: 4884.8608 - mean_absolute_error: 4884.8345 - val_loss: 4159.2754 - val_mean_absolute_error: 4159.2505\n",
      "Epoch 6/100\n",
      "6/8 [=====================>........] - ETA: 0s - loss: 4522.5840 - mean_absolute_error: 4522.5586\n",
      "Epoch 6: val_loss improved from 4159.27539 to 3831.29272, saving model to car_model.h5\n",
      "8/8 [==============================] - 0s 27ms/step - loss: 4520.3950 - mean_absolute_error: 4520.3706 - val_loss: 3831.2927 - val_mean_absolute_error: 3831.2678\n",
      "Epoch 7/100\n",
      "6/8 [=====================>........] - ETA: 0s - loss: 3453.6311 - mean_absolute_error: 3453.6062\n",
      "Epoch 7: val_loss improved from 3831.29272 to 3810.29150, saving model to car_model.h5\n",
      "8/8 [==============================] - 0s 26ms/step - loss: 3951.3147 - mean_absolute_error: 3951.2900 - val_loss: 3810.2915 - val_mean_absolute_error: 3810.2668\n",
      "Epoch 8/100\n",
      "6/8 [=====================>........] - ETA: 0s - loss: 3863.9827 - mean_absolute_error: 3863.9583\n",
      "Epoch 8: val_loss improved from 3810.29150 to 3424.46509, saving model to car_model.h5\n",
      "8/8 [==============================] - 0s 24ms/step - loss: 3974.3218 - mean_absolute_error: 3974.2974 - val_loss: 3424.4651 - val_mean_absolute_error: 3424.4404\n",
      "Epoch 9/100\n",
      "1/8 [==>...........................] - ETA: 0s - loss: 3427.3257 - mean_absolute_error: 3427.3010\n",
      "Epoch 9: val_loss improved from 3424.46509 to 2644.86328, saving model to car_model.h5\n",
      "8/8 [==============================] - 0s 21ms/step - loss: 3273.1025 - mean_absolute_error: 3273.0781 - val_loss: 2644.8633 - val_mean_absolute_error: 2644.8386\n",
      "Epoch 10/100\n",
      "1/8 [==>...........................] - ETA: 0s - loss: 2520.6638 - mean_absolute_error: 2520.6394\n",
      "Epoch 10: val_loss did not improve from 2644.86328\n",
      "8/8 [==============================] - 0s 9ms/step - loss: 3053.5537 - mean_absolute_error: 3053.5291 - val_loss: 2753.6353 - val_mean_absolute_error: 2753.6113\n",
      "Epoch 11/100\n",
      "1/8 [==>...........................] - ETA: 0s - loss: 3906.8127 - mean_absolute_error: 3906.7883\n",
      "Epoch 11: val_loss did not improve from 2644.86328\n",
      "8/8 [==============================] - 0s 9ms/step - loss: 3149.5720 - mean_absolute_error: 3149.5474 - val_loss: 2832.0857 - val_mean_absolute_error: 2832.0615\n",
      "Epoch 12/100\n",
      "1/8 [==>...........................] - ETA: 0s - loss: 3223.6472 - mean_absolute_error: 3223.6230\n",
      "Epoch 12: val_loss improved from 2644.86328 to 2071.05298, saving model to car_model.h5\n",
      "8/8 [==============================] - 0s 20ms/step - loss: 3072.4309 - mean_absolute_error: 3072.4065 - val_loss: 2071.0530 - val_mean_absolute_error: 2071.0288\n",
      "Epoch 13/100\n",
      "1/8 [==>...........................] - ETA: 0s - loss: 1952.8033 - mean_absolute_error: 1952.7793\n",
      "Epoch 13: val_loss improved from 2071.05298 to 2022.22888, saving model to car_model.h5\n",
      "8/8 [==============================] - 0s 21ms/step - loss: 2468.1951 - mean_absolute_error: 2468.1711 - val_loss: 2022.2289 - val_mean_absolute_error: 2022.2050\n",
      "Epoch 14/100\n",
      "1/8 [==>...........................] - ETA: 0s - loss: 2390.8364 - mean_absolute_error: 2390.8125\n",
      "Epoch 14: val_loss did not improve from 2022.22888\n",
      "8/8 [==============================] - 0s 10ms/step - loss: 2498.7551 - mean_absolute_error: 2498.7312 - val_loss: 2239.4519 - val_mean_absolute_error: 2239.4282\n",
      "Epoch 15/100\n",
      "1/8 [==>...........................] - ETA: 0s - loss: 2483.3091 - mean_absolute_error: 2483.2852\n",
      "Epoch 15: val_loss did not improve from 2022.22888\n",
      "8/8 [==============================] - 0s 11ms/step - loss: 2472.1348 - mean_absolute_error: 2472.1111 - val_loss: 2478.4194 - val_mean_absolute_error: 2478.3960\n",
      "Epoch 16/100\n",
      "1/8 [==>...........................] - ETA: 0s - loss: 2801.7212 - mean_absolute_error: 2801.6975\n",
      "Epoch 16: val_loss improved from 2022.22888 to 1985.42322, saving model to car_model.h5\n",
      "8/8 [==============================] - 0s 20ms/step - loss: 2298.4768 - mean_absolute_error: 2298.4534 - val_loss: 1985.4232 - val_mean_absolute_error: 1985.3997\n",
      "Epoch 17/100\n",
      "8/8 [==============================] - ETA: 0s - loss: 2234.5635 - mean_absolute_error: 2234.5400\n",
      "Epoch 17: val_loss improved from 1985.42322 to 1984.12231, saving model to car_model.h5\n",
      "8/8 [==============================] - 0s 22ms/step - loss: 2234.5635 - mean_absolute_error: 2234.5400 - val_loss: 1984.1223 - val_mean_absolute_error: 1984.0988\n",
      "Epoch 18/100\n",
      "1/8 [==>...........................] - ETA: 0s - loss: 2327.5530 - mean_absolute_error: 2327.5295\n",
      "Epoch 18: val_loss improved from 1984.12231 to 1909.40808, saving model to car_model.h5\n",
      "8/8 [==============================] - 0s 20ms/step - loss: 2157.5784 - mean_absolute_error: 2157.5549 - val_loss: 1909.4081 - val_mean_absolute_error: 1909.3849\n",
      "Epoch 19/100\n",
      "1/8 [==>...........................] - ETA: 0s - loss: 1775.8987 - mean_absolute_error: 1775.8754\n",
      "Epoch 19: val_loss did not improve from 1909.40808\n",
      "8/8 [==============================] - 0s 9ms/step - loss: 2154.3679 - mean_absolute_error: 2154.3450 - val_loss: 1910.1492 - val_mean_absolute_error: 1910.1260\n",
      "Epoch 20/100\n",
      "1/8 [==>...........................] - ETA: 0s - loss: 2739.1565 - mean_absolute_error: 2739.1333\n",
      "Epoch 20: val_loss did not improve from 1909.40808\n",
      "8/8 [==============================] - 0s 9ms/step - loss: 2079.5898 - mean_absolute_error: 2079.5667 - val_loss: 1960.0948 - val_mean_absolute_error: 1960.0719\n",
      "Epoch 21/100\n",
      "1/8 [==>...........................] - ETA: 0s - loss: 1598.6215 - mean_absolute_error: 1598.5984\n",
      "Epoch 21: val_loss improved from 1909.40808 to 1870.81763, saving model to car_model.h5\n",
      "8/8 [==============================] - 0s 20ms/step - loss: 2115.0491 - mean_absolute_error: 2115.0264 - val_loss: 1870.8176 - val_mean_absolute_error: 1870.7947\n",
      "Epoch 22/100\n",
      "1/8 [==>...........................] - ETA: 0s - loss: 1787.1442 - mean_absolute_error: 1787.1212\n",
      "Epoch 22: val_loss did not improve from 1870.81763\n",
      "8/8 [==============================] - 0s 9ms/step - loss: 2146.5232 - mean_absolute_error: 2146.5002 - val_loss: 2633.4971 - val_mean_absolute_error: 2633.4739\n",
      "Epoch 23/100\n",
      "1/8 [==>...........................] - ETA: 0s - loss: 2905.0090 - mean_absolute_error: 2904.9861\n",
      "Epoch 23: val_loss did not improve from 1870.81763\n",
      "8/8 [==============================] - 0s 9ms/step - loss: 2224.1521 - mean_absolute_error: 2224.1292 - val_loss: 1979.2408 - val_mean_absolute_error: 1979.2180\n",
      "Epoch 24/100\n",
      "1/8 [==>...........................] - ETA: 0s - loss: 1349.5797 - mean_absolute_error: 1349.5569\n",
      "Epoch 24: val_loss did not improve from 1870.81763\n",
      "8/8 [==============================] - 0s 9ms/step - loss: 2096.0459 - mean_absolute_error: 2096.0234 - val_loss: 2355.6938 - val_mean_absolute_error: 2355.6711\n",
      "Epoch 25/100\n",
      "1/8 [==>...........................] - ETA: 0s - loss: 2093.8682 - mean_absolute_error: 2093.8455\n",
      "Epoch 25: val_loss did not improve from 1870.81763\n",
      "8/8 [==============================] - 0s 9ms/step - loss: 2204.0674 - mean_absolute_error: 2204.0447 - val_loss: 2106.0581 - val_mean_absolute_error: 2106.0354\n",
      "Epoch 26/100\n",
      "1/8 [==>...........................] - ETA: 0s - loss: 2313.7527 - mean_absolute_error: 2313.7300\n",
      "Epoch 26: val_loss did not improve from 1870.81763\n",
      "8/8 [==============================] - 0s 8ms/step - loss: 2341.3406 - mean_absolute_error: 2341.3181 - val_loss: 3262.0369 - val_mean_absolute_error: 3262.0146\n",
      "Epoch 27/100\n",
      "1/8 [==>...........................] - ETA: 0s - loss: 2936.6118 - mean_absolute_error: 2936.5894\n",
      "Epoch 27: val_loss did not improve from 1870.81763\n",
      "8/8 [==============================] - 0s 6ms/step - loss: 2606.2749 - mean_absolute_error: 2606.2524 - val_loss: 1986.2601 - val_mean_absolute_error: 1986.2377\n",
      "Epoch 28/100\n",
      "1/8 [==>...........................] - ETA: 0s - loss: 2158.0337 - mean_absolute_error: 2158.0112\n",
      "Epoch 28: val_loss did not improve from 1870.81763\n",
      "8/8 [==============================] - 0s 6ms/step - loss: 2130.0098 - mean_absolute_error: 2129.9873 - val_loss: 2016.8745 - val_mean_absolute_error: 2016.8524\n",
      "Epoch 29/100\n",
      "1/8 [==>...........................] - ETA: 0s - loss: 2229.7471 - mean_absolute_error: 2229.7249\n",
      "Epoch 29: val_loss did not improve from 1870.81763\n",
      "8/8 [==============================] - 0s 6ms/step - loss: 2050.5962 - mean_absolute_error: 2050.5742 - val_loss: 2184.7146 - val_mean_absolute_error: 2184.6924\n",
      "Epoch 30/100\n",
      "1/8 [==>...........................] - ETA: 0s - loss: 2210.2986 - mean_absolute_error: 2210.2764\n",
      "Epoch 30: val_loss did not improve from 1870.81763\n",
      "8/8 [==============================] - 0s 6ms/step - loss: 2107.6477 - mean_absolute_error: 2107.6255 - val_loss: 2400.6255 - val_mean_absolute_error: 2400.6033\n",
      "Epoch 31/100\n",
      "1/8 [==>...........................] - ETA: 0s - loss: 2139.7520 - mean_absolute_error: 2139.7297Restoring model weights from the end of the best epoch: 21.\n",
      "\n",
      "Epoch 31: val_loss did not improve from 1870.81763\n",
      "8/8 [==============================] - 0s 9ms/step - loss: 2179.8047 - mean_absolute_error: 2179.7830 - val_loss: 2322.8291 - val_mean_absolute_error: 2322.8071\n",
      "Epoch 31: early stopping\n"
     ]
    }
   ],
   "source": [
    "history=car_model.fit(X_train_RF, y_train, epochs=100,validation_split=0.2, batch_size=64, verbose=1,callbacks=[m_loss,save_checkpoint])"
   ]
  },
  {
   "cell_type": "code",
   "execution_count": 106,
   "metadata": {},
   "outputs": [
    {
     "data": {
      "image/png": "[encoded data removed]",
      "text/plain": [
       "<Figure size 1000x600 with 1 Axes>"
      ]
     },
     "metadata": {},
     "output_type": "display_data"
    }
   ],
   "source": [
    "dfh = pd.DataFrame(history.history)\n",
    "plt.figure(figsize=(10, 6))\n",
    "plt.title('Engg Salary Prediction Model History')\n",
    "plt.plot(dfh)\n",
    "plt.xlabel('epochs')\n",
    "plt.legend(dfh.columns)\n",
    "plt.show()"
   ]
  },
  {
   "cell_type": "code",
   "execution_count": 107,
   "metadata": {},
   "outputs": [
    {
     "name": "stdout",
     "output_type": "stream",
     "text": [
      "5/5 [==============================] - 0s 2ms/step\n"
     ]
    }
   ],
   "source": [
    "y_pred_cnn = car_model.predict(X_test_RF)\n",
    "# print(y_pred_cnn)"
   ]
  },
  {
   "cell_type": "code",
   "execution_count": 108,
   "metadata": {},
   "outputs": [
    {
     "name": "stdout",
     "output_type": "stream",
     "text": [
      "Mean Absolute Error: 2007.494\n",
      "Root Mean Square Error: 2995.4\n",
      "R2 Score: 0.786\n"
     ]
    }
   ],
   "source": [
    "from sklearn.metrics import mean_squared_error, mean_absolute_error,r2_score\n",
    "from math import sqrt\n",
    "\n",
    "mae_cnn = mean_absolute_error(y_test,y_pred_cnn)\n",
    "rmse_cnn = sqrt(mean_squared_error(y_test,y_pred_cnn))\n",
    "r_sq_cnn = r2_score(y_test,y_pred_cnn)\n",
    "\n",
    "print(\"Mean Absolute Error: {0}\\nRoot Mean Square Error: {1}\\nR2 Score: {2}\".format(round(mae_cnn,3),round(rmse_cnn,3),round(r_sq_cnn,3)))"
   ]
  },
  {
   "cell_type": "code",
   "execution_count": 109,
   "metadata": {},
   "outputs": [
    {
     "data": {
      "text/html": [
       "<div>\n",
       "<style scoped>\n",
       "    .dataframe tbody tr th:only-of-type {\n",
       "        vertical-align: middle;\n",
       "    }\n",
       "\n",
       "    .dataframe tbody tr th {\n",
       "        vertical-align: top;\n",
       "    }\n",
       "\n",
       "    .dataframe thead th {\n",
       "        text-align: right;\n",
       "    }\n",
       "</style>\n",
       "<table border=\"1\" class=\"dataframe\">\n",
       "  <thead>\n",
       "    <tr style=\"text-align: right;\">\n",
       "      <th></th>\n",
       "      <th>MAE</th>\n",
       "      <th>RMSE</th>\n",
       "      <th>R-Square</th>\n",
       "    </tr>\n",
       "  </thead>\n",
       "  <tbody>\n",
       "    <tr>\n",
       "      <th>Linear Regression</th>\n",
       "      <td>1828.850</td>\n",
       "      <td>2777.497</td>\n",
       "      <td>0.816</td>\n",
       "    </tr>\n",
       "    <tr>\n",
       "      <th>Random Forest-10</th>\n",
       "      <td>1921.981</td>\n",
       "      <td>3015.002</td>\n",
       "      <td>0.783</td>\n",
       "    </tr>\n",
       "    <tr>\n",
       "      <th>Random Forest-100</th>\n",
       "      <td>1863.070</td>\n",
       "      <td>3045.103</td>\n",
       "      <td>0.779</td>\n",
       "    </tr>\n",
       "    <tr>\n",
       "      <th>Random Forest-Gridsearch</th>\n",
       "      <td>1802.839</td>\n",
       "      <td>2981.345</td>\n",
       "      <td>0.788</td>\n",
       "    </tr>\n",
       "    <tr>\n",
       "      <th>CNN</th>\n",
       "      <td>2007.494</td>\n",
       "      <td>2995.400</td>\n",
       "      <td>0.786</td>\n",
       "    </tr>\n",
       "  </tbody>\n",
       "</table>\n",
       "</div>"
      ],
      "text/plain": [
       "                               MAE      RMSE  R-Square\n",
       "Linear Regression         1828.850  2777.497     0.816\n",
       "Random Forest-10          1921.981  3015.002     0.783\n",
       "Random Forest-100         1863.070  3045.103     0.779\n",
       "Random Forest-Gridsearch  1802.839  2981.345     0.788\n",
       "CNN                       2007.494  2995.400     0.786"
      ]
     },
     "execution_count": 109,
     "metadata": {},
     "output_type": "execute_result"
    }
   ],
   "source": [
    "linear_reg_results =  pd.Series({ \"MAE\": mae_ln, \"RMSE\": rmse_ln, \"R-Square\": r_sq_ln }, name=\"Linear Regression\")\n",
    "rf_10_results = pd.Series({ \"MAE\": mae_rf, \"RMSE\": rmse_rf, \"R-Square\": r_sq_rf }, name=\"Random Forest-10\")\n",
    "rf_100_results = pd.Series({ \"MAE\": mae_rf100, \"RMSE\": rmse_rf100, \"R-Square\": r_sq_rf100 }, name=\"Random Forest-100\")\n",
    "rf_cv_results = pd.Series({ \"MAE\": mae_rfcv, \"RMSE\": rmse_rfcv, \"R-Square\": r_sq_rfcv }, name=\"Random Forest-Gridsearch\")\n",
    "cnn_results = pd.Series({ \"MAE\": mae_cnn, \"RMSE\": rmse_cnn, \"R-Square\": r_sq_cnn }, name=\"CNN\")\n",
    "\n",
    "\n",
    "results = pd.DataFrame([linear_reg_results, rf_10_results, rf_100_results, rf_cv_results, cnn_results])\n",
    "results.round(3)"
   ]
  },
  {
   "attachments": {},
   "cell_type": "markdown",
   "metadata": {},
   "source": [
    "Linear Regression Worked the best. Random Forest might do better with variable selection!"
   ]
  }
 ],
 "metadata": {
  "kernelspec": {
   "display_name": "Python 3",
   "language": "python",
   "name": "python3"
  },
  "language_info": {
   "codemirror_mode": {
    "name": "ipython",
    "version": 3
   },
   "file_extension": ".py",
   "mimetype": "text/x-python",
   "name": "python",
   "nbconvert_exporter": "python",
   "pygments_lexer": "ipython3",
   "version": "3.10.8"
  },
  "orig_nbformat": 4,
  "vscode": {
   "interpreter": {
    "hash": "4d536800d27c51602b26d7e23a7b347bd37d1d65ee7fdd104b4efc2c92c4d087"
   }
  }
 },
 "nbformat": 4,
 "nbformat_minor": 2
}
