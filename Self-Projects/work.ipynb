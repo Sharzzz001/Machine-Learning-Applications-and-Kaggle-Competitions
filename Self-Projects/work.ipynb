{
 "cells": [
  {
   "cell_type": "code",
   "execution_count": null,
   "metadata": {},
   "outputs": [],
   "source": [
    "import pandas as pd\n",
    "\n",
    "def determine_thresholds(df, usd_col='USD_amount'):\n",
    "    # Calculate percentiles (e.g., 25th, 50th, 75th, 90th)\n",
    "    percentiles = df[usd_col].quantile([0.25, 0.5, 0.75, 0.9, 1.0]).values\n",
    "    thresholds = {\n",
    "        'Analyst': percentiles[0],  # 25th percentile\n",
    "        'Manager': percentiles[1],   # 50th percentile\n",
    "        'AVP': percentiles[2],       # 75th percentile\n",
    "        'VP': percentiles[3],        # 90th percentile\n",
    "        'Senior Management': percentiles[4]  # 100th percentile\n",
    "    }\n",
    "    \n",
    "    # Count how many trades fall under each threshold\n",
    "    summary = {}\n",
    "    for role, threshold in thresholds.items():\n",
    "        count = df[df[usd_col] < threshold].shape[0]\n",
    "        summary[role] = {\n",
    "            'Threshold': threshold,\n",
    "            'Trade_Count': count\n",
    "        }\n",
    "    \n",
    "    return thresholds, summary\n",
    "\n",
    "# Example usage\n",
    "df = pd.DataFrame({\n",
    "    'USD_amount': [100000, 600000, 1200000, 7000000, 300000, 200000, 900000, 8000000, 11000000]\n",
    "})\n",
    "\n",
    "# Determine thresholds and summary\n",
    "thresholds, summary = determine_thresholds(df)\n",
    "\n",
    "# Print results\n",
    "print(\"Proposed Thresholds:\", thresholds)\n",
    "print(\"Summary of Trade Counts:\", summary)\n"
   ]
  }
 ],
 "metadata": {
  "kernelspec": {
   "display_name": "Python 3",
   "language": "python",
   "name": "python3"
  },
  "language_info": {
   "codemirror_mode": {
    "name": "ipython",
    "version": 3
   },
   "file_extension": ".py",
   "mimetype": "text/x-python",
   "name": "python",
   "nbconvert_exporter": "python",
   "pygments_lexer": "ipython3",
   "version": "3.10.8"
  }
 },
 "nbformat": 4,
 "nbformat_minor": 2
}
