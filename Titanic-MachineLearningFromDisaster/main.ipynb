{
 "cells": [
  {
   "cell_type": "code",
   "execution_count": 87,
   "metadata": {},
   "outputs": [],
   "source": [
    "import pandas as pd\n",
    "import matplotlib.pyplot as plt\n",
    "import seaborn as sns\n",
    "import matplotlib.pyplot as plt\n",
    "import seaborn as sns\n",
    "import numpy as np\n",
    "import jinja2\n",
    "from sklearn.metrics import confusion_matrix, precision_score, recall_score"
   ]
  },
  {
   "cell_type": "code",
   "execution_count": 88,
   "metadata": {},
   "outputs": [
    {
     "data": {
      "text/html": [
       "<div>\n",
       "<style scoped>\n",
       "    .dataframe tbody tr th:only-of-type {\n",
       "        vertical-align: middle;\n",
       "    }\n",
       "\n",
       "    .dataframe tbody tr th {\n",
       "        vertical-align: top;\n",
       "    }\n",
       "\n",
       "    .dataframe thead th {\n",
       "        text-align: right;\n",
       "    }\n",
       "</style>\n",
       "<table border=\"1\" class=\"dataframe\">\n",
       "  <thead>\n",
       "    <tr style=\"text-align: right;\">\n",
       "      <th></th>\n",
       "      <th>PassengerId</th>\n",
       "      <th>Survived</th>\n",
       "      <th>Pclass</th>\n",
       "      <th>Name</th>\n",
       "      <th>Sex</th>\n",
       "      <th>Age</th>\n",
       "      <th>SibSp</th>\n",
       "      <th>Parch</th>\n",
       "      <th>Ticket</th>\n",
       "      <th>Fare</th>\n",
       "      <th>Cabin</th>\n",
       "      <th>Embarked</th>\n",
       "    </tr>\n",
       "  </thead>\n",
       "  <tbody>\n",
       "    <tr>\n",
       "      <th>0</th>\n",
       "      <td>1</td>\n",
       "      <td>0</td>\n",
       "      <td>3</td>\n",
       "      <td>Braund, Mr. Owen Harris</td>\n",
       "      <td>male</td>\n",
       "      <td>22.0</td>\n",
       "      <td>1</td>\n",
       "      <td>0</td>\n",
       "      <td>A/5 21171</td>\n",
       "      <td>7.2500</td>\n",
       "      <td>NaN</td>\n",
       "      <td>S</td>\n",
       "    </tr>\n",
       "    <tr>\n",
       "      <th>1</th>\n",
       "      <td>2</td>\n",
       "      <td>1</td>\n",
       "      <td>1</td>\n",
       "      <td>Cumings, Mrs. John Bradley (Florence Briggs Th...</td>\n",
       "      <td>female</td>\n",
       "      <td>38.0</td>\n",
       "      <td>1</td>\n",
       "      <td>0</td>\n",
       "      <td>PC 17599</td>\n",
       "      <td>71.2833</td>\n",
       "      <td>C85</td>\n",
       "      <td>C</td>\n",
       "    </tr>\n",
       "    <tr>\n",
       "      <th>2</th>\n",
       "      <td>3</td>\n",
       "      <td>1</td>\n",
       "      <td>3</td>\n",
       "      <td>Heikkinen, Miss. Laina</td>\n",
       "      <td>female</td>\n",
       "      <td>26.0</td>\n",
       "      <td>0</td>\n",
       "      <td>0</td>\n",
       "      <td>STON/O2. 3101282</td>\n",
       "      <td>7.9250</td>\n",
       "      <td>NaN</td>\n",
       "      <td>S</td>\n",
       "    </tr>\n",
       "    <tr>\n",
       "      <th>3</th>\n",
       "      <td>4</td>\n",
       "      <td>1</td>\n",
       "      <td>1</td>\n",
       "      <td>Futrelle, Mrs. Jacques Heath (Lily May Peel)</td>\n",
       "      <td>female</td>\n",
       "      <td>35.0</td>\n",
       "      <td>1</td>\n",
       "      <td>0</td>\n",
       "      <td>113803</td>\n",
       "      <td>53.1000</td>\n",
       "      <td>C123</td>\n",
       "      <td>S</td>\n",
       "    </tr>\n",
       "    <tr>\n",
       "      <th>4</th>\n",
       "      <td>5</td>\n",
       "      <td>0</td>\n",
       "      <td>3</td>\n",
       "      <td>Allen, Mr. William Henry</td>\n",
       "      <td>male</td>\n",
       "      <td>35.0</td>\n",
       "      <td>0</td>\n",
       "      <td>0</td>\n",
       "      <td>373450</td>\n",
       "      <td>8.0500</td>\n",
       "      <td>NaN</td>\n",
       "      <td>S</td>\n",
       "    </tr>\n",
       "  </tbody>\n",
       "</table>\n",
       "</div>"
      ],
      "text/plain": [
       "   PassengerId  Survived  Pclass  \\\n",
       "0            1         0       3   \n",
       "1            2         1       1   \n",
       "2            3         1       3   \n",
       "3            4         1       1   \n",
       "4            5         0       3   \n",
       "\n",
       "                                                Name     Sex   Age  SibSp  \\\n",
       "0                            Braund, Mr. Owen Harris    male  22.0      1   \n",
       "1  Cumings, Mrs. John Bradley (Florence Briggs Th...  female  38.0      1   \n",
       "2                             Heikkinen, Miss. Laina  female  26.0      0   \n",
       "3       Futrelle, Mrs. Jacques Heath (Lily May Peel)  female  35.0      1   \n",
       "4                           Allen, Mr. William Henry    male  35.0      0   \n",
       "\n",
       "   Parch            Ticket     Fare Cabin Embarked  \n",
       "0      0         A/5 21171   7.2500   NaN        S  \n",
       "1      0          PC 17599  71.2833   C85        C  \n",
       "2      0  STON/O2. 3101282   7.9250   NaN        S  \n",
       "3      0            113803  53.1000  C123        S  \n",
       "4      0            373450   8.0500   NaN        S  "
      ]
     },
     "execution_count": 88,
     "metadata": {},
     "output_type": "execute_result"
    }
   ],
   "source": [
    "df = pd.read_csv('train.csv')\n",
    "df.head()"
   ]
  },
  {
   "cell_type": "code",
   "execution_count": 89,
   "metadata": {},
   "outputs": [
    {
     "data": {
      "text/plain": [
       "(891, 12)"
      ]
     },
     "execution_count": 89,
     "metadata": {},
     "output_type": "execute_result"
    }
   ],
   "source": [
    "df1 = df.copy(deep=True)\n",
    "df1.shape"
   ]
  },
  {
   "cell_type": "code",
   "execution_count": 90,
   "metadata": {},
   "outputs": [],
   "source": [
    "df1.drop(['PassengerId','Name'],axis=1, inplace=True)"
   ]
  },
  {
   "cell_type": "code",
   "execution_count": 91,
   "metadata": {},
   "outputs": [
    {
     "data": {
      "text/html": [
       "<div>\n",
       "<style scoped>\n",
       "    .dataframe tbody tr th:only-of-type {\n",
       "        vertical-align: middle;\n",
       "    }\n",
       "\n",
       "    .dataframe tbody tr th {\n",
       "        vertical-align: top;\n",
       "    }\n",
       "\n",
       "    .dataframe thead th {\n",
       "        text-align: right;\n",
       "    }\n",
       "</style>\n",
       "<table border=\"1\" class=\"dataframe\">\n",
       "  <thead>\n",
       "    <tr style=\"text-align: right;\">\n",
       "      <th></th>\n",
       "      <th>Survived</th>\n",
       "      <th>Pclass</th>\n",
       "      <th>Sex</th>\n",
       "      <th>Age</th>\n",
       "      <th>SibSp</th>\n",
       "      <th>Parch</th>\n",
       "      <th>Ticket</th>\n",
       "      <th>Fare</th>\n",
       "      <th>Cabin</th>\n",
       "      <th>Embarked</th>\n",
       "    </tr>\n",
       "  </thead>\n",
       "  <tbody>\n",
       "    <tr>\n",
       "      <th>0</th>\n",
       "      <td>0</td>\n",
       "      <td>3</td>\n",
       "      <td>male</td>\n",
       "      <td>22.0</td>\n",
       "      <td>1</td>\n",
       "      <td>0</td>\n",
       "      <td>A/5 21171</td>\n",
       "      <td>7.2500</td>\n",
       "      <td>NaN</td>\n",
       "      <td>S</td>\n",
       "    </tr>\n",
       "    <tr>\n",
       "      <th>1</th>\n",
       "      <td>1</td>\n",
       "      <td>1</td>\n",
       "      <td>female</td>\n",
       "      <td>38.0</td>\n",
       "      <td>1</td>\n",
       "      <td>0</td>\n",
       "      <td>PC 17599</td>\n",
       "      <td>71.2833</td>\n",
       "      <td>C85</td>\n",
       "      <td>C</td>\n",
       "    </tr>\n",
       "    <tr>\n",
       "      <th>2</th>\n",
       "      <td>1</td>\n",
       "      <td>3</td>\n",
       "      <td>female</td>\n",
       "      <td>26.0</td>\n",
       "      <td>0</td>\n",
       "      <td>0</td>\n",
       "      <td>STON/O2. 3101282</td>\n",
       "      <td>7.9250</td>\n",
       "      <td>NaN</td>\n",
       "      <td>S</td>\n",
       "    </tr>\n",
       "    <tr>\n",
       "      <th>3</th>\n",
       "      <td>1</td>\n",
       "      <td>1</td>\n",
       "      <td>female</td>\n",
       "      <td>35.0</td>\n",
       "      <td>1</td>\n",
       "      <td>0</td>\n",
       "      <td>113803</td>\n",
       "      <td>53.1000</td>\n",
       "      <td>C123</td>\n",
       "      <td>S</td>\n",
       "    </tr>\n",
       "    <tr>\n",
       "      <th>4</th>\n",
       "      <td>0</td>\n",
       "      <td>3</td>\n",
       "      <td>male</td>\n",
       "      <td>35.0</td>\n",
       "      <td>0</td>\n",
       "      <td>0</td>\n",
       "      <td>373450</td>\n",
       "      <td>8.0500</td>\n",
       "      <td>NaN</td>\n",
       "      <td>S</td>\n",
       "    </tr>\n",
       "  </tbody>\n",
       "</table>\n",
       "</div>"
      ],
      "text/plain": [
       "   Survived  Pclass     Sex   Age  SibSp  Parch            Ticket     Fare  \\\n",
       "0         0       3    male  22.0      1      0         A/5 21171   7.2500   \n",
       "1         1       1  female  38.0      1      0          PC 17599  71.2833   \n",
       "2         1       3  female  26.0      0      0  STON/O2. 3101282   7.9250   \n",
       "3         1       1  female  35.0      1      0            113803  53.1000   \n",
       "4         0       3    male  35.0      0      0            373450   8.0500   \n",
       "\n",
       "  Cabin Embarked  \n",
       "0   NaN        S  \n",
       "1   C85        C  \n",
       "2   NaN        S  \n",
       "3  C123        S  \n",
       "4   NaN        S  "
      ]
     },
     "execution_count": 91,
     "metadata": {},
     "output_type": "execute_result"
    }
   ],
   "source": [
    "df1.head()"
   ]
  },
  {
   "cell_type": "code",
   "execution_count": 92,
   "metadata": {},
   "outputs": [
    {
     "data": {
      "text/plain": [
       "Survived      2\n",
       "Pclass        3\n",
       "Sex           2\n",
       "Age          88\n",
       "SibSp         7\n",
       "Parch         7\n",
       "Ticket      681\n",
       "Fare        248\n",
       "Cabin       147\n",
       "Embarked      3\n",
       "dtype: int64"
      ]
     },
     "execution_count": 92,
     "metadata": {},
     "output_type": "execute_result"
    }
   ],
   "source": [
    "df1.nunique()"
   ]
  },
  {
   "cell_type": "code",
   "execution_count": 93,
   "metadata": {},
   "outputs": [
    {
     "data": {
      "text/plain": [
       "3    491\n",
       "1    216\n",
       "2    184\n",
       "Name: Pclass, dtype: int64"
      ]
     },
     "execution_count": 93,
     "metadata": {},
     "output_type": "execute_result"
    }
   ],
   "source": [
    "df1.Pclass.value_counts(dropna=False)"
   ]
  },
  {
   "cell_type": "code",
   "execution_count": 94,
   "metadata": {},
   "outputs": [
    {
     "data": {
      "text/plain": [
       "1    491\n",
       "3    216\n",
       "2    184\n",
       "Name: Pclass, dtype: int64"
      ]
     },
     "execution_count": 94,
     "metadata": {},
     "output_type": "execute_result"
    }
   ],
   "source": [
    "df1.Pclass = df1.Pclass.replace(to_replace=[1,2,3],value=[3,2,1])\n",
    "df1.Pclass.value_counts()"
   ]
  },
  {
   "cell_type": "code",
   "execution_count": 95,
   "metadata": {},
   "outputs": [
    {
     "data": {
      "text/plain": [
       "male      577\n",
       "female    314\n",
       "Name: Sex, dtype: int64"
      ]
     },
     "execution_count": 95,
     "metadata": {},
     "output_type": "execute_result"
    }
   ],
   "source": [
    "df1.Sex.value_counts(dropna=False)"
   ]
  },
  {
   "attachments": {},
   "cell_type": "markdown",
   "metadata": {},
   "source": [
    "Null"
   ]
  },
  {
   "cell_type": "code",
   "execution_count": 96,
   "metadata": {},
   "outputs": [
    {
     "data": {
      "text/plain": [
       "(891, 10)"
      ]
     },
     "execution_count": 96,
     "metadata": {},
     "output_type": "execute_result"
    }
   ],
   "source": [
    "df1.shape"
   ]
  },
  {
   "cell_type": "code",
   "execution_count": 97,
   "metadata": {},
   "outputs": [
    {
     "data": {
      "text/plain": [
       "Survived      0\n",
       "Pclass        0\n",
       "Sex           0\n",
       "Age         177\n",
       "SibSp         0\n",
       "Parch         0\n",
       "Ticket        0\n",
       "Fare          0\n",
       "Cabin       687\n",
       "Embarked      2\n",
       "dtype: int64"
      ]
     },
     "execution_count": 97,
     "metadata": {},
     "output_type": "execute_result"
    }
   ],
   "source": [
    "df1.isnull().sum()"
   ]
  },
  {
   "attachments": {},
   "cell_type": "markdown",
   "metadata": {},
   "source": [
    "More than 50% null in Cabin so dropping"
   ]
  },
  {
   "cell_type": "code",
   "execution_count": 98,
   "metadata": {},
   "outputs": [],
   "source": [
    "df1.drop(['Cabin'],axis=1,inplace=True)"
   ]
  },
  {
   "cell_type": "code",
   "execution_count": 99,
   "metadata": {},
   "outputs": [
    {
     "data": {
      "text/plain": [
       "Survived      0\n",
       "Pclass        0\n",
       "Sex           0\n",
       "Age         177\n",
       "SibSp         0\n",
       "Parch         0\n",
       "Ticket        0\n",
       "Fare          0\n",
       "Embarked      2\n",
       "dtype: int64"
      ]
     },
     "execution_count": 99,
     "metadata": {},
     "output_type": "execute_result"
    }
   ],
   "source": [
    "df1.isnull().sum()"
   ]
  },
  {
   "attachments": {},
   "cell_type": "markdown",
   "metadata": {},
   "source": [
    "Age"
   ]
  },
  {
   "cell_type": "code",
   "execution_count": 100,
   "metadata": {},
   "outputs": [
    {
     "data": {
      "text/plain": [
       "<AxesSubplot: >"
      ]
     },
     "execution_count": 100,
     "metadata": {},
     "output_type": "execute_result"
    },
    {
     "data": {
      "image/png": "[encoded data removed]",
      "text/plain": [
       "<Figure size 640x480 with 1 Axes>"
      ]
     },
     "metadata": {},
     "output_type": "display_data"
    }
   ],
   "source": [
    "df1.Age.hist()"
   ]
  },
  {
   "cell_type": "code",
   "execution_count": 101,
   "metadata": {},
   "outputs": [
    {
     "data": {
      "text/plain": [
       "<AxesSubplot: >"
      ]
     },
     "execution_count": 101,
     "metadata": {},
     "output_type": "execute_result"
    },
    {
     "data": {
      "image/png": "[encoded data removed]",
      "text/plain": [
       "<Figure size 640x480 with 1 Axes>"
      ]
     },
     "metadata": {},
     "output_type": "display_data"
    }
   ],
   "source": [
    "df1.Age = df1.Age.fillna(df1.Age.median())\n",
    "df1.Age.hist()"
   ]
  },
  {
   "cell_type": "code",
   "execution_count": 102,
   "metadata": {},
   "outputs": [
    {
     "data": {
      "text/plain": [
       "Survived    0\n",
       "Pclass      0\n",
       "Sex         0\n",
       "Age         0\n",
       "SibSp       0\n",
       "Parch       0\n",
       "Ticket      0\n",
       "Fare        0\n",
       "Embarked    2\n",
       "dtype: int64"
      ]
     },
     "execution_count": 102,
     "metadata": {},
     "output_type": "execute_result"
    }
   ],
   "source": [
    "df1.isnull().sum()"
   ]
  },
  {
   "attachments": {},
   "cell_type": "markdown",
   "metadata": {},
   "source": [
    "Embarked"
   ]
  },
  {
   "cell_type": "code",
   "execution_count": 103,
   "metadata": {},
   "outputs": [
    {
     "data": {
      "text/plain": [
       "S    644\n",
       "C    168\n",
       "Q     77\n",
       "Name: Embarked, dtype: int64"
      ]
     },
     "execution_count": 103,
     "metadata": {},
     "output_type": "execute_result"
    }
   ],
   "source": [
    "df1.Embarked.value_counts()"
   ]
  },
  {
   "cell_type": "code",
   "execution_count": 104,
   "metadata": {},
   "outputs": [
    {
     "data": {
      "text/plain": [
       "S    646\n",
       "C    168\n",
       "Q     77\n",
       "Name: Embarked, dtype: int64"
      ]
     },
     "execution_count": 104,
     "metadata": {},
     "output_type": "execute_result"
    }
   ],
   "source": [
    "df1.Embarked.fillna(df1.Embarked.mode().iloc[0],inplace=True)\n",
    "df1.Embarked.value_counts()"
   ]
  },
  {
   "cell_type": "code",
   "execution_count": 105,
   "metadata": {},
   "outputs": [
    {
     "data": {
      "text/plain": [
       "False"
      ]
     },
     "execution_count": 105,
     "metadata": {},
     "output_type": "execute_result"
    }
   ],
   "source": [
    "df1.isnull().values.any()"
   ]
  },
  {
   "cell_type": "code",
   "execution_count": 106,
   "metadata": {},
   "outputs": [
    {
     "data": {
      "image/png": "[encoded data removed]",
      "text/plain": [
       "<Figure size 1500x2000 with 12 Axes>"
      ]
     },
     "metadata": {},
     "output_type": "display_data"
    }
   ],
   "source": [
    "df1.plot(kind = \"box\",subplots = True,layout = (4,3),figsize=(15,20)) #Boxplot to check the outliers\n",
    "plt.show()"
   ]
  },
  {
   "cell_type": "code",
   "execution_count": 107,
   "metadata": {},
   "outputs": [],
   "source": [
    "#Using the InterQuartile Range to fill the values\n",
    "def remove_outlier(i , col):\n",
    "    Q1 = i[col].quantile(0.25)\n",
    "    Q3 = i[col].quantile(0.75)\n",
    "    IQR = Q3 - Q1\n",
    "    lower_whisker = Q1-1.5*IQR\n",
    "    upper_whisker = Q3+1.5*IQR\n",
    "    df1[col] = np.clip(i[col] , lower_whisker , upper_whisker)\n",
    "    return i\n",
    "\n",
    "def treat_outliers_all(df , col_list):\n",
    "    for c in col_list:\n",
    "        i = remove_outlier(df , c)\n",
    "    return i"
   ]
  },
  {
   "cell_type": "code",
   "execution_count": 108,
   "metadata": {},
   "outputs": [],
   "source": [
    "rem_list = ['Fare']"
   ]
  },
  {
   "cell_type": "code",
   "execution_count": 109,
   "metadata": {},
   "outputs": [],
   "source": [
    "df2 = treat_outliers_all(df1 , rem_list)"
   ]
  },
  {
   "cell_type": "code",
   "execution_count": 110,
   "metadata": {},
   "outputs": [
    {
     "data": {
      "image/png": "[encoded data removed]",
      "text/plain": [
       "<Figure size 1500x2000 with 12 Axes>"
      ]
     },
     "metadata": {},
     "output_type": "display_data"
    }
   ],
   "source": [
    "df2.plot(kind = \"box\",subplots = True,layout = (4,3),figsize=(15,20)) #Boxplot to check the outliers\n",
    "plt.show()"
   ]
  },
  {
   "cell_type": "code",
   "execution_count": 353,
   "metadata": {},
   "outputs": [
    {
     "data": {
      "text/html": [
       "<div>\n",
       "<style scoped>\n",
       "    .dataframe tbody tr th:only-of-type {\n",
       "        vertical-align: middle;\n",
       "    }\n",
       "\n",
       "    .dataframe tbody tr th {\n",
       "        vertical-align: top;\n",
       "    }\n",
       "\n",
       "    .dataframe thead th {\n",
       "        text-align: right;\n",
       "    }\n",
       "</style>\n",
       "<table border=\"1\" class=\"dataframe\">\n",
       "  <thead>\n",
       "    <tr style=\"text-align: right;\">\n",
       "      <th></th>\n",
       "      <th>Survived</th>\n",
       "      <th>Pclass</th>\n",
       "      <th>Age</th>\n",
       "      <th>SibSp</th>\n",
       "      <th>Parch</th>\n",
       "      <th>Fare</th>\n",
       "    </tr>\n",
       "  </thead>\n",
       "  <tbody>\n",
       "    <tr>\n",
       "      <th>count</th>\n",
       "      <td>891.000000</td>\n",
       "      <td>891.000000</td>\n",
       "      <td>891.000000</td>\n",
       "      <td>891.000000</td>\n",
       "      <td>891.000000</td>\n",
       "      <td>418.000000</td>\n",
       "    </tr>\n",
       "    <tr>\n",
       "      <th>mean</th>\n",
       "      <td>0.383838</td>\n",
       "      <td>1.691358</td>\n",
       "      <td>29.361582</td>\n",
       "      <td>0.523008</td>\n",
       "      <td>0.381594</td>\n",
       "      <td>24.644000</td>\n",
       "    </tr>\n",
       "    <tr>\n",
       "      <th>std</th>\n",
       "      <td>0.486592</td>\n",
       "      <td>0.836071</td>\n",
       "      <td>13.019697</td>\n",
       "      <td>1.102743</td>\n",
       "      <td>0.806057</td>\n",
       "      <td>21.192933</td>\n",
       "    </tr>\n",
       "    <tr>\n",
       "      <th>min</th>\n",
       "      <td>0.000000</td>\n",
       "      <td>1.000000</td>\n",
       "      <td>0.420000</td>\n",
       "      <td>0.000000</td>\n",
       "      <td>0.000000</td>\n",
       "      <td>0.000000</td>\n",
       "    </tr>\n",
       "    <tr>\n",
       "      <th>25%</th>\n",
       "      <td>0.000000</td>\n",
       "      <td>1.000000</td>\n",
       "      <td>22.000000</td>\n",
       "      <td>0.000000</td>\n",
       "      <td>0.000000</td>\n",
       "      <td>7.895800</td>\n",
       "    </tr>\n",
       "    <tr>\n",
       "      <th>50%</th>\n",
       "      <td>0.000000</td>\n",
       "      <td>1.000000</td>\n",
       "      <td>28.000000</td>\n",
       "      <td>0.000000</td>\n",
       "      <td>0.000000</td>\n",
       "      <td>14.454200</td>\n",
       "    </tr>\n",
       "    <tr>\n",
       "      <th>75%</th>\n",
       "      <td>1.000000</td>\n",
       "      <td>2.000000</td>\n",
       "      <td>35.000000</td>\n",
       "      <td>1.000000</td>\n",
       "      <td>0.000000</td>\n",
       "      <td>31.471875</td>\n",
       "    </tr>\n",
       "    <tr>\n",
       "      <th>max</th>\n",
       "      <td>1.000000</td>\n",
       "      <td>3.000000</td>\n",
       "      <td>80.000000</td>\n",
       "      <td>8.000000</td>\n",
       "      <td>6.000000</td>\n",
       "      <td>66.835988</td>\n",
       "    </tr>\n",
       "  </tbody>\n",
       "</table>\n",
       "</div>"
      ],
      "text/plain": [
       "         Survived      Pclass         Age       SibSp       Parch        Fare\n",
       "count  891.000000  891.000000  891.000000  891.000000  891.000000  418.000000\n",
       "mean     0.383838    1.691358   29.361582    0.523008    0.381594   24.644000\n",
       "std      0.486592    0.836071   13.019697    1.102743    0.806057   21.192933\n",
       "min      0.000000    1.000000    0.420000    0.000000    0.000000    0.000000\n",
       "25%      0.000000    1.000000   22.000000    0.000000    0.000000    7.895800\n",
       "50%      0.000000    1.000000   28.000000    0.000000    0.000000   14.454200\n",
       "75%      1.000000    2.000000   35.000000    1.000000    0.000000   31.471875\n",
       "max      1.000000    3.000000   80.000000    8.000000    6.000000   66.835988"
      ]
     },
     "execution_count": 353,
     "metadata": {},
     "output_type": "execute_result"
    }
   ],
   "source": [
    "df2.describe()"
   ]
  },
  {
   "cell_type": "code",
   "execution_count": 112,
   "metadata": {},
   "outputs": [],
   "source": [
    "df2.drop(['Ticket'],axis=1,inplace=True)"
   ]
  },
  {
   "cell_type": "code",
   "execution_count": 114,
   "metadata": {},
   "outputs": [
    {
     "data": {
      "text/html": [
       "<div>\n",
       "<style scoped>\n",
       "    .dataframe tbody tr th:only-of-type {\n",
       "        vertical-align: middle;\n",
       "    }\n",
       "\n",
       "    .dataframe tbody tr th {\n",
       "        vertical-align: top;\n",
       "    }\n",
       "\n",
       "    .dataframe thead th {\n",
       "        text-align: right;\n",
       "    }\n",
       "</style>\n",
       "<table border=\"1\" class=\"dataframe\">\n",
       "  <thead>\n",
       "    <tr style=\"text-align: right;\">\n",
       "      <th></th>\n",
       "      <th>Survived</th>\n",
       "      <th>Pclass</th>\n",
       "      <th>Sex</th>\n",
       "      <th>Age</th>\n",
       "      <th>SibSp</th>\n",
       "      <th>Parch</th>\n",
       "      <th>Fare</th>\n",
       "      <th>Embarked</th>\n",
       "    </tr>\n",
       "  </thead>\n",
       "  <tbody>\n",
       "    <tr>\n",
       "      <th>0</th>\n",
       "      <td>0</td>\n",
       "      <td>1</td>\n",
       "      <td>male</td>\n",
       "      <td>22.0</td>\n",
       "      <td>1</td>\n",
       "      <td>0</td>\n",
       "      <td>7.2500</td>\n",
       "      <td>S</td>\n",
       "    </tr>\n",
       "    <tr>\n",
       "      <th>1</th>\n",
       "      <td>1</td>\n",
       "      <td>3</td>\n",
       "      <td>female</td>\n",
       "      <td>38.0</td>\n",
       "      <td>1</td>\n",
       "      <td>0</td>\n",
       "      <td>65.6344</td>\n",
       "      <td>C</td>\n",
       "    </tr>\n",
       "    <tr>\n",
       "      <th>2</th>\n",
       "      <td>1</td>\n",
       "      <td>1</td>\n",
       "      <td>female</td>\n",
       "      <td>26.0</td>\n",
       "      <td>0</td>\n",
       "      <td>0</td>\n",
       "      <td>7.9250</td>\n",
       "      <td>S</td>\n",
       "    </tr>\n",
       "    <tr>\n",
       "      <th>3</th>\n",
       "      <td>1</td>\n",
       "      <td>3</td>\n",
       "      <td>female</td>\n",
       "      <td>35.0</td>\n",
       "      <td>1</td>\n",
       "      <td>0</td>\n",
       "      <td>53.1000</td>\n",
       "      <td>S</td>\n",
       "    </tr>\n",
       "    <tr>\n",
       "      <th>4</th>\n",
       "      <td>0</td>\n",
       "      <td>1</td>\n",
       "      <td>male</td>\n",
       "      <td>35.0</td>\n",
       "      <td>0</td>\n",
       "      <td>0</td>\n",
       "      <td>8.0500</td>\n",
       "      <td>S</td>\n",
       "    </tr>\n",
       "  </tbody>\n",
       "</table>\n",
       "</div>"
      ],
      "text/plain": [
       "   Survived  Pclass     Sex   Age  SibSp  Parch     Fare Embarked\n",
       "0         0       1    male  22.0      1      0   7.2500        S\n",
       "1         1       3  female  38.0      1      0  65.6344        C\n",
       "2         1       1  female  26.0      0      0   7.9250        S\n",
       "3         1       3  female  35.0      1      0  53.1000        S\n",
       "4         0       1    male  35.0      0      0   8.0500        S"
      ]
     },
     "execution_count": 114,
     "metadata": {},
     "output_type": "execute_result"
    }
   ],
   "source": [
    "df2.head()"
   ]
  },
  {
   "cell_type": "code",
   "execution_count": 115,
   "metadata": {},
   "outputs": [
    {
     "name": "stdout",
     "output_type": "stream",
     "text": [
      "There are 2 categorical variables\n",
      "\n",
      "The categorical variables : ['Sex', 'Embarked']\n"
     ]
    }
   ],
   "source": [
    "categorical = [var for var in df2.columns if df2[var].dtype=='O']\n",
    "print('There are {} categorical variables\\n'.format(len(categorical)))\n",
    "if len(categorical)>=1:\n",
    "    print('The categorical variables :', categorical)"
   ]
  },
  {
   "cell_type": "code",
   "execution_count": 116,
   "metadata": {},
   "outputs": [
    {
     "data": {
      "text/plain": [
       "((891, 8), (891, 9))"
      ]
     },
     "execution_count": 116,
     "metadata": {},
     "output_type": "execute_result"
    }
   ],
   "source": [
    "df3 = pd.get_dummies(data = df2, columns=categorical, drop_first=True)\n",
    "df2.shape, df3.shape"
   ]
  },
  {
   "cell_type": "code",
   "execution_count": 118,
   "metadata": {},
   "outputs": [
    {
     "data": {
      "text/plain": [
       "((891, 8), (891,))"
      ]
     },
     "execution_count": 118,
     "metadata": {},
     "output_type": "execute_result"
    }
   ],
   "source": [
    "X = df3.drop(['Survived'],axis=1)\n",
    "y = df3.Survived\n",
    "\n",
    "X.shape, y.shape"
   ]
  },
  {
   "cell_type": "code",
   "execution_count": 119,
   "metadata": {},
   "outputs": [
    {
     "data": {
      "text/plain": [
       "0    549\n",
       "1    342\n",
       "Name: Survived, dtype: int64"
      ]
     },
     "execution_count": 119,
     "metadata": {},
     "output_type": "execute_result"
    }
   ],
   "source": [
    "y.value_counts()"
   ]
  },
  {
   "cell_type": "code",
   "execution_count": 120,
   "metadata": {},
   "outputs": [
    {
     "data": {
      "text/plain": [
       "((712, 8), (179, 8), (712,), (179,))"
      ]
     },
     "execution_count": 120,
     "metadata": {},
     "output_type": "execute_result"
    }
   ],
   "source": [
    "# create X and Y datasets for training\n",
    "from sklearn import model_selection\n",
    "X_train, X_test, y_train, y_test = model_selection.train_test_split(X, y,stratify=y, random_state=42, test_size = 0.2)\n",
    "\n",
    "X_train.shape, X_test.shape, y_train.shape, y_test.shape"
   ]
  },
  {
   "cell_type": "markdown",
   "metadata": {},
   "source": [
    "smote because there is imbalance"
   ]
  },
  {
   "cell_type": "code",
   "execution_count": 121,
   "metadata": {},
   "outputs": [],
   "source": [
    "from imblearn.over_sampling import SMOTE"
   ]
  },
  {
   "cell_type": "code",
   "execution_count": 122,
   "metadata": {},
   "outputs": [],
   "source": [
    "oversample = SMOTE()\n",
    "X_train, y_train = oversample.fit_resample(X_train, y_train)"
   ]
  },
  {
   "cell_type": "code",
   "execution_count": 123,
   "metadata": {},
   "outputs": [
    {
     "data": {
      "text/plain": [
       "1    439\n",
       "0    439\n",
       "Name: Survived, dtype: int64"
      ]
     },
     "execution_count": 123,
     "metadata": {},
     "output_type": "execute_result"
    }
   ],
   "source": [
    "y_train.value_counts()"
   ]
  },
  {
   "cell_type": "code",
   "execution_count": 128,
   "metadata": {},
   "outputs": [],
   "source": [
    "from sklearn.preprocessing import MinMaxScaler\n",
    "\n",
    "cols = X_train.columns\n",
    "scaler = MinMaxScaler()\n",
    "X_train_RF = scaler.fit_transform(X_train)\n",
    "X_test_RF = scaler.transform(X_test)\n",
    "\n",
    "X_train_RF = pd.DataFrame(X_train_RF,columns=cols)\n",
    "X_test_RF = pd.DataFrame(X_test_RF,columns=cols)"
   ]
  },
  {
   "cell_type": "code",
   "execution_count": 131,
   "metadata": {},
   "outputs": [
    {
     "data": {
      "text/html": [
       "<style>#sk-container-id-3 {color: black;background-color: white;}#sk-container-id-3 pre{padding: 0;}#sk-container-id-3 div.sk-toggleable {background-color: white;}#sk-container-id-3 label.sk-toggleable__label {cursor: pointer;display: block;width: 100%;margin-bottom: 0;padding: 0.3em;box-sizing: border-box;text-align: center;}#sk-container-id-3 label.sk-toggleable__label-arrow:before {content: \"▸\";float: left;margin-right: 0.25em;color: #696969;}#sk-container-id-3 label.sk-toggleable__label-arrow:hover:before {color: black;}#sk-container-id-3 div.sk-estimator:hover label.sk-toggleable__label-arrow:before {color: black;}#sk-container-id-3 div.sk-toggleable__content {max-height: 0;max-width: 0;overflow: hidden;text-align: left;background-color: #f0f8ff;}#sk-container-id-3 div.sk-toggleable__content pre {margin: 0.2em;color: black;border-radius: 0.25em;background-color: #f0f8ff;}#sk-container-id-3 input.sk-toggleable__control:checked~div.sk-toggleable__content {max-height: 200px;max-width: 100%;overflow: auto;}#sk-container-id-3 input.sk-toggleable__control:checked~label.sk-toggleable__label-arrow:before {content: \"▾\";}#sk-container-id-3 div.sk-estimator input.sk-toggleable__control:checked~label.sk-toggleable__label {background-color: #d4ebff;}#sk-container-id-3 div.sk-label input.sk-toggleable__control:checked~label.sk-toggleable__label {background-color: #d4ebff;}#sk-container-id-3 input.sk-hidden--visually {border: 0;clip: rect(1px 1px 1px 1px);clip: rect(1px, 1px, 1px, 1px);height: 1px;margin: -1px;overflow: hidden;padding: 0;position: absolute;width: 1px;}#sk-container-id-3 div.sk-estimator {font-family: monospace;background-color: #f0f8ff;border: 1px dotted black;border-radius: 0.25em;box-sizing: border-box;margin-bottom: 0.5em;}#sk-container-id-3 div.sk-estimator:hover {background-color: #d4ebff;}#sk-container-id-3 div.sk-parallel-item::after {content: \"\";width: 100%;border-bottom: 1px solid gray;flex-grow: 1;}#sk-container-id-3 div.sk-label:hover label.sk-toggleable__label {background-color: #d4ebff;}#sk-container-id-3 div.sk-serial::before {content: \"\";position: absolute;border-left: 1px solid gray;box-sizing: border-box;top: 0;bottom: 0;left: 50%;z-index: 0;}#sk-container-id-3 div.sk-serial {display: flex;flex-direction: column;align-items: center;background-color: white;padding-right: 0.2em;padding-left: 0.2em;position: relative;}#sk-container-id-3 div.sk-item {position: relative;z-index: 1;}#sk-container-id-3 div.sk-parallel {display: flex;align-items: stretch;justify-content: center;background-color: white;position: relative;}#sk-container-id-3 div.sk-item::before, #sk-container-id-3 div.sk-parallel-item::before {content: \"\";position: absolute;border-left: 1px solid gray;box-sizing: border-box;top: 0;bottom: 0;left: 50%;z-index: -1;}#sk-container-id-3 div.sk-parallel-item {display: flex;flex-direction: column;z-index: 1;position: relative;background-color: white;}#sk-container-id-3 div.sk-parallel-item:first-child::after {align-self: flex-end;width: 50%;}#sk-container-id-3 div.sk-parallel-item:last-child::after {align-self: flex-start;width: 50%;}#sk-container-id-3 div.sk-parallel-item:only-child::after {width: 0;}#sk-container-id-3 div.sk-dashed-wrapped {border: 1px dashed gray;margin: 0 0.4em 0.5em 0.4em;box-sizing: border-box;padding-bottom: 0.4em;background-color: white;}#sk-container-id-3 div.sk-label label {font-family: monospace;font-weight: bold;display: inline-block;line-height: 1.2em;}#sk-container-id-3 div.sk-label-container {text-align: center;}#sk-container-id-3 div.sk-container {/* jupyter's `normalize.less` sets `[hidden] { display: none; }` but bootstrap.min.css set `[hidden] { display: none !important; }` so we also need the `!important` here to be able to override the default hidden behavior on the sphinx rendered scikit-learn.org. See: https://github.com/scikit-learn/scikit-learn/issues/21755 */display: inline-block !important;position: relative;}#sk-container-id-3 div.sk-text-repr-fallback {display: none;}</style><div id=\"sk-container-id-3\" class=\"sk-top-container\"><div class=\"sk-text-repr-fallback\"><pre>LogisticRegression(random_state=0, solver=&#x27;liblinear&#x27;)</pre><b>In a Jupyter environment, please rerun this cell to show the HTML representation or trust the notebook. <br />On GitHub, the HTML representation is unable to render, please try loading this page with nbviewer.org.</b></div><div class=\"sk-container\" hidden><div class=\"sk-item\"><div class=\"sk-estimator sk-toggleable\"><input class=\"sk-toggleable__control sk-hidden--visually\" id=\"sk-estimator-id-3\" type=\"checkbox\" checked><label for=\"sk-estimator-id-3\" class=\"sk-toggleable__label sk-toggleable__label-arrow\">LogisticRegression</label><div class=\"sk-toggleable__content\"><pre>LogisticRegression(random_state=0, solver=&#x27;liblinear&#x27;)</pre></div></div></div></div></div>"
      ],
      "text/plain": [
       "LogisticRegression(random_state=0, solver='liblinear')"
      ]
     },
     "execution_count": 131,
     "metadata": {},
     "output_type": "execute_result"
    }
   ],
   "source": [
    "from sklearn.linear_model import LogisticRegression\n",
    "\n",
    "\n",
    "# instantiate the model\n",
    "logreg = LogisticRegression(solver='liblinear', random_state=0)\n",
    "\n",
    "\n",
    "# fit the model\n",
    "logreg.fit(X_train, y_train)"
   ]
  },
  {
   "cell_type": "code",
   "execution_count": 393,
   "metadata": {},
   "outputs": [
    {
     "data": {
      "text/plain": [
       "{'C': 1.0,\n",
       " 'class_weight': None,\n",
       " 'dual': False,\n",
       " 'fit_intercept': True,\n",
       " 'intercept_scaling': 1,\n",
       " 'l1_ratio': None,\n",
       " 'max_iter': 100,\n",
       " 'multi_class': 'auto',\n",
       " 'n_jobs': None,\n",
       " 'penalty': 'l2',\n",
       " 'random_state': 0,\n",
       " 'solver': 'liblinear',\n",
       " 'tol': 0.0001,\n",
       " 'verbose': 0,\n",
       " 'warm_start': False}"
      ]
     },
     "execution_count": 393,
     "metadata": {},
     "output_type": "execute_result"
    }
   ],
   "source": [
    "logreg.get_params()"
   ]
  },
  {
   "cell_type": "code",
   "execution_count": 132,
   "metadata": {},
   "outputs": [
    {
     "name": "stdout",
     "output_type": "stream",
     "text": [
      "Training set score: 0.8030\n",
      "Test set score: 0.8045\n"
     ]
    }
   ],
   "source": [
    "print('Training set score: {:.4f}'.format(logreg.score(X_train, y_train)))\n",
    "\n",
    "print('Test set score: {:.4f}'.format(logreg.score(X_test, y_test)))"
   ]
  },
  {
   "cell_type": "code",
   "execution_count": 133,
   "metadata": {},
   "outputs": [],
   "source": [
    "y_pred = logreg.predict(X_test)"
   ]
  },
  {
   "cell_type": "code",
   "execution_count": 134,
   "metadata": {},
   "outputs": [
    {
     "data": {
      "text/plain": [
       "array([[94, 16],\n",
       "       [19, 50]], dtype=int64)"
      ]
     },
     "execution_count": 134,
     "metadata": {},
     "output_type": "execute_result"
    }
   ],
   "source": [
    "cm = confusion_matrix(y_test, y_pred)\n",
    "cm"
   ]
  },
  {
   "cell_type": "code",
   "execution_count": 135,
   "metadata": {},
   "outputs": [
    {
     "data": {
      "text/plain": [
       "0.8044692737430168"
      ]
     },
     "execution_count": 135,
     "metadata": {},
     "output_type": "execute_result"
    }
   ],
   "source": [
    "log_accuracy = logreg.score(X_test, y_test)\n",
    "log_accuracy"
   ]
  },
  {
   "cell_type": "code",
   "execution_count": 136,
   "metadata": {},
   "outputs": [
    {
     "data": {
      "text/plain": [
       "0.7575757575757576"
      ]
     },
     "execution_count": 136,
     "metadata": {},
     "output_type": "execute_result"
    }
   ],
   "source": [
    "# precision\n",
    "log_pre = precision_score(y_test, y_pred)\n",
    "log_pre"
   ]
  },
  {
   "cell_type": "code",
   "execution_count": 137,
   "metadata": {},
   "outputs": [
    {
     "data": {
      "text/plain": [
       "0.7246376811594203"
      ]
     },
     "execution_count": 137,
     "metadata": {},
     "output_type": "execute_result"
    }
   ],
   "source": [
    "# recall\n",
    "log_rec = recall_score(y_test, y_pred)\n",
    "log_rec"
   ]
  },
  {
   "cell_type": "markdown",
   "metadata": {},
   "source": [
    "KNN"
   ]
  },
  {
   "cell_type": "code",
   "execution_count": 138,
   "metadata": {},
   "outputs": [
    {
     "name": "stdout",
     "output_type": "stream",
     "text": [
      "2.8284271247461903\n"
     ]
    }
   ],
   "source": [
    "from math import sqrt\n",
    "print(sqrt(X_train.shape[1]))"
   ]
  },
  {
   "cell_type": "code",
   "execution_count": 141,
   "metadata": {},
   "outputs": [
    {
     "name": "stdout",
     "output_type": "stream",
     "text": [
      "Fitting 6 folds for each of 19 candidates, totalling 114 fits\n",
      "Best Score:0.7768614295033082\n",
      "Best Parameters: {'n_neighbors': 4}\n"
     ]
    }
   ],
   "source": [
    "from sklearn.model_selection import GridSearchCV\n",
    "\n",
    "from sklearn.neighbors import KNeighborsClassifier\n",
    "#In case of classifier like knn the parameter to be tuned is n_neighbors\n",
    "param_grid = {'n_neighbors':np.arange(1,20)}\n",
    "knn = KNeighborsClassifier()\n",
    "knn_cv= GridSearchCV(knn,param_grid,verbose=1,cv=6)\n",
    "knn_cv.fit(X_train,y_train)\n",
    "\n",
    "print(\"Best Score:\" + str(knn_cv.best_score_))\n",
    "print(\"Best Parameters: \" + str(knn_cv.best_params_))"
   ]
  },
  {
   "cell_type": "code",
   "execution_count": 142,
   "metadata": {},
   "outputs": [
    {
     "name": "stdout",
     "output_type": "stream",
     "text": [
      "Training set score: 0.8576\n",
      "Test set score: 0.6592\n"
     ]
    }
   ],
   "source": [
    "print('Training set score: {:.4f}'.format(knn_cv.score(X_train, y_train)))\n",
    "\n",
    "print('Test set score: {:.4f}'.format(knn_cv.score(X_test, y_test)))"
   ]
  },
  {
   "cell_type": "code",
   "execution_count": 143,
   "metadata": {},
   "outputs": [],
   "source": [
    "y_pred = knn_cv.predict(X_test)"
   ]
  },
  {
   "cell_type": "code",
   "execution_count": 144,
   "metadata": {},
   "outputs": [
    {
     "data": {
      "text/plain": [
       "array([[88, 22],\n",
       "       [39, 30]], dtype=int64)"
      ]
     },
     "execution_count": 144,
     "metadata": {},
     "output_type": "execute_result"
    }
   ],
   "source": [
    "cm = confusion_matrix(y_test, y_pred)\n",
    "cm"
   ]
  },
  {
   "cell_type": "code",
   "execution_count": 145,
   "metadata": {},
   "outputs": [
    {
     "data": {
      "text/plain": [
       "0.659217877094972"
      ]
     },
     "execution_count": 145,
     "metadata": {},
     "output_type": "execute_result"
    }
   ],
   "source": [
    "knn_accuracy = knn_cv.score(X_test, y_test)\n",
    "knn_accuracy"
   ]
  },
  {
   "cell_type": "code",
   "execution_count": 146,
   "metadata": {},
   "outputs": [
    {
     "data": {
      "text/plain": [
       "0.5769230769230769"
      ]
     },
     "execution_count": 146,
     "metadata": {},
     "output_type": "execute_result"
    }
   ],
   "source": [
    "# precision\n",
    "knn_pre = precision_score(y_test, y_pred)\n",
    "knn_pre"
   ]
  },
  {
   "cell_type": "code",
   "execution_count": 147,
   "metadata": {},
   "outputs": [
    {
     "data": {
      "text/plain": [
       "0.43478260869565216"
      ]
     },
     "execution_count": 147,
     "metadata": {},
     "output_type": "execute_result"
    }
   ],
   "source": [
    "# recall\n",
    "knn_rec = recall_score(y_test, y_pred)\n",
    "knn_rec"
   ]
  },
  {
   "cell_type": "markdown",
   "metadata": {},
   "source": [
    "Random Forests"
   ]
  },
  {
   "cell_type": "code",
   "execution_count": 152,
   "metadata": {},
   "outputs": [
    {
     "name": "stdout",
     "output_type": "stream",
     "text": [
      "Fitting 3 folds for each of 189 candidates, totalling 567 fits\n",
      "Best params:  {'bootstrap': True, 'max_depth': 10, 'min_samples_leaf': 2, 'min_samples_split': 5, 'n_estimators': 100}\n"
     ]
    }
   ],
   "source": [
    "from sklearn.ensemble import RandomForestClassifier\n",
    "from sklearn.model_selection import GridSearchCV\n",
    "import numpy as np\n",
    "parameters = {\n",
    "    'n_estimators': [100, 150, 200, 250, 300,500,1000],\n",
    "    'max_depth': [10, 20, None],\n",
    "    'bootstrap':[True],\n",
    "    'min_samples_leaf': [1,2,4],\n",
    "    'min_samples_split': [2,5,10]\n",
    "}\n",
    "regr = RandomForestClassifier(random_state=12)\n",
    "\n",
    "clf = GridSearchCV(regr, parameters,verbose=10,n_jobs=6,cv=3)\n",
    "clf.fit(X_train, y_train)\n",
    "print(\"Best params: \", clf.best_params_)"
   ]
  },
  {
   "cell_type": "code",
   "execution_count": 153,
   "metadata": {},
   "outputs": [],
   "source": [
    "y_pred = clf.predict(X_test)"
   ]
  },
  {
   "cell_type": "code",
   "execution_count": 156,
   "metadata": {},
   "outputs": [
    {
     "name": "stdout",
     "output_type": "stream",
     "text": [
      "Training set score: 0.9032\n",
      "Test set score: 0.8156\n"
     ]
    }
   ],
   "source": [
    "print('Training set score: {:.4f}'.format(clf.score(X_train,y_train)))\n",
    "\n",
    "print('Test set score: {:.4f}'.format(clf.score(X_test, y_test)))"
   ]
  },
  {
   "cell_type": "code",
   "execution_count": 159,
   "metadata": {},
   "outputs": [],
   "source": [
    "def plot_feature_importance(importance,names,model_type):\n",
    "\n",
    "    #Create arrays from feature importance and feature names\n",
    "    feature_importance = np.array(importance)\n",
    "    feature_names = np.array(names)\n",
    "\n",
    "    #Create a DataFrame using a Dictionary\n",
    "    data={'feature_names':feature_names,'feature_importance':feature_importance}\n",
    "    fi_df = pd.DataFrame(data)\n",
    "\n",
    "    #Sort the DataFrame in order decreasing feature importance\n",
    "    fi_df.sort_values(by=['feature_importance'], ascending=False,inplace=True)\n",
    "\n",
    "    #Define size of bar plot\n",
    "    plt.figure(figsize=(10,8))\n",
    "    #Plot Searborn bar chart\n",
    "    sns.barplot(x=fi_df['feature_importance'], y=fi_df['feature_names'])\n",
    "    #Add chart labels\n",
    "    plt.title(model_type + 'FEATURE IMPORTANCE')\n",
    "    plt.xlabel('FEATURE IMPORTANCE')\n",
    "    plt.ylabel('FEATURE NAMES')"
   ]
  },
  {
   "cell_type": "code",
   "execution_count": 160,
   "metadata": {},
   "outputs": [
    {
     "data": {
      "image/png": "[encoded data removed]",
      "text/plain": [
       "<Figure size 1000x800 with 1 Axes>"
      ]
     },
     "metadata": {},
     "output_type": "display_data"
    }
   ],
   "source": [
    "plot_feature_importance(clf.best_estimator_.feature_importances_,X_train_RF.columns,'RANDOM FOREST GRIDSEARCH ')"
   ]
  },
  {
   "cell_type": "code",
   "execution_count": 161,
   "metadata": {},
   "outputs": [
    {
     "data": {
      "text/plain": [
       "array([[93, 17],\n",
       "       [23, 46]], dtype=int64)"
      ]
     },
     "execution_count": 161,
     "metadata": {},
     "output_type": "execute_result"
    }
   ],
   "source": [
    "cm = confusion_matrix(y_test, y_pred)\n",
    "cm"
   ]
  },
  {
   "cell_type": "code",
   "execution_count": 163,
   "metadata": {},
   "outputs": [
    {
     "data": {
      "text/plain": [
       "0.8156424581005587"
      ]
     },
     "execution_count": 163,
     "metadata": {},
     "output_type": "execute_result"
    }
   ],
   "source": [
    "rfcv_accuracy = clf.score(X_test, y_test)\n",
    "rfcv_accuracy"
   ]
  },
  {
   "cell_type": "code",
   "execution_count": 164,
   "metadata": {},
   "outputs": [
    {
     "data": {
      "text/plain": [
       "0.7301587301587301"
      ]
     },
     "execution_count": 164,
     "metadata": {},
     "output_type": "execute_result"
    }
   ],
   "source": [
    "# precision\n",
    "rfcv_pre = precision_score(y_test, y_pred)\n",
    "rfcv_pre"
   ]
  },
  {
   "cell_type": "code",
   "execution_count": 165,
   "metadata": {},
   "outputs": [
    {
     "data": {
      "text/plain": [
       "0.6666666666666666"
      ]
     },
     "execution_count": 165,
     "metadata": {},
     "output_type": "execute_result"
    }
   ],
   "source": [
    "# recall\n",
    "rfcv_rec = recall_score(y_test, y_pred)\n",
    "rfcv_rec"
   ]
  },
  {
   "cell_type": "code",
   "execution_count": 166,
   "metadata": {},
   "outputs": [],
   "source": [
    "from sklearn.preprocessing import LabelEncoder, StandardScaler, MinMaxScaler\n",
    "from sklearn.pipeline import Pipeline\n",
    "# Importing libraries for building the neural network\n",
    "from keras.models import Sequential\n",
    "from keras.layers import Dense, Dropout, Flatten\n",
    "from keras.wrappers.scikit_learn import KerasClassifier\n",
    "from sklearn.model_selection import StratifiedKFold, cross_val_score, KFold, train_test_split\n",
    "from keras.callbacks import EarlyStopping, ModelCheckpoint, ReduceLROnPlateau, TensorBoard\n",
    "from keras.optimizers import SGD, Adam, Adadelta, RMSprop\n",
    "from keras.callbacks import EarlyStopping\n",
    "from sklearn.model_selection import train_test_split\n",
    "from sklearn.metrics import classification_report\n",
    "import tensorflow as tf"
   ]
  },
  {
   "cell_type": "code",
   "execution_count": 180,
   "metadata": {},
   "outputs": [
    {
     "name": "stdout",
     "output_type": "stream",
     "text": [
      "Model: \"sequential_1\"\n",
      "_________________________________________________________________\n",
      " Layer (type)                Output Shape              Param #   \n",
      "=================================================================\n",
      " dense_9 (Dense)             (None, 256)               2304      \n",
      "                                                                 \n",
      " dense_10 (Dense)            (None, 512)               131584    \n",
      "                                                                 \n",
      " dense_11 (Dense)            (None, 1024)              525312    \n",
      "                                                                 \n",
      " dropout_3 (Dropout)         (None, 1024)              0         \n",
      "                                                                 \n",
      " dense_12 (Dense)            (None, 1024)              1049600   \n",
      "                                                                 \n",
      " dense_13 (Dense)            (None, 512)               524800    \n",
      "                                                                 \n",
      " dense_14 (Dense)            (None, 256)               131328    \n",
      "                                                                 \n",
      " flatten_1 (Flatten)         (None, 256)               0         \n",
      "                                                                 \n",
      " dense_15 (Dense)            (None, 512)               131584    \n",
      "                                                                 \n",
      " dropout_4 (Dropout)         (None, 512)               0         \n",
      "                                                                 \n",
      " dense_16 (Dense)            (None, 512)               262656    \n",
      "                                                                 \n",
      " dropout_5 (Dropout)         (None, 512)               0         \n",
      "                                                                 \n",
      " dense_17 (Dense)            (None, 1)                 513       \n",
      "                                                                 \n",
      "=================================================================\n",
      "Total params: 2,759,681\n",
      "Trainable params: 2,759,681\n",
      "Non-trainable params: 0\n",
      "_________________________________________________________________\n"
     ]
    }
   ],
   "source": [
    "titanic_model = Sequential()\n",
    "titanic_model.add(Dense(256, input_shape = (X_train_RF.shape[1],), activation = \"relu\"))\n",
    "titanic_model.add(Dense(512, activation = \"relu\"))\n",
    "titanic_model.add(Dense(1024, activation = \"relu\"))\n",
    "titanic_model.add(Dropout(0.2))\n",
    "titanic_model.add(Dense(1024, activation = \"relu\"))\n",
    "titanic_model.add(Dense(512, activation = \"relu\"))\n",
    "titanic_model.add(Dense(256, activation = \"relu\"))\n",
    "titanic_model.add(Flatten())\n",
    "titanic_model.add(Dense(512, activation = \"relu\"))\n",
    "titanic_model.add(Dropout(0.5))\n",
    "titanic_model.add(Dense(512, activation = \"relu\"))\n",
    "titanic_model.add(Dropout(0.5))\n",
    "# titanic_model.add(Dense(1, activation = \"sigmoid\",kernel_regularizer = \"binary_crossentropy\"))\n",
    "titanic_model.add(Dense(1, activation = \"sigmoid\"))\n",
    "titanic_model.summary()"
   ]
  },
  {
   "cell_type": "code",
   "execution_count": 181,
   "metadata": {},
   "outputs": [],
   "source": [
    "optimizer=Adam(learning_rate=0.001, beta_1=0.9, beta_2=0.999)\n",
    "losses = tf.keras.losses.binary_crossentropy\n",
    "titanic_model.compile(optimizer=optimizer, loss=losses, metrics=['accuracy'])"
   ]
  },
  {
   "cell_type": "code",
   "execution_count": 182,
   "metadata": {},
   "outputs": [],
   "source": [
    "m_loss = EarlyStopping(\n",
    "    monitor=\"val_accuracy\",\n",
    "    min_delta=0,\n",
    "    patience=15,\n",
    "    verbose=1,\n",
    "    mode=\"auto\",\n",
    "    baseline=None,\n",
    "    restore_best_weights=True,\n",
    ")"
   ]
  },
  {
   "cell_type": "code",
   "execution_count": 183,
   "metadata": {},
   "outputs": [],
   "source": [
    "save_checkpoint = tf.keras.callbacks.ModelCheckpoint(filepath='titanic_model.h5', monitor='val_accuracy', save_best_only=True, verbose=1)"
   ]
  },
  {
   "cell_type": "code",
   "execution_count": 184,
   "metadata": {},
   "outputs": [
    {
     "name": "stdout",
     "output_type": "stream",
     "text": [
      "Epoch 1/100\n",
      "11/11 [==============================] - ETA: 0s - loss: 0.7064 - accuracy: 0.6140\n",
      "Epoch 1: val_accuracy improved from -inf to 0.03977, saving model to titanic_model.h5\n",
      "11/11 [==============================] - 1s 35ms/step - loss: 0.7064 - accuracy: 0.6140 - val_loss: 1.0872 - val_accuracy: 0.0398\n",
      "Epoch 2/100\n",
      "11/11 [==============================] - ETA: 0s - loss: 0.6228 - accuracy: 0.6610\n",
      "Epoch 2: val_accuracy improved from 0.03977 to 0.47727, saving model to titanic_model.h5\n",
      "11/11 [==============================] - 0s 23ms/step - loss: 0.6228 - accuracy: 0.6610 - val_loss: 1.0176 - val_accuracy: 0.4773\n",
      "Epoch 3/100\n",
      "11/11 [==============================] - ETA: 0s - loss: 0.6197 - accuracy: 0.6809\n",
      "Epoch 3: val_accuracy did not improve from 0.47727\n",
      "11/11 [==============================] - 0s 14ms/step - loss: 0.6197 - accuracy: 0.6809 - val_loss: 0.9729 - val_accuracy: 0.0909\n",
      "Epoch 4/100\n",
      " 6/11 [===============>..............] - ETA: 0s - loss: 0.6093 - accuracy: 0.6589\n",
      "Epoch 4: val_accuracy improved from 0.47727 to 0.54545, saving model to titanic_model.h5\n",
      "11/11 [==============================] - 0s 17ms/step - loss: 0.6049 - accuracy: 0.6667 - val_loss: 0.7620 - val_accuracy: 0.5455\n",
      "Epoch 5/100\n",
      " 1/11 [=>............................] - ETA: 0s - loss: 0.5550 - accuracy: 0.7188\n",
      "Epoch 5: val_accuracy did not improve from 0.54545\n",
      "11/11 [==============================] - 0s 5ms/step - loss: 0.5788 - accuracy: 0.6980 - val_loss: 0.8222 - val_accuracy: 0.4034\n",
      "Epoch 6/100\n",
      " 1/11 [=>............................] - ETA: 0s - loss: 0.5639 - accuracy: 0.7344\n",
      "Epoch 6: val_accuracy did not improve from 0.54545\n",
      "11/11 [==============================] - 0s 5ms/step - loss: 0.5785 - accuracy: 0.7023 - val_loss: 0.9407 - val_accuracy: 0.4545\n",
      "Epoch 7/100\n",
      " 1/11 [=>............................] - ETA: 0s - loss: 0.5976 - accuracy: 0.6562\n",
      "Epoch 7: val_accuracy improved from 0.54545 to 0.81250, saving model to titanic_model.h5\n",
      "11/11 [==============================] - 0s 14ms/step - loss: 0.5556 - accuracy: 0.7179 - val_loss: 0.4572 - val_accuracy: 0.8125\n",
      "Epoch 8/100\n",
      "10/11 [==========================>...] - ETA: 0s - loss: 0.5440 - accuracy: 0.7203\n",
      "Epoch 8: val_accuracy did not improve from 0.81250\n",
      "11/11 [==============================] - 0s 9ms/step - loss: 0.5479 - accuracy: 0.7165 - val_loss: 0.7822 - val_accuracy: 0.4773\n",
      "Epoch 9/100\n",
      " 1/11 [=>............................] - ETA: 0s - loss: 0.5043 - accuracy: 0.6875\n",
      "Epoch 9: val_accuracy did not improve from 0.81250\n",
      "11/11 [==============================] - 0s 7ms/step - loss: 0.5250 - accuracy: 0.7450 - val_loss: 0.7851 - val_accuracy: 0.4773\n",
      "Epoch 10/100\n",
      " 1/11 [=>............................] - ETA: 0s - loss: 0.5586 - accuracy: 0.7344\n",
      "Epoch 10: val_accuracy did not improve from 0.81250\n",
      "11/11 [==============================] - 0s 7ms/step - loss: 0.5253 - accuracy: 0.7664 - val_loss: 0.7883 - val_accuracy: 0.4716\n",
      "Epoch 11/100\n",
      " 1/11 [=>............................] - ETA: 0s - loss: 0.5393 - accuracy: 0.7031\n",
      "Epoch 11: val_accuracy improved from 0.81250 to 0.82386, saving model to titanic_model.h5\n",
      "11/11 [==============================] - 0s 15ms/step - loss: 0.5375 - accuracy: 0.7536 - val_loss: 0.5371 - val_accuracy: 0.8239\n",
      "Epoch 12/100\n",
      " 1/11 [=>............................] - ETA: 0s - loss: 0.4655 - accuracy: 0.7812\n",
      "Epoch 12: val_accuracy did not improve from 0.82386\n",
      "11/11 [==============================] - 0s 6ms/step - loss: 0.4824 - accuracy: 0.7920 - val_loss: 0.6359 - val_accuracy: 0.7330\n",
      "Epoch 13/100\n",
      " 1/11 [=>............................] - ETA: 0s - loss: 0.6600 - accuracy: 0.7344\n",
      "Epoch 13: val_accuracy did not improve from 0.82386\n",
      "11/11 [==============================] - 0s 6ms/step - loss: 0.4704 - accuracy: 0.7821 - val_loss: 0.5421 - val_accuracy: 0.7273\n",
      "Epoch 14/100\n",
      " 1/11 [=>............................] - ETA: 0s - loss: 0.5276 - accuracy: 0.7500\n",
      "Epoch 14: val_accuracy improved from 0.82386 to 0.86932, saving model to titanic_model.h5\n",
      "11/11 [==============================] - 0s 13ms/step - loss: 0.4872 - accuracy: 0.7821 - val_loss: 0.4039 - val_accuracy: 0.8693\n",
      "Epoch 15/100\n",
      " 1/11 [=>............................] - ETA: 0s - loss: 0.4782 - accuracy: 0.8125\n",
      "Epoch 15: val_accuracy did not improve from 0.86932\n",
      "11/11 [==============================] - 0s 5ms/step - loss: 0.5186 - accuracy: 0.7707 - val_loss: 1.0553 - val_accuracy: 0.4432\n",
      "Epoch 16/100\n",
      " 1/11 [=>............................] - ETA: 0s - loss: 0.4294 - accuracy: 0.7812\n",
      "Epoch 16: val_accuracy did not improve from 0.86932\n",
      "11/11 [==============================] - 0s 5ms/step - loss: 0.5147 - accuracy: 0.7536 - val_loss: 0.6333 - val_accuracy: 0.8182\n",
      "Epoch 17/100\n",
      " 1/11 [=>............................] - ETA: 0s - loss: 0.4371 - accuracy: 0.8281\n",
      "Epoch 17: val_accuracy did not improve from 0.86932\n",
      "11/11 [==============================] - 0s 5ms/step - loss: 0.4718 - accuracy: 0.7977 - val_loss: 0.5884 - val_accuracy: 0.7614\n",
      "Epoch 18/100\n",
      " 1/11 [=>............................] - ETA: 0s - loss: 0.4708 - accuracy: 0.7969\n",
      "Epoch 18: val_accuracy did not improve from 0.86932\n",
      "11/11 [==============================] - 0s 5ms/step - loss: 0.4332 - accuracy: 0.7991 - val_loss: 0.3295 - val_accuracy: 0.8693\n",
      "Epoch 19/100\n",
      " 1/11 [=>............................] - ETA: 0s - loss: 0.3947 - accuracy: 0.8281\n",
      "Epoch 19: val_accuracy did not improve from 0.86932\n",
      "11/11 [==============================] - 0s 5ms/step - loss: 0.4590 - accuracy: 0.7778 - val_loss: 0.5598 - val_accuracy: 0.6307\n",
      "Epoch 20/100\n",
      " 1/11 [=>............................] - ETA: 0s - loss: 0.4539 - accuracy: 0.7969\n",
      "Epoch 20: val_accuracy did not improve from 0.86932\n",
      "11/11 [==============================] - 0s 5ms/step - loss: 0.4262 - accuracy: 0.7991 - val_loss: 0.4154 - val_accuracy: 0.8693\n",
      "Epoch 21/100\n",
      " 1/11 [=>............................] - ETA: 0s - loss: 0.4097 - accuracy: 0.7812\n",
      "Epoch 21: val_accuracy did not improve from 0.86932\n",
      "11/11 [==============================] - 0s 5ms/step - loss: 0.4262 - accuracy: 0.8077 - val_loss: 0.5616 - val_accuracy: 0.6932\n",
      "Epoch 22/100\n",
      " 1/11 [=>............................] - ETA: 0s - loss: 0.4145 - accuracy: 0.8281\n",
      "Epoch 22: val_accuracy did not improve from 0.86932\n",
      "11/11 [==============================] - 0s 5ms/step - loss: 0.4181 - accuracy: 0.8162 - val_loss: 0.4695 - val_accuracy: 0.7614\n",
      "Epoch 23/100\n",
      " 1/11 [=>............................] - ETA: 0s - loss: 0.3631 - accuracy: 0.8438\n",
      "Epoch 23: val_accuracy did not improve from 0.86932\n",
      "11/11 [==============================] - 0s 5ms/step - loss: 0.4125 - accuracy: 0.8248 - val_loss: 0.4379 - val_accuracy: 0.7273\n",
      "Epoch 24/100\n",
      " 1/11 [=>............................] - ETA: 0s - loss: 0.4066 - accuracy: 0.7656\n",
      "Epoch 24: val_accuracy did not improve from 0.86932\n",
      "11/11 [==============================] - 0s 5ms/step - loss: 0.4187 - accuracy: 0.8020 - val_loss: 0.4189 - val_accuracy: 0.8125\n",
      "Epoch 25/100\n",
      " 1/11 [=>............................] - ETA: 0s - loss: 0.4299 - accuracy: 0.7344\n",
      "Epoch 25: val_accuracy did not improve from 0.86932\n",
      "11/11 [==============================] - 0s 5ms/step - loss: 0.4096 - accuracy: 0.8120 - val_loss: 0.6382 - val_accuracy: 0.6420\n",
      "Epoch 26/100\n",
      " 1/11 [=>............................] - ETA: 0s - loss: 0.2029 - accuracy: 0.9062\n",
      "Epoch 26: val_accuracy improved from 0.86932 to 0.88636, saving model to titanic_model.h5\n",
      "11/11 [==============================] - 0s 14ms/step - loss: 0.4328 - accuracy: 0.8063 - val_loss: 0.3543 - val_accuracy: 0.8864\n",
      "Epoch 27/100\n",
      " 1/11 [=>............................] - ETA: 0s - loss: 0.4688 - accuracy: 0.7344\n",
      "Epoch 27: val_accuracy did not improve from 0.88636\n",
      "11/11 [==============================] - 0s 7ms/step - loss: 0.4187 - accuracy: 0.8091 - val_loss: 0.3795 - val_accuracy: 0.8636\n",
      "Epoch 28/100\n",
      " 1/11 [=>............................] - ETA: 0s - loss: 0.3907 - accuracy: 0.8125\n",
      "Epoch 28: val_accuracy did not improve from 0.88636\n",
      "11/11 [==============================] - 0s 6ms/step - loss: 0.3908 - accuracy: 0.8219 - val_loss: 0.4446 - val_accuracy: 0.7670\n",
      "Epoch 29/100\n",
      " 1/11 [=>............................] - ETA: 0s - loss: 0.4239 - accuracy: 0.7656\n",
      "Epoch 29: val_accuracy did not improve from 0.88636\n",
      "11/11 [==============================] - 0s 7ms/step - loss: 0.4052 - accuracy: 0.8091 - val_loss: 0.3979 - val_accuracy: 0.8580\n",
      "Epoch 30/100\n",
      " 1/11 [=>............................] - ETA: 0s - loss: 0.4327 - accuracy: 0.7969\n",
      "Epoch 30: val_accuracy did not improve from 0.88636\n",
      "11/11 [==============================] - 0s 7ms/step - loss: 0.4137 - accuracy: 0.8105 - val_loss: 0.5124 - val_accuracy: 0.7898\n",
      "Epoch 31/100\n",
      " 1/11 [=>............................] - ETA: 0s - loss: 0.5102 - accuracy: 0.7656\n",
      "Epoch 31: val_accuracy did not improve from 0.88636\n",
      "11/11 [==============================] - 0s 7ms/step - loss: 0.4364 - accuracy: 0.8048 - val_loss: 0.4026 - val_accuracy: 0.8523\n",
      "Epoch 32/100\n",
      "11/11 [==============================] - ETA: 0s - loss: 0.3958 - accuracy: 0.8219\n",
      "Epoch 32: val_accuracy did not improve from 0.88636\n",
      "11/11 [==============================] - 0s 8ms/step - loss: 0.3958 - accuracy: 0.8219 - val_loss: 0.5760 - val_accuracy: 0.6989\n",
      "Epoch 33/100\n",
      " 1/11 [=>............................] - ETA: 0s - loss: 0.5135 - accuracy: 0.7656\n",
      "Epoch 33: val_accuracy did not improve from 0.88636\n",
      "11/11 [==============================] - 0s 6ms/step - loss: 0.4243 - accuracy: 0.8162 - val_loss: 0.3241 - val_accuracy: 0.8693\n",
      "Epoch 34/100\n",
      " 1/11 [=>............................] - ETA: 0s - loss: 0.4231 - accuracy: 0.7969\n",
      "Epoch 34: val_accuracy did not improve from 0.88636\n",
      "11/11 [==============================] - 0s 7ms/step - loss: 0.4025 - accuracy: 0.8162 - val_loss: 0.3852 - val_accuracy: 0.8693\n",
      "Epoch 35/100\n",
      " 1/11 [=>............................] - ETA: 0s - loss: 0.3464 - accuracy: 0.8125\n",
      "Epoch 35: val_accuracy did not improve from 0.88636\n",
      "11/11 [==============================] - 0s 7ms/step - loss: 0.4053 - accuracy: 0.8148 - val_loss: 0.5303 - val_accuracy: 0.6420\n",
      "Epoch 36/100\n",
      " 1/11 [=>............................] - ETA: 0s - loss: 0.3844 - accuracy: 0.8125\n",
      "Epoch 36: val_accuracy did not improve from 0.88636\n",
      "11/11 [==============================] - 0s 6ms/step - loss: 0.3965 - accuracy: 0.8248 - val_loss: 0.3889 - val_accuracy: 0.8068\n",
      "Epoch 37/100\n",
      " 1/11 [=>............................] - ETA: 0s - loss: 0.3066 - accuracy: 0.8906\n",
      "Epoch 37: val_accuracy did not improve from 0.88636\n",
      "11/11 [==============================] - 0s 6ms/step - loss: 0.4170 - accuracy: 0.8177 - val_loss: 0.3103 - val_accuracy: 0.8693\n",
      "Epoch 38/100\n",
      " 1/11 [=>............................] - ETA: 0s - loss: 0.3679 - accuracy: 0.8438\n",
      "Epoch 38: val_accuracy did not improve from 0.88636\n",
      "11/11 [==============================] - 0s 6ms/step - loss: 0.3960 - accuracy: 0.8348 - val_loss: 0.3651 - val_accuracy: 0.8750\n",
      "Epoch 39/100\n",
      " 1/11 [=>............................] - ETA: 0s - loss: 0.4601 - accuracy: 0.7656\n",
      "Epoch 39: val_accuracy did not improve from 0.88636\n",
      "11/11 [==============================] - 0s 5ms/step - loss: 0.4424 - accuracy: 0.7977 - val_loss: 0.3303 - val_accuracy: 0.8693\n",
      "Epoch 40/100\n",
      " 1/11 [=>............................] - ETA: 0s - loss: 0.3766 - accuracy: 0.8594\n",
      "Epoch 40: val_accuracy did not improve from 0.88636\n",
      "11/11 [==============================] - 0s 7ms/step - loss: 0.4011 - accuracy: 0.8191 - val_loss: 0.3466 - val_accuracy: 0.8693\n",
      "Epoch 41/100\n",
      " 1/11 [=>............................] - ETA: 0s - loss: 0.4338 - accuracy: 0.7656Restoring model weights from the end of the best epoch: 26.\n",
      "\n",
      "Epoch 41: val_accuracy did not improve from 0.88636\n",
      "11/11 [==============================] - 0s 8ms/step - loss: 0.3917 - accuracy: 0.8291 - val_loss: 0.3214 - val_accuracy: 0.8807\n",
      "Epoch 41: early stopping\n"
     ]
    }
   ],
   "source": [
    "history=titanic_model.fit(X_train, y_train, epochs=100,validation_split=0.2, batch_size=64, verbose=1,callbacks=[m_loss,save_checkpoint])"
   ]
  },
  {
   "cell_type": "code",
   "execution_count": 186,
   "metadata": {},
   "outputs": [
    {
     "data": {
      "image/png": "[encoded data removed]",
      "text/plain": [
       "<Figure size 1000x600 with 1 Axes>"
      ]
     },
     "metadata": {},
     "output_type": "display_data"
    }
   ],
   "source": [
    "dfh = pd.DataFrame(history.history)\n",
    "plt.figure(figsize=(10, 6))\n",
    "plt.title('Titanic Survival Classification Model History')\n",
    "plt.plot(dfh)\n",
    "plt.xlabel('epochs')\n",
    "plt.legend(dfh.columns)\n",
    "plt.show()"
   ]
  },
  {
   "cell_type": "code",
   "execution_count": 187,
   "metadata": {},
   "outputs": [
    {
     "name": "stdout",
     "output_type": "stream",
     "text": [
      "Evaluate titanic_model against trained data\n",
      "score accuracy: 80.98%\n",
      "Evaluate titanic_model against test data\n",
      "score accuracy: 76.54%\n"
     ]
    }
   ],
   "source": [
    "print(\"Evaluate titanic_model against trained data\")\n",
    "score = titanic_model.evaluate(X_train, y_train, verbose=0)\n",
    "print(\"score %s: %.2f%%\" % (titanic_model.metrics_names[1], score[1]*100))\n",
    "\n",
    "print(\"Evaluate titanic_model against test data\")\n",
    "score = titanic_model.evaluate(X_test, y_test, verbose=0)\n",
    "print(\"score %s: %.2f%%\" % (titanic_model.metrics_names[1], score[1]*100))"
   ]
  },
  {
   "cell_type": "code",
   "execution_count": 188,
   "metadata": {},
   "outputs": [
    {
     "name": "stdout",
     "output_type": "stream",
     "text": [
      "6/6 [==============================] - 0s 2ms/step\n"
     ]
    }
   ],
   "source": [
    "y_pred = titanic_model.predict(X_test)"
   ]
  },
  {
   "cell_type": "code",
   "execution_count": 189,
   "metadata": {},
   "outputs": [
    {
     "name": "stdout",
     "output_type": "stream",
     "text": [
      "6/6 [==============================] - 0s 2ms/step\n",
      "[0.22 0.21 0.23 0.18 0.71 0.55 0.73 0.49 0.79 0.32 0.25 0.23 0.54 0.49\n",
      " 0.48 0.26 0.5  0.18 0.2  0.74 0.18 0.79 0.17 0.55 0.17 0.99 0.25 0.54\n",
      " 0.21 0.25 0.16 0.99 0.23 0.18 0.25 0.32 0.33 0.22 0.25 0.68 0.52 1.\n",
      " 0.24 0.74 0.78 0.19 0.19 0.51 0.91 0.85 0.99 0.54 0.71 0.27 0.88 0.18\n",
      " 0.19 0.5  0.57 0.5  0.65 0.67 0.2  0.35 0.74 0.53 0.99 0.18 0.5  0.27\n",
      " 0.94 0.21 0.66 1.   0.27 0.2  0.16 0.17 0.16 0.34 0.47 0.2  0.24 0.18\n",
      " 0.74 0.72 0.23 0.56 0.54 0.97 0.57 0.57 0.13 0.18 0.77 0.88 0.57 0.25\n",
      " 0.16 0.01 0.5  0.74 0.72 0.9  0.18 0.57 0.28 0.18 0.2  0.82 0.25 0.05\n",
      " 0.18 0.65 0.87 0.25 0.31 0.21 0.2  0.5  0.18 0.62 0.14 0.27 0.2  0.4\n",
      " 0.71 0.55 0.18 0.52 0.5  0.17 0.71 0.23 0.72 0.2  1.   0.25 0.71 0.18\n",
      " 0.7  0.22 1.   0.68 0.23 0.62 0.18 0.34 0.8  0.88 0.17 0.38 0.74 0.64\n",
      " 0.5  0.57 0.27 0.2  0.5  0.87 0.67 0.96 0.71 0.98 0.99 0.57 0.17 0.5\n",
      " 0.76 0.56 0.15 0.21 0.55 0.26 0.78 0.19 0.26 0.82 0.3 ]\n"
     ]
    }
   ],
   "source": [
    "# extract the predicted probabilities\n",
    "p_pred = titanic_model.predict(X_test)\n",
    "p_pred = p_pred.flatten()\n",
    "print(p_pred.round(2))"
   ]
  },
  {
   "cell_type": "code",
   "execution_count": 190,
   "metadata": {},
   "outputs": [
    {
     "name": "stdout",
     "output_type": "stream",
     "text": [
      "[0 0 0 0 1 1 1 0 1 0 0 0 1 0 0 0 1 0 0 1 0 1 0 1 0 1 0 1 0 0 0 1 0 0 0 0 0\n",
      " 0 0 1 1 1 0 1 1 0 0 1 1 1 1 1 1 0 1 0 0 0 1 0 1 1 0 0 1 1 1 0 1 0 1 0 1 1\n",
      " 0 0 0 0 0 0 0 0 0 0 1 1 0 1 1 1 1 1 0 0 1 1 1 0 0 0 0 1 1 1 0 1 0 0 0 1 0\n",
      " 0 0 1 1 0 0 0 0 0 0 1 0 0 0 0 1 1 0 1 1 0 1 0 1 0 1 0 1 0 1 0 1 1 0 1 0 0\n",
      " 1 1 0 0 1 1 1 1 0 0 0 1 1 1 1 1 1 1 0 1 1 1 0 0 1 0 1 0 0 1 0]\n"
     ]
    }
   ],
   "source": [
    "y_pred = np.where(p_pred > 0.5, 1, 0)\n",
    "print(y_pred)"
   ]
  },
  {
   "cell_type": "code",
   "execution_count": 191,
   "metadata": {},
   "outputs": [
    {
     "data": {
      "text/plain": [
       "array([[82, 28],\n",
       "       [14, 55]], dtype=int64)"
      ]
     },
     "execution_count": 191,
     "metadata": {},
     "output_type": "execute_result"
    }
   ],
   "source": [
    "cm = confusion_matrix(y_test, y_pred)\n",
    "cm"
   ]
  },
  {
   "cell_type": "code",
   "execution_count": 192,
   "metadata": {},
   "outputs": [
    {
     "data": {
      "text/plain": [
       "0.7653631284916201"
      ]
     },
     "execution_count": 192,
     "metadata": {},
     "output_type": "execute_result"
    }
   ],
   "source": [
    "cnn_accuracy = (82+55)/(82+55+14+28)\n",
    "cnn_accuracy"
   ]
  },
  {
   "cell_type": "code",
   "execution_count": 193,
   "metadata": {},
   "outputs": [
    {
     "data": {
      "text/plain": [
       "0.6626506024096386"
      ]
     },
     "execution_count": 193,
     "metadata": {},
     "output_type": "execute_result"
    }
   ],
   "source": [
    "# precision\n",
    "cnn_pre = precision_score(y_test, y_pred)\n",
    "cnn_pre"
   ]
  },
  {
   "cell_type": "code",
   "execution_count": 194,
   "metadata": {},
   "outputs": [
    {
     "data": {
      "text/plain": [
       "0.7971014492753623"
      ]
     },
     "execution_count": 194,
     "metadata": {},
     "output_type": "execute_result"
    }
   ],
   "source": [
    "# recall\n",
    "cnn_rec = recall_score(y_test, y_pred)\n",
    "cnn_rec"
   ]
  },
  {
   "cell_type": "markdown",
   "metadata": {},
   "source": [
    "lgbm"
   ]
  },
  {
   "cell_type": "code",
   "execution_count": 242,
   "metadata": {},
   "outputs": [
    {
     "data": {
      "text/html": [
       "<style>#sk-container-id-9 {color: black;background-color: white;}#sk-container-id-9 pre{padding: 0;}#sk-container-id-9 div.sk-toggleable {background-color: white;}#sk-container-id-9 label.sk-toggleable__label {cursor: pointer;display: block;width: 100%;margin-bottom: 0;padding: 0.3em;box-sizing: border-box;text-align: center;}#sk-container-id-9 label.sk-toggleable__label-arrow:before {content: \"▸\";float: left;margin-right: 0.25em;color: #696969;}#sk-container-id-9 label.sk-toggleable__label-arrow:hover:before {color: black;}#sk-container-id-9 div.sk-estimator:hover label.sk-toggleable__label-arrow:before {color: black;}#sk-container-id-9 div.sk-toggleable__content {max-height: 0;max-width: 0;overflow: hidden;text-align: left;background-color: #f0f8ff;}#sk-container-id-9 div.sk-toggleable__content pre {margin: 0.2em;color: black;border-radius: 0.25em;background-color: #f0f8ff;}#sk-container-id-9 input.sk-toggleable__control:checked~div.sk-toggleable__content {max-height: 200px;max-width: 100%;overflow: auto;}#sk-container-id-9 input.sk-toggleable__control:checked~label.sk-toggleable__label-arrow:before {content: \"▾\";}#sk-container-id-9 div.sk-estimator input.sk-toggleable__control:checked~label.sk-toggleable__label {background-color: #d4ebff;}#sk-container-id-9 div.sk-label input.sk-toggleable__control:checked~label.sk-toggleable__label {background-color: #d4ebff;}#sk-container-id-9 input.sk-hidden--visually {border: 0;clip: rect(1px 1px 1px 1px);clip: rect(1px, 1px, 1px, 1px);height: 1px;margin: -1px;overflow: hidden;padding: 0;position: absolute;width: 1px;}#sk-container-id-9 div.sk-estimator {font-family: monospace;background-color: #f0f8ff;border: 1px dotted black;border-radius: 0.25em;box-sizing: border-box;margin-bottom: 0.5em;}#sk-container-id-9 div.sk-estimator:hover {background-color: #d4ebff;}#sk-container-id-9 div.sk-parallel-item::after {content: \"\";width: 100%;border-bottom: 1px solid gray;flex-grow: 1;}#sk-container-id-9 div.sk-label:hover label.sk-toggleable__label {background-color: #d4ebff;}#sk-container-id-9 div.sk-serial::before {content: \"\";position: absolute;border-left: 1px solid gray;box-sizing: border-box;top: 0;bottom: 0;left: 50%;z-index: 0;}#sk-container-id-9 div.sk-serial {display: flex;flex-direction: column;align-items: center;background-color: white;padding-right: 0.2em;padding-left: 0.2em;position: relative;}#sk-container-id-9 div.sk-item {position: relative;z-index: 1;}#sk-container-id-9 div.sk-parallel {display: flex;align-items: stretch;justify-content: center;background-color: white;position: relative;}#sk-container-id-9 div.sk-item::before, #sk-container-id-9 div.sk-parallel-item::before {content: \"\";position: absolute;border-left: 1px solid gray;box-sizing: border-box;top: 0;bottom: 0;left: 50%;z-index: -1;}#sk-container-id-9 div.sk-parallel-item {display: flex;flex-direction: column;z-index: 1;position: relative;background-color: white;}#sk-container-id-9 div.sk-parallel-item:first-child::after {align-self: flex-end;width: 50%;}#sk-container-id-9 div.sk-parallel-item:last-child::after {align-self: flex-start;width: 50%;}#sk-container-id-9 div.sk-parallel-item:only-child::after {width: 0;}#sk-container-id-9 div.sk-dashed-wrapped {border: 1px dashed gray;margin: 0 0.4em 0.5em 0.4em;box-sizing: border-box;padding-bottom: 0.4em;background-color: white;}#sk-container-id-9 div.sk-label label {font-family: monospace;font-weight: bold;display: inline-block;line-height: 1.2em;}#sk-container-id-9 div.sk-label-container {text-align: center;}#sk-container-id-9 div.sk-container {/* jupyter's `normalize.less` sets `[hidden] { display: none; }` but bootstrap.min.css set `[hidden] { display: none !important; }` so we also need the `!important` here to be able to override the default hidden behavior on the sphinx rendered scikit-learn.org. See: https://github.com/scikit-learn/scikit-learn/issues/21755 */display: inline-block !important;position: relative;}#sk-container-id-9 div.sk-text-repr-fallback {display: none;}</style><div id=\"sk-container-id-9\" class=\"sk-top-container\"><div class=\"sk-text-repr-fallback\"><pre>LGBMClassifier()</pre><b>In a Jupyter environment, please rerun this cell to show the HTML representation or trust the notebook. <br />On GitHub, the HTML representation is unable to render, please try loading this page with nbviewer.org.</b></div><div class=\"sk-container\" hidden><div class=\"sk-item\"><div class=\"sk-estimator sk-toggleable\"><input class=\"sk-toggleable__control sk-hidden--visually\" id=\"sk-estimator-id-9\" type=\"checkbox\" checked><label for=\"sk-estimator-id-9\" class=\"sk-toggleable__label sk-toggleable__label-arrow\">LGBMClassifier</label><div class=\"sk-toggleable__content\"><pre>LGBMClassifier()</pre></div></div></div></div></div>"
      ],
      "text/plain": [
       "LGBMClassifier()"
      ]
     },
     "execution_count": 242,
     "metadata": {},
     "output_type": "execute_result"
    }
   ],
   "source": [
    "import lightgbm as lgb\n",
    "lgbm_clf = lgb.LGBMClassifier()\n",
    "lgbm_clf.fit(X_train, y_train)"
   ]
  },
  {
   "cell_type": "code",
   "execution_count": 390,
   "metadata": {},
   "outputs": [
    {
     "data": {
      "text/plain": [
       "{'boosting_type': 'gbdt',\n",
       " 'class_weight': None,\n",
       " 'colsample_bytree': 1.0,\n",
       " 'importance_type': 'split',\n",
       " 'learning_rate': 0.1,\n",
       " 'max_depth': -1,\n",
       " 'min_child_samples': 20,\n",
       " 'min_child_weight': 0.001,\n",
       " 'min_split_gain': 0.0,\n",
       " 'n_estimators': 100,\n",
       " 'n_jobs': -1,\n",
       " 'num_leaves': 31,\n",
       " 'objective': None,\n",
       " 'random_state': None,\n",
       " 'reg_alpha': 0.0,\n",
       " 'reg_lambda': 0.0,\n",
       " 'silent': 'warn',\n",
       " 'subsample': 1.0,\n",
       " 'subsample_for_bin': 200000,\n",
       " 'subsample_freq': 0}"
      ]
     },
     "execution_count": 390,
     "metadata": {},
     "output_type": "execute_result"
    }
   ],
   "source": [
    "lgbm_clf.get_params()"
   ]
  },
  {
   "cell_type": "code",
   "execution_count": 243,
   "metadata": {},
   "outputs": [
    {
     "name": "stdout",
     "output_type": "stream",
     "text": [
      "Training set score: 0.9658\n",
      "Test set score: 0.8101\n"
     ]
    }
   ],
   "source": [
    "#print the scores on training and test set\n",
    "\n",
    "print('Training set score: {:.4f}'.format(lgbm_clf.score(X_train, y_train)))\n",
    "\n",
    "print('Test set score: {:.4f}'.format(lgbm_clf.score(X_test, y_test)))"
   ]
  },
  {
   "cell_type": "code",
   "execution_count": 244,
   "metadata": {},
   "outputs": [],
   "source": [
    "y_pred=lgbm_clf.predict(X_test)"
   ]
  },
  {
   "cell_type": "code",
   "execution_count": 245,
   "metadata": {},
   "outputs": [
    {
     "data": {
      "text/plain": [
       "array([[94, 16],\n",
       "       [18, 51]], dtype=int64)"
      ]
     },
     "execution_count": 245,
     "metadata": {},
     "output_type": "execute_result"
    }
   ],
   "source": [
    "cm = confusion_matrix(y_test, y_pred)\n",
    "cm"
   ]
  },
  {
   "cell_type": "code",
   "execution_count": 246,
   "metadata": {},
   "outputs": [
    {
     "data": {
      "text/plain": [
       "0.8100558659217877"
      ]
     },
     "execution_count": 246,
     "metadata": {},
     "output_type": "execute_result"
    }
   ],
   "source": [
    "lgbm_accuracy = lgbm_clf.score(X_test, y_test)\n",
    "lgbm_accuracy"
   ]
  },
  {
   "cell_type": "code",
   "execution_count": 247,
   "metadata": {},
   "outputs": [
    {
     "data": {
      "text/plain": [
       "0.7611940298507462"
      ]
     },
     "execution_count": 247,
     "metadata": {},
     "output_type": "execute_result"
    }
   ],
   "source": [
    "# precision\n",
    "lgbm_pre = precision_score(y_test, y_pred)\n",
    "lgbm_pre"
   ]
  },
  {
   "cell_type": "code",
   "execution_count": 248,
   "metadata": {},
   "outputs": [
    {
     "data": {
      "text/plain": [
       "0.7391304347826086"
      ]
     },
     "execution_count": 248,
     "metadata": {},
     "output_type": "execute_result"
    }
   ],
   "source": [
    "# recall\n",
    "lgbm_rec = recall_score(y_test, y_pred)\n",
    "lgbm_rec"
   ]
  },
  {
   "cell_type": "markdown",
   "metadata": {},
   "source": [
    "Hyperparameter tuning"
   ]
  },
  {
   "cell_type": "markdown",
   "metadata": {},
   "source": [
    "XGB"
   ]
  },
  {
   "cell_type": "code",
   "execution_count": 320,
   "metadata": {},
   "outputs": [],
   "source": [
    "import xgboost as xgb\n",
    "from sklearn.metrics import accuracy_score, roc_auc_score\n",
    "# can change the range to get better results\n",
    "def objective(trial):\n",
    "    # Define the hyperparameters to optimize\n",
    "    param = {\n",
    "        'objective': 'binary:logistic',\n",
    "        'eval_metric': 'auc',\n",
    "        'reg_lambda': trial.suggest_float('reg_lambda', 1e-3, 1e2, log=True),\n",
    "        'learning_rate': trial.suggest_float('learning_rate', 1e-4, 1e0, log=True),\n",
    "        'n_estimators': trial.suggest_int('n_estimators', 50, 500, step=15),\n",
    "        'lambda': trial.suggest_float('lambda', 1e-8, 1.0),\n",
    "        'alpha': trial.suggest_float('alpha', 1e-8, 1.0),\n",
    "        'max_depth': trial.suggest_int('max_depth', 3, 12),\n",
    "        'eta': trial.suggest_float('eta', 1e-8, 1.0),\n",
    "        'gamma': trial.suggest_float('gamma', 1e-8, 1.0),\n",
    "        'subsample': trial.suggest_float('subsample', 0.1, 1.0),\n",
    "        'colsample_bytree': trial.suggest_float('colsample_bytree', 0.1, 1.0),\n",
    "        'min_child_weight': trial.suggest_int('min_child_weight', 1, 300),\n",
    "        'n_jobs': 6,\n",
    "        'random_state': 0\n",
    "    }\n",
    "\n",
    "    # Split the data into training and testing sets\n",
    "    # X_train, X_test, y_train, y_test = model_selection.train_test_split(X, y, test_size=0.2, random_state=0)\n",
    "\n",
    "    # Train the model\n",
    "    model = xgb.XGBClassifier(**param)\n",
    "    model.fit(X_train, y_train)\n",
    "\n",
    "    # Evaluate the model\n",
    "    y_pred = model.predict(X_test)\n",
    "    auc = roc_auc_score(y_test, y_pred)\n",
    "\n",
    "    return auc\n"
   ]
  },
  {
   "cell_type": "code",
   "execution_count": 321,
   "metadata": {},
   "outputs": [
    {
     "name": "stderr",
     "output_type": "stream",
     "text": [
      "\u001b[32m[I 2023-03-04 17:51:39,328]\u001b[0m A new study created in memory with name: XGB Classifier\u001b[0m\n",
      "\u001b[32m[I 2023-03-04 17:51:39,367]\u001b[0m Trial 0 finished with value: 0.5 and parameters: {'reg_lambda': 14.997103088543984, 'learning_rate': 0.00020169132580181106, 'n_estimators': 110, 'lambda': 0.18151034592757762, 'alpha': 0.7391892394890236, 'max_depth': 8, 'eta': 0.8135523620710978, 'gamma': 0.9672088163457866, 'subsample': 0.21489740586783335, 'colsample_bytree': 0.8540528603768499, 'min_child_weight': 294}. Best is trial 0 with value: 0.5.\u001b[0m\n",
      "\u001b[32m[I 2023-03-04 17:51:39,418]\u001b[0m Trial 1 finished with value: 0.5 and parameters: {'reg_lambda': 2.4807854572075634, 'learning_rate': 0.0005237512895964893, 'n_estimators': 200, 'lambda': 0.0891700973020384, 'alpha': 0.8180998684604843, 'max_depth': 8, 'eta': 0.8065762443817382, 'gamma': 0.9921396411411498, 'subsample': 0.16831087177948678, 'colsample_bytree': 0.6991362646804687, 'min_child_weight': 133}. Best is trial 0 with value: 0.5.\u001b[0m\n",
      "\u001b[32m[I 2023-03-04 17:51:39,458]\u001b[0m Trial 2 finished with value: 0.5 and parameters: {'reg_lambda': 1.4221723176010588, 'learning_rate': 0.001993299824977376, 'n_estimators': 125, 'lambda': 0.6382262567994843, 'alpha': 0.3577731501241979, 'max_depth': 5, 'eta': 0.3113723465197779, 'gamma': 0.043060803930465186, 'subsample': 0.6038422648829052, 'colsample_bytree': 0.7482818469457577, 'min_child_weight': 255}. Best is trial 0 with value: 0.5.\u001b[0m\n",
      "\u001b[32m[I 2023-03-04 17:51:39,511]\u001b[0m Trial 3 finished with value: 0.7266798418972332 and parameters: {'reg_lambda': 1.7770180982300048, 'learning_rate': 0.02430241237431975, 'n_estimators': 200, 'lambda': 0.15696829153940933, 'alpha': 0.9752075824874773, 'max_depth': 12, 'eta': 0.6676348179849088, 'gamma': 0.5733384514659315, 'subsample': 0.6182602477224228, 'colsample_bytree': 0.8066592199061031, 'min_child_weight': 59}. Best is trial 3 with value: 0.7266798418972332.\u001b[0m\n",
      "\u001b[32m[I 2023-03-04 17:51:39,595]\u001b[0m Trial 4 finished with value: 0.5 and parameters: {'reg_lambda': 0.23533133090002883, 'learning_rate': 0.00014079436975178718, 'n_estimators': 395, 'lambda': 0.8913431051719553, 'alpha': 0.3020814282507993, 'max_depth': 10, 'eta': 0.3218480257070996, 'gamma': 0.329279812722157, 'subsample': 0.5412399718823655, 'colsample_bytree': 0.38487233627953044, 'min_child_weight': 79}. Best is trial 3 with value: 0.7266798418972332.\u001b[0m\n",
      "\u001b[32m[I 2023-03-04 17:51:39,646]\u001b[0m Trial 5 finished with value: 0.5 and parameters: {'reg_lambda': 71.05970367449373, 'learning_rate': 0.008697671563728306, 'n_estimators': 170, 'lambda': 0.325049323330102, 'alpha': 0.6396595449969866, 'max_depth': 11, 'eta': 0.3466074019894226, 'gamma': 0.01294313611842117, 'subsample': 0.11327831631331281, 'colsample_bytree': 0.5515219769230375, 'min_child_weight': 69}. Best is trial 3 with value: 0.7266798418972332.\u001b[0m\n",
      "\u001b[32m[I 2023-03-04 17:51:39,685]\u001b[0m Trial 6 finished with value: 0.5 and parameters: {'reg_lambda': 10.762915031059158, 'learning_rate': 0.04574553749634701, 'n_estimators': 140, 'lambda': 0.18799615024301444, 'alpha': 0.8066897818696467, 'max_depth': 5, 'eta': 0.9472345168330984, 'gamma': 0.697683766929027, 'subsample': 0.7289773586495096, 'colsample_bytree': 0.8323958257392304, 'min_child_weight': 293}. Best is trial 3 with value: 0.7266798418972332.\u001b[0m\n",
      "\u001b[32m[I 2023-03-04 17:51:39,725]\u001b[0m Trial 7 finished with value: 0.5 and parameters: {'reg_lambda': 0.031845498792276335, 'learning_rate': 0.0008644607948267526, 'n_estimators': 155, 'lambda': 0.2209151442809962, 'alpha': 0.5884331956182182, 'max_depth': 7, 'eta': 0.5958360722224871, 'gamma': 0.1181543140811264, 'subsample': 0.8194851159512253, 'colsample_bytree': 0.7046750777998245, 'min_child_weight': 286}. Best is trial 3 with value: 0.7266798418972332.\u001b[0m\n",
      "\u001b[32m[I 2023-03-04 17:51:39,799]\u001b[0m Trial 8 finished with value: 0.7660079051383399 and parameters: {'reg_lambda': 1.4113237416386748, 'learning_rate': 0.0001080822642843942, 'n_estimators': 215, 'lambda': 0.12995746311502326, 'alpha': 0.7440554292794681, 'max_depth': 5, 'eta': 0.04928941131102626, 'gamma': 0.5930634530789753, 'subsample': 0.4777401836659244, 'colsample_bytree': 0.8481917890909173, 'min_child_weight': 7}. Best is trial 8 with value: 0.7660079051383399.\u001b[0m\n",
      "\u001b[32m[I 2023-03-04 17:51:39,865]\u001b[0m Trial 9 finished with value: 0.6215415019762845 and parameters: {'reg_lambda': 0.1500628861892572, 'learning_rate': 0.03804525773322765, 'n_estimators': 260, 'lambda': 0.9208718100612745, 'alpha': 0.9148266209985915, 'max_depth': 11, 'eta': 0.45421052796925904, 'gamma': 0.24885891832313084, 'subsample': 0.5019395626341383, 'colsample_bytree': 0.5696545158569614, 'min_child_weight': 56}. Best is trial 8 with value: 0.7660079051383399.\u001b[0m\n",
      "\u001b[32m[I 2023-03-04 17:51:40,024]\u001b[0m Trial 10 finished with value: 0.7687088274044797 and parameters: {'reg_lambda': 0.002367166343737651, 'learning_rate': 0.2659741312836579, 'n_estimators': 425, 'lambda': 0.03589063032674891, 'alpha': 0.1081647162640123, 'max_depth': 3, 'eta': 0.00017382579639534101, 'gamma': 0.46565991464572365, 'subsample': 0.35378317887776806, 'colsample_bytree': 0.9396445808111361, 'min_child_weight': 10}. Best is trial 10 with value: 0.7687088274044797.\u001b[0m\n",
      "\u001b[32m[I 2023-03-04 17:51:40,162]\u001b[0m Trial 11 finished with value: 0.7397233201581028 and parameters: {'reg_lambda': 0.0012750975513170512, 'learning_rate': 0.6268736912198964, 'n_estimators': 500, 'lambda': 0.04135844086278535, 'alpha': 0.07751589948300386, 'max_depth': 3, 'eta': 0.03905418924194071, 'gamma': 0.4690081287064446, 'subsample': 0.3723179668604903, 'colsample_bytree': 0.9793967630063029, 'min_child_weight': 10}. Best is trial 10 with value: 0.7687088274044797.\u001b[0m\n",
      "\u001b[32m[I 2023-03-04 17:51:40,271]\u001b[0m Trial 12 finished with value: 0.7080368906455863 and parameters: {'reg_lambda': 0.0011553863210843787, 'learning_rate': 0.9003880989676998, 'n_estimators': 305, 'lambda': 0.005401375908491171, 'alpha': 0.002860618859113928, 'max_depth': 4, 'eta': 0.02665436271348734, 'gamma': 0.6252218313823721, 'subsample': 0.3268295349188056, 'colsample_bytree': 0.9860879232933537, 'min_child_weight': 17}. Best is trial 10 with value: 0.7687088274044797.\u001b[0m\n",
      "\u001b[32m[I 2023-03-04 17:51:40,373]\u001b[0m Trial 13 finished with value: 0.5 and parameters: {'reg_lambda': 0.01962059453046879, 'learning_rate': 0.184226779525775, 'n_estimators': 380, 'lambda': 0.3785705701351444, 'alpha': 0.4666561037226667, 'max_depth': 3, 'eta': 0.1392928770266552, 'gamma': 0.7510062904445863, 'subsample': 0.9872700675861423, 'colsample_bytree': 0.13678141416378864, 'min_child_weight': 203}. Best is trial 10 with value: 0.7687088274044797.\u001b[0m\n",
      "\u001b[32m[I 2023-03-04 17:51:40,433]\u001b[0m Trial 14 finished with value: 0.5 and parameters: {'reg_lambda': 0.012583110217664027, 'learning_rate': 0.00399084851582304, 'n_estimators': 50, 'lambda': 0.034073023190553484, 'alpha': 0.18177999520483035, 'max_depth': 6, 'eta': 0.17191367525799095, 'gamma': 0.4427935559575233, 'subsample': 0.40475931128849485, 'colsample_bytree': 0.9864678091778404, 'min_child_weight': 139}. Best is trial 10 with value: 0.7687088274044797.\u001b[0m\n",
      "\u001b[32m[I 2023-03-04 17:51:40,610]\u001b[0m Trial 15 finished with value: 0.7533596837944663 and parameters: {'reg_lambda': 0.08832796299107669, 'learning_rate': 0.00010648305590920212, 'n_estimators': 470, 'lambda': 0.32433683180027195, 'alpha': 0.5090068982492367, 'max_depth': 4, 'eta': 0.007133243309105719, 'gamma': 0.3901974294852546, 'subsample': 0.2483072062248383, 'colsample_bytree': 0.8939684205070121, 'min_child_weight': 3}. Best is trial 10 with value: 0.7687088274044797.\u001b[0m\n",
      "\u001b[32m[I 2023-03-04 17:51:40,699]\u001b[0m Trial 16 finished with value: 0.5 and parameters: {'reg_lambda': 0.5221432166813512, 'learning_rate': 0.0039251676815220985, 'n_estimators': 290, 'lambda': 0.5469692233851822, 'alpha': 0.2086288702782469, 'max_depth': 6, 'eta': 0.17598927752297233, 'gamma': 0.567897839157739, 'subsample': 0.4572740761123171, 'colsample_bytree': 0.89211487212872, 'min_child_weight': 116}. Best is trial 10 with value: 0.7687088274044797.\u001b[0m\n",
      "\u001b[32m[I 2023-03-04 17:51:40,797]\u001b[0m Trial 17 finished with value: 0.5 and parameters: {'reg_lambda': 0.00821413176646661, 'learning_rate': 0.1543355666003251, 'n_estimators': 365, 'lambda': 0.10985557858001806, 'alpha': 0.3895746110851484, 'max_depth': 3, 'eta': 0.1482688795815389, 'gamma': 0.24303130767779413, 'subsample': 0.32736805580504647, 'colsample_bytree': 0.6896502828793312, 'min_child_weight': 188}. Best is trial 10 with value: 0.7687088274044797.\u001b[0m\n",
      "\u001b[32m[I 2023-03-04 17:51:40,924]\u001b[0m Trial 18 finished with value: 0.7533596837944663 and parameters: {'reg_lambda': 0.05235068946789631, 'learning_rate': 0.0005499794929501798, 'n_estimators': 440, 'lambda': 0.2595797848400869, 'alpha': 0.632350916128807, 'max_depth': 5, 'eta': 0.00026144089294754397, 'gamma': 0.49374071055594065, 'subsample': 0.4255193944621102, 'colsample_bytree': 0.7954372126982151, 'min_child_weight': 36}. Best is trial 10 with value: 0.7687088274044797.\u001b[0m\n",
      "\u001b[32m[I 2023-03-04 17:51:41,019]\u001b[0m Trial 19 finished with value: 0.5 and parameters: {'reg_lambda': 0.0047766830651049625, 'learning_rate': 0.01279420462207265, 'n_estimators': 335, 'lambda': 0.0076705226229060175, 'alpha': 0.22413810504148357, 'max_depth': 4, 'eta': 0.2601959742115635, 'gamma': 0.7720715919330101, 'subsample': 0.28229713561233816, 'colsample_bytree': 0.925129148888449, 'min_child_weight': 96}. Best is trial 10 with value: 0.7687088274044797.\u001b[0m\n",
      "\u001b[32m[I 2023-03-04 17:51:41,097]\u001b[0m Trial 20 finished with value: 0.5 and parameters: {'reg_lambda': 0.06922097830715453, 'learning_rate': 0.001810849099716607, 'n_estimators': 245, 'lambda': 0.13697876013291332, 'alpha': 0.48699138209579995, 'max_depth': 7, 'eta': 0.10305106561168004, 'gamma': 0.38059037164837084, 'subsample': 0.4745928290067221, 'colsample_bytree': 0.6169068683912289, 'min_child_weight': 170}. Best is trial 10 with value: 0.7687088274044797.\u001b[0m\n",
      "\u001b[32m[I 2023-03-04 17:51:41,242]\u001b[0m Trial 21 finished with value: 0.7533596837944663 and parameters: {'reg_lambda': 0.08949389209392641, 'learning_rate': 0.00011214059310433524, 'n_estimators': 500, 'lambda': 0.28814212788878063, 'alpha': 0.5440704099310824, 'max_depth': 4, 'eta': 0.007451158532637836, 'gamma': 0.3962292151318292, 'subsample': 0.24069999817574328, 'colsample_bytree': 0.8922098357354586, 'min_child_weight': 11}. Best is trial 10 with value: 0.7687088274044797.\u001b[0m\n",
      "\u001b[32m[I 2023-03-04 17:51:41,365]\u001b[0m Trial 22 finished with value: 0.6810276679841897 and parameters: {'reg_lambda': 0.0043146917500304525, 'learning_rate': 0.0003662195388044598, 'n_estimators': 440, 'lambda': 0.36801159151773116, 'alpha': 0.41535867029324464, 'max_depth': 4, 'eta': 0.08891546978645125, 'gamma': 0.5242531029117093, 'subsample': 0.3048146145502913, 'colsample_bytree': 0.8978413147477543, 'min_child_weight': 36}. Best is trial 10 with value: 0.7687088274044797.\u001b[0m\n",
      "\u001b[32m[I 2023-03-04 17:51:41,557]\u001b[0m Trial 23 finished with value: 0.8013833992094862 and parameters: {'reg_lambda': 0.3542047361499149, 'learning_rate': 0.00023153457882538114, 'n_estimators': 455, 'lambda': 0.245987572953815, 'alpha': 0.6863636118272575, 'max_depth': 6, 'eta': 0.23116427617035293, 'gamma': 0.2918581994356068, 'subsample': 0.3841857600778451, 'colsample_bytree': 0.7924795674622797, 'min_child_weight': 2}. Best is trial 23 with value: 0.8013833992094862.\u001b[0m\n",
      "\u001b[32m[I 2023-03-04 17:51:41,688]\u001b[0m Trial 24 finished with value: 0.7533596837944663 and parameters: {'reg_lambda': 0.41360206957233114, 'learning_rate': 0.0002503832078843272, 'n_estimators': 440, 'lambda': 0.09604943079133865, 'alpha': 0.7212319699747849, 'max_depth': 6, 'eta': 0.22990325418853857, 'gamma': 0.2493964144604887, 'subsample': 0.3983189979564551, 'colsample_bytree': 0.7746980028831734, 'min_child_weight': 40}. Best is trial 23 with value: 0.8013833992094862.\u001b[0m\n",
      "\u001b[32m[I 2023-03-04 17:51:41,802]\u001b[0m Trial 25 finished with value: 0.5 and parameters: {'reg_lambda': 0.7172077077029977, 'learning_rate': 0.0002496860692946063, 'n_estimators': 410, 'lambda': 0.20263536702343538, 'alpha': 0.7069238593817362, 'max_depth': 5, 'eta': 0.11176456601691921, 'gamma': 0.32045842444561085, 'subsample': 0.36796701609865046, 'colsample_bytree': 0.8249239649286926, 'min_child_weight': 91}. Best is trial 23 with value: 0.8013833992094862.\u001b[0m\n",
      "\u001b[32m[I 2023-03-04 17:51:41,922]\u001b[0m Trial 26 finished with value: 0.7533596837944663 and parameters: {'reg_lambda': 0.14930248480801017, 'learning_rate': 0.0009004007035900731, 'n_estimators': 335, 'lambda': 0.08340976686805589, 'alpha': 0.5595598836831361, 'max_depth': 7, 'eta': 0.20931498325671377, 'gamma': 0.6361343719527957, 'subsample': 0.501521040062533, 'colsample_bytree': 0.7598168133770936, 'min_child_weight': 29}. Best is trial 23 with value: 0.8013833992094862.\u001b[0m\n",
      "\u001b[32m[I 2023-03-04 17:51:42,009]\u001b[0m Trial 27 finished with value: 0.5 and parameters: {'reg_lambda': 0.7553077663382728, 'learning_rate': 0.0002935367405056601, 'n_estimators': 230, 'lambda': 0.14051519955797998, 'alpha': 0.6432427931436582, 'max_depth': 9, 'eta': 0.07816488985556239, 'gamma': 0.4743272476233093, 'subsample': 0.34337016299145184, 'colsample_bytree': 0.9985946363019349, 'min_child_weight': 53}. Best is trial 23 with value: 0.8013833992094862.\u001b[0m\n",
      "\u001b[32m[I 2023-03-04 17:51:42,113]\u001b[0m Trial 28 finished with value: 0.5 and parameters: {'reg_lambda': 0.029420183836942438, 'learning_rate': 0.0009844325571548983, 'n_estimators': 335, 'lambda': 0.24893766955754948, 'alpha': 0.8438163435107994, 'max_depth': 6, 'eta': 0.25064052123215047, 'gamma': 0.5250542576441687, 'subsample': 0.45366113782544926, 'colsample_bytree': 0.9361732239537572, 'min_child_weight': 107}. Best is trial 23 with value: 0.8013833992094862.\u001b[0m\n",
      "\u001b[32m[I 2023-03-04 17:51:42,191]\u001b[0m Trial 29 finished with value: 0.7606060606060605 and parameters: {'reg_lambda': 4.285618027403674, 'learning_rate': 0.00019336927171169935, 'n_estimators': 80, 'lambda': 0.17938283866312055, 'alpha': 0.7500673031709642, 'max_depth': 3, 'eta': 0.08772118752009439, 'gamma': 0.16485369825361113, 'subsample': 0.25424837326030936, 'colsample_bytree': 0.855350639215956, 'min_child_weight': 2}. Best is trial 23 with value: 0.8013833992094862.\u001b[0m\n",
      "\u001b[32m[I 2023-03-04 17:51:42,326]\u001b[0m Trial 30 finished with value: 0.7077733860342557 and parameters: {'reg_lambda': 0.3622083497961753, 'learning_rate': 0.00010005972775725112, 'n_estimators': 410, 'lambda': 0.003054151482548159, 'alpha': 0.751356436099843, 'max_depth': 9, 'eta': 0.17025728305562896, 'gamma': 0.7595699255443504, 'subsample': 0.19157567125822117, 'colsample_bytree': 0.8462652663865906, 'min_child_weight': 24}. Best is trial 23 with value: 0.8013833992094862.\u001b[0m\n",
      "\u001b[32m[I 2023-03-04 17:51:42,387]\u001b[0m Trial 31 finished with value: 0.7533596837944663 and parameters: {'reg_lambda': 4.713945109996692, 'learning_rate': 0.00031246077033424314, 'n_estimators': 80, 'lambda': 0.19106318146324344, 'alpha': 0.6873904764919636, 'max_depth': 3, 'eta': 0.07735439290637473, 'gamma': 0.18603195886778917, 'subsample': 0.27742291101596006, 'colsample_bytree': 0.8570226110479142, 'min_child_weight': 7}. Best is trial 23 with value: 0.8013833992094862.\u001b[0m\n",
      "\u001b[32m[I 2023-03-04 17:51:42,457]\u001b[0m Trial 32 finished with value: 0.7533596837944663 and parameters: {'reg_lambda': 3.893650919097834, 'learning_rate': 0.00018899996318871054, 'n_estimators': 110, 'lambda': 0.08783944769085346, 'alpha': 0.7712523506210422, 'max_depth': 3, 'eta': 0.06051989887345708, 'gamma': 0.18109805407142354, 'subsample': 0.1775850640201137, 'colsample_bytree': 0.9348190366719, 'min_child_weight': 3}. Best is trial 23 with value: 0.8013833992094862.\u001b[0m\n",
      "\u001b[32m[I 2023-03-04 17:51:42,535]\u001b[0m Trial 33 finished with value: 0.5 and parameters: {'reg_lambda': 1.0360557168511442, 'learning_rate': 0.0001722026360795055, 'n_estimators': 185, 'lambda': 0.1528961701478361, 'alpha': 0.8500623793741224, 'max_depth': 5, 'eta': 0.1156596358298789, 'gamma': 0.3177436419508783, 'subsample': 0.2582420057196854, 'colsample_bytree': 0.7266318401329228, 'min_child_weight': 48}. Best is trial 23 with value: 0.8013833992094862.\u001b[0m\n",
      "\u001b[32m[I 2023-03-04 17:51:42,619]\u001b[0m Trial 34 finished with value: 0.5 and parameters: {'reg_lambda': 1.677678079474794, 'learning_rate': 0.0005389936523859572, 'n_estimators': 215, 'lambda': 0.07271674188218318, 'alpha': 0.7446538620880305, 'max_depth': 8, 'eta': 0.05932524894868338, 'gamma': 0.13810382936917764, 'subsample': 0.3966444690601947, 'colsample_bytree': 0.7986443187230899, 'min_child_weight': 223}. Best is trial 23 with value: 0.8013833992094862.\u001b[0m\n",
      "\u001b[32m[I 2023-03-04 17:51:42,681]\u001b[0m Trial 35 finished with value: 0.5 and parameters: {'reg_lambda': 0.23803016505484437, 'learning_rate': 0.00015870000633174932, 'n_estimators': 80, 'lambda': 0.2114729467143056, 'alpha': 0.8847139827839257, 'max_depth': 4, 'eta': 0.20880166351339996, 'gamma': 0.0955150623330626, 'subsample': 0.12511089771305894, 'colsample_bytree': 0.8571240739776427, 'min_child_weight': 78}. Best is trial 23 with value: 0.8013833992094862.\u001b[0m\n",
      "\u001b[32m[I 2023-03-04 17:51:42,744]\u001b[0m Trial 36 finished with value: 0.6805006587615283 and parameters: {'reg_lambda': 2.2213132462236533, 'learning_rate': 0.00039545367683382627, 'n_estimators': 50, 'lambda': 0.1379509355767145, 'alpha': 0.7908580114080018, 'max_depth': 5, 'eta': 0.2972041306961666, 'gamma': 0.04262000083282144, 'subsample': 0.22023897914574203, 'colsample_bytree': 0.6667603660891024, 'min_child_weight': 25}. Best is trial 23 with value: 0.8013833992094862.\u001b[0m\n",
      "\u001b[32m[I 2023-03-04 17:51:42,858]\u001b[0m Trial 37 finished with value: 0.5 and parameters: {'reg_lambda': 1.1477699973848603, 'learning_rate': 0.00020067830230200174, 'n_estimators': 470, 'lambda': 0.42934454890248475, 'alpha': 0.9796908123733101, 'max_depth': 6, 'eta': 0.36179130593283093, 'gamma': 0.43375476684861813, 'subsample': 0.547806228123703, 'colsample_bytree': 0.7723058921825131, 'min_child_weight': 66}. Best is trial 23 with value: 0.8013833992094862.\u001b[0m\n",
      "\u001b[32m[I 2023-03-04 17:51:42,932]\u001b[0m Trial 38 finished with value: 0.7533596837944663 and parameters: {'reg_lambda': 8.264771791989066, 'learning_rate': 0.0005789637974355171, 'n_estimators': 140, 'lambda': 0.2555651362292171, 'alpha': 0.6835425414861426, 'max_depth': 3, 'eta': 0.1300286362298011, 'gamma': 0.0014332472406973218, 'subsample': 0.5819515591839506, 'colsample_bytree': 0.7418439619923981, 'min_child_weight': 25}. Best is trial 23 with value: 0.8013833992094862.\u001b[0m\n",
      "\u001b[32m[I 2023-03-04 17:51:43,063]\u001b[0m Trial 39 finished with value: 0.7533596837944663 and parameters: {'reg_lambda': 21.631699971905363, 'learning_rate': 0.001505524575986999, 'n_estimators': 365, 'lambda': 0.17835760570888168, 'alpha': 0.5991132411071399, 'max_depth': 5, 'eta': 0.054292754817086016, 'gamma': 0.30398476385966156, 'subsample': 0.319983017848502, 'colsample_bytree': 0.8254878375907172, 'min_child_weight': 1}. Best is trial 23 with value: 0.8013833992094862.\u001b[0m\n",
      "\u001b[32m[I 2023-03-04 17:51:43,183]\u001b[0m Trial 40 finished with value: 0.5 and parameters: {'reg_lambda': 3.331026077729914, 'learning_rate': 0.00015893347390532104, 'n_estimators': 470, 'lambda': 0.29885846597016485, 'alpha': 0.7935991855649553, 'max_depth': 4, 'eta': 0.38752850720237764, 'gamma': 0.38528511466974313, 'subsample': 0.15645366295782445, 'colsample_bytree': 0.9363604813937025, 'min_child_weight': 47}. Best is trial 23 with value: 0.8013833992094862.\u001b[0m\n",
      "\u001b[32m[I 2023-03-04 17:51:43,364]\u001b[0m Trial 41 finished with value: 0.7715415019762846 and parameters: {'reg_lambda': 0.1559165476600547, 'learning_rate': 0.00011398865060817279, 'n_estimators': 470, 'lambda': 0.3136946558674496, 'alpha': 0.5169506363082176, 'max_depth': 4, 'eta': 0.014296463364054178, 'gamma': 0.3617773221536253, 'subsample': 0.21423054436877675, 'colsample_bytree': 0.8802916908191158, 'min_child_weight': 1}. Best is trial 23 with value: 0.8013833992094862.\u001b[0m\n",
      "\u001b[32m[I 2023-03-04 17:51:43,496]\u001b[0m Trial 42 finished with value: 0.7533596837944663 and parameters: {'reg_lambda': 0.20559670045682885, 'learning_rate': 0.0001048134408583489, 'n_estimators': 455, 'lambda': 0.24116666550406035, 'alpha': 0.30483729095778467, 'max_depth': 3, 'eta': 0.04227392523249152, 'gamma': 0.27235166342958056, 'subsample': 0.2027210472978664, 'colsample_bytree': 0.8748842098881315, 'min_child_weight': 20}. Best is trial 23 with value: 0.8013833992094862.\u001b[0m\n",
      "\u001b[32m[I 2023-03-04 17:51:43,618]\u001b[0m Trial 43 finished with value: 0.5 and parameters: {'reg_lambda': 1.7980376257773258, 'learning_rate': 0.00034839493899546274, 'n_estimators': 410, 'lambda': 0.056549481477099414, 'alpha': 0.6544800989929759, 'max_depth': 4, 'eta': 0.10383407647595265, 'gamma': 0.35343643144251574, 'subsample': 0.2819928752194779, 'colsample_bytree': 0.8025754236475742, 'min_child_weight': 64}. Best is trial 23 with value: 0.8013833992094862.\u001b[0m\n",
      "\u001b[32m[I 2023-03-04 17:51:43,804]\u001b[0m Trial 44 finished with value: 0.7533596837944663 and parameters: {'reg_lambda': 0.4513813694609877, 'learning_rate': 0.00021625383230207274, 'n_estimators': 500, 'lambda': 0.17441940622385538, 'alpha': 0.5879701273570508, 'max_depth': 5, 'eta': 0.17650152757108695, 'gamma': 0.21739735684632858, 'subsample': 0.3676639413371173, 'colsample_bytree': 0.9397861315442084, 'min_child_weight': 19}. Best is trial 23 with value: 0.8013833992094862.\u001b[0m\n",
      "\u001b[32m[I 2023-03-04 17:51:43,901]\u001b[0m Trial 45 finished with value: 0.7914361001317525 and parameters: {'reg_lambda': 0.9716082666192761, 'learning_rate': 0.00014584939634001558, 'n_estimators': 170, 'lambda': 0.11616940400364911, 'alpha': 0.4485938996151738, 'max_depth': 4, 'eta': 0.042100741247541894, 'gamma': 0.2894319223802963, 'subsample': 0.23113216107804802, 'colsample_bytree': 0.8443584536117623, 'min_child_weight': 1}. Best is trial 23 with value: 0.8013833992094862.\u001b[0m\n",
      "\u001b[32m[I 2023-03-04 17:51:43,988]\u001b[0m Trial 46 finished with value: 0.5 and parameters: {'reg_lambda': 0.7800678516882386, 'learning_rate': 0.00013571078402524158, 'n_estimators': 185, 'lambda': 0.12052724630505107, 'alpha': 0.41909112950368876, 'max_depth': 6, 'eta': 0.028608907345375946, 'gamma': 0.4317396887094258, 'subsample': 0.10609582398979767, 'colsample_bytree': 0.7316249256916942, 'min_child_weight': 266}. Best is trial 23 with value: 0.8013833992094862.\u001b[0m\n",
      "\u001b[32m[I 2023-03-04 17:51:44,074]\u001b[0m Trial 47 finished with value: 0.627931488801054 and parameters: {'reg_lambda': 0.16591056739191914, 'learning_rate': 0.00010095631091811053, 'n_estimators': 275, 'lambda': 0.06139150534419695, 'alpha': 0.46006718666361734, 'max_depth': 7, 'eta': 0.1473520122284328, 'gamma': 0.27909129064799737, 'subsample': 0.3505488231663832, 'colsample_bytree': 0.969671147973184, 'min_child_weight': 38}. Best is trial 23 with value: 0.8013833992094862.\u001b[0m\n",
      "\u001b[32m[I 2023-03-04 17:51:44,148]\u001b[0m Trial 48 finished with value: 0.7533596837944663 and parameters: {'reg_lambda': 0.24486455551316394, 'learning_rate': 0.0004517980522390838, 'n_estimators': 170, 'lambda': 0.21043163448315325, 'alpha': 0.3277163919934688, 'max_depth': 4, 'eta': 0.013751377950334718, 'gamma': 0.33186369624270257, 'subsample': 0.21600354820846335, 'colsample_bytree': 0.8219566448097045, 'min_child_weight': 13}. Best is trial 23 with value: 0.8013833992094862.\u001b[0m\n",
      "\u001b[32m[I 2023-03-04 17:51:44,226]\u001b[0m Trial 49 finished with value: 0.5 and parameters: {'reg_lambda': 1.2693625956473233, 'learning_rate': 0.0006619426116985777, 'n_estimators': 215, 'lambda': 0.048562339710897906, 'alpha': 0.255825318462792, 'max_depth': 12, 'eta': 0.2808244073596874, 'gamma': 0.3684603933198023, 'subsample': 0.4275293557648339, 'colsample_bytree': 0.9088392662582954, 'min_child_weight': 77}. Best is trial 23 with value: 0.8013833992094862.\u001b[0m\n",
      "\u001b[32m[I 2023-03-04 17:51:44,353]\u001b[0m Trial 50 finished with value: 0.5 and parameters: {'reg_lambda': 0.32523612808752694, 'learning_rate': 0.0002822359104217113, 'n_estimators': 485, 'lambda': 0.11605650781423815, 'alpha': 0.3705899104756146, 'max_depth': 5, 'eta': 0.001438151382455996, 'gamma': 0.41604555349290473, 'subsample': 0.2973260982458858, 'colsample_bytree': 0.863433573456537, 'min_child_weight': 55}. Best is trial 23 with value: 0.8013833992094862.\u001b[0m\n",
      "\u001b[32m[I 2023-03-04 17:51:44,436]\u001b[0m Trial 51 finished with value: 0.7533596837944663 and parameters: {'reg_lambda': 2.3651201852353085, 'learning_rate': 0.00015763441910759385, 'n_estimators': 140, 'lambda': 0.16332156904069733, 'alpha': 0.13028488493618628, 'max_depth': 3, 'eta': 0.06845440250761069, 'gamma': 0.28005091512341207, 'subsample': 0.2411598959665241, 'colsample_bytree': 0.8530394920658342, 'min_child_weight': 16}. Best is trial 23 with value: 0.8013833992094862.\u001b[0m\n",
      "\u001b[32m[I 2023-03-04 17:51:44,498]\u001b[0m Trial 52 finished with value: 0.7533596837944663 and parameters: {'reg_lambda': 0.6461204791451335, 'learning_rate': 0.0002183311300375092, 'n_estimators': 80, 'lambda': 0.27030484183531556, 'alpha': 0.5371852364782109, 'max_depth': 3, 'eta': 0.12206733166097067, 'gamma': 0.35713018429710375, 'subsample': 0.17048524342845786, 'colsample_bytree': 0.9668860013427867, 'min_child_weight': 4}. Best is trial 23 with value: 0.8013833992094862.\u001b[0m\n",
      "\u001b[32m[I 2023-03-04 17:51:44,573]\u001b[0m Trial 53 finished with value: 0.7624505928853755 and parameters: {'reg_lambda': 0.0020993478258557138, 'learning_rate': 0.0001420490707985547, 'n_estimators': 110, 'lambda': 0.3188979475237376, 'alpha': 0.731172975921978, 'max_depth': 4, 'eta': 0.049635679646699724, 'gamma': 0.21046301234392084, 'subsample': 0.3254289721463788, 'colsample_bytree': 0.9071080074282866, 'min_child_weight': 1}. Best is trial 23 with value: 0.8013833992094862.\u001b[0m\n",
      "\u001b[32m[I 2023-03-04 17:51:44,645]\u001b[0m Trial 54 finished with value: 0.6142951251646903 and parameters: {'reg_lambda': 0.0018093108774536106, 'learning_rate': 0.00013439475902517686, 'n_estimators': 125, 'lambda': 0.3633942782857708, 'alpha': 0.515123209914843, 'max_depth': 4, 'eta': 0.042906564497655036, 'gamma': 0.4377861301724183, 'subsample': 0.32130444807512665, 'colsample_bytree': 0.9151502356664885, 'min_child_weight': 35}. Best is trial 23 with value: 0.8013833992094862.\u001b[0m\n",
      "\u001b[32m[I 2023-03-04 17:51:44,715]\u001b[0m Trial 55 finished with value: 0.5 and parameters: {'reg_lambda': 0.0018169731886341237, 'learning_rate': 0.000422437432805327, 'n_estimators': 170, 'lambda': 0.3155323079620563, 'alpha': 0.6787003955407364, 'max_depth': 4, 'eta': 0.20622234731115446, 'gamma': 0.2125496318915793, 'subsample': 0.38858591563131356, 'colsample_bytree': 0.8900830012301604, 'min_child_weight': 160}. Best is trial 23 with value: 0.8013833992094862.\u001b[0m\n",
      "\u001b[32m[I 2023-03-04 17:51:44,781]\u001b[0m Trial 56 finished with value: 0.7533596837944663 and parameters: {'reg_lambda': 0.01938414426955824, 'learning_rate': 0.004873101738231413, 'n_estimators': 110, 'lambda': 0.21863169801187604, 'alpha': 0.45456962394301553, 'max_depth': 5, 'eta': 0.14749628616034777, 'gamma': 0.2395873029241311, 'subsample': 0.33306237503992187, 'colsample_bytree': 0.966665573540498, 'min_child_weight': 17}. Best is trial 23 with value: 0.8013833992094862.\u001b[0m\n",
      "\u001b[32m[I 2023-03-04 17:51:44,868]\u001b[0m Trial 57 finished with value: 0.5 and parameters: {'reg_lambda': 0.006412229624591184, 'learning_rate': 0.022223453925273143, 'n_estimators': 245, 'lambda': 0.3437239018691455, 'alpha': 0.6212152370744277, 'max_depth': 4, 'eta': 0.001488743253476199, 'gamma': 0.29493682962962486, 'subsample': 0.5071227412018865, 'colsample_bytree': 0.779184007204538, 'min_child_weight': 128}. Best is trial 23 with value: 0.8013833992094862.\u001b[0m\n",
      "\u001b[32m[I 2023-03-04 17:51:44,988]\u001b[0m Trial 58 finished with value: 0.6832015810276679 and parameters: {'reg_lambda': 0.0032386253811275702, 'learning_rate': 0.0002765581612076974, 'n_estimators': 425, 'lambda': 0.28083434174060884, 'alpha': 0.5633917092203743, 'max_depth': 6, 'eta': 0.04354661702516656, 'gamma': 0.33916295346401604, 'subsample': 0.41993484629611444, 'colsample_bytree': 0.8095916161848842, 'min_child_weight': 44}. Best is trial 23 with value: 0.8013833992094862.\u001b[0m\n",
      "\u001b[32m[I 2023-03-04 17:51:45,095]\u001b[0m Trial 59 finished with value: 0.7533596837944663 and parameters: {'reg_lambda': 0.008587602478655289, 'learning_rate': 0.06976987226241053, 'n_estimators': 200, 'lambda': 0.4135591416748129, 'alpha': 0.039750904777430096, 'max_depth': 5, 'eta': 0.09060055842148546, 'gamma': 0.4728812319318352, 'subsample': 0.34844001437474964, 'colsample_bytree': 0.9972092027357585, 'min_child_weight': 31}. Best is trial 23 with value: 0.8013833992094862.\u001b[0m\n",
      "\u001b[32m[I 2023-03-04 17:51:45,229]\u001b[0m Trial 60 finished with value: 0.7533596837944663 and parameters: {'reg_lambda': 0.10404680490545526, 'learning_rate': 0.00014643379073421214, 'n_estimators': 305, 'lambda': 0.026568755243983028, 'alpha': 0.715419725113228, 'max_depth': 4, 'eta': 0.17620012589941192, 'gamma': 0.5633495068966701, 'subsample': 0.27862232529119324, 'colsample_bytree': 0.8850629917085924, 'min_child_weight': 12}. Best is trial 23 with value: 0.8013833992094862.\u001b[0m\n",
      "\u001b[32m[I 2023-03-04 17:51:45,319]\u001b[0m Trial 61 finished with value: 0.7678524374176547 and parameters: {'reg_lambda': 0.039808966536691, 'learning_rate': 0.0002572315242948414, 'n_estimators': 95, 'lambda': 0.23921202083044443, 'alpha': 0.8114610194833595, 'max_depth': 3, 'eta': 0.09027435908401359, 'gamma': 0.15310652330270497, 'subsample': 0.2570155869015542, 'colsample_bytree': 0.8386310074392294, 'min_child_weight': 1}. Best is trial 23 with value: 0.8013833992094862.\u001b[0m\n",
      "\u001b[32m[I 2023-03-04 17:51:45,412]\u001b[0m Trial 62 finished with value: 0.7723978919631093 and parameters: {'reg_lambda': 0.011415664931781958, 'learning_rate': 0.0001268594035309674, 'n_estimators': 95, 'lambda': 0.10110154542737293, 'alpha': 0.8188767690046557, 'max_depth': 3, 'eta': 0.03800674761789004, 'gamma': 0.10338576478533502, 'subsample': 0.303407041151744, 'colsample_bytree': 0.8336861767969944, 'min_child_weight': 1}. Best is trial 23 with value: 0.8013833992094862.\u001b[0m\n",
      "\u001b[32m[I 2023-03-04 17:51:45,492]\u001b[0m Trial 63 finished with value: 0.6033596837944664 and parameters: {'reg_lambda': 0.06776617345171677, 'learning_rate': 0.00027954415872174116, 'n_estimators': 65, 'lambda': 0.08170910824768018, 'alpha': 0.8120425700852658, 'max_depth': 3, 'eta': 0.09722714633334244, 'gamma': 0.10067126469405902, 'subsample': 0.22481176164092087, 'colsample_bytree': 0.8270816098878851, 'min_child_weight': 28}. Best is trial 23 with value: 0.8013833992094862.\u001b[0m\n",
      "\u001b[32m[I 2023-03-04 17:51:45,602]\u001b[0m Trial 64 finished with value: 0.7533596837944663 and parameters: {'reg_lambda': 0.043401869409528865, 'learning_rate': 0.00011489175504972245, 'n_estimators': 155, 'lambda': 0.11527755803042909, 'alpha': 0.9343856742052409, 'max_depth': 3, 'eta': 0.02816185655576758, 'gamma': 0.09716117507544535, 'subsample': 0.3022306907697368, 'colsample_bytree': 0.7581367094248596, 'min_child_weight': 15}. Best is trial 23 with value: 0.8013833992094862.\u001b[0m\n",
      "\u001b[32m[I 2023-03-04 17:51:45,798]\u001b[0m Trial 65 finished with value: 0.7533596837944663 and parameters: {'reg_lambda': 0.03160081600218878, 'learning_rate': 0.00021529821964023512, 'n_estimators': 455, 'lambda': 0.14307317574835146, 'alpha': 0.8319157433985467, 'max_depth': 3, 'eta': 0.11877385383969921, 'gamma': 0.052739457590459504, 'subsample': 0.3693064684957292, 'colsample_bytree': 0.793688627063628, 'min_child_weight': 11}. Best is trial 23 with value: 0.8013833992094862.\u001b[0m\n",
      "\u001b[32m[I 2023-03-04 17:51:45,892]\u001b[0m Trial 66 finished with value: 0.5 and parameters: {'reg_lambda': 0.5099043747713569, 'learning_rate': 0.00033845486233507604, 'n_estimators': 95, 'lambda': 0.09504969835174303, 'alpha': 0.7794207914749588, 'max_depth': 3, 'eta': 0.07482601599028128, 'gamma': 0.14016651832656274, 'subsample': 0.14790039947426267, 'colsample_bytree': 0.8281155602121145, 'min_child_weight': 31}. Best is trial 23 with value: 0.8013833992094862.\u001b[0m\n",
      "\u001b[32m[I 2023-03-04 17:51:46,052]\u001b[0m Trial 67 finished with value: 0.7533596837944663 and parameters: {'reg_lambda': 0.11457994185313251, 'learning_rate': 0.0007124924114228558, 'n_estimators': 485, 'lambda': 0.02760422334118283, 'alpha': 0.8575404923698838, 'max_depth': 4, 'eta': 0.02816592091654968, 'gamma': 0.3928200770263628, 'subsample': 0.2582303257040246, 'colsample_bytree': 0.8823648377124069, 'min_child_weight': 11}. Best is trial 23 with value: 0.8013833992094862.\u001b[0m\n",
      "\u001b[32m[I 2023-03-04 17:51:46,156]\u001b[0m Trial 68 finished with value: 0.5 and parameters: {'reg_lambda': 0.018266035322465467, 'learning_rate': 0.00047115122055808433, 'n_estimators': 425, 'lambda': 0.23520608082060906, 'alpha': 0.8171770664193359, 'max_depth': 3, 'eta': 0.00261853872752036, 'gamma': 0.16047127587111426, 'subsample': 0.20169464134920476, 'colsample_bytree': 0.712459074377132, 'min_child_weight': 44}. Best is trial 23 with value: 0.8013833992094862.\u001b[0m\n",
      "\u001b[32m[I 2023-03-04 17:51:46,290]\u001b[0m Trial 69 finished with value: 0.7533596837944663 and parameters: {'reg_lambda': 0.010413136543115455, 'learning_rate': 0.00019401102864687414, 'n_estimators': 380, 'lambda': 0.1627938154261498, 'alpha': 0.4920073368764205, 'max_depth': 5, 'eta': 0.13990866444882782, 'gamma': 0.2609621136689402, 'subsample': 0.4576316112311419, 'colsample_bytree': 0.7560840948330744, 'min_child_weight': 22}. Best is trial 23 with value: 0.8013833992094862.\u001b[0m\n",
      "\u001b[32m[I 2023-03-04 17:51:46,376]\u001b[0m Trial 70 finished with value: 0.5 and parameters: {'reg_lambda': 0.012958782059929385, 'learning_rate': 0.4731764773439915, 'n_estimators': 125, 'lambda': 0.19551316519991496, 'alpha': 0.7668750870414802, 'max_depth': 11, 'eta': 0.076963410154085, 'gamma': 0.3137483085188636, 'subsample': 0.2655542273455261, 'colsample_bytree': 0.8434149505925447, 'min_child_weight': 211}. Best is trial 23 with value: 0.8013833992094862.\u001b[0m\n",
      "\u001b[32m[I 2023-03-04 17:51:46,463]\u001b[0m Trial 71 finished with value: 0.7760869565217392 and parameters: {'reg_lambda': 0.003496123663039338, 'learning_rate': 0.00013319454269987056, 'n_estimators': 95, 'lambda': 0.29985097092094287, 'alpha': 0.7232844905771498, 'max_depth': 4, 'eta': 0.05476175989897583, 'gamma': 0.20921067155986217, 'subsample': 0.30885210682327036, 'colsample_bytree': 0.9033042342838612, 'min_child_weight': 2}. Best is trial 23 with value: 0.8013833992094862.\u001b[0m\n",
      "\u001b[32m[I 2023-03-04 17:51:46,587]\u001b[0m Trial 72 finished with value: 0.7932806324110672 and parameters: {'reg_lambda': 0.004905639877767479, 'learning_rate': 0.00012534945616370874, 'n_estimators': 245, 'lambda': 0.2867827467178175, 'alpha': 0.6604634615218808, 'max_depth': 4, 'eta': 0.06075955441278136, 'gamma': 0.23163594792984638, 'subsample': 0.23624266460708293, 'colsample_bytree': 0.8698392251856951, 'min_child_weight': 2}. Best is trial 23 with value: 0.8013833992094862.\u001b[0m\n",
      "\u001b[32m[I 2023-03-04 17:51:46,660]\u001b[0m Trial 73 finished with value: 0.7579051383399209 and parameters: {'reg_lambda': 0.005599387989544546, 'learning_rate': 0.0001374897010933958, 'n_estimators': 95, 'lambda': 0.2717769740824288, 'alpha': 0.6704057975279252, 'max_depth': 3, 'eta': 0.11169081284251134, 'gamma': 0.1904370996964994, 'subsample': 0.23033912417498334, 'colsample_bytree': 0.9406337042342019, 'min_child_weight': 1}. Best is trial 23 with value: 0.8013833992094862.\u001b[0m\n",
      "\u001b[32m[I 2023-03-04 17:51:46,718]\u001b[0m Trial 74 finished with value: 0.7533596837944663 and parameters: {'reg_lambda': 0.0035147178645117344, 'learning_rate': 0.0002658960575572843, 'n_estimators': 50, 'lambda': 0.29763979869473645, 'alpha': 0.7130430859315844, 'max_depth': 4, 'eta': 0.06756433371326798, 'gamma': 0.23067755213886448, 'subsample': 0.19487199181808845, 'colsample_bytree': 0.8670738359523479, 'min_child_weight': 9}. Best is trial 23 with value: 0.8013833992094862.\u001b[0m\n",
      "\u001b[32m[I 2023-03-04 17:51:46,791]\u001b[0m Trial 75 finished with value: 0.7533596837944663 and parameters: {'reg_lambda': 0.0011591822343583603, 'learning_rate': 0.00018277539698538105, 'n_estimators': 65, 'lambda': 0.23602199072276447, 'alpha': 0.6555196810859871, 'max_depth': 3, 'eta': 0.09048132771436905, 'gamma': 0.26501174053466076, 'subsample': 0.29554864220422566, 'colsample_bytree': 0.9030397878618338, 'min_child_weight': 23}. Best is trial 23 with value: 0.8013833992094862.\u001b[0m\n",
      "\u001b[32m[I 2023-03-04 17:51:46,891]\u001b[0m Trial 76 finished with value: 0.7533596837944663 and parameters: {'reg_lambda': 0.006911294964517127, 'learning_rate': 0.00010072134192131953, 'n_estimators': 260, 'lambda': 0.25958329226868343, 'alpha': 0.6301082091676241, 'max_depth': 4, 'eta': 0.030572274271299008, 'gamma': 0.1931523246709725, 'subsample': 0.24427402185737085, 'colsample_bytree': 0.9549811476696664, 'min_child_weight': 8}. Best is trial 23 with value: 0.8013833992094862.\u001b[0m\n",
      "\u001b[32m[I 2023-03-04 17:51:46,954]\u001b[0m Trial 77 finished with value: 0.5 and parameters: {'reg_lambda': 0.004800944559806211, 'learning_rate': 0.00036675433071196596, 'n_estimators': 95, 'lambda': 0.3381044170102377, 'alpha': 0.6912956685807549, 'max_depth': 4, 'eta': 0.056782756606004486, 'gamma': 0.23073883907087284, 'subsample': 0.2647791603928317, 'colsample_bytree': 0.9189238153582194, 'min_child_weight': 35}. Best is trial 23 with value: 0.8013833992094862.\u001b[0m\n",
      "\u001b[32m[I 2023-03-04 17:51:47,022]\u001b[0m Trial 78 finished with value: 0.7032279314888011 and parameters: {'reg_lambda': 0.003027272868006771, 'learning_rate': 0.00024365321799044734, 'n_estimators': 140, 'lambda': 0.19155132181572665, 'alpha': 0.7442910699865359, 'max_depth': 8, 'eta': 0.02493263810037575, 'gamma': 0.15860474320980036, 'subsample': 0.18097682177168012, 'colsample_bytree': 0.7875321777912285, 'min_child_weight': 20}. Best is trial 23 with value: 0.8013833992094862.\u001b[0m\n",
      "\u001b[32m[I 2023-03-04 17:51:47,090]\u001b[0m Trial 79 finished with value: 0.5 and parameters: {'reg_lambda': 0.012865177850747155, 'learning_rate': 0.00012773285262862987, 'n_estimators': 125, 'lambda': 0.2290594357681112, 'alpha': 0.6110720726738724, 'max_depth': 3, 'eta': 0.15824279944166117, 'gamma': 0.30864569418141696, 'subsample': 0.3007892462062342, 'colsample_bytree': 0.8080207429541835, 'min_child_weight': 53}. Best is trial 23 with value: 0.8013833992094862.\u001b[0m\n",
      "\u001b[32m[I 2023-03-04 17:51:47,162]\u001b[0m Trial 80 finished with value: 0.5 and parameters: {'reg_lambda': 0.0040380671002226065, 'learning_rate': 0.00017766724952388436, 'n_estimators': 155, 'lambda': 0.1455523930844924, 'alpha': 0.577064347790483, 'max_depth': 4, 'eta': 0.12485707453406514, 'gamma': 0.24476553629615944, 'subsample': 0.21695688997821827, 'colsample_bytree': 0.8823543581631287, 'min_child_weight': 29}. Best is trial 23 with value: 0.8013833992094862.\u001b[0m\n",
      "\u001b[32m[I 2023-03-04 17:51:47,296]\u001b[0m Trial 81 finished with value: 0.7823451910408431 and parameters: {'reg_lambda': 0.3705651857823385, 'learning_rate': 0.00011964062483859026, 'n_estimators': 230, 'lambda': 0.1071302770551387, 'alpha': 0.7617165572205378, 'max_depth': 5, 'eta': 0.059793343900314426, 'gamma': 0.13322207593622198, 'subsample': 0.3458876453969594, 'colsample_bytree': 0.8499640803071756, 'min_child_weight': 1}. Best is trial 23 with value: 0.8013833992094862.\u001b[0m\n",
      "\u001b[32m[I 2023-03-04 17:51:47,410]\u001b[0m Trial 82 finished with value: 0.7533596837944663 and parameters: {'reg_lambda': 0.39533060274045984, 'learning_rate': 0.00013003049258401378, 'n_estimators': 230, 'lambda': 0.10411804528107896, 'alpha': 0.79327307996115, 'max_depth': 5, 'eta': 0.10013986001286401, 'gamma': 0.12803891907584225, 'subsample': 0.35039134799888705, 'colsample_bytree': 0.8400748424057316, 'min_child_weight': 8}. Best is trial 23 with value: 0.8013833992094862.\u001b[0m\n",
      "\u001b[32m[I 2023-03-04 17:51:47,520]\u001b[0m Trial 83 finished with value: 0.7624505928853755 and parameters: {'reg_lambda': 0.17766235565962532, 'learning_rate': 0.00016983825396973764, 'n_estimators': 275, 'lambda': 0.08049433135055001, 'alpha': 0.7660028928870939, 'max_depth': 4, 'eta': 0.051419524903102524, 'gamma': 0.1799327740131209, 'subsample': 0.27862622674593085, 'colsample_bytree': 0.9202006303490848, 'min_child_weight': 1}. Best is trial 23 with value: 0.8013833992094862.\u001b[0m\n",
      "\u001b[32m[I 2023-03-04 17:51:47,651]\u001b[0m Trial 84 finished with value: 0.7533596837944663 and parameters: {'reg_lambda': 0.27523988803827454, 'learning_rate': 0.00010010805757451175, 'n_estimators': 320, 'lambda': 0.06384639813858692, 'alpha': 0.7009986539599289, 'max_depth': 5, 'eta': 0.022186568367447326, 'gamma': 0.28951476601879567, 'subsample': 0.31957739910313526, 'colsample_bytree': 0.8624931981495412, 'min_child_weight': 15}. Best is trial 23 with value: 0.8013833992094862.\u001b[0m\n",
      "\u001b[32m[I 2023-03-04 17:51:47,772]\u001b[0m Trial 85 finished with value: 0.7533596837944663 and parameters: {'reg_lambda': 0.2983887874353062, 'learning_rate': 0.00022312834709305537, 'n_estimators': 455, 'lambda': 0.12306592491424595, 'alpha': 0.5901912775073113, 'max_depth': 6, 'eta': 0.07720872133108142, 'gamma': 0.11583375606895958, 'subsample': 0.24793708575260245, 'colsample_bytree': 0.840174171502885, 'min_child_weight': 23}. Best is trial 23 with value: 0.8013833992094862.\u001b[0m\n",
      "\u001b[32m[I 2023-03-04 17:51:47,884]\u001b[0m Trial 86 finished with value: 0.7533596837944663 and parameters: {'reg_lambda': 0.12470107652435299, 'learning_rate': 0.0003293500983588289, 'n_estimators': 245, 'lambda': 0.16731494581590367, 'alpha': 0.6599277022740372, 'max_depth': 7, 'eta': 0.19721330025935876, 'gamma': 0.20749503381838594, 'subsample': 0.3767180936527347, 'colsample_bytree': 0.8786053620689528, 'min_child_weight': 8}. Best is trial 23 with value: 0.8013833992094862.\u001b[0m\n",
      "\u001b[32m[I 2023-03-04 17:51:47,989]\u001b[0m Trial 87 finished with value: 0.7533596837944663 and parameters: {'reg_lambda': 0.0023613297331539795, 'learning_rate': 0.0001325168990266021, 'n_estimators': 185, 'lambda': 0.028023273784890057, 'alpha': 0.7233143517256923, 'max_depth': 3, 'eta': 0.13947599871114497, 'gamma': 0.06949443832036867, 'subsample': 0.14471709486045659, 'colsample_bytree': 0.9476745796088495, 'min_child_weight': 1}. Best is trial 23 with value: 0.8013833992094862.\u001b[0m\n",
      "\u001b[32m[I 2023-03-04 17:51:48,063]\u001b[0m Trial 88 finished with value: 0.5 and parameters: {'reg_lambda': 0.8994834769845511, 'learning_rate': 0.00016605920124465145, 'n_estimators': 65, 'lambda': 0.21196269145770735, 'alpha': 0.6306098370696636, 'max_depth': 4, 'eta': 0.00037390968873128594, 'gamma': 0.1496510149156782, 'subsample': 0.23434829280612415, 'colsample_bytree': 0.8130579959067954, 'min_child_weight': 38}. Best is trial 23 with value: 0.8013833992094862.\u001b[0m\n",
      "\u001b[32m[I 2023-03-04 17:51:48,156]\u001b[0m Trial 89 finished with value: 0.5 and parameters: {'reg_lambda': 0.5890394024284702, 'learning_rate': 0.00023202107360277457, 'n_estimators': 230, 'lambda': 0.0004299286775947264, 'alpha': 0.7446923686282405, 'max_depth': 3, 'eta': 0.05696995521821923, 'gamma': 0.337064165569095, 'subsample': 0.29299117798186586, 'colsample_bytree': 0.7734818847723575, 'min_child_weight': 180}. Best is trial 23 with value: 0.8013833992094862.\u001b[0m\n",
      "\u001b[32m[I 2023-03-04 17:51:48,325]\u001b[0m Trial 90 finished with value: 0.7533596837944663 and parameters: {'reg_lambda': 0.2034547185651023, 'learning_rate': 0.00012172022378538818, 'n_estimators': 485, 'lambda': 0.2912746555519096, 'alpha': 0.8283809105800204, 'max_depth': 5, 'eta': 0.10682180265714453, 'gamma': 0.25968007259538306, 'subsample': 0.314008509661977, 'colsample_bytree': 0.9739116873187353, 'min_child_weight': 17}. Best is trial 23 with value: 0.8013833992094862.\u001b[0m\n",
      "\u001b[32m[I 2023-03-04 17:51:48,447]\u001b[0m Trial 91 finished with value: 0.7533596837944663 and parameters: {'reg_lambda': 0.8068534166997291, 'learning_rate': 0.00011740880065533103, 'n_estimators': 215, 'lambda': 0.12861705781184787, 'alpha': 0.792474384064995, 'max_depth': 6, 'eta': 0.04326005125119269, 'gamma': 0.16068830251294772, 'subsample': 0.40851497401893233, 'colsample_bytree': 0.894776301797274, 'min_child_weight': 8}. Best is trial 23 with value: 0.8013833992094862.\u001b[0m\n",
      "\u001b[32m[I 2023-03-04 17:51:48,542]\u001b[0m Trial 92 finished with value: 0.7533596837944663 and parameters: {'reg_lambda': 1.3061474562866588, 'learning_rate': 0.00018497289991743716, 'n_estimators': 200, 'lambda': 0.1909844646086015, 'alpha': 0.8740115575291261, 'max_depth': 5, 'eta': 0.07830681666398231, 'gamma': 0.12587393831206964, 'subsample': 0.33803608112541184, 'colsample_bytree': 0.8501940153036526, 'min_child_weight': 28}. Best is trial 23 with value: 0.8013833992094862.\u001b[0m\n",
      "\u001b[32m[I 2023-03-04 17:51:48,652]\u001b[0m Trial 93 finished with value: 0.7533596837944663 and parameters: {'reg_lambda': 0.5243009111201352, 'learning_rate': 0.00016768322288958078, 'n_estimators': 260, 'lambda': 0.04622787296838322, 'alpha': 0.7030267956988175, 'max_depth': 4, 'eta': 0.021715856033678704, 'gamma': 0.2960639173613372, 'subsample': 0.3561037223270428, 'colsample_bytree': 0.9130551700274941, 'min_child_weight': 15}. Best is trial 23 with value: 0.8013833992094862.\u001b[0m\n",
      "\u001b[32m[I 2023-03-04 17:51:48,779]\u001b[0m Trial 94 finished with value: 0.7732542819499342 and parameters: {'reg_lambda': 0.0014818849945024083, 'learning_rate': 0.0003042795296934899, 'n_estimators': 260, 'lambda': 0.10294255079695372, 'alpha': 0.5291555760653472, 'max_depth': 4, 'eta': 0.03855019471608548, 'gamma': 0.3660715081918878, 'subsample': 0.38986443612477534, 'colsample_bytree': 0.8671660432603988, 'min_child_weight': 1}. Best is trial 23 with value: 0.8013833992094862.\u001b[0m\n",
      "\u001b[32m[I 2023-03-04 17:51:48,969]\u001b[0m Trial 95 finished with value: 0.7732542819499342 and parameters: {'reg_lambda': 0.0014743746737054721, 'learning_rate': 0.00042633889218697156, 'n_estimators': 470, 'lambda': 0.10487864379378069, 'alpha': 0.43841015141445194, 'max_depth': 4, 'eta': 0.06113492269781504, 'gamma': 0.3636784120613402, 'subsample': 0.3839689681432693, 'colsample_bytree': 0.8161174129791373, 'min_child_weight': 1}. Best is trial 23 with value: 0.8013833992094862.\u001b[0m\n",
      "\u001b[32m[I 2023-03-04 17:51:49,095]\u001b[0m Trial 96 finished with value: 0.5 and parameters: {'reg_lambda': 0.0014304385798239803, 'learning_rate': 0.00031045954585182616, 'n_estimators': 440, 'lambda': 0.08167594422613528, 'alpha': 0.5150628720652666, 'max_depth': 4, 'eta': 0.041468562779086914, 'gamma': 0.35836121596939846, 'subsample': 0.3891993397942068, 'colsample_bytree': 0.9324777341922301, 'min_child_weight': 243}. Best is trial 23 with value: 0.8013833992094862.\u001b[0m\n",
      "\u001b[32m[I 2023-03-04 17:51:49,197]\u001b[0m Trial 97 finished with value: 0.7533596837944663 and parameters: {'reg_lambda': 0.0011087096828213225, 'learning_rate': 0.00039472667814916787, 'n_estimators': 290, 'lambda': 0.10217092977817291, 'alpha': 0.4235410211770472, 'max_depth': 4, 'eta': 0.12249644148519989, 'gamma': 0.32801616964568786, 'subsample': 0.4423198444893174, 'colsample_bytree': 0.8700291711053159, 'min_child_weight': 21}. Best is trial 23 with value: 0.8013833992094862.\u001b[0m\n",
      "\u001b[32m[I 2023-03-04 17:51:49,364]\u001b[0m Trial 98 finished with value: 0.7606060606060605 and parameters: {'reg_lambda': 0.001500931533169519, 'learning_rate': 0.0001509835786512166, 'n_estimators': 500, 'lambda': 0.061305024361406606, 'alpha': 0.5312079663299383, 'max_depth': 5, 'eta': 0.16216085949958248, 'gamma': 0.38210963207744997, 'subsample': 0.4031724288577769, 'colsample_bytree': 0.7907906999334581, 'min_child_weight': 7}. Best is trial 23 with value: 0.8013833992094862.\u001b[0m\n",
      "\u001b[32m[I 2023-03-04 17:51:49,511]\u001b[0m Trial 99 finished with value: 0.7533596837944663 and parameters: {'reg_lambda': 0.0023795183185238078, 'learning_rate': 0.0005048758282553241, 'n_estimators': 470, 'lambda': 0.15719327468741554, 'alpha': 0.4878431023071316, 'max_depth': 4, 'eta': 0.021451321921895892, 'gamma': 0.4141922160579144, 'subsample': 0.376094490765036, 'colsample_bytree': 0.8242606865659857, 'min_child_weight': 16}. Best is trial 23 with value: 0.8013833992094862.\u001b[0m\n",
      "\u001b[32m[I 2023-03-04 17:51:49,643]\u001b[0m Trial 100 finished with value: 0.7533596837944663 and parameters: {'reg_lambda': 0.002814167910029267, 'learning_rate': 0.0002484390983011324, 'n_estimators': 425, 'lambda': 0.10115241686000148, 'alpha': 0.5492728439728587, 'max_depth': 4, 'eta': 0.054420340315408884, 'gamma': 0.3555103341421514, 'subsample': 0.3352497518879251, 'colsample_bytree': 0.8962174723855723, 'min_child_weight': 33}. Best is trial 23 with value: 0.8013833992094862.\u001b[0m\n",
      "\u001b[32m[I 2023-03-04 17:51:49,770]\u001b[0m Trial 101 finished with value: 0.7606060606060605 and parameters: {'reg_lambda': 0.004666224145691706, 'learning_rate': 0.00020485048637570373, 'n_estimators': 260, 'lambda': 0.13485160948299046, 'alpha': 0.44854699071758475, 'max_depth': 3, 'eta': 0.09543703311015794, 'gamma': 0.2684138809552686, 'subsample': 0.2795387387413335, 'colsample_bytree': 0.8396695360397368, 'min_child_weight': 6}. Best is trial 23 with value: 0.8013833992094862.\u001b[0m\n",
      "\u001b[32m[I 2023-03-04 17:51:49,926]\u001b[0m Trial 102 finished with value: 0.7841897233201581 and parameters: {'reg_lambda': 0.0019758492649712676, 'learning_rate': 0.00030330386219379313, 'n_estimators': 455, 'lambda': 0.25058726799332826, 'alpha': 0.5747312358138122, 'max_depth': 3, 'eta': 0.06592839548792852, 'gamma': 0.4086253344069049, 'subsample': 0.35018141112956136, 'colsample_bytree': 0.8184352768082086, 'min_child_weight': 3}. Best is trial 23 with value: 0.8013833992094862.\u001b[0m\n",
      "\u001b[32m[I 2023-03-04 17:51:50,074]\u001b[0m Trial 103 finished with value: 0.7533596837944663 and parameters: {'reg_lambda': 0.0016617212413226523, 'learning_rate': 0.00041485459867662204, 'n_estimators': 455, 'lambda': 0.3107367863910593, 'alpha': 0.5706817527499186, 'max_depth': 4, 'eta': 0.07138285035353918, 'gamma': 0.4146603591831321, 'subsample': 0.36185855392811983, 'colsample_bytree': 0.8649524825777831, 'min_child_weight': 12}. Best is trial 23 with value: 0.8013833992094862.\u001b[0m\n",
      "\u001b[32m[I 2023-03-04 17:51:50,191]\u001b[0m Trial 104 finished with value: 0.775098814229249 and parameters: {'reg_lambda': 0.001996530729744395, 'learning_rate': 0.00011693486223943116, 'n_estimators': 275, 'lambda': 0.26470813862362297, 'alpha': 0.4785533331059605, 'max_depth': 3, 'eta': 0.008795437446036725, 'gamma': 0.4530794517959371, 'subsample': 0.31654684465329097, 'colsample_bytree': 0.8083004249909977, 'min_child_weight': 1}. Best is trial 23 with value: 0.8013833992094862.\u001b[0m\n",
      "\u001b[32m[I 2023-03-04 17:51:50,298]\u001b[0m Trial 105 finished with value: 0.7533596837944663 and parameters: {'reg_lambda': 0.0019538680607558228, 'learning_rate': 0.00012463788411930403, 'n_estimators': 290, 'lambda': 0.2543889755305536, 'alpha': 0.5045136411657509, 'max_depth': 9, 'eta': 0.018944188584376607, 'gamma': 0.45437083674872836, 'subsample': 0.3210634739775601, 'colsample_bytree': 0.814342061576852, 'min_child_weight': 26}. Best is trial 23 with value: 0.8013833992094862.\u001b[0m\n",
      "\u001b[32m[I 2023-03-04 17:51:50,414]\u001b[0m Trial 106 finished with value: 0.7823451910408431 and parameters: {'reg_lambda': 0.0010065058594540546, 'learning_rate': 0.00015481952800107786, 'n_estimators': 245, 'lambda': 0.21063334627036845, 'alpha': 0.47647456949031014, 'max_depth': 4, 'eta': 0.06248239333681115, 'gamma': 0.40877541610976537, 'subsample': 0.3842892107452116, 'colsample_bytree': 0.7458433185629365, 'min_child_weight': 1}. Best is trial 23 with value: 0.8013833992094862.\u001b[0m\n",
      "\u001b[32m[I 2023-03-04 17:51:50,511]\u001b[0m Trial 107 finished with value: 0.5 and parameters: {'reg_lambda': 0.0010479771773414205, 'learning_rate': 0.0003135082925669956, 'n_estimators': 275, 'lambda': 0.2125186106528652, 'alpha': 0.5350062934222232, 'max_depth': 3, 'eta': 0.1415513970399546, 'gamma': 0.48562351010391014, 'subsample': 0.4160101547641479, 'colsample_bytree': 0.7728336412302745, 'min_child_weight': 143}. Best is trial 23 with value: 0.8013833992094862.\u001b[0m\n",
      "\u001b[32m[I 2023-03-04 17:51:50,642]\u001b[0m Trial 108 finished with value: 0.756060606060606 and parameters: {'reg_lambda': 0.001424161052809592, 'learning_rate': 0.00015307874136389225, 'n_estimators': 305, 'lambda': 0.2731155116580871, 'alpha': 0.4636855940501802, 'max_depth': 5, 'eta': 0.1098543761905551, 'gamma': 0.40422654791042584, 'subsample': 0.3903018807831608, 'colsample_bytree': 0.800644822227517, 'min_child_weight': 6}. Best is trial 23 with value: 0.8013833992094862.\u001b[0m\n",
      "\u001b[32m[I 2023-03-04 17:51:50,750]\u001b[0m Trial 109 finished with value: 0.6215415019762845 and parameters: {'reg_lambda': 0.0024498854876787643, 'learning_rate': 0.0002447571753969851, 'n_estimators': 230, 'lambda': 0.17612786464347785, 'alpha': 0.47424902733453816, 'max_depth': 3, 'eta': 0.06819014793181535, 'gamma': 0.37551029271902114, 'subsample': 0.34115264830535913, 'colsample_bytree': 0.7537241963513832, 'min_child_weight': 41}. Best is trial 23 with value: 0.8013833992094862.\u001b[0m\n",
      "\u001b[32m[I 2023-03-04 17:51:50,857]\u001b[0m Trial 110 finished with value: 0.7533596837944663 and parameters: {'reg_lambda': 0.0012893541043152322, 'learning_rate': 0.00020361675724819698, 'n_estimators': 245, 'lambda': 0.22571410852790758, 'alpha': 0.3944374387943749, 'max_depth': 4, 'eta': 0.044466218108309294, 'gamma': 0.3975529617056991, 'subsample': 0.4330736264089627, 'colsample_bytree': 0.7363904981016856, 'min_child_weight': 20}. Best is trial 23 with value: 0.8013833992094862.\u001b[0m\n",
      "\u001b[32m[I 2023-03-04 17:51:50,963]\u001b[0m Trial 111 finished with value: 0.7533596837944663 and parameters: {'reg_lambda': 0.0020068035520814957, 'learning_rate': 0.00010953159975512648, 'n_estimators': 260, 'lambda': 0.2543865417596315, 'alpha': 0.5119888144490087, 'max_depth': 4, 'eta': 0.012751768423464548, 'gamma': 0.34230655809637606, 'subsample': 0.303000024834228, 'colsample_bytree': 0.819668607388083, 'min_child_weight': 12}. Best is trial 23 with value: 0.8013833992094862.\u001b[0m\n",
      "\u001b[32m[I 2023-03-04 17:51:51,068]\u001b[0m Trial 112 finished with value: 0.7732542819499342 and parameters: {'reg_lambda': 0.0037771131157360686, 'learning_rate': 0.00014716696143154796, 'n_estimators': 230, 'lambda': 0.2926916461427373, 'alpha': 0.478941341105349, 'max_depth': 4, 'eta': 0.03637312044998762, 'gamma': 0.3744384231715828, 'subsample': 0.37965322161832427, 'colsample_bytree': 0.7856521839796081, 'min_child_weight': 1}. Best is trial 23 with value: 0.8013833992094862.\u001b[0m\n",
      "\u001b[32m[I 2023-03-04 17:51:51,175]\u001b[0m Trial 113 finished with value: 0.7732542819499342 and parameters: {'reg_lambda': 0.0034826278663138968, 'learning_rate': 0.0001591308260347485, 'n_estimators': 215, 'lambda': 0.29263251744932667, 'alpha': 0.49550847800050596, 'max_depth': 4, 'eta': 0.06310969020397714, 'gamma': 0.45205804055112375, 'subsample': 0.3824248029139983, 'colsample_bytree': 0.7693746409854865, 'min_child_weight': 1}. Best is trial 23 with value: 0.8013833992094862.\u001b[0m\n",
      "\u001b[32m[I 2023-03-04 17:51:51,281]\u001b[0m Trial 114 finished with value: 0.7542160737812911 and parameters: {'reg_lambda': 0.0037550015734572804, 'learning_rate': 0.00015279886679085393, 'n_estimators': 215, 'lambda': 0.2931032688169939, 'alpha': 0.4415684942616367, 'max_depth': 5, 'eta': 0.06542880372072665, 'gamma': 0.4468349874669942, 'subsample': 0.3821060273980594, 'colsample_bytree': 0.7917353670909916, 'min_child_weight': 7}. Best is trial 23 with value: 0.8013833992094862.\u001b[0m\n",
      "\u001b[32m[I 2023-03-04 17:51:51,392]\u001b[0m Trial 115 finished with value: 0.7533596837944663 and parameters: {'reg_lambda': 0.0010173805949554545, 'learning_rate': 0.00019963957218023108, 'n_estimators': 245, 'lambda': 0.33544912076954037, 'alpha': 0.48069510976751934, 'max_depth': 4, 'eta': 0.08935733867123069, 'gamma': 0.42464592321682554, 'subsample': 0.40650308694318205, 'colsample_bytree': 0.7727628838137882, 'min_child_weight': 14}. Best is trial 23 with value: 0.8013833992094862.\u001b[0m\n",
      "\u001b[32m[I 2023-03-04 17:51:51,490]\u001b[0m Trial 116 finished with value: 0.7533596837944663 and parameters: {'reg_lambda': 0.0026912138453418014, 'learning_rate': 0.0003114896390479115, 'n_estimators': 230, 'lambda': 0.26930733486048286, 'alpha': 0.4955340536310532, 'max_depth': 4, 'eta': 0.11906203027061839, 'gamma': 0.3740771892846189, 'subsample': 0.3577313796125139, 'colsample_bytree': 0.7215896296088663, 'min_child_weight': 20}. Best is trial 23 with value: 0.8013833992094862.\u001b[0m\n",
      "\u001b[32m[I 2023-03-04 17:51:51,605]\u001b[0m Trial 117 finished with value: 0.745981554677207 and parameters: {'reg_lambda': 0.003279363690437732, 'learning_rate': 0.00014989606257407917, 'n_estimators': 275, 'lambda': 0.35437758314724876, 'alpha': 0.44097230761242945, 'max_depth': 5, 'eta': 0.2364918766162514, 'gamma': 0.43527137738413046, 'subsample': 0.4227249243283048, 'colsample_bytree': 0.6785219067751751, 'min_child_weight': 6}. Best is trial 23 with value: 0.8013833992094862.\u001b[0m\n",
      "\u001b[32m[I 2023-03-04 17:51:51,708]\u001b[0m Trial 118 finished with value: 0.7533596837944663 and parameters: {'reg_lambda': 0.0014862587991854915, 'learning_rate': 0.00026175708093425457, 'n_estimators': 290, 'lambda': 0.38116227321902224, 'alpha': 0.47459742652687875, 'max_depth': 4, 'eta': 0.18393987717535523, 'gamma': 0.4580562520842334, 'subsample': 0.3696762450953494, 'colsample_bytree': 0.7425453439983584, 'min_child_weight': 26}. Best is trial 23 with value: 0.8013833992094862.\u001b[0m\n",
      "\u001b[32m[I 2023-03-04 17:51:51,822]\u001b[0m Trial 119 finished with value: 0.7777997364953887 and parameters: {'reg_lambda': 0.0029108608670135373, 'learning_rate': 0.00010101144084630343, 'n_estimators': 230, 'lambda': 0.28593748423850474, 'alpha': 0.5484316112252974, 'max_depth': 4, 'eta': 0.0010315543242558414, 'gamma': 0.3163288227589135, 'subsample': 0.3882765408048107, 'colsample_bytree': 0.6960943383962787, 'min_child_weight': 1}. Best is trial 23 with value: 0.8013833992094862.\u001b[0m\n",
      "\u001b[32m[I 2023-03-04 17:51:51,916]\u001b[0m Trial 120 finished with value: 0.7614624505928853 and parameters: {'reg_lambda': 0.0019224515972124784, 'learning_rate': 0.00011542746879202482, 'n_estimators': 200, 'lambda': 0.19627260671343066, 'alpha': 0.5611873339402256, 'max_depth': 4, 'eta': 0.002332877164461601, 'gamma': 0.3178796205846368, 'subsample': 0.33998657343094396, 'colsample_bytree': 0.7066491384288284, 'min_child_weight': 12}. Best is trial 23 with value: 0.8013833992094862.\u001b[0m\n",
      "\u001b[32m[I 2023-03-04 17:51:52,022]\u001b[0m Trial 121 finished with value: 0.7732542819499342 and parameters: {'reg_lambda': 0.002897265218536, 'learning_rate': 0.00017645764457288016, 'n_estimators': 245, 'lambda': 0.31561499540439913, 'alpha': 0.5419224547489832, 'max_depth': 4, 'eta': 0.03520308109847862, 'gamma': 0.3934383526202091, 'subsample': 0.39214631752494145, 'colsample_bytree': 0.7617750363711598, 'min_child_weight': 1}. Best is trial 23 with value: 0.8013833992094862.\u001b[0m\n",
      "\u001b[32m[I 2023-03-04 17:51:52,124]\u001b[0m Trial 122 finished with value: 0.7732542819499342 and parameters: {'reg_lambda': 0.004058010414024312, 'learning_rate': 0.0002142905779576306, 'n_estimators': 215, 'lambda': 0.2911336332545496, 'alpha': 0.5880209350842511, 'max_depth': 4, 'eta': 0.0632008017842895, 'gamma': 0.3090731002848519, 'subsample': 0.44131536572737357, 'colsample_bytree': 0.8070876966814624, 'min_child_weight': 1}. Best is trial 23 with value: 0.8013833992094862.\u001b[0m\n",
      "\u001b[32m[I 2023-03-04 17:51:52,218]\u001b[0m Trial 123 finished with value: 0.7533596837944663 and parameters: {'reg_lambda': 0.005396188795082466, 'learning_rate': 0.0001377800466768004, 'n_estimators': 230, 'lambda': 0.25592709157655497, 'alpha': 0.606592361811871, 'max_depth': 5, 'eta': 0.09064050436673758, 'gamma': 0.3410088065951221, 'subsample': 0.3613229042082481, 'colsample_bytree': 0.7885851532920006, 'min_child_weight': 17}. Best is trial 23 with value: 0.8013833992094862.\u001b[0m\n",
      "\u001b[32m[I 2023-03-04 17:51:52,338]\u001b[0m Trial 124 finished with value: 0.7486824769433466 and parameters: {'reg_lambda': 0.002238072368694621, 'learning_rate': 0.00017533002325340592, 'n_estimators': 260, 'lambda': 0.23603533856002581, 'alpha': 0.4612508249718995, 'max_depth': 4, 'eta': 0.035296140022315486, 'gamma': 0.2916788905810362, 'subsample': 0.405632320780143, 'colsample_bytree': 0.7353694051894708, 'min_child_weight': 8}. Best is trial 23 with value: 0.8013833992094862.\u001b[0m\n",
      "\u001b[32m[I 2023-03-04 17:51:52,426]\u001b[0m Trial 125 finished with value: 0.7614624505928853 and parameters: {'reg_lambda': 0.0016348743784973668, 'learning_rate': 0.00010014097570218216, 'n_estimators': 200, 'lambda': 0.3079596866468339, 'alpha': 0.49119873127019154, 'max_depth': 4, 'eta': 0.05875530272450219, 'gamma': 0.37073759131043493, 'subsample': 0.32393821243779614, 'colsample_bytree': 0.6950190466096794, 'min_child_weight': 12}. Best is trial 23 with value: 0.8013833992094862.\u001b[0m\n",
      "\u001b[32m[I 2023-03-04 17:51:52,515]\u001b[0m Trial 126 finished with value: 0.5 and parameters: {'reg_lambda': 0.0035014459119026187, 'learning_rate': 0.0003627090357951763, 'n_estimators': 245, 'lambda': 0.21095593018587347, 'alpha': 0.5222257765016864, 'max_depth': 3, 'eta': 0.00021870327536019363, 'gamma': 0.4167211376171941, 'subsample': 0.3861537791871537, 'colsample_bytree': 0.8591241094498336, 'min_child_weight': 111}. Best is trial 23 with value: 0.8013833992094862.\u001b[0m\n",
      "\u001b[32m[I 2023-03-04 17:51:52,601]\u001b[0m Trial 127 finished with value: 0.5 and parameters: {'reg_lambda': 0.001251278336870147, 'learning_rate': 0.00010023463126892077, 'n_estimators': 185, 'lambda': 0.285880504126877, 'alpha': 0.4198302381363388, 'max_depth': 6, 'eta': 0.13231883528508212, 'gamma': 0.5017203849877153, 'subsample': 0.47954519210274615, 'colsample_bytree': 0.7543247507225024, 'min_child_weight': 98}. Best is trial 23 with value: 0.8013833992094862.\u001b[0m\n",
      "\u001b[32m[I 2023-03-04 17:51:52,691]\u001b[0m Trial 128 finished with value: 0.7533596837944663 and parameters: {'reg_lambda': 0.0056290471515466805, 'learning_rate': 0.00012938366736992598, 'n_estimators': 215, 'lambda': 0.3314779933149395, 'alpha': 0.5563710708831437, 'max_depth': 3, 'eta': 0.08260200977399472, 'gamma': 0.27580592753314137, 'subsample': 0.3499630835087897, 'colsample_bytree': 0.8235778017449183, 'min_child_weight': 22}. Best is trial 23 with value: 0.8013833992094862.\u001b[0m\n",
      "\u001b[32m[I 2023-03-04 17:51:52,815]\u001b[0m Trial 129 finished with value: 0.7660079051383399 and parameters: {'reg_lambda': 0.0024682893852898493, 'learning_rate': 0.00015263070542044505, 'n_estimators': 275, 'lambda': 0.2439487340267169, 'alpha': 0.6435263737583952, 'max_depth': 5, 'eta': 0.030910786101347607, 'gamma': 0.24435298827842367, 'subsample': 0.4179795448743198, 'colsample_bytree': 0.7774702317912763, 'min_child_weight': 6}. Best is trial 23 with value: 0.8013833992094862.\u001b[0m\n",
      "\u001b[32m[I 2023-03-04 17:51:52,930]\u001b[0m Trial 130 finished with value: 0.7805006587615284 and parameters: {'reg_lambda': 0.0010039088426086926, 'learning_rate': 0.00028315501112646433, 'n_estimators': 230, 'lambda': 0.27058680403776886, 'alpha': 0.5041928316738513, 'max_depth': 4, 'eta': 0.052110045440820804, 'gamma': 0.32196803715716804, 'subsample': 0.37616311514561, 'colsample_bytree': 0.8475112369836477, 'min_child_weight': 1}. Best is trial 23 with value: 0.8013833992094862.\u001b[0m\n",
      "\u001b[32m[I 2023-03-04 17:51:53,036]\u001b[0m Trial 131 finished with value: 0.7732542819499342 and parameters: {'reg_lambda': 0.001695471784546863, 'learning_rate': 0.0002736823972910321, 'n_estimators': 230, 'lambda': 0.2774325870092271, 'alpha': 0.49858653508249723, 'max_depth': 4, 'eta': 0.050213679595292326, 'gamma': 0.3231436552558456, 'subsample': 0.37016324909640236, 'colsample_bytree': 0.8491240578396759, 'min_child_weight': 1}. Best is trial 23 with value: 0.8013833992094862.\u001b[0m\n",
      "\u001b[32m[I 2023-03-04 17:51:53,128]\u001b[0m Trial 132 finished with value: 0.7533596837944663 and parameters: {'reg_lambda': 0.0010103574131405462, 'learning_rate': 0.00023966341550521418, 'n_estimators': 170, 'lambda': 0.22579926416747925, 'alpha': 0.5325533688933707, 'max_depth': 4, 'eta': 0.10367471049336136, 'gamma': 0.3913474209253995, 'subsample': 0.3817547267851233, 'colsample_bytree': 0.8038817385732109, 'min_child_weight': 11}. Best is trial 23 with value: 0.8013833992094862.\u001b[0m\n",
      "\u001b[32m[I 2023-03-04 17:51:53,224]\u001b[0m Trial 133 finished with value: 0.7533596837944663 and parameters: {'reg_lambda': 0.0013739017878380611, 'learning_rate': 0.0005041925749630952, 'n_estimators': 245, 'lambda': 0.15327927239001043, 'alpha': 0.4692316797797571, 'max_depth': 4, 'eta': 0.07388282675351261, 'gamma': 0.3655635650641119, 'subsample': 0.3400446533608327, 'colsample_bytree': 0.8366486353326428, 'min_child_weight': 17}. Best is trial 23 with value: 0.8013833992094862.\u001b[0m\n",
      "\u001b[32m[I 2023-03-04 17:51:53,329]\u001b[0m Trial 134 finished with value: 0.7486824769433466 and parameters: {'reg_lambda': 0.002029478187576624, 'learning_rate': 0.0001923720943373561, 'n_estimators': 230, 'lambda': 0.1797568166624308, 'alpha': 0.4376030049394263, 'max_depth': 4, 'eta': 0.02084352106282647, 'gamma': 0.34649121400921246, 'subsample': 0.31594352646321644, 'colsample_bytree': 0.717692060073484, 'min_child_weight': 6}. Best is trial 23 with value: 0.8013833992094862.\u001b[0m\n",
      "\u001b[32m[I 2023-03-04 17:51:53,417]\u001b[0m Trial 135 finished with value: 0.5 and parameters: {'reg_lambda': 0.0029550609271667807, 'learning_rate': 0.0004064153369586224, 'n_estimators': 215, 'lambda': 0.2576401429265001, 'alpha': 0.40374170674102094, 'max_depth': 4, 'eta': 0.040876607278124866, 'gamma': 0.2993586766491995, 'subsample': 0.4339512540503507, 'colsample_bytree': 0.8811761218152828, 'min_child_weight': 287}. Best is trial 23 with value: 0.8013833992094862.\u001b[0m\n",
      "\u001b[32m[I 2023-03-04 17:51:53,546]\u001b[0m Trial 136 finished with value: 0.7687088274044797 and parameters: {'reg_lambda': 0.007504578461381732, 'learning_rate': 0.0006472889319996079, 'n_estimators': 260, 'lambda': 0.30233697566445333, 'alpha': 0.5121228026831242, 'max_depth': 5, 'eta': 0.10530793527633418, 'gamma': 0.22649088285367616, 'subsample': 0.3947939796431929, 'colsample_bytree': 0.7875711550693457, 'min_child_weight': 1}. Best is trial 23 with value: 0.8013833992094862.\u001b[0m\n",
      "\u001b[32m[I 2023-03-04 17:51:53,661]\u001b[0m Trial 137 finished with value: 0.7533596837944663 and parameters: {'reg_lambda': 0.004452816861317088, 'learning_rate': 0.0003008525481282722, 'n_estimators': 320, 'lambda': 0.27924163459553486, 'alpha': 0.3770625163423899, 'max_depth': 3, 'eta': 0.05390457570521092, 'gamma': 0.43511812817416107, 'subsample': 0.3592248603220098, 'colsample_bytree': 0.8553457900585129, 'min_child_weight': 13}. Best is trial 23 with value: 0.8013833992094862.\u001b[0m\n",
      "\u001b[32m[I 2023-03-04 17:51:53,778]\u001b[0m Trial 138 finished with value: 0.7533596837944663 and parameters: {'reg_lambda': 0.0017460367413489881, 'learning_rate': 0.0001223618087172959, 'n_estimators': 260, 'lambda': 0.32527924295670063, 'alpha': 0.6717934542522126, 'max_depth': 4, 'eta': 0.02171552060142829, 'gamma': 0.31813498341727986, 'subsample': 0.452247263491894, 'colsample_bytree': 0.8163199831669607, 'min_child_weight': 29}. Best is trial 23 with value: 0.8013833992094862.\u001b[0m\n",
      "\u001b[32m[I 2023-03-04 17:51:53,884]\u001b[0m Trial 139 finished with value: 0.7668642951251647 and parameters: {'reg_lambda': 0.0034744166493069755, 'learning_rate': 0.00015776645844614847, 'n_estimators': 245, 'lambda': 0.34782152607171973, 'alpha': 0.5751739396911225, 'max_depth': 3, 'eta': 0.08531747708286948, 'gamma': 0.27486924474159236, 'subsample': 0.2886275637641761, 'colsample_bytree': 0.6548926850706686, 'min_child_weight': 7}. Best is trial 23 with value: 0.8013833992094862.\u001b[0m\n",
      "\u001b[32m[I 2023-03-04 17:51:53,967]\u001b[0m Trial 140 finished with value: 0.7533596837944663 and parameters: {'reg_lambda': 0.001232689962945007, 'learning_rate': 0.00022398054160279785, 'n_estimators': 200, 'lambda': 0.2024655965748262, 'alpha': 0.4560234103298656, 'max_depth': 5, 'eta': 0.14321404809187627, 'gamma': 0.2544147313391326, 'subsample': 0.32803762835017924, 'colsample_bytree': 0.7631224802176524, 'min_child_weight': 20}. Best is trial 23 with value: 0.8013833992094862.\u001b[0m\n",
      "\u001b[32m[I 2023-03-04 17:51:54,076]\u001b[0m Trial 141 finished with value: 0.7732542819499342 and parameters: {'reg_lambda': 0.0024568520517606694, 'learning_rate': 0.00017152049931298672, 'n_estimators': 245, 'lambda': 0.31730328602607794, 'alpha': 0.5462383376390483, 'max_depth': 4, 'eta': 0.03733894130870547, 'gamma': 0.39437250531596424, 'subsample': 0.3914219192992704, 'colsample_bytree': 0.7997450063333448, 'min_child_weight': 1}. Best is trial 23 with value: 0.8013833992094862.\u001b[0m\n",
      "\u001b[32m[I 2023-03-04 17:51:54,190]\u001b[0m Trial 142 finished with value: 0.7732542819499342 and parameters: {'reg_lambda': 0.0025971404506938585, 'learning_rate': 0.00017935439119652234, 'n_estimators': 215, 'lambda': 0.30337059567336416, 'alpha': 0.5404602783168544, 'max_depth': 4, 'eta': 0.0650016608324605, 'gamma': 0.35734752162308564, 'subsample': 0.40862355613481216, 'colsample_bytree': 0.7503474561437591, 'min_child_weight': 1}. Best is trial 23 with value: 0.8013833992094862.\u001b[0m\n",
      "\u001b[32m[I 2023-03-04 17:51:54,295]\u001b[0m Trial 143 finished with value: 0.7533596837944663 and parameters: {'reg_lambda': 0.003212466556794201, 'learning_rate': 0.0001364370116120063, 'n_estimators': 275, 'lambda': 0.23601536672301052, 'alpha': 0.4847052711551467, 'max_depth': 4, 'eta': 0.00015109150316375275, 'gamma': 0.38546790944502407, 'subsample': 0.37662181806395106, 'colsample_bytree': 0.7687787640304545, 'min_child_weight': 12}. Best is trial 23 with value: 0.8013833992094862.\u001b[0m\n",
      "\u001b[32m[I 2023-03-04 17:51:54,397]\u001b[0m Trial 144 finished with value: 0.7533596837944663 and parameters: {'reg_lambda': 0.3891722410047028, 'learning_rate': 0.0002191177974272565, 'n_estimators': 230, 'lambda': 0.26784599778888013, 'alpha': 0.502802843855048, 'max_depth': 4, 'eta': 0.03428871340217232, 'gamma': 0.4659076798872827, 'subsample': 0.3472408365060274, 'colsample_bytree': 0.8342689916019933, 'min_child_weight': 8}. Best is trial 23 with value: 0.8013833992094862.\u001b[0m\n",
      "\u001b[32m[I 2023-03-04 17:51:54,548]\u001b[0m Trial 145 finished with value: 0.7533596837944663 and parameters: {'reg_lambda': 0.006081906086935935, 'learning_rate': 0.00011650251968751294, 'n_estimators': 485, 'lambda': 0.28732332048649756, 'alpha': 0.6152922337182257, 'max_depth': 4, 'eta': 0.0544423054439041, 'gamma': 0.4058989589203561, 'subsample': 0.39910006914751256, 'colsample_bytree': 0.8693276800892421, 'min_child_weight': 15}. Best is trial 23 with value: 0.8013833992094862.\u001b[0m\n",
      "\u001b[32m[I 2023-03-04 17:51:54,658]\u001b[0m Trial 146 finished with value: 0.7805006587615284 and parameters: {'reg_lambda': 0.004261165574846991, 'learning_rate': 0.00019086843214388048, 'n_estimators': 245, 'lambda': 0.1244794459628719, 'alpha': 0.5251528193700031, 'max_depth': 3, 'eta': 0.01862817120477349, 'gamma': 0.33229553218962354, 'subsample': 0.42027695838214213, 'colsample_bytree': 0.7334144448437339, 'min_child_weight': 1}. Best is trial 23 with value: 0.8013833992094862.\u001b[0m\n",
      "\u001b[32m[I 2023-03-04 17:51:54,768]\u001b[0m Trial 147 finished with value: 0.7486824769433466 and parameters: {'reg_lambda': 0.004080582821060602, 'learning_rate': 0.00035134661157742487, 'n_estimators': 260, 'lambda': 0.1368402985967597, 'alpha': 0.5223920769723986, 'max_depth': 3, 'eta': 0.31715845991408137, 'gamma': 0.3240621148086067, 'subsample': 0.36514825991041155, 'colsample_bytree': 0.7258689233318693, 'min_child_weight': 7}. Best is trial 23 with value: 0.8013833992094862.\u001b[0m\n",
      "\u001b[32m[I 2023-03-04 17:51:54,861]\u001b[0m Trial 148 finished with value: 0.7533596837944663 and parameters: {'reg_lambda': 0.0015846516125121097, 'learning_rate': 0.0009771492346978548, 'n_estimators': 200, 'lambda': 0.12460090863822187, 'alpha': 0.44245666359720714, 'max_depth': 3, 'eta': 0.1618390352448747, 'gamma': 0.3413082269046236, 'subsample': 0.41707596731944396, 'colsample_bytree': 0.78737764110258, 'min_child_weight': 25}. Best is trial 23 with value: 0.8013833992094862.\u001b[0m\n",
      "\u001b[32m[I 2023-03-04 17:51:54,954]\u001b[0m Trial 149 finished with value: 0.7533596837944663 and parameters: {'reg_lambda': 0.008121467483848014, 'learning_rate': 0.0012986421133650522, 'n_estimators': 230, 'lambda': 0.07458770183782254, 'alpha': 0.4196731003676592, 'max_depth': 3, 'eta': 0.017415176923039802, 'gamma': 0.2817780089499158, 'subsample': 0.3025811988012588, 'colsample_bytree': 0.8234018746404004, 'min_child_weight': 16}. Best is trial 23 with value: 0.8013833992094862.\u001b[0m\n",
      "\u001b[32m[I 2023-03-04 17:51:55,092]\u001b[0m Trial 150 finished with value: 0.7533596837944663 and parameters: {'reg_lambda': 0.004949609431391948, 'learning_rate': 0.0002650268744073933, 'n_estimators': 440, 'lambda': 0.1670185539422748, 'alpha': 0.5929537849996525, 'max_depth': 3, 'eta': 0.07792314943190792, 'gamma': 0.36391907266937285, 'subsample': 0.2690410782566919, 'colsample_bytree': 0.8987614006684368, 'min_child_weight': 7}. Best is trial 23 with value: 0.8013833992094862.\u001b[0m\n",
      "\u001b[32m[I 2023-03-04 17:51:55,201]\u001b[0m Trial 151 finished with value: 0.7732542819499342 and parameters: {'reg_lambda': 0.002030530342481329, 'learning_rate': 0.00018943673715846474, 'n_estimators': 245, 'lambda': 0.24854219348100431, 'alpha': 0.5353103048745325, 'max_depth': 4, 'eta': 0.03433700894786213, 'gamma': 0.30250094323517124, 'subsample': 0.37769687844613653, 'colsample_bytree': 0.7485300860961732, 'min_child_weight': 1}. Best is trial 23 with value: 0.8013833992094862.\u001b[0m\n",
      "\u001b[32m[I 2023-03-04 17:51:55,314]\u001b[0m Trial 152 finished with value: 0.7687088274044797 and parameters: {'reg_lambda': 0.0029887296753608357, 'learning_rate': 0.0001369180896844587, 'n_estimators': 245, 'lambda': 0.32120649762381326, 'alpha': 0.5571673913572813, 'max_depth': 4, 'eta': 0.017696704759580996, 'gamma': 0.42228604276333154, 'subsample': 0.43337350810041986, 'colsample_bytree': 0.7685746637618404, 'min_child_weight': 1}. Best is trial 23 with value: 0.8013833992094862.\u001b[0m\n",
      "\u001b[32m[I 2023-03-04 17:51:55,426]\u001b[0m Trial 153 finished with value: 0.764163372859025 and parameters: {'reg_lambda': 0.0010191386818006658, 'learning_rate': 0.00016179577106043493, 'n_estimators': 290, 'lambda': 0.22242573117597875, 'alpha': 0.470154842685295, 'max_depth': 4, 'eta': 0.05069075168888098, 'gamma': 0.3962997614474314, 'subsample': 0.3964450530309262, 'colsample_bytree': 0.706873978092606, 'min_child_weight': 11}. Best is trial 23 with value: 0.8013833992094862.\u001b[0m\n",
      "\u001b[32m[I 2023-03-04 17:51:55,521]\u001b[0m Trial 154 finished with value: 0.7533596837944663 and parameters: {'reg_lambda': 0.0013168266981132741, 'learning_rate': 0.00010048979990663825, 'n_estimators': 230, 'lambda': 0.11916917591435434, 'alpha': 0.5105628602413099, 'max_depth': 7, 'eta': 0.09637960617032687, 'gamma': 0.3367468862973838, 'subsample': 0.33518817472549284, 'colsample_bytree': 0.8047505393627726, 'min_child_weight': 20}. Best is trial 23 with value: 0.8013833992094862.\u001b[0m\n",
      "\u001b[32m[I 2023-03-04 17:51:55,615]\u001b[0m Trial 155 finished with value: 0.5 and parameters: {'reg_lambda': 0.0021539510007174177, 'learning_rate': 0.00019329370607072297, 'n_estimators': 275, 'lambda': 0.36533701655216594, 'alpha': 0.577006361976934, 'max_depth': 4, 'eta': 0.27201070221980433, 'gamma': 0.3763411759179222, 'subsample': 0.3566621016793944, 'colsample_bytree': 0.7351985169536303, 'min_child_weight': 125}. Best is trial 23 with value: 0.8013833992094862.\u001b[0m\n",
      "\u001b[32m[I 2023-03-04 17:51:55,725]\u001b[0m Trial 156 finished with value: 0.7705533596837945 and parameters: {'reg_lambda': 0.00443211897306057, 'learning_rate': 0.0004402854526081578, 'n_estimators': 260, 'lambda': 0.2659912648300841, 'alpha': 0.4917254270452668, 'max_depth': 3, 'eta': 0.06951449159372236, 'gamma': 0.43744659863656454, 'subsample': 0.46241260888879204, 'colsample_bytree': 0.7754929645313837, 'min_child_weight': 6}. Best is trial 23 with value: 0.8013833992094862.\u001b[0m\n",
      "\u001b[32m[I 2023-03-04 17:51:55,826]\u001b[0m Trial 157 finished with value: 0.7533596837944663 and parameters: {'reg_lambda': 0.3334793735387066, 'learning_rate': 0.00029304256766159013, 'n_estimators': 215, 'lambda': 0.09476602456099689, 'alpha': 0.5458591618976391, 'max_depth': 5, 'eta': 0.12449176647603277, 'gamma': 0.46310000669997187, 'subsample': 0.30944925374107907, 'colsample_bytree': 0.8429471128812143, 'min_child_weight': 12}. Best is trial 23 with value: 0.8013833992094862.\u001b[0m\n",
      "\u001b[32m[I 2023-03-04 17:51:55,941]\u001b[0m Trial 158 finished with value: 0.7805006587615284 and parameters: {'reg_lambda': 0.006555737412694308, 'learning_rate': 0.0001432381740173477, 'n_estimators': 245, 'lambda': 0.19420903537186957, 'alpha': 0.6828892389335672, 'max_depth': 4, 'eta': 0.000845539976794726, 'gamma': 0.2104462788885643, 'subsample': 0.38395358763689036, 'colsample_bytree': 0.8740207135262332, 'min_child_weight': 1}. Best is trial 23 with value: 0.8013833992094862.\u001b[0m\n",
      "\u001b[32m[I 2023-03-04 17:51:56,057]\u001b[0m Trial 159 finished with value: 0.7533596837944663 and parameters: {'reg_lambda': 0.0064799090210100755, 'learning_rate': 0.00014063392507228094, 'n_estimators': 260, 'lambda': 0.14857273392147308, 'alpha': 0.7070151596588519, 'max_depth': 4, 'eta': 0.01461830938198714, 'gamma': 0.22658710649037062, 'subsample': 0.4176274179265494, 'colsample_bytree': 0.8724960242571018, 'min_child_weight': 18}. Best is trial 23 with value: 0.8013833992094862.\u001b[0m\n",
      "\u001b[32m[I 2023-03-04 17:51:56,155]\u001b[0m Trial 160 finished with value: 0.7533596837944663 and parameters: {'reg_lambda': 0.5964914207862873, 'learning_rate': 0.000125512292021052, 'n_estimators': 230, 'lambda': 0.1959469017491456, 'alpha': 0.6921152403106806, 'max_depth': 3, 'eta': 0.00016294964759788332, 'gamma': 0.20249447825937392, 'subsample': 0.3736908642819001, 'colsample_bytree': 0.9105658962904091, 'min_child_weight': 7}. Best is trial 23 with value: 0.8013833992094862.\u001b[0m\n",
      "\u001b[32m[I 2023-03-04 17:51:56,273]\u001b[0m Trial 161 finished with value: 0.7723978919631093 and parameters: {'reg_lambda': 0.002954361347408453, 'learning_rate': 0.0002233389899986138, 'n_estimators': 245, 'lambda': 0.24241926812318823, 'alpha': 0.6381814038312033, 'max_depth': 4, 'eta': 0.03960801881337387, 'gamma': 0.2558396083081439, 'subsample': 0.39864950379369135, 'colsample_bytree': 0.852274427152245, 'min_child_weight': 2}. Best is trial 23 with value: 0.8013833992094862.\u001b[0m\n",
      "\u001b[32m[I 2023-03-04 17:51:56,442]\u001b[0m Trial 162 finished with value: 0.7868906455862978 and parameters: {'reg_lambda': 0.0017132882617214326, 'learning_rate': 0.00016649172765622315, 'n_estimators': 470, 'lambda': 0.18596609070859932, 'alpha': 0.7443257534494985, 'max_depth': 4, 'eta': 0.05557890713856897, 'gamma': 0.18778228692686014, 'subsample': 0.35265509516719984, 'colsample_bytree': 0.8167342673216871, 'min_child_weight': 1}. Best is trial 23 with value: 0.8013833992094862.\u001b[0m\n",
      "\u001b[32m[I 2023-03-04 17:51:56,593]\u001b[0m Trial 163 finished with value: 0.7533596837944663 and parameters: {'reg_lambda': 0.0016613034263978097, 'learning_rate': 0.0001526736819289461, 'n_estimators': 455, 'lambda': 0.17598585313254117, 'alpha': 0.747831993169278, 'max_depth': 4, 'eta': 0.061757676893623735, 'gamma': 0.20643279413913013, 'subsample': 0.3466239018060752, 'colsample_bytree': 0.8212991529227122, 'min_child_weight': 11}. Best is trial 23 with value: 0.8013833992094862.\u001b[0m\n",
      "\u001b[32m[I 2023-03-04 17:51:56,746]\u001b[0m Trial 164 finished with value: 0.7533596837944663 and parameters: {'reg_lambda': 1.0141948873646853, 'learning_rate': 0.00011455410765816144, 'n_estimators': 470, 'lambda': 0.21379099966080595, 'alpha': 0.7239938343651192, 'max_depth': 4, 'eta': 0.08766293391924418, 'gamma': 0.17550230092233376, 'subsample': 0.3217946346465885, 'colsample_bytree': 0.8914621127156286, 'min_child_weight': 6}. Best is trial 23 with value: 0.8013833992094862.\u001b[0m\n",
      "\u001b[32m[I 2023-03-04 17:51:56,893]\u001b[0m Trial 165 finished with value: 0.7533596837944663 and parameters: {'reg_lambda': 0.0012886896392711109, 'learning_rate': 0.00022676609257028747, 'n_estimators': 485, 'lambda': 0.15949921539548012, 'alpha': 0.679848555335856, 'max_depth': 4, 'eta': 0.021393383168633408, 'gamma': 0.23291890511266378, 'subsample': 0.36508660255529884, 'colsample_bytree': 0.8359053988150015, 'min_child_weight': 15}. Best is trial 23 with value: 0.8013833992094862.\u001b[0m\n",
      "\u001b[32m[I 2023-03-04 17:51:57,036]\u001b[0m Trial 166 finished with value: 0.7606060606060605 and parameters: {'reg_lambda': 0.0036759914914672623, 'learning_rate': 0.00017169825828809148, 'n_estimators': 470, 'lambda': 0.19039709014345532, 'alpha': 0.7364853234229117, 'max_depth': 3, 'eta': 0.4456927284982926, 'gamma': 0.20769597073550702, 'subsample': 0.38102169994564944, 'colsample_bytree': 0.8641732397425321, 'min_child_weight': 7}. Best is trial 23 with value: 0.8013833992094862.\u001b[0m\n",
      "\u001b[32m[I 2023-03-04 17:51:57,162]\u001b[0m Trial 167 finished with value: 0.7823451910408431 and parameters: {'reg_lambda': 0.24892848305945617, 'learning_rate': 0.00011866119106743438, 'n_estimators': 230, 'lambda': 0.1390540958681285, 'alpha': 0.7734073010261676, 'max_depth': 5, 'eta': 0.05172154074884679, 'gamma': 0.17333674259404958, 'subsample': 0.3335226113856195, 'colsample_bytree': 0.8041113483582618, 'min_child_weight': 1}. Best is trial 23 with value: 0.8013833992094862.\u001b[0m\n",
      "\u001b[32m[I 2023-03-04 17:51:57,289]\u001b[0m Trial 168 finished with value: 0.7533596837944663 and parameters: {'reg_lambda': 0.4821275984735105, 'learning_rate': 0.00011786185438893822, 'n_estimators': 455, 'lambda': 0.11575551551767062, 'alpha': 0.7787357251824454, 'max_depth': 5, 'eta': 0.046702795637971216, 'gamma': 0.18035831103610495, 'subsample': 0.29015512136498034, 'colsample_bytree': 0.8089496128322747, 'min_child_weight': 24}. Best is trial 23 with value: 0.8013833992094862.\u001b[0m\n",
      "\u001b[32m[I 2023-03-04 17:51:57,445]\u001b[0m Trial 169 finished with value: 0.7533596837944663 and parameters: {'reg_lambda': 0.24593350907392436, 'learning_rate': 0.003221812715044916, 'n_estimators': 440, 'lambda': 0.14373472592360764, 'alpha': 0.7674742571952176, 'max_depth': 5, 'eta': 0.00050921706032208, 'gamma': 0.14328461276633125, 'subsample': 0.33895849008736895, 'colsample_bytree': 0.8462020236225603, 'min_child_weight': 12}. Best is trial 23 with value: 0.8013833992094862.\u001b[0m\n",
      "\u001b[32m[I 2023-03-04 17:51:57,539]\u001b[0m Trial 170 finished with value: 0.7533596837944663 and parameters: {'reg_lambda': 1.7277350949675487, 'learning_rate': 0.00010334649903574764, 'n_estimators': 185, 'lambda': 0.09256168555102319, 'alpha': 0.6614009296252176, 'max_depth': 6, 'eta': 0.11256112369941124, 'gamma': 0.16680968310951866, 'subsample': 0.2427106517281415, 'colsample_bytree': 0.8837891883452669, 'min_child_weight': 18}. Best is trial 23 with value: 0.8013833992094862.\u001b[0m\n",
      "\u001b[32m[I 2023-03-04 17:51:57,654]\u001b[0m Trial 171 finished with value: 0.7660079051383399 and parameters: {'reg_lambda': 0.7282599714063647, 'learning_rate': 0.00014455909571114506, 'n_estimators': 215, 'lambda': 0.11535727977522255, 'alpha': 0.7259806647679236, 'max_depth': 4, 'eta': 0.0697519418559035, 'gamma': 0.17994485094053622, 'subsample': 0.35997709074666856, 'colsample_bytree': 0.7929473721143212, 'min_child_weight': 1}. Best is trial 23 with value: 0.8013833992094862.\u001b[0m\n",
      "\u001b[32m[I 2023-03-04 17:51:57,778]\u001b[0m Trial 172 finished with value: 0.7823451910408431 and parameters: {'reg_lambda': 0.0020071561199947385, 'learning_rate': 0.00019904635861123262, 'n_estimators': 245, 'lambda': 0.2253827670699085, 'alpha': 0.753005944289623, 'max_depth': 4, 'eta': 0.05309586682746492, 'gamma': 0.19438105747269593, 'subsample': 0.31096019963724514, 'colsample_bytree': 0.8195017807730947, 'min_child_weight': 1}. Best is trial 23 with value: 0.8013833992094862.\u001b[0m\n",
      "\u001b[32m[I 2023-03-04 17:51:57,874]\u001b[0m Trial 173 finished with value: 0.7533596837944663 and parameters: {'reg_lambda': 0.001819186108351166, 'learning_rate': 0.0001986609992707476, 'n_estimators': 155, 'lambda': 0.17798938449590626, 'alpha': 0.7569440539441721, 'max_depth': 4, 'eta': 0.030802320398074394, 'gamma': 0.19599925862120768, 'subsample': 0.3183364229015626, 'colsample_bytree': 0.8258914255649343, 'min_child_weight': 8}. Best is trial 23 with value: 0.8013833992094862.\u001b[0m\n",
      "\u001b[32m[I 2023-03-04 17:51:57,988]\u001b[0m Trial 174 finished with value: 0.7841897233201581 and parameters: {'reg_lambda': 0.07180496234741635, 'learning_rate': 0.0002594242512376819, 'n_estimators': 245, 'lambda': 0.2186603791858797, 'alpha': 0.706130713875555, 'max_depth': 4, 'eta': 0.24441932201854943, 'gamma': 0.23997863447812268, 'subsample': 0.27138512812793847, 'colsample_bytree': 0.8101040472673363, 'min_child_weight': 1}. Best is trial 23 with value: 0.8013833992094862.\u001b[0m\n",
      "\u001b[32m[I 2023-03-04 17:51:58,107]\u001b[0m Trial 175 finished with value: 0.7606060606060605 and parameters: {'reg_lambda': 0.1510365101265598, 'learning_rate': 0.00027780125319425066, 'n_estimators': 245, 'lambda': 0.20966554421528136, 'alpha': 0.7071612882133699, 'max_depth': 6, 'eta': 0.20792004548648219, 'gamma': 0.24243644632699354, 'subsample': 0.27188784166899344, 'colsample_bytree': 0.8565854875414287, 'min_child_weight': 7}. Best is trial 23 with value: 0.8013833992094862.\u001b[0m\n",
      "\u001b[32m[I 2023-03-04 17:51:58,206]\u001b[0m Trial 176 finished with value: 0.7533596837944663 and parameters: {'reg_lambda': 0.0874979077154843, 'learning_rate': 0.0003434502663340052, 'n_estimators': 260, 'lambda': 0.2261883476971327, 'alpha': 0.7361780753666747, 'max_depth': 5, 'eta': 0.2174663675630591, 'gamma': 0.18887266696137542, 'subsample': 0.259381310567514, 'colsample_bytree': 0.8150628746630187, 'min_child_weight': 13}. Best is trial 23 with value: 0.8013833992094862.\u001b[0m\n",
      "\u001b[32m[I 2023-03-04 17:51:58,373]\u001b[0m Trial 177 finished with value: 0.7533596837944663 and parameters: {'reg_lambda': 0.2122615466536925, 'learning_rate': 0.00024750536006125503, 'n_estimators': 500, 'lambda': 0.13641425839389476, 'alpha': 0.7009178713404237, 'max_depth': 4, 'eta': 0.24635431868015822, 'gamma': 0.21693052004378646, 'subsample': 0.28404612549716574, 'colsample_bytree': 0.8735324417484672, 'min_child_weight': 6}. Best is trial 23 with value: 0.8013833992094862.\u001b[0m\n",
      "\u001b[32m[I 2023-03-04 17:51:58,507]\u001b[0m Trial 178 finished with value: 0.7777997364953887 and parameters: {'reg_lambda': 0.25343911294904287, 'learning_rate': 0.0001972308800982477, 'n_estimators': 350, 'lambda': 0.19457765400878577, 'alpha': 0.6814415412440392, 'max_depth': 3, 'eta': 0.30818672237615613, 'gamma': 0.2626459491666625, 'subsample': 0.3051428280286828, 'colsample_bytree': 0.8298389593768188, 'min_child_weight': 1}. Best is trial 23 with value: 0.8013833992094862.\u001b[0m\n",
      "\u001b[32m[I 2023-03-04 17:51:58,642]\u001b[0m Trial 179 finished with value: 0.7533596837944663 and parameters: {'reg_lambda': 0.43748023055189955, 'learning_rate': 0.000559473762199183, 'n_estimators': 380, 'lambda': 0.19605552143260135, 'alpha': 0.6856342121536447, 'max_depth': 3, 'eta': 0.24753559968175515, 'gamma': 0.2734720979159344, 'subsample': 0.3080899163212045, 'colsample_bytree': 0.8434176526791245, 'min_child_weight': 12}. Best is trial 23 with value: 0.8013833992094862.\u001b[0m\n",
      "\u001b[32m[I 2023-03-04 17:51:58,771]\u001b[0m Trial 180 finished with value: 0.7533596837944663 and parameters: {'reg_lambda': 0.2751897154497106, 'learning_rate': 0.00012515904759035197, 'n_estimators': 350, 'lambda': 0.16358350645157588, 'alpha': 0.660634490356127, 'max_depth': 3, 'eta': 0.19201462583220058, 'gamma': 0.24792383195861595, 'subsample': 0.3288011644509078, 'colsample_bytree': 0.921939664408396, 'min_child_weight': 19}. Best is trial 23 with value: 0.8013833992094862.\u001b[0m\n",
      "\u001b[32m[I 2023-03-04 17:51:58,914]\u001b[0m Trial 181 finished with value: 0.7796442687747035 and parameters: {'reg_lambda': 0.024815084628414686, 'learning_rate': 0.00020706540420767616, 'n_estimators': 395, 'lambda': 0.22543177770217077, 'alpha': 0.7298477469177559, 'max_depth': 3, 'eta': 0.363369002902433, 'gamma': 0.21237107604382816, 'subsample': 0.22186198873956894, 'colsample_bytree': 0.8065217848665196, 'min_child_weight': 1}. Best is trial 23 with value: 0.8013833992094862.\u001b[0m\n",
      "\u001b[32m[I 2023-03-04 17:51:59,048]\u001b[0m Trial 182 finished with value: 0.7841897233201581 and parameters: {'reg_lambda': 0.05335108035314238, 'learning_rate': 0.0001951548193844502, 'n_estimators': 410, 'lambda': 0.22769200333807615, 'alpha': 0.7505213724875052, 'max_depth': 3, 'eta': 0.2772816475043727, 'gamma': 0.22116836246697075, 'subsample': 0.23820764235683412, 'colsample_bytree': 0.8321651340305037, 'min_child_weight': 1}. Best is trial 23 with value: 0.8013833992094862.\u001b[0m\n",
      "\u001b[32m[I 2023-03-04 17:51:59,178]\u001b[0m Trial 183 finished with value: 0.7533596837944663 and parameters: {'reg_lambda': 0.06420217370932667, 'learning_rate': 0.00019326040370003591, 'n_estimators': 395, 'lambda': 0.24817321454776897, 'alpha': 0.7575658407833067, 'max_depth': 3, 'eta': 0.2974406220980198, 'gamma': 0.2241300401248702, 'subsample': 0.22679317369405502, 'colsample_bytree': 0.8317118111272479, 'min_child_weight': 6}. Best is trial 23 with value: 0.8013833992094862.\u001b[0m\n",
      "\u001b[32m[I 2023-03-04 17:51:59,311]\u001b[0m Trial 184 finished with value: 0.7868906455862978 and parameters: {'reg_lambda': 0.041185114221533904, 'learning_rate': 0.00016295232455012216, 'n_estimators': 410, 'lambda': 0.22196585561864948, 'alpha': 0.7208443431534386, 'max_depth': 3, 'eta': 0.33474850248851745, 'gamma': 0.21553729518118758, 'subsample': 0.25336530288391784, 'colsample_bytree': 0.8062975193777405, 'min_child_weight': 1}. Best is trial 23 with value: 0.8013833992094862.\u001b[0m\n",
      "\u001b[32m[I 2023-03-04 17:51:59,433]\u001b[0m Trial 185 finished with value: 0.7533596837944663 and parameters: {'reg_lambda': 0.046967286026235934, 'learning_rate': 0.00021630647588161584, 'n_estimators': 410, 'lambda': 0.2224638536276744, 'alpha': 0.7831122228904057, 'max_depth': 3, 'eta': 0.34874157862606014, 'gamma': 0.21538856133343484, 'subsample': 0.20684462105583176, 'colsample_bytree': 0.797814050760828, 'min_child_weight': 11}. Best is trial 23 with value: 0.8013833992094862.\u001b[0m\n",
      "\u001b[32m[I 2023-03-04 17:51:59,566]\u001b[0m Trial 186 finished with value: 0.7623188405797102 and parameters: {'reg_lambda': 0.03683596477412473, 'learning_rate': 0.00016169124992396493, 'n_estimators': 395, 'lambda': 0.20434440463691836, 'alpha': 0.7208554766230534, 'max_depth': 3, 'eta': 0.2810116120341344, 'gamma': 0.2565110829575156, 'subsample': 0.2475506362171275, 'colsample_bytree': 0.5624040762311151, 'min_child_weight': 7}. Best is trial 23 with value: 0.8013833992094862.\u001b[0m\n",
      "\u001b[32m[I 2023-03-04 17:51:59,714]\u001b[0m Trial 187 finished with value: 0.7841897233201581 and parameters: {'reg_lambda': 0.05516213296650306, 'learning_rate': 0.00018519189157302013, 'n_estimators': 410, 'lambda': 0.18512202587828908, 'alpha': 0.7411293511857903, 'max_depth': 3, 'eta': 0.3297407561472997, 'gamma': 0.19748497343950028, 'subsample': 0.2210859580834388, 'colsample_bytree': 0.8341158945232721, 'min_child_weight': 1}. Best is trial 23 with value: 0.8013833992094862.\u001b[0m\n",
      "\u001b[32m[I 2023-03-04 17:51:59,841]\u001b[0m Trial 188 finished with value: 0.5 and parameters: {'reg_lambda': 0.05647305896998368, 'learning_rate': 0.00024979263618561746, 'n_estimators': 410, 'lambda': 0.18224651770415773, 'alpha': 0.7450734234920426, 'max_depth': 3, 'eta': 0.33745908560450716, 'gamma': 0.23778044734314066, 'subsample': 0.2432990047700632, 'colsample_bytree': 0.8310912152157688, 'min_child_weight': 267}. Best is trial 23 with value: 0.8013833992094862.\u001b[0m\n",
      "\u001b[32m[I 2023-03-04 17:51:59,973]\u001b[0m Trial 189 finished with value: 0.7533596837944663 and parameters: {'reg_lambda': 0.03007124879226739, 'learning_rate': 0.00018767676497300612, 'n_estimators': 425, 'lambda': 0.23202651421765536, 'alpha': 0.6867285068337322, 'max_depth': 3, 'eta': 0.29351624658717557, 'gamma': 0.1716990759793406, 'subsample': 0.22770221785615155, 'colsample_bytree': 0.8055175990161727, 'min_child_weight': 15}. Best is trial 23 with value: 0.8013833992094862.\u001b[0m\n",
      "\u001b[32m[I 2023-03-04 17:52:00,108]\u001b[0m Trial 190 finished with value: 0.7868906455862978 and parameters: {'reg_lambda': 0.05037444966774816, 'learning_rate': 0.00022915631436320956, 'n_estimators': 365, 'lambda': 0.186835564841844, 'alpha': 0.8007559549212254, 'max_depth': 3, 'eta': 0.3230660105472886, 'gamma': 0.19982362700565384, 'subsample': 0.19164840845102757, 'colsample_bytree': 0.849620537769467, 'min_child_weight': 1}. Best is trial 23 with value: 0.8013833992094862.\u001b[0m\n",
      "\u001b[32m[I 2023-03-04 17:52:00,255]\u001b[0m Trial 191 finished with value: 0.7914361001317525 and parameters: {'reg_lambda': 0.05071282048986802, 'learning_rate': 0.0002260448512327145, 'n_estimators': 395, 'lambda': 0.19662340480568688, 'alpha': 0.7957167775606866, 'max_depth': 3, 'eta': 0.33537094248146093, 'gamma': 0.19668655992971484, 'subsample': 0.19889437896116222, 'colsample_bytree': 0.8556853697402778, 'min_child_weight': 1}. Best is trial 23 with value: 0.8013833992094862.\u001b[0m\n",
      "\u001b[32m[I 2023-03-04 17:52:00,395]\u001b[0m Trial 192 finished with value: 0.7533596837944663 and parameters: {'reg_lambda': 0.03718598462279971, 'learning_rate': 0.00026778599126464365, 'n_estimators': 380, 'lambda': 0.16500373746523908, 'alpha': 0.7999977251761295, 'max_depth': 3, 'eta': 0.37701529753248325, 'gamma': 0.19718268530672242, 'subsample': 0.21338093290516222, 'colsample_bytree': 0.8529543398374523, 'min_child_weight': 7}. Best is trial 23 with value: 0.8013833992094862.\u001b[0m\n",
      "\u001b[32m[I 2023-03-04 17:52:00,537]\u001b[0m Trial 193 finished with value: 0.7796442687747035 and parameters: {'reg_lambda': 0.024416690324565928, 'learning_rate': 0.000348181370283482, 'n_estimators': 395, 'lambda': 0.2263896354643582, 'alpha': 0.7818298187851104, 'max_depth': 3, 'eta': 0.3342545036289763, 'gamma': 0.1536724770957672, 'subsample': 0.18940202938527997, 'colsample_bytree': 0.7860521962018951, 'min_child_weight': 1}. Best is trial 23 with value: 0.8013833992094862.\u001b[0m\n",
      "\u001b[32m[I 2023-03-04 17:52:00,668]\u001b[0m Trial 194 finished with value: 0.7533596837944663 and parameters: {'reg_lambda': 0.048006059096334756, 'learning_rate': 0.000338041986499684, 'n_estimators': 410, 'lambda': 0.21548681367286526, 'alpha': 0.7751851258858328, 'max_depth': 3, 'eta': 0.34000216139313966, 'gamma': 0.13806665590709818, 'subsample': 0.17714991453131654, 'colsample_bytree': 0.5333559585770091, 'min_child_weight': 10}. Best is trial 23 with value: 0.8013833992094862.\u001b[0m\n",
      "\u001b[32m[I 2023-03-04 17:52:00,788]\u001b[0m Trial 195 finished with value: 0.5 and parameters: {'reg_lambda': 0.07772351014893149, 'learning_rate': 0.0002467449266351079, 'n_estimators': 365, 'lambda': 0.18710406197765012, 'alpha': 0.7906338016571058, 'max_depth': 3, 'eta': 0.3176224612839231, 'gamma': 0.1640541422776663, 'subsample': 0.21767592214924467, 'colsample_bytree': 0.7889153941516867, 'min_child_weight': 198}. Best is trial 23 with value: 0.8013833992094862.\u001b[0m\n",
      "\u001b[32m[I 2023-03-04 17:52:00,909]\u001b[0m Trial 196 finished with value: 0.7533596837944663 and parameters: {'reg_lambda': 0.024885897920017015, 'learning_rate': 0.0003028737605392838, 'n_estimators': 395, 'lambda': 0.21377445600230405, 'alpha': 0.8071803187783291, 'max_depth': 3, 'eta': 0.33248785564178973, 'gamma': 0.19104827009717104, 'subsample': 0.18834177438668664, 'colsample_bytree': 0.8152632910545853, 'min_child_weight': 7}. Best is trial 23 with value: 0.8013833992094862.\u001b[0m\n",
      "\u001b[32m[I 2023-03-04 17:52:01,031]\u001b[0m Trial 197 finished with value: 0.7533596837944663 and parameters: {'reg_lambda': 0.06053567304111377, 'learning_rate': 0.00022415728657980112, 'n_estimators': 395, 'lambda': 0.23725918282996605, 'alpha': 0.743513451450433, 'max_depth': 3, 'eta': 0.3670819155804195, 'gamma': 0.1579294859773621, 'subsample': 0.19724451665391377, 'colsample_bytree': 0.8464967251279518, 'min_child_weight': 16}. Best is trial 23 with value: 0.8013833992094862.\u001b[0m\n",
      "\u001b[32m[I 2023-03-04 17:52:01,164]\u001b[0m Trial 198 finished with value: 0.7533596837944663 and parameters: {'reg_lambda': 0.02450038146422516, 'learning_rate': 0.00017089538183609417, 'n_estimators': 395, 'lambda': 0.17330528412868065, 'alpha': 0.7668231351069146, 'max_depth': 3, 'eta': 0.2672611904284849, 'gamma': 0.22397083304043072, 'subsample': 0.18944208355579353, 'colsample_bytree': 0.8678264774866283, 'min_child_weight': 6}. Best is trial 23 with value: 0.8013833992094862.\u001b[0m\n",
      "\u001b[32m[I 2023-03-04 17:52:01,299]\u001b[0m Trial 199 finished with value: 0.775098814229249 and parameters: {'reg_lambda': 0.044961290482904086, 'learning_rate': 0.0003733379260628046, 'n_estimators': 410, 'lambda': 0.15278834109723183, 'alpha': 0.7596196282704718, 'max_depth': 3, 'eta': 0.3600053675537997, 'gamma': 0.1953648790217713, 'subsample': 0.17173475141474676, 'colsample_bytree': 0.8007131827576514, 'min_child_weight': 1}. Best is trial 23 with value: 0.8013833992094862.\u001b[0m\n",
      "\u001b[32m[I 2023-03-04 17:52:01,443]\u001b[0m Trial 200 finished with value: 0.7533596837944663 and parameters: {'reg_lambda': 0.07542647043834301, 'learning_rate': 0.00021975694643469696, 'n_estimators': 410, 'lambda': 0.20454946612097402, 'alpha': 0.8298855247260043, 'max_depth': 3, 'eta': 0.3149599212113031, 'gamma': 0.11621101356176936, 'subsample': 0.22906331951763093, 'colsample_bytree': 0.8327955066429823, 'min_child_weight': 12}. Best is trial 23 with value: 0.8013833992094862.\u001b[0m\n",
      "\u001b[32m[I 2023-03-04 17:52:01,586]\u001b[0m Trial 201 finished with value: 0.7841897233201581 and parameters: {'reg_lambda': 0.051282139717009845, 'learning_rate': 0.00014178029996822137, 'n_estimators': 425, 'lambda': 0.25155139640501817, 'alpha': 0.7195333480455635, 'max_depth': 3, 'eta': 0.2747923446266613, 'gamma': 0.144325185440862, 'subsample': 0.19812090300873084, 'colsample_bytree': 0.7854760672551001, 'min_child_weight': 1}. Best is trial 23 with value: 0.8013833992094862.\u001b[0m\n",
      "\u001b[32m[I 2023-03-04 17:52:01,731]\u001b[0m Trial 202 finished with value: 0.7796442687747035 and parameters: {'reg_lambda': 0.038276935118961054, 'learning_rate': 0.00016758262206291861, 'n_estimators': 425, 'lambda': 0.2312307663063596, 'alpha': 0.7198677811061525, 'max_depth': 3, 'eta': 0.27469603778877777, 'gamma': 0.14929746299645616, 'subsample': 0.20841655225044764, 'colsample_bytree': 0.8166660195019854, 'min_child_weight': 1}. Best is trial 23 with value: 0.8013833992094862.\u001b[0m\n",
      "\u001b[32m[I 2023-03-04 17:52:01,860]\u001b[0m Trial 203 finished with value: 0.7533596837944663 and parameters: {'reg_lambda': 0.10281592732136188, 'learning_rate': 0.00013971801284968997, 'n_estimators': 410, 'lambda': 0.2534181740084332, 'alpha': 0.7342898190981251, 'max_depth': 3, 'eta': 0.2986053959437166, 'gamma': 0.17804699975651694, 'subsample': 0.19883928684863444, 'colsample_bytree': 0.7821553272485301, 'min_child_weight': 6}. Best is trial 23 with value: 0.8013833992094862.\u001b[0m\n",
      "\u001b[32m[I 2023-03-04 17:52:02,016]\u001b[0m Trial 204 finished with value: 0.7796442687747035 and parameters: {'reg_lambda': 0.05139365563063398, 'learning_rate': 0.0007237306008541313, 'n_estimators': 440, 'lambda': 0.19074593671397735, 'alpha': 0.7824195890194587, 'max_depth': 3, 'eta': 0.23571150991628292, 'gamma': 0.12645891705905538, 'subsample': 0.1627782658558528, 'colsample_bytree': 0.8519813998591311, 'min_child_weight': 1}. Best is trial 23 with value: 0.8013833992094862.\u001b[0m\n",
      "\u001b[32m[I 2023-03-04 17:52:02,138]\u001b[0m Trial 205 finished with value: 0.7533596837944663 and parameters: {'reg_lambda': 0.05471585534228705, 'learning_rate': 0.0002821582778488926, 'n_estimators': 380, 'lambda': 0.22088261030648837, 'alpha': 0.7538833816410653, 'max_depth': 3, 'eta': 0.2606538672642158, 'gamma': 0.214517960808947, 'subsample': 0.25545630466838554, 'colsample_bytree': 0.7811659884456942, 'min_child_weight': 10}. Best is trial 23 with value: 0.8013833992094862.\u001b[0m\n",
      "\u001b[32m[I 2023-03-04 17:52:02,273]\u001b[0m Trial 206 finished with value: 0.7533596837944663 and parameters: {'reg_lambda': 0.07223988188679278, 'learning_rate': 0.00019431253791306203, 'n_estimators': 425, 'lambda': 0.2579117049926601, 'alpha': 0.71381012249477, 'max_depth': 3, 'eta': 0.32726108143521127, 'gamma': 0.19691527075228252, 'subsample': 0.2335499409942264, 'colsample_bytree': 0.8833240635425508, 'min_child_weight': 12}. Best is trial 23 with value: 0.8013833992094862.\u001b[0m\n",
      "\u001b[32m[I 2023-03-04 17:52:02,386]\u001b[0m Trial 207 finished with value: 0.5 and parameters: {'reg_lambda': 0.01503701543700421, 'learning_rate': 0.0001512609268762423, 'n_estimators': 425, 'lambda': 0.23471213091792928, 'alpha': 0.8119085618450588, 'max_depth': 3, 'eta': 0.4078087679651224, 'gamma': 0.1553927531802543, 'subsample': 0.1473213266443908, 'colsample_bytree': 0.8016910849334884, 'min_child_weight': 158}. Best is trial 23 with value: 0.8013833992094862.\u001b[0m\n",
      "\u001b[32m[I 2023-03-04 17:52:02,513]\u001b[0m Trial 208 finished with value: 0.7533596837944663 and parameters: {'reg_lambda': 0.02554744377154501, 'learning_rate': 0.0002350856162344762, 'n_estimators': 395, 'lambda': 0.20526492858049275, 'alpha': 0.7663584574267348, 'max_depth': 3, 'eta': 0.28569535043866656, 'gamma': 0.22969293075736835, 'subsample': 0.1851839393163444, 'colsample_bytree': 0.8252487016712426, 'min_child_weight': 6}. Best is trial 23 with value: 0.8013833992094862.\u001b[0m\n",
      "\u001b[32m[I 2023-03-04 17:52:02,637]\u001b[0m Trial 209 finished with value: 0.7533596837944663 and parameters: {'reg_lambda': 0.11723389520979263, 'learning_rate': 0.00018167023117840028, 'n_estimators': 395, 'lambda': 0.493817110844318, 'alpha': 0.7323168048991583, 'max_depth': 8, 'eta': 0.31230096340130026, 'gamma': 0.17604871747333145, 'subsample': 0.20818340006786795, 'colsample_bytree': 0.7657206719585746, 'min_child_weight': 20}. Best is trial 23 with value: 0.8013833992094862.\u001b[0m\n",
      "\u001b[32m[I 2023-03-04 17:52:02,779]\u001b[0m Trial 210 finished with value: 0.7723978919631093 and parameters: {'reg_lambda': 0.032469686350823986, 'learning_rate': 0.0001397914184414689, 'n_estimators': 440, 'lambda': 0.15532357804892166, 'alpha': 0.7062837347761786, 'max_depth': 3, 'eta': 0.34957166283368507, 'gamma': 0.2884109902601879, 'subsample': 0.2567843375229333, 'colsample_bytree': 0.8601943521387403, 'min_child_weight': 1}. Best is trial 23 with value: 0.8013833992094862.\u001b[0m\n",
      "\u001b[32m[I 2023-03-04 17:52:02,920]\u001b[0m Trial 211 finished with value: 0.7868906455862978 and parameters: {'reg_lambda': 0.03128711841070549, 'learning_rate': 0.00015925934449129262, 'n_estimators': 425, 'lambda': 0.24033703686870325, 'alpha': 0.7251995288583819, 'max_depth': 3, 'eta': 0.26080030745792465, 'gamma': 0.14487040168121462, 'subsample': 0.19951520910472967, 'colsample_bytree': 0.8219244463300732, 'min_child_weight': 1}. Best is trial 23 with value: 0.8013833992094862.\u001b[0m\n",
      "\u001b[32m[I 2023-03-04 17:52:03,071]\u001b[0m Trial 212 finished with value: 0.7533596837944663 and parameters: {'reg_lambda': 0.01956929943119276, 'learning_rate': 0.00017115870178355762, 'n_estimators': 425, 'lambda': 0.24443365185227414, 'alpha': 0.7430176272054914, 'max_depth': 3, 'eta': 0.2610983047119518, 'gamma': 0.20566571047310675, 'subsample': 0.22498869250055056, 'colsample_bytree': 0.8159723303725517, 'min_child_weight': 6}. Best is trial 23 with value: 0.8013833992094862.\u001b[0m\n",
      "\u001b[32m[I 2023-03-04 17:52:03,215]\u001b[0m Trial 213 finished with value: 0.7533596837944663 and parameters: {'reg_lambda': 0.042379846120683, 'learning_rate': 0.001964276102825817, 'n_estimators': 410, 'lambda': 0.17878504885062982, 'alpha': 0.8014913031001114, 'max_depth': 3, 'eta': 0.23307980352075974, 'gamma': 0.14485108414948403, 'subsample': 0.17581426152836838, 'colsample_bytree': 0.8356160710535295, 'min_child_weight': 11}. Best is trial 23 with value: 0.8013833992094862.\u001b[0m\n",
      "\u001b[32m[I 2023-03-04 17:52:03,379]\u001b[0m Trial 214 finished with value: 0.7515151515151515 and parameters: {'reg_lambda': 0.05989343286196313, 'learning_rate': 0.023075908747514345, 'n_estimators': 380, 'lambda': 0.21859754866535663, 'alpha': 0.6972390561319429, 'max_depth': 10, 'eta': 0.3000940508645715, 'gamma': 0.12454686920164937, 'subsample': 0.1961836215543217, 'colsample_bytree': 0.797491859526573, 'min_child_weight': 1}. Best is trial 23 with value: 0.8013833992094862.\u001b[0m\n",
      "\u001b[32m[I 2023-03-04 17:52:03,521]\u001b[0m Trial 215 finished with value: 0.7533596837944663 and parameters: {'reg_lambda': 0.009399725725110084, 'learning_rate': 0.00020976076854301376, 'n_estimators': 455, 'lambda': 0.2499643528246431, 'alpha': 0.7792835503416862, 'max_depth': 3, 'eta': 0.2851671465755161, 'gamma': 0.17299150216781117, 'subsample': 0.23688610682666872, 'colsample_bytree': 0.840433337204728, 'min_child_weight': 6}. Best is trial 23 with value: 0.8013833992094862.\u001b[0m\n",
      "\u001b[32m[I 2023-03-04 17:52:03,649]\u001b[0m Trial 216 finished with value: 0.7533596837944663 and parameters: {'reg_lambda': 0.030098766655514836, 'learning_rate': 0.013979717076825736, 'n_estimators': 440, 'lambda': 0.20145759889565623, 'alpha': 0.7297866254386103, 'max_depth': 7, 'eta': 0.32924459394422945, 'gamma': 0.24908415615388374, 'subsample': 0.2116475442582709, 'colsample_bytree': 0.8110872120015776, 'min_child_weight': 15}. Best is trial 23 with value: 0.8013833992094862.\u001b[0m\n",
      "\u001b[32m[I 2023-03-04 17:52:03,795]\u001b[0m Trial 217 finished with value: 0.775098814229249 and parameters: {'reg_lambda': 0.02350163763571217, 'learning_rate': 0.00012924937438203157, 'n_estimators': 425, 'lambda': 0.27217847306752224, 'alpha': 0.7185547433807988, 'max_depth': 3, 'eta': 0.2577790106247757, 'gamma': 0.19508283962482603, 'subsample': 0.1628531576197871, 'colsample_bytree': 0.7818180483585719, 'min_child_weight': 1}. Best is trial 23 with value: 0.8013833992094862.\u001b[0m\n",
      "\u001b[32m[I 2023-03-04 17:52:03,941]\u001b[0m Trial 218 finished with value: 0.7533596837944663 and parameters: {'reg_lambda': 0.016001511374887985, 'learning_rate': 0.0003252336833406912, 'n_estimators': 395, 'lambda': 0.13249737785875262, 'alpha': 0.6661377437129928, 'max_depth': 3, 'eta': 0.3862004371713043, 'gamma': 0.09741047411206111, 'subsample': 0.26734270675076566, 'colsample_bytree': 0.8571622983213734, 'min_child_weight': 9}. Best is trial 23 with value: 0.8013833992094862.\u001b[0m\n",
      "\u001b[32m[I 2023-03-04 17:52:04,074]\u001b[0m Trial 219 finished with value: 0.7533596837944663 and parameters: {'reg_lambda': 0.08619406639173822, 'learning_rate': 0.00026382948768746364, 'n_estimators': 410, 'lambda': 0.22071985306332556, 'alpha': 0.7583775771954169, 'max_depth': 3, 'eta': 0.35481797952569705, 'gamma': 0.22060316456294796, 'subsample': 0.22188768331747125, 'colsample_bytree': 0.8736767175195275, 'min_child_weight': 6}. Best is trial 23 with value: 0.8013833992094862.\u001b[0m\n",
      "\u001b[32m[I 2023-03-04 17:52:04,201]\u001b[0m Trial 220 finished with value: 0.7533596837944663 and parameters: {'reg_lambda': 0.032790537234079056, 'learning_rate': 0.00015470562935534482, 'n_estimators': 365, 'lambda': 0.18294327998701826, 'alpha': 0.7957468882519795, 'max_depth': 3, 'eta': 0.32242298393384805, 'gamma': 0.14118130875267584, 'subsample': 0.24285172513905742, 'colsample_bytree': 0.7535484364405418, 'min_child_weight': 15}. Best is trial 23 with value: 0.8013833992094862.\u001b[0m\n",
      "\u001b[32m[I 2023-03-04 17:52:04,344]\u001b[0m Trial 221 finished with value: 0.7841897233201581 and parameters: {'reg_lambda': 0.045653583605862524, 'learning_rate': 0.00016873405171598046, 'n_estimators': 410, 'lambda': 0.24597104489702612, 'alpha': 0.7137380900139388, 'max_depth': 3, 'eta': 0.28299323421118594, 'gamma': 0.16697326573164828, 'subsample': 0.21201802133609265, 'colsample_bytree': 0.8292170348026515, 'min_child_weight': 1}. Best is trial 23 with value: 0.8013833992094862.\u001b[0m\n",
      "\u001b[32m[I 2023-03-04 17:52:04,496]\u001b[0m Trial 222 finished with value: 0.7841897233201581 and parameters: {'reg_lambda': 0.042318873083023456, 'learning_rate': 0.0002014409910363423, 'n_estimators': 410, 'lambda': 0.24141660637651513, 'alpha': 0.6972811690129902, 'max_depth': 3, 'eta': 0.27346466010063925, 'gamma': 0.16478660011553084, 'subsample': 0.19083628535086264, 'colsample_bytree': 0.8258035280332761, 'min_child_weight': 1}. Best is trial 23 with value: 0.8013833992094862.\u001b[0m\n",
      "\u001b[32m[I 2023-03-04 17:52:04,635]\u001b[0m Trial 223 finished with value: 0.7533596837944663 and parameters: {'reg_lambda': 0.04387541575994303, 'learning_rate': 0.000192302044914251, 'n_estimators': 455, 'lambda': 0.27171250621803994, 'alpha': 0.6898481821909606, 'max_depth': 3, 'eta': 0.2136590378171751, 'gamma': 0.1804412470107551, 'subsample': 0.21897532565422465, 'colsample_bytree': 0.8312837378196682, 'min_child_weight': 7}. Best is trial 23 with value: 0.8013833992094862.\u001b[0m\n",
      "\u001b[32m[I 2023-03-04 17:52:04,769]\u001b[0m Trial 224 finished with value: 0.7533596837944663 and parameters: {'reg_lambda': 0.06022445895347178, 'learning_rate': 0.00012424726135836704, 'n_estimators': 425, 'lambda': 0.2602319173733184, 'alpha': 0.6492629604528923, 'max_depth': 3, 'eta': 0.2733729886746328, 'gamma': 0.21308625476658066, 'subsample': 0.19933044964970814, 'colsample_bytree': 0.8489416341740563, 'min_child_weight': 10}. Best is trial 23 with value: 0.8013833992094862.\u001b[0m\n",
      "\u001b[32m[I 2023-03-04 17:52:04,903]\u001b[0m Trial 225 finished with value: 0.7959815546772069 and parameters: {'reg_lambda': 0.03755717121817944, 'learning_rate': 0.007043105866874916, 'n_estimators': 410, 'lambda': 0.24235455496910557, 'alpha': 0.7039983551204073, 'max_depth': 3, 'eta': 0.24738494946809741, 'gamma': 0.2351123772787273, 'subsample': 0.24312322634011302, 'colsample_bytree': 0.8210542233037361, 'min_child_weight': 1}. Best is trial 23 with value: 0.8013833992094862.\u001b[0m\n",
      "\u001b[32m[I 2023-03-04 17:52:05,047]\u001b[0m Trial 226 finished with value: 0.7533596837944663 and parameters: {'reg_lambda': 0.04552717031349791, 'learning_rate': 0.0001489857769905492, 'n_estimators': 410, 'lambda': 0.25106941392864873, 'alpha': 0.7001804262458995, 'max_depth': 3, 'eta': 0.24667866817231732, 'gamma': 0.2373090781946752, 'subsample': 0.26376167086128777, 'colsample_bytree': 0.828867094349649, 'min_child_weight': 6}. Best is trial 23 with value: 0.8013833992094862.\u001b[0m\n",
      "\u001b[32m[I 2023-03-04 17:52:05,174]\u001b[0m Trial 227 finished with value: 0.5 and parameters: {'reg_lambda': 0.06775558850914923, 'learning_rate': 0.0017271983548418936, 'n_estimators': 425, 'lambda': 0.24548980428677153, 'alpha': 0.6761954399102331, 'max_depth': 3, 'eta': 0.23992354597164037, 'gamma': 0.27156412757013887, 'subsample': 0.24373133178185855, 'colsample_bytree': 0.8446032034453034, 'min_child_weight': 83}. Best is trial 23 with value: 0.8013833992094862.\u001b[0m\n",
      "\u001b[32m[I 2023-03-04 17:52:05,318]\u001b[0m Trial 228 finished with value: 0.7678524374176547 and parameters: {'reg_lambda': 0.03828143709922361, 'learning_rate': 0.0011314634710234222, 'n_estimators': 410, 'lambda': 0.6446206921113875, 'alpha': 0.7000393642548297, 'max_depth': 3, 'eta': 0.2297187886302427, 'gamma': 0.16122847103009275, 'subsample': 0.5240376312728565, 'colsample_bytree': 0.8681383735556667, 'min_child_weight': 1}. Best is trial 23 with value: 0.8013833992094862.\u001b[0m\n",
      "\u001b[32m[I 2023-03-04 17:52:05,426]\u001b[0m Trial 229 finished with value: 0.7533596837944663 and parameters: {'reg_lambda': 0.09358971265682012, 'learning_rate': 0.010920816731282978, 'n_estimators': 245, 'lambda': 0.202343825524036, 'alpha': 0.7120766935415219, 'max_depth': 6, 'eta': 0.295821986815913, 'gamma': 0.19153179193134443, 'subsample': 0.1669819225562103, 'colsample_bytree': 0.8231128907205395, 'min_child_weight': 12}. Best is trial 23 with value: 0.8013833992094862.\u001b[0m\n",
      "\u001b[32m[I 2023-03-04 17:52:05,556]\u001b[0m Trial 230 finished with value: 0.7533596837944663 and parameters: {'reg_lambda': 0.1414304751043821, 'learning_rate': 0.0024121921422108534, 'n_estimators': 440, 'lambda': 0.17205057158556386, 'alpha': 0.6349751545445566, 'max_depth': 4, 'eta': 0.26910302812801873, 'gamma': 0.23850737728892676, 'subsample': 0.12694615020901656, 'colsample_bytree': 0.8990829661436107, 'min_child_weight': 6}. Best is trial 23 with value: 0.8013833992094862.\u001b[0m\n",
      "\u001b[32m[I 2023-03-04 17:52:05,694]\u001b[0m Trial 231 finished with value: 0.7796442687747035 and parameters: {'reg_lambda': 0.05000081314104728, 'learning_rate': 0.07746489415389303, 'n_estimators': 410, 'lambda': 0.23040997128257265, 'alpha': 0.7379151544388325, 'max_depth': 3, 'eta': 0.28670371121022004, 'gamma': 0.20814748354367452, 'subsample': 0.2099017037112468, 'colsample_bytree': 0.8085093101860568, 'min_child_weight': 1}. Best is trial 23 with value: 0.8013833992094862.\u001b[0m\n",
      "\u001b[32m[I 2023-03-04 17:52:05,839]\u001b[0m Trial 232 finished with value: 0.7769433465085639 and parameters: {'reg_lambda': 0.035145633327752716, 'learning_rate': 0.0002188931628181194, 'n_estimators': 425, 'lambda': 0.24009342578096998, 'alpha': 0.7244278029448251, 'max_depth': 3, 'eta': 0.305220040033335, 'gamma': 0.30012795165589934, 'subsample': 0.28321855651739025, 'colsample_bytree': 0.8086060870703465, 'min_child_weight': 1}. Best is trial 23 with value: 0.8013833992094862.\u001b[0m\n",
      "\u001b[32m[I 2023-03-04 17:52:05,975]\u001b[0m Trial 233 finished with value: 0.7533596837944663 and parameters: {'reg_lambda': 0.05406645784656139, 'learning_rate': 0.003775506299509042, 'n_estimators': 410, 'lambda': 0.2079531707390284, 'alpha': 0.7548742168782353, 'max_depth': 3, 'eta': 0.26938705032939836, 'gamma': 0.18485539267341392, 'subsample': 0.23786036777998035, 'colsample_bytree': 0.8418633477603352, 'min_child_weight': 8}. Best is trial 23 with value: 0.8013833992094862.\u001b[0m\n",
      "\u001b[32m[I 2023-03-04 17:52:06,121]\u001b[0m Trial 234 finished with value: 0.7986824769433466 and parameters: {'reg_lambda': 0.011946853254270726, 'learning_rate': 0.0064073586416936125, 'n_estimators': 395, 'lambda': 0.2732298904907633, 'alpha': 0.6741861589192334, 'max_depth': 3, 'eta': 0.19610712188998622, 'gamma': 0.22723852921400894, 'subsample': 0.22660127119700726, 'colsample_bytree': 0.8224286783503023, 'min_child_weight': 1}. Best is trial 23 with value: 0.8013833992094862.\u001b[0m\n",
      "\u001b[32m[I 2023-03-04 17:52:06,225]\u001b[0m Trial 235 finished with value: 0.7533596837944663 and parameters: {'reg_lambda': 0.013090954841429869, 'learning_rate': 0.005513954562373697, 'n_estimators': 245, 'lambda': 0.2792156253517884, 'alpha': 0.6703074445112863, 'max_depth': 3, 'eta': 0.22065677879780332, 'gamma': 0.2661073699524832, 'subsample': 0.18549335869843772, 'colsample_bytree': 0.8244949975772047, 'min_child_weight': 12}. Best is trial 23 with value: 0.8013833992094862.\u001b[0m\n",
      "\u001b[32m[I 2023-03-04 17:52:06,388]\u001b[0m Trial 236 finished with value: 0.7533596837944663 and parameters: {'reg_lambda': 0.010531002836073238, 'learning_rate': 0.007450971162857561, 'n_estimators': 470, 'lambda': 0.2631854992794387, 'alpha': 0.6535848347046406, 'max_depth': 3, 'eta': 0.183286950818552, 'gamma': 0.23223798589523134, 'subsample': 0.2552118668898603, 'colsample_bytree': 0.8608645203401653, 'min_child_weight': 7}. Best is trial 23 with value: 0.8013833992094862.\u001b[0m\n",
      "\u001b[32m[I 2023-03-04 17:52:06,536]\u001b[0m Trial 237 finished with value: 0.7533596837944663 and parameters: {'reg_lambda': 0.3662829714457099, 'learning_rate': 0.002387858866053886, 'n_estimators': 380, 'lambda': 0.14480286293643868, 'alpha': 0.6919595887147705, 'max_depth': 4, 'eta': 0.2007343438848847, 'gamma': 0.1320523347729343, 'subsample': 0.6292376438326018, 'colsample_bytree': 0.8807695826344287, 'min_child_weight': 16}. Best is trial 23 with value: 0.8013833992094862.\u001b[0m\n",
      "\u001b[32m[I 2023-03-04 17:52:06,644]\u001b[0m Trial 238 finished with value: 0.7796442687747035 and parameters: {'reg_lambda': 0.006438603735516346, 'learning_rate': 0.0006835840546323817, 'n_estimators': 230, 'lambda': 0.27204432896899866, 'alpha': 0.6190614025501424, 'max_depth': 3, 'eta': 0.24931445384023462, 'gamma': 0.16439710487605083, 'subsample': 0.2026687259858144, 'colsample_bytree': 0.8499524757195309, 'min_child_weight': 1}. Best is trial 23 with value: 0.8013833992094862.\u001b[0m\n",
      "\u001b[32m[I 2023-03-04 17:52:06,797]\u001b[0m Trial 239 finished with value: 0.7533596837944663 and parameters: {'reg_lambda': 0.07282306945484326, 'learning_rate': 0.0001721369370417777, 'n_estimators': 440, 'lambda': 0.24229806271515875, 'alpha': 0.6848420827014354, 'max_depth': 4, 'eta': 0.22100494298640577, 'gamma': 0.18818684357887538, 'subsample': 0.27217827619548257, 'colsample_bytree': 0.793696890252106, 'min_child_weight': 7}. Best is trial 23 with value: 0.8013833992094862.\u001b[0m\n",
      "\u001b[32m[I 2023-03-04 17:52:06,937]\u001b[0m Trial 240 finished with value: 0.7533596837944663 and parameters: {'reg_lambda': 0.03890670876307256, 'learning_rate': 0.00012037349365790398, 'n_estimators': 425, 'lambda': 0.07055967075403222, 'alpha': 0.710931999583162, 'max_depth': 3, 'eta': 0.24859169637462986, 'gamma': 0.2417932745254421, 'subsample': 0.22811142744307403, 'colsample_bytree': 0.823166064705457, 'min_child_weight': 11}. Best is trial 23 with value: 0.8013833992094862.\u001b[0m\n",
      "\u001b[32m[I 2023-03-04 17:52:07,072]\u001b[0m Trial 241 finished with value: 0.8032279314888011 and parameters: {'reg_lambda': 0.03062302543236212, 'learning_rate': 0.007238473028058728, 'n_estimators': 395, 'lambda': 0.21846958478459574, 'alpha': 0.7411913871697554, 'max_depth': 3, 'eta': 0.27817717972718276, 'gamma': 0.21543524947953654, 'subsample': 0.21672717701198968, 'colsample_bytree': 0.7962891257053603, 'min_child_weight': 1}. Best is trial 241 with value: 0.8032279314888011.\u001b[0m\n",
      "\u001b[32m[I 2023-03-04 17:52:07,217]\u001b[0m Trial 242 finished with value: 0.7533596837944663 and parameters: {'reg_lambda': 0.04797238011073684, 'learning_rate': 0.007132580176409219, 'n_estimators': 395, 'lambda': 0.19802116954669804, 'alpha': 0.7492923321101723, 'max_depth': 3, 'eta': 0.258043182441026, 'gamma': 0.2145192772809005, 'subsample': 0.24496298026988272, 'colsample_bytree': 0.7967812253765794, 'min_child_weight': 6}. Best is trial 241 with value: 0.8032279314888011.\u001b[0m\n",
      "\u001b[32m[I 2023-03-04 17:52:07,358]\u001b[0m Trial 243 finished with value: 0.7914361001317525 and parameters: {'reg_lambda': 0.1756466172121431, 'learning_rate': 0.006335909582634353, 'n_estimators': 410, 'lambda': 0.21653970963133626, 'alpha': 0.7165848150389623, 'max_depth': 3, 'eta': 0.2834746674991361, 'gamma': 0.25992879009813086, 'subsample': 0.21222682034981455, 'colsample_bytree': 0.8360288057416831, 'min_child_weight': 1}. Best is trial 241 with value: 0.8032279314888011.\u001b[0m\n",
      "\u001b[32m[I 2023-03-04 17:52:07,496]\u001b[0m Trial 244 finished with value: 0.8032279314888011 and parameters: {'reg_lambda': 0.2898695616999338, 'learning_rate': 0.008833081790835527, 'n_estimators': 410, 'lambda': 0.22406639202128714, 'alpha': 0.7223423782777516, 'max_depth': 3, 'eta': 0.28994173231857767, 'gamma': 0.2818357308113449, 'subsample': 0.21120939421798626, 'colsample_bytree': 0.8375091422733218, 'min_child_weight': 1}. Best is trial 241 with value: 0.8032279314888011.\u001b[0m\n",
      "\u001b[32m[I 2023-03-04 17:52:07,645]\u001b[0m Trial 245 finished with value: 0.7533596837944663 and parameters: {'reg_lambda': 0.32733994343272266, 'learning_rate': 0.006129341900437953, 'n_estimators': 410, 'lambda': 0.22297082791353562, 'alpha': 0.7172424946051079, 'max_depth': 3, 'eta': 0.288909051422729, 'gamma': 0.2849305550521499, 'subsample': 0.21052054983608587, 'colsample_bytree': 0.8250526714484332, 'min_child_weight': 6}. Best is trial 241 with value: 0.8032279314888011.\u001b[0m\n",
      "\u001b[32m[I 2023-03-04 17:52:07,790]\u001b[0m Trial 246 finished with value: 0.7850461133069829 and parameters: {'reg_lambda': 0.19579621655761245, 'learning_rate': 0.00981946734533571, 'n_estimators': 410, 'lambda': 0.24611243975489555, 'alpha': 0.7399179995889256, 'max_depth': 3, 'eta': 0.27822111931889965, 'gamma': 0.25547189302758055, 'subsample': 0.19002084473587513, 'colsample_bytree': 0.8421961244316535, 'min_child_weight': 1}. Best is trial 241 with value: 0.8032279314888011.\u001b[0m\n",
      "\u001b[32m[I 2023-03-04 17:52:07,910]\u001b[0m Trial 247 finished with value: 0.7533596837944663 and parameters: {'reg_lambda': 0.175252048677913, 'learning_rate': 0.008700525523190068, 'n_estimators': 395, 'lambda': 0.24749147532711882, 'alpha': 0.7357698268814244, 'max_depth': 3, 'eta': 0.3075492072826922, 'gamma': 0.25639653695158415, 'subsample': 0.18073281492054327, 'colsample_bytree': 0.8396463990225405, 'min_child_weight': 11}. Best is trial 241 with value: 0.8032279314888011.\u001b[0m\n",
      "\u001b[32m[I 2023-03-04 17:52:08,045]\u001b[0m Trial 248 finished with value: 0.7533596837944663 and parameters: {'reg_lambda': 0.18957606815296443, 'learning_rate': 0.0075998109410604685, 'n_estimators': 410, 'lambda': 0.21362765387451543, 'alpha': 0.7576157187559315, 'max_depth': 3, 'eta': 0.27441320904572764, 'gamma': 0.23726335047261493, 'subsample': 0.22475201088619276, 'colsample_bytree': 0.8115547293966768, 'min_child_weight': 7}. Best is trial 241 with value: 0.8032279314888011.\u001b[0m\n",
      "\u001b[32m[I 2023-03-04 17:52:08,182]\u001b[0m Trial 249 finished with value: 0.7941370223978921 and parameters: {'reg_lambda': 0.2319265117634583, 'learning_rate': 0.009808459279111422, 'n_estimators': 380, 'lambda': 0.2303587645546228, 'alpha': 0.7126028586369002, 'max_depth': 3, 'eta': 0.2588729016021687, 'gamma': 0.2611415668774728, 'subsample': 0.19519376559332696, 'colsample_bytree': 0.8389246015870353, 'min_child_weight': 1}. Best is trial 241 with value: 0.8032279314888011.\u001b[0m\n",
      "\u001b[32m[I 2023-03-04 17:52:08,323]\u001b[0m Trial 250 finished with value: 0.7533596837944663 and parameters: {'reg_lambda': 0.22160345304353113, 'learning_rate': 0.008861074454594877, 'n_estimators': 395, 'lambda': 0.23309164193633275, 'alpha': 0.713771905728697, 'max_depth': 3, 'eta': 0.28234403577692535, 'gamma': 0.26380980607511806, 'subsample': 0.1979203158334911, 'colsample_bytree': 0.8367523020004662, 'min_child_weight': 13}. Best is trial 241 with value: 0.8032279314888011.\u001b[0m\n",
      "\u001b[32m[I 2023-03-04 17:52:08,434]\u001b[0m Trial 251 finished with value: 0.5 and parameters: {'reg_lambda': 0.29542276505194176, 'learning_rate': 0.012311092271524032, 'n_estimators': 380, 'lambda': 0.26068959673481285, 'alpha': 0.7054955958720073, 'max_depth': 3, 'eta': 0.23435716182479754, 'gamma': 0.26277552921175973, 'subsample': 0.15691873449315236, 'colsample_bytree': 0.8566749343336794, 'min_child_weight': 299}. Best is trial 241 with value: 0.8032279314888011.\u001b[0m\n",
      "\u001b[32m[I 2023-03-04 17:52:08,577]\u001b[0m Trial 252 finished with value: 0.7533596837944663 and parameters: {'reg_lambda': 0.22547163622997454, 'learning_rate': 0.004756907375599704, 'n_estimators': 380, 'lambda': 0.1837740101771753, 'alpha': 0.7313792232053165, 'max_depth': 3, 'eta': 0.2582419615603987, 'gamma': 0.27756994981729677, 'subsample': 0.185789461423488, 'colsample_bytree': 0.7970864095127292, 'min_child_weight': 6}. Best is trial 241 with value: 0.8032279314888011.\u001b[0m\n",
      "\u001b[32m[I 2023-03-04 17:52:08,695]\u001b[0m Trial 253 finished with value: 0.7533596837944663 and parameters: {'reg_lambda': 0.13500672386728532, 'learning_rate': 0.010961536412526585, 'n_estimators': 410, 'lambda': 0.21133923673331953, 'alpha': 0.6665947187114329, 'max_depth': 3, 'eta': 0.28708790959715896, 'gamma': 0.24899660948769228, 'subsample': 0.20751384780277582, 'colsample_bytree': 0.8324976424265987, 'min_child_weight': 17}. Best is trial 241 with value: 0.8032279314888011.\u001b[0m\n",
      "\u001b[32m[I 2023-03-04 17:52:08,840]\u001b[0m Trial 254 finished with value: 0.7959815546772069 and parameters: {'reg_lambda': 0.16979874317063995, 'learning_rate': 0.006124158273258248, 'n_estimators': 395, 'lambda': 0.24370613292359633, 'alpha': 0.6961587593508196, 'max_depth': 3, 'eta': 0.30661557128310174, 'gamma': 0.2875125394028022, 'subsample': 0.17729498332201796, 'colsample_bytree': 0.8090270195821486, 'min_child_weight': 1}. Best is trial 241 with value: 0.8032279314888011.\u001b[0m\n",
      "\u001b[32m[I 2023-03-04 17:52:08,955]\u001b[0m Trial 255 finished with value: 0.7205533596837945 and parameters: {'reg_lambda': 0.17499124048540102, 'learning_rate': 0.005801890605471693, 'n_estimators': 410, 'lambda': 0.24076343582762327, 'alpha': 0.6856002908235371, 'max_depth': 3, 'eta': 0.3004490610062004, 'gamma': 0.2929029230786699, 'subsample': 0.17492334499644524, 'colsample_bytree': 0.18180394331813776, 'min_child_weight': 7}. Best is trial 241 with value: 0.8032279314888011.\u001b[0m\n",
      "\u001b[32m[I 2023-03-04 17:52:09,096]\u001b[0m Trial 256 finished with value: 0.7941370223978921 and parameters: {'reg_lambda': 0.1138899424668983, 'learning_rate': 0.009402814347634104, 'n_estimators': 395, 'lambda': 0.25236135277325744, 'alpha': 0.7049141633371532, 'max_depth': 3, 'eta': 0.26570701733254226, 'gamma': 0.5353526281404664, 'subsample': 0.18986192915915823, 'colsample_bytree': 0.8545416673052131, 'min_child_weight': 1}. Best is trial 241 with value: 0.8032279314888011.\u001b[0m\n",
      "\u001b[32m[I 2023-03-04 17:52:09,219]\u001b[0m Trial 257 finished with value: 0.7533596837944663 and parameters: {'reg_lambda': 0.1565217214912671, 'learning_rate': 0.006751919942627855, 'n_estimators': 380, 'lambda': 0.288818364247694, 'alpha': 0.703513865029334, 'max_depth': 3, 'eta': 0.26186884601614374, 'gamma': 0.2818562344405386, 'subsample': 0.1539670017422477, 'colsample_bytree': 0.8627112193680793, 'min_child_weight': 12}. Best is trial 241 with value: 0.8032279314888011.\u001b[0m\n",
      "\u001b[32m[I 2023-03-04 17:52:09,367]\u001b[0m Trial 258 finished with value: 0.7533596837944663 and parameters: {'reg_lambda': 0.13311264054762711, 'learning_rate': 0.009440516621072856, 'n_estimators': 395, 'lambda': 0.25231927737607607, 'alpha': 0.7228862760750172, 'max_depth': 3, 'eta': 0.23080906708483193, 'gamma': 0.23167771545556512, 'subsample': 0.17428230068213463, 'colsample_bytree': 0.8872930014550382, 'min_child_weight': 6}. Best is trial 241 with value: 0.8032279314888011.\u001b[0m\n",
      "\u001b[32m[I 2023-03-04 17:52:09,480]\u001b[0m Trial 259 finished with value: 0.7533596837944663 and parameters: {'reg_lambda': 0.10511910330306914, 'learning_rate': 0.00902238263808395, 'n_estimators': 365, 'lambda': 0.27108159745888, 'alpha': 0.6743443709020344, 'max_depth': 3, 'eta': 0.32001609069747083, 'gamma': 0.52948708577729, 'subsample': 0.18988007901876006, 'colsample_bytree': 0.846606529337513, 'min_child_weight': 19}. Best is trial 241 with value: 0.8032279314888011.\u001b[0m\n",
      "\u001b[32m[I 2023-03-04 17:52:09,636]\u001b[0m Trial 260 finished with value: 0.7941370223978921 and parameters: {'reg_lambda': 0.08980548759437025, 'learning_rate': 0.008026648009155493, 'n_estimators': 395, 'lambda': 0.23726482210313105, 'alpha': 0.697977882427116, 'max_depth': 3, 'eta': 0.27485988438737463, 'gamma': 0.2593613078903753, 'subsample': 0.21698218615013865, 'colsample_bytree': 0.8208810292966082, 'min_child_weight': 1}. Best is trial 241 with value: 0.8032279314888011.\u001b[0m\n",
      "\u001b[32m[I 2023-03-04 17:52:09,775]\u001b[0m Trial 261 finished with value: 0.8005270092226614 and parameters: {'reg_lambda': 0.1125753933200792, 'learning_rate': 0.00773865645672065, 'n_estimators': 395, 'lambda': 0.23706689836427206, 'alpha': 0.6972145317148996, 'max_depth': 3, 'eta': 0.271159974736413, 'gamma': 0.2554340815761466, 'subsample': 0.21776367908971947, 'colsample_bytree': 0.9924424164770251, 'min_child_weight': 1}. Best is trial 241 with value: 0.8032279314888011.\u001b[0m\n",
      "\u001b[32m[I 2023-03-04 17:52:09,911]\u001b[0m Trial 262 finished with value: 0.7533596837944663 and parameters: {'reg_lambda': 0.09560683326319888, 'learning_rate': 0.010080950973756077, 'n_estimators': 395, 'lambda': 0.26193756592091993, 'alpha': 0.6477556252885901, 'max_depth': 3, 'eta': 0.305086217305694, 'gamma': 0.2981259845234403, 'subsample': 0.23038649535865935, 'colsample_bytree': 0.971181564840326, 'min_child_weight': 11}. Best is trial 241 with value: 0.8032279314888011.\u001b[0m\n",
      "\u001b[32m[I 2023-03-04 17:52:10,056]\u001b[0m Trial 263 finished with value: 0.8005270092226614 and parameters: {'reg_lambda': 0.07487958055942708, 'learning_rate': 0.008117870768219326, 'n_estimators': 395, 'lambda': 0.22723586376692595, 'alpha': 0.6988911095385572, 'max_depth': 3, 'eta': 0.255086543211712, 'gamma': 0.2577652831708232, 'subsample': 0.2156861575376451, 'colsample_bytree': 0.9786770473509672, 'min_child_weight': 1}. Best is trial 241 with value: 0.8032279314888011.\u001b[0m\n",
      "\u001b[32m[I 2023-03-04 17:52:10,186]\u001b[0m Trial 264 finished with value: 0.7533596837944663 and parameters: {'reg_lambda': 0.12275265119055796, 'learning_rate': 0.007541740962076734, 'n_estimators': 365, 'lambda': 0.22330118051843098, 'alpha': 0.6708523766793074, 'max_depth': 3, 'eta': 0.25446438800497717, 'gamma': 0.24898572578154524, 'subsample': 0.22346000904803434, 'colsample_bytree': 0.8857077886909346, 'min_child_weight': 7}. Best is trial 241 with value: 0.8032279314888011.\u001b[0m\n",
      "\u001b[32m[I 2023-03-04 17:52:10,307]\u001b[0m Trial 265 finished with value: 0.7533596837944663 and parameters: {'reg_lambda': 0.10491158664995277, 'learning_rate': 0.00788593793614327, 'n_estimators': 380, 'lambda': 0.19584219732738445, 'alpha': 0.6953769394169503, 'max_depth': 3, 'eta': 0.220486349364699, 'gamma': 0.26680833949367705, 'subsample': 0.24919888092782977, 'colsample_bytree': 0.9838671037120533, 'min_child_weight': 16}. Best is trial 241 with value: 0.8032279314888011.\u001b[0m\n",
      "\u001b[32m[I 2023-03-04 17:52:10,454]\u001b[0m Trial 266 finished with value: 0.7533596837944663 and parameters: {'reg_lambda': 0.09022923805586727, 'learning_rate': 0.005611015745672181, 'n_estimators': 395, 'lambda': 0.22850707229460862, 'alpha': 0.736402893831098, 'max_depth': 3, 'eta': 0.2440049610283549, 'gamma': 0.25566857712836827, 'subsample': 0.20239011982237176, 'colsample_bytree': 0.9520863658031633, 'min_child_weight': 6}. Best is trial 241 with value: 0.8032279314888011.\u001b[0m\n",
      "\u001b[32m[I 2023-03-04 17:52:10,571]\u001b[0m Trial 267 finished with value: 0.7533596837944663 and parameters: {'reg_lambda': 0.07205109158080429, 'learning_rate': 0.007043494446773467, 'n_estimators': 395, 'lambda': 0.2868001906142668, 'alpha': 0.6882579039680077, 'max_depth': 3, 'eta': 0.19646752233887152, 'gamma': 0.2835570492268425, 'subsample': 0.13505447762925055, 'colsample_bytree': 0.9796610514550109, 'min_child_weight': 12}. Best is trial 241 with value: 0.8032279314888011.\u001b[0m\n",
      "\u001b[32m[I 2023-03-04 17:52:10,692]\u001b[0m Trial 268 finished with value: 0.7533596837944663 and parameters: {'reg_lambda': 0.07313478372414982, 'learning_rate': 0.015064865451221507, 'n_estimators': 380, 'lambda': 0.21896698878045287, 'alpha': 0.659290655270648, 'max_depth': 3, 'eta': 0.2602337730674871, 'gamma': 0.22649824606827285, 'subsample': 0.2336830549723563, 'colsample_bytree': 0.9790124001487452, 'min_child_weight': 22}. Best is trial 241 with value: 0.8032279314888011.\u001b[0m\n",
      "\u001b[32m[I 2023-03-04 17:52:10,841]\u001b[0m Trial 269 finished with value: 0.7932806324110672 and parameters: {'reg_lambda': 0.17598468099057127, 'learning_rate': 0.006333607715483373, 'n_estimators': 395, 'lambda': 0.2541165266886604, 'alpha': 0.8491245007031613, 'max_depth': 3, 'eta': 0.2767017169107418, 'gamma': 0.2446765591067076, 'subsample': 0.21245078034321177, 'colsample_bytree': 0.9593088478168968, 'min_child_weight': 1}. Best is trial 241 with value: 0.8032279314888011.\u001b[0m\n",
      "\u001b[32m[I 2023-03-04 17:52:11,000]\u001b[0m Trial 270 finished with value: 0.7533596837944663 and parameters: {'reg_lambda': 0.14335366464965257, 'learning_rate': 0.006489011309914024, 'n_estimators': 395, 'lambda': 0.20042005153438902, 'alpha': 0.740612821548093, 'max_depth': 3, 'eta': 0.3194795064203826, 'gamma': 0.2454375170552967, 'subsample': 0.21565527700327405, 'colsample_bytree': 0.9945490719185376, 'min_child_weight': 7}. Best is trial 241 with value: 0.8032279314888011.\u001b[0m\n",
      "\u001b[32m[I 2023-03-04 17:52:11,135]\u001b[0m Trial 271 finished with value: 0.7533596837944663 and parameters: {'reg_lambda': 0.17543824955894152, 'learning_rate': 0.008393927791720027, 'n_estimators': 395, 'lambda': 0.2702974748561644, 'alpha': 0.631013796861095, 'max_depth': 3, 'eta': 0.2972521913912466, 'gamma': 0.27030063900212653, 'subsample': 0.251729673573354, 'colsample_bytree': 0.9298267393760405, 'min_child_weight': 12}. Best is trial 241 with value: 0.8032279314888011.\u001b[0m\n",
      "\u001b[32m[I 2023-03-04 17:52:11,285]\u001b[0m Trial 272 finished with value: 0.76699604743083 and parameters: {'reg_lambda': 0.18745970193968614, 'learning_rate': 0.0045360344307981025, 'n_estimators': 380, 'lambda': 0.23723188537893516, 'alpha': 0.8372981350912134, 'max_depth': 3, 'eta': 0.23537737512537427, 'gamma': 0.300093935766273, 'subsample': 0.17109361503650045, 'colsample_bytree': 0.9597331692764065, 'min_child_weight': 1}. Best is trial 241 with value: 0.8032279314888011.\u001b[0m\n",
      "\u001b[32m[I 2023-03-04 17:52:11,422]\u001b[0m Trial 273 finished with value: 0.7533596837944663 and parameters: {'reg_lambda': 0.13115564062954546, 'learning_rate': 0.010467568267117495, 'n_estimators': 395, 'lambda': 0.30200228658871736, 'alpha': 0.8500469143768792, 'max_depth': 3, 'eta': 0.20516826870291255, 'gamma': 0.22990501591139642, 'subsample': 0.23427169257732358, 'colsample_bytree': 0.9987799055077545, 'min_child_weight': 6}. Best is trial 241 with value: 0.8032279314888011.\u001b[0m\n",
      "\u001b[32m[I 2023-03-04 17:52:11,556]\u001b[0m Trial 274 finished with value: 0.7533596837944663 and parameters: {'reg_lambda': 0.10657420955055173, 'learning_rate': 0.006035865079197753, 'n_estimators': 395, 'lambda': 0.02572086545952945, 'alpha': 0.8787747990721869, 'max_depth': 3, 'eta': 0.33213894566775226, 'gamma': 0.2530487208005504, 'subsample': 0.21119324516928084, 'colsample_bytree': 0.9584271389858154, 'min_child_weight': 16}. Best is trial 241 with value: 0.8032279314888011.\u001b[0m\n",
      "\u001b[32m[I 2023-03-04 17:52:11,747]\u001b[0m Trial 275 finished with value: 0.7678524374176547 and parameters: {'reg_lambda': 0.017876732600508382, 'learning_rate': 0.012542087464354602, 'n_estimators': 380, 'lambda': 0.17691713775263684, 'alpha': 0.8196225976064486, 'max_depth': 12, 'eta': 0.16600396269953677, 'gamma': 0.27356477833365483, 'subsample': 0.26269826285325726, 'colsample_bytree': 0.9343443789107243, 'min_child_weight': 1}. Best is trial 241 with value: 0.8032279314888011.\u001b[0m\n",
      "\u001b[32m[I 2023-03-04 17:52:11,869]\u001b[0m Trial 276 finished with value: 0.7533596837944663 and parameters: {'reg_lambda': 0.22856900126525126, 'learning_rate': 0.00870002459162916, 'n_estimators': 365, 'lambda': 0.21150709353549657, 'alpha': 0.8641619386815151, 'max_depth': 3, 'eta': 0.2691732329179767, 'gamma': 0.22822101179725532, 'subsample': 0.15187522943324777, 'colsample_bytree': 0.9087776231006496, 'min_child_weight': 10}. Best is trial 241 with value: 0.8032279314888011.\u001b[0m\n",
      "\u001b[32m[I 2023-03-04 17:52:12,019]\u001b[0m Trial 277 finished with value: 0.7533596837944663 and parameters: {'reg_lambda': 0.06137991224580458, 'learning_rate': 0.005299592083893947, 'n_estimators': 410, 'lambda': 0.23310571068135372, 'alpha': 0.705651361135344, 'max_depth': 3, 'eta': 0.24544630599466946, 'gamma': 0.5520119540348036, 'subsample': 0.23911268074052983, 'colsample_bytree': 0.9633331096880136, 'min_child_weight': 6}. Best is trial 241 with value: 0.8032279314888011.\u001b[0m\n",
      "\u001b[32m[I 2023-03-04 17:52:12,163]\u001b[0m Trial 278 finished with value: 0.7914361001317525 and parameters: {'reg_lambda': 0.0850804860423928, 'learning_rate': 0.006452199245867837, 'n_estimators': 410, 'lambda': 0.25858905156628526, 'alpha': 0.9028366648998404, 'max_depth': 3, 'eta': 0.2895499348933172, 'gamma': 0.30611050279768875, 'subsample': 0.19167708866271868, 'colsample_bytree': 0.8678703482730854, 'min_child_weight': 1}. Best is trial 241 with value: 0.8032279314888011.\u001b[0m\n",
      "\u001b[32m[I 2023-03-04 17:52:12,288]\u001b[0m Trial 279 finished with value: 0.7533596837944663 and parameters: {'reg_lambda': 0.08423196068473732, 'learning_rate': 0.006725514876259462, 'n_estimators': 395, 'lambda': 0.279694961194846, 'alpha': 0.8845169791799707, 'max_depth': 3, 'eta': 0.27921631808265485, 'gamma': 0.31134441897601517, 'subsample': 0.1885834753306964, 'colsample_bytree': 0.9963526666366695, 'min_child_weight': 11}. Best is trial 241 with value: 0.8032279314888011.\u001b[0m\n",
      "\u001b[32m[I 2023-03-04 17:52:12,417]\u001b[0m Trial 280 finished with value: 0.7032279314888011 and parameters: {'reg_lambda': 0.12055468813817274, 'learning_rate': 0.009562906902111505, 'n_estimators': 485, 'lambda': 0.25690427402410404, 'alpha': 0.9307644079588159, 'max_depth': 3, 'eta': 0.2960915830262264, 'gamma': 0.28777818918878123, 'subsample': 0.17134536613025686, 'colsample_bytree': 0.9205659982707071, 'min_child_weight': 21}. Best is trial 241 with value: 0.8032279314888011.\u001b[0m\n",
      "\u001b[32m[I 2023-03-04 17:52:12,556]\u001b[0m Trial 281 finished with value: 0.7624505928853755 and parameters: {'reg_lambda': 0.15755771920083012, 'learning_rate': 0.004770021173289816, 'n_estimators': 410, 'lambda': 0.2557664264848832, 'alpha': 0.8485994174579693, 'max_depth': 3, 'eta': 0.5385448751682401, 'gamma': 0.2558241109093418, 'subsample': 0.13989309944527145, 'colsample_bytree': 0.9334238696939299, 'min_child_weight': 1}. Best is trial 241 with value: 0.8032279314888011.\u001b[0m\n",
      "\u001b[32m[I 2023-03-04 17:52:12,692]\u001b[0m Trial 282 finished with value: 0.7533596837944663 and parameters: {'reg_lambda': 0.31071662812060247, 'learning_rate': 0.008107116878004868, 'n_estimators': 380, 'lambda': 0.2844176094352138, 'alpha': 0.9010263192888449, 'max_depth': 3, 'eta': 0.21433246055253305, 'gamma': 0.31512259881558796, 'subsample': 0.20336501522573291, 'colsample_bytree': 0.9533181908750293, 'min_child_weight': 7}. Best is trial 241 with value: 0.8032279314888011.\u001b[0m\n",
      "\u001b[32m[I 2023-03-04 17:52:12,827]\u001b[0m Trial 283 finished with value: 0.7533596837944663 and parameters: {'reg_lambda': 0.09126671058669192, 'learning_rate': 0.006521947420553677, 'n_estimators': 425, 'lambda': 0.23332264033662048, 'alpha': 0.6661314883232254, 'max_depth': 3, 'eta': 0.25892756003120154, 'gamma': 0.27967289209129204, 'subsample': 0.21874120377974043, 'colsample_bytree': 0.9767087347181651, 'min_child_weight': 15}. Best is trial 241 with value: 0.8032279314888011.\u001b[0m\n",
      "\u001b[32m[I 2023-03-04 17:52:12,945]\u001b[0m Trial 284 finished with value: 0.5 and parameters: {'reg_lambda': 0.20159097360659725, 'learning_rate': 0.005341214390620445, 'n_estimators': 395, 'lambda': 0.26300768074007436, 'alpha': 0.6050101152185934, 'max_depth': 3, 'eta': 0.17460851119398255, 'gamma': 0.49241249045654045, 'subsample': 0.1838890868766696, 'colsample_bytree': 0.8677363127497444, 'min_child_weight': 69}. Best is trial 241 with value: 0.8032279314888011.\u001b[0m\n",
      "\u001b[32m[I 2023-03-04 17:52:13,084]\u001b[0m Trial 285 finished with value: 0.756060606060606 and parameters: {'reg_lambda': 1.0491657272130026, 'learning_rate': 0.015267273934456937, 'n_estimators': 410, 'lambda': 0.2044011404323081, 'alpha': 0.9428681002900043, 'max_depth': 3, 'eta': 0.3101070787895892, 'gamma': 0.2445828830065462, 'subsample': 0.2758432559567743, 'colsample_bytree': 0.9067802091426692, 'min_child_weight': 7}. Best is trial 241 with value: 0.8032279314888011.\u001b[0m\n",
      "\u001b[32m[I 2023-03-04 17:52:13,227]\u001b[0m Trial 286 finished with value: 0.775098814229249 and parameters: {'reg_lambda': 1.2662849013537802, 'learning_rate': 0.0074411399735104175, 'n_estimators': 380, 'lambda': 0.29856663780007997, 'alpha': 0.68449389289584, 'max_depth': 3, 'eta': 0.28318016262786255, 'gamma': 0.30019575130583026, 'subsample': 0.10293328801487861, 'colsample_bytree': 0.8995945692412146, 'min_child_weight': 1}. Best is trial 241 with value: 0.8032279314888011.\u001b[0m\n",
      "\u001b[32m[I 2023-03-04 17:52:13,352]\u001b[0m Trial 287 finished with value: 0.7533596837944663 and parameters: {'reg_lambda': 0.029462587478250406, 'learning_rate': 0.011870819980278087, 'n_estimators': 395, 'lambda': 0.04946415030499829, 'alpha': 0.6439204429922736, 'max_depth': 3, 'eta': 0.2390441919873251, 'gamma': 0.21809522632128275, 'subsample': 0.16036561287432388, 'colsample_bytree': 0.9438586055431133, 'min_child_weight': 10}. Best is trial 241 with value: 0.8032279314888011.\u001b[0m\n",
      "\u001b[32m[I 2023-03-04 17:52:13,563]\u001b[0m Trial 288 finished with value: 0.7823451910408431 and parameters: {'reg_lambda': 0.5488116784415588, 'learning_rate': 0.010083830746804946, 'n_estimators': 455, 'lambda': 0.22083595803604264, 'alpha': 0.8289585152488392, 'max_depth': 9, 'eta': 0.2261318302659719, 'gamma': 0.2668043361942839, 'subsample': 0.2511731886311909, 'colsample_bytree': 0.8684433031454071, 'min_child_weight': 1}. Best is trial 241 with value: 0.8032279314888011.\u001b[0m\n",
      "\u001b[32m[I 2023-03-04 17:52:13,700]\u001b[0m Trial 289 finished with value: 0.7533596837944663 and parameters: {'reg_lambda': 0.2698827173926936, 'learning_rate': 0.003922179633180746, 'n_estimators': 350, 'lambda': 0.24519700261704805, 'alpha': 0.7189855428784367, 'max_depth': 3, 'eta': 0.2592749632838077, 'gamma': 0.24733889165381392, 'subsample': 0.20362360042412866, 'colsample_bytree': 0.969631906757695, 'min_child_weight': 17}. Best is trial 241 with value: 0.8032279314888011.\u001b[0m\n",
      "\u001b[32m[I 2023-03-04 17:52:13,824]\u001b[0m Trial 290 finished with value: 0.5 and parameters: {'reg_lambda': 2.7981607085302267, 'learning_rate': 0.01784125154090906, 'n_estimators': 425, 'lambda': 0.27367011208841036, 'alpha': 0.6980700007436174, 'max_depth': 3, 'eta': 0.29015471530886366, 'gamma': 0.9680402664826389, 'subsample': 0.2310788288150205, 'colsample_bytree': 0.8856730585306645, 'min_child_weight': 60}. Best is trial 241 with value: 0.8032279314888011.\u001b[0m\n",
      "\u001b[32m[I 2023-03-04 17:52:13,950]\u001b[0m Trial 291 finished with value: 0.5 and parameters: {'reg_lambda': 0.12150407734402648, 'learning_rate': 0.0060602627748908506, 'n_estimators': 410, 'lambda': 0.23694675128445514, 'alpha': 0.6789417402760255, 'max_depth': 8, 'eta': 0.18335140948002332, 'gamma': 0.21998773218649414, 'subsample': 0.18715613250144061, 'colsample_bytree': 0.8537169753808508, 'min_child_weight': 247}. Best is trial 241 with value: 0.8032279314888011.\u001b[0m\n",
      "\u001b[32m[I 2023-03-04 17:52:14,092]\u001b[0m Trial 292 finished with value: 0.7533596837944663 and parameters: {'reg_lambda': 0.08148152931395994, 'learning_rate': 0.008900948472963008, 'n_estimators': 380, 'lambda': 0.38493930138216426, 'alpha': 0.7653255573534324, 'max_depth': 3, 'eta': 0.2731687500746656, 'gamma': 0.29059743334891497, 'subsample': 0.21264169064211616, 'colsample_bytree': 0.8144335881306344, 'min_child_weight': 6}. Best is trial 241 with value: 0.8032279314888011.\u001b[0m\n",
      "\u001b[32m[I 2023-03-04 17:52:14,225]\u001b[0m Trial 293 finished with value: 0.7533596837944663 and parameters: {'reg_lambda': 0.8678586783971581, 'learning_rate': 0.01120542613436799, 'n_estimators': 410, 'lambda': 0.20947273324018623, 'alpha': 0.8099674926441014, 'max_depth': 3, 'eta': 0.30775357011264726, 'gamma': 0.26316771774647557, 'subsample': 0.24147703214320804, 'colsample_bytree': 0.7727614465421954, 'min_child_weight': 13}. Best is trial 241 with value: 0.8032279314888011.\u001b[0m\n",
      "\u001b[32m[I 2023-03-04 17:52:14,367]\u001b[0m Trial 294 finished with value: 0.7533596837944663 and parameters: {'reg_lambda': 0.41124876060347026, 'learning_rate': 0.004462341637634565, 'n_estimators': 395, 'lambda': 0.1623958377497826, 'alpha': 0.7201216996731891, 'max_depth': 3, 'eta': 0.3487949431056455, 'gamma': 0.23264203534736336, 'subsample': 0.26090923569859437, 'colsample_bytree': 0.9926136151654074, 'min_child_weight': 6}. Best is trial 241 with value: 0.8032279314888011.\u001b[0m\n",
      "\u001b[32m[I 2023-03-04 17:52:14,525]\u001b[0m Trial 295 finished with value: 0.7895915678524374 and parameters: {'reg_lambda': 0.019887282179720384, 'learning_rate': 0.007803068684246977, 'n_estimators': 410, 'lambda': 0.25579128464272444, 'alpha': 0.9074315728302061, 'max_depth': 3, 'eta': 0.25910618844013295, 'gamma': 0.32437042453013315, 'subsample': 0.19766910074533922, 'colsample_bytree': 0.665130614071308, 'min_child_weight': 1}. Best is trial 241 with value: 0.8032279314888011.\u001b[0m\n",
      "\u001b[32m[I 2023-03-04 17:52:14,642]\u001b[0m Trial 296 finished with value: 0.5 and parameters: {'reg_lambda': 0.02158177009601084, 'learning_rate': 0.007777908259752764, 'n_estimators': 395, 'lambda': 0.30606314029261117, 'alpha': 0.8799212629363233, 'max_depth': 3, 'eta': 0.24555283479524917, 'gamma': 0.3121097657154118, 'subsample': 0.1757979124750413, 'colsample_bytree': 0.5242691599269278, 'min_child_weight': 23}. Best is trial 241 with value: 0.8032279314888011.\u001b[0m\n",
      "\u001b[32m[I 2023-03-04 17:52:14,775]\u001b[0m Trial 297 finished with value: 0.7533596837944663 and parameters: {'reg_lambda': 0.02041160991090678, 'learning_rate': 0.0063189684899, 'n_estimators': 365, 'lambda': 0.25959727789135334, 'alpha': 0.9114378205139877, 'max_depth': 3, 'eta': 0.25415350963697203, 'gamma': 0.32792055455019165, 'subsample': 0.19653474109648758, 'colsample_bytree': 0.8058297585696231, 'min_child_weight': 11}. Best is trial 241 with value: 0.8032279314888011.\u001b[0m\n",
      "\u001b[32m[I 2023-03-04 17:52:14,921]\u001b[0m Trial 298 finished with value: 0.7986824769433466 and parameters: {'reg_lambda': 0.015461689815759518, 'learning_rate': 0.010186022687905237, 'n_estimators': 425, 'lambda': 0.2817579854159465, 'alpha': 0.9054242803930312, 'max_depth': 3, 'eta': 0.2087544379809413, 'gamma': 0.2898591751252591, 'subsample': 0.12541314137248616, 'colsample_bytree': 0.6642028883908702, 'min_child_weight': 1}. Best is trial 241 with value: 0.8032279314888011.\u001b[0m\n",
      "\u001b[32m[I 2023-03-04 17:52:15,057]\u001b[0m Trial 299 finished with value: 0.7533596837944663 and parameters: {'reg_lambda': 0.011749485674802473, 'learning_rate': 0.01008035466593872, 'n_estimators': 425, 'lambda': 0.33155066330279925, 'alpha': 0.8668032412579164, 'max_depth': 3, 'eta': 0.20359926311485446, 'gamma': 0.2980194611225257, 'subsample': 0.1526871439827527, 'colsample_bytree': 0.6443219920272639, 'min_child_weight': 7}. Best is trial 241 with value: 0.8032279314888011.\u001b[0m\n",
      "\u001b[32m[I 2023-03-04 17:52:15,188]\u001b[0m Trial 300 finished with value: 0.7032279314888011 and parameters: {'reg_lambda': 0.008428884415029696, 'learning_rate': 0.012948955125295243, 'n_estimators': 470, 'lambda': 0.2920947321222119, 'alpha': 0.8610558220810669, 'max_depth': 3, 'eta': 0.21201350595577423, 'gamma': 0.34080201566007196, 'subsample': 0.13523619690000127, 'colsample_bytree': 0.598978926846046, 'min_child_weight': 15}. Best is trial 241 with value: 0.8032279314888011.\u001b[0m\n",
      "\u001b[32m[I 2023-03-04 17:52:15,348]\u001b[0m Trial 301 finished with value: 0.7959815546772069 and parameters: {'reg_lambda': 0.013415288367417734, 'learning_rate': 0.008689324509840696, 'n_estimators': 425, 'lambda': 0.31639112923637386, 'alpha': 0.9741838956049176, 'max_depth': 3, 'eta': 0.6492499008267097, 'gamma': 0.2811709367184594, 'subsample': 0.12265479459374282, 'colsample_bytree': 0.6797063821504419, 'min_child_weight': 1}. Best is trial 241 with value: 0.8032279314888011.\u001b[0m\n",
      "\u001b[32m[I 2023-03-04 17:52:15,492]\u001b[0m Trial 302 finished with value: 0.7959815546772069 and parameters: {'reg_lambda': 0.01409178543192752, 'learning_rate': 0.008273412624631382, 'n_estimators': 440, 'lambda': 0.314143830171101, 'alpha': 0.9144641658704835, 'max_depth': 3, 'eta': 0.6514719265394644, 'gamma': 0.5801890467552231, 'subsample': 0.10919062930155958, 'colsample_bytree': 0.6499998855571034, 'min_child_weight': 1}. Best is trial 241 with value: 0.8032279314888011.\u001b[0m\n",
      "\u001b[32m[I 2023-03-04 17:52:15,625]\u001b[0m Trial 303 finished with value: 0.7533596837944663 and parameters: {'reg_lambda': 0.01694406857821317, 'learning_rate': 0.007591878595867451, 'n_estimators': 440, 'lambda': 0.3103409171016192, 'alpha': 0.9119402430113317, 'max_depth': 3, 'eta': 0.6987710375638109, 'gamma': 0.2746070389446272, 'subsample': 0.11029688849991184, 'colsample_bytree': 0.6986969773664681, 'min_child_weight': 7}. Best is trial 241 with value: 0.8032279314888011.\u001b[0m\n",
      "\u001b[32m[I 2023-03-04 17:52:15,762]\u001b[0m Trial 304 finished with value: 0.7533596837944663 and parameters: {'reg_lambda': 0.013765670286646877, 'learning_rate': 0.005291426986057931, 'n_estimators': 440, 'lambda': 0.3292537630204252, 'alpha': 0.999300759572608, 'max_depth': 3, 'eta': 0.6416083179271177, 'gamma': 0.6140098396610997, 'subsample': 0.12766095045172376, 'colsample_bytree': 0.6727023113805072, 'min_child_weight': 12}. Best is trial 241 with value: 0.8032279314888011.\u001b[0m\n",
      "\u001b[32m[I 2023-03-04 17:52:15,910]\u001b[0m Trial 305 finished with value: 0.7895915678524374 and parameters: {'reg_lambda': 0.014740832849471438, 'learning_rate': 0.007920338824979285, 'n_estimators': 425, 'lambda': 0.2826683441575859, 'alpha': 0.9595786515415236, 'max_depth': 3, 'eta': 0.6694761223769049, 'gamma': 0.5597163281113596, 'subsample': 0.1011548592383314, 'colsample_bytree': 0.6806535525683529, 'min_child_weight': 1}. Best is trial 241 with value: 0.8032279314888011.\u001b[0m\n",
      "\u001b[32m[I 2023-03-04 17:52:16,051]\u001b[0m Trial 306 finished with value: 0.7533596837944663 and parameters: {'reg_lambda': 0.012174062329521264, 'learning_rate': 0.008472138798387947, 'n_estimators': 425, 'lambda': 0.30767346115179134, 'alpha': 0.9424994019024694, 'max_depth': 3, 'eta': 0.693478018198449, 'gamma': 0.5673149972420342, 'subsample': 0.13777257047314595, 'colsample_bytree': 0.6567757751922116, 'min_child_weight': 7}. Best is trial 241 with value: 0.8032279314888011.\u001b[0m\n",
      "\u001b[32m[I 2023-03-04 17:52:16,184]\u001b[0m Trial 307 finished with value: 0.5 and parameters: {'reg_lambda': 0.014512054067707413, 'learning_rate': 0.006850752007148367, 'n_estimators': 440, 'lambda': 0.2925918721236117, 'alpha': 0.9638336056746986, 'max_depth': 3, 'eta': 0.6374377151279602, 'gamma': 0.5303082343150074, 'subsample': 0.1179700532626553, 'colsample_bytree': 0.6539946917891779, 'min_child_weight': 17}. Best is trial 241 with value: 0.8032279314888011.\u001b[0m\n",
      "\u001b[32m[I 2023-03-04 17:52:16,318]\u001b[0m Trial 308 finished with value: 0.7533596837944663 and parameters: {'reg_lambda': 0.009545326759892779, 'learning_rate': 0.011819719850729524, 'n_estimators': 425, 'lambda': 0.35252635713029146, 'alpha': 0.8992701644502115, 'max_depth': 3, 'eta': 0.15969837922809627, 'gamma': 0.576439330884943, 'subsample': 0.1038911034585753, 'colsample_bytree': 0.6793211375799707, 'min_child_weight': 7}. Best is trial 241 with value: 0.8032279314888011.\u001b[0m\n",
      "\u001b[32m[I 2023-03-04 17:52:16,473]\u001b[0m Trial 309 finished with value: 0.7959815546772069 and parameters: {'reg_lambda': 0.017306698993463418, 'learning_rate': 0.008549023580272666, 'n_estimators': 425, 'lambda': 0.32195310332042143, 'alpha': 0.9222680256360293, 'max_depth': 3, 'eta': 0.42569934034236534, 'gamma': 0.3116748983409926, 'subsample': 0.11827452776616484, 'colsample_bytree': 0.6789966021904554, 'min_child_weight': 1}. Best is trial 241 with value: 0.8032279314888011.\u001b[0m\n",
      "\u001b[32m[I 2023-03-04 17:52:16,605]\u001b[0m Trial 310 finished with value: 0.7533596837944663 and parameters: {'reg_lambda': 0.015288233412488876, 'learning_rate': 0.009366797259350787, 'n_estimators': 425, 'lambda': 0.2736600724285273, 'alpha': 0.9701978253338951, 'max_depth': 10, 'eta': 0.6754945874718816, 'gamma': 0.5831051595073041, 'subsample': 0.10913479974807185, 'colsample_bytree': 0.6868267270125604, 'min_child_weight': 11}. Best is trial 241 with value: 0.8032279314888011.\u001b[0m\n",
      "\u001b[32m[I 2023-03-04 17:52:16,779]\u001b[0m Trial 311 finished with value: 0.7914361001317525 and parameters: {'reg_lambda': 0.017709776894662146, 'learning_rate': 0.006276663571317626, 'n_estimators': 455, 'lambda': 0.30511647153344046, 'alpha': 0.9403484945166893, 'max_depth': 3, 'eta': 0.45543787362853816, 'gamma': 0.5417014061508169, 'subsample': 0.12297489844411216, 'colsample_bytree': 0.6873590982491035, 'min_child_weight': 1}. Best is trial 241 with value: 0.8032279314888011.\u001b[0m\n",
      "\u001b[32m[I 2023-03-04 17:52:16,915]\u001b[0m Trial 312 finished with value: 0.7533596837944663 and parameters: {'reg_lambda': 0.015019650591414522, 'learning_rate': 0.006132602864544647, 'n_estimators': 440, 'lambda': 0.32779348650335144, 'alpha': 0.9284341401920676, 'max_depth': 3, 'eta': 0.41726680327704513, 'gamma': 0.5286021452065953, 'subsample': 0.126706271106581, 'colsample_bytree': 0.6678811832084922, 'min_child_weight': 6}. Best is trial 241 with value: 0.8032279314888011.\u001b[0m\n",
      "\u001b[32m[I 2023-03-04 17:52:17,048]\u001b[0m Trial 313 finished with value: 0.5 and parameters: {'reg_lambda': 0.010497219092713183, 'learning_rate': 0.007830670267510154, 'n_estimators': 455, 'lambda': 0.31633322147922155, 'alpha': 0.9516947636048103, 'max_depth': 3, 'eta': 0.38806848372387337, 'gamma': 0.31548127829098926, 'subsample': 0.11486399241718122, 'colsample_bytree': 0.6406157801160802, 'min_child_weight': 18}. Best is trial 241 with value: 0.8032279314888011.\u001b[0m\n",
      "\u001b[32m[I 2023-03-04 17:52:17,202]\u001b[0m Trial 314 finished with value: 0.7914361001317525 and parameters: {'reg_lambda': 0.01882639865489477, 'learning_rate': 0.007003987274122586, 'n_estimators': 455, 'lambda': 0.3488639447094372, 'alpha': 0.9140765458228903, 'max_depth': 3, 'eta': 0.5021551948329789, 'gamma': 0.5522563761919639, 'subsample': 0.12378934965013788, 'colsample_bytree': 0.71150178933021, 'min_child_weight': 1}. Best is trial 241 with value: 0.8032279314888011.\u001b[0m\n",
      "\u001b[32m[I 2023-03-04 17:52:17,348]\u001b[0m Trial 315 finished with value: 0.7533596837944663 and parameters: {'reg_lambda': 0.02120464557764533, 'learning_rate': 0.005498659288050801, 'n_estimators': 440, 'lambda': 0.3423924928529489, 'alpha': 0.9571409599183025, 'max_depth': 3, 'eta': 0.40920082919611456, 'gamma': 0.561022646687543, 'subsample': 0.12105104541804007, 'colsample_bytree': 0.7113324345559515, 'min_child_weight': 11}. Best is trial 241 with value: 0.8032279314888011.\u001b[0m\n",
      "\u001b[32m[I 2023-03-04 17:52:17,502]\u001b[0m Trial 316 finished with value: 0.7941370223978921 and parameters: {'reg_lambda': 0.016520008607725616, 'learning_rate': 0.007094165900852894, 'n_estimators': 455, 'lambda': 0.30408081832635875, 'alpha': 0.9186824810259914, 'max_depth': 3, 'eta': 0.5106340717687347, 'gamma': 0.5409755669132504, 'subsample': 0.10018633804238275, 'colsample_bytree': 0.6775190818255623, 'min_child_weight': 1}. Best is trial 241 with value: 0.8032279314888011.\u001b[0m\n",
      "\u001b[32m[I 2023-03-04 17:52:17,642]\u001b[0m Trial 317 finished with value: 0.7533596837944663 and parameters: {'reg_lambda': 0.020720096277955416, 'learning_rate': 0.004289919944711103, 'n_estimators': 455, 'lambda': 0.3162422430968771, 'alpha': 0.8976477744335507, 'max_depth': 3, 'eta': 0.4708310675133002, 'gamma': 0.5111973114790588, 'subsample': 0.14394036216804548, 'colsample_bytree': 0.6688644076449464, 'min_child_weight': 8}. Best is trial 241 with value: 0.8032279314888011.\u001b[0m\n",
      "\u001b[32m[I 2023-03-04 17:52:17,776]\u001b[0m Trial 318 finished with value: 0.5 and parameters: {'reg_lambda': 0.01675851805625171, 'learning_rate': 0.006674129667245835, 'n_estimators': 455, 'lambda': 0.3360284764915847, 'alpha': 0.9263056114130338, 'max_depth': 3, 'eta': 0.5275550879927943, 'gamma': 0.5311543517522143, 'subsample': 0.13462836057518593, 'colsample_bytree': 0.6639030022678043, 'min_child_weight': 28}. Best is trial 241 with value: 0.8032279314888011.\u001b[0m\n",
      "\u001b[32m[I 2023-03-04 17:52:17,914]\u001b[0m Trial 319 finished with value: 0.7533596837944663 and parameters: {'reg_lambda': 0.01031023756784628, 'learning_rate': 0.0036279066754469273, 'n_estimators': 455, 'lambda': 0.3614867514678865, 'alpha': 0.9215118847558454, 'max_depth': 3, 'eta': 0.5134299500799246, 'gamma': 0.511657550734574, 'subsample': 0.12272610270780074, 'colsample_bytree': 0.6382429459581371, 'min_child_weight': 6}. Best is trial 241 with value: 0.8032279314888011.\u001b[0m\n",
      "\u001b[32m[I 2023-03-04 17:52:18,040]\u001b[0m Trial 320 finished with value: 0.5 and parameters: {'reg_lambda': 0.01973924751239416, 'learning_rate': 0.0051508246016078825, 'n_estimators': 440, 'lambda': 0.3002587717614644, 'alpha': 0.9015827442972002, 'max_depth': 11, 'eta': 0.46422803527017387, 'gamma': 0.551603150760568, 'subsample': 0.14329054345046935, 'colsample_bytree': 0.6745351146414456, 'min_child_weight': 179}. Best is trial 241 with value: 0.8032279314888011.\u001b[0m\n",
      "\u001b[32m[I 2023-03-04 17:52:18,171]\u001b[0m Trial 321 finished with value: 0.6496706192358366 and parameters: {'reg_lambda': 0.012590012915137536, 'learning_rate': 0.010187088610148467, 'n_estimators': 470, 'lambda': 0.3158077496232356, 'alpha': 0.9273020118814638, 'max_depth': 3, 'eta': 0.4703509702156656, 'gamma': 0.6008822151305677, 'subsample': 0.12289820668882855, 'colsample_bytree': 0.6871535854492734, 'min_child_weight': 15}. Best is trial 241 with value: 0.8032279314888011.\u001b[0m\n",
      "\u001b[32m[I 2023-03-04 17:52:18,325]\u001b[0m Trial 322 finished with value: 0.7986824769433466 and parameters: {'reg_lambda': 0.0277991054947406, 'learning_rate': 0.006591334020444281, 'n_estimators': 455, 'lambda': 0.2928228224905842, 'alpha': 0.9076173174787832, 'max_depth': 3, 'eta': 0.44109719016254384, 'gamma': 0.546070441176257, 'subsample': 0.10293992042501243, 'colsample_bytree': 0.7001548061961376, 'min_child_weight': 1}. Best is trial 241 with value: 0.8032279314888011.\u001b[0m\n",
      "\u001b[32m[I 2023-03-04 17:52:18,473]\u001b[0m Trial 323 finished with value: 0.7533596837944663 and parameters: {'reg_lambda': 0.02928807586736804, 'learning_rate': 0.0013033392455202336, 'n_estimators': 455, 'lambda': 0.2961043162377105, 'alpha': 0.9403236113096712, 'max_depth': 3, 'eta': 0.4338234276958341, 'gamma': 0.5454720366156808, 'subsample': 0.106946323293168, 'colsample_bytree': 0.6832348973439827, 'min_child_weight': 11}. Best is trial 241 with value: 0.8032279314888011.\u001b[0m\n",
      "\u001b[32m[I 2023-03-04 17:52:18,626]\u001b[0m Trial 324 finished with value: 0.5 and parameters: {'reg_lambda': 0.016209516057606586, 'learning_rate': 0.0008202800075322016, 'n_estimators': 455, 'lambda': 0.34917912652278404, 'alpha': 0.8877613856846975, 'max_depth': 3, 'eta': 0.4463256574647242, 'gamma': 0.5811093563462943, 'subsample': 0.1003403498720175, 'colsample_bytree': 0.7112660237022792, 'min_child_weight': 22}. Best is trial 241 with value: 0.8032279314888011.\u001b[0m\n",
      "\u001b[32m[I 2023-03-04 17:52:18,772]\u001b[0m Trial 325 finished with value: 0.7533596837944663 and parameters: {'reg_lambda': 0.024631832267502988, 'learning_rate': 0.006082373338273266, 'n_estimators': 470, 'lambda': 0.3255892832088965, 'alpha': 0.9083045703647507, 'max_depth': 3, 'eta': 0.48597868184548976, 'gamma': 0.5931588997971775, 'subsample': 0.12240647749556227, 'colsample_bytree': 0.7008730297135397, 'min_child_weight': 7}. Best is trial 241 with value: 0.8032279314888011.\u001b[0m\n",
      "\u001b[32m[I 2023-03-04 17:52:18,935]\u001b[0m Trial 326 finished with value: 0.7914361001317525 and parameters: {'reg_lambda': 0.007959084298596987, 'learning_rate': 0.0047870101807600315, 'n_estimators': 440, 'lambda': 0.2904355414406974, 'alpha': 0.9809043208582224, 'max_depth': 3, 'eta': 0.49171825123865304, 'gamma': 0.544549386791897, 'subsample': 0.1554192939758367, 'colsample_bytree': 0.6992435159019268, 'min_child_weight': 1}. Best is trial 241 with value: 0.8032279314888011.\u001b[0m\n",
      "\u001b[32m[I 2023-03-04 17:52:19,079]\u001b[0m Trial 327 finished with value: 0.7533596837944663 and parameters: {'reg_lambda': 0.01110491293223838, 'learning_rate': 0.02976736707916822, 'n_estimators': 455, 'lambda': 0.31306009318545425, 'alpha': 0.8824250235952881, 'max_depth': 3, 'eta': 0.4398679415820441, 'gamma': 0.5114723477672569, 'subsample': 0.13984466394209732, 'colsample_bytree': 0.7308462091225735, 'min_child_weight': 12}. Best is trial 241 with value: 0.8032279314888011.\u001b[0m\n",
      "\u001b[32m[I 2023-03-04 17:52:19,222]\u001b[0m Trial 328 finished with value: 0.7533596837944663 and parameters: {'reg_lambda': 0.6276448854313972, 'learning_rate': 0.009006968075834506, 'n_estimators': 395, 'lambda': 0.2844172532124341, 'alpha': 0.9186518200893564, 'max_depth': 3, 'eta': 0.45402312664381395, 'gamma': 0.6510517053913137, 'subsample': 0.1195780746710721, 'colsample_bytree': 0.7125720425996741, 'min_child_weight': 6}. Best is trial 241 with value: 0.8032279314888011.\u001b[0m\n",
      "\u001b[32m[I 2023-03-04 17:52:19,370]\u001b[0m Trial 329 finished with value: 0.7868906455862978 and parameters: {'reg_lambda': 0.027364059009649392, 'learning_rate': 0.007013625388102054, 'n_estimators': 440, 'lambda': 0.33434544028907326, 'alpha': 0.9422202624390641, 'max_depth': 3, 'eta': 0.48509984498490877, 'gamma': 0.4960514672829558, 'subsample': 0.14699983240207937, 'colsample_bytree': 0.7220094996150775, 'min_child_weight': 1}. Best is trial 241 with value: 0.8032279314888011.\u001b[0m\n",
      "\u001b[32m[I 2023-03-04 17:52:19,455]\u001b[0m Trial 330 finished with value: 0.5 and parameters: {'reg_lambda': 0.01790780818819317, 'learning_rate': 0.012887304236979508, 'n_estimators': 140, 'lambda': 0.27430316888697337, 'alpha': 0.8871456719287906, 'max_depth': 3, 'eta': 0.5451264385820855, 'gamma': 0.028134925047980208, 'subsample': 0.10334259800525986, 'colsample_bytree': 0.626806180166605, 'min_child_weight': 140}. Best is trial 241 with value: 0.8032279314888011.\u001b[0m\n",
      "\u001b[32m[I 2023-03-04 17:52:19,579]\u001b[0m Trial 331 finished with value: 0.5 and parameters: {'reg_lambda': 0.15383828830856508, 'learning_rate': 0.015297642722072607, 'n_estimators': 425, 'lambda': 0.3672556038673445, 'alpha': 0.9332670143115618, 'max_depth': 3, 'eta': 0.5102651966056324, 'gamma': 0.5396941610054947, 'subsample': 0.16326776439423968, 'colsample_bytree': 0.6183866114866298, 'min_child_weight': 96}. Best is trial 241 with value: 0.8032279314888011.\u001b[0m\n",
      "\u001b[32m[I 2023-03-04 17:52:19,710]\u001b[0m Trial 332 finished with value: 0.5 and parameters: {'reg_lambda': 5.229494024378359, 'learning_rate': 0.006606835828145287, 'n_estimators': 440, 'lambda': 0.382671192403197, 'alpha': 0.8690254699786857, 'max_depth': 3, 'eta': 0.42166141491571246, 'gamma': 0.5626610596863024, 'subsample': 0.12206831270973277, 'colsample_bytree': 0.6435906346231843, 'min_child_weight': 19}. Best is trial 241 with value: 0.8032279314888011.\u001b[0m\n",
      "\u001b[32m[I 2023-03-04 17:52:19,843]\u001b[0m Trial 333 finished with value: 0.7533596837944663 and parameters: {'reg_lambda': 0.2649017840242008, 'learning_rate': 0.00346628031285529, 'n_estimators': 410, 'lambda': 0.3029073084054536, 'alpha': 0.9143057994363294, 'max_depth': 7, 'eta': 0.3878833340393213, 'gamma': 0.5153017420239477, 'subsample': 0.16117091304515446, 'colsample_bytree': 0.6895789436778169, 'min_child_weight': 6}. Best is trial 241 with value: 0.8032279314888011.\u001b[0m\n",
      "\u001b[32m[I 2023-03-04 17:52:19,980]\u001b[0m Trial 334 finished with value: 0.7741106719367589 and parameters: {'reg_lambda': 0.011898132036822873, 'learning_rate': 0.010741164541129345, 'n_estimators': 470, 'lambda': 0.2778526533880169, 'alpha': 0.9737532368426888, 'max_depth': 3, 'eta': 0.5692460587458976, 'gamma': 0.2922475994928965, 'subsample': 0.10106503693856485, 'colsample_bytree': 0.7418186639541323, 'min_child_weight': 11}. Best is trial 241 with value: 0.8032279314888011.\u001b[0m\n",
      "\u001b[32m[I 2023-03-04 17:52:20,104]\u001b[0m Trial 335 finished with value: 0.5 and parameters: {'reg_lambda': 0.025016547011420327, 'learning_rate': 0.0055314967711412736, 'n_estimators': 380, 'lambda': 0.3443925216432302, 'alpha': 0.8903133402235297, 'max_depth': 3, 'eta': 0.42632051055075004, 'gamma': 0.28181971337038053, 'subsample': 0.13907383159461872, 'colsample_bytree': 0.7003598591323172, 'min_child_weight': 223}. Best is trial 241 with value: 0.8032279314888011.\u001b[0m\n",
      "\u001b[32m[I 2023-03-04 17:52:20,249]\u001b[0m Trial 336 finished with value: 0.7533596837944663 and parameters: {'reg_lambda': 21.541030773082195, 'learning_rate': 0.008303550333094654, 'n_estimators': 395, 'lambda': 0.308135618136367, 'alpha': 0.9396339741290017, 'max_depth': 3, 'eta': 0.49898821234630714, 'gamma': 0.5420294054633733, 'subsample': 0.12809774721261086, 'colsample_bytree': 0.7238289366391363, 'min_child_weight': 1}. Best is trial 241 with value: 0.8032279314888011.\u001b[0m\n",
      "\u001b[32m[I 2023-03-04 17:52:20,399]\u001b[0m Trial 337 finished with value: 0.7533596837944663 and parameters: {'reg_lambda': 1.789411358448115, 'learning_rate': 0.003077193757285066, 'n_estimators': 455, 'lambda': 0.8926214489460691, 'alpha': 0.8617109802194489, 'max_depth': 3, 'eta': 0.45946288762451687, 'gamma': 0.5649722637581147, 'subsample': 0.1651153227331195, 'colsample_bytree': 0.6642960437884071, 'min_child_weight': 15}. Best is trial 241 with value: 0.8032279314888011.\u001b[0m\n",
      "\u001b[32m[I 2023-03-04 17:52:20,540]\u001b[0m Trial 338 finished with value: 0.7606060606060605 and parameters: {'reg_lambda': 1.425914487046916, 'learning_rate': 0.018132307947264645, 'n_estimators': 425, 'lambda': 0.27135381576974754, 'alpha': 0.9573881530817203, 'max_depth': 3, 'eta': 0.40732340014283086, 'gamma': 0.5929715740274251, 'subsample': 0.14664943092066302, 'colsample_bytree': 0.6888372085700879, 'min_child_weight': 7}. Best is trial 241 with value: 0.8032279314888011.\u001b[0m\n",
      "\u001b[32m[I 2023-03-04 17:52:20,680]\u001b[0m Trial 339 finished with value: 0.7805006587615284 and parameters: {'reg_lambda': 0.019067069192040747, 'learning_rate': 0.004592329012280815, 'n_estimators': 395, 'lambda': 0.4517646587547647, 'alpha': 0.8400635412842722, 'max_depth': 3, 'eta': 0.47737332692894646, 'gamma': 0.4926280802988947, 'subsample': 0.10016702792053114, 'colsample_bytree': 0.6508747525034122, 'min_child_weight': 1}. Best is trial 241 with value: 0.8032279314888011.\u001b[0m\n",
      "\u001b[32m[I 2023-03-04 17:52:20,837]\u001b[0m Trial 340 finished with value: 0.7733860342555995 and parameters: {'reg_lambda': 0.008488268005160863, 'learning_rate': 0.009448885080970092, 'n_estimators': 410, 'lambda': 0.2908497906843903, 'alpha': 0.9118508947061413, 'max_depth': 3, 'eta': 0.433448199453159, 'gamma': 0.4772434959396343, 'subsample': 0.9071769770535919, 'colsample_bytree': 0.7147398026343509, 'min_child_weight': 10}. Best is trial 241 with value: 0.8032279314888011.\u001b[0m\n",
      "\u001b[32m[I 2023-03-04 17:52:20,981]\u001b[0m Trial 341 finished with value: 0.7533596837944663 and parameters: {'reg_lambda': 0.4311589353408174, 'learning_rate': 0.006841937339498904, 'n_estimators': 440, 'lambda': 0.41013163692219257, 'alpha': 0.2811147569067347, 'max_depth': 3, 'eta': 0.509096969539455, 'gamma': 0.3040185440378375, 'subsample': 0.12040466744987875, 'colsample_bytree': 0.7523075686078937, 'min_child_weight': 6}. Best is trial 241 with value: 0.8032279314888011.\u001b[0m\n",
      "\u001b[32m[I 2023-03-04 17:52:21,106]\u001b[0m Trial 342 finished with value: 0.7533596837944663 and parameters: {'reg_lambda': 0.10717030985313228, 'learning_rate': 0.0015417660313421524, 'n_estimators': 380, 'lambda': 0.32116567295705295, 'alpha': 0.9146095091291497, 'max_depth': 3, 'eta': 0.4566525355885508, 'gamma': 0.8144280873753915, 'subsample': 0.16628344519924376, 'colsample_bytree': 0.6088061184482646, 'min_child_weight': 15}. Best is trial 241 with value: 0.8032279314888011.\u001b[0m\n",
      "\u001b[32m[I 2023-03-04 17:52:21,224]\u001b[0m Trial 343 finished with value: 0.7533596837944663 and parameters: {'reg_lambda': 0.33710992410716467, 'learning_rate': 0.011487824367028755, 'n_estimators': 320, 'lambda': 0.2759926784553955, 'alpha': 0.9835939174316053, 'max_depth': 3, 'eta': 0.8107566911301309, 'gamma': 0.2797052212233435, 'subsample': 0.13317041816781108, 'colsample_bytree': 0.9470445329709786, 'min_child_weight': 6}. Best is trial 241 with value: 0.8032279314888011.\u001b[0m\n",
      "\u001b[32m[I 2023-03-04 17:52:21,372]\u001b[0m Trial 344 finished with value: 0.7668642951251647 and parameters: {'reg_lambda': 0.21397088175565504, 'learning_rate': 0.0005589205421408838, 'n_estimators': 410, 'lambda': 0.26763651588123605, 'alpha': 0.9456951646507944, 'max_depth': 3, 'eta': 0.39928427397526234, 'gamma': 0.26723783072923024, 'subsample': 0.17383677294924343, 'colsample_bytree': 0.5923867353099371, 'min_child_weight': 1}. Best is trial 241 with value: 0.8032279314888011.\u001b[0m\n",
      "\u001b[32m[I 2023-03-04 17:52:21,505]\u001b[0m Trial 345 finished with value: 0.7266798418972332 and parameters: {'reg_lambda': 0.014905982403051464, 'learning_rate': 0.006025026343901096, 'n_estimators': 395, 'lambda': 0.5708771108148754, 'alpha': 0.10724171263982046, 'max_depth': 3, 'eta': 0.6022697303579108, 'gamma': 0.2961830569714227, 'subsample': 0.2187087710529638, 'colsample_bytree': 0.6843641036824837, 'min_child_weight': 22}. Best is trial 241 with value: 0.8032279314888011.\u001b[0m\n",
      "\u001b[32m[I 2023-03-04 17:52:21,643]\u001b[0m Trial 346 finished with value: 0.7533596837944663 and parameters: {'reg_lambda': 0.14753986845858844, 'learning_rate': 0.008415636838389478, 'n_estimators': 485, 'lambda': 0.30057188229512505, 'alpha': 0.386073605524707, 'max_depth': 3, 'eta': 0.19022202499615593, 'gamma': 0.5217732017494523, 'subsample': 0.14920478848684782, 'colsample_bytree': 0.6240284019788851, 'min_child_weight': 10}. Best is trial 241 with value: 0.8032279314888011.\u001b[0m\n",
      "\u001b[32m[I 2023-03-04 17:52:21,813]\u001b[0m Trial 347 finished with value: 0.7769433465085639 and parameters: {'reg_lambda': 0.023704551532369257, 'learning_rate': 0.005406030948148199, 'n_estimators': 455, 'lambda': 0.3464426975418866, 'alpha': 0.895226881976174, 'max_depth': 3, 'eta': 0.8920429854633696, 'gamma': 0.5753736417132537, 'subsample': 0.4979230973726857, 'colsample_bytree': 0.9779240590815171, 'min_child_weight': 1}. Best is trial 241 with value: 0.8032279314888011.\u001b[0m\n",
      "\u001b[32m[I 2023-03-04 17:52:21,945]\u001b[0m Trial 348 finished with value: 0.5 and parameters: {'reg_lambda': 0.01296622594892639, 'learning_rate': 0.0008166895121022589, 'n_estimators': 425, 'lambda': 0.7902201530439188, 'alpha': 0.6543974943413882, 'max_depth': 3, 'eta': 0.4327121011063842, 'gamma': 0.2584490266354966, 'subsample': 0.10012340587074783, 'colsample_bytree': 0.6569142773823453, 'min_child_weight': 15}. Best is trial 241 with value: 0.8032279314888011.\u001b[0m\n",
      "\u001b[32m[I 2023-03-04 17:52:22,077]\u001b[0m Trial 349 finished with value: 0.5 and parameters: {'reg_lambda': 0.03349509127267965, 'learning_rate': 0.00410692271871761, 'n_estimators': 470, 'lambda': 0.08425324208169821, 'alpha': 0.8422341021858855, 'max_depth': 3, 'eta': 0.36853376677717503, 'gamma': 0.3140303890425698, 'subsample': 0.12501090757109395, 'colsample_bytree': 0.7268827933603594, 'min_child_weight': 129}. Best is trial 241 with value: 0.8032279314888011.\u001b[0m\n",
      "\u001b[32m[I 2023-03-04 17:52:22,226]\u001b[0m Trial 350 finished with value: 0.7769433465085639 and parameters: {'reg_lambda': 0.757671496357132, 'learning_rate': 0.007206834770077912, 'n_estimators': 395, 'lambda': 0.2576156911105147, 'alpha': 0.8718413286244475, 'max_depth': 3, 'eta': 0.37739924979401884, 'gamma': 0.07156411347119018, 'subsample': 0.5510886926782498, 'colsample_bytree': 0.6337540461387143, 'min_child_weight': 7}. Best is trial 241 with value: 0.8032279314888011.\u001b[0m\n",
      "\u001b[32m[I 2023-03-04 17:52:22,370]\u001b[0m Trial 351 finished with value: 0.7895915678524374 and parameters: {'reg_lambda': 2.291706964526896, 'learning_rate': 0.04909112571103111, 'n_estimators': 410, 'lambda': 0.3295760867054988, 'alpha': 0.9227152140941957, 'max_depth': 3, 'eta': 0.22433741552635242, 'gamma': 0.34549642132840486, 'subsample': 0.1774618730238007, 'colsample_bytree': 0.9997064128222056, 'min_child_weight': 1}. Best is trial 241 with value: 0.8032279314888011.\u001b[0m\n",
      "\u001b[32m[I 2023-03-04 17:52:22,510]\u001b[0m Trial 352 finished with value: 0.7533596837944663 and parameters: {'reg_lambda': 0.18065291813006876, 'learning_rate': 0.009832406199764524, 'n_estimators': 440, 'lambda': 0.29179092894868286, 'alpha': 0.40943171602540435, 'max_depth': 3, 'eta': 0.13647610263123516, 'gamma': 0.2789661151194163, 'subsample': 0.2231892968210665, 'colsample_bytree': 0.7682069613550031, 'min_child_weight': 11}. Best is trial 241 with value: 0.8032279314888011.\u001b[0m\n",
      "\u001b[32m[I 2023-03-04 17:52:22,606]\u001b[0m Trial 353 finished with value: 0.7478260869565219 and parameters: {'reg_lambda': 0.11874581726901912, 'learning_rate': 0.44528611840738386, 'n_estimators': 170, 'lambda': 0.2596890930675116, 'alpha': 0.6692784781858837, 'max_depth': 6, 'eta': 0.4925441502212692, 'gamma': 0.5349072085739217, 'subsample': 0.15048221381396237, 'colsample_bytree': 0.9125438370459967, 'min_child_weight': 7}. Best is trial 241 with value: 0.8032279314888011.\u001b[0m\n",
      "\u001b[32m[I 2023-03-04 17:52:22,756]\u001b[0m Trial 354 finished with value: 0.7533596837944663 and parameters: {'reg_lambda': 40.047464180936174, 'learning_rate': 0.0009285403389318083, 'n_estimators': 380, 'lambda': 0.025227208583777277, 'alpha': 0.9955436165810768, 'max_depth': 3, 'eta': 0.35201675218583406, 'gamma': 0.24666115327891106, 'subsample': 0.21017945177408132, 'colsample_bytree': 0.7021454321517404, 'min_child_weight': 18}. Best is trial 241 with value: 0.8032279314888011.\u001b[0m\n",
      "\u001b[32m[I 2023-03-04 17:52:22,902]\u001b[0m Trial 355 finished with value: 0.7941370223978921 and parameters: {'reg_lambda': 0.018558954994998843, 'learning_rate': 0.013201962239465424, 'n_estimators': 425, 'lambda': 0.3100842205030538, 'alpha': 0.19666027084889298, 'max_depth': 3, 'eta': 0.39927064064364254, 'gamma': 0.5513118859768547, 'subsample': 0.18048953981906832, 'colsample_bytree': 0.8930128468497505, 'min_child_weight': 1}. Best is trial 241 with value: 0.8032279314888011.\u001b[0m\n",
      "\u001b[32m[I 2023-03-04 17:52:23,047]\u001b[0m Trial 356 finished with value: 0.7533596837944663 and parameters: {'reg_lambda': 0.007347128097259148, 'learning_rate': 0.012518361833460653, 'n_estimators': 425, 'lambda': 0.31504625078346227, 'alpha': 0.35084076772868766, 'max_depth': 3, 'eta': 0.40829673466996436, 'gamma': 0.26742718719087516, 'subsample': 0.1870195117991638, 'colsample_bytree': 0.8701568558135524, 'min_child_weight': 11}. Best is trial 241 with value: 0.8032279314888011.\u001b[0m\n",
      "\u001b[32m[I 2023-03-04 17:52:23,211]\u001b[0m Trial 357 finished with value: 0.7777997364953887 and parameters: {'reg_lambda': 0.5471948943880239, 'learning_rate': 0.01674420771270894, 'n_estimators': 410, 'lambda': 0.2818488919393132, 'alpha': 0.15882888378041804, 'max_depth': 3, 'eta': 0.3935254184119585, 'gamma': 0.2944821279387002, 'subsample': 0.22680414576103422, 'colsample_bytree': 0.8839050959745728, 'min_child_weight': 6}. Best is trial 241 with value: 0.8032279314888011.\u001b[0m\n",
      "\u001b[32m[I 2023-03-04 17:52:23,357]\u001b[0m Trial 358 finished with value: 0.5 and parameters: {'reg_lambda': 0.009404651478997461, 'learning_rate': 0.012673598673218203, 'n_estimators': 410, 'lambda': 0.24882825994392863, 'alpha': 0.05728597037574959, 'max_depth': 3, 'eta': 0.29676337427774324, 'gamma': 0.32537038702098037, 'subsample': 0.1726023361660802, 'colsample_bytree': 0.8927458701614506, 'min_child_weight': 25}. Best is trial 241 with value: 0.8032279314888011.\u001b[0m\n",
      "\u001b[32m[I 2023-03-04 17:52:23,504]\u001b[0m Trial 359 finished with value: 0.7533596837944663 and parameters: {'reg_lambda': 0.26265491625015286, 'learning_rate': 0.01899210471047546, 'n_estimators': 425, 'lambda': 0.26424631041863084, 'alpha': 0.15566804736291762, 'max_depth': 3, 'eta': 0.7103787577250296, 'gamma': 0.5046448635249839, 'subsample': 0.21415337660999764, 'colsample_bytree': 0.9474866457653687, 'min_child_weight': 13}. Best is trial 241 with value: 0.8032279314888011.\u001b[0m\n",
      "\u001b[32m[I 2023-03-04 17:52:23,649]\u001b[0m Trial 360 finished with value: 0.756060606060606 and parameters: {'reg_lambda': 0.028660102806366092, 'learning_rate': 0.014187670857074498, 'n_estimators': 395, 'lambda': 0.23540313791093007, 'alpha': 0.6284901421426317, 'max_depth': 3, 'eta': 0.22919236019884004, 'gamma': 0.24342196677120087, 'subsample': 0.19923788661284592, 'colsample_bytree': 0.9001846609622306, 'min_child_weight': 6}. Best is trial 241 with value: 0.8032279314888011.\u001b[0m\n",
      "\u001b[32m[I 2023-03-04 17:52:23,816]\u001b[0m Trial 361 finished with value: 0.76699604743083 and parameters: {'reg_lambda': 0.14442685894876883, 'learning_rate': 0.0010399077739417343, 'n_estimators': 425, 'lambda': 0.304090632123684, 'alpha': 0.3118188550218928, 'max_depth': 3, 'eta': 0.4242658703989444, 'gamma': 0.48089231119786024, 'subsample': 0.15739536857841024, 'colsample_bytree': 0.9331295856765407, 'min_child_weight': 1}. Best is trial 241 with value: 0.8032279314888011.\u001b[0m\n",
      "\u001b[32m[I 2023-03-04 17:52:23,944]\u001b[0m Trial 362 finished with value: 0.5 and parameters: {'reg_lambda': 0.08656903983120344, 'learning_rate': 0.010797333891432209, 'n_estimators': 395, 'lambda': 0.37042169732285346, 'alpha': 0.3352081527165889, 'max_depth': 3, 'eta': 0.44395976752060373, 'gamma': 0.2808859873364044, 'subsample': 0.4803210190876946, 'colsample_bytree': 0.6531908687888526, 'min_child_weight': 277}. Best is trial 241 with value: 0.8032279314888011.\u001b[0m\n",
      "\u001b[32m[I 2023-03-04 17:52:24,149]\u001b[0m Trial 363 finished with value: 0.7696969696969698 and parameters: {'reg_lambda': 0.013801578582966488, 'learning_rate': 0.008454711482120052, 'n_estimators': 410, 'lambda': 0.2825069896341798, 'alpha': 0.5944874176654427, 'max_depth': 9, 'eta': 0.6359060068321083, 'gamma': 0.6112183170807954, 'subsample': 0.7357005542919444, 'colsample_bytree': 0.9204495097400585, 'min_child_weight': 6}. Best is trial 241 with value: 0.8032279314888011.\u001b[0m\n",
      "\u001b[32m[I 2023-03-04 17:52:24,257]\u001b[0m Trial 364 finished with value: 0.7533596837944663 and parameters: {'reg_lambda': 0.005685306261132216, 'learning_rate': 0.004811751637354897, 'n_estimators': 155, 'lambda': 0.2473439278995883, 'alpha': 0.3899102994134887, 'max_depth': 3, 'eta': 0.7487794662507573, 'gamma': 0.30768622066309265, 'subsample': 0.23596774685671193, 'colsample_bytree': 0.9660545820354985, 'min_child_weight': 17}. Best is trial 241 with value: 0.8032279314888011.\u001b[0m\n",
      "\u001b[32m[I 2023-03-04 17:52:24,383]\u001b[0m Trial 365 finished with value: 0.7533596837944663 and parameters: {'reg_lambda': 0.20492165523046482, 'learning_rate': 0.008943786017072146, 'n_estimators': 380, 'lambda': 0.011145630054342798, 'alpha': 0.26200440894363003, 'max_depth': 3, 'eta': 0.3732028547059666, 'gamma': 0.2577212624735729, 'subsample': 0.18127192265445835, 'colsample_bytree': 0.8703136738876095, 'min_child_weight': 11}. Best is trial 241 with value: 0.8032279314888011.\u001b[0m\n",
      "\u001b[32m[I 2023-03-04 17:52:24,564]\u001b[0m Trial 366 finished with value: 0.7850461133069829 and parameters: {'reg_lambda': 0.9974061656434103, 'learning_rate': 0.005978869128525332, 'n_estimators': 440, 'lambda': 0.07389354185733386, 'alpha': 0.2552488728765163, 'max_depth': 3, 'eta': 0.3130133561381747, 'gamma': 0.5777824587481227, 'subsample': 0.2039777987645439, 'colsample_bytree': 0.557737280949001, 'min_child_weight': 1}. Best is trial 241 with value: 0.8032279314888011.\u001b[0m\n",
      "\u001b[32m[I 2023-03-04 17:52:24,726]\u001b[0m Trial 367 finished with value: 0.7660079051383399 and parameters: {'reg_lambda': 0.018485726073307562, 'learning_rate': 0.0029146646626351364, 'n_estimators': 410, 'lambda': 0.3215239234896735, 'alpha': 0.42808719061784906, 'max_depth': 3, 'eta': 0.34091457955993776, 'gamma': 0.5222000387050301, 'subsample': 0.23998321107801715, 'colsample_bytree': 0.6730448062725729, 'min_child_weight': 6}. Best is trial 241 with value: 0.8032279314888011.\u001b[0m\n",
      "\u001b[32m[I 2023-03-04 17:52:24,893]\u001b[0m Trial 368 finished with value: 0.7759552042160739 and parameters: {'reg_lambda': 0.3082643028197774, 'learning_rate': 0.0026380983999729638, 'n_estimators': 425, 'lambda': 0.39842426100987244, 'alpha': 0.24245419916132777, 'max_depth': 3, 'eta': 0.6176648906450752, 'gamma': 0.23741581569929227, 'subsample': 0.14085133192403157, 'colsample_bytree': 0.5872100623337337, 'min_child_weight': 1}. Best is trial 241 with value: 0.8032279314888011.\u001b[0m\n",
      "\u001b[32m[I 2023-03-04 17:52:25,044]\u001b[0m Trial 369 finished with value: 0.7533596837944663 and parameters: {'reg_lambda': 0.10433938569584099, 'learning_rate': 0.004028946351511985, 'n_estimators': 395, 'lambda': 0.05161658319849746, 'alpha': 0.40637603188153404, 'max_depth': 3, 'eta': 0.2923763204576296, 'gamma': 0.3404895400588409, 'subsample': 0.1643248482413322, 'colsample_bytree': 0.8573693941475945, 'min_child_weight': 12}. Best is trial 241 with value: 0.8032279314888011.\u001b[0m\n",
      "\u001b[32m[I 2023-03-04 17:52:25,171]\u001b[0m Trial 370 finished with value: 0.7387351778656127 and parameters: {'reg_lambda': 0.011183301554527575, 'learning_rate': 0.00045151482558663657, 'n_estimators': 305, 'lambda': 0.26794309157031015, 'alpha': 0.36816717672675736, 'max_depth': 3, 'eta': 0.6035036988644805, 'gamma': 0.5488258928731519, 'subsample': 0.29035626825279126, 'colsample_bytree': 0.49522010114348647, 'min_child_weight': 7}. Best is trial 241 with value: 0.8032279314888011.\u001b[0m\n",
      "\u001b[32m[I 2023-03-04 17:52:25,311]\u001b[0m Trial 371 finished with value: 0.7266798418972332 and parameters: {'reg_lambda': 0.02271150546484435, 'learning_rate': 0.013908463682737396, 'n_estimators': 395, 'lambda': 0.22741544929161137, 'alpha': 0.3417910372022396, 'max_depth': 3, 'eta': 0.16291112833302587, 'gamma': 0.28500314671070814, 'subsample': 0.18454997809605833, 'colsample_bytree': 0.7413599293827497, 'min_child_weight': 19}. Best is trial 241 with value: 0.8032279314888011.\u001b[0m\n",
      "\u001b[32m[I 2023-03-04 17:52:25,399]\u001b[0m Trial 372 finished with value: 0.7533596837944663 and parameters: {'reg_lambda': 0.3723885108632773, 'learning_rate': 0.027200956424752013, 'n_estimators': 110, 'lambda': 0.11160677054607815, 'alpha': 0.3099874530686648, 'max_depth': 3, 'eta': 0.20296662530409365, 'gamma': 0.6285808064861735, 'subsample': 0.22006644608410975, 'colsample_bytree': 0.6388562885728208, 'min_child_weight': 11}. Best is trial 241 with value: 0.8032279314888011.\u001b[0m\n",
      "\u001b[32m[I 2023-03-04 17:52:25,560]\u001b[0m Trial 373 finished with value: 0.7895915678524374 and parameters: {'reg_lambda': 0.16940583550874067, 'learning_rate': 0.12785531175820086, 'n_estimators': 425, 'lambda': 0.28672555616432666, 'alpha': 0.3306116870506105, 'max_depth': 7, 'eta': 0.5874787650741505, 'gamma': 0.2619083499907082, 'subsample': 0.2547241235891532, 'colsample_bytree': 0.7592921727686731, 'min_child_weight': 6}. Best is trial 241 with value: 0.8032279314888011.\u001b[0m\n",
      "\u001b[32m[I 2023-03-04 17:52:25,686]\u001b[0m Trial 374 finished with value: 0.7533596837944663 and parameters: {'reg_lambda': 0.4890753024036413, 'learning_rate': 0.0017160345920189776, 'n_estimators': 380, 'lambda': 0.1992036771852877, 'alpha': 0.21204589801112878, 'max_depth': 3, 'eta': 0.46177970732791135, 'gamma': 0.3030916020336791, 'subsample': 0.20148315693449698, 'colsample_bytree': 0.6158042031037599, 'min_child_weight': 14}. Best is trial 241 with value: 0.8032279314888011.\u001b[0m\n",
      "\u001b[32m[I 2023-03-04 17:52:25,843]\u001b[0m Trial 375 finished with value: 0.7895915678524374 and parameters: {'reg_lambda': 0.017623801759879626, 'learning_rate': 0.010615097838224242, 'n_estimators': 440, 'lambda': 0.30327074909747626, 'alpha': 0.16763145469730306, 'max_depth': 3, 'eta': 0.269453225707276, 'gamma': 0.08343998374141298, 'subsample': 0.1162450383907443, 'colsample_bytree': 0.8814066569808088, 'min_child_weight': 1}. Best is trial 241 with value: 0.8032279314888011.\u001b[0m\n",
      "\u001b[32m[I 2023-03-04 17:52:25,972]\u001b[0m Trial 376 finished with value: 0.5 and parameters: {'reg_lambda': 0.028224033018991145, 'learning_rate': 0.007929264319818472, 'n_estimators': 410, 'lambda': 0.248121709389797, 'alpha': 0.6183384864795195, 'max_depth': 3, 'eta': 0.24278308492976147, 'gamma': 0.23146246468694898, 'subsample': 0.23222442645790675, 'colsample_bytree': 0.6733384938984538, 'min_child_weight': 86}. Best is trial 241 with value: 0.8032279314888011.\u001b[0m\n",
      "\u001b[32m[I 2023-03-04 17:52:26,117]\u001b[0m Trial 377 finished with value: 0.7895915678524374 and parameters: {'reg_lambda': 0.0687446762805552, 'learning_rate': 0.006516603784484573, 'n_estimators': 365, 'lambda': 0.36662388559227876, 'alpha': 0.14113877416334925, 'max_depth': 3, 'eta': 0.40115423358861857, 'gamma': 0.2734646932806653, 'subsample': 0.2815313530901574, 'colsample_bytree': 0.5756818114714791, 'min_child_weight': 1}. Best is trial 241 with value: 0.8032279314888011.\u001b[0m\n",
      "\u001b[32m[I 2023-03-04 17:52:26,290]\u001b[0m Trial 378 finished with value: 0.7552042160737813 and parameters: {'reg_lambda': 1.4164675619689668, 'learning_rate': 0.0053455808488739, 'n_estimators': 395, 'lambda': 0.2218114345613758, 'alpha': 0.35842303111127866, 'max_depth': 3, 'eta': 0.1821886923774671, 'gamma': 0.5909124064771926, 'subsample': 0.45356165196630116, 'colsample_bytree': 0.8517588268251021, 'min_child_weight': 7}. Best is trial 241 with value: 0.8032279314888011.\u001b[0m\n",
      "\u001b[32m[I 2023-03-04 17:52:26,445]\u001b[0m Trial 379 finished with value: 0.7533596837944663 and parameters: {'reg_lambda': 0.2430397772063418, 'learning_rate': 0.0035191294550745767, 'n_estimators': 410, 'lambda': 0.15751279817470315, 'alpha': 0.6907407731816948, 'max_depth': 3, 'eta': 0.3200677766262334, 'gamma': 0.5626512698625121, 'subsample': 0.14101462249165458, 'colsample_bytree': 0.6918307677049734, 'min_child_weight': 6}. Best is trial 241 with value: 0.8032279314888011.\u001b[0m\n",
      "\u001b[32m[I 2023-03-04 17:52:26,624]\u001b[0m Trial 380 finished with value: 0.7533596837944663 and parameters: {'reg_lambda': 0.03546619134031546, 'learning_rate': 0.00945835342318258, 'n_estimators': 440, 'lambda': 0.3342691099504719, 'alpha': 0.18773541748545916, 'max_depth': 3, 'eta': 0.6529084032961676, 'gamma': 0.3221519287454043, 'subsample': 0.43996754572496327, 'colsample_bytree': 0.9135129346998726, 'min_child_weight': 16}. Best is trial 241 with value: 0.8032279314888011.\u001b[0m\n",
      "\u001b[32m[I 2023-03-04 17:52:26,803]\u001b[0m Trial 381 finished with value: 0.7941370223978921 and parameters: {'reg_lambda': 0.12531132879226334, 'learning_rate': 0.007351403068314943, 'n_estimators': 425, 'lambda': 0.2751518165307978, 'alpha': 0.676495375046758, 'max_depth': 3, 'eta': 0.5590799314313409, 'gamma': 0.24464028244851171, 'subsample': 0.16614526165118565, 'colsample_bytree': 0.7794575588442871, 'min_child_weight': 1}. Best is trial 241 with value: 0.8032279314888011.\u001b[0m\n",
      "\u001b[32m[I 2023-03-04 17:52:26,948]\u001b[0m Trial 382 finished with value: 0.5 and parameters: {'reg_lambda': 0.1290511991962801, 'learning_rate': 0.0004990818917227719, 'n_estimators': 425, 'lambda': 0.2604822335246544, 'alpha': 0.6523794698018338, 'max_depth': 3, 'eta': 0.6189907217854301, 'gamma': 0.24984987649834803, 'subsample': 0.18056982744427325, 'colsample_bytree': 0.7694635662205451, 'min_child_weight': 149}. Best is trial 241 with value: 0.8032279314888011.\u001b[0m\n",
      "\u001b[32m[I 2023-03-04 17:52:27,121]\u001b[0m Trial 383 finished with value: 0.7533596837944663 and parameters: {'reg_lambda': 0.10862340310513385, 'learning_rate': 0.011752567172360326, 'n_estimators': 410, 'lambda': 0.43968093766469674, 'alpha': 0.28144557973406037, 'max_depth': 3, 'eta': 0.22143219944645107, 'gamma': 0.22305563307641502, 'subsample': 0.21194587980446514, 'colsample_bytree': 0.7800173659623342, 'min_child_weight': 11}. Best is trial 241 with value: 0.8032279314888011.\u001b[0m\n",
      "\u001b[32m[I 2023-03-04 17:52:27,738]\u001b[0m Trial 384 finished with value: 0.5 and parameters: {'reg_lambda': 0.08977533890848234, 'learning_rate': 0.00768235638357093, 'n_estimators': 425, 'lambda': 0.477235698490899, 'alpha': 0.6733216954996698, 'max_depth': 3, 'eta': 0.5620639873373885, 'gamma': 0.2859756586664072, 'subsample': 0.16067985797264625, 'colsample_bytree': 0.7846514313808387, 'min_child_weight': 23}. Best is trial 241 with value: 0.8032279314888011.\u001b[0m\n",
      "\u001b[32m[I 2023-03-04 17:52:28,423]\u001b[0m Trial 385 finished with value: 0.756060606060606 and parameters: {'reg_lambda': 0.17126764040398182, 'learning_rate': 0.02159385134776738, 'n_estimators': 410, 'lambda': 0.40886188498857196, 'alpha': 0.1257631513466762, 'max_depth': 3, 'eta': 0.2749673693394032, 'gamma': 0.2078961400988461, 'subsample': 0.19201282250509233, 'colsample_bytree': 0.8382895906400213, 'min_child_weight': 7}. Best is trial 241 with value: 0.8032279314888011.\u001b[0m\n",
      "\u001b[32m[I 2023-03-04 17:52:28,577]\u001b[0m Trial 386 finished with value: 0.7823451910408431 and parameters: {'reg_lambda': 0.14320179304382027, 'learning_rate': 0.008961031168601405, 'n_estimators': 395, 'lambda': 0.23750261961405483, 'alpha': 0.651839272501857, 'max_depth': 3, 'eta': 0.2921073293547769, 'gamma': 0.25747555141027123, 'subsample': 0.22074098005769213, 'colsample_bytree': 0.790159833738031, 'min_child_weight': 1}. Best is trial 241 with value: 0.8032279314888011.\u001b[0m\n",
      "\u001b[32m[I 2023-03-04 17:52:28,729]\u001b[0m Trial 387 finished with value: 0.7533596837944663 and parameters: {'reg_lambda': 3.6325294018228993, 'learning_rate': 0.0007292131081796185, 'n_estimators': 425, 'lambda': 0.21253711963648364, 'alpha': 0.2061182231113999, 'max_depth': 3, 'eta': 0.5400679654348239, 'gamma': 0.26784069542169114, 'subsample': 0.17735594675766678, 'colsample_bytree': 0.9847153016367478, 'min_child_weight': 11}. Best is trial 241 with value: 0.8032279314888011.\u001b[0m\n",
      "\u001b[32m[I 2023-03-04 17:52:28,922]\u001b[0m Trial 388 finished with value: 0.7533596837944663 and parameters: {'reg_lambda': 0.21308614152299146, 'learning_rate': 0.00119774659277989, 'n_estimators': 395, 'lambda': 0.5547950832123206, 'alpha': 0.6991210102275254, 'max_depth': 3, 'eta': 0.24513958651518133, 'gamma': 0.06115855305781476, 'subsample': 0.2646444054104067, 'colsample_bytree': 0.8632231355352319, 'min_child_weight': 6}. Best is trial 241 with value: 0.8032279314888011.\u001b[0m\n",
      "\u001b[32m[I 2023-03-04 17:52:29,088]\u001b[0m Trial 389 finished with value: 0.5 and parameters: {'reg_lambda': 0.07860669952877403, 'learning_rate': 0.014854896022820942, 'n_estimators': 380, 'lambda': 0.26882216661634417, 'alpha': 0.1922967977714744, 'max_depth': 3, 'eta': 0.30959771767438277, 'gamma': 0.23084179662460477, 'subsample': 0.6269026896653944, 'colsample_bytree': 0.8364421801509899, 'min_child_weight': 214}. Best is trial 241 with value: 0.8032279314888011.\u001b[0m\n",
      "\u001b[32m[I 2023-03-04 17:52:29,244]\u001b[0m Trial 390 finished with value: 0.5 and parameters: {'reg_lambda': 0.121033998920682, 'learning_rate': 0.0013314393348158378, 'n_estimators': 410, 'lambda': 0.24759663258585554, 'alpha': 0.6723542886411458, 'max_depth': 3, 'eta': 0.36051814910942565, 'gamma': 0.3038347517138912, 'subsample': 0.2066876189859296, 'colsample_bytree': 0.9679425606413501, 'min_child_weight': 33}. Best is trial 241 with value: 0.8032279314888011.\u001b[0m\n",
      "\u001b[32m[I 2023-03-04 17:52:29,410]\u001b[0m Trial 391 finished with value: 0.7533596837944663 and parameters: {'reg_lambda': 0.06250869300838759, 'learning_rate': 0.0023814520531928738, 'n_estimators': 425, 'lambda': 0.2876816906873935, 'alpha': 0.8491110137705209, 'max_depth': 3, 'eta': 0.14457418164845875, 'gamma': 0.2498397254325527, 'subsample': 0.47418674654528575, 'colsample_bytree': 0.799599204609552, 'min_child_weight': 17}. Best is trial 241 with value: 0.8032279314888011.\u001b[0m\n",
      "\u001b[32m[I 2023-03-04 17:52:29,599]\u001b[0m Trial 392 finished with value: 0.7905797101449274 and parameters: {'reg_lambda': 0.009320367657157458, 'learning_rate': 0.007618172513397463, 'n_estimators': 440, 'lambda': 0.22851350149307803, 'alpha': 0.00660671774214569, 'max_depth': 3, 'eta': 0.25935075874960845, 'gamma': 0.29012492616235064, 'subsample': 0.5799227417612852, 'colsample_bytree': 0.8953006795360785, 'min_child_weight': 1}. Best is trial 241 with value: 0.8032279314888011.\u001b[0m\n",
      "\u001b[32m[I 2023-03-04 17:52:29,764]\u001b[0m Trial 393 finished with value: 0.7533596837944663 and parameters: {'reg_lambda': 0.8199271401728047, 'learning_rate': 0.010799351811652282, 'n_estimators': 380, 'lambda': 0.18283444586118278, 'alpha': 0.8219717430668557, 'max_depth': 3, 'eta': 0.5252676199354119, 'gamma': 0.35291142328609776, 'subsample': 0.15823369423095257, 'colsample_bytree': 0.7460883366554087, 'min_child_weight': 10}. Best is trial 241 with value: 0.8032279314888011.\u001b[0m\n",
      "\u001b[32m[I 2023-03-04 17:52:29,941]\u001b[0m Trial 394 finished with value: 0.7533596837944663 and parameters: {'reg_lambda': 0.005065805495323881, 'learning_rate': 0.004735913213437935, 'n_estimators': 410, 'lambda': 0.26418565348310574, 'alpha': 0.6882524274464921, 'max_depth': 3, 'eta': 0.6602388144843759, 'gamma': 0.22084873817918801, 'subsample': 0.23738926118770762, 'colsample_bytree': 0.8746419559371056, 'min_child_weight': 6}. Best is trial 241 with value: 0.8032279314888011.\u001b[0m\n",
      "\u001b[32m[I 2023-03-04 17:52:30,121]\u001b[0m Trial 395 finished with value: 0.7533596837944663 and parameters: {'reg_lambda': 0.27561152213264034, 'learning_rate': 0.0071757241526479885, 'n_estimators': 395, 'lambda': 0.4207112846582152, 'alpha': 0.628552865931444, 'max_depth': 4, 'eta': 0.5484855934340157, 'gamma': 0.9137424916945756, 'subsample': 0.19689223354915958, 'colsample_bytree': 0.8497340685614309, 'min_child_weight': 14}. Best is trial 241 with value: 0.8032279314888011.\u001b[0m\n",
      "\u001b[32m[I 2023-03-04 17:52:30,307]\u001b[0m Trial 396 finished with value: 0.7841897233201581 and parameters: {'reg_lambda': 0.6318461497955676, 'learning_rate': 0.005502905348274198, 'n_estimators': 425, 'lambda': 0.10044589226200015, 'alpha': 0.7036428466955783, 'max_depth': 3, 'eta': 0.19977839632903732, 'gamma': 0.6969741931869645, 'subsample': 0.1687504861557935, 'colsample_bytree': 0.8164737640241234, 'min_child_weight': 1}. Best is trial 241 with value: 0.8032279314888011.\u001b[0m\n",
      "\u001b[32m[I 2023-03-04 17:52:30,434]\u001b[0m Trial 397 finished with value: 0.5 and parameters: {'reg_lambda': 0.10541194870788984, 'learning_rate': 0.009408265612144417, 'n_estimators': 410, 'lambda': 0.00045231943605431035, 'alpha': 0.6495886613805615, 'max_depth': 3, 'eta': 0.2822752191645817, 'gamma': 0.24262492384260032, 'subsample': 0.24921551270168502, 'colsample_bytree': 0.942416025005038, 'min_child_weight': 122}. Best is trial 241 with value: 0.8032279314888011.\u001b[0m\n",
      "\u001b[32m[I 2023-03-04 17:52:30,610]\u001b[0m Trial 398 finished with value: 0.7533596837944663 and parameters: {'reg_lambda': 0.1735746538106334, 'learning_rate': 0.012706659998032421, 'n_estimators': 440, 'lambda': 0.13083925904888566, 'alpha': 0.3760054053309055, 'max_depth': 3, 'eta': 0.5840094407675925, 'gamma': 0.444746865233733, 'subsample': 0.22221678427852162, 'colsample_bytree': 0.8254656871138667, 'min_child_weight': 7}. Best is trial 241 with value: 0.8032279314888011.\u001b[0m\n",
      "\u001b[32m[I 2023-03-04 17:52:30,772]\u001b[0m Trial 399 finished with value: 0.7104743083003953 and parameters: {'reg_lambda': 0.0072913767002973345, 'learning_rate': 0.00653103025311163, 'n_estimators': 380, 'lambda': 0.2065337361306004, 'alpha': 0.5990211555261795, 'max_depth': 3, 'eta': 0.5256011916220232, 'gamma': 0.32364947404780586, 'subsample': 0.19242022984385615, 'colsample_bytree': 0.7950641474400174, 'min_child_weight': 21}. Best is trial 241 with value: 0.8032279314888011.\u001b[0m\n",
      "\u001b[32m[I 2023-03-04 17:52:30,941]\u001b[0m Trial 400 finished with value: 0.7914361001317525 and parameters: {'reg_lambda': 0.013278788940978732, 'learning_rate': 0.008204428907025439, 'n_estimators': 395, 'lambda': 0.3871755941977822, 'alpha': 0.9694275800437648, 'max_depth': 3, 'eta': 0.2211680170103265, 'gamma': 0.2684216168271506, 'subsample': 0.13852511644047294, 'colsample_bytree': 0.6498921649599668, 'min_child_weight': 1}. Best is trial 241 with value: 0.8032279314888011.\u001b[0m\n",
      "\u001b[32m[I 2023-03-04 17:52:31,072]\u001b[0m Trial 401 finished with value: 0.5 and parameters: {'reg_lambda': 0.08978072291047177, 'learning_rate': 0.02055267410231898, 'n_estimators': 335, 'lambda': 0.2785352623228111, 'alpha': 0.10105408281084657, 'max_depth': 4, 'eta': 0.5604671456562592, 'gamma': 0.2814415701076202, 'subsample': 0.5083515564376953, 'colsample_bytree': 0.844070040882182, 'min_child_weight': 109}. Best is trial 241 with value: 0.8032279314888011.\u001b[0m\n",
      "\u001b[32m[I 2023-03-04 17:52:31,233]\u001b[0m Trial 402 finished with value: 0.7533596837944663 and parameters: {'reg_lambda': 0.39155410966292487, 'learning_rate': 0.004052413419487495, 'n_estimators': 425, 'lambda': 0.23852374032868115, 'alpha': 0.8670974727806007, 'max_depth': 3, 'eta': 0.33278204857478383, 'gamma': 0.47339003798297336, 'subsample': 0.11374816276764156, 'colsample_bytree': 0.7690245301315392, 'min_child_weight': 11}. Best is trial 241 with value: 0.8032279314888011.\u001b[0m\n",
      "\u001b[32m[I 2023-03-04 17:52:31,379]\u001b[0m Trial 403 finished with value: 0.5 and parameters: {'reg_lambda': 0.03883343543246583, 'learning_rate': 0.015696678369410046, 'n_estimators': 410, 'lambda': 0.3139292441795072, 'alpha': 0.8888551814419752, 'max_depth': 3, 'eta': 0.583981099740988, 'gamma': 0.213341556087695, 'subsample': 0.21265311639865786, 'colsample_bytree': 0.8598319952456682, 'min_child_weight': 50}. Best is trial 241 with value: 0.8032279314888011.\u001b[0m\n",
      "\u001b[32m[I 2023-03-04 17:52:31,541]\u001b[0m Trial 404 finished with value: 0.7606060606060605 and parameters: {'reg_lambda': 0.13576318109160718, 'learning_rate': 0.009627546659796536, 'n_estimators': 395, 'lambda': 0.059932850796307086, 'alpha': 0.4570452209558232, 'max_depth': 3, 'eta': 0.26328033951093205, 'gamma': 0.30460366005313355, 'subsample': 0.17996733199396783, 'colsample_bytree': 0.6288319917507337, 'min_child_weight': 6}. Best is trial 241 with value: 0.8032279314888011.\u001b[0m\n",
      "\u001b[32m[I 2023-03-04 17:52:31,723]\u001b[0m Trial 405 finished with value: 0.7488142292490119 and parameters: {'reg_lambda': 8.656643261000442, 'learning_rate': 0.259505360710329, 'n_estimators': 425, 'lambda': 0.19558420163492746, 'alpha': 0.7920407059239831, 'max_depth': 3, 'eta': 0.29887959289731125, 'gamma': 0.24171833491500458, 'subsample': 0.24230190048582376, 'colsample_bytree': 0.26715060000769897, 'min_child_weight': 14}. Best is trial 241 with value: 0.8032279314888011.\u001b[0m\n",
      "\u001b[32m[I 2023-03-04 17:52:31,876]\u001b[0m Trial 406 finished with value: 0.7805006587615284 and parameters: {'reg_lambda': 0.025203484482367183, 'learning_rate': 0.011025865999747144, 'n_estimators': 365, 'lambda': 0.35535773356394446, 'alpha': 0.6814856364613641, 'max_depth': 3, 'eta': 0.10582892950527048, 'gamma': 0.20156003642936648, 'subsample': 0.26642135505356573, 'colsample_bytree': 0.603830015293391, 'min_child_weight': 6}. Best is trial 241 with value: 0.8032279314888011.\u001b[0m\n",
      "\u001b[32m[I 2023-03-04 17:52:32,054]\u001b[0m Trial 407 finished with value: 0.7860342555994729 and parameters: {'reg_lambda': 0.21158558672283415, 'learning_rate': 0.006005515764771905, 'n_estimators': 380, 'lambda': 0.2573007103587265, 'alpha': 0.07047729448089396, 'max_depth': 3, 'eta': 0.23978330536154707, 'gamma': 0.26301928687777165, 'subsample': 0.2270886847575848, 'colsample_bytree': 0.97579958093792, 'min_child_weight': 1}. Best is trial 241 with value: 0.8032279314888011.\u001b[0m\n",
      "\u001b[32m[I 2023-03-04 17:52:32,209]\u001b[0m Trial 408 finished with value: 0.7533596837944663 and parameters: {'reg_lambda': 0.06216336681569442, 'learning_rate': 0.0004372342138841835, 'n_estimators': 440, 'lambda': 0.16537456960030605, 'alpha': 0.7096864871912415, 'max_depth': 6, 'eta': 0.6293140897807623, 'gamma': 0.02283608742426152, 'subsample': 0.14469235275348372, 'colsample_bytree': 0.9258639172535287, 'min_child_weight': 11}. Best is trial 241 with value: 0.8032279314888011.\u001b[0m\n",
      "\u001b[32m[I 2023-03-04 17:52:32,374]\u001b[0m Trial 409 finished with value: 0.7533596837944663 and parameters: {'reg_lambda': 0.010716503794506702, 'learning_rate': 0.002374925351892765, 'n_estimators': 410, 'lambda': 0.2182843090567436, 'alpha': 0.6333959410168566, 'max_depth': 3, 'eta': 0.11990411098902981, 'gamma': 0.3392966869666619, 'subsample': 0.297443467481249, 'colsample_bytree': 0.8915776945849503, 'min_child_weight': 18}. Best is trial 241 with value: 0.8032279314888011.\u001b[0m\n",
      "\u001b[32m[I 2023-03-04 17:52:32,529]\u001b[0m Trial 410 finished with value: 0.5 and parameters: {'reg_lambda': 0.031879202317204064, 'learning_rate': 0.0032197809349854456, 'n_estimators': 395, 'lambda': 0.9464077995332344, 'alpha': 0.42492135614605087, 'max_depth': 4, 'eta': 0.14799830702816946, 'gamma': 0.012863690918918924, 'subsample': 0.16108747352126085, 'colsample_bytree': 0.5039144241037958, 'min_child_weight': 72}. Best is trial 241 with value: 0.8032279314888011.\u001b[0m\n",
      "\u001b[32m[I 2023-03-04 17:52:32,715]\u001b[0m Trial 411 finished with value: 0.7895915678524374 and parameters: {'reg_lambda': 1.1676439082659658, 'learning_rate': 0.007349503442951194, 'n_estimators': 410, 'lambda': 0.28610691142266514, 'alpha': 0.21200250478242227, 'max_depth': 3, 'eta': 0.279658950600128, 'gamma': 0.6057860041352134, 'subsample': 0.1011033437395788, 'colsample_bytree': 0.8132408834474333, 'min_child_weight': 1}. Best is trial 241 with value: 0.8032279314888011.\u001b[0m\n",
      "\u001b[32m[I 2023-03-04 17:52:32,873]\u001b[0m Trial 412 finished with value: 0.5 and parameters: {'reg_lambda': 0.3304509517287239, 'learning_rate': 0.004843440766043482, 'n_estimators': 425, 'lambda': 0.45377134877762887, 'alpha': 0.6643229036892526, 'max_depth': 3, 'eta': 0.6122529756048221, 'gamma': 0.2822719563664042, 'subsample': 0.2011380366896343, 'colsample_bytree': 0.44506037673238785, 'min_child_weight': 26}. Best is trial 241 with value: 0.8032279314888011.\u001b[0m\n",
      "\u001b[32m[I 2023-03-04 17:52:33,049]\u001b[0m Trial 413 finished with value: 0.7533596837944663 and parameters: {'reg_lambda': 2.1089888081198866, 'learning_rate': 0.001808709087322097, 'n_estimators': 395, 'lambda': 0.03455609205221416, 'alpha': 0.8214235505221013, 'max_depth': 3, 'eta': 0.3508132318592795, 'gamma': 0.046339945818485606, 'subsample': 0.18197137157196322, 'colsample_bytree': 0.9985368777415015, 'min_child_weight': 7}. Best is trial 241 with value: 0.8032279314888011.\u001b[0m\n",
      "\u001b[32m[I 2023-03-04 17:52:33,225]\u001b[0m Trial 414 finished with value: 0.7533596837944663 and parameters: {'reg_lambda': 0.02118370253704661, 'learning_rate': 0.000905343150446314, 'n_estimators': 440, 'lambda': 0.24315827332605808, 'alpha': 0.35316528964737753, 'max_depth': 3, 'eta': 0.18921220782163098, 'gamma': 0.6381332217385359, 'subsample': 0.20884568572622572, 'colsample_bytree': 0.7287460599781445, 'min_child_weight': 11}. Best is trial 241 with value: 0.8032279314888011.\u001b[0m\n",
      "\u001b[32m[I 2023-03-04 17:52:33,395]\u001b[0m Trial 415 finished with value: 0.7959815546772069 and parameters: {'reg_lambda': 0.014064990303507422, 'learning_rate': 0.0021048921812610523, 'n_estimators': 380, 'lambda': 0.2712079064585535, 'alpha': 0.023456172517780316, 'max_depth': 3, 'eta': 0.727552074764555, 'gamma': 0.23191769800582177, 'subsample': 0.12088042455454527, 'colsample_bytree': 0.6649455152815568, 'min_child_weight': 1}. Best is trial 241 with value: 0.8032279314888011.\u001b[0m\n",
      "\u001b[32m[I 2023-03-04 17:52:33,529]\u001b[0m Trial 416 finished with value: 0.7533596837944663 and parameters: {'reg_lambda': 0.01478875190606894, 'learning_rate': 0.0011391313493674645, 'n_estimators': 350, 'lambda': 0.3010373975064136, 'alpha': 0.12014690858998478, 'max_depth': 4, 'eta': 0.7011717005643905, 'gamma': 0.23363763077172084, 'subsample': 0.11714766109966457, 'colsample_bytree': 0.6680116399149738, 'min_child_weight': 7}. Best is trial 241 with value: 0.8032279314888011.\u001b[0m\n",
      "\u001b[32m[I 2023-03-04 17:52:33,655]\u001b[0m Trial 417 finished with value: 0.7032279314888011 and parameters: {'reg_lambda': 0.01207431832254639, 'learning_rate': 0.012671647377180163, 'n_estimators': 365, 'lambda': 0.33096254881395176, 'alpha': 0.0037147619809548595, 'max_depth': 3, 'eta': 0.6024972348060341, 'gamma': 0.11200208097848077, 'subsample': 0.13483485829684255, 'colsample_bytree': 0.6518618742803013, 'min_child_weight': 15}. Best is trial 241 with value: 0.8032279314888011.\u001b[0m\n",
      "\u001b[32m[I 2023-03-04 17:52:33,799]\u001b[0m Trial 418 finished with value: 0.7533596837944663 and parameters: {'reg_lambda': 0.015583367781062594, 'learning_rate': 0.0019689124866596845, 'n_estimators': 365, 'lambda': 0.28373409235444, 'alpha': 0.15363177837285, 'max_depth': 3, 'eta': 0.7554277951638189, 'gamma': 0.20941575004240023, 'subsample': 0.1333581475645709, 'colsample_bytree': 0.64144567554508, 'min_child_weight': 7}. Best is trial 241 with value: 0.8032279314888011.\u001b[0m\n",
      "\u001b[32m[I 2023-03-04 17:52:33,985]\u001b[0m Trial 419 finished with value: 0.7868906455862978 and parameters: {'reg_lambda': 0.021880783171577017, 'learning_rate': 0.008707078238776483, 'n_estimators': 380, 'lambda': 0.5930842124309115, 'alpha': 0.03872527149947852, 'max_depth': 3, 'eta': 0.5669062421532232, 'gamma': 0.2457050660431808, 'subsample': 0.980056652320506, 'colsample_bytree': 0.6238262646107833, 'min_child_weight': 1}. Best is trial 241 with value: 0.8032279314888011.\u001b[0m\n",
      "\u001b[32m[I 2023-03-04 17:52:34,130]\u001b[0m Trial 420 finished with value: 0.7533596837944663 and parameters: {'reg_lambda': 0.005987023148691191, 'learning_rate': 0.002868324339890945, 'n_estimators': 380, 'lambda': 0.5244549266129133, 'alpha': 0.24053907469830776, 'max_depth': 3, 'eta': 0.694062110139494, 'gamma': 0.23080860070802667, 'subsample': 0.1005478156634658, 'colsample_bytree': 0.6628037140730838, 'min_child_weight': 6}. Best is trial 241 with value: 0.8032279314888011.\u001b[0m\n",
      "\u001b[32m[I 2023-03-04 17:52:34,306]\u001b[0m Trial 421 finished with value: 0.7614624505928853 and parameters: {'reg_lambda': 0.00908541293479077, 'learning_rate': 0.004142066590848001, 'n_estimators': 380, 'lambda': 0.22357897195710918, 'alpha': 0.17655202774276257, 'max_depth': 3, 'eta': 0.757076383193962, 'gamma': 0.523059245468656, 'subsample': 0.6995256300765729, 'colsample_bytree': 0.6960581353455112, 'min_child_weight': 18}. Best is trial 241 with value: 0.8032279314888011.\u001b[0m\n",
      "\u001b[32m[I 2023-03-04 17:52:34,493]\u001b[0m Trial 422 finished with value: 0.7660079051383399 and parameters: {'reg_lambda': 3.1858769633983353, 'learning_rate': 0.0006626679962479869, 'n_estimators': 395, 'lambda': 0.2699368959375269, 'alpha': 0.11286699581308789, 'max_depth': 3, 'eta': 0.6567785865657273, 'gamma': 0.2581283734470463, 'subsample': 0.1194829705855256, 'colsample_bytree': 0.6772143028453838, 'min_child_weight': 1}. Best is trial 241 with value: 0.8032279314888011.\u001b[0m\n",
      "\u001b[32m[I 2023-03-04 17:52:34,656]\u001b[0m Trial 423 finished with value: 0.5 and parameters: {'reg_lambda': 0.01527438860456484, 'learning_rate': 0.010789464659319325, 'n_estimators': 470, 'lambda': 0.3150325249900877, 'alpha': 0.07923043534567423, 'max_depth': 4, 'eta': 0.5150014377716273, 'gamma': 0.49440023724492715, 'subsample': 0.15937443926031516, 'colsample_bytree': 0.95506542121574, 'min_child_weight': 195}. Best is trial 241 with value: 0.8032279314888011.\u001b[0m\n",
      "\u001b[32m[I 2023-03-04 17:52:34,770]\u001b[0m Trial 424 finished with value: 0.7533596837944663 and parameters: {'reg_lambda': 0.17134019889141838, 'learning_rate': 0.017726946597358413, 'n_estimators': 185, 'lambda': 0.20116923373937937, 'alpha': 0.01778764070052379, 'max_depth': 3, 'eta': 0.741780778086191, 'gamma': 0.19646772353983996, 'subsample': 0.25250382206969985, 'colsample_bytree': 0.6181575447647968, 'min_child_weight': 12}. Best is trial 241 with value: 0.8032279314888011.\u001b[0m\n",
      "\u001b[32m[I 2023-03-04 17:52:34,931]\u001b[0m Trial 425 finished with value: 0.7623188405797102 and parameters: {'reg_lambda': 0.4529697579361525, 'learning_rate': 0.0015310174214263664, 'n_estimators': 395, 'lambda': 0.4308331334570489, 'alpha': 0.28961949748990223, 'max_depth': 3, 'eta': 0.8498896968901997, 'gamma': 0.5765338953228251, 'subsample': 0.2893605557264914, 'colsample_bytree': 0.5826690269047038, 'min_child_weight': 7}. Best is trial 241 with value: 0.8032279314888011.\u001b[0m\n",
      "\u001b[32m[I 2023-03-04 17:52:35,202]\u001b[0m Trial 426 finished with value: 0.7841897233201581 and parameters: {'reg_lambda': 0.6732525830242251, 'learning_rate': 0.007931574551315749, 'n_estimators': 455, 'lambda': 0.2452480213211807, 'alpha': 0.14671114832597137, 'max_depth': 7, 'eta': 0.7239158936247722, 'gamma': 0.22274947299433245, 'subsample': 0.4315174014909955, 'colsample_bytree': 0.7528231783221754, 'min_child_weight': 1}. Best is trial 241 with value: 0.8032279314888011.\u001b[0m\n",
      "\u001b[32m[I 2023-03-04 17:52:35,384]\u001b[0m Trial 427 finished with value: 0.7533596837944663 and parameters: {'reg_lambda': 0.9537294487267989, 'learning_rate': 0.005556215067772019, 'n_estimators': 395, 'lambda': 0.14319839264862283, 'alpha': 0.5683184085413145, 'max_depth': 8, 'eta': 0.7279912050556423, 'gamma': 0.27257937455448755, 'subsample': 0.14944189135639332, 'colsample_bytree': 0.7982407952360742, 'min_child_weight': 11}. Best is trial 241 with value: 0.8032279314888011.\u001b[0m\n",
      "\u001b[32m[I 2023-03-04 17:52:35,580]\u001b[0m Trial 428 finished with value: 0.7732542819499342 and parameters: {'reg_lambda': 0.23129641866860087, 'learning_rate': 0.006955444707036393, 'n_estimators': 440, 'lambda': 0.6568005776750094, 'alpha': 0.5833696815420217, 'max_depth': 6, 'eta': 0.5946711723341571, 'gamma': 0.25011857586587066, 'subsample': 0.23374210690120178, 'colsample_bytree': 0.543963217146545, 'min_child_weight': 6}. Best is trial 241 with value: 0.8032279314888011.\u001b[0m\n",
      "\u001b[32m[I 2023-03-04 17:52:35,725]\u001b[0m Trial 429 finished with value: 0.7155467720685112 and parameters: {'reg_lambda': 4.2385349068229745, 'learning_rate': 0.009606489406699444, 'n_estimators': 380, 'lambda': 0.29539263646862485, 'alpha': 0.31047679794959204, 'max_depth': 3, 'eta': 0.6717623742871632, 'gamma': 0.2140720487224178, 'subsample': 0.11693433402848295, 'colsample_bytree': 0.7774697168775223, 'min_child_weight': 16}. Best is trial 241 with value: 0.8032279314888011.\u001b[0m\n",
      "\u001b[32m[I 2023-03-04 17:52:35,915]\u001b[0m Trial 430 finished with value: 0.7887351778656126 and parameters: {'reg_lambda': 0.007944735886143032, 'learning_rate': 0.002217194476324327, 'n_estimators': 410, 'lambda': 0.33737770823275903, 'alpha': 0.0295180872283356, 'max_depth': 3, 'eta': 0.6390052506974312, 'gamma': 0.384839808918687, 'subsample': 0.27848272835111265, 'colsample_bytree': 0.8303661772867548, 'min_child_weight': 1}. Best is trial 241 with value: 0.8032279314888011.\u001b[0m\n",
      "\u001b[32m[I 2023-03-04 17:52:36,081]\u001b[0m Trial 431 finished with value: 0.7533596837944663 and parameters: {'reg_lambda': 1.5680953529605375, 'learning_rate': 0.013047401597323533, 'n_estimators': 425, 'lambda': 0.17835201766924783, 'alpha': 0.12607695898409588, 'max_depth': 5, 'eta': 0.7781121655146452, 'gamma': 0.5590096532227811, 'subsample': 0.1746609117705291, 'colsample_bytree': 0.706871437921772, 'min_child_weight': 11}. Best is trial 241 with value: 0.8032279314888011.\u001b[0m\n",
      "\u001b[32m[I 2023-03-04 17:52:36,221]\u001b[0m Trial 432 finished with value: 0.5 and parameters: {'reg_lambda': 0.012121215985133417, 'learning_rate': 0.877281160986287, 'n_estimators': 395, 'lambda': 0.25776744824178915, 'alpha': 0.28617342920996586, 'max_depth': 3, 'eta': 0.6660161751468123, 'gamma': 0.26469286225045524, 'subsample': 0.13206784519144224, 'colsample_bytree': 0.7272404223382448, 'min_child_weight': 23}. Best is trial 241 with value: 0.8032279314888011.\u001b[0m\n",
      "\u001b[32m[I 2023-03-04 17:52:36,384]\u001b[0m Trial 433 finished with value: 0.7596179183135705 and parameters: {'reg_lambda': 0.028757703004437907, 'learning_rate': 0.0297903285474971, 'n_estimators': 410, 'lambda': 0.23063899495215223, 'alpha': 0.2294495394800148, 'max_depth': 3, 'eta': 0.7870182558930457, 'gamma': 0.2411751820271525, 'subsample': 0.22614876566691974, 'colsample_bytree': 0.12247984084119506, 'min_child_weight': 6}. Best is trial 241 with value: 0.8032279314888011.\u001b[0m\n",
      "\u001b[32m[I 2023-03-04 17:52:36,552]\u001b[0m Trial 434 finished with value: 0.7777997364953887 and parameters: {'reg_lambda': 2.613758675126074, 'learning_rate': 0.0015113020721633506, 'n_estimators': 425, 'lambda': 0.8156618167215038, 'alpha': 0.08469365719902144, 'max_depth': 3, 'eta': 0.4767816722971372, 'gamma': 0.5362047844822266, 'subsample': 0.4966971181633998, 'colsample_bytree': 0.5667900910664783, 'min_child_weight': 1}. Best is trial 241 with value: 0.8032279314888011.\u001b[0m\n",
      "\u001b[32m[I 2023-03-04 17:52:36,700]\u001b[0m Trial 435 finished with value: 0.7032279314888011 and parameters: {'reg_lambda': 0.01745878433026203, 'learning_rate': 0.003423864269062693, 'n_estimators': 455, 'lambda': 0.2800595719561174, 'alpha': 0.20208738720565028, 'max_depth': 3, 'eta': 0.7168142858862837, 'gamma': 0.509187097561787, 'subsample': 0.1001370564690593, 'colsample_bytree': 0.6007519556316737, 'min_child_weight': 11}. Best is trial 241 with value: 0.8032279314888011.\u001b[0m\n",
      "\u001b[32m[I 2023-03-04 17:52:36,861]\u001b[0m Trial 436 finished with value: 0.7606060606060605 and parameters: {'reg_lambda': 0.04116555799017282, 'learning_rate': 0.00519401371432051, 'n_estimators': 440, 'lambda': 0.20957143719811894, 'alpha': 0.03866091831013586, 'max_depth': 4, 'eta': 0.2164814559487709, 'gamma': 0.29317676404444076, 'subsample': 0.2515662481822327, 'colsample_bytree': 0.6759744394241659, 'min_child_weight': 8}. Best is trial 241 with value: 0.8032279314888011.\u001b[0m\n",
      "\u001b[32m[I 2023-03-04 17:52:36,997]\u001b[0m Trial 437 finished with value: 0.7533596837944663 and parameters: {'reg_lambda': 0.2779014488759904, 'learning_rate': 0.0005914656912791301, 'n_estimators': 380, 'lambda': 0.07809284518354855, 'alpha': 0.05790903996303164, 'max_depth': 3, 'eta': 0.6898793330258018, 'gamma': 0.18630738629342025, 'subsample': 0.21272268283420437, 'colsample_bytree': 0.8145281406852017, 'min_child_weight': 18}. Best is trial 241 with value: 0.8032279314888011.\u001b[0m\n",
      "\u001b[32m[I 2023-03-04 17:52:37,177]\u001b[0m Trial 438 finished with value: 0.7868906455862978 and parameters: {'reg_lambda': 0.13481914942366818, 'learning_rate': 0.008530081543526675, 'n_estimators': 395, 'lambda': 0.3758459188056762, 'alpha': 0.7728878002233229, 'max_depth': 3, 'eta': 0.37797136805631454, 'gamma': 0.4578421711211291, 'subsample': 0.450548366701451, 'colsample_bytree': 0.6547004880948413, 'min_child_weight': 1}. Best is trial 241 with value: 0.8032279314888011.\u001b[0m\n",
      "\u001b[32m[I 2023-03-04 17:52:37,337]\u001b[0m Trial 439 finished with value: 0.7533596837944663 and parameters: {'reg_lambda': 0.01990558041743655, 'learning_rate': 0.006448721327421977, 'n_estimators': 410, 'lambda': 0.11943849777591886, 'alpha': 0.020809698551350203, 'max_depth': 3, 'eta': 0.6876750101772255, 'gamma': 0.22789168804902385, 'subsample': 0.19085656540613405, 'colsample_bytree': 0.8444819717111647, 'min_child_weight': 6}. Best is trial 241 with value: 0.8032279314888011.\u001b[0m\n",
      "\u001b[32m[I 2023-03-04 17:52:37,477]\u001b[0m Trial 440 finished with value: 0.5 and parameters: {'reg_lambda': 0.1879470024217785, 'learning_rate': 0.01067225624797749, 'n_estimators': 425, 'lambda': 0.39895578740821935, 'alpha': 0.05195800552585372, 'max_depth': 3, 'eta': 0.646457671393664, 'gamma': 0.26925469872856816, 'subsample': 0.14861250690982386, 'colsample_bytree': 0.7870612198953197, 'min_child_weight': 167}. Best is trial 241 with value: 0.8032279314888011.\u001b[0m\n",
      "\u001b[32m[I 2023-03-04 17:52:37,635]\u001b[0m Trial 441 finished with value: 0.7823451910408431 and parameters: {'reg_lambda': 0.02538451661185251, 'learning_rate': 0.014397697624707434, 'n_estimators': 365, 'lambda': 0.9791797479256962, 'alpha': 0.10057149746429381, 'max_depth': 4, 'eta': 0.16618532461071395, 'gamma': 0.5928608068372881, 'subsample': 0.526044998063294, 'colsample_bytree': 0.6348512066582418, 'min_child_weight': 12}. Best is trial 241 with value: 0.8032279314888011.\u001b[0m\n",
      "\u001b[32m[I 2023-03-04 17:52:37,799]\u001b[0m Trial 442 finished with value: 0.7905797101449274 and parameters: {'reg_lambda': 0.013110259680981132, 'learning_rate': 0.007654525664790094, 'n_estimators': 410, 'lambda': 0.3019286152487141, 'alpha': 0.6947348888727799, 'max_depth': 3, 'eta': 0.421508566733808, 'gamma': 0.20601247756216826, 'subsample': 0.5966469671527909, 'colsample_bytree': 0.9581757821650214, 'min_child_weight': 1}. Best is trial 241 with value: 0.8032279314888011.\u001b[0m\n",
      "\u001b[32m[I 2023-03-04 17:52:37,947]\u001b[0m Trial 443 finished with value: 0.7533596837944663 and parameters: {'reg_lambda': 0.034081106066156164, 'learning_rate': 0.024140750383227303, 'n_estimators': 380, 'lambda': 0.2683621474878901, 'alpha': 0.7269908320822517, 'max_depth': 3, 'eta': 0.5770169009049957, 'gamma': 0.3162531600868248, 'subsample': 0.17192446374104686, 'colsample_bytree': 0.980035830963344, 'min_child_weight': 7}. Best is trial 241 with value: 0.8032279314888011.\u001b[0m\n",
      "\u001b[32m[I 2023-03-04 17:52:38,035]\u001b[0m Trial 444 finished with value: 0.7077733860342557 and parameters: {'reg_lambda': 0.009207594077016233, 'learning_rate': 0.00041116250297986914, 'n_estimators': 65, 'lambda': 0.4803445297155942, 'alpha': 0.6133510481261508, 'max_depth': 3, 'eta': 0.5372620235231725, 'gamma': 0.07714160691693206, 'subsample': 0.12790063822171316, 'colsample_bytree': 0.8294010515638522, 'min_child_weight': 14}. Best is trial 241 with value: 0.8032279314888011.\u001b[0m\n",
      "\u001b[32m[I 2023-03-04 17:52:38,199]\u001b[0m Trial 445 finished with value: 0.7533596837944663 and parameters: {'reg_lambda': 0.1081063517672234, 'learning_rate': 0.0005147956042802613, 'n_estimators': 455, 'lambda': 0.24427474582468833, 'alpha': 0.7175038090298789, 'max_depth': 3, 'eta': 0.24028085086895357, 'gamma': 0.2910402582191983, 'subsample': 0.26734770775584965, 'colsample_bytree': 0.9078472921505201, 'min_child_weight': 7}. Best is trial 241 with value: 0.8032279314888011.\u001b[0m\n",
      "\u001b[32m[I 2023-03-04 17:52:38,349]\u001b[0m Trial 446 finished with value: 0.7850461133069829 and parameters: {'reg_lambda': 1.93981312525303, 'learning_rate': 0.0010192232908310611, 'n_estimators': 395, 'lambda': 0.3254490890329014, 'alpha': 0.16705109995617112, 'max_depth': 3, 'eta': 0.25438530115324587, 'gamma': 0.25888516107082227, 'subsample': 0.20310694120832543, 'colsample_bytree': 0.7492504790065976, 'min_child_weight': 1}. Best is trial 241 with value: 0.8032279314888011.\u001b[0m\n",
      "\u001b[32m[I 2023-03-04 17:52:38,490]\u001b[0m Trial 447 finished with value: 0.5 and parameters: {'reg_lambda': 0.3362718831027525, 'learning_rate': 0.000797773303495427, 'n_estimators': 440, 'lambda': 0.22365898572132123, 'alpha': 0.07336307003268794, 'max_depth': 3, 'eta': 0.5512271503743396, 'gamma': 0.35891572109919245, 'subsample': 0.2442683607820178, 'colsample_bytree': 0.8754714950163051, 'min_child_weight': 236}. Best is trial 241 with value: 0.8032279314888011.\u001b[0m\n",
      "\u001b[32m[I 2023-03-04 17:52:38,582]\u001b[0m Trial 448 finished with value: 0.5 and parameters: {'reg_lambda': 15.894870786305317, 'learning_rate': 0.004727003181871101, 'n_estimators': 140, 'lambda': 0.16969336558250284, 'alpha': 0.4538841894902904, 'max_depth': 3, 'eta': 0.3199432830091681, 'gamma': 0.23838678520823933, 'subsample': 0.22471544110792055, 'colsample_bytree': 0.807291816496195, 'min_child_weight': 103}. Best is trial 241 with value: 0.8032279314888011.\u001b[0m\n",
      "\u001b[32m[I 2023-03-04 17:52:38,706]\u001b[0m Trial 449 finished with value: 0.5 and parameters: {'reg_lambda': 0.15038651511963286, 'learning_rate': 0.009707046470726528, 'n_estimators': 425, 'lambda': 0.2650738199825139, 'alpha': 0.6780997369927071, 'max_depth': 3, 'eta': 0.9388501236643585, 'gamma': 0.6190962086343941, 'subsample': 0.1543544551469841, 'colsample_bytree': 0.33142852638341513, 'min_child_weight': 28}. Best is trial 241 with value: 0.8032279314888011.\u001b[0m\n",
      "\u001b[32m[I 2023-03-04 17:52:38,830]\u001b[0m Trial 450 finished with value: 0.5 and parameters: {'reg_lambda': 6.249460203061424, 'learning_rate': 0.005691162494203804, 'n_estimators': 350, 'lambda': 0.19067029441230474, 'alpha': 0.5219746801328151, 'max_depth': 3, 'eta': 0.39192604440956613, 'gamma': 0.10287150338964657, 'subsample': 0.11507587681609834, 'colsample_bytree': 0.6922847062661616, 'min_child_weight': 20}. Best is trial 241 with value: 0.8032279314888011.\u001b[0m\n",
      "\u001b[32m[I 2023-03-04 17:52:38,993]\u001b[0m Trial 451 finished with value: 0.7533596837944663 and parameters: {'reg_lambda': 0.051366419269613425, 'learning_rate': 0.007173548224624194, 'n_estimators': 410, 'lambda': 0.2854491124559527, 'alpha': 0.3166710396260279, 'max_depth': 4, 'eta': 0.712994259549504, 'gamma': 0.7772157959976757, 'subsample': 0.3285511935485352, 'colsample_bytree': 0.854581817872825, 'min_child_weight': 12}. Best is trial 241 with value: 0.8032279314888011.\u001b[0m\n",
      "\u001b[32m[I 2023-03-04 17:52:39,098]\u001b[0m Trial 452 finished with value: 0.7841897233201581 and parameters: {'reg_lambda': 0.017239845767793173, 'learning_rate': 0.010839251744614036, 'n_estimators': 170, 'lambda': 0.23638792323181818, 'alpha': 0.9961681100954402, 'max_depth': 3, 'eta': 0.4981706509171559, 'gamma': 0.6676312694173692, 'subsample': 0.42640019509643157, 'colsample_bytree': 0.7629008123583368, 'min_child_weight': 1}. Best is trial 241 with value: 0.8032279314888011.\u001b[0m\n",
      "\u001b[32m[I 2023-03-04 17:52:39,230]\u001b[0m Trial 453 finished with value: 0.7533596837944663 and parameters: {'reg_lambda': 0.0047131534050185685, 'learning_rate': 0.008431318533779866, 'n_estimators': 305, 'lambda': 0.08811888365234637, 'alpha': 0.13281216491565223, 'max_depth': 3, 'eta': 0.2296653685828557, 'gamma': 0.2759249070144777, 'subsample': 0.1914972230025487, 'colsample_bytree': 0.9282697977800383, 'min_child_weight': 7}. Best is trial 241 with value: 0.8032279314888011.\u001b[0m\n",
      "\u001b[32m[I 2023-03-04 17:52:39,378]\u001b[0m Trial 454 finished with value: 0.7266798418972332 and parameters: {'reg_lambda': 0.006965041819988326, 'learning_rate': 0.0028073512352825647, 'n_estimators': 395, 'lambda': 0.3075960716825449, 'alpha': 0.17533299335290872, 'max_depth': 3, 'eta': 0.26721949402029765, 'gamma': 0.5731405464377669, 'subsample': 0.1364505962899517, 'colsample_bytree': 0.8322692838009805, 'min_child_weight': 15}. Best is trial 241 with value: 0.8032279314888011.\u001b[0m\n",
      "\u001b[32m[I 2023-03-04 17:52:39,548]\u001b[0m Trial 455 finished with value: 0.764163372859025 and parameters: {'reg_lambda': 0.07088380684824548, 'learning_rate': 0.002052666041049554, 'n_estimators': 470, 'lambda': 0.3582187238853452, 'alpha': 0.5605177615432678, 'max_depth': 3, 'eta': 0.6096924373765659, 'gamma': 0.5466678526926506, 'subsample': 0.4117681395739089, 'colsample_bytree': 0.7138923108910195, 'min_child_weight': 7}. Best is trial 241 with value: 0.8032279314888011.\u001b[0m\n",
      "\u001b[32m[I 2023-03-04 17:52:39,693]\u001b[0m Trial 456 finished with value: 0.7868906455862978 and parameters: {'reg_lambda': 1.1530484491547388, 'learning_rate': 0.004210897944602665, 'n_estimators': 320, 'lambda': 0.21590502214376214, 'alpha': 0.25703894024116086, 'max_depth': 3, 'eta': 0.341369480954695, 'gamma': 0.24934934228761757, 'subsample': 0.2160192783261275, 'colsample_bytree': 0.6678980412333315, 'min_child_weight': 1}. Best is trial 241 with value: 0.8032279314888011.\u001b[0m\n",
      "\u001b[32m[I 2023-03-04 17:52:39,839]\u001b[0m Trial 457 finished with value: 0.7533596837944663 and parameters: {'reg_lambda': 0.45311503381488644, 'learning_rate': 0.01584745947443444, 'n_estimators': 395, 'lambda': 0.25581910307761296, 'alpha': 0.7440595699370236, 'max_depth': 3, 'eta': 0.3044126426937972, 'gamma': 0.22176119383424764, 'subsample': 0.16701749774451968, 'colsample_bytree': 0.7921516984861274, 'min_child_weight': 7}. Best is trial 241 with value: 0.8032279314888011.\u001b[0m\n",
      "\u001b[32m[I 2023-03-04 17:52:40,010]\u001b[0m Trial 458 finished with value: 0.7533596837944663 and parameters: {'reg_lambda': 0.010907096186227216, 'learning_rate': 0.0013529942961184377, 'n_estimators': 380, 'lambda': 0.2805624758066734, 'alpha': 0.6436015387813607, 'max_depth': 4, 'eta': 0.6839738659977123, 'gamma': 0.19406028133037134, 'subsample': 0.5640404907701823, 'colsample_bytree': 0.8171723788012736, 'min_child_weight': 13}. Best is trial 241 with value: 0.8032279314888011.\u001b[0m\n",
      "\u001b[32m[I 2023-03-04 17:52:40,103]\u001b[0m Trial 459 finished with value: 0.7533596837944663 and parameters: {'reg_lambda': 35.859541047382976, 'learning_rate': 0.00010025693778059303, 'n_estimators': 125, 'lambda': 0.3174748770957693, 'alpha': 0.4053748088788057, 'max_depth': 3, 'eta': 0.8296065457434562, 'gamma': 0.4327672766212932, 'subsample': 0.23297404877785666, 'colsample_bytree': 0.8844738107361101, 'min_child_weight': 6}. Best is trial 241 with value: 0.8032279314888011.\u001b[0m\n",
      "\u001b[32m[I 2023-03-04 17:52:40,263]\u001b[0m Trial 460 finished with value: 0.7532279314888011 and parameters: {'reg_lambda': 0.023462168697761358, 'learning_rate': 0.0006692333482771961, 'n_estimators': 440, 'lambda': 0.3423691807317476, 'alpha': 0.212690762589168, 'max_depth': 3, 'eta': 0.4117625152105828, 'gamma': 0.04737242842777628, 'subsample': 0.46609009369420296, 'colsample_bytree': 0.6111449040372332, 'min_child_weight': 19}. Best is trial 241 with value: 0.8032279314888011.\u001b[0m\n",
      "\u001b[32m[I 2023-03-04 17:52:40,431]\u001b[0m Trial 461 finished with value: 0.7696969696969698 and parameters: {'reg_lambda': 0.23463012443800643, 'learning_rate': 0.04796248654942541, 'n_estimators': 410, 'lambda': 0.150348465961277, 'alpha': 0.08497121431812865, 'max_depth': 3, 'eta': 0.622687761240208, 'gamma': 0.30574337322452105, 'subsample': 0.5231299748230225, 'colsample_bytree': 0.9887172039191287, 'min_child_weight': 1}. Best is trial 241 with value: 0.8032279314888011.\u001b[0m\n",
      "\u001b[32m[I 2023-03-04 17:52:40,587]\u001b[0m Trial 462 finished with value: 0.7533596837944663 and parameters: {'reg_lambda': 0.015153933459211089, 'learning_rate': 0.006391904567589153, 'n_estimators': 425, 'lambda': 0.24847379433108438, 'alpha': 0.8541529248797618, 'max_depth': 3, 'eta': 0.20290970601187214, 'gamma': 0.6026808172622494, 'subsample': 0.20366236484071257, 'colsample_bytree': 0.857414461581113, 'min_child_weight': 10}. Best is trial 241 with value: 0.8032279314888011.\u001b[0m\n",
      "\u001b[32m[I 2023-03-04 17:52:40,733]\u001b[0m Trial 463 finished with value: 0.7533596837944663 and parameters: {'reg_lambda': 0.5801804592631445, 'learning_rate': 0.012588259265543758, 'n_estimators': 410, 'lambda': 0.19735177378011362, 'alpha': 0.7033816866415934, 'max_depth': 4, 'eta': 0.44508192409115527, 'gamma': 0.28972107696861477, 'subsample': 0.18242750570083643, 'colsample_bytree': 0.94628485122975, 'min_child_weight': 6}. Best is trial 241 with value: 0.8032279314888011.\u001b[0m\n",
      "\u001b[32m[I 2023-03-04 17:52:40,883]\u001b[0m Trial 464 finished with value: 0.7832015810276679 and parameters: {'reg_lambda': 0.11654970889202465, 'learning_rate': 0.00916344706782032, 'n_estimators': 365, 'lambda': 0.23356222537101962, 'alpha': 0.387689384335223, 'max_depth': 5, 'eta': 0.08465310849793842, 'gamma': 0.005822217706276944, 'subsample': 0.11306498628799284, 'colsample_bytree': 0.6600588445587692, 'min_child_weight': 1}. Best is trial 241 with value: 0.8032279314888011.\u001b[0m\n",
      "\u001b[32m[I 2023-03-04 17:52:41,023]\u001b[0m Trial 465 finished with value: 0.7533596837944663 and parameters: {'reg_lambda': 0.19021761078724247, 'learning_rate': 0.0003813401979221863, 'n_estimators': 380, 'lambda': 0.28834329366588374, 'alpha': 0.18296436348068978, 'max_depth': 3, 'eta': 0.27565060809770786, 'gamma': 0.25550039415103226, 'subsample': 0.30713544404611887, 'colsample_bytree': 0.6889975229797638, 'min_child_weight': 14}. Best is trial 241 with value: 0.8032279314888011.\u001b[0m\n",
      "\u001b[32m[I 2023-03-04 17:52:41,190]\u001b[0m Trial 466 finished with value: 0.7868906455862978 and parameters: {'reg_lambda': 0.031788078923155126, 'learning_rate': 0.007652169187293147, 'n_estimators': 455, 'lambda': 0.03691565752441714, 'alpha': 0.261625499525308, 'max_depth': 3, 'eta': 0.3695084713531223, 'gamma': 0.5289145186491216, 'subsample': 0.5526420432778242, 'colsample_bytree': 0.5714062024075016, 'min_child_weight': 6}. Best is trial 241 with value: 0.8032279314888011.\u001b[0m\n",
      "\u001b[32m[I 2023-03-04 17:52:41,347]\u001b[0m Trial 467 finished with value: 0.7533596837944663 and parameters: {'reg_lambda': 0.7297574421724262, 'learning_rate': 0.005923916342691957, 'n_estimators': 425, 'lambda': 0.2544691761888269, 'alpha': 0.3718043716340452, 'max_depth': 10, 'eta': 0.2440758356097919, 'gamma': 0.2307765062377789, 'subsample': 0.26307139136378543, 'colsample_bytree': 0.8415906523544271, 'min_child_weight': 11}. Best is trial 241 with value: 0.8032279314888011.\u001b[0m\n",
      "\u001b[32m[I 2023-03-04 17:52:41,498]\u001b[0m Trial 468 finished with value: 0.7895915678524374 and parameters: {'reg_lambda': 0.09053827202543312, 'learning_rate': 0.0017270778116409886, 'n_estimators': 395, 'lambda': 0.5074792380072048, 'alpha': 0.33676021942747514, 'max_depth': 3, 'eta': 0.1773874208560822, 'gamma': 0.3319695216305969, 'subsample': 0.15518396803947998, 'colsample_bytree': 0.7336254141463089, 'min_child_weight': 1}. Best is trial 241 with value: 0.8032279314888011.\u001b[0m\n",
      "\u001b[32m[I 2023-03-04 17:52:41,626]\u001b[0m Trial 469 finished with value: 0.5 and parameters: {'reg_lambda': 0.28202974015768184, 'learning_rate': 0.00485725447304632, 'n_estimators': 440, 'lambda': 0.30050568766769975, 'alpha': 0.9619229652641933, 'max_depth': 3, 'eta': 0.767989188248938, 'gamma': 0.5068987564461209, 'subsample': 0.13060570409098, 'colsample_bytree': 0.4564491560979511, 'min_child_weight': 19}. Best is trial 241 with value: 0.8032279314888011.\u001b[0m\n",
      "\u001b[32m[I 2023-03-04 17:52:41,793]\u001b[0m Trial 470 finished with value: 0.7968379446640316 and parameters: {'reg_lambda': 0.1420947638073962, 'learning_rate': 0.019632859489498285, 'n_estimators': 410, 'lambda': 0.0625842442436929, 'alpha': 0.6686432091083602, 'max_depth': 3, 'eta': 0.5606809723917704, 'gamma': 0.20419883558712792, 'subsample': 0.24067754406334943, 'colsample_bytree': 0.7809662615517934, 'min_child_weight': 6}. Best is trial 241 with value: 0.8032279314888011.\u001b[0m\n",
      "\u001b[32m[I 2023-03-04 17:52:41,957]\u001b[0m Trial 471 finished with value: 0.7533596837944663 and parameters: {'reg_lambda': 0.05715906649905905, 'learning_rate': 0.019683341173491988, 'n_estimators': 395, 'lambda': 0.09595854381945679, 'alpha': 0.23766378418772466, 'max_depth': 4, 'eta': 0.5274653070618691, 'gamma': 0.1901764462075432, 'subsample': 0.2783790779189905, 'colsample_bytree': 0.7784506661657584, 'min_child_weight': 10}. Best is trial 241 with value: 0.8032279314888011.\u001b[0m\n",
      "\u001b[32m[I 2023-03-04 17:52:42,146]\u001b[0m Trial 472 finished with value: 0.7606060606060605 and parameters: {'reg_lambda': 0.12849431698326957, 'learning_rate': 0.024127406285651274, 'n_estimators': 410, 'lambda': 0.031182764350752817, 'alpha': 0.6608035790028495, 'max_depth': 3, 'eta': 0.5879772250322239, 'gamma': 0.20732473614985858, 'subsample': 0.2459198260426269, 'colsample_bytree': 0.7568488963000573, 'min_child_weight': 7}. Best is trial 241 with value: 0.8032279314888011.\u001b[0m\n",
      "\u001b[32m[I 2023-03-04 17:52:42,274]\u001b[0m Trial 473 finished with value: 0.7032279314888011 and parameters: {'reg_lambda': 0.02012309349485178, 'learning_rate': 0.01656754208241845, 'n_estimators': 380, 'lambda': 0.12473061718288435, 'alpha': 0.6786178922619572, 'max_depth': 3, 'eta': 0.5554562125587837, 'gamma': 0.18735275863037268, 'subsample': 0.23111505198103055, 'colsample_bytree': 0.7759258458861578, 'min_child_weight': 25}. Best is trial 241 with value: 0.8032279314888011.\u001b[0m\n",
      "\u001b[32m[I 2023-03-04 17:52:42,403]\u001b[0m Trial 474 finished with value: 0.7533596837944663 and parameters: {'reg_lambda': 0.03959850402546825, 'learning_rate': 0.03018895120826444, 'n_estimators': 425, 'lambda': 0.00022668375727714907, 'alpha': 0.8007277627481861, 'max_depth': 3, 'eta': 0.5715075455895913, 'gamma': 0.17083745783558196, 'subsample': 0.1018009309870888, 'colsample_bytree': 0.7987640333116831, 'min_child_weight': 15}. Best is trial 241 with value: 0.8032279314888011.\u001b[0m\n",
      "\u001b[32m[I 2023-03-04 17:52:42,554]\u001b[0m Trial 475 finished with value: 0.8059288537549407 and parameters: {'reg_lambda': 0.012112404387648488, 'learning_rate': 0.036140255792490875, 'n_estimators': 395, 'lambda': 0.08255818849984782, 'alpha': 0.6379655499495065, 'max_depth': 3, 'eta': 0.7259483711122987, 'gamma': 0.2168788550864417, 'subsample': 0.26396102468429855, 'colsample_bytree': 0.6398032443429473, 'min_child_weight': 6}. Best is trial 475 with value: 0.8059288537549407.\u001b[0m\n",
      "\u001b[32m[I 2023-03-04 17:52:42,708]\u001b[0m Trial 476 finished with value: 0.7587615283267457 and parameters: {'reg_lambda': 0.012018646800135232, 'learning_rate': 0.024869967001366712, 'n_estimators': 455, 'lambda': 0.06835174918091992, 'alpha': 0.6373084893476149, 'max_depth': 3, 'eta': 0.7238354555710623, 'gamma': 0.46939609752949113, 'subsample': 0.2590430877780312, 'colsample_bytree': 0.5932130523402102, 'min_child_weight': 11}. Best is trial 475 with value: 0.8059288537549407.\u001b[0m\n",
      "\u001b[32m[I 2023-03-04 17:52:42,823]\u001b[0m Trial 477 finished with value: 0.7533596837944663 and parameters: {'reg_lambda': 0.009452471601147136, 'learning_rate': 0.013479465342453537, 'n_estimators': 290, 'lambda': 0.058183026252108846, 'alpha': 0.6494487992908905, 'max_depth': 4, 'eta': 0.5069913574932118, 'gamma': 0.226916043887455, 'subsample': 0.2756979369875219, 'colsample_bytree': 0.6466718659826913, 'min_child_weight': 19}. Best is trial 475 with value: 0.8059288537549407.\u001b[0m\n",
      "\u001b[32m[I 2023-03-04 17:52:42,990]\u001b[0m Trial 478 finished with value: 0.7868906455862978 and parameters: {'reg_lambda': 0.014138551151503368, 'learning_rate': 0.029844520623985914, 'n_estimators': 395, 'lambda': 0.04656358249660633, 'alpha': 0.6631697102909442, 'max_depth': 3, 'eta': 0.7402538925935109, 'gamma': 0.5635869704107592, 'subsample': 0.296875867688911, 'colsample_bytree': 0.6389064204813869, 'min_child_weight': 6}. Best is trial 475 with value: 0.8059288537549407.\u001b[0m\n",
      "\u001b[32m[I 2023-03-04 17:52:43,153]\u001b[0m Trial 479 finished with value: 0.7850461133069829 and parameters: {'reg_lambda': 0.010727611598498806, 'learning_rate': 0.017910026122507423, 'n_estimators': 425, 'lambda': 0.09211862696384748, 'alpha': 0.5951718125670836, 'max_depth': 3, 'eta': 0.7430953090961019, 'gamma': 0.21493573448147035, 'subsample': 0.24934882482074222, 'colsample_bytree': 0.9996906275973959, 'min_child_weight': 1}. Best is trial 475 with value: 0.8059288537549407.\u001b[0m\n",
      "\u001b[32m[I 2023-03-04 17:52:43,316]\u001b[0m Trial 480 finished with value: 0.7533596837944663 and parameters: {'reg_lambda': 0.01561362495794671, 'learning_rate': 0.011388132643900775, 'n_estimators': 485, 'lambda': 0.06941886697350849, 'alpha': 0.6147409699682922, 'max_depth': 3, 'eta': 0.6643504373468481, 'gamma': 0.23604781547683662, 'subsample': 0.23779469314305912, 'colsample_bytree': 0.6743850187276386, 'min_child_weight': 12}. Best is trial 475 with value: 0.8059288537549407.\u001b[0m\n",
      "\u001b[32m[I 2023-03-04 17:52:43,474]\u001b[0m Trial 481 finished with value: 0.7705533596837945 and parameters: {'reg_lambda': 0.02200124215000513, 'learning_rate': 0.018997492140472815, 'n_estimators': 410, 'lambda': 0.07237413626321612, 'alpha': 0.6830099131581416, 'max_depth': 3, 'eta': 0.7882812315103525, 'gamma': 0.3682671326579347, 'subsample': 0.22082690579511266, 'colsample_bytree': 0.7114848413931858, 'min_child_weight': 6}. Best is trial 475 with value: 0.8059288537549407.\u001b[0m\n",
      "\u001b[32m[I 2023-03-04 17:52:43,596]\u001b[0m Trial 482 finished with value: 0.7266798418972332 and parameters: {'reg_lambda': 0.0055808920949715814, 'learning_rate': 0.033209684247135815, 'n_estimators': 380, 'lambda': 0.037414397017048566, 'alpha': 0.9291006225024564, 'max_depth': 3, 'eta': 0.4863806502674361, 'gamma': 0.2723235644886334, 'subsample': 0.13930756656662818, 'colsample_bytree': 0.6333980346799074, 'min_child_weight': 15}. Best is trial 475 with value: 0.8059288537549407.\u001b[0m\n",
      "\u001b[32m[I 2023-03-04 17:52:43,750]\u001b[0m Trial 483 finished with value: 0.7814888010540184 and parameters: {'reg_lambda': 0.0071408759015170594, 'learning_rate': 0.05899445558037817, 'n_estimators': 410, 'lambda': 0.32477919951584233, 'alpha': 0.0020558677804552346, 'max_depth': 3, 'eta': 0.12668562210496565, 'gamma': 0.4954628914461101, 'subsample': 0.6706823676586322, 'colsample_bytree': 0.6245618821060026, 'min_child_weight': 6}. Best is trial 475 with value: 0.8059288537549407.\u001b[0m\n",
      "\u001b[32m[I 2023-03-04 17:52:43,940]\u001b[0m Trial 484 finished with value: 0.7515151515151515 and parameters: {'reg_lambda': 0.1554647753718966, 'learning_rate': 0.02305543491994598, 'n_estimators': 440, 'lambda': 0.11105610918874911, 'alpha': 0.6940179507654781, 'max_depth': 3, 'eta': 0.71382952311111, 'gamma': 0.5794677439703321, 'subsample': 0.25561517022343616, 'colsample_bytree': 0.661763091081733, 'min_child_weight': 10}. Best is trial 475 with value: 0.8059288537549407.\u001b[0m\n",
      "\u001b[32m[I 2023-03-04 17:52:44,186]\u001b[0m Trial 485 finished with value: 0.7814888010540184 and parameters: {'reg_lambda': 0.018849522239396396, 'learning_rate': 0.03795942539616953, 'n_estimators': 365, 'lambda': 0.3532862735929302, 'alpha': 0.6293920091182732, 'max_depth': 3, 'eta': 0.15520847061177728, 'gamma': 0.2455277927725408, 'subsample': 0.7915225371170374, 'colsample_bytree': 0.5509207091132969, 'min_child_weight': 1}. Best is trial 475 with value: 0.8059288537549407.\u001b[0m\n",
      "\u001b[32m[I 2023-03-04 17:52:44,340]\u001b[0m Trial 486 finished with value: 0.7533596837944663 and parameters: {'reg_lambda': 87.01241456859545, 'learning_rate': 0.01022224270572564, 'n_estimators': 395, 'lambda': 0.10317838114116736, 'alpha': 0.9499793514515333, 'max_depth': 4, 'eta': 0.53428514808155, 'gamma': 0.3179686296468248, 'subsample': 0.8487410598714804, 'colsample_bytree': 0.6997413442601079, 'min_child_weight': 22}. Best is trial 475 with value: 0.8059288537549407.\u001b[0m\n",
      "\u001b[32m[I 2023-03-04 17:52:44,521]\u001b[0m Trial 487 finished with value: 0.76699604743083 and parameters: {'reg_lambda': 2.463593192640339, 'learning_rate': 0.000999746114876007, 'n_estimators': 440, 'lambda': 0.06450094246283533, 'alpha': 0.6661818016661826, 'max_depth': 3, 'eta': 0.6367834731999731, 'gamma': 0.2829894006739979, 'subsample': 0.5281908890916229, 'colsample_bytree': 0.9762328411533985, 'min_child_weight': 6}. Best is trial 475 with value: 0.8059288537549407.\u001b[0m\n",
      "\u001b[32m[I 2023-03-04 17:52:44,619]\u001b[0m Trial 488 finished with value: 0.7533596837944663 and parameters: {'reg_lambda': 0.02583504642699965, 'learning_rate': 0.05845083628119423, 'n_estimators': 110, 'lambda': 0.39999206697312495, 'alpha': 0.8858596792807265, 'max_depth': 7, 'eta': 0.4758419353579089, 'gamma': 0.2192761242062607, 'subsample': 0.4022555280705363, 'colsample_bytree': 0.6794970094342895, 'min_child_weight': 15}. Best is trial 475 with value: 0.8059288537549407.\u001b[0m\n",
      "\u001b[32m[I 2023-03-04 17:52:44,800]\u001b[0m Trial 489 finished with value: 0.7914361001317525 and parameters: {'reg_lambda': 0.09227597339478436, 'learning_rate': 0.014148107546234105, 'n_estimators': 470, 'lambda': 0.6866222207827908, 'alpha': 0.48415253433216243, 'max_depth': 3, 'eta': 0.547510910827989, 'gamma': 0.6509293077997864, 'subsample': 0.5983325900042261, 'colsample_bytree': 0.771123848033197, 'min_child_weight': 1}. Best is trial 475 with value: 0.8059288537549407.\u001b[0m\n",
      "\u001b[32m[I 2023-03-04 17:52:44,954]\u001b[0m Trial 490 finished with value: 0.7533596837944663 and parameters: {'reg_lambda': 0.014197950818483603, 'learning_rate': 0.03948961485898343, 'n_estimators': 410, 'lambda': 0.3824476426635184, 'alpha': 0.03387471590098087, 'max_depth': 12, 'eta': 0.2065868055374718, 'gamma': 0.9924611222640679, 'subsample': 0.2910714488372567, 'colsample_bytree': 0.798616654641624, 'min_child_weight': 10}. Best is trial 475 with value: 0.8059288537549407.\u001b[0m\n",
      "\u001b[32m[I 2023-03-04 17:52:45,098]\u001b[0m Trial 491 finished with value: 0.7533596837944663 and parameters: {'reg_lambda': 1.7634118473947709, 'learning_rate': 0.008708037872931526, 'n_estimators': 425, 'lambda': 0.27589523943797645, 'alpha': 0.5455557051429311, 'max_depth': 3, 'eta': 0.5717387598742779, 'gamma': 0.39075113300107245, 'subsample': 0.12069678390303615, 'colsample_bytree': 0.9674291152109016, 'min_child_weight': 6}. Best is trial 475 with value: 0.8059288537549407.\u001b[0m\n",
      "\u001b[32m[I 2023-03-04 17:52:45,247]\u001b[0m Trial 492 finished with value: 0.7606060606060605 and parameters: {'reg_lambda': 0.11638913132570218, 'learning_rate': 0.038151789017027773, 'n_estimators': 395, 'lambda': 0.08901116415134694, 'alpha': 0.2903720565384169, 'max_depth': 3, 'eta': 0.7020438840719375, 'gamma': 0.541881885725525, 'subsample': 0.2317170535350276, 'colsample_bytree': 0.7430817536920424, 'min_child_weight': 1}. Best is trial 475 with value: 0.8059288537549407.\u001b[0m\n",
      "\u001b[32m[I 2023-03-04 17:52:45,406]\u001b[0m Trial 493 finished with value: 0.7533596837944663 and parameters: {'reg_lambda': 5.162933202071148, 'learning_rate': 0.00767627580488631, 'n_estimators': 455, 'lambda': 0.31362951957940677, 'alpha': 0.7022048270732145, 'max_depth': 5, 'eta': 0.23068230878491675, 'gamma': 0.6992939320008386, 'subsample': 0.35169249470026503, 'colsample_bytree': 0.8105311130989591, 'min_child_weight': 16}. Best is trial 475 with value: 0.8059288537549407.\u001b[0m\n",
      "\u001b[32m[I 2023-03-04 17:52:45,556]\u001b[0m Trial 494 finished with value: 0.7533596837944663 and parameters: {'reg_lambda': 0.00425682730513957, 'learning_rate': 0.003239487194398975, 'n_estimators': 380, 'lambda': 0.44838655207866707, 'alpha': 0.9820826749083709, 'max_depth': 3, 'eta': 0.6791172043980285, 'gamma': 0.2578844533615986, 'subsample': 0.16358076299794916, 'colsample_bytree': 0.6171711636978616, 'min_child_weight': 7}. Best is trial 475 with value: 0.8059288537549407.\u001b[0m\n",
      "\u001b[32m[I 2023-03-04 17:52:45,700]\u001b[0m Trial 495 finished with value: 0.7533596837944663 and parameters: {'reg_lambda': 3.205299436107584, 'learning_rate': 0.02049367713690256, 'n_estimators': 425, 'lambda': 0.05300304472225993, 'alpha': 0.6841743710042814, 'max_depth': 8, 'eta': 0.7721410511461222, 'gamma': 0.521508446441612, 'subsample': 0.21549456217747262, 'colsample_bytree': 0.6585608185044572, 'min_child_weight': 10}. Best is trial 475 with value: 0.8059288537549407.\u001b[0m\n",
      "\u001b[32m[I 2023-03-04 17:52:45,852]\u001b[0m Trial 496 finished with value: 0.5 and parameters: {'reg_lambda': 12.722354309569091, 'learning_rate': 0.01204100413114091, 'n_estimators': 410, 'lambda': 0.2970196005286697, 'alpha': 0.5070938254296374, 'max_depth': 3, 'eta': 0.09906104124254927, 'gamma': 0.2999632282499861, 'subsample': 0.3222015497060975, 'colsample_bytree': 0.9256713869357939, 'min_child_weight': 118}. Best is trial 475 with value: 0.8059288537549407.\u001b[0m\n",
      "\u001b[32m[I 2023-03-04 17:52:46,051]\u001b[0m Trial 497 finished with value: 0.7742424242424242 and parameters: {'reg_lambda': 0.008614840165005709, 'learning_rate': 0.07140002633023303, 'n_estimators': 395, 'lambda': 0.125906249720508, 'alpha': 0.6495785605380958, 'max_depth': 3, 'eta': 0.7372890324721973, 'gamma': 0.1994376301612356, 'subsample': 0.5039099479734915, 'colsample_bytree': 0.7214832402067405, 'min_child_weight': 1}. Best is trial 475 with value: 0.8059288537549407.\u001b[0m\n",
      "\u001b[32m[I 2023-03-04 17:52:46,190]\u001b[0m Trial 498 finished with value: 0.7533596837944663 and parameters: {'reg_lambda': 0.2141594103067464, 'learning_rate': 0.009440466541542732, 'n_estimators': 425, 'lambda': 0.41668916226223063, 'alpha': 0.5746786769708482, 'max_depth': 3, 'eta': 0.19413376196061136, 'gamma': 0.34416932980076126, 'subsample': 0.2646139144937444, 'colsample_bytree': 0.6883285880239989, 'min_child_weight': 22}. Best is trial 475 with value: 0.8059288537549407.\u001b[0m\n",
      "\u001b[32m[I 2023-03-04 17:52:46,326]\u001b[0m Trial 499 finished with value: 0.5 and parameters: {'reg_lambda': 0.1471218521364032, 'learning_rate': 0.003926544835557268, 'n_estimators': 440, 'lambda': 0.27031327285600754, 'alpha': 0.9043412402568601, 'max_depth': 4, 'eta': 0.4336483893183197, 'gamma': 0.08901812665353626, 'subsample': 0.19062166013089682, 'colsample_bytree': 0.6049572127818907, 'min_child_weight': 31}. Best is trial 475 with value: 0.8059288537549407.\u001b[0m\n",
      "\u001b[32m[I 2023-03-04 17:52:46,458]\u001b[0m Trial 500 finished with value: 0.5 and parameters: {'reg_lambda': 0.3721842322067777, 'learning_rate': 0.006996288007439444, 'n_estimators': 380, 'lambda': 0.336702605933681, 'alpha': 0.7309910829578361, 'max_depth': 3, 'eta': 0.590531563094008, 'gamma': 0.2734839508289133, 'subsample': 0.1439555933997456, 'colsample_bytree': 0.649649833393764, 'min_child_weight': 41}. Best is trial 475 with value: 0.8059288537549407.\u001b[0m\n",
      "\u001b[32m[I 2023-03-04 17:52:46,628]\u001b[0m Trial 501 finished with value: 0.7533596837944663 and parameters: {'reg_lambda': 0.011548600547230716, 'learning_rate': 0.0005812386659792102, 'n_estimators': 410, 'lambda': 0.01411327812230155, 'alpha': 0.15357105398513107, 'max_depth': 3, 'eta': 0.6191844190854986, 'gamma': 0.24418397436163222, 'subsample': 0.11371256409479256, 'colsample_bytree': 0.951702550955629, 'min_child_weight': 6}. Best is trial 475 with value: 0.8059288537549407.\u001b[0m\n",
      "\u001b[32m[I 2023-03-04 17:52:46,782]\u001b[0m Trial 502 finished with value: 0.7533596837944663 and parameters: {'reg_lambda': 0.01772827905597544, 'learning_rate': 0.00243130025764807, 'n_estimators': 395, 'lambda': 0.2922033154880177, 'alpha': 0.6710551479429246, 'max_depth': 3, 'eta': 0.2510726672479158, 'gamma': 0.1728523445330698, 'subsample': 0.48581541184318405, 'colsample_bytree': 0.7853438377402173, 'min_child_weight': 13}. Best is trial 475 with value: 0.8059288537549407.\u001b[0m\n",
      "\u001b[32m[I 2023-03-04 17:52:46,923]\u001b[0m Trial 503 finished with value: 0.7859025032938076 and parameters: {'reg_lambda': 0.9099110835294862, 'learning_rate': 0.01580582591679851, 'n_estimators': 365, 'lambda': 0.2674591109100882, 'alpha': 0.10515643198044511, 'max_depth': 6, 'eta': 0.46496593986120494, 'gamma': 0.4471928131753184, 'subsample': 0.47127533775942104, 'colsample_bytree': 0.1459312761905538, 'min_child_weight': 1}. Best is trial 475 with value: 0.8059288537549407.\u001b[0m\n",
      "\u001b[32m[I 2023-03-04 17:52:47,031]\u001b[0m Trial 504 finished with value: 0.7533596837944663 and parameters: {'reg_lambda': 0.02847929587045495, 'learning_rate': 0.0008143128772448191, 'n_estimators': 170, 'lambda': 0.36834448924121416, 'alpha': 0.7110179874909963, 'max_depth': 3, 'eta': 0.6520844528749223, 'gamma': 0.21411674361803754, 'subsample': 0.24154641361667584, 'colsample_bytree': 0.8199235917972363, 'min_child_weight': 11}. Best is trial 475 with value: 0.8059288537549407.\u001b[0m\n",
      "\u001b[32m[I 2023-03-04 17:52:47,193]\u001b[0m Trial 505 finished with value: 0.7606060606060605 and parameters: {'reg_lambda': 0.5205005800312617, 'learning_rate': 0.010605752629055528, 'n_estimators': 440, 'lambda': 0.15409193598794474, 'alpha': 0.1909630923120738, 'max_depth': 3, 'eta': 0.2191838848862826, 'gamma': 0.557651138192009, 'subsample': 0.2026209740321433, 'colsample_bytree': 0.7603805274370017, 'min_child_weight': 6}. Best is trial 475 with value: 0.8059288537549407.\u001b[0m\n",
      "\u001b[32m[I 2023-03-04 17:52:47,335]\u001b[0m Trial 506 finished with value: 0.7533596837944663 and parameters: {'reg_lambda': 0.27580770982719816, 'learning_rate': 0.025044444614394333, 'n_estimators': 500, 'lambda': 0.24128317362878549, 'alpha': 0.2155257788249615, 'max_depth': 3, 'eta': 0.5066139299131001, 'gamma': 0.29096138475342287, 'subsample': 0.17439202910472684, 'colsample_bytree': 0.903051463579726, 'min_child_weight': 17}. Best is trial 475 with value: 0.8059288537549407.\u001b[0m\n",
      "\u001b[32m[I 2023-03-04 17:52:47,502]\u001b[0m Trial 507 finished with value: 0.7986824769433466 and parameters: {'reg_lambda': 0.10096359628263406, 'learning_rate': 0.03436526938290198, 'n_estimators': 395, 'lambda': 0.2965793839148756, 'alpha': 0.8310923485799546, 'max_depth': 4, 'eta': 0.13208613286138085, 'gamma': 0.40686486861286403, 'subsample': 0.13054068156976284, 'colsample_bytree': 0.7009108769785695, 'min_child_weight': 1}. Best is trial 475 with value: 0.8059288537549407.\u001b[0m\n",
      "\u001b[32m[I 2023-03-04 17:52:47,658]\u001b[0m Trial 508 finished with value: 0.7841897233201581 and parameters: {'reg_lambda': 0.07837098747911823, 'learning_rate': 0.04210098377591508, 'n_estimators': 395, 'lambda': 0.3246988846246461, 'alpha': 0.8563211318655461, 'max_depth': 4, 'eta': 0.14867758947661075, 'gamma': 0.4620763737398189, 'subsample': 0.12973873661182705, 'colsample_bytree': 0.7354483261269921, 'min_child_weight': 1}. Best is trial 475 with value: 0.8059288537549407.\u001b[0m\n",
      "\u001b[32m[I 2023-03-04 17:52:47,822]\u001b[0m Trial 509 finished with value: 0.7814888010540184 and parameters: {'reg_lambda': 0.10325093706038815, 'learning_rate': 0.03686409499396443, 'n_estimators': 380, 'lambda': 0.3006919313948707, 'alpha': 0.883519759507132, 'max_depth': 3, 'eta': 0.1794630215812938, 'gamma': 0.3713172529539008, 'subsample': 0.45165860233366684, 'colsample_bytree': 0.6992845398462285, 'min_child_weight': 7}. Best is trial 475 with value: 0.8059288537549407.\u001b[0m\n",
      "\u001b[32m[I 2023-03-04 17:52:47,961]\u001b[0m Trial 510 finished with value: 0.7533596837944663 and parameters: {'reg_lambda': 0.06697272763765397, 'learning_rate': 0.04491861961456561, 'n_estimators': 395, 'lambda': 0.3494636848578001, 'alpha': 0.8212998404469497, 'max_depth': 3, 'eta': 0.5566454311479457, 'gamma': 0.3844123785969063, 'subsample': 0.15276220381493502, 'colsample_bytree': 0.7169567764589327, 'min_child_weight': 11}. Best is trial 475 with value: 0.8059288537549407.\u001b[0m\n",
      "\u001b[32m[I 2023-03-04 17:52:48,115]\u001b[0m Trial 511 finished with value: 0.7579051383399209 and parameters: {'reg_lambda': 0.012289355330381767, 'learning_rate': 0.08383911882524848, 'n_estimators': 410, 'lambda': 0.27805411079544806, 'alpha': 0.8332871097302278, 'max_depth': 3, 'eta': 0.26156826317708176, 'gamma': 0.2278821239269759, 'subsample': 0.5656326920813747, 'colsample_bytree': 0.6845765026357031, 'min_child_weight': 1}. Best is trial 475 with value: 0.8059288537549407.\u001b[0m\n",
      "\u001b[32m[I 2023-03-04 17:52:48,271]\u001b[0m Trial 512 finished with value: 0.8104743083003952 and parameters: {'reg_lambda': 0.017358566293944954, 'learning_rate': 0.02835069417257726, 'n_estimators': 410, 'lambda': 0.014134404705857417, 'alpha': 0.9316245010379094, 'max_depth': 3, 'eta': 0.6808890234280416, 'gamma': 0.3309981177972127, 'subsample': 0.6602415264375425, 'colsample_bytree': 0.3896195325201284, 'min_child_weight': 7}. Best is trial 512 with value: 0.8104743083003952.\u001b[0m\n",
      "\u001b[32m[I 2023-03-04 17:52:48,404]\u001b[0m Trial 513 finished with value: 0.5 and parameters: {'reg_lambda': 0.02182301223747845, 'learning_rate': 0.03440664518390511, 'n_estimators': 425, 'lambda': 0.0491288351706598, 'alpha': 0.9519309247667849, 'max_depth': 3, 'eta': 0.5259732419348182, 'gamma': 0.4223700384680056, 'subsample': 0.11191627638284928, 'colsample_bytree': 0.47387029400223224, 'min_child_weight': 18}. Best is trial 512 with value: 0.8104743083003952.\u001b[0m\n",
      "\u001b[32m[I 2023-03-04 17:52:48,539]\u001b[0m Trial 514 finished with value: 0.7533596837944663 and parameters: {'reg_lambda': 0.0175406783594533, 'learning_rate': 0.033202306605455846, 'n_estimators': 410, 'lambda': 0.00995177858096927, 'alpha': 0.9270641313468893, 'max_depth': 3, 'eta': 0.6181129179401986, 'gamma': 0.32955413122423155, 'subsample': 0.12574209444128676, 'colsample_bytree': 0.6735740390138555, 'min_child_weight': 11}. Best is trial 512 with value: 0.8104743083003952.\u001b[0m\n",
      "\u001b[32m[I 2023-03-04 17:52:48,709]\u001b[0m Trial 515 finished with value: 0.8086297760210804 and parameters: {'reg_lambda': 0.015227016298658974, 'learning_rate': 0.030009303408705185, 'n_estimators': 425, 'lambda': 0.05330955682041035, 'alpha': 0.9261503143365032, 'max_depth': 4, 'eta': 0.7011301111531685, 'gamma': 0.31183610590984356, 'subsample': 0.6543829980554662, 'colsample_bytree': 0.36378707572126273, 'min_child_weight': 7}. Best is trial 512 with value: 0.8104743083003952.\u001b[0m\n",
      "\u001b[32m[I 2023-03-04 17:52:48,865]\u001b[0m Trial 516 finished with value: 0.7633069828722002 and parameters: {'reg_lambda': 0.014106511751688977, 'learning_rate': 0.029986612455365044, 'n_estimators': 425, 'lambda': 0.04720445187627981, 'alpha': 0.97023481643618, 'max_depth': 3, 'eta': 0.7170754541762273, 'gamma': 0.33011416267975524, 'subsample': 0.6620999608905357, 'colsample_bytree': 0.41380949378621373, 'min_child_weight': 27}. Best is trial 512 with value: 0.8104743083003952.\u001b[0m\n",
      "\u001b[32m[I 2023-03-04 17:52:49,021]\u001b[0m Trial 517 finished with value: 0.7587615283267457 and parameters: {'reg_lambda': 0.016405414767551044, 'learning_rate': 0.02642210602374334, 'n_estimators': 425, 'lambda': 0.48053253968478404, 'alpha': 0.932498217780921, 'max_depth': 4, 'eta': 0.7184600373677337, 'gamma': 0.4013902203120101, 'subsample': 0.6716010199354554, 'colsample_bytree': 0.36262882062784, 'min_child_weight': 22}. Best is trial 512 with value: 0.8104743083003952.\u001b[0m\n",
      "\u001b[32m[I 2023-03-04 17:52:49,155]\u001b[0m Trial 518 finished with value: 0.5 and parameters: {'reg_lambda': 0.010818230851356102, 'learning_rate': 0.026926731302658536, 'n_estimators': 410, 'lambda': 0.013300200014090262, 'alpha': 0.9107097425373136, 'max_depth': 3, 'eta': 0.6529452121986483, 'gamma': 0.3472331923213968, 'subsample': 0.6232593899423415, 'colsample_bytree': 0.5333209093324787, 'min_child_weight': 134}. Best is trial 512 with value: 0.8104743083003952.\u001b[0m\n",
      "\u001b[32m[I 2023-03-04 17:52:49,317]\u001b[0m Trial 519 finished with value: 0.7877470355731225 and parameters: {'reg_lambda': 0.023771780837671605, 'learning_rate': 0.03564826972406516, 'n_estimators': 440, 'lambda': 0.5451407880094893, 'alpha': 0.052716185987303044, 'max_depth': 5, 'eta': 0.6917034506302459, 'gamma': 0.3201911757809891, 'subsample': 0.6500374410831877, 'colsample_bytree': 0.3170069708828293, 'min_child_weight': 15}. Best is trial 512 with value: 0.8104743083003952.\u001b[0m\n",
      "\u001b[32m[I 2023-03-04 17:52:49,469]\u001b[0m Trial 520 finished with value: 0.8177206851119895 and parameters: {'reg_lambda': 0.013543463072918725, 'learning_rate': 0.046672881783627655, 'n_estimators': 410, 'lambda': 0.008115113628130671, 'alpha': 0.9540999301615802, 'max_depth': 3, 'eta': 0.6754638021374282, 'gamma': 0.3381768967168981, 'subsample': 0.571438092697773, 'colsample_bytree': 0.3183118604374744, 'min_child_weight': 7}. Best is trial 520 with value: 0.8177206851119895.\u001b[0m\n",
      "\u001b[32m[I 2023-03-04 17:52:49,617]\u001b[0m Trial 521 finished with value: 0.7895915678524374 and parameters: {'reg_lambda': 0.012858973218347104, 'learning_rate': 0.04462803521027893, 'n_estimators': 410, 'lambda': 0.02169200869405257, 'alpha': 0.960097660171072, 'max_depth': 9, 'eta': 0.6889470051090651, 'gamma': 0.3406835246392787, 'subsample': 0.5935893359514771, 'colsample_bytree': 0.3214216029084056, 'min_child_weight': 18}. Best is trial 520 with value: 0.8177206851119895.\u001b[0m\n",
      "\u001b[32m[I 2023-03-04 17:52:49,767]\u001b[0m Trial 522 finished with value: 0.7877470355731225 and parameters: {'reg_lambda': 0.016433163504330165, 'learning_rate': 0.03371254616279555, 'n_estimators': 410, 'lambda': 0.02511580019104675, 'alpha': 0.9280247868872318, 'max_depth': 3, 'eta': 0.6723526587616216, 'gamma': 0.35826157863152386, 'subsample': 0.6897701179427994, 'colsample_bytree': 0.3608425394599076, 'min_child_weight': 11}. Best is trial 520 with value: 0.8177206851119895.\u001b[0m\n",
      "\u001b[32m[I 2023-03-04 17:52:49,960]\u001b[0m Trial 523 finished with value: 0.7949934123847168 and parameters: {'reg_lambda': 0.009795574398194262, 'learning_rate': 0.020558030140944438, 'n_estimators': 395, 'lambda': 0.014923376824613026, 'alpha': 0.948192276581686, 'max_depth': 3, 'eta': 0.6648981221902033, 'gamma': 0.31210554713909366, 'subsample': 0.6335050327756757, 'colsample_bytree': 0.26362187919489977, 'min_child_weight': 8}. Best is trial 520 with value: 0.8177206851119895.\u001b[0m\n",
      "\u001b[32m[I 2023-03-04 17:52:50,109]\u001b[0m Trial 524 finished with value: 0.7587615283267457 and parameters: {'reg_lambda': 0.009630647670198748, 'learning_rate': 0.02353550087972174, 'n_estimators': 395, 'lambda': 0.019069174570596273, 'alpha': 0.9472834499941499, 'max_depth': 3, 'eta': 0.6581608747486092, 'gamma': 0.3382264167617436, 'subsample': 0.6391436165592854, 'colsample_bytree': 0.34386867856829273, 'min_child_weight': 22}. Best is trial 520 with value: 0.8177206851119895.\u001b[0m\n",
      "\u001b[32m[I 2023-03-04 17:52:50,260]\u001b[0m Trial 525 finished with value: 0.7832015810276679 and parameters: {'reg_lambda': 0.008661763244359785, 'learning_rate': 0.05396788235607154, 'n_estimators': 395, 'lambda': 0.00046338042775825004, 'alpha': 0.9737510842986525, 'max_depth': 3, 'eta': 0.6760618486752513, 'gamma': 0.3158803478005467, 'subsample': 0.6453809182371542, 'colsample_bytree': 0.27472348743925845, 'min_child_weight': 16}. Best is trial 520 with value: 0.8177206851119895.\u001b[0m\n",
      "\u001b[32m[I 2023-03-04 17:52:50,403]\u001b[0m Trial 526 finished with value: 0.7850461133069829 and parameters: {'reg_lambda': 0.011069725794978749, 'learning_rate': 0.04238924295358336, 'n_estimators': 380, 'lambda': 0.04456653755402066, 'alpha': 0.9413462922135826, 'max_depth': 3, 'eta': 0.7010642940631704, 'gamma': 0.36978438439005373, 'subsample': 0.6407381911673083, 'colsample_bytree': 0.2964157584850208, 'min_child_weight': 10}. Best is trial 520 with value: 0.8177206851119895.\u001b[0m\n",
      "\u001b[32m[I 2023-03-04 17:52:50,549]\u001b[0m Trial 527 finished with value: 0.7650197628458497 and parameters: {'reg_lambda': 0.013605663265427455, 'learning_rate': 0.020358101141956162, 'n_estimators': 395, 'lambda': 0.03058299548951797, 'alpha': 0.9160528673491062, 'max_depth': 3, 'eta': 0.6747745109690417, 'gamma': 0.30678742661591607, 'subsample': 0.6632594034331708, 'colsample_bytree': 0.236783015008579, 'min_child_weight': 7}. Best is trial 520 with value: 0.8177206851119895.\u001b[0m\n",
      "\u001b[32m[I 2023-03-04 17:52:50,702]\u001b[0m Trial 528 finished with value: 0.7768115942028987 and parameters: {'reg_lambda': 0.013126509588582446, 'learning_rate': 0.022734949036956623, 'n_estimators': 380, 'lambda': 0.031236604229319648, 'alpha': 0.9884196673073548, 'max_depth': 4, 'eta': 0.6479988521114358, 'gamma': 0.36095230769220144, 'subsample': 0.6583309358720576, 'colsample_bytree': 0.38241863837999956, 'min_child_weight': 15}. Best is trial 520 with value: 0.8177206851119895.\u001b[0m\n",
      "\u001b[32m[I 2023-03-04 17:52:50,857]\u001b[0m Trial 529 finished with value: 0.7633069828722002 and parameters: {'reg_lambda': 0.009808875189552051, 'learning_rate': 0.0296466099338071, 'n_estimators': 410, 'lambda': 0.01901282025608827, 'alpha': 0.961020466380194, 'max_depth': 3, 'eta': 0.7109905449748369, 'gamma': 0.4079325429746689, 'subsample': 0.622114209458235, 'colsample_bytree': 0.415568796837437, 'min_child_weight': 24}. Best is trial 520 with value: 0.8177206851119895.\u001b[0m\n",
      "\u001b[32m[I 2023-03-04 17:52:50,991]\u001b[0m Trial 530 finished with value: 0.5 and parameters: {'reg_lambda': 0.018748480184516785, 'learning_rate': 0.035081073838841494, 'n_estimators': 395, 'lambda': 0.04479237820354134, 'alpha': 0.8970577915999338, 'max_depth': 3, 'eta': 0.7502019033567114, 'gamma': 0.32706255159101144, 'subsample': 0.6203191751333336, 'colsample_bytree': 0.23518651690906894, 'min_child_weight': 179}. Best is trial 520 with value: 0.8177206851119895.\u001b[0m\n",
      "\u001b[32m[I 2023-03-04 17:52:51,146]\u001b[0m Trial 531 finished with value: 0.8032279314888011 and parameters: {'reg_lambda': 0.008561957652688933, 'learning_rate': 0.05101185237426506, 'n_estimators': 380, 'lambda': 0.01352415282753166, 'alpha': 0.940581576595443, 'max_depth': 3, 'eta': 0.6291975997061318, 'gamma': 0.31280813815414316, 'subsample': 0.5919406967155041, 'colsample_bytree': 0.4149386315316968, 'min_child_weight': 8}. Best is trial 520 with value: 0.8177206851119895.\u001b[0m\n",
      "\u001b[32m[I 2023-03-04 17:52:51,298]\u001b[0m Trial 532 finished with value: 0.7533596837944663 and parameters: {'reg_lambda': 0.007967206726780125, 'learning_rate': 0.05279600191796994, 'n_estimators': 380, 'lambda': 5.692948055058787e-05, 'alpha': 0.9533377124263743, 'max_depth': 3, 'eta': 0.6583220659111418, 'gamma': 0.3467558517142627, 'subsample': 0.6033445317216966, 'colsample_bytree': 0.341942568052529, 'min_child_weight': 34}. Best is trial 520 with value: 0.8177206851119895.\u001b[0m\n",
      "\u001b[32m[I 2023-03-04 17:52:51,439]\u001b[0m Trial 533 finished with value: 0.7633069828722002 and parameters: {'reg_lambda': 0.006355827713520589, 'learning_rate': 0.041654240828339614, 'n_estimators': 365, 'lambda': 0.0174169210878561, 'alpha': 0.7598457047170671, 'max_depth': 3, 'eta': 0.9998236369604905, 'gamma': 0.308417465904361, 'subsample': 0.5674518899639285, 'colsample_bytree': 0.36529622366291536, 'min_child_weight': 19}. Best is trial 520 with value: 0.8177206851119895.\u001b[0m\n",
      "\u001b[32m[I 2023-03-04 17:52:51,585]\u001b[0m Trial 534 finished with value: 0.7941370223978921 and parameters: {'reg_lambda': 0.007620085398947957, 'learning_rate': 0.06170714688952194, 'n_estimators': 380, 'lambda': 0.03313187571626592, 'alpha': 0.9726513711876633, 'max_depth': 3, 'eta': 0.6354615106453221, 'gamma': 0.30873494928602907, 'subsample': 0.5913896549265917, 'colsample_bytree': 0.4051526792501656, 'min_child_weight': 12}. Best is trial 520 with value: 0.8177206851119895.\u001b[0m\n",
      "\u001b[32m[I 2023-03-04 17:52:51,755]\u001b[0m Trial 535 finished with value: 0.7877470355731225 and parameters: {'reg_lambda': 0.010128514713433973, 'learning_rate': 0.02614518368331931, 'n_estimators': 395, 'lambda': 0.0591084682757315, 'alpha': 0.9395762131785702, 'max_depth': 4, 'eta': 0.6715867274390488, 'gamma': 0.321445823768828, 'subsample': 0.6168003986954669, 'colsample_bytree': 0.26610606084258004, 'min_child_weight': 8}. Best is trial 520 with value: 0.8177206851119895.\u001b[0m\n",
      "\u001b[32m[I 2023-03-04 17:52:51,900]\u001b[0m Trial 536 finished with value: 0.7850461133069829 and parameters: {'reg_lambda': 0.01096290854652845, 'learning_rate': 0.04921588176773941, 'n_estimators': 365, 'lambda': 0.01687352359621521, 'alpha': 0.9915426716394841, 'max_depth': 3, 'eta': 0.6258165657747221, 'gamma': 0.3015222750712575, 'subsample': 0.5618605643477773, 'colsample_bytree': 0.31828850611882814, 'min_child_weight': 15}. Best is trial 520 with value: 0.8177206851119895.\u001b[0m\n",
      "\u001b[32m[I 2023-03-04 17:52:52,048]\u001b[0m Trial 537 finished with value: 0.7606060606060605 and parameters: {'reg_lambda': 0.031239728021533564, 'learning_rate': 0.04169794597400992, 'n_estimators': 380, 'lambda': 0.0012820733469653973, 'alpha': 0.931118994961602, 'max_depth': 3, 'eta': 0.6905015227317657, 'gamma': 0.35372578236207247, 'subsample': 0.5815264818024228, 'colsample_bytree': 0.4014395397600395, 'min_child_weight': 28}. Best is trial 520 with value: 0.8177206851119895.\u001b[0m\n",
      "\u001b[32m[I 2023-03-04 17:52:52,203]\u001b[0m Trial 538 finished with value: 0.813175230566535 and parameters: {'reg_lambda': 0.04535669456540334, 'learning_rate': 0.03160924761896049, 'n_estimators': 395, 'lambda': 0.0645791337030726, 'alpha': 0.7769554141605707, 'max_depth': 3, 'eta': 0.729048564576257, 'gamma': 0.2881206571910711, 'subsample': 0.6169372368174533, 'colsample_bytree': 0.36338235321771667, 'min_child_weight': 7}. Best is trial 520 with value: 0.8177206851119895.\u001b[0m\n",
      "\u001b[32m[I 2023-03-04 17:52:52,352]\u001b[0m Trial 539 finished with value: 0.7587615283267457 and parameters: {'reg_lambda': 0.03593802192223222, 'learning_rate': 0.030379646385695576, 'n_estimators': 395, 'lambda': 0.04095943677157942, 'alpha': 0.7579589526659127, 'max_depth': 3, 'eta': 0.7026154089344508, 'gamma': 0.3322034195839426, 'subsample': 0.6018479015656745, 'colsample_bytree': 0.38445896343802727, 'min_child_weight': 23}. Best is trial 520 with value: 0.8177206851119895.\u001b[0m\n",
      "\u001b[32m[I 2023-03-04 17:52:52,521]\u001b[0m Trial 540 finished with value: 0.7895915678524374 and parameters: {'reg_lambda': 0.046868147412253605, 'learning_rate': 0.04695134917153501, 'n_estimators': 410, 'lambda': 0.03231363314408366, 'alpha': 0.7881931135211487, 'max_depth': 3, 'eta': 0.7434289754845665, 'gamma': 0.29877357177078145, 'subsample': 0.613778115506154, 'colsample_bytree': 0.3781648779683451, 'min_child_weight': 11}. Best is trial 520 with value: 0.8177206851119895.\u001b[0m\n",
      "\u001b[32m[I 2023-03-04 17:52:52,656]\u001b[0m Trial 541 finished with value: 0.7877470355731225 and parameters: {'reg_lambda': 0.007646743542969851, 'learning_rate': 0.035720413334411116, 'n_estimators': 350, 'lambda': 0.022962945302076782, 'alpha': 0.7441984912034901, 'max_depth': 3, 'eta': 0.727954790367804, 'gamma': 0.29319730329120475, 'subsample': 0.6425433610719504, 'colsample_bytree': 0.35684208173451903, 'min_child_weight': 17}. Best is trial 520 with value: 0.8177206851119895.\u001b[0m\n",
      "\u001b[32m[I 2023-03-04 17:52:52,831]\u001b[0m Trial 542 finished with value: 0.7904479578392621 and parameters: {'reg_lambda': 0.026530524623488358, 'learning_rate': 0.020598876948039715, 'n_estimators': 410, 'lambda': 0.06618864574124333, 'alpha': 0.9041200979030567, 'max_depth': 6, 'eta': 0.6825920202442879, 'gamma': 0.4266680728255927, 'subsample': 0.6082100913405522, 'colsample_bytree': 0.33346746156899887, 'min_child_weight': 8}. Best is trial 520 with value: 0.8177206851119895.\u001b[0m\n",
      "\u001b[32m[I 2023-03-04 17:52:52,982]\u001b[0m Trial 543 finished with value: 0.7968379446640316 and parameters: {'reg_lambda': 0.041870910695555624, 'learning_rate': 0.027607986051996544, 'n_estimators': 380, 'lambda': 0.04586502675608329, 'alpha': 0.9991141043372044, 'max_depth': 3, 'eta': 0.6546498433458231, 'gamma': 0.33149114982008426, 'subsample': 0.5807838226888323, 'colsample_bytree': 0.3524325205051146, 'min_child_weight': 7}. Best is trial 520 with value: 0.8177206851119895.\u001b[0m\n",
      "\u001b[32m[I 2023-03-04 17:52:53,121]\u001b[0m Trial 544 finished with value: 0.7587615283267457 and parameters: {'reg_lambda': 0.04659478878845358, 'learning_rate': 0.028326050957628534, 'n_estimators': 365, 'lambda': 0.047776333463663084, 'alpha': 0.9969451691399005, 'max_depth': 4, 'eta': 0.63774037391682, 'gamma': 0.33046962813922715, 'subsample': 0.5874410804653397, 'colsample_bytree': 0.36673266765931045, 'min_child_weight': 21}. Best is trial 520 with value: 0.8177206851119895.\u001b[0m\n",
      "\u001b[32m[I 2023-03-04 17:52:53,257]\u001b[0m Trial 545 finished with value: 0.6142951251646903 and parameters: {'reg_lambda': 0.031414954480729236, 'learning_rate': 0.02791005555534084, 'n_estimators': 380, 'lambda': 0.08782362418218785, 'alpha': 0.9763935268717286, 'max_depth': 3, 'eta': 0.6532475833486909, 'gamma': 0.37948458831903153, 'subsample': 0.5794138187980005, 'colsample_bytree': 0.34651889768013594, 'min_child_weight': 61}. Best is trial 520 with value: 0.8177206851119895.\u001b[0m\n",
      "\u001b[32m[I 2023-03-04 17:52:53,399]\u001b[0m Trial 546 finished with value: 0.7877470355731225 and parameters: {'reg_lambda': 0.04499398322327295, 'learning_rate': 0.03411949279623407, 'n_estimators': 380, 'lambda': 0.0750955983075644, 'alpha': 0.8734496194628698, 'max_depth': 3, 'eta': 0.6756280449592919, 'gamma': 0.35339436101320576, 'subsample': 0.5773575782344169, 'colsample_bytree': 0.39571517009325335, 'min_child_weight': 14}. Best is trial 520 with value: 0.8177206851119895.\u001b[0m\n",
      "\u001b[32m[I 2023-03-04 17:52:53,552]\u001b[0m Trial 547 finished with value: 0.7986824769433466 and parameters: {'reg_lambda': 0.041047650374873214, 'learning_rate': 0.084043402102167, 'n_estimators': 365, 'lambda': 0.05945238644113793, 'alpha': 0.9743077550831911, 'max_depth': 3, 'eta': 0.7090740926293813, 'gamma': 0.9097290338214561, 'subsample': 0.6404793817677514, 'colsample_bytree': 0.3736495842089569, 'min_child_weight': 8}. Best is trial 520 with value: 0.8177206851119895.\u001b[0m\n",
      "\u001b[32m[I 2023-03-04 17:52:53,703]\u001b[0m Trial 548 finished with value: 0.7895915678524374 and parameters: {'reg_lambda': 0.03638531368874285, 'learning_rate': 0.08010737659340697, 'n_estimators': 365, 'lambda': 0.08043093937344696, 'alpha': 0.9739892893460473, 'max_depth': 3, 'eta': 0.710864571317001, 'gamma': 0.8574932791923486, 'subsample': 0.6350086876299106, 'colsample_bytree': 0.37379338713436416, 'min_child_weight': 18}. Best is trial 520 with value: 0.8177206851119895.\u001b[0m\n",
      "\u001b[32m[I 2023-03-04 17:52:53,856]\u001b[0m Trial 549 finished with value: 0.7986824769433466 and parameters: {'reg_lambda': 0.05959368298058557, 'learning_rate': 0.1018617665502429, 'n_estimators': 395, 'lambda': 0.05773567528475883, 'alpha': 0.9987321175702137, 'max_depth': 4, 'eta': 0.7292555001341586, 'gamma': 0.8727020284129599, 'subsample': 0.5412096015696385, 'colsample_bytree': 0.3881865175300816, 'min_child_weight': 11}. Best is trial 520 with value: 0.8177206851119895.\u001b[0m\n",
      "\u001b[32m[I 2023-03-04 17:52:54,000]\u001b[0m Trial 550 finished with value: 0.8013833992094862 and parameters: {'reg_lambda': 0.057016026040061944, 'learning_rate': 0.10898766207691427, 'n_estimators': 365, 'lambda': 0.06558329607060083, 'alpha': 0.9990625940917666, 'max_depth': 4, 'eta': 0.7307773306378229, 'gamma': 0.8526985978481028, 'subsample': 0.5516461999146041, 'colsample_bytree': 0.3522380078705055, 'min_child_weight': 14}. Best is trial 520 with value: 0.8177206851119895.\u001b[0m\n",
      "\u001b[32m[I 2023-03-04 17:52:54,135]\u001b[0m Trial 551 finished with value: 0.7614624505928853 and parameters: {'reg_lambda': 0.06542151439816363, 'learning_rate': 0.12834656778763445, 'n_estimators': 335, 'lambda': 0.052544509130463705, 'alpha': 0.9678512977601006, 'max_depth': 4, 'eta': 0.7507306342202799, 'gamma': 0.8740216306670796, 'subsample': 0.5398716041209173, 'colsample_bytree': 0.38730917503672385, 'min_child_weight': 23}. Best is trial 520 with value: 0.8177206851119895.\u001b[0m\n",
      "\u001b[32m[I 2023-03-04 17:52:54,276]\u001b[0m Trial 552 finished with value: 0.7533596837944663 and parameters: {'reg_lambda': 0.05500001938100265, 'learning_rate': 0.12190720830420969, 'n_estimators': 365, 'lambda': 0.06613577781769671, 'alpha': 0.9926355986414734, 'max_depth': 4, 'eta': 0.7294613683149914, 'gamma': 0.8840051619849382, 'subsample': 0.5665016327497009, 'colsample_bytree': 0.36377391752164373, 'min_child_weight': 29}. Best is trial 520 with value: 0.8177206851119895.\u001b[0m\n",
      "\u001b[32m[I 2023-03-04 17:52:54,436]\u001b[0m Trial 553 finished with value: 0.7968379446640316 and parameters: {'reg_lambda': 0.042321423591965356, 'learning_rate': 0.09327270094608849, 'n_estimators': 365, 'lambda': 0.09270322602307271, 'alpha': 0.9999111751558617, 'max_depth': 4, 'eta': 0.6993290484733482, 'gamma': 0.810360283837883, 'subsample': 0.6111664071179795, 'colsample_bytree': 0.34605301313975784, 'min_child_weight': 15}. Best is trial 520 with value: 0.8177206851119895.\u001b[0m\n",
      "\u001b[32m[I 2023-03-04 17:52:54,563]\u001b[0m Trial 554 finished with value: 0.5 and parameters: {'reg_lambda': 0.04244345161280174, 'learning_rate': 0.12319615058556434, 'n_estimators': 350, 'lambda': 0.08585677722114937, 'alpha': 0.9909153425124377, 'max_depth': 4, 'eta': 0.6993121543168125, 'gamma': 0.9305581942702159, 'subsample': 0.5431936608108405, 'colsample_bytree': 0.35060071487222655, 'min_child_weight': 264}. Best is trial 520 with value: 0.8177206851119895.\u001b[0m\n",
      "\u001b[32m[I 2023-03-04 17:52:54,704]\u001b[0m Trial 555 finished with value: 0.7587615283267457 and parameters: {'reg_lambda': 0.056059254048426745, 'learning_rate': 0.09900388251581763, 'n_estimators': 350, 'lambda': 0.06307492074397314, 'alpha': 0.9990874947314163, 'max_depth': 4, 'eta': 0.7350192054890373, 'gamma': 0.8581348158663462, 'subsample': 0.5519538820301548, 'colsample_bytree': 0.3444738567211395, 'min_child_weight': 20}. Best is trial 520 with value: 0.8177206851119895.\u001b[0m\n",
      "\u001b[32m[I 2023-03-04 17:52:54,850]\u001b[0m Trial 556 finished with value: 0.7533596837944663 and parameters: {'reg_lambda': 0.04231625975744455, 'learning_rate': 0.10087898893507286, 'n_estimators': 350, 'lambda': 0.09862621454577425, 'alpha': 0.9680799263861545, 'max_depth': 4, 'eta': 0.7602472489684281, 'gamma': 0.9377070612141313, 'subsample': 0.6100110245583643, 'colsample_bytree': 0.37601258165215246, 'min_child_weight': 37}. Best is trial 520 with value: 0.8177206851119895.\u001b[0m\n",
      "\u001b[32m[I 2023-03-04 17:52:55,008]\u001b[0m Trial 557 finished with value: 0.7850461133069829 and parameters: {'reg_lambda': 0.05213216797254301, 'learning_rate': 0.09981375841523868, 'n_estimators': 350, 'lambda': 0.06626560362172738, 'alpha': 0.9834742799081796, 'max_depth': 4, 'eta': 0.6963001092886805, 'gamma': 0.8228678263174165, 'subsample': 0.5834744661935236, 'colsample_bytree': 0.39586595715441847, 'min_child_weight': 17}. Best is trial 520 with value: 0.8177206851119895.\u001b[0m\n",
      "\u001b[32m[I 2023-03-04 17:52:55,142]\u001b[0m Trial 558 finished with value: 0.7606060606060605 and parameters: {'reg_lambda': 0.06339121485475585, 'learning_rate': 0.06227602076180495, 'n_estimators': 365, 'lambda': 0.048628938240223456, 'alpha': 0.9996772410101814, 'max_depth': 4, 'eta': 0.7137351979778687, 'gamma': 0.9124405994512989, 'subsample': 0.5410855718396084, 'colsample_bytree': 0.3757035658341673, 'min_child_weight': 26}. Best is trial 520 with value: 0.8177206851119895.\u001b[0m\n",
      "\u001b[32m[I 2023-03-04 17:52:55,292]\u001b[0m Trial 559 finished with value: 0.7877470355731225 and parameters: {'reg_lambda': 0.039254789757029764, 'learning_rate': 0.16729814843292126, 'n_estimators': 365, 'lambda': 0.11338963188776903, 'alpha': 0.9798833226110825, 'max_depth': 4, 'eta': 0.731087833981044, 'gamma': 0.8430486799968158, 'subsample': 0.5885239231199864, 'colsample_bytree': 0.39449370372250114, 'min_child_weight': 15}. Best is trial 520 with value: 0.8177206851119895.\u001b[0m\n",
      "\u001b[32m[I 2023-03-04 17:52:55,425]\u001b[0m Trial 560 finished with value: 0.7660079051383399 and parameters: {'reg_lambda': 0.0347640371323438, 'learning_rate': 0.06807978552233553, 'n_estimators': 365, 'lambda': 0.08308525732205052, 'alpha': 0.9586273768316784, 'max_depth': 11, 'eta': 0.6852713736529004, 'gamma': 0.9068979148811198, 'subsample': 0.6048472848642119, 'colsample_bytree': 0.3372019507514908, 'min_child_weight': 26}. Best is trial 520 with value: 0.8177206851119895.\u001b[0m\n",
      "\u001b[32m[I 2023-03-04 17:52:55,569]\u001b[0m Trial 561 finished with value: 0.792292490118577 and parameters: {'reg_lambda': 0.05338418033664336, 'learning_rate': 0.09040627076816216, 'n_estimators': 335, 'lambda': 0.05935309206754273, 'alpha': 0.9807723361384788, 'max_depth': 4, 'eta': 0.6065580310272789, 'gamma': 0.759303923498702, 'subsample': 0.6284958870088538, 'colsample_bytree': 0.3562987762289954, 'min_child_weight': 14}. Best is trial 520 with value: 0.8177206851119895.\u001b[0m\n",
      "\u001b[32m[I 2023-03-04 17:52:55,724]\u001b[0m Trial 562 finished with value: 0.8013833992094862 and parameters: {'reg_lambda': 0.07457994313336726, 'learning_rate': 0.06942964771868673, 'n_estimators': 380, 'lambda': 0.1030577061925857, 'alpha': 0.9579620404746032, 'max_depth': 5, 'eta': 0.7086782337279185, 'gamma': 0.7799399433656472, 'subsample': 0.5141240837439581, 'colsample_bytree': 0.4139537410427068, 'min_child_weight': 12}. Best is trial 520 with value: 0.8177206851119895.\u001b[0m\n",
      "\u001b[32m[I 2023-03-04 17:52:55,859]\u001b[0m Trial 563 finished with value: 0.7533596837944663 and parameters: {'reg_lambda': 0.07624792756538469, 'learning_rate': 0.07400631983327371, 'n_estimators': 380, 'lambda': 0.09831042292371378, 'alpha': 0.9577900236164792, 'max_depth': 5, 'eta': 0.7125026710867284, 'gamma': 0.7928277582410921, 'subsample': 0.5196914480126236, 'colsample_bytree': 0.4270251974925964, 'min_child_weight': 31}. Best is trial 520 with value: 0.8177206851119895.\u001b[0m\n",
      "\u001b[32m[I 2023-03-04 17:52:56,012]\u001b[0m Trial 564 finished with value: 0.7587615283267457 and parameters: {'reg_lambda': 0.06784977781318897, 'learning_rate': 0.06951138230869024, 'n_estimators': 365, 'lambda': 0.08135291523667468, 'alpha': 0.9960366928235905, 'max_depth': 5, 'eta': 0.7240347383696103, 'gamma': 0.8278092300976797, 'subsample': 0.5374520391741517, 'colsample_bytree': 0.38997704681395784, 'min_child_weight': 21}. Best is trial 520 with value: 0.8177206851119895.\u001b[0m\n",
      "\u001b[32m[I 2023-03-04 17:52:56,152]\u001b[0m Trial 565 finished with value: 0.7515151515151515 and parameters: {'reg_lambda': 0.05620741715015237, 'learning_rate': 0.07332291589448489, 'n_estimators': 380, 'lambda': 0.10329329034774903, 'alpha': 0.9787219583964121, 'max_depth': 4, 'eta': 0.7514013646020241, 'gamma': 0.8740592200780152, 'subsample': 0.556796594516737, 'colsample_bytree': 0.42019991175674865, 'min_child_weight': 20}. Best is trial 520 with value: 0.8177206851119895.\u001b[0m\n",
      "\u001b[32m[I 2023-03-04 17:52:56,299]\u001b[0m Trial 566 finished with value: 0.8013833992094862 and parameters: {'reg_lambda': 0.07730237410881992, 'learning_rate': 0.09038012856129772, 'n_estimators': 380, 'lambda': 0.045019294385597416, 'alpha': 0.954066803905106, 'max_depth': 5, 'eta': 0.7656070991351609, 'gamma': 0.7865829757028929, 'subsample': 0.565886635857621, 'colsample_bytree': 0.42087601098250493, 'min_child_weight': 14}. Best is trial 520 with value: 0.8177206851119895.\u001b[0m\n",
      "\u001b[32m[I 2023-03-04 17:52:56,432]\u001b[0m Trial 567 finished with value: 0.7614624505928853 and parameters: {'reg_lambda': 0.0717414759313568, 'learning_rate': 0.10156025102609625, 'n_estimators': 380, 'lambda': 0.049788289851994495, 'alpha': 0.9983076725000212, 'max_depth': 5, 'eta': 0.7943801555880277, 'gamma': 0.8091851300241666, 'subsample': 0.5743187648647562, 'colsample_bytree': 0.40669436666309555, 'min_child_weight': 25}. Best is trial 520 with value: 0.8177206851119895.\u001b[0m\n",
      "\u001b[32m[I 2023-03-04 17:52:56,596]\u001b[0m Trial 568 finished with value: 0.7660079051383399 and parameters: {'reg_lambda': 0.08505897841654941, 'learning_rate': 0.08375204877230888, 'n_estimators': 365, 'lambda': 0.03952597181767675, 'alpha': 0.9420475320383931, 'max_depth': 6, 'eta': 0.7677449961289335, 'gamma': 0.7883336199933048, 'subsample': 0.5518802619414962, 'colsample_bytree': 0.42657032078678736, 'min_child_weight': 19}. Best is trial 520 with value: 0.8177206851119895.\u001b[0m\n",
      "\u001b[32m[I 2023-03-04 17:52:56,735]\u001b[0m Trial 569 finished with value: 0.7533596837944663 and parameters: {'reg_lambda': 0.0444010240675626, 'learning_rate': 0.09311615256755842, 'n_estimators': 380, 'lambda': 0.07146570615178437, 'alpha': 0.9576458276425138, 'max_depth': 5, 'eta': 0.7333447642246222, 'gamma': 0.7415059486522215, 'subsample': 0.521099126608665, 'colsample_bytree': 0.4274657315078343, 'min_child_weight': 27}. Best is trial 520 with value: 0.8177206851119895.\u001b[0m\n",
      "\u001b[32m[I 2023-03-04 17:52:56,876]\u001b[0m Trial 570 finished with value: 0.792292490118577 and parameters: {'reg_lambda': 0.060124680199943, 'learning_rate': 0.061191221585055425, 'n_estimators': 365, 'lambda': 0.035482085235347384, 'alpha': 0.9690554868414265, 'max_depth': 5, 'eta': 0.7547573517968548, 'gamma': 0.8154804837115569, 'subsample': 0.5565138980509019, 'colsample_bytree': 0.379242844553793, 'min_child_weight': 14}. Best is trial 520 with value: 0.8177206851119895.\u001b[0m\n",
      "\u001b[32m[I 2023-03-04 17:52:57,014]\u001b[0m Trial 571 finished with value: 0.792292490118577 and parameters: {'reg_lambda': 0.07786279414151864, 'learning_rate': 0.05215860446253905, 'n_estimators': 350, 'lambda': 0.11457316535289078, 'alpha': 0.9534300484497561, 'max_depth': 4, 'eta': 0.7018133981084848, 'gamma': 0.8475926596636286, 'subsample': 0.5111015577324137, 'colsample_bytree': 0.31156050087750403, 'min_child_weight': 15}. Best is trial 520 with value: 0.8177206851119895.\u001b[0m\n",
      "\u001b[32m[I 2023-03-04 17:52:57,171]\u001b[0m Trial 572 finished with value: 0.7986824769433466 and parameters: {'reg_lambda': 0.04588577688677719, 'learning_rate': 0.1573335353978822, 'n_estimators': 380, 'lambda': 0.0695687218667216, 'alpha': 0.7823347137957973, 'max_depth': 5, 'eta': 0.7863086695237966, 'gamma': 0.8006417607066303, 'subsample': 0.5729126501349292, 'colsample_bytree': 0.35476331788500637, 'min_child_weight': 12}. Best is trial 520 with value: 0.8177206851119895.\u001b[0m\n",
      "\u001b[32m[I 2023-03-04 17:52:57,306]\u001b[0m Trial 573 finished with value: 0.7587615283267457 and parameters: {'reg_lambda': 0.058017072543954336, 'learning_rate': 0.16588275694619237, 'n_estimators': 365, 'lambda': 0.07021685091252862, 'alpha': 0.9788016808381343, 'max_depth': 5, 'eta': 0.8093033788528343, 'gamma': 0.8260609779084477, 'subsample': 0.5749465577029431, 'colsample_bytree': 0.34931337458126127, 'min_child_weight': 22}. Best is trial 520 with value: 0.8177206851119895.\u001b[0m\n",
      "\u001b[32m[I 2023-03-04 17:52:57,459]\u001b[0m Trial 574 finished with value: 0.7759552042160739 and parameters: {'reg_lambda': 0.0401825229040116, 'learning_rate': 0.1480760099265322, 'n_estimators': 380, 'lambda': 0.05717634326472799, 'alpha': 0.8065398218818904, 'max_depth': 5, 'eta': 0.7810794979000568, 'gamma': 0.7833059755070311, 'subsample': 0.5873748363887126, 'colsample_bytree': 0.336440485642163, 'min_child_weight': 19}. Best is trial 520 with value: 0.8177206851119895.\u001b[0m\n",
      "\u001b[32m[I 2023-03-04 17:52:57,606]\u001b[0m Trial 575 finished with value: 0.7941370223978921 and parameters: {'reg_lambda': 0.0369557767758824, 'learning_rate': 0.2267057836804027, 'n_estimators': 380, 'lambda': 0.10020611286219445, 'alpha': 0.7685947246930471, 'max_depth': 5, 'eta': 0.7655752815262664, 'gamma': 0.7670365507268551, 'subsample': 0.6052733631615002, 'colsample_bytree': 0.447889296142749, 'min_child_weight': 13}. Best is trial 520 with value: 0.8177206851119895.\u001b[0m\n",
      "\u001b[32m[I 2023-03-04 17:52:57,737]\u001b[0m Trial 576 finished with value: 0.7533596837944663 and parameters: {'reg_lambda': 0.049737006744869854, 'learning_rate': 0.11681898362586968, 'n_estimators': 365, 'lambda': 0.03670141912775515, 'alpha': 0.7850813784604983, 'max_depth': 5, 'eta': 0.7656215624066663, 'gamma': 0.8023871621019848, 'subsample': 0.5351725037531911, 'colsample_bytree': 0.3689239297856593, 'min_child_weight': 30}. Best is trial 520 with value: 0.8177206851119895.\u001b[0m\n",
      "\u001b[32m[I 2023-03-04 17:52:57,877]\u001b[0m Trial 577 finished with value: 0.7968379446640316 and parameters: {'reg_lambda': 0.045686041565883934, 'learning_rate': 0.18913687887459293, 'n_estimators': 350, 'lambda': 0.08390955014622514, 'alpha': 0.9360629633182826, 'max_depth': 5, 'eta': 0.7280898234731601, 'gamma': 0.7928661150324773, 'subsample': 0.566691045723119, 'colsample_bytree': 0.35637921892916535, 'min_child_weight': 14}. Best is trial 520 with value: 0.8177206851119895.\u001b[0m\n",
      "\u001b[32m[I 2023-03-04 17:52:58,012]\u001b[0m Trial 578 finished with value: 0.7533596837944663 and parameters: {'reg_lambda': 0.06563092739360685, 'learning_rate': 0.13823558460333846, 'n_estimators': 335, 'lambda': 0.0860199943509394, 'alpha': 0.9305463140711807, 'max_depth': 5, 'eta': 0.7983131966988436, 'gamma': 0.7882811364739897, 'subsample': 0.5673755277160089, 'colsample_bytree': 0.35798390184308837, 'min_child_weight': 32}. Best is trial 520 with value: 0.8177206851119895.\u001b[0m\n",
      "\u001b[32m[I 2023-03-04 17:52:58,162]\u001b[0m Trial 579 finished with value: 0.7606060606060605 and parameters: {'reg_lambda': 0.053205026759647236, 'learning_rate': 0.20408380759990716, 'n_estimators': 365, 'lambda': 0.1299917231862828, 'alpha': 0.999359770346296, 'max_depth': 5, 'eta': 0.7299747522587732, 'gamma': 0.7447894243174767, 'subsample': 0.5365184571194814, 'colsample_bytree': 0.40491381268758736, 'min_child_weight': 24}. Best is trial 520 with value: 0.8177206851119895.\u001b[0m\n",
      "\u001b[32m[I 2023-03-04 17:52:58,315]\u001b[0m Trial 580 finished with value: 0.775098814229249 and parameters: {'reg_lambda': 0.07522069913243293, 'learning_rate': 0.10196502834794081, 'n_estimators': 350, 'lambda': 0.08132473043147262, 'alpha': 0.9411698167703445, 'max_depth': 5, 'eta': 0.7357585511875729, 'gamma': 0.7538164480157089, 'subsample': 0.5509761862694655, 'colsample_bytree': 0.3236688148384076, 'min_child_weight': 18}. Best is trial 520 with value: 0.8177206851119895.\u001b[0m\n",
      "\u001b[32m[I 2023-03-04 17:52:58,459]\u001b[0m Trial 581 finished with value: 0.7660079051383399 and parameters: {'reg_lambda': 0.0455942525513372, 'learning_rate': 0.14420511918899484, 'n_estimators': 350, 'lambda': 0.059061303233416684, 'alpha': 0.9557394200692226, 'max_depth': 5, 'eta': 0.7727503891365557, 'gamma': 0.7987042875974167, 'subsample': 0.5700952276583944, 'colsample_bytree': 0.3803505090251705, 'min_child_weight': 22}. Best is trial 520 with value: 0.8177206851119895.\u001b[0m\n",
      "\u001b[32m[I 2023-03-04 17:52:58,611]\u001b[0m Trial 582 finished with value: 0.7968379446640316 and parameters: {'reg_lambda': 0.04755650438674773, 'learning_rate': 0.1711131025022238, 'n_estimators': 380, 'lambda': 0.10095160930670875, 'alpha': 0.7797920698552654, 'max_depth': 5, 'eta': 0.7149751515132049, 'gamma': 0.831101014346485, 'subsample': 0.5907440829260167, 'colsample_bytree': 0.3526754552024209, 'min_child_weight': 14}. Best is trial 520 with value: 0.8177206851119895.\u001b[0m\n",
      "\u001b[32m[I 2023-03-04 17:52:58,768]\u001b[0m Trial 583 finished with value: 0.7850461133069829 and parameters: {'reg_lambda': 0.03225716502708566, 'learning_rate': 0.1117320769771823, 'n_estimators': 365, 'lambda': 0.07129647072248205, 'alpha': 0.9691486049593182, 'max_depth': 6, 'eta': 0.7824580791518964, 'gamma': 0.8895925505253295, 'subsample': 0.6181220815121278, 'colsample_bytree': 0.4013612921625891, 'min_child_weight': 17}. Best is trial 520 with value: 0.8177206851119895.\u001b[0m\n",
      "\u001b[32m[I 2023-03-04 17:52:58,907]\u001b[0m Trial 584 finished with value: 0.7533596837944663 and parameters: {'reg_lambda': 0.08802875472104053, 'learning_rate': 0.08373758867277181, 'n_estimators': 365, 'lambda': 0.0350766114109486, 'alpha': 0.9342380718138141, 'max_depth': 5, 'eta': 0.697552772945525, 'gamma': 0.8379083756200907, 'subsample': 0.49715452426000595, 'colsample_bytree': 0.332158250302352, 'min_child_weight': 26}. Best is trial 520 with value: 0.8177206851119895.\u001b[0m\n",
      "\u001b[32m[I 2023-03-04 17:52:59,041]\u001b[0m Trial 585 finished with value: 0.7533596837944663 and parameters: {'reg_lambda': 0.06874598602102484, 'learning_rate': 0.20760309142202144, 'n_estimators': 380, 'lambda': 0.11774898642632302, 'alpha': 0.9537451147011027, 'max_depth': 5, 'eta': 0.7425549590569508, 'gamma': 0.8650120055388585, 'subsample': 0.6461303148552461, 'colsample_bytree': 0.3009789944974434, 'min_child_weight': 46}. Best is trial 520 with value: 0.8177206851119895.\u001b[0m\n",
      "\u001b[32m[I 2023-03-04 17:52:59,186]\u001b[0m Trial 586 finished with value: 0.7877470355731225 and parameters: {'reg_lambda': 0.05996579672538033, 'learning_rate': 0.05731202098130656, 'n_estimators': 350, 'lambda': 0.05474312511692079, 'alpha': 0.8031638793290388, 'max_depth': 5, 'eta': 0.7498097537978983, 'gamma': 0.808027409870152, 'subsample': 0.5925722011306088, 'colsample_bytree': 0.36708330830946495, 'min_child_weight': 12}. Best is trial 520 with value: 0.8177206851119895.\u001b[0m\n",
      "\u001b[32m[I 2023-03-04 17:52:59,349]\u001b[0m Trial 587 finished with value: 0.7968379446640316 and parameters: {'reg_lambda': 50.30839669880385, 'learning_rate': 0.35900607138334456, 'n_estimators': 380, 'lambda': 0.08346549234338806, 'alpha': 0.9757316093776733, 'max_depth': 5, 'eta': 0.8147487593665109, 'gamma': 0.7713341983358374, 'subsample': 0.6860980020444296, 'colsample_bytree': 0.432850450457326, 'min_child_weight': 12}. Best is trial 520 with value: 0.8177206851119895.\u001b[0m\n",
      "\u001b[32m[I 2023-03-04 17:52:59,490]\u001b[0m Trial 588 finished with value: 0.7633069828722002 and parameters: {'reg_lambda': 0.039326111063923266, 'learning_rate': 0.18442991721216617, 'n_estimators': 365, 'lambda': 0.1348687535744239, 'alpha': 0.9191749416277137, 'max_depth': 4, 'eta': 0.16700591372424828, 'gamma': 0.8551993929269792, 'subsample': 0.555526160930351, 'colsample_bytree': 0.4057781011578709, 'min_child_weight': 19}. Best is trial 520 with value: 0.8177206851119895.\u001b[0m\n",
      "\u001b[32m[I 2023-03-04 17:52:59,655]\u001b[0m Trial 589 finished with value: 0.7832015810276679 and parameters: {'reg_lambda': 0.029387256554409928, 'learning_rate': 0.14030472964575774, 'n_estimators': 395, 'lambda': 0.02164126033328745, 'alpha': 0.8961882633246687, 'max_depth': 6, 'eta': 0.7115206174978025, 'gamma': 0.7315677938848318, 'subsample': 0.6077553479930002, 'colsample_bytree': 0.3885795551228898, 'min_child_weight': 12}. Best is trial 520 with value: 0.8177206851119895.\u001b[0m\n",
      "\u001b[32m[I 2023-03-04 17:52:59,790]\u001b[0m Trial 590 finished with value: 0.7533596837944663 and parameters: {'reg_lambda': 0.04974961201920567, 'learning_rate': 0.07501480125194862, 'n_estimators': 380, 'lambda': 0.0455612835546462, 'alpha': 0.9992720918476777, 'max_depth': 5, 'eta': 0.12848466977073855, 'gamma': 0.8912170532290515, 'subsample': 0.5219948006746012, 'colsample_bytree': 0.33550715531102654, 'min_child_weight': 35}. Best is trial 520 with value: 0.8177206851119895.\u001b[0m\n",
      "\u001b[32m[I 2023-03-04 17:52:59,938]\u001b[0m Trial 591 finished with value: 0.7868906455862978 and parameters: {'reg_lambda': 0.07537651684082683, 'learning_rate': 0.09417664868097698, 'n_estimators': 380, 'lambda': 0.0017041708295194927, 'alpha': 0.7724113770190345, 'max_depth': 4, 'eta': 0.6914677211678724, 'gamma': 0.7220158504183627, 'subsample': 0.6533357128973487, 'colsample_bytree': 0.362671525125687, 'min_child_weight': 12}. Best is trial 520 with value: 0.8177206851119895.\u001b[0m\n",
      "\u001b[32m[I 2023-03-04 17:53:00,075]\u001b[0m Trial 592 finished with value: 0.5 and parameters: {'reg_lambda': 0.038238986168118265, 'learning_rate': 0.06419971799646583, 'n_estimators': 350, 'lambda': 0.07394391096212358, 'alpha': 0.9397088648248308, 'max_depth': 4, 'eta': 0.6771510579471398, 'gamma': 0.7715195514929902, 'subsample': 0.5623193333960889, 'colsample_bytree': 0.388462030479909, 'min_child_weight': 154}. Best is trial 520 with value: 0.8177206851119895.\u001b[0m\n",
      "\u001b[32m[I 2023-03-04 17:53:00,217]\u001b[0m Trial 593 finished with value: 0.7633069828722002 and parameters: {'reg_lambda': 0.08731295099129291, 'learning_rate': 0.1147163047012536, 'n_estimators': 395, 'lambda': 0.10163246735077246, 'alpha': 0.9654750178711818, 'max_depth': 5, 'eta': 0.7246910106614392, 'gamma': 0.8367961471594338, 'subsample': 0.5750662333001494, 'colsample_bytree': 0.34066736105863366, 'min_child_weight': 21}. Best is trial 520 with value: 0.8177206851119895.\u001b[0m\n",
      "\u001b[32m[I 2023-03-04 17:53:00,387]\u001b[0m Trial 594 finished with value: 0.8013833992094862 and parameters: {'reg_lambda': 17.207699294506142, 'learning_rate': 0.2969894006538964, 'n_estimators': 395, 'lambda': 0.030022162933126952, 'alpha': 0.9793767906891554, 'max_depth': 6, 'eta': 0.7529842316862393, 'gamma': 0.8066022818935688, 'subsample': 0.6235598694163684, 'colsample_bytree': 0.4212059324264281, 'min_child_weight': 10}. Best is trial 520 with value: 0.8177206851119895.\u001b[0m\n",
      "\u001b[32m[I 2023-03-04 17:53:00,550]\u001b[0m Trial 595 finished with value: 0.7968379446640316 and parameters: {'reg_lambda': 10.705253879410671, 'learning_rate': 0.0507704901531355, 'n_estimators': 395, 'lambda': 0.01757321031531625, 'alpha': 0.9835044860863061, 'max_depth': 6, 'eta': 0.7793393875313583, 'gamma': 0.8083753270156379, 'subsample': 0.6341135586242527, 'colsample_bytree': 0.4401886922345778, 'min_child_weight': 9}. Best is trial 520 with value: 0.8177206851119895.\u001b[0m\n",
      "\u001b[32m[I 2023-03-04 17:53:00,747]\u001b[0m Trial 596 finished with value: 0.7986824769433466 and parameters: {'reg_lambda': 0.09926185710880735, 'learning_rate': 0.07860402814277032, 'n_estimators': 395, 'lambda': 0.035907954381443924, 'alpha': 0.9816869454650939, 'max_depth': 7, 'eta': 0.18721479866308166, 'gamma': 0.8484613877375293, 'subsample': 0.6139961841089475, 'colsample_bytree': 0.4559541336571325, 'min_child_weight': 9}. Best is trial 520 with value: 0.8177206851119895.\u001b[0m\n",
      "\u001b[32m[I 2023-03-04 17:53:00,913]\u001b[0m Trial 597 finished with value: 0.7868906455862978 and parameters: {'reg_lambda': 4.924170817766774, 'learning_rate': 0.04086518958496243, 'n_estimators': 395, 'lambda': 0.02876148006113867, 'alpha': 0.8470207096317643, 'max_depth': 7, 'eta': 0.17459750148480185, 'gamma': 0.8773319080258863, 'subsample': 0.667470310809088, 'colsample_bytree': 0.44440300853831616, 'min_child_weight': 10}. Best is trial 520 with value: 0.8177206851119895.\u001b[0m\n",
      "\u001b[32m[I 2023-03-04 17:53:01,078]\u001b[0m Trial 598 finished with value: 0.8040843214756257 and parameters: {'reg_lambda': 7.348969770044498, 'learning_rate': 0.4014108512870832, 'n_estimators': 395, 'lambda': 0.038361815113126724, 'alpha': 0.9619474033913351, 'max_depth': 7, 'eta': 0.7552605206918827, 'gamma': 0.9712681272753022, 'subsample': 0.63063000919259, 'colsample_bytree': 0.4630640127024169, 'min_child_weight': 8}. Best is trial 520 with value: 0.8177206851119895.\u001b[0m\n",
      "\u001b[32m[I 2023-03-04 17:53:01,237]\u001b[0m Trial 599 finished with value: 0.7850461133069829 and parameters: {'reg_lambda': 0.9440371897384383, 'learning_rate': 0.3820240516816711, 'n_estimators': 395, 'lambda': 0.00185810561617726, 'alpha': 0.9537631863110546, 'max_depth': 6, 'eta': 0.7603611202218206, 'gamma': 0.951014696530385, 'subsample': 0.6255234088194481, 'colsample_bytree': 0.41265438084760264, 'min_child_weight': 8}. Best is trial 520 with value: 0.8177206851119895.\u001b[0m\n"
     ]
    }
   ],
   "source": [
    "import optuna\n",
    "# Can change the number of trials to check for better results\n",
    "study = optuna.create_study(direction='maximize', study_name='XGB Classifier')\n",
    "study.optimize(objective, n_trials=600)"
   ]
  },
  {
   "cell_type": "code",
   "execution_count": 326,
   "metadata": {},
   "outputs": [
    {
     "name": "stdout",
     "output_type": "stream",
     "text": [
      "Important parameters For XGB is\n",
      "OrderedDict([('min_child_weight', 0.837857460396121), ('max_depth', 0.03829544181173947), ('alpha', 0.03356809940587395), ('lambda', 0.02840654478883452), ('colsample_bytree', 0.023477432712289747), ('learning_rate', 0.014151373845600973), ('eta', 0.012437640388154435), ('subsample', 0.009892306124729104), ('n_estimators', 0.001068360909729121), ('gamma', 0.0008393706278752686), ('reg_lambda', 5.968989052411977e-06)])\n"
     ]
    }
   ],
   "source": [
    "print(\"Important parameters For XGB is\")\n",
    "print(optuna.importance.get_param_importances(study))"
   ]
  },
  {
   "cell_type": "code",
   "execution_count": 385,
   "metadata": {},
   "outputs": [
    {
     "name": "stdout",
     "output_type": "stream",
     "text": [
      "Best Parameter For XGB is\n",
      "{'reg_lambda': 0.013543463072918725, 'learning_rate': 0.046672881783627655, 'n_estimators': 410, 'lambda': 0.008115113628130671, 'alpha': 0.9540999301615802, 'max_depth': 3, 'eta': 0.6754638021374282, 'gamma': 0.3381768967168981, 'subsample': 0.571438092697773, 'colsample_bytree': 0.3183118604374744, 'min_child_weight': 7}\n"
     ]
    }
   ],
   "source": [
    "best_params = study.best_trial.params\n",
    "print(\"Best Parameter For XGB is\")\n",
    "print(best_params)"
   ]
  },
  {
   "cell_type": "code",
   "execution_count": 328,
   "metadata": {},
   "outputs": [
    {
     "data": {
      "text/html": [
       "<style>#sk-container-id-16 {color: black;background-color: white;}#sk-container-id-16 pre{padding: 0;}#sk-container-id-16 div.sk-toggleable {background-color: white;}#sk-container-id-16 label.sk-toggleable__label {cursor: pointer;display: block;width: 100%;margin-bottom: 0;padding: 0.3em;box-sizing: border-box;text-align: center;}#sk-container-id-16 label.sk-toggleable__label-arrow:before {content: \"▸\";float: left;margin-right: 0.25em;color: #696969;}#sk-container-id-16 label.sk-toggleable__label-arrow:hover:before {color: black;}#sk-container-id-16 div.sk-estimator:hover label.sk-toggleable__label-arrow:before {color: black;}#sk-container-id-16 div.sk-toggleable__content {max-height: 0;max-width: 0;overflow: hidden;text-align: left;background-color: #f0f8ff;}#sk-container-id-16 div.sk-toggleable__content pre {margin: 0.2em;color: black;border-radius: 0.25em;background-color: #f0f8ff;}#sk-container-id-16 input.sk-toggleable__control:checked~div.sk-toggleable__content {max-height: 200px;max-width: 100%;overflow: auto;}#sk-container-id-16 input.sk-toggleable__control:checked~label.sk-toggleable__label-arrow:before {content: \"▾\";}#sk-container-id-16 div.sk-estimator input.sk-toggleable__control:checked~label.sk-toggleable__label {background-color: #d4ebff;}#sk-container-id-16 div.sk-label input.sk-toggleable__control:checked~label.sk-toggleable__label {background-color: #d4ebff;}#sk-container-id-16 input.sk-hidden--visually {border: 0;clip: rect(1px 1px 1px 1px);clip: rect(1px, 1px, 1px, 1px);height: 1px;margin: -1px;overflow: hidden;padding: 0;position: absolute;width: 1px;}#sk-container-id-16 div.sk-estimator {font-family: monospace;background-color: #f0f8ff;border: 1px dotted black;border-radius: 0.25em;box-sizing: border-box;margin-bottom: 0.5em;}#sk-container-id-16 div.sk-estimator:hover {background-color: #d4ebff;}#sk-container-id-16 div.sk-parallel-item::after {content: \"\";width: 100%;border-bottom: 1px solid gray;flex-grow: 1;}#sk-container-id-16 div.sk-label:hover label.sk-toggleable__label {background-color: #d4ebff;}#sk-container-id-16 div.sk-serial::before {content: \"\";position: absolute;border-left: 1px solid gray;box-sizing: border-box;top: 0;bottom: 0;left: 50%;z-index: 0;}#sk-container-id-16 div.sk-serial {display: flex;flex-direction: column;align-items: center;background-color: white;padding-right: 0.2em;padding-left: 0.2em;position: relative;}#sk-container-id-16 div.sk-item {position: relative;z-index: 1;}#sk-container-id-16 div.sk-parallel {display: flex;align-items: stretch;justify-content: center;background-color: white;position: relative;}#sk-container-id-16 div.sk-item::before, #sk-container-id-16 div.sk-parallel-item::before {content: \"\";position: absolute;border-left: 1px solid gray;box-sizing: border-box;top: 0;bottom: 0;left: 50%;z-index: -1;}#sk-container-id-16 div.sk-parallel-item {display: flex;flex-direction: column;z-index: 1;position: relative;background-color: white;}#sk-container-id-16 div.sk-parallel-item:first-child::after {align-self: flex-end;width: 50%;}#sk-container-id-16 div.sk-parallel-item:last-child::after {align-self: flex-start;width: 50%;}#sk-container-id-16 div.sk-parallel-item:only-child::after {width: 0;}#sk-container-id-16 div.sk-dashed-wrapped {border: 1px dashed gray;margin: 0 0.4em 0.5em 0.4em;box-sizing: border-box;padding-bottom: 0.4em;background-color: white;}#sk-container-id-16 div.sk-label label {font-family: monospace;font-weight: bold;display: inline-block;line-height: 1.2em;}#sk-container-id-16 div.sk-label-container {text-align: center;}#sk-container-id-16 div.sk-container {/* jupyter's `normalize.less` sets `[hidden] { display: none; }` but bootstrap.min.css set `[hidden] { display: none !important; }` so we also need the `!important` here to be able to override the default hidden behavior on the sphinx rendered scikit-learn.org. See: https://github.com/scikit-learn/scikit-learn/issues/21755 */display: inline-block !important;position: relative;}#sk-container-id-16 div.sk-text-repr-fallback {display: none;}</style><div id=\"sk-container-id-16\" class=\"sk-top-container\"><div class=\"sk-text-repr-fallback\"><pre>XGBClassifier(alpha=0.9540999301615802, base_score=0.5, booster=&#x27;gbtree&#x27;,\n",
       "              callbacks=None, colsample_bylevel=1, colsample_bynode=1,\n",
       "              colsample_bytree=0.3183118604374744, early_stopping_rounds=None,\n",
       "              enable_categorical=False, eta=0.6754638021374282,\n",
       "              eval_metric=None, feature_types=None, gamma=0.3381768967168981,\n",
       "              gpu_id=-1, grow_policy=&#x27;depthwise&#x27;, importance_type=None,\n",
       "              interaction_constraints=&#x27;&#x27;, lambda=0.008115113628130671,\n",
       "              learning_rate=0.046672881783627655, max_bin=256,\n",
       "              max_cat_threshold=64, max_cat_to_onehot=4, max_delta_step=0,\n",
       "              max_depth=3, max_leaves=0, min_child_weight=7, missing=nan,\n",
       "              monotone_constraints=&#x27;()&#x27;, n_estimators=410, n_jobs=0, ...)</pre><b>In a Jupyter environment, please rerun this cell to show the HTML representation or trust the notebook. <br />On GitHub, the HTML representation is unable to render, please try loading this page with nbviewer.org.</b></div><div class=\"sk-container\" hidden><div class=\"sk-item\"><div class=\"sk-estimator sk-toggleable\"><input class=\"sk-toggleable__control sk-hidden--visually\" id=\"sk-estimator-id-16\" type=\"checkbox\" checked><label for=\"sk-estimator-id-16\" class=\"sk-toggleable__label sk-toggleable__label-arrow\">XGBClassifier</label><div class=\"sk-toggleable__content\"><pre>XGBClassifier(alpha=0.9540999301615802, base_score=0.5, booster=&#x27;gbtree&#x27;,\n",
       "              callbacks=None, colsample_bylevel=1, colsample_bynode=1,\n",
       "              colsample_bytree=0.3183118604374744, early_stopping_rounds=None,\n",
       "              enable_categorical=False, eta=0.6754638021374282,\n",
       "              eval_metric=None, feature_types=None, gamma=0.3381768967168981,\n",
       "              gpu_id=-1, grow_policy=&#x27;depthwise&#x27;, importance_type=None,\n",
       "              interaction_constraints=&#x27;&#x27;, lambda=0.008115113628130671,\n",
       "              learning_rate=0.046672881783627655, max_bin=256,\n",
       "              max_cat_threshold=64, max_cat_to_onehot=4, max_delta_step=0,\n",
       "              max_depth=3, max_leaves=0, min_child_weight=7, missing=nan,\n",
       "              monotone_constraints=&#x27;()&#x27;, n_estimators=410, n_jobs=0, ...)</pre></div></div></div></div></div>"
      ],
      "text/plain": [
       "XGBClassifier(alpha=0.9540999301615802, base_score=0.5, booster='gbtree',\n",
       "              callbacks=None, colsample_bylevel=1, colsample_bynode=1,\n",
       "              colsample_bytree=0.3183118604374744, early_stopping_rounds=None,\n",
       "              enable_categorical=False, eta=0.6754638021374282,\n",
       "              eval_metric=None, feature_types=None, gamma=0.3381768967168981,\n",
       "              gpu_id=-1, grow_policy='depthwise', importance_type=None,\n",
       "              interaction_constraints='', lambda=0.008115113628130671,\n",
       "              learning_rate=0.046672881783627655, max_bin=256,\n",
       "              max_cat_threshold=64, max_cat_to_onehot=4, max_delta_step=0,\n",
       "              max_depth=3, max_leaves=0, min_child_weight=7, missing=nan,\n",
       "              monotone_constraints='()', n_estimators=410, n_jobs=0, ...)"
      ]
     },
     "execution_count": 328,
     "metadata": {},
     "output_type": "execute_result"
    }
   ],
   "source": [
    "model_xgb = xgb.XGBClassifier(objective='binary:logistic', **best_params)\n",
    "model_xgb.fit(X_train,y_train)"
   ]
  },
  {
   "cell_type": "code",
   "execution_count": 330,
   "metadata": {},
   "outputs": [
    {
     "name": "stdout",
     "output_type": "stream",
     "text": [
      "Training set score: 0.8531\n",
      "Test set score: 0.8324\n"
     ]
    }
   ],
   "source": [
    "#print the scores on training and test set\n",
    "\n",
    "print('Training set score: {:.4f}'.format(model_xgb.score(X_train, y_train)))\n",
    "\n",
    "print('Test set score: {:.4f}'.format(model_xgb.score(X_test, y_test)))"
   ]
  },
  {
   "cell_type": "code",
   "execution_count": 331,
   "metadata": {},
   "outputs": [],
   "source": [
    "y_pred=model_xgb.predict(X_test)"
   ]
  },
  {
   "cell_type": "code",
   "execution_count": 332,
   "metadata": {},
   "outputs": [
    {
     "data": {
      "text/plain": [
       "array([[97, 13],\n",
       "       [17, 52]], dtype=int64)"
      ]
     },
     "execution_count": 332,
     "metadata": {},
     "output_type": "execute_result"
    }
   ],
   "source": [
    "cm = confusion_matrix(y_test, y_pred)\n",
    "cm"
   ]
  },
  {
   "cell_type": "code",
   "execution_count": 333,
   "metadata": {},
   "outputs": [
    {
     "data": {
      "text/plain": [
       "0.8324022346368715"
      ]
     },
     "execution_count": 333,
     "metadata": {},
     "output_type": "execute_result"
    }
   ],
   "source": [
    "xgb_accuracy = model_xgb.score(X_test, y_test)\n",
    "xgb_accuracy"
   ]
  },
  {
   "cell_type": "code",
   "execution_count": 334,
   "metadata": {},
   "outputs": [
    {
     "data": {
      "text/plain": [
       "0.8"
      ]
     },
     "execution_count": 334,
     "metadata": {},
     "output_type": "execute_result"
    }
   ],
   "source": [
    "# precision\n",
    "xgb_pre = precision_score(y_test, y_pred)\n",
    "xgb_pre"
   ]
  },
  {
   "cell_type": "code",
   "execution_count": 335,
   "metadata": {},
   "outputs": [
    {
     "data": {
      "text/plain": [
       "0.7536231884057971"
      ]
     },
     "execution_count": 335,
     "metadata": {},
     "output_type": "execute_result"
    }
   ],
   "source": [
    "# recall\n",
    "xgb_rec = recall_score(y_test, y_pred)\n",
    "xgb_rec"
   ]
  },
  {
   "cell_type": "markdown",
   "metadata": {},
   "source": [
    "Catboost"
   ]
  },
  {
   "cell_type": "code",
   "execution_count": 291,
   "metadata": {},
   "outputs": [],
   "source": [
    "from catboost import CatBoostClassifier, Pool\n",
    "import sklearn\n",
    "import catboost\n",
    "\n",
    "def objective(trial):\n",
    "    train_x, valid_x, train_y, valid_y = model_selection.train_test_split(X, y, test_size=0.2, random_state=0)\n",
    "\n",
    "    params = {\n",
    "        'loss_function': 'Logloss',\n",
    "        'eval_metric': 'Accuracy',\n",
    "        'learning_rate': trial.suggest_float('learning_rate', 1e-4, 1e-1),\n",
    "        'depth': trial.suggest_int('depth', 1, 12),\n",
    "        'l2_leaf_reg': trial.suggest_float('l2_leaf_reg', 1e-5, 1e2),\n",
    "        'random_strength': trial.suggest_float('random_strength', 1e-5, 1e2),\n",
    "        'od_type': trial.suggest_categorical('od_type', ['IncToDec', 'Iter']),\n",
    "        'od_wait': trial.suggest_int('od_wait', 10, 50),\n",
    "        'iterations': trial.suggest_int(\"iterations\",500,2000)\n",
    "    }\n",
    "\n",
    "    if params['od_type'] == 'Iter':\n",
    "        del params['od_wait']\n",
    "\n",
    "    train_pool = Pool(train_x, train_y)\n",
    "    valid_pool = Pool(valid_x, valid_y)\n",
    "\n",
    "    model = CatBoostClassifier(**params)\n",
    "    model.fit(train_pool, eval_set=valid_pool, use_best_model=True, verbose=False)\n",
    "\n",
    "    y_pred = model.predict(valid_x)\n",
    "    accuracy = sklearn.metrics.accuracy_score(valid_y, y_pred)\n",
    "\n",
    "    return 1.0 - accuracy"
   ]
  },
  {
   "cell_type": "code",
   "execution_count": 292,
   "metadata": {},
   "outputs": [
    {
     "name": "stderr",
     "output_type": "stream",
     "text": [
      "\u001b[32m[I 2023-03-04 17:38:14,629]\u001b[0m A new study created in memory with name: CatBoost Classifier\u001b[0m\n",
      "\u001b[32m[I 2023-03-04 17:38:14,792]\u001b[0m Trial 0 finished with value: 0.17318435754189943 and parameters: {'learning_rate': 0.08948546459026686, 'depth': 4, 'l2_leaf_reg': 43.77762176263715, 'random_strength': 40.52085450070306, 'od_type': 'Iter', 'od_wait': 43, 'iterations': 1223}. Best is trial 0 with value: 0.17318435754189943.\u001b[0m\n",
      "\u001b[32m[I 2023-03-04 17:38:14,877]\u001b[0m Trial 1 finished with value: 0.16201117318435754 and parameters: {'learning_rate': 0.06831654887229811, 'depth': 6, 'l2_leaf_reg': 1.2289816906103255, 'random_strength': 62.66109141441926, 'od_type': 'Iter', 'od_wait': 27, 'iterations': 1078}. Best is trial 1 with value: 0.16201117318435754.\u001b[0m\n",
      "\u001b[32m[I 2023-03-04 17:38:15,018]\u001b[0m Trial 2 finished with value: 0.17318435754189943 and parameters: {'learning_rate': 0.06506584642907182, 'depth': 3, 'l2_leaf_reg': 84.42141121410488, 'random_strength': 48.41934414511688, 'od_type': 'Iter', 'od_wait': 46, 'iterations': 1490}. Best is trial 1 with value: 0.16201117318435754.\u001b[0m\n",
      "\u001b[32m[I 2023-03-04 17:38:17,476]\u001b[0m Trial 3 finished with value: 0.15083798882681565 and parameters: {'learning_rate': 0.05986677214787184, 'depth': 5, 'l2_leaf_reg': 21.35667175974632, 'random_strength': 4.694331166983025, 'od_type': 'IncToDec', 'od_wait': 44, 'iterations': 1917}. Best is trial 3 with value: 0.15083798882681565.\u001b[0m\n",
      "\u001b[32m[I 2023-03-04 17:38:17,568]\u001b[0m Trial 4 finished with value: 0.17877094972067042 and parameters: {'learning_rate': 0.016114802338442886, 'depth': 5, 'l2_leaf_reg': 37.90104977755744, 'random_strength': 24.420508179973005, 'od_type': 'Iter', 'od_wait': 39, 'iterations': 1719}. Best is trial 3 with value: 0.15083798882681565.\u001b[0m\n",
      "\u001b[32m[I 2023-03-04 17:38:17,732]\u001b[0m Trial 5 finished with value: 0.17318435754189943 and parameters: {'learning_rate': 0.045246556292643375, 'depth': 10, 'l2_leaf_reg': 66.6739741514451, 'random_strength': 29.875845815787777, 'od_type': 'Iter', 'od_wait': 29, 'iterations': 664}. Best is trial 3 with value: 0.15083798882681565.\u001b[0m\n",
      "\u001b[32m[I 2023-03-04 17:38:17,811]\u001b[0m Trial 6 finished with value: 0.2122905027932961 and parameters: {'learning_rate': 0.004868328605640279, 'depth': 1, 'l2_leaf_reg': 33.30700828536595, 'random_strength': 40.698348232412144, 'od_type': 'Iter', 'od_wait': 14, 'iterations': 1646}. Best is trial 3 with value: 0.15083798882681565.\u001b[0m\n",
      "\u001b[32m[I 2023-03-04 17:38:17,912]\u001b[0m Trial 7 finished with value: 0.17318435754189943 and parameters: {'learning_rate': 0.0902642058110163, 'depth': 1, 'l2_leaf_reg': 74.6130316491427, 'random_strength': 65.63795588722776, 'od_type': 'Iter', 'od_wait': 38, 'iterations': 1283}. Best is trial 3 with value: 0.15083798882681565.\u001b[0m\n",
      "\u001b[32m[I 2023-03-04 17:38:18,052]\u001b[0m Trial 8 finished with value: 0.1843575418994413 and parameters: {'learning_rate': 0.02748364545683495, 'depth': 9, 'l2_leaf_reg': 55.88882407381503, 'random_strength': 20.982481156199515, 'od_type': 'Iter', 'od_wait': 49, 'iterations': 1674}. Best is trial 3 with value: 0.15083798882681565.\u001b[0m\n",
      "\u001b[32m[I 2023-03-04 17:38:18,204]\u001b[0m Trial 9 finished with value: 0.17318435754189943 and parameters: {'learning_rate': 0.05374889577147664, 'depth': 9, 'l2_leaf_reg': 16.67413306092795, 'random_strength': 90.43099761753166, 'od_type': 'Iter', 'od_wait': 10, 'iterations': 1079}. Best is trial 3 with value: 0.15083798882681565.\u001b[0m\n",
      "\u001b[32m[I 2023-03-04 17:38:59,357]\u001b[0m Trial 10 finished with value: 0.15083798882681565 and parameters: {'learning_rate': 0.03752031807317893, 'depth': 12, 'l2_leaf_reg': 21.85122817213291, 'random_strength': 8.513542287051006, 'od_type': 'IncToDec', 'od_wait': 23, 'iterations': 1974}. Best is trial 3 with value: 0.15083798882681565.\u001b[0m\n",
      "\u001b[32m[I 2023-03-04 17:39:37,455]\u001b[0m Trial 11 finished with value: 0.15083798882681565 and parameters: {'learning_rate': 0.036943222154429606, 'depth': 12, 'l2_leaf_reg': 21.241780470482183, 'random_strength': 6.553106826576524, 'od_type': 'IncToDec', 'od_wait': 20, 'iterations': 1984}. Best is trial 3 with value: 0.15083798882681565.\u001b[0m\n",
      "\u001b[32m[I 2023-03-04 17:39:40,654]\u001b[0m Trial 12 finished with value: 0.15642458100558654 and parameters: {'learning_rate': 0.02960480025682403, 'depth': 7, 'l2_leaf_reg': 1.3874519103338478, 'random_strength': 8.35941699856484, 'od_type': 'IncToDec', 'od_wait': 23, 'iterations': 1998}. Best is trial 3 with value: 0.15083798882681565.\u001b[0m\n",
      "\u001b[32m[I 2023-03-04 17:39:43,664]\u001b[0m Trial 13 finished with value: 0.13966480446927376 and parameters: {'learning_rate': 0.05379938254881076, 'depth': 7, 'l2_leaf_reg': 22.696723359250136, 'random_strength': 2.0946554756734748, 'od_type': 'IncToDec', 'od_wait': 35, 'iterations': 1870}. Best is trial 13 with value: 0.13966480446927376.\u001b[0m\n",
      "\u001b[32m[I 2023-03-04 17:39:46,580]\u001b[0m Trial 14 finished with value: 0.14525139664804465 and parameters: {'learning_rate': 0.0591883296007976, 'depth': 7, 'l2_leaf_reg': 53.16213392274433, 'random_strength': 1.227659719711597, 'od_type': 'IncToDec', 'od_wait': 36, 'iterations': 1767}. Best is trial 13 with value: 0.13966480446927376.\u001b[0m\n",
      "\u001b[32m[I 2023-03-04 17:39:48,978]\u001b[0m Trial 15 finished with value: 0.15083798882681565 and parameters: {'learning_rate': 0.07516102237061392, 'depth': 7, 'l2_leaf_reg': 53.3504747588902, 'random_strength': 0.11820000670880759, 'od_type': 'IncToDec', 'od_wait': 35, 'iterations': 1480}. Best is trial 13 with value: 0.13966480446927376.\u001b[0m\n",
      "\u001b[32m[I 2023-03-04 17:39:50,236]\u001b[0m Trial 16 finished with value: 0.14525139664804465 and parameters: {'learning_rate': 0.050178184997189484, 'depth': 8, 'l2_leaf_reg': 62.37854996889016, 'random_strength': 17.51217433167179, 'od_type': 'IncToDec', 'od_wait': 33, 'iterations': 569}. Best is trial 13 with value: 0.13966480446927376.\u001b[0m\n",
      "\u001b[32m[I 2023-03-04 17:40:01,005]\u001b[0m Trial 17 finished with value: 0.15642458100558654 and parameters: {'learning_rate': 0.07569124072583328, 'depth': 10, 'l2_leaf_reg': 92.13214236565844, 'random_strength': 16.31499948597007, 'od_type': 'IncToDec', 'od_wait': 33, 'iterations': 1740}. Best is trial 13 with value: 0.13966480446927376.\u001b[0m\n",
      "\u001b[32m[I 2023-03-04 17:40:02,651]\u001b[0m Trial 18 finished with value: 0.13407821229050276 and parameters: {'learning_rate': 0.05586579539823147, 'depth': 3, 'l2_leaf_reg': 46.565339582806104, 'random_strength': 1.0010682857817434, 'od_type': 'IncToDec', 'od_wait': 40, 'iterations': 1496}. Best is trial 18 with value: 0.13407821229050276.\u001b[0m\n",
      "\u001b[32m[I 2023-03-04 17:40:04,292]\u001b[0m Trial 19 finished with value: 0.14525139664804465 and parameters: {'learning_rate': 0.04722934520325459, 'depth': 3, 'l2_leaf_reg': 41.84039967363307, 'random_strength': 29.794222740078705, 'od_type': 'IncToDec', 'od_wait': 40, 'iterations': 1499}. Best is trial 18 with value: 0.13407821229050276.\u001b[0m\n",
      "\u001b[32m[I 2023-03-04 17:40:05,504]\u001b[0m Trial 20 finished with value: 0.16201117318435754 and parameters: {'learning_rate': 0.07900811299299289, 'depth': 2, 'l2_leaf_reg': 32.04955328849941, 'random_strength': 14.427936309557102, 'od_type': 'IncToDec', 'od_wait': 50, 'iterations': 1261}. Best is trial 18 with value: 0.13407821229050276.\u001b[0m\n",
      "\u001b[32m[I 2023-03-04 17:40:07,930]\u001b[0m Trial 21 finished with value: 0.15083798882681565 and parameters: {'learning_rate': 0.061111654349297884, 'depth': 6, 'l2_leaf_reg': 50.13940334722347, 'random_strength': 0.25027174650700323, 'od_type': 'IncToDec', 'od_wait': 35, 'iterations': 1827}. Best is trial 18 with value: 0.13407821229050276.\u001b[0m\n",
      "\u001b[32m[I 2023-03-04 17:40:11,320]\u001b[0m Trial 22 finished with value: 0.14525139664804465 and parameters: {'learning_rate': 0.05423194801542846, 'depth': 8, 'l2_leaf_reg': 46.376286337268525, 'random_strength': 11.69632073237866, 'od_type': 'IncToDec', 'od_wait': 41, 'iterations': 1554}. Best is trial 18 with value: 0.13407821229050276.\u001b[0m\n",
      "\u001b[32m[I 2023-03-04 17:40:13,080]\u001b[0m Trial 23 finished with value: 0.15083798882681565 and parameters: {'learning_rate': 0.0564056359965692, 'depth': 5, 'l2_leaf_reg': 62.617728737370186, 'random_strength': 0.6378506820891401, 'od_type': 'IncToDec', 'od_wait': 37, 'iterations': 1367}. Best is trial 18 with value: 0.13407821229050276.\u001b[0m\n",
      "\u001b[32m[I 2023-03-04 17:40:15,080]\u001b[0m Trial 24 finished with value: 0.13966480446927376 and parameters: {'learning_rate': 0.06873293234254585, 'depth': 4, 'l2_leaf_reg': 54.09154195848706, 'random_strength': 11.601270075357968, 'od_type': 'IncToDec', 'od_wait': 30, 'iterations': 1817}. Best is trial 18 with value: 0.13407821229050276.\u001b[0m\n",
      "\u001b[32m[I 2023-03-04 17:40:17,018]\u001b[0m Trial 25 finished with value: 0.14525139664804465 and parameters: {'learning_rate': 0.06844098684478653, 'depth': 3, 'l2_leaf_reg': 33.05763583263345, 'random_strength': 13.604084238099794, 'od_type': 'IncToDec', 'od_wait': 30, 'iterations': 1835}. Best is trial 18 with value: 0.13407821229050276.\u001b[0m\n",
      "\u001b[32m[I 2023-03-04 17:40:17,917]\u001b[0m Trial 26 finished with value: 0.15083798882681565 and parameters: {'learning_rate': 0.09795001608886632, 'depth': 4, 'l2_leaf_reg': 76.0893999950137, 'random_strength': 24.441551287105582, 'od_type': 'IncToDec', 'od_wait': 26, 'iterations': 821}. Best is trial 18 with value: 0.13407821229050276.\u001b[0m\n",
      "\u001b[32m[I 2023-03-04 17:40:19,470]\u001b[0m Trial 27 finished with value: 0.16201117318435754 and parameters: {'learning_rate': 0.046664699713028675, 'depth': 2, 'l2_leaf_reg': 99.26518454352365, 'random_strength': 9.800967550252269, 'od_type': 'IncToDec', 'od_wait': 32, 'iterations': 1628}. Best is trial 18 with value: 0.13407821229050276.\u001b[0m\n",
      "\u001b[32m[I 2023-03-04 17:40:21,107]\u001b[0m Trial 28 finished with value: 0.15642458100558654 and parameters: {'learning_rate': 0.06755292616419584, 'depth': 2, 'l2_leaf_reg': 45.60887709117367, 'random_strength': 18.642706671781916, 'od_type': 'IncToDec', 'od_wait': 42, 'iterations': 1818}. Best is trial 18 with value: 0.13407821229050276.\u001b[0m\n",
      "\u001b[32m[I 2023-03-04 17:40:22,522]\u001b[0m Trial 29 finished with value: 0.13407821229050276 and parameters: {'learning_rate': 0.08651431122280315, 'depth': 4, 'l2_leaf_reg': 41.569917410758, 'random_strength': 30.848734819942358, 'od_type': 'IncToDec', 'od_wait': 45, 'iterations': 1406}. Best is trial 18 with value: 0.13407821229050276.\u001b[0m\n",
      "\u001b[32m[I 2023-03-04 17:40:23,599]\u001b[0m Trial 30 finished with value: 0.13966480446927376 and parameters: {'learning_rate': 0.08436830153006514, 'depth': 4, 'l2_leaf_reg': 40.572396521780306, 'random_strength': 33.442839459159366, 'od_type': 'IncToDec', 'od_wait': 46, 'iterations': 968}. Best is trial 18 with value: 0.13407821229050276.\u001b[0m\n",
      "\u001b[32m[I 2023-03-04 17:40:25,060]\u001b[0m Trial 31 finished with value: 0.13966480446927376 and parameters: {'learning_rate': 0.07309916508928307, 'depth': 4, 'l2_leaf_reg': 47.10237904374691, 'random_strength': 8.066373623940414, 'od_type': 'IncToDec', 'od_wait': 44, 'iterations': 1349}. Best is trial 18 with value: 0.13407821229050276.\u001b[0m\n",
      "\u001b[32m[I 2023-03-04 17:40:26,323]\u001b[0m Trial 32 finished with value: 0.14525139664804465 and parameters: {'learning_rate': 0.08209601743873747, 'depth': 5, 'l2_leaf_reg': 54.859145965003584, 'random_strength': 22.194713705131903, 'od_type': 'IncToDec', 'od_wait': 47, 'iterations': 1092}. Best is trial 18 with value: 0.13407821229050276.\u001b[0m\n",
      "\u001b[32m[I 2023-03-04 17:40:28,419]\u001b[0m Trial 33 finished with value: 0.14525139664804465 and parameters: {'learning_rate': 0.06574206633025331, 'depth': 6, 'l2_leaf_reg': 36.703983391352864, 'random_strength': 12.401762425919285, 'od_type': 'IncToDec', 'od_wait': 43, 'iterations': 1595}. Best is trial 18 with value: 0.13407821229050276.\u001b[0m\n",
      "\u001b[32m[I 2023-03-04 17:40:29,846]\u001b[0m Trial 34 finished with value: 0.15083798882681565 and parameters: {'learning_rate': 0.07292224139802356, 'depth': 3, 'l2_leaf_reg': 42.854434346660675, 'random_strength': 4.8780847285874245, 'od_type': 'IncToDec', 'od_wait': 28, 'iterations': 1462}. Best is trial 18 with value: 0.13407821229050276.\u001b[0m\n",
      "\u001b[32m[I 2023-03-04 17:40:31,114]\u001b[0m Trial 35 finished with value: 0.13966480446927376 and parameters: {'learning_rate': 0.08730332038293162, 'depth': 5, 'l2_leaf_reg': 26.873799051414508, 'random_strength': 17.133944905717996, 'od_type': 'IncToDec', 'od_wait': 25, 'iterations': 1156}. Best is trial 18 with value: 0.13407821229050276.\u001b[0m\n",
      "\u001b[32m[I 2023-03-04 17:40:32,972]\u001b[0m Trial 36 finished with value: 0.15083798882681565 and parameters: {'learning_rate': 0.0623560055569838, 'depth': 6, 'l2_leaf_reg': 38.626809222369104, 'random_strength': 4.870057632044291, 'od_type': 'IncToDec', 'od_wait': 39, 'iterations': 1392}. Best is trial 18 with value: 0.13407821229050276.\u001b[0m\n",
      "\u001b[32m[I 2023-03-04 17:40:34,989]\u001b[0m Trial 37 finished with value: 0.14525139664804465 and parameters: {'learning_rate': 0.06744501763364714, 'depth': 4, 'l2_leaf_reg': 58.83752252428527, 'random_strength': 26.851506911535765, 'od_type': 'IncToDec', 'od_wait': 31, 'iterations': 1918}. Best is trial 18 with value: 0.13407821229050276.\u001b[0m\n",
      "\u001b[32m[I 2023-03-04 17:40:35,140]\u001b[0m Trial 38 finished with value: 0.16201117318435754 and parameters: {'learning_rate': 0.09273849120787828, 'depth': 3, 'l2_leaf_reg': 51.09720292716322, 'random_strength': 36.39528000456842, 'od_type': 'Iter', 'od_wait': 47, 'iterations': 1864}. Best is trial 18 with value: 0.13407821229050276.\u001b[0m\n",
      "\u001b[32m[I 2023-03-04 17:40:36,543]\u001b[0m Trial 39 finished with value: 0.17318435754189943 and parameters: {'learning_rate': 0.08255984494218141, 'depth': 1, 'l2_leaf_reg': 46.356725773372496, 'random_strength': 21.91751896898677, 'od_type': 'IncToDec', 'od_wait': 41, 'iterations': 1675}. Best is trial 18 with value: 0.13407821229050276.\u001b[0m\n",
      "\u001b[32m[I 2023-03-04 17:40:36,633]\u001b[0m Trial 40 finished with value: 0.25139664804469275 and parameters: {'learning_rate': 0.05841112385072788, 'depth': 2, 'l2_leaf_reg': 66.64944145358778, 'random_strength': 26.791064137691258, 'od_type': 'Iter', 'od_wait': 18, 'iterations': 1729}. Best is trial 18 with value: 0.13407821229050276.\u001b[0m\n",
      "\u001b[32m[I 2023-03-04 17:40:37,546]\u001b[0m Trial 41 finished with value: 0.15083798882681565 and parameters: {'learning_rate': 0.08827892178114807, 'depth': 4, 'l2_leaf_reg': 40.75340330842976, 'random_strength': 34.07611524126722, 'od_type': 'IncToDec', 'od_wait': 46, 'iterations': 866}. Best is trial 18 with value: 0.13407821229050276.\u001b[0m\n",
      "\u001b[32m[I 2023-03-04 17:40:38,672]\u001b[0m Trial 42 finished with value: 0.15083798882681565 and parameters: {'learning_rate': 0.0799602731947747, 'depth': 5, 'l2_leaf_reg': 36.65126896970836, 'random_strength': 41.4841492348375, 'od_type': 'IncToDec', 'od_wait': 44, 'iterations': 965}. Best is trial 18 with value: 0.13407821229050276.\u001b[0m\n",
      "\u001b[32m[I 2023-03-04 17:40:39,935]\u001b[0m Trial 43 finished with value: 0.14525139664804465 and parameters: {'learning_rate': 0.09995445168119092, 'depth': 4, 'l2_leaf_reg': 29.86813128357159, 'random_strength': 48.57414783019192, 'od_type': 'IncToDec', 'od_wait': 48, 'iterations': 1161}. Best is trial 18 with value: 0.13407821229050276.\u001b[0m\n",
      "\u001b[32m[I 2023-03-04 17:40:41,736]\u001b[0m Trial 44 finished with value: 0.13407821229050276 and parameters: {'learning_rate': 0.07046054680658931, 'depth': 5, 'l2_leaf_reg': 40.8516222699705, 'random_strength': 12.94125996808753, 'od_type': 'IncToDec', 'od_wait': 38, 'iterations': 1544}. Best is trial 18 with value: 0.13407821229050276.\u001b[0m\n",
      "\u001b[32m[I 2023-03-04 17:40:41,858]\u001b[0m Trial 45 finished with value: 0.17318435754189943 and parameters: {'learning_rate': 0.062042226415364415, 'depth': 6, 'l2_leaf_reg': 56.74168161401168, 'random_strength': 5.809093827927927, 'od_type': 'Iter', 'od_wait': 38, 'iterations': 1555}. Best is trial 18 with value: 0.13407821229050276.\u001b[0m\n",
      "\u001b[32m[I 2023-03-04 17:40:43,487]\u001b[0m Trial 46 finished with value: 0.13966480446927376 and parameters: {'learning_rate': 0.07066340952238312, 'depth': 5, 'l2_leaf_reg': 51.069725702778115, 'random_strength': 11.088251029011088, 'od_type': 'IncToDec', 'od_wait': 35, 'iterations': 1439}. Best is trial 18 with value: 0.13407821229050276.\u001b[0m\n",
      "\u001b[32m[I 2023-03-04 17:40:46,188]\u001b[0m Trial 47 finished with value: 0.13966480446927376 and parameters: {'learning_rate': 0.05311941976250725, 'depth': 8, 'l2_leaf_reg': 28.72565649530342, 'random_strength': 19.752095937737536, 'od_type': 'IncToDec', 'od_wait': 37, 'iterations': 1310}. Best is trial 18 with value: 0.13407821229050276.\u001b[0m\n",
      "\u001b[32m[I 2023-03-04 17:40:49,171]\u001b[0m Trial 48 finished with value: 0.14525139664804465 and parameters: {'learning_rate': 0.0632152758595842, 'depth': 7, 'l2_leaf_reg': 36.84586809756346, 'random_strength': 4.191725493739533, 'od_type': 'IncToDec', 'od_wait': 33, 'iterations': 1928}. Best is trial 18 with value: 0.13407821229050276.\u001b[0m\n",
      "\u001b[32m[I 2023-03-04 17:40:49,271]\u001b[0m Trial 49 finished with value: 0.17318435754189943 and parameters: {'learning_rate': 0.07880424948626223, 'depth': 3, 'l2_leaf_reg': 24.846499666885883, 'random_strength': 13.709351160786394, 'od_type': 'Iter', 'od_wait': 29, 'iterations': 1546}. Best is trial 18 with value: 0.13407821229050276.\u001b[0m\n",
      "\u001b[32m[I 2023-03-04 17:40:51,303]\u001b[0m Trial 50 finished with value: 0.14525139664804465 and parameters: {'learning_rate': 0.056726025739960925, 'depth': 5, 'l2_leaf_reg': 13.93859070707144, 'random_strength': 10.268740267230848, 'od_type': 'IncToDec', 'od_wait': 40, 'iterations': 1689}. Best is trial 18 with value: 0.13407821229050276.\u001b[0m\n",
      "\u001b[32m[I 2023-03-04 17:40:52,875]\u001b[0m Trial 51 finished with value: 0.14525139664804465 and parameters: {'learning_rate': 0.08452951226945274, 'depth': 4, 'l2_leaf_reg': 42.79049875578943, 'random_strength': 19.00444046615934, 'od_type': 'IncToDec', 'od_wait': 45, 'iterations': 1403}. Best is trial 18 with value: 0.13407821229050276.\u001b[0m\n",
      "\u001b[32m[I 2023-03-04 17:40:54,259]\u001b[0m Trial 52 finished with value: 0.14525139664804465 and parameters: {'learning_rate': 0.07259645057727723, 'depth': 4, 'l2_leaf_reg': 48.31765448599005, 'random_strength': 3.835842131097107, 'od_type': 'IncToDec', 'od_wait': 43, 'iterations': 1203}. Best is trial 18 with value: 0.13407821229050276.\u001b[0m\n",
      "\u001b[32m[I 2023-03-04 17:40:55,458]\u001b[0m Trial 53 finished with value: 0.14525139664804465 and parameters: {'learning_rate': 0.07699394779933888, 'depth': 6, 'l2_leaf_reg': 43.41421321563705, 'random_strength': 15.551489546182225, 'od_type': 'IncToDec', 'od_wait': 50, 'iterations': 909}. Best is trial 18 with value: 0.13407821229050276.\u001b[0m\n",
      "\u001b[32m[I 2023-03-04 17:40:57,185]\u001b[0m Trial 54 finished with value: 0.15083798882681565 and parameters: {'learning_rate': 0.06482724945510075, 'depth': 3, 'l2_leaf_reg': 33.891562751493026, 'random_strength': 8.79480816874706, 'od_type': 'IncToDec', 'od_wait': 39, 'iterations': 1768}. Best is trial 18 with value: 0.13407821229050276.\u001b[0m\n",
      "\u001b[32m[I 2023-03-04 17:40:58,418]\u001b[0m Trial 55 finished with value: 0.13966480446927376 and parameters: {'learning_rate': 0.07055187241683675, 'depth': 5, 'l2_leaf_reg': 39.868153408849246, 'random_strength': 30.38315501155899, 'od_type': 'IncToDec', 'od_wait': 36, 'iterations': 1027}. Best is trial 18 with value: 0.13407821229050276.\u001b[0m\n",
      "\u001b[32m[I 2023-03-04 17:40:59,062]\u001b[0m Trial 56 finished with value: 0.15083798882681565 and parameters: {'learning_rate': 0.075733018729223, 'depth': 2, 'l2_leaf_reg': 49.57164855619523, 'random_strength': 44.570261160540355, 'od_type': 'IncToDec', 'od_wait': 34, 'iterations': 713}. Best is trial 18 with value: 0.13407821229050276.\u001b[0m\n",
      "\u001b[32m[I 2023-03-04 17:41:14,123]\u001b[0m Trial 57 finished with value: 0.15083798882681565 and parameters: {'learning_rate': 0.09343912463627871, 'depth': 11, 'l2_leaf_reg': 53.80779797009598, 'random_strength': 53.67487600668356, 'od_type': 'IncToDec', 'od_wait': 42, 'iterations': 1519}. Best is trial 18 with value: 0.13407821229050276.\u001b[0m\n",
      "\u001b[32m[I 2023-03-04 17:41:15,765]\u001b[0m Trial 58 finished with value: 0.13966480446927376 and parameters: {'learning_rate': 0.050589775753078464, 'depth': 3, 'l2_leaf_reg': 44.363073152709234, 'random_strength': 1.5084298934561886, 'od_type': 'IncToDec', 'od_wait': 45, 'iterations': 1623}. Best is trial 18 with value: 0.13407821229050276.\u001b[0m\n",
      "\u001b[32m[I 2023-03-04 17:41:15,942]\u001b[0m Trial 59 finished with value: 0.16759776536312854 and parameters: {'learning_rate': 0.0846555595619103, 'depth': 9, 'l2_leaf_reg': 31.853811731411025, 'random_strength': 13.251054244759915, 'od_type': 'Iter', 'od_wait': 31, 'iterations': 1783}. Best is trial 18 with value: 0.13407821229050276.\u001b[0m\n",
      "\u001b[32m[I 2023-03-04 17:41:17,456]\u001b[0m Trial 60 finished with value: 0.14525139664804465 and parameters: {'learning_rate': 0.041754382039062114, 'depth': 4, 'l2_leaf_reg': 39.96834223922592, 'random_strength': 7.469746536878616, 'od_type': 'IncToDec', 'od_wait': 48, 'iterations': 1276}. Best is trial 18 with value: 0.13407821229050276.\u001b[0m\n",
      "\u001b[32m[I 2023-03-04 17:41:19,095]\u001b[0m Trial 61 finished with value: 0.14525139664804465 and parameters: {'learning_rate': 0.05952186021768411, 'depth': 4, 'l2_leaf_reg': 48.42066763121839, 'random_strength': 8.146402845064198, 'od_type': 'IncToDec', 'od_wait': 44, 'iterations': 1343}. Best is trial 18 with value: 0.13407821229050276.\u001b[0m\n",
      "\u001b[32m[I 2023-03-04 17:41:20,639]\u001b[0m Trial 62 finished with value: 0.15083798882681565 and parameters: {'learning_rate': 0.0736999044010532, 'depth': 4, 'l2_leaf_reg': 46.674662230787625, 'random_strength': 2.344874845299607, 'od_type': 'IncToDec', 'od_wait': 41, 'iterations': 1323}. Best is trial 18 with value: 0.13407821229050276.\u001b[0m\n",
      "\u001b[32m[I 2023-03-04 17:41:22,165]\u001b[0m Trial 63 finished with value: 0.15083798882681565 and parameters: {'learning_rate': 0.06998669125010656, 'depth': 3, 'l2_leaf_reg': 51.91987413848311, 'random_strength': 16.037716503817375, 'od_type': 'IncToDec', 'od_wait': 38, 'iterations': 1415}. Best is trial 18 with value: 0.13407821229050276.\u001b[0m\n",
      "\u001b[32m[I 2023-03-04 17:41:24,615]\u001b[0m Trial 64 finished with value: 0.15083798882681565 and parameters: {'learning_rate': 0.065842518423389, 'depth': 7, 'l2_leaf_reg': 57.83846464276859, 'random_strength': 7.483845331467742, 'od_type': 'IncToDec', 'od_wait': 45, 'iterations': 1459}. Best is trial 18 with value: 0.13407821229050276.\u001b[0m\n",
      "\u001b[32m[I 2023-03-04 17:41:26,342]\u001b[0m Trial 65 finished with value: 0.14525139664804465 and parameters: {'learning_rate': 0.07785980268613109, 'depth': 6, 'l2_leaf_reg': 44.338863562862436, 'random_strength': 0.10173827786509371, 'od_type': 'IncToDec', 'od_wait': 40, 'iterations': 1235}. Best is trial 18 with value: 0.13407821229050276.\u001b[0m\n",
      "\u001b[32m[I 2023-03-04 17:41:28,165]\u001b[0m Trial 66 finished with value: 0.13966480446927376 and parameters: {'learning_rate': 0.07426759129613068, 'depth': 5, 'l2_leaf_reg': 37.079222776860306, 'random_strength': 11.222505491908832, 'od_type': 'IncToDec', 'od_wait': 43, 'iterations': 1600}. Best is trial 18 with value: 0.13407821229050276.\u001b[0m\n",
      "\u001b[32m[I 2023-03-04 17:41:29,974]\u001b[0m Trial 67 finished with value: 0.14525139664804465 and parameters: {'learning_rate': 0.0800087125856582, 'depth': 3, 'l2_leaf_reg': 55.14184797113179, 'random_strength': 21.498629082994377, 'od_type': 'IncToDec', 'od_wait': 47, 'iterations': 1886}. Best is trial 18 with value: 0.13407821229050276.\u001b[0m\n",
      "\u001b[32m[I 2023-03-04 17:41:31,386]\u001b[0m Trial 68 finished with value: 0.15642458100558654 and parameters: {'learning_rate': 0.06030242461866575, 'depth': 2, 'l2_leaf_reg': 48.13813848702089, 'random_strength': 4.844046001548116, 'od_type': 'IncToDec', 'od_wait': 11, 'iterations': 1504}. Best is trial 18 with value: 0.13407821229050276.\u001b[0m\n",
      "\u001b[32m[I 2023-03-04 17:41:35,397]\u001b[0m Trial 69 finished with value: 0.15083798882681565 and parameters: {'learning_rate': 0.06888212423056161, 'depth': 8, 'l2_leaf_reg': 33.90084539435175, 'random_strength': 17.216675616004736, 'od_type': 'IncToDec', 'od_wait': 49, 'iterations': 1959}. Best is trial 18 with value: 0.13407821229050276.\u001b[0m\n",
      "\u001b[32m[I 2023-03-04 17:41:36,316]\u001b[0m Trial 70 finished with value: 0.14525139664804465 and parameters: {'learning_rate': 0.06444116417766713, 'depth': 5, 'l2_leaf_reg': 41.25886166823933, 'random_strength': 24.152390545175717, 'od_type': 'IncToDec', 'od_wait': 36, 'iterations': 761}. Best is trial 18 with value: 0.13407821229050276.\u001b[0m\n",
      "\u001b[32m[I 2023-03-04 17:41:37,678]\u001b[0m Trial 71 finished with value: 0.13966480446927376 and parameters: {'learning_rate': 0.09003212187604295, 'depth': 5, 'l2_leaf_reg': 26.99272346439325, 'random_strength': 16.270545577325528, 'od_type': 'IncToDec', 'od_wait': 25, 'iterations': 1080}. Best is trial 18 with value: 0.13407821229050276.\u001b[0m\n",
      "\u001b[32m[I 2023-03-04 17:41:38,749]\u001b[0m Trial 72 finished with value: 0.15083798882681565 and parameters: {'learning_rate': 0.08570946006845447, 'depth': 4, 'l2_leaf_reg': 45.79632204365113, 'random_strength': 10.376731257084703, 'od_type': 'IncToDec', 'od_wait': 23, 'iterations': 1010}. Best is trial 18 with value: 0.13407821229050276.\u001b[0m\n",
      "\u001b[32m[I 2023-03-04 17:41:40,188]\u001b[0m Trial 73 finished with value: 0.14525139664804465 and parameters: {'learning_rate': 0.08382549351051483, 'depth': 5, 'l2_leaf_reg': 18.554091064442908, 'random_strength': 6.4459355477219695, 'od_type': 'IncToDec', 'od_wait': 19, 'iterations': 1173}. Best is trial 18 with value: 0.13407821229050276.\u001b[0m\n",
      "\u001b[32m[I 2023-03-04 17:41:42,402]\u001b[0m Trial 74 finished with value: 0.14525139664804465 and parameters: {'learning_rate': 0.07641011425863398, 'depth': 7, 'l2_leaf_reg': 38.9440181783683, 'random_strength': 13.554547607023773, 'od_type': 'IncToDec', 'od_wait': 22, 'iterations': 1367}. Best is trial 18 with value: 0.13407821229050276.\u001b[0m\n",
      "\u001b[32m[I 2023-03-04 17:41:44,063]\u001b[0m Trial 75 finished with value: 0.14525139664804465 and parameters: {'learning_rate': 0.08766252383009127, 'depth': 6, 'l2_leaf_reg': 35.35075275837428, 'random_strength': 18.94649082302891, 'od_type': 'IncToDec', 'od_wait': 27, 'iterations': 1205}. Best is trial 18 with value: 0.13407821229050276.\u001b[0m\n",
      "\u001b[32m[I 2023-03-04 17:41:44,191]\u001b[0m Trial 76 finished with value: 0.1843575418994413 and parameters: {'learning_rate': 0.08145845478780206, 'depth': 4, 'l2_leaf_reg': 30.46019294100129, 'random_strength': 1.9153684774899489, 'od_type': 'Iter', 'od_wait': 16, 'iterations': 1128}. Best is trial 18 with value: 0.13407821229050276.\u001b[0m\n",
      "\u001b[32m[I 2023-03-04 17:41:45,606]\u001b[0m Trial 77 finished with value: 0.14525139664804465 and parameters: {'learning_rate': 0.09307886423397616, 'depth': 4, 'l2_leaf_reg': 52.37184708037641, 'random_strength': 8.654082459025291, 'od_type': 'IncToDec', 'od_wait': 29, 'iterations': 1294}. Best is trial 18 with value: 0.13407821229050276.\u001b[0m\n",
      "\u001b[32m[I 2023-03-04 17:41:46,987]\u001b[0m Trial 78 finished with value: 0.14525139664804465 and parameters: {'learning_rate': 0.08070964177951999, 'depth': 3, 'l2_leaf_reg': 24.42390885643936, 'random_strength': 12.579044086559929, 'od_type': 'IncToDec', 'od_wait': 42, 'iterations': 1375}. Best is trial 18 with value: 0.13407821229050276.\u001b[0m\n",
      "\u001b[32m[I 2023-03-04 17:41:49,203]\u001b[0m Trial 79 finished with value: 0.14525139664804465 and parameters: {'learning_rate': 0.056854439966052286, 'depth': 6, 'l2_leaf_reg': 41.23867181587693, 'random_strength': 3.252938446431349, 'od_type': 'IncToDec', 'od_wait': 26, 'iterations': 1686}. Best is trial 18 with value: 0.13407821229050276.\u001b[0m\n",
      "\u001b[32m[I 2023-03-04 17:41:50,905]\u001b[0m Trial 80 finished with value: 0.15083798882681565 and parameters: {'learning_rate': 0.08690653826860148, 'depth': 5, 'l2_leaf_reg': 60.04638894315498, 'random_strength': 23.887261061153204, 'od_type': 'IncToDec', 'od_wait': 31, 'iterations': 1443}. Best is trial 18 with value: 0.13407821229050276.\u001b[0m\n",
      "\u001b[32m[I 2023-03-04 17:41:52,448]\u001b[0m Trial 81 finished with value: 0.15083798882681565 and parameters: {'learning_rate': 0.07149412507368202, 'depth': 4, 'l2_leaf_reg': 50.563982102740646, 'random_strength': 6.525027517458247, 'od_type': 'IncToDec', 'od_wait': 34, 'iterations': 1439}. Best is trial 18 with value: 0.13407821229050276.\u001b[0m\n",
      "\u001b[32m[I 2023-03-04 17:41:54,215]\u001b[0m Trial 82 finished with value: 0.13407821229050276 and parameters: {'learning_rate': 0.06701748216141884, 'depth': 5, 'l2_leaf_reg': 52.90386616300598, 'random_strength': 11.355483757912818, 'od_type': 'IncToDec', 'od_wait': 34, 'iterations': 1529}. Best is trial 18 with value: 0.13407821229050276.\u001b[0m\n",
      "\u001b[32m[I 2023-03-04 17:41:55,954]\u001b[0m Trial 83 finished with value: 0.14525139664804465 and parameters: {'learning_rate': 0.06734668245299373, 'depth': 5, 'l2_leaf_reg': 55.70287594397046, 'random_strength': 14.844026759989783, 'od_type': 'IncToDec', 'od_wait': 37, 'iterations': 1546}. Best is trial 18 with value: 0.13407821229050276.\u001b[0m\n",
      "\u001b[32m[I 2023-03-04 17:41:57,585]\u001b[0m Trial 84 finished with value: 0.14525139664804465 and parameters: {'learning_rate': 0.06180211555222547, 'depth': 4, 'l2_leaf_reg': 43.57337610586768, 'random_strength': 20.342579689842207, 'od_type': 'IncToDec', 'od_wait': 40, 'iterations': 1500}. Best is trial 18 with value: 0.13407821229050276.\u001b[0m\n",
      "\u001b[32m[I 2023-03-04 17:42:00,439]\u001b[0m Trial 85 finished with value: 0.14525139664804465 and parameters: {'learning_rate': 0.07321903200866979, 'depth': 7, 'l2_leaf_reg': 47.29815039104013, 'random_strength': 10.435807491593582, 'od_type': 'IncToDec', 'od_wait': 32, 'iterations': 1846}. Best is trial 18 with value: 0.13407821229050276.\u001b[0m\n",
      "\u001b[32m[I 2023-03-04 17:42:01,070]\u001b[0m Trial 86 finished with value: 0.15642458100558654 and parameters: {'learning_rate': 0.07842918748133054, 'depth': 3, 'l2_leaf_reg': 38.66384442152908, 'random_strength': 16.963783404862827, 'od_type': 'IncToDec', 'od_wait': 34, 'iterations': 582}. Best is trial 18 with value: 0.13407821229050276.\u001b[0m\n",
      "\u001b[32m[I 2023-03-04 17:42:02,419]\u001b[0m Trial 87 finished with value: 0.13966480446927376 and parameters: {'learning_rate': 0.08260602549971076, 'depth': 5, 'l2_leaf_reg': 53.81145923533166, 'random_strength': 4.97736004033062, 'od_type': 'IncToDec', 'od_wait': 38, 'iterations': 959}. Best is trial 18 with value: 0.13407821229050276.\u001b[0m\n",
      "\u001b[32m[I 2023-03-04 17:42:02,583]\u001b[0m Trial 88 finished with value: 0.16759776536312854 and parameters: {'learning_rate': 0.05378056535641451, 'depth': 8, 'l2_leaf_reg': 50.202529469549546, 'random_strength': 12.464502096693195, 'od_type': 'Iter', 'od_wait': 44, 'iterations': 1582}. Best is trial 18 with value: 0.13407821229050276.\u001b[0m\n",
      "\u001b[32m[I 2023-03-04 17:42:04,555]\u001b[0m Trial 89 finished with value: 0.13966480446927376 and parameters: {'learning_rate': 0.06844254564503927, 'depth': 4, 'l2_leaf_reg': 44.77362729474411, 'random_strength': 3.2815280888992397, 'od_type': 'IncToDec', 'od_wait': 37, 'iterations': 1802}. Best is trial 18 with value: 0.13407821229050276.\u001b[0m\n",
      "\u001b[32m[I 2023-03-04 17:42:06,073]\u001b[0m Trial 90 finished with value: 0.16201117318435754 and parameters: {'learning_rate': 0.06355701886874152, 'depth': 2, 'l2_leaf_reg': 34.48718180859876, 'random_strength': 8.471234070183852, 'od_type': 'IncToDec', 'od_wait': 46, 'iterations': 1641}. Best is trial 18 with value: 0.13407821229050276.\u001b[0m\n",
      "\u001b[32m[I 2023-03-04 17:42:07,584]\u001b[0m Trial 91 finished with value: 0.14525139664804465 and parameters: {'learning_rate': 0.0706373745266121, 'depth': 5, 'l2_leaf_reg': 51.72983205496147, 'random_strength': 10.955746158472467, 'od_type': 'IncToDec', 'od_wait': 35, 'iterations': 1346}. Best is trial 18 with value: 0.13407821229050276.\u001b[0m\n",
      "\u001b[32m[I 2023-03-04 17:42:09,225]\u001b[0m Trial 92 finished with value: 0.13966480446927376 and parameters: {'learning_rate': 0.07207104405101815, 'depth': 5, 'l2_leaf_reg': 49.46900403080182, 'random_strength': 15.041384195619333, 'od_type': 'IncToDec', 'od_wait': 35, 'iterations': 1414}. Best is trial 18 with value: 0.13407821229050276.\u001b[0m\n",
      "\u001b[32m[I 2023-03-04 17:42:11,160]\u001b[0m Trial 93 finished with value: 0.14525139664804465 and parameters: {'learning_rate': 0.0743288328401301, 'depth': 6, 'l2_leaf_reg': 42.220321522089534, 'random_strength': 18.138870355030175, 'od_type': 'IncToDec', 'od_wait': 32, 'iterations': 1476}. Best is trial 18 with value: 0.13407821229050276.\u001b[0m\n",
      "\u001b[32m[I 2023-03-04 17:42:13,122]\u001b[0m Trial 94 finished with value: 0.15083798882681565 and parameters: {'learning_rate': 0.06600525168328998, 'depth': 5, 'l2_leaf_reg': 46.54984340871506, 'random_strength': 6.7717406022731295, 'od_type': 'IncToDec', 'od_wait': 30, 'iterations': 1737}. Best is trial 18 with value: 0.13407821229050276.\u001b[0m\n",
      "\u001b[32m[I 2023-03-04 17:42:14,772]\u001b[0m Trial 95 finished with value: 0.15083798882681565 and parameters: {'learning_rate': 0.058953191678970236, 'depth': 6, 'l2_leaf_reg': 56.92942789441212, 'random_strength': 9.928198449552252, 'od_type': 'IncToDec', 'od_wait': 21, 'iterations': 1262}. Best is trial 18 with value: 0.13407821229050276.\u001b[0m\n",
      "\u001b[32m[I 2023-03-04 17:42:16,289]\u001b[0m Trial 96 finished with value: 0.14525139664804465 and parameters: {'learning_rate': 0.07705197255721788, 'depth': 3, 'l2_leaf_reg': 59.87868328436552, 'random_strength': 2.2207335702667006, 'od_type': 'IncToDec', 'od_wait': 36, 'iterations': 1532}. Best is trial 18 with value: 0.13407821229050276.\u001b[0m\n",
      "\u001b[32m[I 2023-03-04 17:42:17,826]\u001b[0m Trial 97 finished with value: 0.14525139664804465 and parameters: {'learning_rate': 0.06958100566219307, 'depth': 4, 'l2_leaf_reg': 52.35486604871639, 'random_strength': 11.815625945793983, 'od_type': 'IncToDec', 'od_wait': 39, 'iterations': 1435}. Best is trial 18 with value: 0.13407821229050276.\u001b[0m\n",
      "\u001b[32m[I 2023-03-04 17:42:19,802]\u001b[0m Trial 98 finished with value: 0.14525139664804465 and parameters: {'learning_rate': 0.061935747536384554, 'depth': 4, 'l2_leaf_reg': 48.50587345412775, 'random_strength': 0.22071751287893893, 'od_type': 'IncToDec', 'od_wait': 33, 'iterations': 1882}. Best is trial 18 with value: 0.13407821229050276.\u001b[0m\n",
      "\u001b[32m[I 2023-03-04 17:42:21,397]\u001b[0m Trial 99 finished with value: 0.14525139664804465 and parameters: {'learning_rate': 0.09018990955598247, 'depth': 4, 'l2_leaf_reg': 39.89908160406368, 'random_strength': 27.2746173272206, 'od_type': 'IncToDec', 'od_wait': 42, 'iterations': 1586}. Best is trial 18 with value: 0.13407821229050276.\u001b[0m\n"
     ]
    }
   ],
   "source": [
    "study = optuna.create_study(direction=\"minimize\",study_name=\"CatBoost Classifier\")\n",
    "study.optimize(objective, n_trials=100, timeout=600)"
   ]
  },
  {
   "cell_type": "code",
   "execution_count": 293,
   "metadata": {},
   "outputs": [
    {
     "name": "stdout",
     "output_type": "stream",
     "text": [
      "Important parameters For cat is\n",
      "OrderedDict([('od_type', 0.6326352426347975), ('od_wait', 0.18457987952676136), ('depth', 0.08552446868952594), ('learning_rate', 0.048533468493920075), ('iterations', 0.026987101198979475), ('l2_leaf_reg', 0.013871318397578403), ('random_strength', 0.007868521058437297)])\n"
     ]
    }
   ],
   "source": [
    "print(\"Important parameters For cat is\")\n",
    "print(optuna.importance.get_param_importances(study))"
   ]
  },
  {
   "cell_type": "code",
   "execution_count": 294,
   "metadata": {},
   "outputs": [
    {
     "name": "stdout",
     "output_type": "stream",
     "text": [
      "Best Parameter For cat is\n",
      "{'learning_rate': 0.05586579539823147, 'depth': 3, 'l2_leaf_reg': 46.565339582806104, 'random_strength': 1.0010682857817434, 'od_type': 'IncToDec', 'od_wait': 40, 'iterations': 1496}\n"
     ]
    }
   ],
   "source": [
    "best_params_cat = study.best_trial.params\n",
    "print(\"Best Parameter For cat is\")\n",
    "print(best_params_cat)"
   ]
  },
  {
   "cell_type": "code",
   "execution_count": 299,
   "metadata": {},
   "outputs": [
    {
     "name": "stdout",
     "output_type": "stream",
     "text": [
      "0:\tlearn: 0.6677158\ttotal: 3.01ms\tremaining: 4.5s\n",
      "1:\tlearn: 0.6411147\ttotal: 4.25ms\tremaining: 3.18s\n",
      "2:\tlearn: 0.6154078\ttotal: 5.26ms\tremaining: 2.62s\n",
      "3:\tlearn: 0.5956160\ttotal: 6.22ms\tremaining: 2.32s\n",
      "4:\tlearn: 0.5798240\ttotal: 7.19ms\tremaining: 2.14s\n",
      "5:\tlearn: 0.5665030\ttotal: 8.13ms\tremaining: 2.02s\n",
      "6:\tlearn: 0.5499796\ttotal: 9.07ms\tremaining: 1.93s\n",
      "7:\tlearn: 0.5397846\ttotal: 10.1ms\tremaining: 1.87s\n",
      "8:\tlearn: 0.5299855\ttotal: 11ms\tremaining: 1.82s\n",
      "9:\tlearn: 0.5198856\ttotal: 12ms\tremaining: 1.78s\n",
      "10:\tlearn: 0.5113214\ttotal: 12.9ms\tremaining: 1.74s\n",
      "11:\tlearn: 0.5011788\ttotal: 13.9ms\tremaining: 1.71s\n",
      "12:\tlearn: 0.4940488\ttotal: 14.7ms\tremaining: 1.68s\n",
      "13:\tlearn: 0.4859517\ttotal: 15.9ms\tremaining: 1.68s\n",
      "14:\tlearn: 0.4781639\ttotal: 16.8ms\tremaining: 1.66s\n",
      "15:\tlearn: 0.4732804\ttotal: 17.7ms\tremaining: 1.64s\n",
      "16:\tlearn: 0.4673500\ttotal: 18.7ms\tremaining: 1.63s\n",
      "17:\tlearn: 0.4629704\ttotal: 19.6ms\tremaining: 1.61s\n",
      "18:\tlearn: 0.4586995\ttotal: 20.5ms\tremaining: 1.59s\n",
      "19:\tlearn: 0.4548992\ttotal: 21.4ms\tremaining: 1.58s\n",
      "20:\tlearn: 0.4502074\ttotal: 22.4ms\tremaining: 1.57s\n",
      "21:\tlearn: 0.4463332\ttotal: 23.4ms\tremaining: 1.56s\n",
      "22:\tlearn: 0.4445982\ttotal: 24.1ms\tremaining: 1.55s\n",
      "23:\tlearn: 0.4409689\ttotal: 25ms\tremaining: 1.53s\n",
      "24:\tlearn: 0.4388802\ttotal: 26ms\tremaining: 1.53s\n",
      "25:\tlearn: 0.4360548\ttotal: 26.9ms\tremaining: 1.52s\n",
      "26:\tlearn: 0.4335369\ttotal: 27.8ms\tremaining: 1.51s\n",
      "27:\tlearn: 0.4327620\ttotal: 28.6ms\tremaining: 1.5s\n",
      "28:\tlearn: 0.4304278\ttotal: 29.4ms\tremaining: 1.49s\n",
      "29:\tlearn: 0.4287617\ttotal: 30.3ms\tremaining: 1.48s\n",
      "30:\tlearn: 0.4259680\ttotal: 31.3ms\tremaining: 1.48s\n",
      "31:\tlearn: 0.4241129\ttotal: 32.3ms\tremaining: 1.48s\n",
      "32:\tlearn: 0.4224006\ttotal: 33.3ms\tremaining: 1.48s\n",
      "33:\tlearn: 0.4211148\ttotal: 34.3ms\tremaining: 1.48s\n",
      "34:\tlearn: 0.4193096\ttotal: 35.3ms\tremaining: 1.47s\n",
      "35:\tlearn: 0.4179212\ttotal: 36.2ms\tremaining: 1.47s\n",
      "36:\tlearn: 0.4168184\ttotal: 37.1ms\tremaining: 1.46s\n",
      "37:\tlearn: 0.4156159\ttotal: 38ms\tremaining: 1.46s\n",
      "38:\tlearn: 0.4142568\ttotal: 38.8ms\tremaining: 1.45s\n",
      "39:\tlearn: 0.4130249\ttotal: 39.7ms\tremaining: 1.45s\n",
      "40:\tlearn: 0.4109825\ttotal: 40.6ms\tremaining: 1.44s\n",
      "41:\tlearn: 0.4098692\ttotal: 41.4ms\tremaining: 1.43s\n",
      "42:\tlearn: 0.4090610\ttotal: 42.4ms\tremaining: 1.43s\n",
      "43:\tlearn: 0.4082976\ttotal: 43.4ms\tremaining: 1.43s\n",
      "44:\tlearn: 0.4069941\ttotal: 44.4ms\tremaining: 1.43s\n",
      "45:\tlearn: 0.4052252\ttotal: 45.5ms\tremaining: 1.43s\n",
      "46:\tlearn: 0.4042055\ttotal: 46.5ms\tremaining: 1.43s\n",
      "47:\tlearn: 0.4034009\ttotal: 47.5ms\tremaining: 1.43s\n",
      "48:\tlearn: 0.4025972\ttotal: 48.3ms\tremaining: 1.43s\n",
      "49:\tlearn: 0.4018783\ttotal: 49.2ms\tremaining: 1.42s\n",
      "50:\tlearn: 0.4003823\ttotal: 50.2ms\tremaining: 1.42s\n",
      "51:\tlearn: 0.3998313\ttotal: 51.1ms\tremaining: 1.42s\n",
      "52:\tlearn: 0.3985318\ttotal: 52ms\tremaining: 1.42s\n",
      "53:\tlearn: 0.3978106\ttotal: 52.9ms\tremaining: 1.41s\n",
      "54:\tlearn: 0.3969201\ttotal: 53.8ms\tremaining: 1.41s\n",
      "55:\tlearn: 0.3963715\ttotal: 54.6ms\tremaining: 1.41s\n",
      "56:\tlearn: 0.3958038\ttotal: 55.6ms\tremaining: 1.4s\n",
      "57:\tlearn: 0.3956651\ttotal: 56.4ms\tremaining: 1.4s\n",
      "58:\tlearn: 0.3949663\ttotal: 57.2ms\tremaining: 1.39s\n",
      "59:\tlearn: 0.3945415\ttotal: 58.1ms\tremaining: 1.39s\n",
      "60:\tlearn: 0.3941895\ttotal: 58.9ms\tremaining: 1.39s\n",
      "61:\tlearn: 0.3938064\ttotal: 59.9ms\tremaining: 1.38s\n",
      "62:\tlearn: 0.3937403\ttotal: 60.8ms\tremaining: 1.38s\n",
      "63:\tlearn: 0.3933624\ttotal: 61.8ms\tremaining: 1.38s\n",
      "64:\tlearn: 0.3926430\ttotal: 62.9ms\tremaining: 1.38s\n",
      "65:\tlearn: 0.3919323\ttotal: 63.7ms\tremaining: 1.38s\n",
      "66:\tlearn: 0.3910075\ttotal: 64.6ms\tremaining: 1.38s\n",
      "67:\tlearn: 0.3904200\ttotal: 65.5ms\tremaining: 1.37s\n",
      "68:\tlearn: 0.3899427\ttotal: 66.4ms\tremaining: 1.37s\n",
      "69:\tlearn: 0.3894402\ttotal: 67.3ms\tremaining: 1.37s\n",
      "70:\tlearn: 0.3890670\ttotal: 68.3ms\tremaining: 1.37s\n",
      "71:\tlearn: 0.3883438\ttotal: 69.2ms\tremaining: 1.37s\n",
      "72:\tlearn: 0.3877014\ttotal: 70ms\tremaining: 1.36s\n",
      "73:\tlearn: 0.3873775\ttotal: 70.8ms\tremaining: 1.36s\n",
      "74:\tlearn: 0.3870431\ttotal: 71.7ms\tremaining: 1.36s\n",
      "75:\tlearn: 0.3868294\ttotal: 72.7ms\tremaining: 1.36s\n",
      "76:\tlearn: 0.3867271\ttotal: 73.6ms\tremaining: 1.36s\n",
      "77:\tlearn: 0.3860746\ttotal: 74.4ms\tremaining: 1.35s\n",
      "78:\tlearn: 0.3855841\ttotal: 75.3ms\tremaining: 1.35s\n",
      "79:\tlearn: 0.3854031\ttotal: 76.2ms\tremaining: 1.35s\n",
      "80:\tlearn: 0.3850836\ttotal: 77ms\tremaining: 1.34s\n",
      "81:\tlearn: 0.3845675\ttotal: 77.9ms\tremaining: 1.34s\n",
      "82:\tlearn: 0.3841192\ttotal: 78.9ms\tremaining: 1.34s\n",
      "83:\tlearn: 0.3838249\ttotal: 79.8ms\tremaining: 1.34s\n",
      "84:\tlearn: 0.3832775\ttotal: 80.6ms\tremaining: 1.34s\n",
      "85:\tlearn: 0.3831591\ttotal: 81.5ms\tremaining: 1.34s\n",
      "86:\tlearn: 0.3829089\ttotal: 82.4ms\tremaining: 1.33s\n",
      "87:\tlearn: 0.3825815\ttotal: 83.2ms\tremaining: 1.33s\n",
      "88:\tlearn: 0.3822036\ttotal: 84.2ms\tremaining: 1.33s\n",
      "89:\tlearn: 0.3820628\ttotal: 85.1ms\tremaining: 1.33s\n",
      "90:\tlearn: 0.3818541\ttotal: 85.9ms\tremaining: 1.33s\n",
      "91:\tlearn: 0.3814944\ttotal: 86.8ms\tremaining: 1.32s\n",
      "92:\tlearn: 0.3811505\ttotal: 87.7ms\tremaining: 1.32s\n",
      "93:\tlearn: 0.3805833\ttotal: 88.6ms\tremaining: 1.32s\n",
      "94:\tlearn: 0.3805279\ttotal: 89.5ms\tremaining: 1.32s\n",
      "95:\tlearn: 0.3802896\ttotal: 90.5ms\tremaining: 1.32s\n",
      "96:\tlearn: 0.3800035\ttotal: 91.6ms\tremaining: 1.32s\n",
      "97:\tlearn: 0.3795204\ttotal: 92.7ms\tremaining: 1.32s\n",
      "98:\tlearn: 0.3792947\ttotal: 93.7ms\tremaining: 1.32s\n",
      "99:\tlearn: 0.3788176\ttotal: 94.6ms\tremaining: 1.32s\n",
      "100:\tlearn: 0.3785819\ttotal: 95.7ms\tremaining: 1.32s\n",
      "101:\tlearn: 0.3782655\ttotal: 96.6ms\tremaining: 1.32s\n",
      "102:\tlearn: 0.3777325\ttotal: 97.5ms\tremaining: 1.32s\n",
      "103:\tlearn: 0.3769954\ttotal: 98.4ms\tremaining: 1.32s\n",
      "104:\tlearn: 0.3765176\ttotal: 99.3ms\tremaining: 1.31s\n",
      "105:\tlearn: 0.3763244\ttotal: 100ms\tremaining: 1.31s\n",
      "106:\tlearn: 0.3759324\ttotal: 101ms\tremaining: 1.31s\n",
      "107:\tlearn: 0.3755358\ttotal: 102ms\tremaining: 1.31s\n",
      "108:\tlearn: 0.3750359\ttotal: 103ms\tremaining: 1.31s\n",
      "109:\tlearn: 0.3747061\ttotal: 104ms\tremaining: 1.3s\n",
      "110:\tlearn: 0.3742671\ttotal: 104ms\tremaining: 1.3s\n",
      "111:\tlearn: 0.3738425\ttotal: 105ms\tremaining: 1.3s\n",
      "112:\tlearn: 0.3736673\ttotal: 106ms\tremaining: 1.3s\n",
      "113:\tlearn: 0.3729158\ttotal: 107ms\tremaining: 1.29s\n",
      "114:\tlearn: 0.3722942\ttotal: 108ms\tremaining: 1.29s\n",
      "115:\tlearn: 0.3720137\ttotal: 109ms\tremaining: 1.29s\n",
      "116:\tlearn: 0.3715811\ttotal: 110ms\tremaining: 1.29s\n",
      "117:\tlearn: 0.3714418\ttotal: 111ms\tremaining: 1.29s\n",
      "118:\tlearn: 0.3710707\ttotal: 112ms\tremaining: 1.29s\n",
      "119:\tlearn: 0.3707863\ttotal: 113ms\tremaining: 1.29s\n",
      "120:\tlearn: 0.3702520\ttotal: 114ms\tremaining: 1.29s\n",
      "121:\tlearn: 0.3699789\ttotal: 114ms\tremaining: 1.29s\n",
      "122:\tlearn: 0.3695046\ttotal: 115ms\tremaining: 1.29s\n",
      "123:\tlearn: 0.3692287\ttotal: 116ms\tremaining: 1.29s\n",
      "124:\tlearn: 0.3690178\ttotal: 117ms\tremaining: 1.29s\n",
      "125:\tlearn: 0.3687504\ttotal: 118ms\tremaining: 1.29s\n",
      "126:\tlearn: 0.3684185\ttotal: 119ms\tremaining: 1.29s\n",
      "127:\tlearn: 0.3677909\ttotal: 120ms\tremaining: 1.28s\n",
      "128:\tlearn: 0.3676176\ttotal: 121ms\tremaining: 1.28s\n",
      "129:\tlearn: 0.3673333\ttotal: 122ms\tremaining: 1.28s\n",
      "130:\tlearn: 0.3671942\ttotal: 123ms\tremaining: 1.28s\n",
      "131:\tlearn: 0.3670578\ttotal: 124ms\tremaining: 1.28s\n",
      "132:\tlearn: 0.3661472\ttotal: 125ms\tremaining: 1.28s\n",
      "133:\tlearn: 0.3657899\ttotal: 126ms\tremaining: 1.28s\n",
      "134:\tlearn: 0.3654197\ttotal: 127ms\tremaining: 1.28s\n",
      "135:\tlearn: 0.3651040\ttotal: 128ms\tremaining: 1.28s\n",
      "136:\tlearn: 0.3645384\ttotal: 129ms\tremaining: 1.27s\n",
      "137:\tlearn: 0.3643511\ttotal: 130ms\tremaining: 1.27s\n",
      "138:\tlearn: 0.3641413\ttotal: 131ms\tremaining: 1.27s\n",
      "139:\tlearn: 0.3639878\ttotal: 131ms\tremaining: 1.27s\n",
      "140:\tlearn: 0.3634974\ttotal: 132ms\tremaining: 1.27s\n",
      "141:\tlearn: 0.3631691\ttotal: 133ms\tremaining: 1.27s\n",
      "142:\tlearn: 0.3626534\ttotal: 134ms\tremaining: 1.27s\n",
      "143:\tlearn: 0.3622652\ttotal: 135ms\tremaining: 1.27s\n",
      "144:\tlearn: 0.3616278\ttotal: 136ms\tremaining: 1.26s\n",
      "145:\tlearn: 0.3612626\ttotal: 137ms\tremaining: 1.26s\n",
      "146:\tlearn: 0.3611828\ttotal: 138ms\tremaining: 1.26s\n",
      "147:\tlearn: 0.3610838\ttotal: 138ms\tremaining: 1.26s\n",
      "148:\tlearn: 0.3609843\ttotal: 139ms\tremaining: 1.26s\n",
      "149:\tlearn: 0.3602852\ttotal: 140ms\tremaining: 1.26s\n",
      "150:\tlearn: 0.3601078\ttotal: 141ms\tremaining: 1.26s\n",
      "151:\tlearn: 0.3599112\ttotal: 142ms\tremaining: 1.26s\n",
      "152:\tlearn: 0.3594245\ttotal: 143ms\tremaining: 1.25s\n",
      "153:\tlearn: 0.3593325\ttotal: 144ms\tremaining: 1.25s\n",
      "154:\tlearn: 0.3587204\ttotal: 145ms\tremaining: 1.25s\n",
      "155:\tlearn: 0.3585591\ttotal: 146ms\tremaining: 1.25s\n",
      "156:\tlearn: 0.3584707\ttotal: 147ms\tremaining: 1.25s\n",
      "157:\tlearn: 0.3578954\ttotal: 148ms\tremaining: 1.25s\n",
      "158:\tlearn: 0.3574234\ttotal: 149ms\tremaining: 1.25s\n",
      "159:\tlearn: 0.3571734\ttotal: 149ms\tremaining: 1.25s\n",
      "160:\tlearn: 0.3564878\ttotal: 150ms\tremaining: 1.25s\n",
      "161:\tlearn: 0.3559863\ttotal: 151ms\tremaining: 1.25s\n",
      "162:\tlearn: 0.3558039\ttotal: 152ms\tremaining: 1.25s\n",
      "163:\tlearn: 0.3555498\ttotal: 153ms\tremaining: 1.24s\n",
      "164:\tlearn: 0.3550428\ttotal: 154ms\tremaining: 1.24s\n",
      "165:\tlearn: 0.3548548\ttotal: 155ms\tremaining: 1.24s\n",
      "166:\tlearn: 0.3543530\ttotal: 156ms\tremaining: 1.24s\n",
      "167:\tlearn: 0.3539208\ttotal: 157ms\tremaining: 1.24s\n",
      "168:\tlearn: 0.3537908\ttotal: 158ms\tremaining: 1.24s\n",
      "169:\tlearn: 0.3537556\ttotal: 159ms\tremaining: 1.24s\n",
      "170:\tlearn: 0.3537442\ttotal: 160ms\tremaining: 1.24s\n",
      "171:\tlearn: 0.3533045\ttotal: 161ms\tremaining: 1.24s\n",
      "172:\tlearn: 0.3526901\ttotal: 162ms\tremaining: 1.24s\n",
      "173:\tlearn: 0.3524223\ttotal: 163ms\tremaining: 1.24s\n",
      "174:\tlearn: 0.3519832\ttotal: 164ms\tremaining: 1.24s\n",
      "175:\tlearn: 0.3519009\ttotal: 165ms\tremaining: 1.23s\n",
      "176:\tlearn: 0.3513324\ttotal: 166ms\tremaining: 1.23s\n",
      "177:\tlearn: 0.3509211\ttotal: 166ms\tremaining: 1.23s\n",
      "178:\tlearn: 0.3507157\ttotal: 167ms\tremaining: 1.23s\n",
      "179:\tlearn: 0.3502409\ttotal: 168ms\tremaining: 1.23s\n",
      "180:\tlearn: 0.3497743\ttotal: 169ms\tremaining: 1.23s\n",
      "181:\tlearn: 0.3493965\ttotal: 170ms\tremaining: 1.23s\n",
      "182:\tlearn: 0.3491709\ttotal: 171ms\tremaining: 1.22s\n",
      "183:\tlearn: 0.3491396\ttotal: 172ms\tremaining: 1.22s\n",
      "184:\tlearn: 0.3490300\ttotal: 173ms\tremaining: 1.22s\n",
      "185:\tlearn: 0.3488966\ttotal: 174ms\tremaining: 1.22s\n",
      "186:\tlearn: 0.3487089\ttotal: 175ms\tremaining: 1.22s\n",
      "187:\tlearn: 0.3486030\ttotal: 175ms\tremaining: 1.22s\n",
      "188:\tlearn: 0.3482092\ttotal: 176ms\tremaining: 1.22s\n",
      "189:\tlearn: 0.3480714\ttotal: 177ms\tremaining: 1.22s\n",
      "190:\tlearn: 0.3476502\ttotal: 178ms\tremaining: 1.22s\n",
      "191:\tlearn: 0.3475244\ttotal: 179ms\tremaining: 1.22s\n",
      "192:\tlearn: 0.3470830\ttotal: 180ms\tremaining: 1.21s\n",
      "193:\tlearn: 0.3467305\ttotal: 181ms\tremaining: 1.21s\n",
      "194:\tlearn: 0.3466277\ttotal: 182ms\tremaining: 1.21s\n",
      "195:\tlearn: 0.3466146\ttotal: 183ms\tremaining: 1.21s\n",
      "196:\tlearn: 0.3460931\ttotal: 184ms\tremaining: 1.21s\n",
      "197:\tlearn: 0.3460844\ttotal: 185ms\tremaining: 1.21s\n",
      "198:\tlearn: 0.3459092\ttotal: 186ms\tremaining: 1.21s\n",
      "199:\tlearn: 0.3459012\ttotal: 187ms\tremaining: 1.21s\n",
      "200:\tlearn: 0.3454762\ttotal: 188ms\tremaining: 1.21s\n",
      "201:\tlearn: 0.3450044\ttotal: 189ms\tremaining: 1.21s\n",
      "202:\tlearn: 0.3449919\ttotal: 190ms\tremaining: 1.21s\n",
      "203:\tlearn: 0.3448467\ttotal: 191ms\tremaining: 1.21s\n",
      "204:\tlearn: 0.3447933\ttotal: 191ms\tremaining: 1.21s\n",
      "205:\tlearn: 0.3447855\ttotal: 192ms\tremaining: 1.2s\n",
      "206:\tlearn: 0.3443806\ttotal: 193ms\tremaining: 1.2s\n",
      "207:\tlearn: 0.3443709\ttotal: 194ms\tremaining: 1.2s\n",
      "208:\tlearn: 0.3443626\ttotal: 195ms\tremaining: 1.2s\n",
      "209:\tlearn: 0.3443545\ttotal: 196ms\tremaining: 1.2s\n",
      "210:\tlearn: 0.3439003\ttotal: 197ms\tremaining: 1.2s\n",
      "211:\tlearn: 0.3438904\ttotal: 198ms\tremaining: 1.2s\n",
      "212:\tlearn: 0.3435651\ttotal: 199ms\tremaining: 1.2s\n",
      "213:\tlearn: 0.3433901\ttotal: 200ms\tremaining: 1.2s\n",
      "214:\tlearn: 0.3433801\ttotal: 201ms\tremaining: 1.2s\n",
      "215:\tlearn: 0.3430749\ttotal: 202ms\tremaining: 1.19s\n",
      "216:\tlearn: 0.3430669\ttotal: 202ms\tremaining: 1.19s\n",
      "217:\tlearn: 0.3421004\ttotal: 203ms\tremaining: 1.19s\n",
      "218:\tlearn: 0.3417643\ttotal: 204ms\tremaining: 1.19s\n",
      "219:\tlearn: 0.3416527\ttotal: 205ms\tremaining: 1.19s\n",
      "220:\tlearn: 0.3413502\ttotal: 206ms\tremaining: 1.19s\n",
      "221:\tlearn: 0.3413408\ttotal: 207ms\tremaining: 1.19s\n",
      "222:\tlearn: 0.3412283\ttotal: 208ms\tremaining: 1.19s\n",
      "223:\tlearn: 0.3411342\ttotal: 209ms\tremaining: 1.19s\n",
      "224:\tlearn: 0.3411249\ttotal: 210ms\tremaining: 1.19s\n",
      "225:\tlearn: 0.3411131\ttotal: 211ms\tremaining: 1.19s\n",
      "226:\tlearn: 0.3409198\ttotal: 212ms\tremaining: 1.18s\n",
      "227:\tlearn: 0.3409118\ttotal: 213ms\tremaining: 1.18s\n",
      "228:\tlearn: 0.3409017\ttotal: 214ms\tremaining: 1.18s\n",
      "229:\tlearn: 0.3407644\ttotal: 215ms\tremaining: 1.18s\n",
      "230:\tlearn: 0.3407525\ttotal: 216ms\tremaining: 1.18s\n",
      "231:\tlearn: 0.3407438\ttotal: 217ms\tremaining: 1.18s\n",
      "232:\tlearn: 0.3407336\ttotal: 218ms\tremaining: 1.18s\n",
      "233:\tlearn: 0.3407262\ttotal: 219ms\tremaining: 1.18s\n",
      "234:\tlearn: 0.3406762\ttotal: 220ms\tremaining: 1.18s\n",
      "235:\tlearn: 0.3398100\ttotal: 221ms\tremaining: 1.18s\n",
      "236:\tlearn: 0.3397635\ttotal: 222ms\tremaining: 1.18s\n",
      "237:\tlearn: 0.3393409\ttotal: 223ms\tremaining: 1.18s\n",
      "238:\tlearn: 0.3390086\ttotal: 224ms\tremaining: 1.18s\n",
      "239:\tlearn: 0.3388557\ttotal: 225ms\tremaining: 1.18s\n",
      "240:\tlearn: 0.3388069\ttotal: 226ms\tremaining: 1.17s\n",
      "241:\tlearn: 0.3387896\ttotal: 227ms\tremaining: 1.17s\n",
      "242:\tlearn: 0.3383909\ttotal: 228ms\tremaining: 1.17s\n",
      "243:\tlearn: 0.3382894\ttotal: 229ms\tremaining: 1.17s\n",
      "244:\tlearn: 0.3375131\ttotal: 230ms\tremaining: 1.17s\n",
      "245:\tlearn: 0.3372719\ttotal: 231ms\tremaining: 1.17s\n",
      "246:\tlearn: 0.3372648\ttotal: 231ms\tremaining: 1.17s\n",
      "247:\tlearn: 0.3364778\ttotal: 232ms\tremaining: 1.17s\n",
      "248:\tlearn: 0.3363309\ttotal: 233ms\tremaining: 1.17s\n",
      "249:\tlearn: 0.3359699\ttotal: 234ms\tremaining: 1.17s\n",
      "250:\tlearn: 0.3359621\ttotal: 235ms\tremaining: 1.17s\n",
      "251:\tlearn: 0.3352402\ttotal: 236ms\tremaining: 1.17s\n",
      "252:\tlearn: 0.3348599\ttotal: 237ms\tremaining: 1.17s\n",
      "253:\tlearn: 0.3348530\ttotal: 238ms\tremaining: 1.16s\n",
      "254:\tlearn: 0.3347535\ttotal: 239ms\tremaining: 1.16s\n",
      "255:\tlearn: 0.3346463\ttotal: 240ms\tremaining: 1.16s\n",
      "256:\tlearn: 0.3342889\ttotal: 241ms\tremaining: 1.16s\n",
      "257:\tlearn: 0.3342756\ttotal: 243ms\tremaining: 1.16s\n",
      "258:\tlearn: 0.3342680\ttotal: 244ms\tremaining: 1.16s\n",
      "259:\tlearn: 0.3342578\ttotal: 244ms\tremaining: 1.16s\n",
      "260:\tlearn: 0.3341598\ttotal: 246ms\tremaining: 1.16s\n",
      "261:\tlearn: 0.3341514\ttotal: 247ms\tremaining: 1.16s\n",
      "262:\tlearn: 0.3340563\ttotal: 247ms\tremaining: 1.16s\n",
      "263:\tlearn: 0.3340464\ttotal: 248ms\tremaining: 1.16s\n",
      "264:\tlearn: 0.3340364\ttotal: 249ms\tremaining: 1.16s\n",
      "265:\tlearn: 0.3340285\ttotal: 250ms\tremaining: 1.16s\n",
      "266:\tlearn: 0.3339365\ttotal: 251ms\tremaining: 1.16s\n",
      "267:\tlearn: 0.3339282\ttotal: 252ms\tremaining: 1.15s\n",
      "268:\tlearn: 0.3339211\ttotal: 253ms\tremaining: 1.15s\n",
      "269:\tlearn: 0.3335875\ttotal: 254ms\tremaining: 1.15s\n",
      "270:\tlearn: 0.3335811\ttotal: 255ms\tremaining: 1.15s\n",
      "271:\tlearn: 0.3334369\ttotal: 256ms\tremaining: 1.15s\n",
      "272:\tlearn: 0.3330862\ttotal: 257ms\tremaining: 1.15s\n",
      "273:\tlearn: 0.3330775\ttotal: 258ms\tremaining: 1.15s\n",
      "274:\tlearn: 0.3330703\ttotal: 258ms\tremaining: 1.15s\n",
      "275:\tlearn: 0.3330638\ttotal: 259ms\tremaining: 1.15s\n",
      "276:\tlearn: 0.3327456\ttotal: 260ms\tremaining: 1.14s\n",
      "277:\tlearn: 0.3327391\ttotal: 261ms\tremaining: 1.14s\n",
      "278:\tlearn: 0.3327301\ttotal: 262ms\tremaining: 1.14s\n",
      "279:\tlearn: 0.3327227\ttotal: 263ms\tremaining: 1.14s\n",
      "280:\tlearn: 0.3327155\ttotal: 264ms\tremaining: 1.14s\n",
      "281:\tlearn: 0.3323952\ttotal: 264ms\tremaining: 1.14s\n",
      "282:\tlearn: 0.3323877\ttotal: 265ms\tremaining: 1.14s\n",
      "283:\tlearn: 0.3323790\ttotal: 266ms\tremaining: 1.14s\n",
      "284:\tlearn: 0.3320137\ttotal: 267ms\tremaining: 1.13s\n",
      "285:\tlearn: 0.3320052\ttotal: 268ms\tremaining: 1.13s\n",
      "286:\tlearn: 0.3317689\ttotal: 269ms\tremaining: 1.13s\n",
      "287:\tlearn: 0.3312603\ttotal: 270ms\tremaining: 1.13s\n",
      "288:\tlearn: 0.3312532\ttotal: 271ms\tremaining: 1.13s\n",
      "289:\tlearn: 0.3308715\ttotal: 272ms\tremaining: 1.13s\n",
      "290:\tlearn: 0.3305278\ttotal: 273ms\tremaining: 1.13s\n",
      "291:\tlearn: 0.3305207\ttotal: 274ms\tremaining: 1.13s\n",
      "292:\tlearn: 0.3298809\ttotal: 275ms\tremaining: 1.13s\n",
      "293:\tlearn: 0.3297928\ttotal: 276ms\tremaining: 1.13s\n",
      "294:\tlearn: 0.3295050\ttotal: 277ms\tremaining: 1.13s\n",
      "295:\tlearn: 0.3292555\ttotal: 278ms\tremaining: 1.13s\n",
      "296:\tlearn: 0.3292480\ttotal: 279ms\tremaining: 1.13s\n",
      "297:\tlearn: 0.3292397\ttotal: 280ms\tremaining: 1.13s\n",
      "298:\tlearn: 0.3291251\ttotal: 281ms\tremaining: 1.13s\n",
      "299:\tlearn: 0.3289020\ttotal: 282ms\tremaining: 1.13s\n",
      "300:\tlearn: 0.3287722\ttotal: 283ms\tremaining: 1.13s\n",
      "301:\tlearn: 0.3285629\ttotal: 285ms\tremaining: 1.13s\n",
      "302:\tlearn: 0.3281631\ttotal: 286ms\tremaining: 1.13s\n",
      "303:\tlearn: 0.3277753\ttotal: 287ms\tremaining: 1.12s\n",
      "304:\tlearn: 0.3277684\ttotal: 288ms\tremaining: 1.12s\n",
      "305:\tlearn: 0.3277625\ttotal: 289ms\tremaining: 1.12s\n",
      "306:\tlearn: 0.3277113\ttotal: 290ms\tremaining: 1.12s\n",
      "307:\tlearn: 0.3276681\ttotal: 291ms\tremaining: 1.12s\n",
      "308:\tlearn: 0.3276616\ttotal: 292ms\tremaining: 1.12s\n",
      "309:\tlearn: 0.3275270\ttotal: 292ms\tremaining: 1.12s\n",
      "310:\tlearn: 0.3275210\ttotal: 293ms\tremaining: 1.12s\n",
      "311:\tlearn: 0.3271779\ttotal: 294ms\tremaining: 1.12s\n",
      "312:\tlearn: 0.3270995\ttotal: 295ms\tremaining: 1.11s\n",
      "313:\tlearn: 0.3269960\ttotal: 296ms\tremaining: 1.11s\n",
      "314:\tlearn: 0.3269887\ttotal: 297ms\tremaining: 1.11s\n",
      "315:\tlearn: 0.3268686\ttotal: 298ms\tremaining: 1.11s\n",
      "316:\tlearn: 0.3265005\ttotal: 299ms\tremaining: 1.11s\n",
      "317:\tlearn: 0.3264916\ttotal: 300ms\tremaining: 1.11s\n",
      "318:\tlearn: 0.3264439\ttotal: 301ms\tremaining: 1.11s\n",
      "319:\tlearn: 0.3264368\ttotal: 302ms\tremaining: 1.11s\n",
      "320:\tlearn: 0.3264316\ttotal: 303ms\tremaining: 1.11s\n",
      "321:\tlearn: 0.3264248\ttotal: 304ms\tremaining: 1.11s\n",
      "322:\tlearn: 0.3262285\ttotal: 305ms\tremaining: 1.11s\n",
      "323:\tlearn: 0.3259132\ttotal: 306ms\tremaining: 1.11s\n",
      "324:\tlearn: 0.3256038\ttotal: 307ms\tremaining: 1.11s\n",
      "325:\tlearn: 0.3252328\ttotal: 308ms\tremaining: 1.11s\n",
      "326:\tlearn: 0.3252269\ttotal: 310ms\tremaining: 1.11s\n",
      "327:\tlearn: 0.3252187\ttotal: 311ms\tremaining: 1.11s\n",
      "328:\tlearn: 0.3252129\ttotal: 311ms\tremaining: 1.1s\n",
      "329:\tlearn: 0.3250315\ttotal: 312ms\tremaining: 1.1s\n",
      "330:\tlearn: 0.3250232\ttotal: 314ms\tremaining: 1.1s\n",
      "331:\tlearn: 0.3250066\ttotal: 315ms\tremaining: 1.1s\n",
      "332:\tlearn: 0.3249989\ttotal: 316ms\tremaining: 1.1s\n",
      "333:\tlearn: 0.3249916\ttotal: 317ms\tremaining: 1.1s\n",
      "334:\tlearn: 0.3247176\ttotal: 318ms\tremaining: 1.1s\n",
      "335:\tlearn: 0.3247110\ttotal: 319ms\tremaining: 1.1s\n",
      "336:\tlearn: 0.3247048\ttotal: 320ms\tremaining: 1.1s\n",
      "337:\tlearn: 0.3243865\ttotal: 320ms\tremaining: 1.1s\n",
      "338:\tlearn: 0.3242977\ttotal: 321ms\tremaining: 1.1s\n",
      "339:\tlearn: 0.3242469\ttotal: 323ms\tremaining: 1.1s\n",
      "340:\tlearn: 0.3241308\ttotal: 324ms\tremaining: 1.09s\n",
      "341:\tlearn: 0.3240511\ttotal: 325ms\tremaining: 1.09s\n",
      "342:\tlearn: 0.3240461\ttotal: 326ms\tremaining: 1.09s\n",
      "343:\tlearn: 0.3239320\ttotal: 327ms\tremaining: 1.09s\n",
      "344:\tlearn: 0.3239255\ttotal: 328ms\tremaining: 1.09s\n",
      "345:\tlearn: 0.3239190\ttotal: 329ms\tremaining: 1.09s\n",
      "346:\tlearn: 0.3239104\ttotal: 330ms\tremaining: 1.09s\n",
      "347:\tlearn: 0.3239010\ttotal: 331ms\tremaining: 1.09s\n",
      "348:\tlearn: 0.3238950\ttotal: 332ms\tremaining: 1.09s\n",
      "349:\tlearn: 0.3238883\ttotal: 333ms\tremaining: 1.09s\n",
      "350:\tlearn: 0.3238468\ttotal: 334ms\tremaining: 1.09s\n",
      "351:\tlearn: 0.3235049\ttotal: 335ms\tremaining: 1.09s\n",
      "352:\tlearn: 0.3234992\ttotal: 336ms\tremaining: 1.09s\n",
      "353:\tlearn: 0.3232519\ttotal: 337ms\tremaining: 1.09s\n",
      "354:\tlearn: 0.3232461\ttotal: 338ms\tremaining: 1.08s\n",
      "355:\tlearn: 0.3232387\ttotal: 339ms\tremaining: 1.08s\n",
      "356:\tlearn: 0.3232326\ttotal: 340ms\tremaining: 1.08s\n",
      "357:\tlearn: 0.3232251\ttotal: 341ms\tremaining: 1.08s\n",
      "358:\tlearn: 0.3229349\ttotal: 342ms\tremaining: 1.08s\n",
      "359:\tlearn: 0.3225230\ttotal: 342ms\tremaining: 1.08s\n",
      "360:\tlearn: 0.3225173\ttotal: 343ms\tremaining: 1.08s\n",
      "361:\tlearn: 0.3221966\ttotal: 344ms\tremaining: 1.08s\n",
      "362:\tlearn: 0.3221885\ttotal: 346ms\tremaining: 1.08s\n",
      "363:\tlearn: 0.3219334\ttotal: 346ms\tremaining: 1.08s\n",
      "364:\tlearn: 0.3218973\ttotal: 347ms\tremaining: 1.08s\n",
      "365:\tlearn: 0.3218928\ttotal: 348ms\tremaining: 1.07s\n",
      "366:\tlearn: 0.3218533\ttotal: 349ms\tremaining: 1.07s\n",
      "367:\tlearn: 0.3218468\ttotal: 350ms\tremaining: 1.07s\n",
      "368:\tlearn: 0.3211826\ttotal: 351ms\tremaining: 1.07s\n",
      "369:\tlearn: 0.3211438\ttotal: 352ms\tremaining: 1.07s\n",
      "370:\tlearn: 0.3211382\ttotal: 354ms\tremaining: 1.07s\n",
      "371:\tlearn: 0.3211331\ttotal: 354ms\tremaining: 1.07s\n",
      "372:\tlearn: 0.3209493\ttotal: 355ms\tremaining: 1.07s\n",
      "373:\tlearn: 0.3209434\ttotal: 356ms\tremaining: 1.07s\n",
      "374:\tlearn: 0.3209388\ttotal: 357ms\tremaining: 1.07s\n",
      "375:\tlearn: 0.3208992\ttotal: 358ms\tremaining: 1.07s\n",
      "376:\tlearn: 0.3208943\ttotal: 359ms\tremaining: 1.06s\n",
      "377:\tlearn: 0.3208867\ttotal: 360ms\tremaining: 1.06s\n",
      "378:\tlearn: 0.3208815\ttotal: 361ms\tremaining: 1.06s\n",
      "379:\tlearn: 0.3208760\ttotal: 362ms\tremaining: 1.06s\n",
      "380:\tlearn: 0.3208700\ttotal: 363ms\tremaining: 1.06s\n",
      "381:\tlearn: 0.3208317\ttotal: 364ms\tremaining: 1.06s\n",
      "382:\tlearn: 0.3208268\ttotal: 365ms\tremaining: 1.06s\n",
      "383:\tlearn: 0.3202584\ttotal: 365ms\tremaining: 1.06s\n",
      "384:\tlearn: 0.3201912\ttotal: 366ms\tremaining: 1.06s\n",
      "385:\tlearn: 0.3201854\ttotal: 367ms\tremaining: 1.06s\n",
      "386:\tlearn: 0.3199502\ttotal: 368ms\tremaining: 1.05s\n",
      "387:\tlearn: 0.3199444\ttotal: 369ms\tremaining: 1.05s\n",
      "388:\tlearn: 0.3196283\ttotal: 370ms\tremaining: 1.05s\n",
      "389:\tlearn: 0.3196229\ttotal: 371ms\tremaining: 1.05s\n",
      "390:\tlearn: 0.3195198\ttotal: 372ms\tremaining: 1.05s\n",
      "391:\tlearn: 0.3195133\ttotal: 373ms\tremaining: 1.05s\n",
      "392:\tlearn: 0.3191927\ttotal: 374ms\tremaining: 1.05s\n",
      "393:\tlearn: 0.3191861\ttotal: 375ms\tremaining: 1.05s\n",
      "394:\tlearn: 0.3191790\ttotal: 376ms\tremaining: 1.05s\n",
      "395:\tlearn: 0.3189010\ttotal: 377ms\tremaining: 1.05s\n",
      "396:\tlearn: 0.3188961\ttotal: 378ms\tremaining: 1.05s\n",
      "397:\tlearn: 0.3188210\ttotal: 379ms\tremaining: 1.04s\n",
      "398:\tlearn: 0.3188175\ttotal: 380ms\tremaining: 1.04s\n",
      "399:\tlearn: 0.3187447\ttotal: 381ms\tremaining: 1.04s\n",
      "400:\tlearn: 0.3187134\ttotal: 382ms\tremaining: 1.04s\n",
      "401:\tlearn: 0.3187061\ttotal: 383ms\tremaining: 1.04s\n",
      "402:\tlearn: 0.3186961\ttotal: 383ms\tremaining: 1.04s\n",
      "403:\tlearn: 0.3183257\ttotal: 384ms\tremaining: 1.04s\n",
      "404:\tlearn: 0.3183208\ttotal: 385ms\tremaining: 1.04s\n",
      "405:\tlearn: 0.3178709\ttotal: 386ms\tremaining: 1.04s\n",
      "406:\tlearn: 0.3178655\ttotal: 387ms\tremaining: 1.04s\n",
      "407:\tlearn: 0.3178273\ttotal: 389ms\tremaining: 1.04s\n",
      "408:\tlearn: 0.3177871\ttotal: 390ms\tremaining: 1.04s\n",
      "409:\tlearn: 0.3177814\ttotal: 391ms\tremaining: 1.03s\n",
      "410:\tlearn: 0.3177764\ttotal: 392ms\tremaining: 1.03s\n",
      "411:\tlearn: 0.3177697\ttotal: 393ms\tremaining: 1.03s\n",
      "412:\tlearn: 0.3177656\ttotal: 394ms\tremaining: 1.03s\n",
      "413:\tlearn: 0.3176602\ttotal: 395ms\tremaining: 1.03s\n",
      "414:\tlearn: 0.3176539\ttotal: 396ms\tremaining: 1.03s\n",
      "415:\tlearn: 0.3173530\ttotal: 397ms\tremaining: 1.03s\n",
      "416:\tlearn: 0.3172409\ttotal: 398ms\tremaining: 1.03s\n",
      "417:\tlearn: 0.3172072\ttotal: 399ms\tremaining: 1.03s\n",
      "418:\tlearn: 0.3169941\ttotal: 400ms\tremaining: 1.03s\n",
      "419:\tlearn: 0.3169885\ttotal: 401ms\tremaining: 1.03s\n",
      "420:\tlearn: 0.3166492\ttotal: 401ms\tremaining: 1.02s\n",
      "421:\tlearn: 0.3165404\ttotal: 402ms\tremaining: 1.02s\n",
      "422:\tlearn: 0.3161622\ttotal: 403ms\tremaining: 1.02s\n",
      "423:\tlearn: 0.3161469\ttotal: 404ms\tremaining: 1.02s\n",
      "424:\tlearn: 0.3158751\ttotal: 405ms\tremaining: 1.02s\n",
      "425:\tlearn: 0.3156142\ttotal: 406ms\tremaining: 1.02s\n",
      "426:\tlearn: 0.3156097\ttotal: 407ms\tremaining: 1.02s\n",
      "427:\tlearn: 0.3153814\ttotal: 408ms\tremaining: 1.02s\n",
      "428:\tlearn: 0.3151703\ttotal: 408ms\tremaining: 1.01s\n",
      "429:\tlearn: 0.3145995\ttotal: 409ms\tremaining: 1.01s\n",
      "430:\tlearn: 0.3145637\ttotal: 410ms\tremaining: 1.01s\n",
      "431:\tlearn: 0.3145588\ttotal: 411ms\tremaining: 1.01s\n",
      "432:\tlearn: 0.3142670\ttotal: 412ms\tremaining: 1.01s\n",
      "433:\tlearn: 0.3140570\ttotal: 413ms\tremaining: 1.01s\n",
      "434:\tlearn: 0.3140497\ttotal: 414ms\tremaining: 1.01s\n",
      "435:\tlearn: 0.3140450\ttotal: 415ms\tremaining: 1.01s\n",
      "436:\tlearn: 0.3139368\ttotal: 416ms\tremaining: 1.01s\n",
      "437:\tlearn: 0.3139014\ttotal: 417ms\tremaining: 1.01s\n",
      "438:\tlearn: 0.3138665\ttotal: 418ms\tremaining: 1.01s\n",
      "439:\tlearn: 0.3138001\ttotal: 419ms\tremaining: 1.01s\n",
      "440:\tlearn: 0.3137962\ttotal: 420ms\tremaining: 1s\n",
      "441:\tlearn: 0.3137910\ttotal: 421ms\tremaining: 1s\n",
      "442:\tlearn: 0.3137650\ttotal: 422ms\tremaining: 1s\n",
      "443:\tlearn: 0.3137353\ttotal: 423ms\tremaining: 1s\n",
      "444:\tlearn: 0.3136517\ttotal: 424ms\tremaining: 1s\n",
      "445:\tlearn: 0.3136465\ttotal: 425ms\tremaining: 1000ms\n",
      "446:\tlearn: 0.3136420\ttotal: 426ms\tremaining: 999ms\n",
      "447:\tlearn: 0.3136376\ttotal: 426ms\tremaining: 998ms\n",
      "448:\tlearn: 0.3136315\ttotal: 428ms\tremaining: 997ms\n",
      "449:\tlearn: 0.3133688\ttotal: 429ms\tremaining: 996ms\n",
      "450:\tlearn: 0.3133625\ttotal: 430ms\tremaining: 995ms\n",
      "451:\tlearn: 0.3130843\ttotal: 430ms\tremaining: 994ms\n",
      "452:\tlearn: 0.3130497\ttotal: 431ms\tremaining: 993ms\n",
      "453:\tlearn: 0.3130442\ttotal: 432ms\tremaining: 992ms\n",
      "454:\tlearn: 0.3130400\ttotal: 433ms\tremaining: 991ms\n",
      "455:\tlearn: 0.3130327\ttotal: 434ms\tremaining: 990ms\n",
      "456:\tlearn: 0.3130284\ttotal: 435ms\tremaining: 989ms\n",
      "457:\tlearn: 0.3130235\ttotal: 436ms\tremaining: 988ms\n",
      "458:\tlearn: 0.3130193\ttotal: 437ms\tremaining: 987ms\n",
      "459:\tlearn: 0.3130138\ttotal: 437ms\tremaining: 985ms\n",
      "460:\tlearn: 0.3129820\ttotal: 438ms\tremaining: 984ms\n",
      "461:\tlearn: 0.3124634\ttotal: 439ms\tremaining: 983ms\n",
      "462:\tlearn: 0.3121136\ttotal: 440ms\tremaining: 982ms\n",
      "463:\tlearn: 0.3121083\ttotal: 441ms\tremaining: 981ms\n",
      "464:\tlearn: 0.3121039\ttotal: 442ms\tremaining: 980ms\n",
      "465:\tlearn: 0.3120977\ttotal: 443ms\tremaining: 979ms\n",
      "466:\tlearn: 0.3120935\ttotal: 444ms\tremaining: 978ms\n",
      "467:\tlearn: 0.3119932\ttotal: 445ms\tremaining: 977ms\n",
      "468:\tlearn: 0.3119590\ttotal: 446ms\tremaining: 976ms\n",
      "469:\tlearn: 0.3117127\ttotal: 447ms\tremaining: 975ms\n",
      "470:\tlearn: 0.3117077\ttotal: 448ms\tremaining: 974ms\n",
      "471:\tlearn: 0.3114307\ttotal: 449ms\tremaining: 974ms\n",
      "472:\tlearn: 0.3114265\ttotal: 450ms\tremaining: 972ms\n",
      "473:\tlearn: 0.3109566\ttotal: 451ms\tremaining: 972ms\n",
      "474:\tlearn: 0.3108658\ttotal: 452ms\tremaining: 971ms\n",
      "475:\tlearn: 0.3107659\ttotal: 453ms\tremaining: 970ms\n",
      "476:\tlearn: 0.3107435\ttotal: 454ms\tremaining: 969ms\n",
      "477:\tlearn: 0.3107388\ttotal: 454ms\tremaining: 968ms\n",
      "478:\tlearn: 0.3107050\ttotal: 455ms\tremaining: 966ms\n",
      "479:\tlearn: 0.3106997\ttotal: 456ms\tremaining: 965ms\n",
      "480:\tlearn: 0.3101825\ttotal: 457ms\tremaining: 964ms\n",
      "481:\tlearn: 0.3099283\ttotal: 458ms\tremaining: 963ms\n",
      "482:\tlearn: 0.3099242\ttotal: 458ms\tremaining: 961ms\n",
      "483:\tlearn: 0.3099196\ttotal: 459ms\tremaining: 960ms\n",
      "484:\tlearn: 0.3098616\ttotal: 460ms\tremaining: 959ms\n",
      "485:\tlearn: 0.3096423\ttotal: 461ms\tremaining: 957ms\n",
      "486:\tlearn: 0.3093509\ttotal: 462ms\tremaining: 957ms\n",
      "487:\tlearn: 0.3093173\ttotal: 463ms\tremaining: 956ms\n",
      "488:\tlearn: 0.3090656\ttotal: 464ms\tremaining: 955ms\n",
      "489:\tlearn: 0.3090613\ttotal: 465ms\tremaining: 954ms\n",
      "490:\tlearn: 0.3090571\ttotal: 465ms\tremaining: 953ms\n",
      "491:\tlearn: 0.3090534\ttotal: 466ms\tremaining: 952ms\n",
      "492:\tlearn: 0.3087020\ttotal: 467ms\tremaining: 951ms\n",
      "493:\tlearn: 0.3086983\ttotal: 468ms\tremaining: 949ms\n",
      "494:\tlearn: 0.3086939\ttotal: 469ms\tremaining: 949ms\n",
      "495:\tlearn: 0.3086662\ttotal: 470ms\tremaining: 948ms\n",
      "496:\tlearn: 0.3084261\ttotal: 471ms\tremaining: 947ms\n",
      "497:\tlearn: 0.3083930\ttotal: 472ms\tremaining: 945ms\n",
      "498:\tlearn: 0.3079115\ttotal: 473ms\tremaining: 944ms\n",
      "499:\tlearn: 0.3076714\ttotal: 474ms\tremaining: 944ms\n",
      "500:\tlearn: 0.3076675\ttotal: 475ms\tremaining: 943ms\n",
      "501:\tlearn: 0.3075666\ttotal: 476ms\tremaining: 942ms\n",
      "502:\tlearn: 0.3075613\ttotal: 476ms\tremaining: 941ms\n",
      "503:\tlearn: 0.3075574\ttotal: 477ms\tremaining: 940ms\n",
      "504:\tlearn: 0.3075528\ttotal: 478ms\tremaining: 939ms\n",
      "505:\tlearn: 0.3075485\ttotal: 479ms\tremaining: 938ms\n",
      "506:\tlearn: 0.3073830\ttotal: 480ms\tremaining: 937ms\n",
      "507:\tlearn: 0.3073775\ttotal: 481ms\tremaining: 936ms\n",
      "508:\tlearn: 0.3073445\ttotal: 482ms\tremaining: 935ms\n",
      "509:\tlearn: 0.3073407\ttotal: 483ms\tremaining: 934ms\n",
      "510:\tlearn: 0.3073355\ttotal: 484ms\tremaining: 933ms\n",
      "511:\tlearn: 0.3071181\ttotal: 485ms\tremaining: 932ms\n",
      "512:\tlearn: 0.3071138\ttotal: 486ms\tremaining: 931ms\n",
      "513:\tlearn: 0.3071067\ttotal: 487ms\tremaining: 931ms\n",
      "514:\tlearn: 0.3068670\ttotal: 488ms\tremaining: 930ms\n",
      "515:\tlearn: 0.3065769\ttotal: 489ms\tremaining: 929ms\n",
      "516:\tlearn: 0.3061302\ttotal: 490ms\tremaining: 928ms\n",
      "517:\tlearn: 0.3061250\ttotal: 491ms\tremaining: 927ms\n",
      "518:\tlearn: 0.3061214\ttotal: 492ms\tremaining: 927ms\n",
      "519:\tlearn: 0.3061173\ttotal: 493ms\tremaining: 926ms\n",
      "520:\tlearn: 0.3061122\ttotal: 494ms\tremaining: 925ms\n",
      "521:\tlearn: 0.3061085\ttotal: 495ms\tremaining: 924ms\n",
      "522:\tlearn: 0.3061036\ttotal: 496ms\tremaining: 924ms\n",
      "523:\tlearn: 0.3060142\ttotal: 498ms\tremaining: 923ms\n",
      "524:\tlearn: 0.3060108\ttotal: 499ms\tremaining: 922ms\n",
      "525:\tlearn: 0.3060073\ttotal: 500ms\tremaining: 921ms\n",
      "526:\tlearn: 0.3058309\ttotal: 501ms\tremaining: 921ms\n",
      "527:\tlearn: 0.3058273\ttotal: 502ms\tremaining: 920ms\n",
      "528:\tlearn: 0.3054969\ttotal: 503ms\tremaining: 919ms\n",
      "529:\tlearn: 0.3054931\ttotal: 504ms\tremaining: 919ms\n",
      "530:\tlearn: 0.3052733\ttotal: 505ms\tremaining: 918ms\n",
      "531:\tlearn: 0.3052701\ttotal: 506ms\tremaining: 916ms\n",
      "532:\tlearn: 0.3052673\ttotal: 507ms\tremaining: 916ms\n",
      "533:\tlearn: 0.3052628\ttotal: 508ms\tremaining: 915ms\n",
      "534:\tlearn: 0.3049577\ttotal: 509ms\tremaining: 914ms\n",
      "535:\tlearn: 0.3049249\ttotal: 510ms\tremaining: 913ms\n",
      "536:\tlearn: 0.3049212\ttotal: 511ms\tremaining: 912ms\n",
      "537:\tlearn: 0.3047770\ttotal: 512ms\tremaining: 911ms\n",
      "538:\tlearn: 0.3047283\ttotal: 513ms\tremaining: 911ms\n",
      "539:\tlearn: 0.3044313\ttotal: 514ms\tremaining: 910ms\n",
      "540:\tlearn: 0.3041793\ttotal: 515ms\tremaining: 909ms\n",
      "541:\tlearn: 0.3041747\ttotal: 516ms\tremaining: 908ms\n",
      "542:\tlearn: 0.3041709\ttotal: 517ms\tremaining: 907ms\n",
      "543:\tlearn: 0.3041677\ttotal: 517ms\tremaining: 906ms\n",
      "544:\tlearn: 0.3040705\ttotal: 518ms\tremaining: 905ms\n",
      "545:\tlearn: 0.3039327\ttotal: 519ms\tremaining: 904ms\n",
      "546:\tlearn: 0.3039290\ttotal: 520ms\tremaining: 903ms\n",
      "547:\tlearn: 0.3039247\ttotal: 521ms\tremaining: 902ms\n",
      "548:\tlearn: 0.3039202\ttotal: 522ms\tremaining: 901ms\n",
      "549:\tlearn: 0.3039167\ttotal: 523ms\tremaining: 900ms\n",
      "550:\tlearn: 0.3038903\ttotal: 524ms\tremaining: 899ms\n",
      "551:\tlearn: 0.3035468\ttotal: 525ms\tremaining: 898ms\n",
      "552:\tlearn: 0.3034532\ttotal: 526ms\tremaining: 897ms\n",
      "553:\tlearn: 0.3034502\ttotal: 527ms\tremaining: 896ms\n",
      "554:\tlearn: 0.3034465\ttotal: 528ms\tremaining: 895ms\n",
      "555:\tlearn: 0.3034148\ttotal: 529ms\tremaining: 894ms\n",
      "556:\tlearn: 0.3034101\ttotal: 530ms\tremaining: 893ms\n",
      "557:\tlearn: 0.3032506\ttotal: 531ms\tremaining: 892ms\n",
      "558:\tlearn: 0.3032471\ttotal: 532ms\tremaining: 891ms\n",
      "559:\tlearn: 0.3030507\ttotal: 533ms\tremaining: 890ms\n",
      "560:\tlearn: 0.3028425\ttotal: 533ms\tremaining: 889ms\n",
      "561:\tlearn: 0.3026352\ttotal: 534ms\tremaining: 888ms\n",
      "562:\tlearn: 0.3026024\ttotal: 535ms\tremaining: 887ms\n",
      "563:\tlearn: 0.3024016\ttotal: 536ms\tremaining: 886ms\n",
      "564:\tlearn: 0.3023978\ttotal: 537ms\tremaining: 886ms\n",
      "565:\tlearn: 0.3023665\ttotal: 538ms\tremaining: 885ms\n",
      "566:\tlearn: 0.3022073\ttotal: 539ms\tremaining: 884ms\n",
      "567:\tlearn: 0.3021903\ttotal: 540ms\tremaining: 883ms\n",
      "568:\tlearn: 0.3020022\ttotal: 541ms\tremaining: 882ms\n",
      "569:\tlearn: 0.3019990\ttotal: 542ms\tremaining: 881ms\n",
      "570:\tlearn: 0.3019961\ttotal: 543ms\tremaining: 879ms\n",
      "571:\tlearn: 0.3019915\ttotal: 544ms\tremaining: 878ms\n",
      "572:\tlearn: 0.3019871\ttotal: 545ms\tremaining: 877ms\n",
      "573:\tlearn: 0.3019560\ttotal: 546ms\tremaining: 876ms\n",
      "574:\tlearn: 0.3019532\ttotal: 546ms\tremaining: 875ms\n",
      "575:\tlearn: 0.3019224\ttotal: 547ms\tremaining: 874ms\n",
      "576:\tlearn: 0.3017065\ttotal: 548ms\tremaining: 873ms\n",
      "577:\tlearn: 0.3015414\ttotal: 549ms\tremaining: 872ms\n",
      "578:\tlearn: 0.3015385\ttotal: 550ms\tremaining: 872ms\n",
      "579:\tlearn: 0.3015354\ttotal: 551ms\tremaining: 871ms\n",
      "580:\tlearn: 0.3014614\ttotal: 552ms\tremaining: 870ms\n",
      "581:\tlearn: 0.3011342\ttotal: 553ms\tremaining: 869ms\n",
      "582:\tlearn: 0.3011304\ttotal: 554ms\tremaining: 868ms\n",
      "583:\tlearn: 0.3007116\ttotal: 555ms\tremaining: 867ms\n",
      "584:\tlearn: 0.3007067\ttotal: 556ms\tremaining: 866ms\n",
      "585:\tlearn: 0.3003983\ttotal: 557ms\tremaining: 865ms\n",
      "586:\tlearn: 0.3003849\ttotal: 558ms\tremaining: 864ms\n",
      "587:\tlearn: 0.3001835\ttotal: 559ms\tremaining: 863ms\n",
      "588:\tlearn: 0.3001803\ttotal: 560ms\tremaining: 862ms\n",
      "589:\tlearn: 0.3001761\ttotal: 561ms\tremaining: 861ms\n",
      "590:\tlearn: 0.3001462\ttotal: 561ms\tremaining: 860ms\n",
      "591:\tlearn: 0.3001434\ttotal: 562ms\tremaining: 858ms\n",
      "592:\tlearn: 0.3001407\ttotal: 563ms\tremaining: 857ms\n",
      "593:\tlearn: 0.3001377\ttotal: 564ms\tremaining: 856ms\n",
      "594:\tlearn: 0.2998603\ttotal: 565ms\tremaining: 855ms\n",
      "595:\tlearn: 0.2998577\ttotal: 566ms\tremaining: 855ms\n",
      "596:\tlearn: 0.2998535\ttotal: 567ms\tremaining: 854ms\n",
      "597:\tlearn: 0.2996222\ttotal: 568ms\tremaining: 852ms\n",
      "598:\tlearn: 0.2996184\ttotal: 568ms\tremaining: 851ms\n",
      "599:\tlearn: 0.2996154\ttotal: 569ms\tremaining: 850ms\n",
      "600:\tlearn: 0.2996126\ttotal: 570ms\tremaining: 849ms\n",
      "601:\tlearn: 0.2996094\ttotal: 571ms\tremaining: 848ms\n",
      "602:\tlearn: 0.2994379\ttotal: 572ms\tremaining: 847ms\n",
      "603:\tlearn: 0.2991367\ttotal: 573ms\tremaining: 846ms\n",
      "604:\tlearn: 0.2990902\ttotal: 574ms\tremaining: 845ms\n",
      "605:\tlearn: 0.2990279\ttotal: 575ms\tremaining: 844ms\n",
      "606:\tlearn: 0.2990010\ttotal: 576ms\tremaining: 843ms\n",
      "607:\tlearn: 0.2987798\ttotal: 577ms\tremaining: 842ms\n",
      "608:\tlearn: 0.2987773\ttotal: 578ms\tremaining: 842ms\n",
      "609:\tlearn: 0.2987738\ttotal: 579ms\tremaining: 841ms\n",
      "610:\tlearn: 0.2987693\ttotal: 580ms\tremaining: 840ms\n",
      "611:\tlearn: 0.2987395\ttotal: 581ms\tremaining: 839ms\n",
      "612:\tlearn: 0.2984465\ttotal: 582ms\tremaining: 839ms\n",
      "613:\tlearn: 0.2984435\ttotal: 583ms\tremaining: 838ms\n",
      "614:\tlearn: 0.2984397\ttotal: 584ms\tremaining: 837ms\n",
      "615:\tlearn: 0.2984365\ttotal: 585ms\tremaining: 836ms\n",
      "616:\tlearn: 0.2984337\ttotal: 586ms\tremaining: 835ms\n",
      "617:\tlearn: 0.2984312\ttotal: 587ms\tremaining: 834ms\n",
      "618:\tlearn: 0.2984280\ttotal: 588ms\tremaining: 833ms\n",
      "619:\tlearn: 0.2981718\ttotal: 589ms\tremaining: 832ms\n",
      "620:\tlearn: 0.2981688\ttotal: 589ms\tremaining: 831ms\n",
      "621:\tlearn: 0.2979385\ttotal: 590ms\tremaining: 830ms\n",
      "622:\tlearn: 0.2979359\ttotal: 591ms\tremaining: 828ms\n",
      "623:\tlearn: 0.2979066\ttotal: 592ms\tremaining: 827ms\n",
      "624:\tlearn: 0.2979035\ttotal: 593ms\tremaining: 826ms\n",
      "625:\tlearn: 0.2976520\ttotal: 594ms\tremaining: 826ms\n",
      "626:\tlearn: 0.2976259\ttotal: 595ms\tremaining: 825ms\n",
      "627:\tlearn: 0.2975325\ttotal: 596ms\tremaining: 824ms\n",
      "628:\tlearn: 0.2973673\ttotal: 597ms\tremaining: 823ms\n",
      "629:\tlearn: 0.2973384\ttotal: 598ms\tremaining: 822ms\n",
      "630:\tlearn: 0.2971094\ttotal: 599ms\tremaining: 821ms\n",
      "631:\tlearn: 0.2970823\ttotal: 600ms\tremaining: 820ms\n",
      "632:\tlearn: 0.2968857\ttotal: 601ms\tremaining: 819ms\n",
      "633:\tlearn: 0.2968830\ttotal: 602ms\tremaining: 818ms\n",
      "634:\tlearn: 0.2968795\ttotal: 603ms\tremaining: 817ms\n",
      "635:\tlearn: 0.2968765\ttotal: 604ms\tremaining: 816ms\n",
      "636:\tlearn: 0.2968731\ttotal: 605ms\tremaining: 816ms\n",
      "637:\tlearn: 0.2968700\ttotal: 606ms\tremaining: 814ms\n",
      "638:\tlearn: 0.2968517\ttotal: 607ms\tremaining: 814ms\n",
      "639:\tlearn: 0.2968052\ttotal: 607ms\tremaining: 813ms\n",
      "640:\tlearn: 0.2964159\ttotal: 608ms\tremaining: 811ms\n",
      "641:\tlearn: 0.2963870\ttotal: 609ms\tremaining: 811ms\n",
      "642:\tlearn: 0.2960279\ttotal: 610ms\tremaining: 810ms\n",
      "643:\tlearn: 0.2958232\ttotal: 611ms\tremaining: 809ms\n",
      "644:\tlearn: 0.2958206\ttotal: 612ms\tremaining: 808ms\n",
      "645:\tlearn: 0.2958175\ttotal: 613ms\tremaining: 807ms\n",
      "646:\tlearn: 0.2957395\ttotal: 614ms\tremaining: 806ms\n",
      "647:\tlearn: 0.2957149\ttotal: 615ms\tremaining: 805ms\n",
      "648:\tlearn: 0.2954560\ttotal: 616ms\tremaining: 804ms\n",
      "649:\tlearn: 0.2953717\ttotal: 617ms\tremaining: 803ms\n",
      "650:\tlearn: 0.2952990\ttotal: 618ms\tremaining: 802ms\n",
      "651:\tlearn: 0.2952862\ttotal: 619ms\tremaining: 801ms\n",
      "652:\tlearn: 0.2952578\ttotal: 620ms\tremaining: 800ms\n",
      "653:\tlearn: 0.2951314\ttotal: 621ms\tremaining: 799ms\n",
      "654:\tlearn: 0.2951030\ttotal: 621ms\tremaining: 798ms\n",
      "655:\tlearn: 0.2949469\ttotal: 622ms\tremaining: 797ms\n",
      "656:\tlearn: 0.2949443\ttotal: 624ms\tremaining: 796ms\n",
      "657:\tlearn: 0.2946631\ttotal: 625ms\tremaining: 796ms\n",
      "658:\tlearn: 0.2946605\ttotal: 626ms\tremaining: 795ms\n",
      "659:\tlearn: 0.2945838\ttotal: 627ms\tremaining: 794ms\n",
      "660:\tlearn: 0.2945810\ttotal: 628ms\tremaining: 793ms\n",
      "661:\tlearn: 0.2945582\ttotal: 629ms\tremaining: 792ms\n",
      "662:\tlearn: 0.2943406\ttotal: 630ms\tremaining: 791ms\n",
      "663:\tlearn: 0.2940718\ttotal: 631ms\tremaining: 791ms\n",
      "664:\tlearn: 0.2940440\ttotal: 632ms\tremaining: 789ms\n",
      "665:\tlearn: 0.2939666\ttotal: 633ms\tremaining: 789ms\n",
      "666:\tlearn: 0.2938962\ttotal: 634ms\tremaining: 788ms\n",
      "667:\tlearn: 0.2938920\ttotal: 635ms\tremaining: 787ms\n",
      "668:\tlearn: 0.2938890\ttotal: 636ms\tremaining: 786ms\n",
      "669:\tlearn: 0.2936319\ttotal: 637ms\tremaining: 785ms\n",
      "670:\tlearn: 0.2936297\ttotal: 637ms\tremaining: 784ms\n",
      "671:\tlearn: 0.2933780\ttotal: 638ms\tremaining: 783ms\n",
      "672:\tlearn: 0.2931163\ttotal: 639ms\tremaining: 782ms\n",
      "673:\tlearn: 0.2931133\ttotal: 640ms\tremaining: 781ms\n",
      "674:\tlearn: 0.2931110\ttotal: 641ms\tremaining: 780ms\n",
      "675:\tlearn: 0.2931088\ttotal: 642ms\tremaining: 779ms\n",
      "676:\tlearn: 0.2928631\ttotal: 643ms\tremaining: 778ms\n",
      "677:\tlearn: 0.2928603\ttotal: 644ms\tremaining: 777ms\n",
      "678:\tlearn: 0.2925877\ttotal: 645ms\tremaining: 777ms\n",
      "679:\tlearn: 0.2925852\ttotal: 646ms\tremaining: 776ms\n",
      "680:\tlearn: 0.2923953\ttotal: 647ms\tremaining: 775ms\n",
      "681:\tlearn: 0.2923935\ttotal: 648ms\tremaining: 774ms\n",
      "682:\tlearn: 0.2921720\ttotal: 649ms\tremaining: 773ms\n",
      "683:\tlearn: 0.2919389\ttotal: 650ms\tremaining: 772ms\n",
      "684:\tlearn: 0.2917889\ttotal: 651ms\tremaining: 771ms\n",
      "685:\tlearn: 0.2917221\ttotal: 652ms\tremaining: 770ms\n",
      "686:\tlearn: 0.2916269\ttotal: 653ms\tremaining: 769ms\n",
      "687:\tlearn: 0.2914208\ttotal: 654ms\tremaining: 768ms\n",
      "688:\tlearn: 0.2910850\ttotal: 655ms\tremaining: 767ms\n",
      "689:\tlearn: 0.2908594\ttotal: 656ms\tremaining: 766ms\n",
      "690:\tlearn: 0.2908321\ttotal: 656ms\tremaining: 765ms\n",
      "691:\tlearn: 0.2908296\ttotal: 657ms\tremaining: 764ms\n",
      "692:\tlearn: 0.2908274\ttotal: 658ms\tremaining: 763ms\n",
      "693:\tlearn: 0.2908249\ttotal: 659ms\tremaining: 762ms\n",
      "694:\tlearn: 0.2908230\ttotal: 660ms\tremaining: 761ms\n",
      "695:\tlearn: 0.2907211\ttotal: 661ms\tremaining: 760ms\n",
      "696:\tlearn: 0.2907186\ttotal: 662ms\tremaining: 759ms\n",
      "697:\tlearn: 0.2907165\ttotal: 663ms\tremaining: 758ms\n",
      "698:\tlearn: 0.2906932\ttotal: 664ms\tremaining: 757ms\n",
      "699:\tlearn: 0.2905435\ttotal: 665ms\tremaining: 756ms\n",
      "700:\tlearn: 0.2903484\ttotal: 666ms\tremaining: 755ms\n",
      "701:\tlearn: 0.2903459\ttotal: 667ms\tremaining: 754ms\n",
      "702:\tlearn: 0.2903434\ttotal: 668ms\tremaining: 753ms\n",
      "703:\tlearn: 0.2903409\ttotal: 669ms\tremaining: 752ms\n",
      "704:\tlearn: 0.2903138\ttotal: 670ms\tremaining: 751ms\n",
      "705:\tlearn: 0.2902870\ttotal: 670ms\tremaining: 750ms\n",
      "706:\tlearn: 0.2902845\ttotal: 671ms\tremaining: 749ms\n",
      "707:\tlearn: 0.2901395\ttotal: 672ms\tremaining: 748ms\n",
      "708:\tlearn: 0.2899104\ttotal: 673ms\tremaining: 747ms\n",
      "709:\tlearn: 0.2898536\ttotal: 674ms\tremaining: 746ms\n",
      "710:\tlearn: 0.2898273\ttotal: 675ms\tremaining: 746ms\n",
      "711:\tlearn: 0.2897774\ttotal: 676ms\tremaining: 745ms\n",
      "712:\tlearn: 0.2895484\ttotal: 677ms\tremaining: 744ms\n",
      "713:\tlearn: 0.2895025\ttotal: 678ms\tremaining: 743ms\n",
      "714:\tlearn: 0.2894029\ttotal: 679ms\tremaining: 742ms\n",
      "715:\tlearn: 0.2890869\ttotal: 680ms\tremaining: 741ms\n",
      "716:\tlearn: 0.2888852\ttotal: 681ms\tremaining: 740ms\n",
      "717:\tlearn: 0.2888816\ttotal: 682ms\tremaining: 739ms\n",
      "718:\tlearn: 0.2887840\ttotal: 683ms\tremaining: 738ms\n",
      "719:\tlearn: 0.2885458\ttotal: 684ms\tremaining: 737ms\n",
      "720:\tlearn: 0.2885434\ttotal: 685ms\tremaining: 736ms\n",
      "721:\tlearn: 0.2885410\ttotal: 686ms\tremaining: 735ms\n",
      "722:\tlearn: 0.2883704\ttotal: 687ms\tremaining: 734ms\n",
      "723:\tlearn: 0.2883610\ttotal: 688ms\tremaining: 733ms\n",
      "724:\tlearn: 0.2881173\ttotal: 689ms\tremaining: 732ms\n",
      "725:\tlearn: 0.2881148\ttotal: 690ms\tremaining: 731ms\n",
      "726:\tlearn: 0.2881121\ttotal: 690ms\tremaining: 730ms\n",
      "727:\tlearn: 0.2881101\ttotal: 691ms\tremaining: 729ms\n",
      "728:\tlearn: 0.2881077\ttotal: 692ms\tremaining: 728ms\n",
      "729:\tlearn: 0.2881053\ttotal: 693ms\tremaining: 727ms\n",
      "730:\tlearn: 0.2880790\ttotal: 694ms\tremaining: 726ms\n",
      "731:\tlearn: 0.2880762\ttotal: 695ms\tremaining: 725ms\n",
      "732:\tlearn: 0.2878282\ttotal: 696ms\tremaining: 725ms\n",
      "733:\tlearn: 0.2878059\ttotal: 697ms\tremaining: 724ms\n",
      "734:\tlearn: 0.2876782\ttotal: 698ms\tremaining: 723ms\n",
      "735:\tlearn: 0.2876767\ttotal: 699ms\tremaining: 721ms\n",
      "736:\tlearn: 0.2875146\ttotal: 700ms\tremaining: 720ms\n",
      "737:\tlearn: 0.2874997\ttotal: 700ms\tremaining: 719ms\n",
      "738:\tlearn: 0.2874726\ttotal: 701ms\tremaining: 719ms\n",
      "739:\tlearn: 0.2874628\ttotal: 702ms\tremaining: 718ms\n",
      "740:\tlearn: 0.2874369\ttotal: 703ms\tremaining: 717ms\n",
      "741:\tlearn: 0.2872522\ttotal: 704ms\tremaining: 716ms\n",
      "742:\tlearn: 0.2872305\ttotal: 705ms\tremaining: 715ms\n",
      "743:\tlearn: 0.2870198\ttotal: 706ms\tremaining: 714ms\n",
      "744:\tlearn: 0.2869945\ttotal: 707ms\tremaining: 713ms\n",
      "745:\tlearn: 0.2869313\ttotal: 708ms\tremaining: 712ms\n",
      "746:\tlearn: 0.2867035\ttotal: 709ms\tremaining: 711ms\n",
      "747:\tlearn: 0.2865167\ttotal: 710ms\tremaining: 710ms\n",
      "748:\tlearn: 0.2864638\ttotal: 711ms\tremaining: 709ms\n",
      "749:\tlearn: 0.2864078\ttotal: 712ms\tremaining: 708ms\n",
      "750:\tlearn: 0.2862632\ttotal: 713ms\tremaining: 708ms\n",
      "751:\tlearn: 0.2861692\ttotal: 714ms\tremaining: 707ms\n",
      "752:\tlearn: 0.2861440\ttotal: 715ms\tremaining: 706ms\n",
      "753:\tlearn: 0.2860905\ttotal: 716ms\tremaining: 705ms\n",
      "754:\tlearn: 0.2860135\ttotal: 717ms\tremaining: 704ms\n",
      "755:\tlearn: 0.2859535\ttotal: 718ms\tremaining: 703ms\n",
      "756:\tlearn: 0.2859005\ttotal: 719ms\tremaining: 702ms\n",
      "757:\tlearn: 0.2858987\ttotal: 720ms\tremaining: 701ms\n",
      "758:\tlearn: 0.2858761\ttotal: 721ms\tremaining: 700ms\n",
      "759:\tlearn: 0.2858678\ttotal: 722ms\tremaining: 699ms\n",
      "760:\tlearn: 0.2858286\ttotal: 723ms\tremaining: 698ms\n",
      "761:\tlearn: 0.2858021\ttotal: 724ms\tremaining: 697ms\n",
      "762:\tlearn: 0.2856362\ttotal: 725ms\tremaining: 696ms\n",
      "763:\tlearn: 0.2856342\ttotal: 726ms\tremaining: 695ms\n",
      "764:\tlearn: 0.2855183\ttotal: 726ms\tremaining: 694ms\n",
      "765:\tlearn: 0.2855166\ttotal: 727ms\tremaining: 693ms\n",
      "766:\tlearn: 0.2854921\ttotal: 728ms\tremaining: 692ms\n",
      "767:\tlearn: 0.2854903\ttotal: 729ms\tremaining: 691ms\n",
      "768:\tlearn: 0.2854728\ttotal: 730ms\tremaining: 690ms\n",
      "769:\tlearn: 0.2854194\ttotal: 731ms\tremaining: 689ms\n",
      "770:\tlearn: 0.2854179\ttotal: 732ms\tremaining: 688ms\n",
      "771:\tlearn: 0.2853939\ttotal: 733ms\tremaining: 687ms\n",
      "772:\tlearn: 0.2853924\ttotal: 734ms\tremaining: 686ms\n",
      "773:\tlearn: 0.2852080\ttotal: 735ms\tremaining: 685ms\n",
      "774:\tlearn: 0.2852053\ttotal: 736ms\tremaining: 684ms\n",
      "775:\tlearn: 0.2852029\ttotal: 737ms\tremaining: 684ms\n",
      "776:\tlearn: 0.2851895\ttotal: 738ms\tremaining: 683ms\n",
      "777:\tlearn: 0.2851870\ttotal: 739ms\tremaining: 682ms\n",
      "778:\tlearn: 0.2851395\ttotal: 740ms\tremaining: 681ms\n",
      "779:\tlearn: 0.2850570\ttotal: 741ms\tremaining: 680ms\n",
      "780:\tlearn: 0.2848680\ttotal: 742ms\tremaining: 680ms\n",
      "781:\tlearn: 0.2848660\ttotal: 743ms\tremaining: 679ms\n",
      "782:\tlearn: 0.2846449\ttotal: 744ms\tremaining: 678ms\n",
      "783:\tlearn: 0.2846421\ttotal: 745ms\tremaining: 677ms\n",
      "784:\tlearn: 0.2846178\ttotal: 746ms\tremaining: 676ms\n",
      "785:\tlearn: 0.2844534\ttotal: 747ms\tremaining: 675ms\n",
      "786:\tlearn: 0.2842890\ttotal: 748ms\tremaining: 674ms\n",
      "787:\tlearn: 0.2841220\ttotal: 749ms\tremaining: 673ms\n",
      "788:\tlearn: 0.2839678\ttotal: 750ms\tremaining: 672ms\n",
      "789:\tlearn: 0.2837801\ttotal: 751ms\tremaining: 671ms\n",
      "790:\tlearn: 0.2835120\ttotal: 752ms\tremaining: 670ms\n",
      "791:\tlearn: 0.2834640\ttotal: 753ms\tremaining: 669ms\n",
      "792:\tlearn: 0.2833246\ttotal: 753ms\tremaining: 668ms\n",
      "793:\tlearn: 0.2833225\ttotal: 754ms\tremaining: 667ms\n",
      "794:\tlearn: 0.2833208\ttotal: 755ms\tremaining: 666ms\n",
      "795:\tlearn: 0.2833194\ttotal: 756ms\tremaining: 665ms\n",
      "796:\tlearn: 0.2833174\ttotal: 757ms\tremaining: 664ms\n",
      "797:\tlearn: 0.2833097\ttotal: 758ms\tremaining: 663ms\n",
      "798:\tlearn: 0.2832633\ttotal: 759ms\tremaining: 662ms\n",
      "799:\tlearn: 0.2830553\ttotal: 760ms\tremaining: 661ms\n",
      "800:\tlearn: 0.2828229\ttotal: 761ms\tremaining: 660ms\n",
      "801:\tlearn: 0.2827669\ttotal: 762ms\tremaining: 659ms\n",
      "802:\tlearn: 0.2826369\ttotal: 763ms\tremaining: 658ms\n",
      "803:\tlearn: 0.2826179\ttotal: 764ms\tremaining: 657ms\n",
      "804:\tlearn: 0.2825974\ttotal: 765ms\tremaining: 656ms\n",
      "805:\tlearn: 0.2824236\ttotal: 765ms\tremaining: 655ms\n",
      "806:\tlearn: 0.2824007\ttotal: 766ms\tremaining: 654ms\n",
      "807:\tlearn: 0.2821895\ttotal: 767ms\tremaining: 653ms\n",
      "808:\tlearn: 0.2821688\ttotal: 768ms\tremaining: 652ms\n",
      "809:\tlearn: 0.2821669\ttotal: 769ms\tremaining: 651ms\n",
      "810:\tlearn: 0.2821439\ttotal: 770ms\tremaining: 651ms\n",
      "811:\tlearn: 0.2820516\ttotal: 772ms\tremaining: 650ms\n",
      "812:\tlearn: 0.2820273\ttotal: 773ms\tremaining: 649ms\n",
      "813:\tlearn: 0.2820049\ttotal: 774ms\tremaining: 648ms\n",
      "814:\tlearn: 0.2820033\ttotal: 775ms\tremaining: 647ms\n",
      "815:\tlearn: 0.2818423\ttotal: 776ms\tremaining: 646ms\n",
      "816:\tlearn: 0.2818407\ttotal: 777ms\tremaining: 646ms\n",
      "817:\tlearn: 0.2818170\ttotal: 778ms\tremaining: 645ms\n",
      "818:\tlearn: 0.2818074\ttotal: 779ms\tremaining: 644ms\n",
      "819:\tlearn: 0.2817854\ttotal: 780ms\tremaining: 643ms\n",
      "820:\tlearn: 0.2815849\ttotal: 780ms\tremaining: 642ms\n",
      "821:\tlearn: 0.2815066\ttotal: 781ms\tremaining: 641ms\n",
      "822:\tlearn: 0.2813061\ttotal: 782ms\tremaining: 640ms\n",
      "823:\tlearn: 0.2813043\ttotal: 783ms\tremaining: 639ms\n",
      "824:\tlearn: 0.2811968\ttotal: 784ms\tremaining: 638ms\n",
      "825:\tlearn: 0.2811951\ttotal: 785ms\tremaining: 637ms\n",
      "826:\tlearn: 0.2811935\ttotal: 786ms\tremaining: 636ms\n",
      "827:\tlearn: 0.2811328\ttotal: 788ms\tremaining: 635ms\n",
      "828:\tlearn: 0.2809747\ttotal: 789ms\tremaining: 634ms\n",
      "829:\tlearn: 0.2809719\ttotal: 789ms\tremaining: 633ms\n",
      "830:\tlearn: 0.2809704\ttotal: 790ms\tremaining: 633ms\n",
      "831:\tlearn: 0.2809686\ttotal: 791ms\tremaining: 632ms\n",
      "832:\tlearn: 0.2809168\ttotal: 792ms\tremaining: 631ms\n",
      "833:\tlearn: 0.2807270\ttotal: 793ms\tremaining: 630ms\n",
      "834:\tlearn: 0.2807045\ttotal: 794ms\tremaining: 629ms\n",
      "835:\tlearn: 0.2807014\ttotal: 795ms\tremaining: 628ms\n",
      "836:\tlearn: 0.2805668\ttotal: 796ms\tremaining: 627ms\n",
      "837:\tlearn: 0.2805444\ttotal: 797ms\tremaining: 626ms\n",
      "838:\tlearn: 0.2803207\ttotal: 798ms\tremaining: 625ms\n",
      "839:\tlearn: 0.2803190\ttotal: 799ms\tremaining: 624ms\n",
      "840:\tlearn: 0.2801731\ttotal: 800ms\tremaining: 623ms\n",
      "841:\tlearn: 0.2799070\ttotal: 801ms\tremaining: 622ms\n",
      "842:\tlearn: 0.2797099\ttotal: 802ms\tremaining: 621ms\n",
      "843:\tlearn: 0.2796225\ttotal: 803ms\tremaining: 620ms\n",
      "844:\tlearn: 0.2793584\ttotal: 804ms\tremaining: 620ms\n",
      "845:\tlearn: 0.2793570\ttotal: 805ms\tremaining: 619ms\n",
      "846:\tlearn: 0.2793448\ttotal: 806ms\tremaining: 618ms\n",
      "847:\tlearn: 0.2793396\ttotal: 807ms\tremaining: 617ms\n",
      "848:\tlearn: 0.2791550\ttotal: 808ms\tremaining: 616ms\n",
      "849:\tlearn: 0.2791522\ttotal: 809ms\tremaining: 615ms\n",
      "850:\tlearn: 0.2791021\ttotal: 810ms\tremaining: 614ms\n",
      "851:\tlearn: 0.2788771\ttotal: 811ms\tremaining: 613ms\n",
      "852:\tlearn: 0.2786900\ttotal: 812ms\tremaining: 612ms\n",
      "853:\tlearn: 0.2786887\ttotal: 813ms\tremaining: 611ms\n",
      "854:\tlearn: 0.2786871\ttotal: 814ms\tremaining: 610ms\n",
      "855:\tlearn: 0.2786850\ttotal: 815ms\tremaining: 609ms\n",
      "856:\tlearn: 0.2786087\ttotal: 816ms\tremaining: 608ms\n",
      "857:\tlearn: 0.2785643\ttotal: 817ms\tremaining: 608ms\n",
      "858:\tlearn: 0.2785627\ttotal: 818ms\tremaining: 607ms\n",
      "859:\tlearn: 0.2783107\ttotal: 819ms\tremaining: 606ms\n",
      "860:\tlearn: 0.2782706\ttotal: 820ms\tremaining: 605ms\n",
      "861:\tlearn: 0.2780891\ttotal: 821ms\tremaining: 604ms\n",
      "862:\tlearn: 0.2779505\ttotal: 822ms\tremaining: 603ms\n",
      "863:\tlearn: 0.2778012\ttotal: 823ms\tremaining: 602ms\n",
      "864:\tlearn: 0.2774689\ttotal: 824ms\tremaining: 601ms\n",
      "865:\tlearn: 0.2774676\ttotal: 825ms\tremaining: 600ms\n",
      "866:\tlearn: 0.2774603\ttotal: 826ms\tremaining: 599ms\n",
      "867:\tlearn: 0.2774592\ttotal: 827ms\tremaining: 598ms\n",
      "868:\tlearn: 0.2774573\ttotal: 828ms\tremaining: 597ms\n",
      "869:\tlearn: 0.2774453\ttotal: 829ms\tremaining: 596ms\n",
      "870:\tlearn: 0.2771515\ttotal: 829ms\tremaining: 595ms\n",
      "871:\tlearn: 0.2771332\ttotal: 830ms\tremaining: 594ms\n",
      "872:\tlearn: 0.2771112\ttotal: 832ms\tremaining: 593ms\n",
      "873:\tlearn: 0.2769382\ttotal: 833ms\tremaining: 593ms\n",
      "874:\tlearn: 0.2769371\ttotal: 834ms\tremaining: 592ms\n",
      "875:\tlearn: 0.2769148\ttotal: 834ms\tremaining: 591ms\n",
      "876:\tlearn: 0.2768955\ttotal: 835ms\tremaining: 590ms\n",
      "877:\tlearn: 0.2767418\ttotal: 836ms\tremaining: 589ms\n",
      "878:\tlearn: 0.2767406\ttotal: 837ms\tremaining: 588ms\n",
      "879:\tlearn: 0.2767333\ttotal: 838ms\tremaining: 587ms\n",
      "880:\tlearn: 0.2765752\ttotal: 839ms\tremaining: 586ms\n",
      "881:\tlearn: 0.2765265\ttotal: 840ms\tremaining: 585ms\n",
      "882:\tlearn: 0.2762758\ttotal: 841ms\tremaining: 584ms\n",
      "883:\tlearn: 0.2762743\ttotal: 842ms\tremaining: 583ms\n",
      "884:\tlearn: 0.2762540\ttotal: 843ms\tremaining: 582ms\n",
      "885:\tlearn: 0.2760853\ttotal: 844ms\tremaining: 581ms\n",
      "886:\tlearn: 0.2759592\ttotal: 845ms\tremaining: 580ms\n",
      "887:\tlearn: 0.2759577\ttotal: 846ms\tremaining: 579ms\n",
      "888:\tlearn: 0.2759562\ttotal: 847ms\tremaining: 578ms\n",
      "889:\tlearn: 0.2759357\ttotal: 848ms\tremaining: 577ms\n",
      "890:\tlearn: 0.2758503\ttotal: 849ms\tremaining: 576ms\n",
      "891:\tlearn: 0.2758492\ttotal: 850ms\tremaining: 576ms\n",
      "892:\tlearn: 0.2758404\ttotal: 851ms\tremaining: 575ms\n",
      "893:\tlearn: 0.2757943\ttotal: 852ms\tremaining: 574ms\n",
      "894:\tlearn: 0.2757917\ttotal: 853ms\tremaining: 573ms\n",
      "895:\tlearn: 0.2757712\ttotal: 854ms\tremaining: 572ms\n",
      "896:\tlearn: 0.2754947\ttotal: 854ms\tremaining: 570ms\n",
      "897:\tlearn: 0.2753603\ttotal: 855ms\tremaining: 570ms\n",
      "898:\tlearn: 0.2753581\ttotal: 856ms\tremaining: 569ms\n",
      "899:\tlearn: 0.2753562\ttotal: 857ms\tremaining: 568ms\n",
      "900:\tlearn: 0.2751311\ttotal: 858ms\tremaining: 567ms\n",
      "901:\tlearn: 0.2751296\ttotal: 859ms\tremaining: 566ms\n",
      "902:\tlearn: 0.2750937\ttotal: 860ms\tremaining: 565ms\n",
      "903:\tlearn: 0.2749726\ttotal: 861ms\tremaining: 564ms\n",
      "904:\tlearn: 0.2749712\ttotal: 862ms\tremaining: 563ms\n",
      "905:\tlearn: 0.2749697\ttotal: 863ms\tremaining: 562ms\n",
      "906:\tlearn: 0.2749688\ttotal: 863ms\tremaining: 561ms\n",
      "907:\tlearn: 0.2748957\ttotal: 864ms\tremaining: 560ms\n",
      "908:\tlearn: 0.2746817\ttotal: 865ms\tremaining: 559ms\n",
      "909:\tlearn: 0.2745351\ttotal: 866ms\tremaining: 558ms\n",
      "910:\tlearn: 0.2744966\ttotal: 867ms\tremaining: 557ms\n",
      "911:\tlearn: 0.2743624\ttotal: 868ms\tremaining: 556ms\n",
      "912:\tlearn: 0.2741390\ttotal: 869ms\tremaining: 555ms\n",
      "913:\tlearn: 0.2741376\ttotal: 870ms\tremaining: 554ms\n",
      "914:\tlearn: 0.2741345\ttotal: 871ms\tremaining: 553ms\n",
      "915:\tlearn: 0.2741331\ttotal: 872ms\tremaining: 552ms\n",
      "916:\tlearn: 0.2741150\ttotal: 873ms\tremaining: 551ms\n",
      "917:\tlearn: 0.2740802\ttotal: 874ms\tremaining: 550ms\n",
      "918:\tlearn: 0.2740791\ttotal: 875ms\tremaining: 549ms\n",
      "919:\tlearn: 0.2740710\ttotal: 875ms\tremaining: 548ms\n",
      "920:\tlearn: 0.2738349\ttotal: 876ms\tremaining: 547ms\n",
      "921:\tlearn: 0.2737535\ttotal: 877ms\tremaining: 546ms\n",
      "922:\tlearn: 0.2735651\ttotal: 878ms\tremaining: 545ms\n",
      "923:\tlearn: 0.2735586\ttotal: 879ms\tremaining: 544ms\n",
      "924:\tlearn: 0.2735568\ttotal: 880ms\tremaining: 543ms\n",
      "925:\tlearn: 0.2733728\ttotal: 881ms\tremaining: 542ms\n",
      "926:\tlearn: 0.2731864\ttotal: 882ms\tremaining: 541ms\n",
      "927:\tlearn: 0.2731473\ttotal: 883ms\tremaining: 540ms\n",
      "928:\tlearn: 0.2731254\ttotal: 884ms\tremaining: 539ms\n",
      "929:\tlearn: 0.2727695\ttotal: 885ms\tremaining: 538ms\n",
      "930:\tlearn: 0.2727078\ttotal: 886ms\tremaining: 537ms\n",
      "931:\tlearn: 0.2726897\ttotal: 887ms\tremaining: 536ms\n",
      "932:\tlearn: 0.2725649\ttotal: 887ms\tremaining: 535ms\n",
      "933:\tlearn: 0.2725649\ttotal: 889ms\tremaining: 535ms\n",
      "934:\tlearn: 0.2725550\ttotal: 890ms\tremaining: 534ms\n",
      "935:\tlearn: 0.2725473\ttotal: 891ms\tremaining: 533ms\n",
      "936:\tlearn: 0.2725355\ttotal: 892ms\tremaining: 532ms\n",
      "937:\tlearn: 0.2724635\ttotal: 893ms\tremaining: 531ms\n",
      "938:\tlearn: 0.2724501\ttotal: 893ms\tremaining: 530ms\n",
      "939:\tlearn: 0.2724396\ttotal: 894ms\tremaining: 529ms\n",
      "940:\tlearn: 0.2724382\ttotal: 895ms\tremaining: 528ms\n",
      "941:\tlearn: 0.2723939\ttotal: 897ms\tremaining: 527ms\n",
      "942:\tlearn: 0.2722115\ttotal: 897ms\tremaining: 526ms\n",
      "943:\tlearn: 0.2721688\ttotal: 898ms\tremaining: 525ms\n",
      "944:\tlearn: 0.2721570\ttotal: 899ms\tremaining: 524ms\n",
      "945:\tlearn: 0.2720384\ttotal: 900ms\tremaining: 523ms\n",
      "946:\tlearn: 0.2719558\ttotal: 901ms\tremaining: 522ms\n",
      "947:\tlearn: 0.2719542\ttotal: 902ms\tremaining: 521ms\n",
      "948:\tlearn: 0.2717095\ttotal: 903ms\tremaining: 521ms\n",
      "949:\tlearn: 0.2717041\ttotal: 904ms\tremaining: 520ms\n",
      "950:\tlearn: 0.2715806\ttotal: 905ms\tremaining: 519ms\n",
      "951:\tlearn: 0.2715802\ttotal: 906ms\tremaining: 518ms\n",
      "952:\tlearn: 0.2715617\ttotal: 907ms\tremaining: 517ms\n",
      "953:\tlearn: 0.2715222\ttotal: 908ms\tremaining: 516ms\n",
      "954:\tlearn: 0.2715024\ttotal: 908ms\tremaining: 515ms\n",
      "955:\tlearn: 0.2712928\ttotal: 909ms\tremaining: 514ms\n",
      "956:\tlearn: 0.2712880\ttotal: 910ms\tremaining: 513ms\n",
      "957:\tlearn: 0.2712832\ttotal: 911ms\tremaining: 512ms\n",
      "958:\tlearn: 0.2709571\ttotal: 912ms\tremaining: 511ms\n",
      "959:\tlearn: 0.2707411\ttotal: 913ms\tremaining: 510ms\n",
      "960:\tlearn: 0.2707397\ttotal: 914ms\tremaining: 509ms\n",
      "961:\tlearn: 0.2705435\ttotal: 915ms\tremaining: 508ms\n",
      "962:\tlearn: 0.2702685\ttotal: 915ms\tremaining: 507ms\n",
      "963:\tlearn: 0.2702517\ttotal: 916ms\tremaining: 506ms\n",
      "964:\tlearn: 0.2702499\ttotal: 917ms\tremaining: 505ms\n",
      "965:\tlearn: 0.2701522\ttotal: 918ms\tremaining: 504ms\n",
      "966:\tlearn: 0.2700011\ttotal: 919ms\tremaining: 503ms\n",
      "967:\tlearn: 0.2699206\ttotal: 921ms\tremaining: 502ms\n",
      "968:\tlearn: 0.2699096\ttotal: 921ms\tremaining: 501ms\n",
      "969:\tlearn: 0.2697672\ttotal: 922ms\tremaining: 500ms\n",
      "970:\tlearn: 0.2697316\ttotal: 923ms\tremaining: 499ms\n",
      "971:\tlearn: 0.2697121\ttotal: 924ms\tremaining: 498ms\n",
      "972:\tlearn: 0.2697105\ttotal: 925ms\tremaining: 497ms\n",
      "973:\tlearn: 0.2695589\ttotal: 926ms\tremaining: 496ms\n",
      "974:\tlearn: 0.2694964\ttotal: 927ms\tremaining: 495ms\n",
      "975:\tlearn: 0.2694909\ttotal: 928ms\tremaining: 495ms\n",
      "976:\tlearn: 0.2694541\ttotal: 929ms\tremaining: 494ms\n",
      "977:\tlearn: 0.2692054\ttotal: 930ms\tremaining: 493ms\n",
      "978:\tlearn: 0.2690719\ttotal: 931ms\tremaining: 492ms\n",
      "979:\tlearn: 0.2689761\ttotal: 932ms\tremaining: 491ms\n",
      "980:\tlearn: 0.2689360\ttotal: 933ms\tremaining: 490ms\n",
      "981:\tlearn: 0.2686562\ttotal: 934ms\tremaining: 489ms\n",
      "982:\tlearn: 0.2685743\ttotal: 935ms\tremaining: 488ms\n",
      "983:\tlearn: 0.2683598\ttotal: 936ms\tremaining: 487ms\n",
      "984:\tlearn: 0.2683465\ttotal: 937ms\tremaining: 486ms\n",
      "985:\tlearn: 0.2683266\ttotal: 938ms\tremaining: 485ms\n",
      "986:\tlearn: 0.2682858\ttotal: 939ms\tremaining: 484ms\n",
      "987:\tlearn: 0.2681538\ttotal: 940ms\tremaining: 483ms\n",
      "988:\tlearn: 0.2681529\ttotal: 941ms\tremaining: 482ms\n",
      "989:\tlearn: 0.2680392\ttotal: 942ms\tremaining: 481ms\n",
      "990:\tlearn: 0.2679602\ttotal: 943ms\tremaining: 480ms\n",
      "991:\tlearn: 0.2678549\ttotal: 944ms\tremaining: 480ms\n",
      "992:\tlearn: 0.2677914\ttotal: 945ms\tremaining: 479ms\n",
      "993:\tlearn: 0.2677863\ttotal: 946ms\tremaining: 478ms\n",
      "994:\tlearn: 0.2677808\ttotal: 947ms\tremaining: 477ms\n",
      "995:\tlearn: 0.2674990\ttotal: 948ms\tremaining: 476ms\n",
      "996:\tlearn: 0.2674823\ttotal: 949ms\tremaining: 475ms\n",
      "997:\tlearn: 0.2674692\ttotal: 950ms\tremaining: 474ms\n",
      "998:\tlearn: 0.2674530\ttotal: 951ms\tremaining: 473ms\n",
      "999:\tlearn: 0.2674525\ttotal: 951ms\tremaining: 472ms\n",
      "1000:\tlearn: 0.2674357\ttotal: 952ms\tremaining: 471ms\n",
      "1001:\tlearn: 0.2672423\ttotal: 953ms\tremaining: 470ms\n",
      "1002:\tlearn: 0.2672415\ttotal: 954ms\tremaining: 469ms\n",
      "1003:\tlearn: 0.2672249\ttotal: 955ms\tremaining: 468ms\n",
      "1004:\tlearn: 0.2670360\ttotal: 956ms\tremaining: 467ms\n",
      "1005:\tlearn: 0.2670176\ttotal: 957ms\tremaining: 466ms\n",
      "1006:\tlearn: 0.2668826\ttotal: 958ms\tremaining: 465ms\n",
      "1007:\tlearn: 0.2668647\ttotal: 959ms\tremaining: 464ms\n",
      "1008:\tlearn: 0.2668639\ttotal: 959ms\tremaining: 463ms\n",
      "1009:\tlearn: 0.2668027\ttotal: 960ms\tremaining: 462ms\n",
      "1010:\tlearn: 0.2667277\ttotal: 961ms\tremaining: 461ms\n",
      "1011:\tlearn: 0.2666318\ttotal: 962ms\tremaining: 460ms\n",
      "1012:\tlearn: 0.2663753\ttotal: 963ms\tremaining: 459ms\n",
      "1013:\tlearn: 0.2663745\ttotal: 964ms\tremaining: 458ms\n",
      "1014:\tlearn: 0.2662653\ttotal: 965ms\tremaining: 457ms\n",
      "1015:\tlearn: 0.2661210\ttotal: 966ms\tremaining: 456ms\n",
      "1016:\tlearn: 0.2660794\ttotal: 967ms\tremaining: 455ms\n",
      "1017:\tlearn: 0.2659717\ttotal: 968ms\tremaining: 454ms\n",
      "1018:\tlearn: 0.2659077\ttotal: 969ms\tremaining: 453ms\n",
      "1019:\tlearn: 0.2657535\ttotal: 970ms\tremaining: 453ms\n",
      "1020:\tlearn: 0.2657430\ttotal: 971ms\tremaining: 452ms\n",
      "1021:\tlearn: 0.2657021\ttotal: 972ms\tremaining: 451ms\n",
      "1022:\tlearn: 0.2655734\ttotal: 973ms\tremaining: 450ms\n",
      "1023:\tlearn: 0.2655549\ttotal: 973ms\tremaining: 449ms\n",
      "1024:\tlearn: 0.2655173\ttotal: 974ms\tremaining: 448ms\n",
      "1025:\tlearn: 0.2654929\ttotal: 976ms\tremaining: 447ms\n",
      "1026:\tlearn: 0.2654824\ttotal: 977ms\tremaining: 446ms\n",
      "1027:\tlearn: 0.2654737\ttotal: 978ms\tremaining: 445ms\n",
      "1028:\tlearn: 0.2653529\ttotal: 978ms\tremaining: 444ms\n",
      "1029:\tlearn: 0.2652906\ttotal: 979ms\tremaining: 443ms\n",
      "1030:\tlearn: 0.2652800\ttotal: 980ms\tremaining: 442ms\n",
      "1031:\tlearn: 0.2652762\ttotal: 982ms\tremaining: 441ms\n",
      "1032:\tlearn: 0.2652634\ttotal: 983ms\tremaining: 440ms\n",
      "1033:\tlearn: 0.2652527\ttotal: 984ms\tremaining: 440ms\n",
      "1034:\tlearn: 0.2652519\ttotal: 985ms\tremaining: 439ms\n",
      "1035:\tlearn: 0.2651072\ttotal: 986ms\tremaining: 438ms\n",
      "1036:\tlearn: 0.2650748\ttotal: 987ms\tremaining: 437ms\n",
      "1037:\tlearn: 0.2650712\ttotal: 988ms\tremaining: 436ms\n",
      "1038:\tlearn: 0.2650354\ttotal: 989ms\tremaining: 435ms\n",
      "1039:\tlearn: 0.2650202\ttotal: 990ms\tremaining: 434ms\n",
      "1040:\tlearn: 0.2649530\ttotal: 990ms\tremaining: 433ms\n",
      "1041:\tlearn: 0.2648499\ttotal: 991ms\tremaining: 432ms\n",
      "1042:\tlearn: 0.2648314\ttotal: 992ms\tremaining: 431ms\n",
      "1043:\tlearn: 0.2648189\ttotal: 993ms\tremaining: 430ms\n",
      "1044:\tlearn: 0.2648004\ttotal: 994ms\tremaining: 429ms\n",
      "1045:\tlearn: 0.2646200\ttotal: 995ms\tremaining: 428ms\n",
      "1046:\tlearn: 0.2645413\ttotal: 996ms\tremaining: 427ms\n",
      "1047:\tlearn: 0.2643615\ttotal: 997ms\tremaining: 426ms\n",
      "1048:\tlearn: 0.2643508\ttotal: 998ms\tremaining: 425ms\n",
      "1049:\tlearn: 0.2643192\ttotal: 999ms\tremaining: 424ms\n",
      "1050:\tlearn: 0.2643035\ttotal: 1s\tremaining: 423ms\n",
      "1051:\tlearn: 0.2642939\ttotal: 1s\tremaining: 423ms\n",
      "1052:\tlearn: 0.2642252\ttotal: 1s\tremaining: 422ms\n",
      "1053:\tlearn: 0.2640174\ttotal: 1s\tremaining: 421ms\n",
      "1054:\tlearn: 0.2638960\ttotal: 1s\tremaining: 420ms\n",
      "1055:\tlearn: 0.2638188\ttotal: 1s\tremaining: 419ms\n",
      "1056:\tlearn: 0.2638004\ttotal: 1s\tremaining: 418ms\n",
      "1057:\tlearn: 0.2638004\ttotal: 1.01s\tremaining: 417ms\n",
      "1058:\tlearn: 0.2636861\ttotal: 1.01s\tremaining: 416ms\n",
      "1059:\tlearn: 0.2636709\ttotal: 1.01s\tremaining: 415ms\n",
      "1060:\tlearn: 0.2636610\ttotal: 1.01s\tremaining: 414ms\n",
      "1061:\tlearn: 0.2636372\ttotal: 1.01s\tremaining: 413ms\n",
      "1062:\tlearn: 0.2635911\ttotal: 1.01s\tremaining: 412ms\n",
      "1063:\tlearn: 0.2635757\ttotal: 1.01s\tremaining: 411ms\n",
      "1064:\tlearn: 0.2635581\ttotal: 1.01s\tremaining: 410ms\n",
      "1065:\tlearn: 0.2635478\ttotal: 1.01s\tremaining: 409ms\n",
      "1066:\tlearn: 0.2633767\ttotal: 1.01s\tremaining: 408ms\n",
      "1067:\tlearn: 0.2633399\ttotal: 1.01s\tremaining: 407ms\n",
      "1068:\tlearn: 0.2632592\ttotal: 1.02s\tremaining: 406ms\n",
      "1069:\tlearn: 0.2632232\ttotal: 1.02s\tremaining: 405ms\n",
      "1070:\tlearn: 0.2632083\ttotal: 1.02s\tremaining: 404ms\n",
      "1071:\tlearn: 0.2632066\ttotal: 1.02s\tremaining: 403ms\n",
      "1072:\tlearn: 0.2632057\ttotal: 1.02s\tremaining: 402ms\n",
      "1073:\tlearn: 0.2631590\ttotal: 1.02s\tremaining: 401ms\n",
      "1074:\tlearn: 0.2631551\ttotal: 1.02s\tremaining: 400ms\n",
      "1075:\tlearn: 0.2631502\ttotal: 1.02s\tremaining: 399ms\n",
      "1076:\tlearn: 0.2631379\ttotal: 1.02s\tremaining: 398ms\n",
      "1077:\tlearn: 0.2631369\ttotal: 1.02s\tremaining: 397ms\n",
      "1078:\tlearn: 0.2629950\ttotal: 1.02s\tremaining: 396ms\n",
      "1079:\tlearn: 0.2629625\ttotal: 1.03s\tremaining: 396ms\n",
      "1080:\tlearn: 0.2629449\ttotal: 1.03s\tremaining: 395ms\n",
      "1081:\tlearn: 0.2628719\ttotal: 1.03s\tremaining: 394ms\n",
      "1082:\tlearn: 0.2628714\ttotal: 1.03s\tremaining: 393ms\n",
      "1083:\tlearn: 0.2627527\ttotal: 1.03s\tremaining: 392ms\n",
      "1084:\tlearn: 0.2627420\ttotal: 1.03s\tremaining: 391ms\n",
      "1085:\tlearn: 0.2627410\ttotal: 1.03s\tremaining: 390ms\n",
      "1086:\tlearn: 0.2626237\ttotal: 1.03s\tremaining: 389ms\n",
      "1087:\tlearn: 0.2624632\ttotal: 1.03s\tremaining: 388ms\n",
      "1088:\tlearn: 0.2624611\ttotal: 1.03s\tremaining: 387ms\n",
      "1089:\tlearn: 0.2623620\ttotal: 1.04s\tremaining: 386ms\n",
      "1090:\tlearn: 0.2623479\ttotal: 1.04s\tremaining: 385ms\n",
      "1091:\tlearn: 0.2620973\ttotal: 1.04s\tremaining: 384ms\n",
      "1092:\tlearn: 0.2620631\ttotal: 1.04s\tremaining: 383ms\n",
      "1093:\tlearn: 0.2620630\ttotal: 1.04s\tremaining: 382ms\n",
      "1094:\tlearn: 0.2620524\ttotal: 1.04s\tremaining: 381ms\n",
      "1095:\tlearn: 0.2620453\ttotal: 1.04s\tremaining: 380ms\n",
      "1096:\tlearn: 0.2620442\ttotal: 1.04s\tremaining: 379ms\n",
      "1097:\tlearn: 0.2620278\ttotal: 1.04s\tremaining: 379ms\n",
      "1098:\tlearn: 0.2620271\ttotal: 1.04s\tremaining: 378ms\n",
      "1099:\tlearn: 0.2618809\ttotal: 1.05s\tremaining: 377ms\n",
      "1100:\tlearn: 0.2618484\ttotal: 1.05s\tremaining: 376ms\n",
      "1101:\tlearn: 0.2618445\ttotal: 1.05s\tremaining: 375ms\n",
      "1102:\tlearn: 0.2618399\ttotal: 1.05s\tremaining: 374ms\n",
      "1103:\tlearn: 0.2618094\ttotal: 1.05s\tremaining: 373ms\n",
      "1104:\tlearn: 0.2617990\ttotal: 1.05s\tremaining: 372ms\n",
      "1105:\tlearn: 0.2617125\ttotal: 1.05s\tremaining: 371ms\n",
      "1106:\tlearn: 0.2616417\ttotal: 1.05s\tremaining: 370ms\n",
      "1107:\tlearn: 0.2616260\ttotal: 1.05s\tremaining: 369ms\n",
      "1108:\tlearn: 0.2616252\ttotal: 1.05s\tremaining: 368ms\n",
      "1109:\tlearn: 0.2615929\ttotal: 1.06s\tremaining: 367ms\n",
      "1110:\tlearn: 0.2615499\ttotal: 1.06s\tremaining: 366ms\n",
      "1111:\tlearn: 0.2615478\ttotal: 1.06s\tremaining: 365ms\n",
      "1112:\tlearn: 0.2615466\ttotal: 1.06s\tremaining: 364ms\n",
      "1113:\tlearn: 0.2614116\ttotal: 1.06s\tremaining: 363ms\n",
      "1114:\tlearn: 0.2613496\ttotal: 1.06s\tremaining: 363ms\n",
      "1115:\tlearn: 0.2612073\ttotal: 1.06s\tremaining: 362ms\n",
      "1116:\tlearn: 0.2611389\ttotal: 1.06s\tremaining: 361ms\n",
      "1117:\tlearn: 0.2611380\ttotal: 1.06s\tremaining: 360ms\n",
      "1118:\tlearn: 0.2611226\ttotal: 1.06s\tremaining: 359ms\n",
      "1119:\tlearn: 0.2609677\ttotal: 1.06s\tremaining: 358ms\n",
      "1120:\tlearn: 0.2609673\ttotal: 1.07s\tremaining: 357ms\n",
      "1121:\tlearn: 0.2608480\ttotal: 1.07s\tremaining: 356ms\n",
      "1122:\tlearn: 0.2608472\ttotal: 1.07s\tremaining: 355ms\n",
      "1123:\tlearn: 0.2608129\ttotal: 1.07s\tremaining: 354ms\n",
      "1124:\tlearn: 0.2607815\ttotal: 1.07s\tremaining: 353ms\n",
      "1125:\tlearn: 0.2607807\ttotal: 1.07s\tremaining: 352ms\n",
      "1126:\tlearn: 0.2607800\ttotal: 1.07s\tremaining: 351ms\n",
      "1127:\tlearn: 0.2607657\ttotal: 1.07s\tremaining: 350ms\n",
      "1128:\tlearn: 0.2607649\ttotal: 1.07s\tremaining: 349ms\n",
      "1129:\tlearn: 0.2607640\ttotal: 1.07s\tremaining: 348ms\n",
      "1130:\tlearn: 0.2607634\ttotal: 1.08s\tremaining: 347ms\n",
      "1131:\tlearn: 0.2607564\ttotal: 1.08s\tremaining: 346ms\n",
      "1132:\tlearn: 0.2606566\ttotal: 1.08s\tremaining: 346ms\n",
      "1133:\tlearn: 0.2606309\ttotal: 1.08s\tremaining: 345ms\n",
      "1134:\tlearn: 0.2606132\ttotal: 1.08s\tremaining: 344ms\n",
      "1135:\tlearn: 0.2605189\ttotal: 1.08s\tremaining: 343ms\n",
      "1136:\tlearn: 0.2605035\ttotal: 1.08s\tremaining: 342ms\n",
      "1137:\tlearn: 0.2605027\ttotal: 1.08s\tremaining: 341ms\n",
      "1138:\tlearn: 0.2604347\ttotal: 1.08s\tremaining: 340ms\n",
      "1139:\tlearn: 0.2604304\ttotal: 1.08s\tremaining: 339ms\n",
      "1140:\tlearn: 0.2601489\ttotal: 1.09s\tremaining: 338ms\n",
      "1141:\tlearn: 0.2601489\ttotal: 1.09s\tremaining: 337ms\n",
      "1142:\tlearn: 0.2601203\ttotal: 1.09s\tremaining: 336ms\n",
      "1143:\tlearn: 0.2600105\ttotal: 1.09s\tremaining: 335ms\n",
      "1144:\tlearn: 0.2600095\ttotal: 1.09s\tremaining: 334ms\n",
      "1145:\tlearn: 0.2599905\ttotal: 1.09s\tremaining: 333ms\n",
      "1146:\tlearn: 0.2599868\ttotal: 1.09s\tremaining: 332ms\n",
      "1147:\tlearn: 0.2599792\ttotal: 1.09s\tremaining: 331ms\n",
      "1148:\tlearn: 0.2599652\ttotal: 1.09s\tremaining: 330ms\n",
      "1149:\tlearn: 0.2598749\ttotal: 1.09s\tremaining: 329ms\n",
      "1150:\tlearn: 0.2598085\ttotal: 1.09s\tremaining: 328ms\n",
      "1151:\tlearn: 0.2597841\ttotal: 1.1s\tremaining: 327ms\n",
      "1152:\tlearn: 0.2597807\ttotal: 1.1s\tremaining: 326ms\n",
      "1153:\tlearn: 0.2597070\ttotal: 1.1s\tremaining: 325ms\n",
      "1154:\tlearn: 0.2596917\ttotal: 1.1s\tremaining: 324ms\n",
      "1155:\tlearn: 0.2596913\ttotal: 1.1s\tremaining: 324ms\n",
      "1156:\tlearn: 0.2596808\ttotal: 1.1s\tremaining: 323ms\n",
      "1157:\tlearn: 0.2596654\ttotal: 1.1s\tremaining: 322ms\n",
      "1158:\tlearn: 0.2595113\ttotal: 1.1s\tremaining: 321ms\n",
      "1159:\tlearn: 0.2594953\ttotal: 1.1s\tremaining: 320ms\n",
      "1160:\tlearn: 0.2594786\ttotal: 1.1s\tremaining: 319ms\n",
      "1161:\tlearn: 0.2594776\ttotal: 1.1s\tremaining: 318ms\n",
      "1162:\tlearn: 0.2594765\ttotal: 1.11s\tremaining: 317ms\n",
      "1163:\tlearn: 0.2594648\ttotal: 1.11s\tremaining: 316ms\n",
      "1164:\tlearn: 0.2594571\ttotal: 1.11s\tremaining: 315ms\n",
      "1165:\tlearn: 0.2594469\ttotal: 1.11s\tremaining: 314ms\n",
      "1166:\tlearn: 0.2594052\ttotal: 1.11s\tremaining: 313ms\n",
      "1167:\tlearn: 0.2593906\ttotal: 1.11s\tremaining: 312ms\n",
      "1168:\tlearn: 0.2593597\ttotal: 1.11s\tremaining: 311ms\n",
      "1169:\tlearn: 0.2593477\ttotal: 1.11s\tremaining: 310ms\n",
      "1170:\tlearn: 0.2593160\ttotal: 1.11s\tremaining: 309ms\n",
      "1171:\tlearn: 0.2593153\ttotal: 1.11s\tremaining: 308ms\n",
      "1172:\tlearn: 0.2590931\ttotal: 1.11s\tremaining: 307ms\n",
      "1173:\tlearn: 0.2589277\ttotal: 1.12s\tremaining: 306ms\n",
      "1174:\tlearn: 0.2588677\ttotal: 1.12s\tremaining: 305ms\n",
      "1175:\tlearn: 0.2588671\ttotal: 1.12s\tremaining: 304ms\n",
      "1176:\tlearn: 0.2587685\ttotal: 1.12s\tremaining: 303ms\n",
      "1177:\tlearn: 0.2587461\ttotal: 1.12s\tremaining: 302ms\n",
      "1178:\tlearn: 0.2587322\ttotal: 1.12s\tremaining: 301ms\n",
      "1179:\tlearn: 0.2586173\ttotal: 1.12s\tremaining: 301ms\n",
      "1180:\tlearn: 0.2585230\ttotal: 1.12s\tremaining: 300ms\n",
      "1181:\tlearn: 0.2584576\ttotal: 1.12s\tremaining: 299ms\n",
      "1182:\tlearn: 0.2584439\ttotal: 1.12s\tremaining: 298ms\n",
      "1183:\tlearn: 0.2583867\ttotal: 1.13s\tremaining: 297ms\n",
      "1184:\tlearn: 0.2583788\ttotal: 1.13s\tremaining: 296ms\n",
      "1185:\tlearn: 0.2583521\ttotal: 1.13s\tremaining: 295ms\n",
      "1186:\tlearn: 0.2582832\ttotal: 1.13s\tremaining: 294ms\n",
      "1187:\tlearn: 0.2582828\ttotal: 1.13s\tremaining: 293ms\n",
      "1188:\tlearn: 0.2582820\ttotal: 1.13s\tremaining: 292ms\n",
      "1189:\tlearn: 0.2582771\ttotal: 1.13s\tremaining: 291ms\n",
      "1190:\tlearn: 0.2582696\ttotal: 1.13s\tremaining: 290ms\n",
      "1191:\tlearn: 0.2582395\ttotal: 1.13s\tremaining: 289ms\n",
      "1192:\tlearn: 0.2580106\ttotal: 1.13s\tremaining: 288ms\n",
      "1193:\tlearn: 0.2579958\ttotal: 1.14s\tremaining: 287ms\n",
      "1194:\tlearn: 0.2579948\ttotal: 1.14s\tremaining: 286ms\n",
      "1195:\tlearn: 0.2578768\ttotal: 1.14s\tremaining: 285ms\n",
      "1196:\tlearn: 0.2578697\ttotal: 1.14s\tremaining: 284ms\n",
      "1197:\tlearn: 0.2578129\ttotal: 1.14s\tremaining: 283ms\n",
      "1198:\tlearn: 0.2577306\ttotal: 1.14s\tremaining: 282ms\n",
      "1199:\tlearn: 0.2577298\ttotal: 1.14s\tremaining: 282ms\n",
      "1200:\tlearn: 0.2577185\ttotal: 1.14s\tremaining: 281ms\n",
      "1201:\tlearn: 0.2576204\ttotal: 1.14s\tremaining: 280ms\n",
      "1202:\tlearn: 0.2574630\ttotal: 1.14s\tremaining: 279ms\n",
      "1203:\tlearn: 0.2574500\ttotal: 1.14s\tremaining: 278ms\n",
      "1204:\tlearn: 0.2574492\ttotal: 1.15s\tremaining: 277ms\n",
      "1205:\tlearn: 0.2574268\ttotal: 1.15s\tremaining: 276ms\n",
      "1206:\tlearn: 0.2573070\ttotal: 1.15s\tremaining: 275ms\n",
      "1207:\tlearn: 0.2571761\ttotal: 1.15s\tremaining: 274ms\n",
      "1208:\tlearn: 0.2569909\ttotal: 1.15s\tremaining: 273ms\n",
      "1209:\tlearn: 0.2569782\ttotal: 1.15s\tremaining: 272ms\n",
      "1210:\tlearn: 0.2569782\ttotal: 1.15s\tremaining: 271ms\n",
      "1211:\tlearn: 0.2568768\ttotal: 1.15s\tremaining: 270ms\n",
      "1212:\tlearn: 0.2568751\ttotal: 1.15s\tremaining: 269ms\n",
      "1213:\tlearn: 0.2568587\ttotal: 1.15s\tremaining: 268ms\n",
      "1214:\tlearn: 0.2568520\ttotal: 1.15s\tremaining: 267ms\n",
      "1215:\tlearn: 0.2566685\ttotal: 1.16s\tremaining: 266ms\n",
      "1216:\tlearn: 0.2566552\ttotal: 1.16s\tremaining: 265ms\n",
      "1217:\tlearn: 0.2564483\ttotal: 1.16s\tremaining: 264ms\n",
      "1218:\tlearn: 0.2563563\ttotal: 1.16s\tremaining: 263ms\n",
      "1219:\tlearn: 0.2563466\ttotal: 1.16s\tremaining: 262ms\n",
      "1220:\tlearn: 0.2563358\ttotal: 1.16s\tremaining: 262ms\n",
      "1221:\tlearn: 0.2563349\ttotal: 1.16s\tremaining: 261ms\n",
      "1222:\tlearn: 0.2562345\ttotal: 1.16s\tremaining: 260ms\n",
      "1223:\tlearn: 0.2561338\ttotal: 1.16s\tremaining: 259ms\n",
      "1224:\tlearn: 0.2561337\ttotal: 1.16s\tremaining: 258ms\n",
      "1225:\tlearn: 0.2560217\ttotal: 1.17s\tremaining: 257ms\n",
      "1226:\tlearn: 0.2558453\ttotal: 1.17s\tremaining: 256ms\n",
      "1227:\tlearn: 0.2558444\ttotal: 1.17s\tremaining: 255ms\n",
      "1228:\tlearn: 0.2558433\ttotal: 1.17s\tremaining: 254ms\n",
      "1229:\tlearn: 0.2557533\ttotal: 1.17s\tremaining: 253ms\n",
      "1230:\tlearn: 0.2557371\ttotal: 1.17s\tremaining: 252ms\n",
      "1231:\tlearn: 0.2555959\ttotal: 1.17s\tremaining: 251ms\n",
      "1232:\tlearn: 0.2555332\ttotal: 1.17s\tremaining: 250ms\n",
      "1233:\tlearn: 0.2555325\ttotal: 1.17s\tremaining: 249ms\n",
      "1234:\tlearn: 0.2554539\ttotal: 1.17s\tremaining: 248ms\n",
      "1235:\tlearn: 0.2554534\ttotal: 1.18s\tremaining: 247ms\n",
      "1236:\tlearn: 0.2553616\ttotal: 1.18s\tremaining: 246ms\n",
      "1237:\tlearn: 0.2551176\ttotal: 1.18s\tremaining: 245ms\n",
      "1238:\tlearn: 0.2551175\ttotal: 1.18s\tremaining: 244ms\n",
      "1239:\tlearn: 0.2550412\ttotal: 1.18s\tremaining: 243ms\n",
      "1240:\tlearn: 0.2550285\ttotal: 1.18s\tremaining: 242ms\n",
      "1241:\tlearn: 0.2550189\ttotal: 1.18s\tremaining: 241ms\n",
      "1242:\tlearn: 0.2550156\ttotal: 1.18s\tremaining: 241ms\n",
      "1243:\tlearn: 0.2548934\ttotal: 1.18s\tremaining: 240ms\n",
      "1244:\tlearn: 0.2548660\ttotal: 1.18s\tremaining: 239ms\n",
      "1245:\tlearn: 0.2547787\ttotal: 1.18s\tremaining: 238ms\n",
      "1246:\tlearn: 0.2547756\ttotal: 1.19s\tremaining: 237ms\n",
      "1247:\tlearn: 0.2547622\ttotal: 1.19s\tremaining: 236ms\n",
      "1248:\tlearn: 0.2547354\ttotal: 1.19s\tremaining: 235ms\n",
      "1249:\tlearn: 0.2546593\ttotal: 1.19s\tremaining: 234ms\n",
      "1250:\tlearn: 0.2544238\ttotal: 1.19s\tremaining: 233ms\n",
      "1251:\tlearn: 0.2544235\ttotal: 1.19s\tremaining: 232ms\n",
      "1252:\tlearn: 0.2544205\ttotal: 1.19s\tremaining: 231ms\n",
      "1253:\tlearn: 0.2544139\ttotal: 1.19s\tremaining: 230ms\n",
      "1254:\tlearn: 0.2543300\ttotal: 1.19s\tremaining: 229ms\n",
      "1255:\tlearn: 0.2543208\ttotal: 1.19s\tremaining: 228ms\n",
      "1256:\tlearn: 0.2543116\ttotal: 1.19s\tremaining: 227ms\n",
      "1257:\tlearn: 0.2542154\ttotal: 1.2s\tremaining: 226ms\n",
      "1258:\tlearn: 0.2540829\ttotal: 1.2s\tremaining: 225ms\n",
      "1259:\tlearn: 0.2539306\ttotal: 1.2s\tremaining: 224ms\n",
      "1260:\tlearn: 0.2539253\ttotal: 1.2s\tremaining: 223ms\n",
      "1261:\tlearn: 0.2539160\ttotal: 1.2s\tremaining: 222ms\n",
      "1262:\tlearn: 0.2539069\ttotal: 1.2s\tremaining: 221ms\n",
      "1263:\tlearn: 0.2538782\ttotal: 1.2s\tremaining: 221ms\n",
      "1264:\tlearn: 0.2538175\ttotal: 1.2s\tremaining: 220ms\n",
      "1265:\tlearn: 0.2538081\ttotal: 1.2s\tremaining: 219ms\n",
      "1266:\tlearn: 0.2537974\ttotal: 1.2s\tremaining: 218ms\n",
      "1267:\tlearn: 0.2537869\ttotal: 1.21s\tremaining: 217ms\n",
      "1268:\tlearn: 0.2537050\ttotal: 1.21s\tremaining: 216ms\n",
      "1269:\tlearn: 0.2536013\ttotal: 1.21s\tremaining: 215ms\n",
      "1270:\tlearn: 0.2535999\ttotal: 1.21s\tremaining: 214ms\n",
      "1271:\tlearn: 0.2535908\ttotal: 1.21s\tremaining: 213ms\n",
      "1272:\tlearn: 0.2534106\ttotal: 1.21s\tremaining: 212ms\n",
      "1273:\tlearn: 0.2533460\ttotal: 1.21s\tremaining: 211ms\n",
      "1274:\tlearn: 0.2533381\ttotal: 1.21s\tremaining: 210ms\n",
      "1275:\tlearn: 0.2531750\ttotal: 1.21s\tremaining: 209ms\n",
      "1276:\tlearn: 0.2531646\ttotal: 1.21s\tremaining: 208ms\n",
      "1277:\tlearn: 0.2531082\ttotal: 1.21s\tremaining: 207ms\n",
      "1278:\tlearn: 0.2530961\ttotal: 1.21s\tremaining: 206ms\n",
      "1279:\tlearn: 0.2530860\ttotal: 1.22s\tremaining: 205ms\n",
      "1280:\tlearn: 0.2530769\ttotal: 1.22s\tremaining: 204ms\n",
      "1281:\tlearn: 0.2530767\ttotal: 1.22s\tremaining: 203ms\n",
      "1282:\tlearn: 0.2530680\ttotal: 1.22s\tremaining: 202ms\n",
      "1283:\tlearn: 0.2530641\ttotal: 1.22s\tremaining: 201ms\n",
      "1284:\tlearn: 0.2530539\ttotal: 1.22s\tremaining: 200ms\n",
      "1285:\tlearn: 0.2530502\ttotal: 1.22s\tremaining: 199ms\n",
      "1286:\tlearn: 0.2530400\ttotal: 1.22s\tremaining: 198ms\n",
      "1287:\tlearn: 0.2530125\ttotal: 1.22s\tremaining: 197ms\n",
      "1288:\tlearn: 0.2528702\ttotal: 1.22s\tremaining: 197ms\n",
      "1289:\tlearn: 0.2527810\ttotal: 1.22s\tremaining: 196ms\n",
      "1290:\tlearn: 0.2527501\ttotal: 1.23s\tremaining: 195ms\n",
      "1291:\tlearn: 0.2527489\ttotal: 1.23s\tremaining: 194ms\n",
      "1292:\tlearn: 0.2527189\ttotal: 1.23s\tremaining: 193ms\n",
      "1293:\tlearn: 0.2526879\ttotal: 1.23s\tremaining: 192ms\n",
      "1294:\tlearn: 0.2526419\ttotal: 1.23s\tremaining: 191ms\n",
      "1295:\tlearn: 0.2525586\ttotal: 1.23s\tremaining: 190ms\n",
      "1296:\tlearn: 0.2524104\ttotal: 1.23s\tremaining: 189ms\n",
      "1297:\tlearn: 0.2524005\ttotal: 1.23s\tremaining: 188ms\n",
      "1298:\tlearn: 0.2523568\ttotal: 1.23s\tremaining: 187ms\n",
      "1299:\tlearn: 0.2523458\ttotal: 1.23s\tremaining: 186ms\n",
      "1300:\tlearn: 0.2523375\ttotal: 1.23s\tremaining: 185ms\n",
      "1301:\tlearn: 0.2523289\ttotal: 1.24s\tremaining: 184ms\n",
      "1302:\tlearn: 0.2523202\ttotal: 1.24s\tremaining: 183ms\n",
      "1303:\tlearn: 0.2522105\ttotal: 1.24s\tremaining: 182ms\n",
      "1304:\tlearn: 0.2521953\ttotal: 1.24s\tremaining: 181ms\n",
      "1305:\tlearn: 0.2519584\ttotal: 1.24s\tremaining: 180ms\n",
      "1306:\tlearn: 0.2517628\ttotal: 1.24s\tremaining: 179ms\n",
      "1307:\tlearn: 0.2517207\ttotal: 1.24s\tremaining: 178ms\n",
      "1308:\tlearn: 0.2517121\ttotal: 1.24s\tremaining: 177ms\n",
      "1309:\tlearn: 0.2517010\ttotal: 1.24s\tremaining: 176ms\n",
      "1310:\tlearn: 0.2516243\ttotal: 1.24s\tremaining: 175ms\n",
      "1311:\tlearn: 0.2516110\ttotal: 1.24s\tremaining: 174ms\n",
      "1312:\tlearn: 0.2515688\ttotal: 1.24s\tremaining: 173ms\n",
      "1313:\tlearn: 0.2515542\ttotal: 1.25s\tremaining: 172ms\n",
      "1314:\tlearn: 0.2515541\ttotal: 1.25s\tremaining: 172ms\n",
      "1315:\tlearn: 0.2515529\ttotal: 1.25s\tremaining: 171ms\n",
      "1316:\tlearn: 0.2515495\ttotal: 1.25s\tremaining: 170ms\n",
      "1317:\tlearn: 0.2514453\ttotal: 1.25s\tremaining: 169ms\n",
      "1318:\tlearn: 0.2513719\ttotal: 1.25s\tremaining: 168ms\n",
      "1319:\tlearn: 0.2513573\ttotal: 1.25s\tremaining: 167ms\n",
      "1320:\tlearn: 0.2513488\ttotal: 1.25s\tremaining: 166ms\n",
      "1321:\tlearn: 0.2512988\ttotal: 1.25s\tremaining: 165ms\n",
      "1322:\tlearn: 0.2512979\ttotal: 1.25s\tremaining: 164ms\n",
      "1323:\tlearn: 0.2511596\ttotal: 1.25s\tremaining: 163ms\n",
      "1324:\tlearn: 0.2511596\ttotal: 1.25s\tremaining: 162ms\n",
      "1325:\tlearn: 0.2509739\ttotal: 1.25s\tremaining: 161ms\n",
      "1326:\tlearn: 0.2509738\ttotal: 1.26s\tremaining: 160ms\n",
      "1327:\tlearn: 0.2509618\ttotal: 1.26s\tremaining: 159ms\n",
      "1328:\tlearn: 0.2509619\ttotal: 1.26s\tremaining: 158ms\n",
      "1329:\tlearn: 0.2508266\ttotal: 1.26s\tremaining: 157ms\n",
      "1330:\tlearn: 0.2508051\ttotal: 1.26s\tremaining: 156ms\n",
      "1331:\tlearn: 0.2507532\ttotal: 1.26s\tremaining: 155ms\n",
      "1332:\tlearn: 0.2506257\ttotal: 1.26s\tremaining: 154ms\n",
      "1333:\tlearn: 0.2506247\ttotal: 1.26s\tremaining: 153ms\n",
      "1334:\tlearn: 0.2505469\ttotal: 1.26s\tremaining: 152ms\n",
      "1335:\tlearn: 0.2505451\ttotal: 1.26s\tremaining: 151ms\n",
      "1336:\tlearn: 0.2505363\ttotal: 1.26s\tremaining: 150ms\n",
      "1337:\tlearn: 0.2505278\ttotal: 1.26s\tremaining: 149ms\n",
      "1338:\tlearn: 0.2504047\ttotal: 1.27s\tremaining: 149ms\n",
      "1339:\tlearn: 0.2503927\ttotal: 1.27s\tremaining: 148ms\n",
      "1340:\tlearn: 0.2503927\ttotal: 1.27s\tremaining: 147ms\n",
      "1341:\tlearn: 0.2503924\ttotal: 1.27s\tremaining: 146ms\n",
      "1342:\tlearn: 0.2503165\ttotal: 1.27s\tremaining: 145ms\n",
      "1343:\tlearn: 0.2503032\ttotal: 1.27s\tremaining: 144ms\n",
      "1344:\tlearn: 0.2502901\ttotal: 1.27s\tremaining: 143ms\n",
      "1345:\tlearn: 0.2501237\ttotal: 1.27s\tremaining: 142ms\n",
      "1346:\tlearn: 0.2500405\ttotal: 1.27s\tremaining: 141ms\n",
      "1347:\tlearn: 0.2499827\ttotal: 1.27s\tremaining: 140ms\n",
      "1348:\tlearn: 0.2498436\ttotal: 1.27s\tremaining: 139ms\n",
      "1349:\tlearn: 0.2498067\ttotal: 1.28s\tremaining: 138ms\n",
      "1350:\tlearn: 0.2497981\ttotal: 1.28s\tremaining: 137ms\n",
      "1351:\tlearn: 0.2497606\ttotal: 1.28s\tremaining: 136ms\n",
      "1352:\tlearn: 0.2497075\ttotal: 1.28s\tremaining: 135ms\n",
      "1353:\tlearn: 0.2496926\ttotal: 1.28s\tremaining: 134ms\n",
      "1354:\tlearn: 0.2496528\ttotal: 1.28s\tremaining: 133ms\n",
      "1355:\tlearn: 0.2496271\ttotal: 1.28s\tremaining: 132ms\n",
      "1356:\tlearn: 0.2495694\ttotal: 1.28s\tremaining: 131ms\n",
      "1357:\tlearn: 0.2493314\ttotal: 1.28s\tremaining: 130ms\n",
      "1358:\tlearn: 0.2492799\ttotal: 1.28s\tremaining: 129ms\n",
      "1359:\tlearn: 0.2492481\ttotal: 1.28s\tremaining: 128ms\n",
      "1360:\tlearn: 0.2492479\ttotal: 1.28s\tremaining: 128ms\n",
      "1361:\tlearn: 0.2492233\ttotal: 1.29s\tremaining: 127ms\n",
      "1362:\tlearn: 0.2491239\ttotal: 1.29s\tremaining: 126ms\n",
      "1363:\tlearn: 0.2490687\ttotal: 1.29s\tremaining: 125ms\n",
      "1364:\tlearn: 0.2489882\ttotal: 1.29s\tremaining: 124ms\n",
      "1365:\tlearn: 0.2489535\ttotal: 1.29s\tremaining: 123ms\n",
      "1366:\tlearn: 0.2488999\ttotal: 1.29s\tremaining: 122ms\n",
      "1367:\tlearn: 0.2488989\ttotal: 1.29s\tremaining: 121ms\n",
      "1368:\tlearn: 0.2488849\ttotal: 1.29s\tremaining: 120ms\n",
      "1369:\tlearn: 0.2487643\ttotal: 1.29s\tremaining: 119ms\n",
      "1370:\tlearn: 0.2486848\ttotal: 1.29s\tremaining: 118ms\n",
      "1371:\tlearn: 0.2485053\ttotal: 1.29s\tremaining: 117ms\n",
      "1372:\tlearn: 0.2484923\ttotal: 1.3s\tremaining: 116ms\n",
      "1373:\tlearn: 0.2484912\ttotal: 1.3s\tremaining: 115ms\n",
      "1374:\tlearn: 0.2484060\ttotal: 1.3s\tremaining: 114ms\n",
      "1375:\tlearn: 0.2483387\ttotal: 1.3s\tremaining: 113ms\n",
      "1376:\tlearn: 0.2483377\ttotal: 1.3s\tremaining: 112ms\n",
      "1377:\tlearn: 0.2483369\ttotal: 1.3s\tremaining: 111ms\n",
      "1378:\tlearn: 0.2483369\ttotal: 1.3s\tremaining: 110ms\n",
      "1379:\tlearn: 0.2483128\ttotal: 1.3s\tremaining: 109ms\n",
      "1380:\tlearn: 0.2483124\ttotal: 1.3s\tremaining: 109ms\n",
      "1381:\tlearn: 0.2482632\ttotal: 1.3s\tremaining: 108ms\n",
      "1382:\tlearn: 0.2482631\ttotal: 1.3s\tremaining: 107ms\n",
      "1383:\tlearn: 0.2482594\ttotal: 1.3s\tremaining: 106ms\n",
      "1384:\tlearn: 0.2482464\ttotal: 1.31s\tremaining: 105ms\n",
      "1385:\tlearn: 0.2482338\ttotal: 1.31s\tremaining: 104ms\n",
      "1386:\tlearn: 0.2482309\ttotal: 1.31s\tremaining: 103ms\n",
      "1387:\tlearn: 0.2481949\ttotal: 1.31s\tremaining: 102ms\n",
      "1388:\tlearn: 0.2481714\ttotal: 1.31s\tremaining: 101ms\n",
      "1389:\tlearn: 0.2480574\ttotal: 1.31s\tremaining: 99.9ms\n",
      "1390:\tlearn: 0.2480572\ttotal: 1.31s\tremaining: 99ms\n",
      "1391:\tlearn: 0.2479623\ttotal: 1.31s\tremaining: 98ms\n",
      "1392:\tlearn: 0.2478526\ttotal: 1.31s\tremaining: 97.1ms\n",
      "1393:\tlearn: 0.2477992\ttotal: 1.31s\tremaining: 96.2ms\n",
      "1394:\tlearn: 0.2477994\ttotal: 1.31s\tremaining: 95.2ms\n",
      "1395:\tlearn: 0.2477957\ttotal: 1.31s\tremaining: 94.2ms\n",
      "1396:\tlearn: 0.2477956\ttotal: 1.32s\tremaining: 93.3ms\n",
      "1397:\tlearn: 0.2477576\ttotal: 1.32s\tremaining: 92.3ms\n",
      "1398:\tlearn: 0.2477572\ttotal: 1.32s\tremaining: 91.4ms\n",
      "1399:\tlearn: 0.2477571\ttotal: 1.32s\tremaining: 90.4ms\n",
      "1400:\tlearn: 0.2477430\ttotal: 1.32s\tremaining: 89.5ms\n",
      "1401:\tlearn: 0.2477122\ttotal: 1.32s\tremaining: 88.6ms\n",
      "1402:\tlearn: 0.2477125\ttotal: 1.32s\tremaining: 87.6ms\n",
      "1403:\tlearn: 0.2475545\ttotal: 1.32s\tremaining: 86.7ms\n",
      "1404:\tlearn: 0.2475483\ttotal: 1.32s\tremaining: 85.7ms\n",
      "1405:\tlearn: 0.2474752\ttotal: 1.32s\tremaining: 84.8ms\n",
      "1406:\tlearn: 0.2474752\ttotal: 1.32s\tremaining: 83.8ms\n",
      "1407:\tlearn: 0.2474720\ttotal: 1.33s\tremaining: 82.9ms\n",
      "1408:\tlearn: 0.2473305\ttotal: 1.33s\tremaining: 82ms\n",
      "1409:\tlearn: 0.2472822\ttotal: 1.33s\tremaining: 81ms\n",
      "1410:\tlearn: 0.2472765\ttotal: 1.33s\tremaining: 80.1ms\n",
      "1411:\tlearn: 0.2472760\ttotal: 1.33s\tremaining: 79.1ms\n",
      "1412:\tlearn: 0.2470680\ttotal: 1.33s\tremaining: 78.2ms\n",
      "1413:\tlearn: 0.2468994\ttotal: 1.33s\tremaining: 77.2ms\n",
      "1414:\tlearn: 0.2468942\ttotal: 1.33s\tremaining: 76.3ms\n",
      "1415:\tlearn: 0.2468752\ttotal: 1.33s\tremaining: 75.4ms\n",
      "1416:\tlearn: 0.2468652\ttotal: 1.33s\tremaining: 74.4ms\n",
      "1417:\tlearn: 0.2468496\ttotal: 1.33s\tremaining: 73.5ms\n",
      "1418:\tlearn: 0.2468469\ttotal: 1.34s\tremaining: 72.5ms\n",
      "1419:\tlearn: 0.2468353\ttotal: 1.34s\tremaining: 71.6ms\n",
      "1420:\tlearn: 0.2468346\ttotal: 1.34s\tremaining: 70.6ms\n",
      "1421:\tlearn: 0.2467674\ttotal: 1.34s\tremaining: 69.7ms\n",
      "1422:\tlearn: 0.2467670\ttotal: 1.34s\tremaining: 68.8ms\n",
      "1423:\tlearn: 0.2466487\ttotal: 1.34s\tremaining: 67.8ms\n",
      "1424:\tlearn: 0.2465231\ttotal: 1.34s\tremaining: 66.9ms\n",
      "1425:\tlearn: 0.2463128\ttotal: 1.34s\tremaining: 65.9ms\n",
      "1426:\tlearn: 0.2463006\ttotal: 1.34s\tremaining: 65ms\n",
      "1427:\tlearn: 0.2462307\ttotal: 1.34s\tremaining: 64.1ms\n",
      "1428:\tlearn: 0.2461921\ttotal: 1.35s\tremaining: 63.1ms\n",
      "1429:\tlearn: 0.2461838\ttotal: 1.35s\tremaining: 62.2ms\n",
      "1430:\tlearn: 0.2461838\ttotal: 1.35s\tremaining: 61.2ms\n",
      "1431:\tlearn: 0.2461178\ttotal: 1.35s\tremaining: 60.3ms\n",
      "1432:\tlearn: 0.2461174\ttotal: 1.35s\tremaining: 59.4ms\n",
      "1433:\tlearn: 0.2460931\ttotal: 1.35s\tremaining: 58.4ms\n",
      "1434:\tlearn: 0.2460472\ttotal: 1.35s\tremaining: 57.5ms\n",
      "1435:\tlearn: 0.2459761\ttotal: 1.35s\tremaining: 56.5ms\n",
      "1436:\tlearn: 0.2459101\ttotal: 1.35s\tremaining: 55.6ms\n",
      "1437:\tlearn: 0.2457767\ttotal: 1.35s\tremaining: 54.6ms\n",
      "1438:\tlearn: 0.2457140\ttotal: 1.35s\tremaining: 53.7ms\n",
      "1439:\tlearn: 0.2456622\ttotal: 1.36s\tremaining: 52.7ms\n",
      "1440:\tlearn: 0.2454586\ttotal: 1.36s\tremaining: 51.8ms\n",
      "1441:\tlearn: 0.2454582\ttotal: 1.36s\tremaining: 50.9ms\n",
      "1442:\tlearn: 0.2454135\ttotal: 1.36s\tremaining: 49.9ms\n",
      "1443:\tlearn: 0.2453194\ttotal: 1.36s\tremaining: 49ms\n",
      "1444:\tlearn: 0.2452059\ttotal: 1.36s\tremaining: 48ms\n",
      "1445:\tlearn: 0.2452057\ttotal: 1.36s\tremaining: 47.1ms\n",
      "1446:\tlearn: 0.2451557\ttotal: 1.36s\tremaining: 46.1ms\n",
      "1447:\tlearn: 0.2451431\ttotal: 1.36s\tremaining: 45.2ms\n",
      "1448:\tlearn: 0.2450234\ttotal: 1.36s\tremaining: 44.2ms\n",
      "1449:\tlearn: 0.2450148\ttotal: 1.36s\tremaining: 43.3ms\n",
      "1450:\tlearn: 0.2449708\ttotal: 1.36s\tremaining: 42.4ms\n",
      "1451:\tlearn: 0.2447907\ttotal: 1.37s\tremaining: 41.4ms\n",
      "1452:\tlearn: 0.2447202\ttotal: 1.37s\tremaining: 40.5ms\n",
      "1453:\tlearn: 0.2447101\ttotal: 1.37s\tremaining: 39.5ms\n",
      "1454:\tlearn: 0.2446879\ttotal: 1.37s\tremaining: 38.6ms\n",
      "1455:\tlearn: 0.2446737\ttotal: 1.37s\tremaining: 37.6ms\n",
      "1456:\tlearn: 0.2446734\ttotal: 1.37s\tremaining: 36.7ms\n",
      "1457:\tlearn: 0.2445717\ttotal: 1.37s\tremaining: 35.8ms\n",
      "1458:\tlearn: 0.2445717\ttotal: 1.37s\tremaining: 34.8ms\n",
      "1459:\tlearn: 0.2445711\ttotal: 1.37s\tremaining: 33.9ms\n",
      "1460:\tlearn: 0.2445699\ttotal: 1.37s\tremaining: 32.9ms\n",
      "1461:\tlearn: 0.2445444\ttotal: 1.38s\tremaining: 32ms\n",
      "1462:\tlearn: 0.2445323\ttotal: 1.38s\tremaining: 31.1ms\n",
      "1463:\tlearn: 0.2445098\ttotal: 1.38s\tremaining: 30.1ms\n",
      "1464:\tlearn: 0.2444161\ttotal: 1.38s\tremaining: 29.2ms\n",
      "1465:\tlearn: 0.2443580\ttotal: 1.38s\tremaining: 28.2ms\n",
      "1466:\tlearn: 0.2442763\ttotal: 1.38s\tremaining: 27.3ms\n",
      "1467:\tlearn: 0.2442711\ttotal: 1.38s\tremaining: 26.4ms\n",
      "1468:\tlearn: 0.2442016\ttotal: 1.38s\tremaining: 25.4ms\n",
      "1469:\tlearn: 0.2440455\ttotal: 1.38s\tremaining: 24.5ms\n",
      "1470:\tlearn: 0.2440452\ttotal: 1.38s\tremaining: 23.5ms\n",
      "1471:\tlearn: 0.2439620\ttotal: 1.39s\tremaining: 22.6ms\n",
      "1472:\tlearn: 0.2439134\ttotal: 1.39s\tremaining: 21.6ms\n",
      "1473:\tlearn: 0.2439125\ttotal: 1.39s\tremaining: 20.7ms\n",
      "1474:\tlearn: 0.2438985\ttotal: 1.39s\tremaining: 19.8ms\n",
      "1475:\tlearn: 0.2438764\ttotal: 1.39s\tremaining: 18.8ms\n",
      "1476:\tlearn: 0.2437891\ttotal: 1.39s\tremaining: 17.9ms\n",
      "1477:\tlearn: 0.2437670\ttotal: 1.39s\tremaining: 16.9ms\n",
      "1478:\tlearn: 0.2437594\ttotal: 1.39s\tremaining: 16ms\n",
      "1479:\tlearn: 0.2436591\ttotal: 1.39s\tremaining: 15ms\n",
      "1480:\tlearn: 0.2436583\ttotal: 1.39s\tremaining: 14.1ms\n",
      "1481:\tlearn: 0.2436477\ttotal: 1.39s\tremaining: 13.2ms\n",
      "1482:\tlearn: 0.2435034\ttotal: 1.39s\tremaining: 12.2ms\n",
      "1483:\tlearn: 0.2434699\ttotal: 1.4s\tremaining: 11.3ms\n",
      "1484:\tlearn: 0.2433315\ttotal: 1.4s\tremaining: 10.3ms\n",
      "1485:\tlearn: 0.2432887\ttotal: 1.4s\tremaining: 9.41ms\n",
      "1486:\tlearn: 0.2431529\ttotal: 1.4s\tremaining: 8.46ms\n",
      "1487:\tlearn: 0.2431153\ttotal: 1.4s\tremaining: 7.52ms\n",
      "1488:\tlearn: 0.2430855\ttotal: 1.4s\tremaining: 6.58ms\n",
      "1489:\tlearn: 0.2430371\ttotal: 1.4s\tremaining: 5.64ms\n",
      "1490:\tlearn: 0.2429143\ttotal: 1.4s\tremaining: 4.7ms\n",
      "1491:\tlearn: 0.2429144\ttotal: 1.4s\tremaining: 3.76ms\n",
      "1492:\tlearn: 0.2429006\ttotal: 1.4s\tremaining: 2.82ms\n",
      "1493:\tlearn: 0.2428039\ttotal: 1.4s\tremaining: 1.88ms\n",
      "1494:\tlearn: 0.2427061\ttotal: 1.41s\tremaining: 940us\n",
      "1495:\tlearn: 0.2426096\ttotal: 1.41s\tremaining: 0us\n"
     ]
    },
    {
     "data": {
      "text/plain": [
       "<catboost.core.CatBoostClassifier at 0x20ef2fa7490>"
      ]
     },
     "execution_count": 299,
     "metadata": {},
     "output_type": "execute_result"
    }
   ],
   "source": [
    "model_cat = CatBoostClassifier(**best_params_cat)\n",
    "model_cat.fit(X_train,y_train)"
   ]
  },
  {
   "cell_type": "code",
   "execution_count": 300,
   "metadata": {},
   "outputs": [
    {
     "name": "stdout",
     "output_type": "stream",
     "text": [
      "Training set score: 0.9089\n",
      "Test set score: 0.7989\n"
     ]
    }
   ],
   "source": [
    "#print the scores on training and test set\n",
    "\n",
    "print('Training set score: {:.4f}'.format(model_cat.score(X_train, y_train)))\n",
    "\n",
    "print('Test set score: {:.4f}'.format(model_cat.score(X_test, y_test)))"
   ]
  },
  {
   "cell_type": "code",
   "execution_count": 336,
   "metadata": {},
   "outputs": [],
   "source": [
    "y_pred=model_cat.predict(X_test)"
   ]
  },
  {
   "cell_type": "code",
   "execution_count": 337,
   "metadata": {},
   "outputs": [
    {
     "data": {
      "text/plain": [
       "array([[96, 14],\n",
       "       [22, 47]], dtype=int64)"
      ]
     },
     "execution_count": 337,
     "metadata": {},
     "output_type": "execute_result"
    }
   ],
   "source": [
    "cm = confusion_matrix(y_test, y_pred)\n",
    "cm"
   ]
  },
  {
   "cell_type": "code",
   "execution_count": 338,
   "metadata": {},
   "outputs": [],
   "source": [
    "cat_accuracy = model_cat.score(X_test, y_test)\n",
    "cat_pre = precision_score(y_test, y_pred)\n",
    "cat_rec = recall_score(y_test, y_pred)"
   ]
  },
  {
   "cell_type": "code",
   "execution_count": 339,
   "metadata": {},
   "outputs": [],
   "source": [
    "# creating performance dictionary\n",
    "performance = {'Accuracy_Score':[log_accuracy, knn_accuracy, rfcv_accuracy, cnn_accuracy,lgbm_accuracy,xgb_accuracy,cat_accuracy],\n",
    "              'Precision':[log_pre, knn_pre, rfcv_pre, cnn_pre,lgbm_pre,xgb_pre,cat_pre],\n",
    "              'Recall': [log_rec, knn_rec, rfcv_rec, cnn_rec,lgbm_rec,xgb_rec,cat_rec]}"
   ]
  },
  {
   "cell_type": "code",
   "execution_count": 340,
   "metadata": {},
   "outputs": [],
   "source": [
    "performance_df = pd.DataFrame(data = performance, index= ['Logistic Regression', 'KNeighbors', \n",
    "                                                             'RandomForest Gridsearch',\n",
    "                                                                'ANN','LGBMClassifier','XGBClassifier','CatBoostClassifier'])"
   ]
  },
  {
   "cell_type": "code",
   "execution_count": 341,
   "metadata": {},
   "outputs": [
    {
     "data": {
      "text/html": [
       "<div>\n",
       "<style scoped>\n",
       "    .dataframe tbody tr th:only-of-type {\n",
       "        vertical-align: middle;\n",
       "    }\n",
       "\n",
       "    .dataframe tbody tr th {\n",
       "        vertical-align: top;\n",
       "    }\n",
       "\n",
       "    .dataframe thead th {\n",
       "        text-align: right;\n",
       "    }\n",
       "</style>\n",
       "<table border=\"1\" class=\"dataframe\">\n",
       "  <thead>\n",
       "    <tr style=\"text-align: right;\">\n",
       "      <th></th>\n",
       "      <th>Accuracy_Score</th>\n",
       "      <th>Precision</th>\n",
       "      <th>Recall</th>\n",
       "    </tr>\n",
       "  </thead>\n",
       "  <tbody>\n",
       "    <tr>\n",
       "      <th>XGBClassifier</th>\n",
       "      <td>0.832402</td>\n",
       "      <td>0.800000</td>\n",
       "      <td>0.753623</td>\n",
       "    </tr>\n",
       "    <tr>\n",
       "      <th>RandomForest Gridsearch</th>\n",
       "      <td>0.815642</td>\n",
       "      <td>0.730159</td>\n",
       "      <td>0.666667</td>\n",
       "    </tr>\n",
       "    <tr>\n",
       "      <th>LGBMClassifier</th>\n",
       "      <td>0.810056</td>\n",
       "      <td>0.761194</td>\n",
       "      <td>0.739130</td>\n",
       "    </tr>\n",
       "    <tr>\n",
       "      <th>Logistic Regression</th>\n",
       "      <td>0.804469</td>\n",
       "      <td>0.757576</td>\n",
       "      <td>0.724638</td>\n",
       "    </tr>\n",
       "    <tr>\n",
       "      <th>CatBoostClassifier</th>\n",
       "      <td>0.798883</td>\n",
       "      <td>0.770492</td>\n",
       "      <td>0.681159</td>\n",
       "    </tr>\n",
       "    <tr>\n",
       "      <th>ANN</th>\n",
       "      <td>0.765363</td>\n",
       "      <td>0.662651</td>\n",
       "      <td>0.797101</td>\n",
       "    </tr>\n",
       "    <tr>\n",
       "      <th>KNeighbors</th>\n",
       "      <td>0.659218</td>\n",
       "      <td>0.576923</td>\n",
       "      <td>0.434783</td>\n",
       "    </tr>\n",
       "  </tbody>\n",
       "</table>\n",
       "</div>"
      ],
      "text/plain": [
       "                         Accuracy_Score  Precision    Recall\n",
       "XGBClassifier                  0.832402   0.800000  0.753623\n",
       "RandomForest Gridsearch        0.815642   0.730159  0.666667\n",
       "LGBMClassifier                 0.810056   0.761194  0.739130\n",
       "Logistic Regression            0.804469   0.757576  0.724638\n",
       "CatBoostClassifier             0.798883   0.770492  0.681159\n",
       "ANN                            0.765363   0.662651  0.797101\n",
       "KNeighbors                     0.659218   0.576923  0.434783"
      ]
     },
     "execution_count": 341,
     "metadata": {},
     "output_type": "execute_result"
    }
   ],
   "source": [
    "performance_df.sort_values(by=['Accuracy_Score'],ascending=False)"
   ]
  },
  {
   "attachments": {},
   "cell_type": "markdown",
   "metadata": {},
   "source": [
    "Test"
   ]
  },
  {
   "cell_type": "code",
   "execution_count": 364,
   "metadata": {},
   "outputs": [
    {
     "data": {
      "text/html": [
       "<div>\n",
       "<style scoped>\n",
       "    .dataframe tbody tr th:only-of-type {\n",
       "        vertical-align: middle;\n",
       "    }\n",
       "\n",
       "    .dataframe tbody tr th {\n",
       "        vertical-align: top;\n",
       "    }\n",
       "\n",
       "    .dataframe thead th {\n",
       "        text-align: right;\n",
       "    }\n",
       "</style>\n",
       "<table border=\"1\" class=\"dataframe\">\n",
       "  <thead>\n",
       "    <tr style=\"text-align: right;\">\n",
       "      <th></th>\n",
       "      <th>PassengerId</th>\n",
       "      <th>Pclass</th>\n",
       "      <th>Name</th>\n",
       "      <th>Sex</th>\n",
       "      <th>Age</th>\n",
       "      <th>SibSp</th>\n",
       "      <th>Parch</th>\n",
       "      <th>Ticket</th>\n",
       "      <th>Fare</th>\n",
       "      <th>Cabin</th>\n",
       "      <th>Embarked</th>\n",
       "    </tr>\n",
       "  </thead>\n",
       "  <tbody>\n",
       "    <tr>\n",
       "      <th>0</th>\n",
       "      <td>892</td>\n",
       "      <td>3</td>\n",
       "      <td>Kelly, Mr. James</td>\n",
       "      <td>male</td>\n",
       "      <td>34.5</td>\n",
       "      <td>0</td>\n",
       "      <td>0</td>\n",
       "      <td>330911</td>\n",
       "      <td>7.8292</td>\n",
       "      <td>NaN</td>\n",
       "      <td>Q</td>\n",
       "    </tr>\n",
       "    <tr>\n",
       "      <th>1</th>\n",
       "      <td>893</td>\n",
       "      <td>3</td>\n",
       "      <td>Wilkes, Mrs. James (Ellen Needs)</td>\n",
       "      <td>female</td>\n",
       "      <td>47.0</td>\n",
       "      <td>1</td>\n",
       "      <td>0</td>\n",
       "      <td>363272</td>\n",
       "      <td>7.0000</td>\n",
       "      <td>NaN</td>\n",
       "      <td>S</td>\n",
       "    </tr>\n",
       "    <tr>\n",
       "      <th>2</th>\n",
       "      <td>894</td>\n",
       "      <td>2</td>\n",
       "      <td>Myles, Mr. Thomas Francis</td>\n",
       "      <td>male</td>\n",
       "      <td>62.0</td>\n",
       "      <td>0</td>\n",
       "      <td>0</td>\n",
       "      <td>240276</td>\n",
       "      <td>9.6875</td>\n",
       "      <td>NaN</td>\n",
       "      <td>Q</td>\n",
       "    </tr>\n",
       "    <tr>\n",
       "      <th>3</th>\n",
       "      <td>895</td>\n",
       "      <td>3</td>\n",
       "      <td>Wirz, Mr. Albert</td>\n",
       "      <td>male</td>\n",
       "      <td>27.0</td>\n",
       "      <td>0</td>\n",
       "      <td>0</td>\n",
       "      <td>315154</td>\n",
       "      <td>8.6625</td>\n",
       "      <td>NaN</td>\n",
       "      <td>S</td>\n",
       "    </tr>\n",
       "    <tr>\n",
       "      <th>4</th>\n",
       "      <td>896</td>\n",
       "      <td>3</td>\n",
       "      <td>Hirvonen, Mrs. Alexander (Helga E Lindqvist)</td>\n",
       "      <td>female</td>\n",
       "      <td>22.0</td>\n",
       "      <td>1</td>\n",
       "      <td>1</td>\n",
       "      <td>3101298</td>\n",
       "      <td>12.2875</td>\n",
       "      <td>NaN</td>\n",
       "      <td>S</td>\n",
       "    </tr>\n",
       "  </tbody>\n",
       "</table>\n",
       "</div>"
      ],
      "text/plain": [
       "   PassengerId  Pclass                                          Name     Sex  \\\n",
       "0          892       3                              Kelly, Mr. James    male   \n",
       "1          893       3              Wilkes, Mrs. James (Ellen Needs)  female   \n",
       "2          894       2                     Myles, Mr. Thomas Francis    male   \n",
       "3          895       3                              Wirz, Mr. Albert    male   \n",
       "4          896       3  Hirvonen, Mrs. Alexander (Helga E Lindqvist)  female   \n",
       "\n",
       "    Age  SibSp  Parch   Ticket     Fare Cabin Embarked  \n",
       "0  34.5      0      0   330911   7.8292   NaN        Q  \n",
       "1  47.0      1      0   363272   7.0000   NaN        S  \n",
       "2  62.0      0      0   240276   9.6875   NaN        Q  \n",
       "3  27.0      0      0   315154   8.6625   NaN        S  \n",
       "4  22.0      1      1  3101298  12.2875   NaN        S  "
      ]
     },
     "execution_count": 364,
     "metadata": {},
     "output_type": "execute_result"
    }
   ],
   "source": [
    "test_df = pd.read_csv('test.csv')\n",
    "test_df.head()"
   ]
  },
  {
   "cell_type": "code",
   "execution_count": 365,
   "metadata": {},
   "outputs": [
    {
     "data": {
      "text/html": [
       "<div>\n",
       "<style scoped>\n",
       "    .dataframe tbody tr th:only-of-type {\n",
       "        vertical-align: middle;\n",
       "    }\n",
       "\n",
       "    .dataframe tbody tr th {\n",
       "        vertical-align: top;\n",
       "    }\n",
       "\n",
       "    .dataframe thead th {\n",
       "        text-align: right;\n",
       "    }\n",
       "</style>\n",
       "<table border=\"1\" class=\"dataframe\">\n",
       "  <thead>\n",
       "    <tr style=\"text-align: right;\">\n",
       "      <th></th>\n",
       "      <th>Pclass</th>\n",
       "      <th>Sex</th>\n",
       "      <th>Age</th>\n",
       "      <th>SibSp</th>\n",
       "      <th>Parch</th>\n",
       "      <th>Fare</th>\n",
       "      <th>Embarked</th>\n",
       "    </tr>\n",
       "  </thead>\n",
       "  <tbody>\n",
       "    <tr>\n",
       "      <th>0</th>\n",
       "      <td>3</td>\n",
       "      <td>male</td>\n",
       "      <td>34.5</td>\n",
       "      <td>0</td>\n",
       "      <td>0</td>\n",
       "      <td>7.8292</td>\n",
       "      <td>Q</td>\n",
       "    </tr>\n",
       "    <tr>\n",
       "      <th>1</th>\n",
       "      <td>3</td>\n",
       "      <td>female</td>\n",
       "      <td>47.0</td>\n",
       "      <td>1</td>\n",
       "      <td>0</td>\n",
       "      <td>7.0000</td>\n",
       "      <td>S</td>\n",
       "    </tr>\n",
       "    <tr>\n",
       "      <th>2</th>\n",
       "      <td>2</td>\n",
       "      <td>male</td>\n",
       "      <td>62.0</td>\n",
       "      <td>0</td>\n",
       "      <td>0</td>\n",
       "      <td>9.6875</td>\n",
       "      <td>Q</td>\n",
       "    </tr>\n",
       "    <tr>\n",
       "      <th>3</th>\n",
       "      <td>3</td>\n",
       "      <td>male</td>\n",
       "      <td>27.0</td>\n",
       "      <td>0</td>\n",
       "      <td>0</td>\n",
       "      <td>8.6625</td>\n",
       "      <td>S</td>\n",
       "    </tr>\n",
       "    <tr>\n",
       "      <th>4</th>\n",
       "      <td>3</td>\n",
       "      <td>female</td>\n",
       "      <td>22.0</td>\n",
       "      <td>1</td>\n",
       "      <td>1</td>\n",
       "      <td>12.2875</td>\n",
       "      <td>S</td>\n",
       "    </tr>\n",
       "  </tbody>\n",
       "</table>\n",
       "</div>"
      ],
      "text/plain": [
       "   Pclass     Sex   Age  SibSp  Parch     Fare Embarked\n",
       "0       3    male  34.5      0      0   7.8292        Q\n",
       "1       3  female  47.0      1      0   7.0000        S\n",
       "2       2    male  62.0      0      0   9.6875        Q\n",
       "3       3    male  27.0      0      0   8.6625        S\n",
       "4       3  female  22.0      1      1  12.2875        S"
      ]
     },
     "execution_count": 365,
     "metadata": {},
     "output_type": "execute_result"
    }
   ],
   "source": [
    "test_df_1 = test_df.drop(['PassengerId','Name','Cabin','Ticket'],axis=1)\n",
    "test_df_1.head()"
   ]
  },
  {
   "cell_type": "code",
   "execution_count": 366,
   "metadata": {},
   "outputs": [
    {
     "data": {
      "text/plain": [
       "1    218\n",
       "3    107\n",
       "2     93\n",
       "Name: Pclass, dtype: int64"
      ]
     },
     "execution_count": 366,
     "metadata": {},
     "output_type": "execute_result"
    }
   ],
   "source": [
    "test_df_1.Pclass = test_df_1.Pclass.replace(to_replace=[1,2,3],value=[3,2,1])\n",
    "test_df_1.Pclass.value_counts()"
   ]
  },
  {
   "cell_type": "code",
   "execution_count": 367,
   "metadata": {},
   "outputs": [
    {
     "data": {
      "text/plain": [
       "Pclass       0\n",
       "Sex          0\n",
       "Age         86\n",
       "SibSp        0\n",
       "Parch        0\n",
       "Fare         1\n",
       "Embarked     0\n",
       "dtype: int64"
      ]
     },
     "execution_count": 367,
     "metadata": {},
     "output_type": "execute_result"
    }
   ],
   "source": [
    "test_df_1.isnull().sum()"
   ]
  },
  {
   "cell_type": "code",
   "execution_count": 368,
   "metadata": {},
   "outputs": [
    {
     "data": {
      "text/plain": [
       "Pclass      0\n",
       "Sex         0\n",
       "Age         0\n",
       "SibSp       0\n",
       "Parch       0\n",
       "Fare        0\n",
       "Embarked    0\n",
       "dtype: int64"
      ]
     },
     "execution_count": 368,
     "metadata": {},
     "output_type": "execute_result"
    }
   ],
   "source": [
    "test_df_1.Age.fillna(df1.Age.median(),inplace=True)\n",
    "test_df_1.Fare.fillna(df1.Fare.median(),inplace=True)\n",
    "test_df_1.isnull().sum()"
   ]
  },
  {
   "cell_type": "code",
   "execution_count": 369,
   "metadata": {},
   "outputs": [
    {
     "data": {
      "text/plain": [
       "(418, 8)"
      ]
     },
     "execution_count": 369,
     "metadata": {},
     "output_type": "execute_result"
    }
   ],
   "source": [
    "test_df_2 = pd.get_dummies(data = test_df_1,columns=categorical,drop_first=True)\n",
    "test_df_2.shape"
   ]
  },
  {
   "cell_type": "code",
   "execution_count": 370,
   "metadata": {},
   "outputs": [
    {
     "data": {
      "text/html": [
       "<div>\n",
       "<style scoped>\n",
       "    .dataframe tbody tr th:only-of-type {\n",
       "        vertical-align: middle;\n",
       "    }\n",
       "\n",
       "    .dataframe tbody tr th {\n",
       "        vertical-align: top;\n",
       "    }\n",
       "\n",
       "    .dataframe thead th {\n",
       "        text-align: right;\n",
       "    }\n",
       "</style>\n",
       "<table border=\"1\" class=\"dataframe\">\n",
       "  <thead>\n",
       "    <tr style=\"text-align: right;\">\n",
       "      <th></th>\n",
       "      <th>PassengerId</th>\n",
       "      <th>Survived</th>\n",
       "    </tr>\n",
       "  </thead>\n",
       "  <tbody>\n",
       "    <tr>\n",
       "      <th>0</th>\n",
       "      <td>892</td>\n",
       "      <td>0</td>\n",
       "    </tr>\n",
       "    <tr>\n",
       "      <th>1</th>\n",
       "      <td>893</td>\n",
       "      <td>1</td>\n",
       "    </tr>\n",
       "    <tr>\n",
       "      <th>2</th>\n",
       "      <td>894</td>\n",
       "      <td>0</td>\n",
       "    </tr>\n",
       "    <tr>\n",
       "      <th>3</th>\n",
       "      <td>895</td>\n",
       "      <td>0</td>\n",
       "    </tr>\n",
       "    <tr>\n",
       "      <th>4</th>\n",
       "      <td>896</td>\n",
       "      <td>1</td>\n",
       "    </tr>\n",
       "  </tbody>\n",
       "</table>\n",
       "</div>"
      ],
      "text/plain": [
       "   PassengerId  Survived\n",
       "0          892         0\n",
       "1          893         1\n",
       "2          894         0\n",
       "3          895         0\n",
       "4          896         1"
      ]
     },
     "execution_count": 370,
     "metadata": {},
     "output_type": "execute_result"
    }
   ],
   "source": [
    "sample = pd.read_csv('gender_submission.csv')\n",
    "sample.head()"
   ]
  },
  {
   "attachments": {},
   "cell_type": "markdown",
   "metadata": {},
   "source": [
    "Best model XGB"
   ]
  },
  {
   "cell_type": "code",
   "execution_count": 372,
   "metadata": {},
   "outputs": [],
   "source": [
    "y_pred_test_xgb = model_xgb.predict(test_df_2)"
   ]
  },
  {
   "cell_type": "code",
   "execution_count": 375,
   "metadata": {},
   "outputs": [
    {
     "data": {
      "text/html": [
       "<div>\n",
       "<style scoped>\n",
       "    .dataframe tbody tr th:only-of-type {\n",
       "        vertical-align: middle;\n",
       "    }\n",
       "\n",
       "    .dataframe tbody tr th {\n",
       "        vertical-align: top;\n",
       "    }\n",
       "\n",
       "    .dataframe thead th {\n",
       "        text-align: right;\n",
       "    }\n",
       "</style>\n",
       "<table border=\"1\" class=\"dataframe\">\n",
       "  <thead>\n",
       "    <tr style=\"text-align: right;\">\n",
       "      <th></th>\n",
       "      <th>PassengerId</th>\n",
       "      <th>Survived</th>\n",
       "    </tr>\n",
       "  </thead>\n",
       "  <tbody>\n",
       "    <tr>\n",
       "      <th>0</th>\n",
       "      <td>892</td>\n",
       "      <td>0</td>\n",
       "    </tr>\n",
       "    <tr>\n",
       "      <th>1</th>\n",
       "      <td>893</td>\n",
       "      <td>0</td>\n",
       "    </tr>\n",
       "    <tr>\n",
       "      <th>2</th>\n",
       "      <td>894</td>\n",
       "      <td>0</td>\n",
       "    </tr>\n",
       "    <tr>\n",
       "      <th>3</th>\n",
       "      <td>895</td>\n",
       "      <td>0</td>\n",
       "    </tr>\n",
       "    <tr>\n",
       "      <th>4</th>\n",
       "      <td>896</td>\n",
       "      <td>0</td>\n",
       "    </tr>\n",
       "  </tbody>\n",
       "</table>\n",
       "</div>"
      ],
      "text/plain": [
       "   PassengerId  Survived\n",
       "0          892         0\n",
       "1          893         0\n",
       "2          894         0\n",
       "3          895         0\n",
       "4          896         0"
      ]
     },
     "execution_count": 375,
     "metadata": {},
     "output_type": "execute_result"
    }
   ],
   "source": [
    "submission = pd.DataFrame({'PassengerId':sample['PassengerId'],'Survived':y_pred_test_xgb})\n",
    "submission.head()"
   ]
  },
  {
   "cell_type": "code",
   "execution_count": 377,
   "metadata": {},
   "outputs": [],
   "source": [
    "submission.to_csv('solo_xgb_subs.csv',index=False)"
   ]
  },
  {
   "attachments": {},
   "cell_type": "markdown",
   "metadata": {},
   "source": [
    "xgb best params on full data"
   ]
  },
  {
   "cell_type": "code",
   "execution_count": 386,
   "metadata": {},
   "outputs": [
    {
     "data": {
      "text/html": [
       "<style>#sk-container-id-17 {color: black;background-color: white;}#sk-container-id-17 pre{padding: 0;}#sk-container-id-17 div.sk-toggleable {background-color: white;}#sk-container-id-17 label.sk-toggleable__label {cursor: pointer;display: block;width: 100%;margin-bottom: 0;padding: 0.3em;box-sizing: border-box;text-align: center;}#sk-container-id-17 label.sk-toggleable__label-arrow:before {content: \"▸\";float: left;margin-right: 0.25em;color: #696969;}#sk-container-id-17 label.sk-toggleable__label-arrow:hover:before {color: black;}#sk-container-id-17 div.sk-estimator:hover label.sk-toggleable__label-arrow:before {color: black;}#sk-container-id-17 div.sk-toggleable__content {max-height: 0;max-width: 0;overflow: hidden;text-align: left;background-color: #f0f8ff;}#sk-container-id-17 div.sk-toggleable__content pre {margin: 0.2em;color: black;border-radius: 0.25em;background-color: #f0f8ff;}#sk-container-id-17 input.sk-toggleable__control:checked~div.sk-toggleable__content {max-height: 200px;max-width: 100%;overflow: auto;}#sk-container-id-17 input.sk-toggleable__control:checked~label.sk-toggleable__label-arrow:before {content: \"▾\";}#sk-container-id-17 div.sk-estimator input.sk-toggleable__control:checked~label.sk-toggleable__label {background-color: #d4ebff;}#sk-container-id-17 div.sk-label input.sk-toggleable__control:checked~label.sk-toggleable__label {background-color: #d4ebff;}#sk-container-id-17 input.sk-hidden--visually {border: 0;clip: rect(1px 1px 1px 1px);clip: rect(1px, 1px, 1px, 1px);height: 1px;margin: -1px;overflow: hidden;padding: 0;position: absolute;width: 1px;}#sk-container-id-17 div.sk-estimator {font-family: monospace;background-color: #f0f8ff;border: 1px dotted black;border-radius: 0.25em;box-sizing: border-box;margin-bottom: 0.5em;}#sk-container-id-17 div.sk-estimator:hover {background-color: #d4ebff;}#sk-container-id-17 div.sk-parallel-item::after {content: \"\";width: 100%;border-bottom: 1px solid gray;flex-grow: 1;}#sk-container-id-17 div.sk-label:hover label.sk-toggleable__label {background-color: #d4ebff;}#sk-container-id-17 div.sk-serial::before {content: \"\";position: absolute;border-left: 1px solid gray;box-sizing: border-box;top: 0;bottom: 0;left: 50%;z-index: 0;}#sk-container-id-17 div.sk-serial {display: flex;flex-direction: column;align-items: center;background-color: white;padding-right: 0.2em;padding-left: 0.2em;position: relative;}#sk-container-id-17 div.sk-item {position: relative;z-index: 1;}#sk-container-id-17 div.sk-parallel {display: flex;align-items: stretch;justify-content: center;background-color: white;position: relative;}#sk-container-id-17 div.sk-item::before, #sk-container-id-17 div.sk-parallel-item::before {content: \"\";position: absolute;border-left: 1px solid gray;box-sizing: border-box;top: 0;bottom: 0;left: 50%;z-index: -1;}#sk-container-id-17 div.sk-parallel-item {display: flex;flex-direction: column;z-index: 1;position: relative;background-color: white;}#sk-container-id-17 div.sk-parallel-item:first-child::after {align-self: flex-end;width: 50%;}#sk-container-id-17 div.sk-parallel-item:last-child::after {align-self: flex-start;width: 50%;}#sk-container-id-17 div.sk-parallel-item:only-child::after {width: 0;}#sk-container-id-17 div.sk-dashed-wrapped {border: 1px dashed gray;margin: 0 0.4em 0.5em 0.4em;box-sizing: border-box;padding-bottom: 0.4em;background-color: white;}#sk-container-id-17 div.sk-label label {font-family: monospace;font-weight: bold;display: inline-block;line-height: 1.2em;}#sk-container-id-17 div.sk-label-container {text-align: center;}#sk-container-id-17 div.sk-container {/* jupyter's `normalize.less` sets `[hidden] { display: none; }` but bootstrap.min.css set `[hidden] { display: none !important; }` so we also need the `!important` here to be able to override the default hidden behavior on the sphinx rendered scikit-learn.org. See: https://github.com/scikit-learn/scikit-learn/issues/21755 */display: inline-block !important;position: relative;}#sk-container-id-17 div.sk-text-repr-fallback {display: none;}</style><div id=\"sk-container-id-17\" class=\"sk-top-container\"><div class=\"sk-text-repr-fallback\"><pre>XGBClassifier(alpha=0.9540999301615802, base_score=0.5, booster=&#x27;gbtree&#x27;,\n",
       "              callbacks=None, colsample_bylevel=1, colsample_bynode=1,\n",
       "              colsample_bytree=0.3183118604374744, early_stopping_rounds=None,\n",
       "              enable_categorical=False, eta=0.6754638021374282,\n",
       "              eval_metric=None, feature_types=None, gamma=0.3381768967168981,\n",
       "              gpu_id=-1, grow_policy=&#x27;depthwise&#x27;, importance_type=None,\n",
       "              interaction_constraints=&#x27;&#x27;, lambda=0.008115113628130671,\n",
       "              learning_rate=0.046672881783627655, max_bin=256,\n",
       "              max_cat_threshold=64, max_cat_to_onehot=4, max_delta_step=0,\n",
       "              max_depth=3, max_leaves=0, min_child_weight=7, missing=nan,\n",
       "              monotone_constraints=&#x27;()&#x27;, n_estimators=410, n_jobs=0, ...)</pre><b>In a Jupyter environment, please rerun this cell to show the HTML representation or trust the notebook. <br />On GitHub, the HTML representation is unable to render, please try loading this page with nbviewer.org.</b></div><div class=\"sk-container\" hidden><div class=\"sk-item\"><div class=\"sk-estimator sk-toggleable\"><input class=\"sk-toggleable__control sk-hidden--visually\" id=\"sk-estimator-id-17\" type=\"checkbox\" checked><label for=\"sk-estimator-id-17\" class=\"sk-toggleable__label sk-toggleable__label-arrow\">XGBClassifier</label><div class=\"sk-toggleable__content\"><pre>XGBClassifier(alpha=0.9540999301615802, base_score=0.5, booster=&#x27;gbtree&#x27;,\n",
       "              callbacks=None, colsample_bylevel=1, colsample_bynode=1,\n",
       "              colsample_bytree=0.3183118604374744, early_stopping_rounds=None,\n",
       "              enable_categorical=False, eta=0.6754638021374282,\n",
       "              eval_metric=None, feature_types=None, gamma=0.3381768967168981,\n",
       "              gpu_id=-1, grow_policy=&#x27;depthwise&#x27;, importance_type=None,\n",
       "              interaction_constraints=&#x27;&#x27;, lambda=0.008115113628130671,\n",
       "              learning_rate=0.046672881783627655, max_bin=256,\n",
       "              max_cat_threshold=64, max_cat_to_onehot=4, max_delta_step=0,\n",
       "              max_depth=3, max_leaves=0, min_child_weight=7, missing=nan,\n",
       "              monotone_constraints=&#x27;()&#x27;, n_estimators=410, n_jobs=0, ...)</pre></div></div></div></div></div>"
      ],
      "text/plain": [
       "XGBClassifier(alpha=0.9540999301615802, base_score=0.5, booster='gbtree',\n",
       "              callbacks=None, colsample_bylevel=1, colsample_bynode=1,\n",
       "              colsample_bytree=0.3183118604374744, early_stopping_rounds=None,\n",
       "              enable_categorical=False, eta=0.6754638021374282,\n",
       "              eval_metric=None, feature_types=None, gamma=0.3381768967168981,\n",
       "              gpu_id=-1, grow_policy='depthwise', importance_type=None,\n",
       "              interaction_constraints='', lambda=0.008115113628130671,\n",
       "              learning_rate=0.046672881783627655, max_bin=256,\n",
       "              max_cat_threshold=64, max_cat_to_onehot=4, max_delta_step=0,\n",
       "              max_depth=3, max_leaves=0, min_child_weight=7, missing=nan,\n",
       "              monotone_constraints='()', n_estimators=410, n_jobs=0, ...)"
      ]
     },
     "execution_count": 386,
     "metadata": {},
     "output_type": "execute_result"
    }
   ],
   "source": [
    "model_xgb = xgb.XGBClassifier(objective='binary:logistic', **best_params)\n",
    "model_xgb.fit(X,y)"
   ]
  },
  {
   "cell_type": "code",
   "execution_count": 387,
   "metadata": {},
   "outputs": [],
   "source": [
    "y_pred_test_xgb = model_xgb.predict(test_df_2)"
   ]
  },
  {
   "cell_type": "code",
   "execution_count": 388,
   "metadata": {},
   "outputs": [
    {
     "data": {
      "text/html": [
       "<div>\n",
       "<style scoped>\n",
       "    .dataframe tbody tr th:only-of-type {\n",
       "        vertical-align: middle;\n",
       "    }\n",
       "\n",
       "    .dataframe tbody tr th {\n",
       "        vertical-align: top;\n",
       "    }\n",
       "\n",
       "    .dataframe thead th {\n",
       "        text-align: right;\n",
       "    }\n",
       "</style>\n",
       "<table border=\"1\" class=\"dataframe\">\n",
       "  <thead>\n",
       "    <tr style=\"text-align: right;\">\n",
       "      <th></th>\n",
       "      <th>PassengerId</th>\n",
       "      <th>Survived</th>\n",
       "    </tr>\n",
       "  </thead>\n",
       "  <tbody>\n",
       "    <tr>\n",
       "      <th>0</th>\n",
       "      <td>892</td>\n",
       "      <td>0</td>\n",
       "    </tr>\n",
       "    <tr>\n",
       "      <th>1</th>\n",
       "      <td>893</td>\n",
       "      <td>0</td>\n",
       "    </tr>\n",
       "    <tr>\n",
       "      <th>2</th>\n",
       "      <td>894</td>\n",
       "      <td>0</td>\n",
       "    </tr>\n",
       "    <tr>\n",
       "      <th>3</th>\n",
       "      <td>895</td>\n",
       "      <td>0</td>\n",
       "    </tr>\n",
       "    <tr>\n",
       "      <th>4</th>\n",
       "      <td>896</td>\n",
       "      <td>1</td>\n",
       "    </tr>\n",
       "  </tbody>\n",
       "</table>\n",
       "</div>"
      ],
      "text/plain": [
       "   PassengerId  Survived\n",
       "0          892         0\n",
       "1          893         0\n",
       "2          894         0\n",
       "3          895         0\n",
       "4          896         1"
      ]
     },
     "execution_count": 388,
     "metadata": {},
     "output_type": "execute_result"
    }
   ],
   "source": [
    "submission = pd.DataFrame({'PassengerId':sample['PassengerId'],'Survived':y_pred_test_xgb})\n",
    "submission.head()"
   ]
  },
  {
   "cell_type": "code",
   "execution_count": 389,
   "metadata": {},
   "outputs": [],
   "source": [
    "submission.to_csv('solo_xgb_fulldata_subs.csv',index=False)"
   ]
  },
  {
   "attachments": {},
   "cell_type": "markdown",
   "metadata": {},
   "source": [
    "Ensemble xgb and lgbm"
   ]
  },
  {
   "cell_type": "code",
   "execution_count": 378,
   "metadata": {},
   "outputs": [],
   "source": [
    "y_pred_test_lgbm = lgbm_clf.predict(test_df_2)"
   ]
  },
  {
   "cell_type": "code",
   "execution_count": 381,
   "metadata": {},
   "outputs": [],
   "source": [
    "y_pred_test_lr = logreg.predict(test_df_2)"
   ]
  },
  {
   "cell_type": "code",
   "execution_count": 382,
   "metadata": {},
   "outputs": [],
   "source": [
    "import numpy as np\n",
    "\n",
    "# Combine the predictions into a single array\n",
    "ensemble_preds = np.array([y_pred_test_lgbm, y_pred_test_xgb, y_pred_test_lr])\n",
    "\n",
    "# Take the mode (most common value) of each row to get the final ensemble prediction\n",
    "final_preds = np.apply_along_axis(lambda x: np.argmax(np.bincount(x)), axis=0, arr=ensemble_preds)\n",
    "\n",
    "final_preds = final_preds.reshape(-1,)"
   ]
  },
  {
   "cell_type": "code",
   "execution_count": null,
   "metadata": {},
   "outputs": [
    {
     "data": {
      "text/html": [
       "<div>\n",
       "<style scoped>\n",
       "    .dataframe tbody tr th:only-of-type {\n",
       "        vertical-align: middle;\n",
       "    }\n",
       "\n",
       "    .dataframe tbody tr th {\n",
       "        vertical-align: top;\n",
       "    }\n",
       "\n",
       "    .dataframe thead th {\n",
       "        text-align: right;\n",
       "    }\n",
       "</style>\n",
       "<table border=\"1\" class=\"dataframe\">\n",
       "  <thead>\n",
       "    <tr style=\"text-align: right;\">\n",
       "      <th></th>\n",
       "      <th>PassengerId</th>\n",
       "      <th>Survived</th>\n",
       "    </tr>\n",
       "  </thead>\n",
       "  <tbody>\n",
       "    <tr>\n",
       "      <th>0</th>\n",
       "      <td>892</td>\n",
       "      <td>0</td>\n",
       "    </tr>\n",
       "    <tr>\n",
       "      <th>1</th>\n",
       "      <td>893</td>\n",
       "      <td>0</td>\n",
       "    </tr>\n",
       "    <tr>\n",
       "      <th>2</th>\n",
       "      <td>894</td>\n",
       "      <td>0</td>\n",
       "    </tr>\n",
       "    <tr>\n",
       "      <th>3</th>\n",
       "      <td>895</td>\n",
       "      <td>0</td>\n",
       "    </tr>\n",
       "    <tr>\n",
       "      <th>4</th>\n",
       "      <td>896</td>\n",
       "      <td>0</td>\n",
       "    </tr>\n",
       "  </tbody>\n",
       "</table>\n",
       "</div>"
      ],
      "text/plain": [
       "   PassengerId  Survived\n",
       "0          892         0\n",
       "1          893         0\n",
       "2          894         0\n",
       "3          895         0\n",
       "4          896         0"
      ]
     },
     "metadata": {},
     "output_type": "display_data"
    }
   ],
   "source": [
    "submission = pd.DataFrame({'PassengerId':sample['PassengerId'],'Survived':final_preds})\n",
    "submission.head()"
   ]
  },
  {
   "cell_type": "code",
   "execution_count": 384,
   "metadata": {},
   "outputs": [],
   "source": [
    "submission.to_csv('ens_xgb_lgbm_lr_subs.csv',index=False)"
   ]
  },
  {
   "attachments": {},
   "cell_type": "markdown",
   "metadata": {},
   "source": [
    "Ens on full data"
   ]
  },
  {
   "attachments": {},
   "cell_type": "markdown",
   "metadata": {},
   "source": [
    "lbgm"
   ]
  },
  {
   "cell_type": "code",
   "execution_count": 392,
   "metadata": {},
   "outputs": [
    {
     "data": {
      "text/html": [
       "<style>#sk-container-id-18 {color: black;background-color: white;}#sk-container-id-18 pre{padding: 0;}#sk-container-id-18 div.sk-toggleable {background-color: white;}#sk-container-id-18 label.sk-toggleable__label {cursor: pointer;display: block;width: 100%;margin-bottom: 0;padding: 0.3em;box-sizing: border-box;text-align: center;}#sk-container-id-18 label.sk-toggleable__label-arrow:before {content: \"▸\";float: left;margin-right: 0.25em;color: #696969;}#sk-container-id-18 label.sk-toggleable__label-arrow:hover:before {color: black;}#sk-container-id-18 div.sk-estimator:hover label.sk-toggleable__label-arrow:before {color: black;}#sk-container-id-18 div.sk-toggleable__content {max-height: 0;max-width: 0;overflow: hidden;text-align: left;background-color: #f0f8ff;}#sk-container-id-18 div.sk-toggleable__content pre {margin: 0.2em;color: black;border-radius: 0.25em;background-color: #f0f8ff;}#sk-container-id-18 input.sk-toggleable__control:checked~div.sk-toggleable__content {max-height: 200px;max-width: 100%;overflow: auto;}#sk-container-id-18 input.sk-toggleable__control:checked~label.sk-toggleable__label-arrow:before {content: \"▾\";}#sk-container-id-18 div.sk-estimator input.sk-toggleable__control:checked~label.sk-toggleable__label {background-color: #d4ebff;}#sk-container-id-18 div.sk-label input.sk-toggleable__control:checked~label.sk-toggleable__label {background-color: #d4ebff;}#sk-container-id-18 input.sk-hidden--visually {border: 0;clip: rect(1px 1px 1px 1px);clip: rect(1px, 1px, 1px, 1px);height: 1px;margin: -1px;overflow: hidden;padding: 0;position: absolute;width: 1px;}#sk-container-id-18 div.sk-estimator {font-family: monospace;background-color: #f0f8ff;border: 1px dotted black;border-radius: 0.25em;box-sizing: border-box;margin-bottom: 0.5em;}#sk-container-id-18 div.sk-estimator:hover {background-color: #d4ebff;}#sk-container-id-18 div.sk-parallel-item::after {content: \"\";width: 100%;border-bottom: 1px solid gray;flex-grow: 1;}#sk-container-id-18 div.sk-label:hover label.sk-toggleable__label {background-color: #d4ebff;}#sk-container-id-18 div.sk-serial::before {content: \"\";position: absolute;border-left: 1px solid gray;box-sizing: border-box;top: 0;bottom: 0;left: 50%;z-index: 0;}#sk-container-id-18 div.sk-serial {display: flex;flex-direction: column;align-items: center;background-color: white;padding-right: 0.2em;padding-left: 0.2em;position: relative;}#sk-container-id-18 div.sk-item {position: relative;z-index: 1;}#sk-container-id-18 div.sk-parallel {display: flex;align-items: stretch;justify-content: center;background-color: white;position: relative;}#sk-container-id-18 div.sk-item::before, #sk-container-id-18 div.sk-parallel-item::before {content: \"\";position: absolute;border-left: 1px solid gray;box-sizing: border-box;top: 0;bottom: 0;left: 50%;z-index: -1;}#sk-container-id-18 div.sk-parallel-item {display: flex;flex-direction: column;z-index: 1;position: relative;background-color: white;}#sk-container-id-18 div.sk-parallel-item:first-child::after {align-self: flex-end;width: 50%;}#sk-container-id-18 div.sk-parallel-item:last-child::after {align-self: flex-start;width: 50%;}#sk-container-id-18 div.sk-parallel-item:only-child::after {width: 0;}#sk-container-id-18 div.sk-dashed-wrapped {border: 1px dashed gray;margin: 0 0.4em 0.5em 0.4em;box-sizing: border-box;padding-bottom: 0.4em;background-color: white;}#sk-container-id-18 div.sk-label label {font-family: monospace;font-weight: bold;display: inline-block;line-height: 1.2em;}#sk-container-id-18 div.sk-label-container {text-align: center;}#sk-container-id-18 div.sk-container {/* jupyter's `normalize.less` sets `[hidden] { display: none; }` but bootstrap.min.css set `[hidden] { display: none !important; }` so we also need the `!important` here to be able to override the default hidden behavior on the sphinx rendered scikit-learn.org. See: https://github.com/scikit-learn/scikit-learn/issues/21755 */display: inline-block !important;position: relative;}#sk-container-id-18 div.sk-text-repr-fallback {display: none;}</style><div id=\"sk-container-id-18\" class=\"sk-top-container\"><div class=\"sk-text-repr-fallback\"><pre>LGBMClassifier()</pre><b>In a Jupyter environment, please rerun this cell to show the HTML representation or trust the notebook. <br />On GitHub, the HTML representation is unable to render, please try loading this page with nbviewer.org.</b></div><div class=\"sk-container\" hidden><div class=\"sk-item\"><div class=\"sk-estimator sk-toggleable\"><input class=\"sk-toggleable__control sk-hidden--visually\" id=\"sk-estimator-id-18\" type=\"checkbox\" checked><label for=\"sk-estimator-id-18\" class=\"sk-toggleable__label sk-toggleable__label-arrow\">LGBMClassifier</label><div class=\"sk-toggleable__content\"><pre>LGBMClassifier()</pre></div></div></div></div></div>"
      ],
      "text/plain": [
       "LGBMClassifier()"
      ]
     },
     "execution_count": 392,
     "metadata": {},
     "output_type": "execute_result"
    }
   ],
   "source": [
    "import lightgbm as lgb\n",
    "lgbm_clf = lgb.LGBMClassifier(boosting_type= 'gbdt',\n",
    " class_weight= None,\n",
    " colsample_bytree= 1.0,\n",
    " importance_type= 'split',\n",
    " learning_rate= 0.1,\n",
    " max_depth= -1,\n",
    " min_child_samples= 20,\n",
    " min_child_weight= 0.001,\n",
    " min_split_gain= 0.0,\n",
    " n_estimators= 100,\n",
    " n_jobs= -1,\n",
    " num_leaves= 31,\n",
    " objective= None,\n",
    " random_state= None,\n",
    " reg_alpha= 0.0,\n",
    " reg_lambda= 0.0,\n",
    " silent= 'warn',\n",
    " subsample= 1.0,\n",
    " subsample_for_bin= 200000,\n",
    " subsample_freq= 0)\n",
    "lgbm_clf.fit(X, y)"
   ]
  },
  {
   "cell_type": "code",
   "execution_count": 396,
   "metadata": {},
   "outputs": [
    {
     "data": {
      "text/html": [
       "<style>#sk-container-id-19 {color: black;background-color: white;}#sk-container-id-19 pre{padding: 0;}#sk-container-id-19 div.sk-toggleable {background-color: white;}#sk-container-id-19 label.sk-toggleable__label {cursor: pointer;display: block;width: 100%;margin-bottom: 0;padding: 0.3em;box-sizing: border-box;text-align: center;}#sk-container-id-19 label.sk-toggleable__label-arrow:before {content: \"▸\";float: left;margin-right: 0.25em;color: #696969;}#sk-container-id-19 label.sk-toggleable__label-arrow:hover:before {color: black;}#sk-container-id-19 div.sk-estimator:hover label.sk-toggleable__label-arrow:before {color: black;}#sk-container-id-19 div.sk-toggleable__content {max-height: 0;max-width: 0;overflow: hidden;text-align: left;background-color: #f0f8ff;}#sk-container-id-19 div.sk-toggleable__content pre {margin: 0.2em;color: black;border-radius: 0.25em;background-color: #f0f8ff;}#sk-container-id-19 input.sk-toggleable__control:checked~div.sk-toggleable__content {max-height: 200px;max-width: 100%;overflow: auto;}#sk-container-id-19 input.sk-toggleable__control:checked~label.sk-toggleable__label-arrow:before {content: \"▾\";}#sk-container-id-19 div.sk-estimator input.sk-toggleable__control:checked~label.sk-toggleable__label {background-color: #d4ebff;}#sk-container-id-19 div.sk-label input.sk-toggleable__control:checked~label.sk-toggleable__label {background-color: #d4ebff;}#sk-container-id-19 input.sk-hidden--visually {border: 0;clip: rect(1px 1px 1px 1px);clip: rect(1px, 1px, 1px, 1px);height: 1px;margin: -1px;overflow: hidden;padding: 0;position: absolute;width: 1px;}#sk-container-id-19 div.sk-estimator {font-family: monospace;background-color: #f0f8ff;border: 1px dotted black;border-radius: 0.25em;box-sizing: border-box;margin-bottom: 0.5em;}#sk-container-id-19 div.sk-estimator:hover {background-color: #d4ebff;}#sk-container-id-19 div.sk-parallel-item::after {content: \"\";width: 100%;border-bottom: 1px solid gray;flex-grow: 1;}#sk-container-id-19 div.sk-label:hover label.sk-toggleable__label {background-color: #d4ebff;}#sk-container-id-19 div.sk-serial::before {content: \"\";position: absolute;border-left: 1px solid gray;box-sizing: border-box;top: 0;bottom: 0;left: 50%;z-index: 0;}#sk-container-id-19 div.sk-serial {display: flex;flex-direction: column;align-items: center;background-color: white;padding-right: 0.2em;padding-left: 0.2em;position: relative;}#sk-container-id-19 div.sk-item {position: relative;z-index: 1;}#sk-container-id-19 div.sk-parallel {display: flex;align-items: stretch;justify-content: center;background-color: white;position: relative;}#sk-container-id-19 div.sk-item::before, #sk-container-id-19 div.sk-parallel-item::before {content: \"\";position: absolute;border-left: 1px solid gray;box-sizing: border-box;top: 0;bottom: 0;left: 50%;z-index: -1;}#sk-container-id-19 div.sk-parallel-item {display: flex;flex-direction: column;z-index: 1;position: relative;background-color: white;}#sk-container-id-19 div.sk-parallel-item:first-child::after {align-self: flex-end;width: 50%;}#sk-container-id-19 div.sk-parallel-item:last-child::after {align-self: flex-start;width: 50%;}#sk-container-id-19 div.sk-parallel-item:only-child::after {width: 0;}#sk-container-id-19 div.sk-dashed-wrapped {border: 1px dashed gray;margin: 0 0.4em 0.5em 0.4em;box-sizing: border-box;padding-bottom: 0.4em;background-color: white;}#sk-container-id-19 div.sk-label label {font-family: monospace;font-weight: bold;display: inline-block;line-height: 1.2em;}#sk-container-id-19 div.sk-label-container {text-align: center;}#sk-container-id-19 div.sk-container {/* jupyter's `normalize.less` sets `[hidden] { display: none; }` but bootstrap.min.css set `[hidden] { display: none !important; }` so we also need the `!important` here to be able to override the default hidden behavior on the sphinx rendered scikit-learn.org. See: https://github.com/scikit-learn/scikit-learn/issues/21755 */display: inline-block !important;position: relative;}#sk-container-id-19 div.sk-text-repr-fallback {display: none;}</style><div id=\"sk-container-id-19\" class=\"sk-top-container\"><div class=\"sk-text-repr-fallback\"><pre>LogisticRegression(random_state=0, solver=&#x27;liblinear&#x27;)</pre><b>In a Jupyter environment, please rerun this cell to show the HTML representation or trust the notebook. <br />On GitHub, the HTML representation is unable to render, please try loading this page with nbviewer.org.</b></div><div class=\"sk-container\" hidden><div class=\"sk-item\"><div class=\"sk-estimator sk-toggleable\"><input class=\"sk-toggleable__control sk-hidden--visually\" id=\"sk-estimator-id-19\" type=\"checkbox\" checked><label for=\"sk-estimator-id-19\" class=\"sk-toggleable__label sk-toggleable__label-arrow\">LogisticRegression</label><div class=\"sk-toggleable__content\"><pre>LogisticRegression(random_state=0, solver=&#x27;liblinear&#x27;)</pre></div></div></div></div></div>"
      ],
      "text/plain": [
       "LogisticRegression(random_state=0, solver='liblinear')"
      ]
     },
     "execution_count": 396,
     "metadata": {},
     "output_type": "execute_result"
    }
   ],
   "source": [
    "\n",
    "# instantiate the model\n",
    "logreg = LogisticRegression(C= 1.0,\n",
    " class_weight= None,\n",
    " dual= False,\n",
    " fit_intercept= True,\n",
    " intercept_scaling= 1,\n",
    " l1_ratio= None,\n",
    " max_iter= 100,\n",
    " multi_class= 'auto',\n",
    " n_jobs= None,\n",
    " penalty= 'l2',\n",
    " random_state= 0,\n",
    " solver= 'liblinear',\n",
    " tol= 0.0001,\n",
    " verbose= 0,\n",
    " warm_start= False)\n",
    "\n",
    "# fit the model\n",
    "logreg.fit(X, y)"
   ]
  },
  {
   "cell_type": "code",
   "execution_count": 397,
   "metadata": {},
   "outputs": [],
   "source": [
    "y_pred_test_full_lgb = lgbm_clf.predict(test_df_2)\n",
    "y_pred_test_full_lr = logreg.predict(test_df_2)"
   ]
  },
  {
   "cell_type": "code",
   "execution_count": 398,
   "metadata": {},
   "outputs": [],
   "source": [
    "import numpy as np\n",
    "\n",
    "# Combine the predictions into a single array\n",
    "ensemble_preds = np.array([y_pred_test_full_lgb, y_pred_test_full_lr, y_pred_test_xgb])\n",
    "\n",
    "# Take the mode (most common value) of each row to get the final ensemble prediction\n",
    "final_preds = np.apply_along_axis(lambda x: np.argmax(np.bincount(x)), axis=0, arr=ensemble_preds)\n",
    "\n",
    "final_preds = final_preds.reshape(-1,)"
   ]
  },
  {
   "cell_type": "code",
   "execution_count": 399,
   "metadata": {},
   "outputs": [
    {
     "data": {
      "text/html": [
       "<div>\n",
       "<style scoped>\n",
       "    .dataframe tbody tr th:only-of-type {\n",
       "        vertical-align: middle;\n",
       "    }\n",
       "\n",
       "    .dataframe tbody tr th {\n",
       "        vertical-align: top;\n",
       "    }\n",
       "\n",
       "    .dataframe thead th {\n",
       "        text-align: right;\n",
       "    }\n",
       "</style>\n",
       "<table border=\"1\" class=\"dataframe\">\n",
       "  <thead>\n",
       "    <tr style=\"text-align: right;\">\n",
       "      <th></th>\n",
       "      <th>PassengerId</th>\n",
       "      <th>Survived</th>\n",
       "    </tr>\n",
       "  </thead>\n",
       "  <tbody>\n",
       "    <tr>\n",
       "      <th>0</th>\n",
       "      <td>892</td>\n",
       "      <td>0</td>\n",
       "    </tr>\n",
       "    <tr>\n",
       "      <th>1</th>\n",
       "      <td>893</td>\n",
       "      <td>0</td>\n",
       "    </tr>\n",
       "    <tr>\n",
       "      <th>2</th>\n",
       "      <td>894</td>\n",
       "      <td>0</td>\n",
       "    </tr>\n",
       "    <tr>\n",
       "      <th>3</th>\n",
       "      <td>895</td>\n",
       "      <td>0</td>\n",
       "    </tr>\n",
       "    <tr>\n",
       "      <th>4</th>\n",
       "      <td>896</td>\n",
       "      <td>1</td>\n",
       "    </tr>\n",
       "  </tbody>\n",
       "</table>\n",
       "</div>"
      ],
      "text/plain": [
       "   PassengerId  Survived\n",
       "0          892         0\n",
       "1          893         0\n",
       "2          894         0\n",
       "3          895         0\n",
       "4          896         1"
      ]
     },
     "execution_count": 399,
     "metadata": {},
     "output_type": "execute_result"
    }
   ],
   "source": [
    "submission = pd.DataFrame({'PassengerId':sample['PassengerId'],'Survived':final_preds})\n",
    "submission.head()"
   ]
  },
  {
   "cell_type": "code",
   "execution_count": null,
   "metadata": {},
   "outputs": [],
   "source": [
    "submission.to_csv('ens_xgb_lgbm_lr_fulldata_subs.csv',index=False)"
   ]
  }
 ],
 "metadata": {
  "kernelspec": {
   "display_name": "Python 3",
   "language": "python",
   "name": "python3"
  },
  "language_info": {
   "codemirror_mode": {
    "name": "ipython",
    "version": 3
   },
   "file_extension": ".py",
   "mimetype": "text/x-python",
   "name": "python",
   "nbconvert_exporter": "python",
   "pygments_lexer": "ipython3",
   "version": "3.10.8"
  },
  "orig_nbformat": 4
 },
 "nbformat": 4,
 "nbformat_minor": 2
}
