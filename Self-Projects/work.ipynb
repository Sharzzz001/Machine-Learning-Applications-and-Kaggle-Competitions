{
 "cells": [
  {
   "cell_type": "code",
   "execution_count": null,
   "metadata": {},
   "outputs": [],
   "source": [
    "import pandas as pd\n",
    "\n",
    "def adjust_and_aggregate(df):\n",
    "    # Step 1: Count how many months each (ISIN, Fund House) combination appears\n",
    "    counts = df.groupby(['ISIN', 'Fund House']).size().reset_index(name='Month_Count')\n",
    "    \n",
    "    # Step 2: Merge the counts back with the original dataframe\n",
    "    df = df.merge(counts, on=['ISIN', 'Fund House'], how='left')\n",
    "    \n",
    "    # Step 3: Adjust USD Difference and % Difference for ISINs that appear in all 3 months\n",
    "    df['Adjusted_USD_Difference'] = df.apply(lambda row: row['USD Difference'] / 3 if row['Month_Count'] == 3 else row['USD Difference'], axis=1)\n",
    "    df['Adjusted_%_Difference'] = df.apply(lambda row: row['% Difference'] / 3 if row['Month_Count'] == 3 else row['% Difference'], axis=1)\n",
    "    \n",
    "    # Step 4: Aggregate by Fund House to get the total adjusted USD difference\n",
    "    result = df.groupby('Fund House').agg({\n",
    "        'Adjusted_USD_Difference': 'sum'\n",
    "    }).reset_index()\n",
    "    \n",
    "    # Step 5: Find the Fund House with the highest total USD difference\n",
    "    top_fund_house = result.loc[result['Adjusted_USD_Difference'].idxmax()]\n",
    "    \n",
    "    return result, top_fund_house\n",
    "\n",
    "# Example usage\n",
    "data = {\n",
    "    'Month': ['Jan', 'Feb', 'Mar', 'Jan', 'Feb', 'Mar', 'Jan', 'Feb'],\n",
    "    'ISIN': ['123', '123', '123', '456', '456', '456', '789', '789'],\n",
    "    'Trader Name': ['Trader A', 'Trader A', 'Trader A', 'Trader B', 'Trader B', 'Trader B', 'Trader C', 'Trader C'],\n",
    "    'USD Difference': [1000, 2000, -500, 1500, 2500, 2000, -300, -200],\n",
    "    '% Difference': [10, 20, -5, 15, 25, 20, -3, -2],\n",
    "    'Fund House': ['Fund X', 'Fund X', 'Fund X', 'Fund Y', 'Fund Y', 'Fund Y', 'Fund Z', 'Fund Z']\n",
    "}\n",
    "\n",
    "df = pd.DataFrame(data)\n",
    "\n",
    "# Get the results\n",
    "aggregated_data, top_fund_house = adjust_and_aggregate(df)\n",
    "\n",
    "print(\"Aggregated Data:\")\n",
    "print(aggregated_data)\n",
    "\n",
    "print(\"\\nTop Fund House:\")\n",
    "print(top_fund_house)\n"
   ]
  }
 ],
 "metadata": {
  "kernelspec": {
   "display_name": "Python 3",
   "language": "python",
   "name": "python3"
  },
  "language_info": {
   "codemirror_mode": {
    "name": "ipython",
    "version": 3
   },
   "file_extension": ".py",
   "mimetype": "text/x-python",
   "name": "python",
   "nbconvert_exporter": "python",
   "pygments_lexer": "ipython3",
   "version": "3.10.8"
  }
 },
 "nbformat": 4,
 "nbformat_minor": 2
}
