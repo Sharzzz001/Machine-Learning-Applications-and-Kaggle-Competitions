{
 "cells": [
  {
   "cell_type": "code",
   "execution_count": null,
   "metadata": {},
   "outputs": [],
   "source": [
    "import pandas as pd\n",
    "\n",
    "# Sample dataframe\n",
    "data = {\n",
    "    'O/S Cash USD': [100, 200, 150, 300, 400],\n",
    "    'Cpty Name': ['Company A', 'Company B', 'Company A', 'Company C', 'Company B'],\n",
    "    'Treated_Comments': ['Comment1', 'Comment2', 'Comment3', 'Comment4', 'Comment5'],\n",
    "    'Treated_Fails_code': ['Code1', 'Code2', 'Code1', 'Code2', 'Code1']\n",
    "}\n",
    "\n",
    "df = pd.DataFrame(data)\n",
    "\n",
    "# Group by 'Treated_Fails_code' and 'Cpty Name', then count occurrences\n",
    "grouped = df.groupby(['Treated_Fails_code', 'Cpty Name']).size().reset_index(name='Count')\n",
    "\n",
    "# Sort by 'Treated_Fails_code' and 'Count' in descending order\n",
    "sorted_grouped = grouped.sort_values(by=['Treated_Fails_code', 'Count'], ascending=[True, False])\n",
    "\n",
    "# Save the result to an Excel file\n",
    "output_file = 'fails_code_counts.xlsx'\n",
    "with pd.ExcelWriter(output_file) as writer:\n",
    "    sorted_grouped.to_excel(writer, sheet_name='Fails_Code_Counts', index=False)\n",
    "\n",
    "print(f\"Data saved to {output_file}\")\n"
   ]
  }
 ],
 "metadata": {
  "kernelspec": {
   "display_name": "Python 3",
   "language": "python",
   "name": "python3"
  },
  "language_info": {
   "codemirror_mode": {
    "name": "ipython",
    "version": 3
   },
   "file_extension": ".py",
   "mimetype": "text/x-python",
   "name": "python",
   "nbconvert_exporter": "python",
   "pygments_lexer": "ipython3",
   "version": "3.10.8"
  }
 },
 "nbformat": 4,
 "nbformat_minor": 2
}
